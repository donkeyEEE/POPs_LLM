{
 "cells": [
  {
   "cell_type": "markdown",
   "metadata": {},
   "source": [
    "![](p\\LangGraph问答系统.excalidraw.png)"
   ]
  },
  {
   "cell_type": "markdown",
   "metadata": {},
   "source": [
    "## 基于langgraph的问答系统后端"
   ]
  },
  {
   "cell_type": "markdown",
   "metadata": {},
   "source": []
  },
  {
   "cell_type": "code",
   "execution_count": 1,
   "metadata": {},
   "outputs": [],
   "source": [
    "import os\n",
    "os.chdir('E:\\学习\\python\\py_codbase\\PK_LLM')"
   ]
  },
  {
   "cell_type": "code",
   "execution_count": 2,
   "metadata": {},
   "outputs": [],
   "source": [
    "# nodes\n",
    "from langchain_core.runnables import Runnable\n",
    "from langchain_core.prompts import PromptTemplate\n",
    "from langchain_openai import ChatOpenAI\n",
    "from langchain_core.pydantic_v1 import BaseModel, Field\n",
    "from typing import List\n",
    "from PK_LLM_endfront.loggs import logger"
   ]
  },
  {
   "cell_type": "code",
   "execution_count": 3,
   "metadata": {},
   "outputs": [
    {
     "data": {
      "text/plain": [
       "'\\nr= Intent_analyze({\\'question\\':\\'你是谁\\',\\'history\\':\"\"})\\nprint(r)\\n'"
      ]
     },
     "execution_count": 3,
     "metadata": {},
     "output_type": "execute_result"
    }
   ],
   "source": [
    "def get_intent_analyze_chain()->Runnable:\n",
    "    llm = ChatOpenAI()\n",
    "    template = \"\"\"\n",
    "您是一个问题重写器，可以结合对话历史将输入问题转换为一个更好的版本，这个版本针对向量存储检索进行了优化。 \n",
    "查看并尝试推理其背后的语义意图/含义。\n",
    "并且请你分析要回答此问题你是否需要额外的信息\n",
    "***\n",
    "用户问题：{question}\n",
    "对话历史: {history}\n",
    "\"\"\"\n",
    "    class intent_output(BaseModel):\n",
    "        retrieval:bool = Field(description=\"是否需要额外信息，已用于处理复杂的问题，若此问题你可以自行解决则不需要额外信息\")\n",
    "        question:str = Field(description=\"优化版本的问题\")\n",
    "    \n",
    "    prompt = PromptTemplate(\n",
    "        input_variables=['question','history'],\n",
    "        template=template\n",
    "    )\n",
    "    return prompt|llm.with_structured_output(intent_output)\n",
    "    \n",
    "def Intent_analyze(input:dict)->dict:\n",
    "    \"\"\"分析用户需求\n",
    "    Args:\n",
    "        input (dict): {'question','history'}\n",
    "    Returns:\n",
    "        dict: {'retrieval':bool,'question':question_transform}\n",
    "    \"\"\"\n",
    "    print(\"---Doing Intent_analyze---\")\n",
    "    _Chain = get_intent_analyze_chain()\n",
    "    question = input.get('question','')\n",
    "    history = input.get('history','')\n",
    "    output = _Chain.invoke({'question':question,'history':history})\n",
    "    print(output)\n",
    "    logger.info(f'{question} has been transformed into {output.question}')\n",
    "    \n",
    "    return {'retrieval':output.retrieval,'question':output.question}\n",
    "\"\"\"\n",
    "r= Intent_analyze({'question':'你是谁','history':\"\"})\n",
    "print(r)\n",
    "\"\"\""
   ]
  },
  {
   "cell_type": "code",
   "execution_count": 4,
   "metadata": {},
   "outputs": [
    {
     "data": {
      "text/plain": [
       "\"\\nr = Router({'question':'如何解决PFAS污染问题'})\\nprint(r)\\n\""
      ]
     },
     "execution_count": 4,
     "metadata": {},
     "output_type": "execute_result"
    }
   ],
   "source": [
    "import random\n",
    "def get_router_chain()->Runnable:\n",
    "    llm = ChatOpenAI(temperature=0.9)\n",
    "    template = \"\"\"\n",
    "你是一个能将用户问题路由到不同知识库的专家，你将分析用户问题，\n",
    "并且给出应该从哪些知识库中检索数据，注意你的输出是一个列表，其中元素为代号\n",
    "选择标准：\n",
    "* 需要尽可能少的选择需要的知识库\n",
    "* 注意你的输出的数量控制在三个以内，比如[1,2,4]\n",
    "***\n",
    "问题：{question}\n",
    "\n",
    "知识库代号和内容的对应关系如下：\n",
    "1  ---》 Analytical_Methods:分析方法\n",
    "2  ---》 Environmenta_Exposure：环境暴露\n",
    "3  ---》 Environmental_Behavior：环境行为\n",
    "4  ---》 Biological_Behavior：生物行为\n",
    "5  ---》 Toxicity：毒性\n",
    "6  ---》 Health Risk：人类风险\n",
    "\n",
    "\n",
    "***\n",
    "\n",
    "\"\"\"\n",
    "    class router_output(BaseModel):\n",
    "        domain:List[int] = Field(description=\"需要使用到的知识库列表，元素为知识库代号，注意你的输出的数量控制在三个以内\")\n",
    "    \n",
    "    prompt = PromptTemplate(\n",
    "        input_variables=['question'],\n",
    "        template= template\n",
    "    )\n",
    "    return prompt|llm.with_structured_output(router_output)\n",
    "\n",
    "def Router(input:dict)->dict:\n",
    "    \"\"\"检索任务分发\n",
    "    Args:\n",
    "        input (dict): {'question':question_transform}\n",
    "    Returns:\n",
    "        dict: {'domain':List[1,2,3,4,5,6]}\n",
    "    \"\"\"\n",
    "    print('---Doing Router---')\n",
    "    elements = [1, 2, 3, 4, 5, 6]\n",
    "    _d = random.sample(elements, 2)\n",
    "    logger.info(f\"选择的知识库代号为：{_d}\")\n",
    "    return {'domain':_d}\n",
    "    \"\"\"\n",
    "    _chain = get_router_chain()\n",
    "    question = input.get('question','')\n",
    "    output = _chain.invoke({'question':question})\n",
    "    logger.info(f\"选择的知识库代号为：{output.domain}\")\n",
    "    return {'domain':output.domain}\n",
    "    \"\"\"\n",
    "    \n",
    "\"\"\"\n",
    "r = Router({'question':'如何解决PFAS污染问题'})\n",
    "print(r)\n",
    "\"\"\""
   ]
  },
  {
   "cell_type": "code",
   "execution_count": 5,
   "metadata": {},
   "outputs": [
    {
     "data": {
      "text/plain": [
       "\"\\nr= Retrievers({'question':'如何解决PFAS污染','domain':[1,2,4]})\\nprint(r)\\n\""
      ]
     },
     "execution_count": 5,
     "metadata": {},
     "output_type": "execute_result"
    }
   ],
   "source": [
    "from PK_LLM_endfront.D_retriever.chains import RagChain_with_context\n",
    "def Retrievers(input:dict)->dict:\n",
    "    \"\"\"选择性进行双层检索\n",
    "    Args:\n",
    "        input (dict): {'question':question_transform,'domain':List[1,2,3,4,5,6]}\n",
    "    Returns:\n",
    "        dict: {'context':List[str]}\n",
    "    \"\"\"\n",
    "    print('---Doing Retrievers---')\n",
    "    context = []\n",
    "    for _ in input.get('domain',''):\n",
    "        if _ in [1,2,3,4,5,6]:\n",
    "            _ragchain = RagChain_with_context(kb_id=_,if_answer = False)\n",
    "        else:\n",
    "            logger.warning(f\"get wrong domain :'{_}'\")\n",
    "            continue\n",
    "        r = _ragchain.answer_func(input.get('question',''))\n",
    "        logger.info(f\"domain {_} get {len(r['context'])} context\")\n",
    "        context+=r['context']\n",
    "    return {'context':context}\n",
    "\"\"\"\n",
    "r= Retrievers({'question':'如何解决PFAS污染','domain':[1,2,4]})\n",
    "print(r)\n",
    "\"\"\""
   ]
  },
  {
   "cell_type": "code",
   "execution_count": 6,
   "metadata": {},
   "outputs": [
    {
     "data": {
      "text/plain": [
       "\"\\nr= Reranker({'context':[i for i in range(20)]})\\nlen(r['context'])\\n\""
      ]
     },
     "execution_count": 6,
     "metadata": {},
     "output_type": "execute_result"
    }
   ],
   "source": [
    "\n",
    "import random\n",
    "def Reranker(input:dict)->dict:\n",
    "    \"\"\"对多个问答进行打分并且重排\n",
    "    Args:\n",
    "        input (dict):{'context':List[str],'question':question_transform}\n",
    "    Returns:\n",
    "        dict: {'context':List[str]}\n",
    "    \"\"\"\n",
    "    print('---Doing Reranker---')\n",
    "    # 获取context列表\n",
    "    context_list = input.get('context', [])\n",
    "    # 确保context列表不为空\n",
    "    if not context_list:\n",
    "        raise ValueError(\"Context list is empty.\")\n",
    "    # 随机选择不超过10个元素\n",
    "    selected_context = random.sample(context_list, min(10, len(context_list)))\n",
    "    # 返回结果\n",
    "    return {'context': selected_context}\n",
    "\"\"\"\n",
    "r= Reranker({'context':[i for i in range(20)]})\n",
    "len(r['context'])\n",
    "\"\"\""
   ]
  },
  {
   "cell_type": "code",
   "execution_count": 7,
   "metadata": {},
   "outputs": [
    {
     "data": {
      "text/plain": [
       "\"\\nr = Web_searcher({'question':'什么是PFAS'})\\nr\\n\""
      ]
     },
     "execution_count": 7,
     "metadata": {},
     "output_type": "execute_result"
    }
   ],
   "source": [
    "### Search\n",
    "\n",
    "from langchain_community.tools.tavily_search import TavilySearchResults\n",
    "\n",
    "web_search_tool = TavilySearchResults(k=3)\n",
    "\n",
    "def Web_searcher(input:dict)->dict:\n",
    "    \"\"\"网络搜索工具\n",
    "    Args:\n",
    "        input (dict): {'question':question_transform}\n",
    "\n",
    "    Returns:\n",
    "        dict: {'question':question_transform,'context':List[str]}\n",
    "    \"\"\"\n",
    "    print(\"---WEB SEARCH---\")\n",
    "    question = input[\"question\"]\n",
    "\n",
    "    # Web search\n",
    "    docs = web_search_tool.invoke({\"query\": question})\n",
    "    web_results = [d[\"content\"] for d in docs]\n",
    "    return {\"context\": web_results, \"question\": question}\n",
    "\"\"\"\n",
    "r = Web_searcher({'question':'什么是PFAS'})\n",
    "r\n",
    "\"\"\""
   ]
  },
  {
   "cell_type": "code",
   "execution_count": 8,
   "metadata": {},
   "outputs": [],
   "source": [
    "from langchain_core.output_parsers import StrOutputParser\n",
    "def Generater(input:dict)->dict:\n",
    "    \"\"\"基于信息回答问题\n",
    "    Args:\n",
    "        input (dict): {'context':List[str],'question':question_transform}\n",
    "\n",
    "    Returns:\n",
    "        dict: {'context':List[str],'question':question_transform,'output':generation}\n",
    "    \"\"\"\n",
    "    print('---Doing Generater---')\n",
    "    context = input['context']\n",
    "    _context ='\\n'.join(context)\n",
    "    \n",
    "    template = \"\"\"\n",
    "作为化学专家，你按照以下详细步骤回答问题：\n",
    "\n",
    "1. **分析问题**：仔细阅读问题，理解其关键点和所需信息的类型。识别相关的化学和环境科学知识，并考虑问题的背景。\n",
    "\n",
    "2. **审查文档内容**：仔细阅读并且理解提供的文档，从中寻找相关的事实、数据和证据。注意关键细节，确保信息准确。\n",
    "\n",
    "3. 根据文档内容和提取的证据，创建一个基于化学原理的连贯且详细的回答。确保答案逻辑清晰，并考虑可能的替代解释。\n",
    "\n",
    "4. **处理证据不足**：如果文档中没有足够的证据，明确说明无法回答或解释该问题。避免猜测，并建议可能的下一步，如进一步研究或数据收集。\n",
    "\n",
    "***\n",
    "问题：{question}\n",
    "***\n",
    "文档内容：\n",
    "{context}\n",
    "***\n",
    "**注意事项**\n",
    "- 确保每一步都基于证据，避免无根据的假设。\n",
    "- 使用专业的化学术语，确保答案清晰易懂。\n",
    "\n",
    "\"\"\"\n",
    "    \n",
    "    prompt = PromptTemplate(\n",
    "        input_variables=['question','context'],\n",
    "        template=template\n",
    "    )\n",
    "    llm = ChatOpenAI(temperature=0.9)\n",
    "    \n",
    "    _chain = prompt | llm |StrOutputParser()\n",
    "    r = _chain.invoke({'question':input['question'],'context':_context})\n",
    "    return {'output':r}\n",
    "\n",
    "def Generater_dirctly(input:dict)->dict:\n",
    "    \"\"\"直接回答问题\n",
    "    Args:\n",
    "        input (dict): {'question':question_transform}\n",
    "\n",
    "    Returns:\n",
    "        dict: {'question':question_transform,'output':generation}\n",
    "    \"\"\"\n",
    "    print('---Doing Generater_dirctly---')\n",
    "    llm = ChatOpenAI()\n",
    "    chain = llm |StrOutputParser()\n",
    "    r = chain.invoke(input['question']) \n",
    "    return {'output':r}"
   ]
  },
  {
   "cell_type": "code",
   "execution_count": 9,
   "metadata": {},
   "outputs": [],
   "source": [
    "def _Web_search(input):\n",
    "    return input"
   ]
  },
  {
   "cell_type": "code",
   "execution_count": 10,
   "metadata": {},
   "outputs": [],
   "source": [
    "\n",
    "# edges\n",
    "def Retrieval_manager(input:dict)->str:\n",
    "    print('---Doing Retrieval_manager---')\n",
    "    print(input)\n",
    "    if input['retrieval']:\n",
    "        logger.info(f\"{input['question'] } need retrieval\")\n",
    "        return  'Retrievers'\n",
    "    else:\n",
    "        logger.info(f\"{input['question'] } don't need retrieval\")\n",
    "        return 'Web_search'\n",
    "\n",
    "def Web_search_manager(input:dict)->str:\n",
    "    \"\"\"选择是否继续web search\n",
    "    Args:\n",
    "        input (dict): {'question':question_transform}\n",
    "    \"\"\"\n",
    "    print('---Doing Web_search_manager---')\n",
    "    llm = ChatOpenAI()\n",
    "    class if_r(BaseModel):\n",
    "        retrieval:bool =Field(description='是否需要进行网络检索')\n",
    "    prompt = PromptTemplate(\n",
    "        input_variables=['question'],\n",
    "        template=\"你是一个网络检索判断器，你需要判断要解决此问题，你是否需要进行有关网络的检索增强\\n\\n{question}\"\n",
    "    )\n",
    "    \n",
    "    chain = prompt |llm.with_structured_output(if_r)\n",
    "    r = chain.invoke({'question':input['question']})\n",
    "    if r.retrieval:\n",
    "        return  'Web_searcher'\n",
    "    else:\n",
    "        return 'end'"
   ]
  },
  {
   "cell_type": "code",
   "execution_count": 11,
   "metadata": {},
   "outputs": [],
   "source": [
    "# Graph state\n",
    "from typing_extensions import TypedDict\n",
    "from typing import List\n",
    "\n",
    "class Graph_State(TypedDict):\n",
    "    \"\"\"图状态\n",
    "    Args:\n",
    "        question: question\n",
    "        history\n",
    "        context\n",
    "    \"\"\"\n",
    "    retrieval:bool\n",
    "    question:str\n",
    "    history:str\n",
    "    context:List[str] =[]\n",
    "    output:str\n",
    "    domain:List[int]\n"
   ]
  },
  {
   "cell_type": "code",
   "execution_count": 12,
   "metadata": {},
   "outputs": [],
   "source": [
    "# 初始化\n",
    "from langgraph.graph import END, StateGraph\n",
    "workflow = StateGraph(Graph_State)\n",
    "workflow.set_entry_point(\"Intent_analyze\")\n",
    "\n",
    "workflow.add_node('Intent_analyze',Intent_analyze)\n",
    "workflow.add_node('Router',Router)\n",
    "workflow.add_node('Retrievers',Retrievers)\n",
    "workflow.add_node('Reranker',Reranker)\n",
    "workflow.add_node('_Web_search',_Web_search)\n",
    "workflow.add_node('Web_searcher',Web_searcher)\n",
    "workflow.add_node('Generater_dirctly',Generater_dirctly)\n",
    "workflow.add_node('Generater',Generater)\n",
    "\n",
    "\n",
    "workflow.add_edge('Router','Retrievers')\n",
    "workflow.add_edge('Retrievers','Reranker')\n",
    "workflow.add_edge('Reranker','Generater')\n",
    "workflow.add_edge('Web_searcher','Generater')\n",
    "workflow.add_edge('Generater',END)\n",
    "workflow.add_edge('Generater_dirctly',END)\n",
    "\n",
    "workflow.add_conditional_edges(\n",
    "    'Intent_analyze',\n",
    "    Retrieval_manager,\n",
    "    {\n",
    "        'Retrievers':'Router',\n",
    "        'Web_search':'_Web_search'\n",
    "    }\n",
    ")\n",
    "\n",
    "workflow.add_conditional_edges(\n",
    "    '_Web_search',\n",
    "    Web_search_manager,\n",
    "    {\n",
    "        'Web_searcher':'Web_searcher',\n",
    "        'end':'Generater_dirctly',\n",
    "    }\n",
    ")\n",
    "\n",
    "app = workflow.compile()"
   ]
  },
  {
   "cell_type": "code",
   "execution_count": 13,
   "metadata": {},
   "outputs": [
    {
     "name": "stdout",
     "output_type": "stream",
     "text": [
      "---Doing Intent_analyze---\n"
     ]
    },
    {
     "name": "stderr",
     "output_type": "stream",
     "text": [
      "\u001b[32m2024-05-15 17:41:31.028\u001b[0m | \u001b[1mINFO    \u001b[0m | \u001b[36m__main__\u001b[0m:\u001b[36mIntent_analyze\u001b[0m:\u001b[36m34\u001b[0m - \u001b[1m如何处理PFAS的污染 has been transformed into 如何处理PFAS的污染\u001b[0m\n",
      "\u001b[32m2024-05-15 17:41:31.030\u001b[0m | \u001b[1mINFO    \u001b[0m | \u001b[36m__main__\u001b[0m:\u001b[36mRetrieval_manager\u001b[0m:\u001b[36m6\u001b[0m - \u001b[1m如何处理PFAS的污染 need retrieval\u001b[0m\n",
      "\u001b[32m2024-05-15 17:41:31.034\u001b[0m | \u001b[1mINFO    \u001b[0m | \u001b[36m__main__\u001b[0m:\u001b[36mRouter\u001b[0m:\u001b[36m44\u001b[0m - \u001b[1m选择的知识库代号为：[6, 4]\u001b[0m\n"
     ]
    },
    {
     "name": "stdout",
     "output_type": "stream",
     "text": [
      "retrieval=True question='如何处理PFAS的污染'\n",
      "---Doing Retrieval_manager---\n",
      "{'retrieval': True, 'question': '如何处理PFAS的污染', 'history': ''}\n",
      "---Doing Router---\n",
      "---Doing Retrievers---\n"
     ]
    },
    {
     "name": "stderr",
     "output_type": "stream",
     "text": [
      "c:\\Users\\donkey\\.conda\\envs\\langchain_test\\Lib\\site-packages\\langchain_core\\_api\\beta_decorator.py:87: LangChainBetaWarning: The function `loads` is in beta. It is actively being worked on, so the API may change.\n",
      "  warn_beta(\n",
      "\u001b[32m2024-05-15 17:41:48.856\u001b[0m | \u001b[1mINFO    \u001b[0m | \u001b[36m__main__\u001b[0m:\u001b[36mRetrievers\u001b[0m:\u001b[36m18\u001b[0m - \u001b[1mdomain 6 get 7 context\u001b[0m\n"
     ]
    },
    {
     "name": "stdout",
     "output_type": "stream",
     "text": [
      "length context = 7\n"
     ]
    },
    {
     "name": "stderr",
     "output_type": "stream",
     "text": [
      "\u001b[32m2024-05-15 17:42:07.411\u001b[0m | \u001b[1mINFO    \u001b[0m | \u001b[36m__main__\u001b[0m:\u001b[36mRetrievers\u001b[0m:\u001b[36m18\u001b[0m - \u001b[1mdomain 4 get 7 context\u001b[0m\n"
     ]
    },
    {
     "name": "stdout",
     "output_type": "stream",
     "text": [
      "length context = 7\n",
      "---Doing Reranker---\n",
      "---Doing Generater---\n"
     ]
    }
   ],
   "source": [
    "r = app.invoke({'question':'如何处理PFAS的污染','history':''})"
   ]
  },
  {
   "cell_type": "code",
   "execution_count": 16,
   "metadata": {},
   "outputs": [
    {
     "name": "stdout",
     "output_type": "stream",
     "text": [
      "根据提供的文档内容，处理PFAS污染的步骤可能包括以下几点：\n",
      "\n",
      "1. **了解PFASs的概况**：首先，需要了解PFASs（全氟烷基物质）的种类、分布和与生态系统以及人类健康的关系。文档提到了PFOS、PFOA、PFHxS等PFASs的普遍存在和对生物体的潜在威胁。\n",
      "\n",
      "2. **研究PFASs在生物体中的残留情况**：文档提到了在不同水生动物中检测到PFASs的情况，以及长链和短链PFASs在生物体中的分布。这对于评估生物富集和生物放大的潜在影响是至关重要的。\n",
      "\n",
      "3. **分析PFASs的生物富集和生物放大**：从文档中提到的BAFs、BMFs和TMFs等数据可以看出，在生态食物链中PFASs有生物富集和生物放大的趋势。这需要进一步研究以了解更多关于PFASs在生态系统中的传播和影响。\n",
      "\n",
      "4. **评估PFASs的风险**：除了了解PFASs在生态系统中的行为，还需要评估其对人类健康的风险。文档中提到了PFASs对人体健康的潜在影响，如内分泌干扰和毒性效应，需要考虑这些风险因素。\n",
      "\n",
      "5. **寻找新的处理方法**：最后，鉴于PFASs对环境和健康的影响，需要寻找新的处理方法来减少PFASs的污染。可以考虑研究新的技术或方法来清除水体或土壤中的PFASs。\n",
      "\n",
      "综合以上步骤，处理PFAS污染的关键是深入了解PFASs在生态系统中的行为和对人类健康的风险，同时寻找适当的处理方法以减少其对环境和人类健康的影响。这需要跨学科和跨部门的合作，以制定有效的解决方案来防止和减轻PFASs污染带来的危害。\n"
     ]
    }
   ],
   "source": [
    "print(r['output'])"
   ]
  },
  {
   "cell_type": "code",
   "execution_count": 15,
   "metadata": {},
   "outputs": [
    {
     "data": {
      "image/jpeg": "[encoded data removed]",
      "text/plain": [
       "<IPython.core.display.Image object>"
      ]
     },
     "metadata": {},
     "output_type": "display_data"
    }
   ],
   "source": [
    "from IPython.display import Image, display\n",
    "\n",
    "\n",
    "display(Image(app.get_graph().draw_mermaid_png()))\n"
   ]
  },
  {
   "cell_type": "code",
   "execution_count": null,
   "metadata": {},
   "outputs": [],
   "source": []
  }
 ],
 "metadata": {
  "kernelspec": {
   "display_name": "langchain_test",
   "language": "python",
   "name": "python3"
  },
  "language_info": {
   "codemirror_mode": {
    "name": "ipython",
    "version": 3
   },
   "file_extension": ".py",
   "mimetype": "text/x-python",
   "name": "python",
   "nbconvert_exporter": "python",
   "pygments_lexer": "ipython3",
   "version": "3.11.0"
  }
 },
 "nbformat": 4,
 "nbformat_minor": 2
}
