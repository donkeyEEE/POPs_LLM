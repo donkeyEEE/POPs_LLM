{
 "cells": [
  {
   "cell_type": "code",
   "execution_count": 1,
   "metadata": {},
   "outputs": [],
   "source": [
    "import os\n",
    "os.chdir('E:\\学习\\python\\py_codbase\\POPs_LLM')"
   ]
  },
  {
   "cell_type": "code",
   "execution_count": 2,
   "metadata": {},
   "outputs": [],
   "source": [
    "# nodes\n",
    "from langchain_core.runnables import Runnable\n",
    "from langchain_core.prompts import PromptTemplate\n",
    "from langchain_openai import ChatOpenAI\n",
    "from langchain_core.pydantic_v1 import BaseModel, Field\n",
    "from typing import List,Dict\n",
    "from PK_LLM_endfront.loggs import logger"
   ]
  },
  {
   "cell_type": "code",
   "execution_count": 16,
   "metadata": {},
   "outputs": [],
   "source": [
    "def get_first_chain()->Runnable:\n",
    "    llm = ChatOpenAI(temperature=0.9)\n",
    "    template = \"\"\"\n",
    "# Role：环境领域问答机器人\n",
    "\n",
    "## Background：该角色是一个专门为环境领域专业人士设计的问答机器人，能够提供关于气候变化、可持续发展、环境保护法规等方面的最新研究成果和政策解读。\n",
    "\n",
    "## Attention：请确保您的回答准确、深入，并且包含最新的研究成果。\n",
    "\n",
    "## Constraints:\n",
    "- 确保回答的准确性和深度。\n",
    "- 包含最新的研究成果和数据分析。\n",
    "- 回答风格适合专业人士。\n",
    "\n",
    "## Goals:\n",
    "- 提供关于气候变化、可持续发展、环境保护法规，环境污染物等方面的专业信息。\n",
    "- 包含最新的研究成果。\n",
    "- 解读相关政策，并提供专业见解。\n",
    "\n",
    "## Skills:\n",
    "- 精通环境科学和相关政策。\n",
    "- 熟悉最新的环境研究动态。\n",
    "\n",
    "## Workflow:\n",
    "1. 接收专业人士关于环境领域的问题。\n",
    "2. 分析问题，确定回答的思路\n",
    "3. 提供最新的研究成果、数据和政策信息。\n",
    "4. 整合信息，提供准确、深入的回答。\n",
    "\n",
    "## OutputFormat:\n",
    "- 使用和问题相同的语言回答\n",
    "- 回答应包含问题的核心内容。\n",
    "- 提供最新的研究成果和数据分析。\n",
    "- 包含对相关政策的解读和见解。\n",
    "\n",
    "## Suggestions:\n",
    "- 确保回答的准确性和深度。\n",
    "- 提供最新的研究成果和数据分析。\n",
    "- 包含对相关政策的解读和见解。\n",
    "\n",
    "## Initialization\n",
    "作为一个环境领域的问答机器人，你必须专注于提供关于气候变化、可持续发展、环境保护法规等主题的准确深入的信息，遵守约束条件，遵循工作流程，并运用你的技能生成符合输出格式的内容。\n",
    "\n",
    "# 问题\n",
    "{question}\n",
    "\"\"\"\n",
    "    prompt = PromptTemplate(\n",
    "        input_variables=['question'],\n",
    "        template=template\n",
    "    )\n",
    "    class output_schema(BaseModel):\n",
    "        answer:str = Field(description='答案')\n",
    "    return prompt |llm.with_structured_output(output_schema)\n",
    "\n",
    "def get_intent_Chain()->Runnable:\n",
    "    llm = ChatOpenAI(temperature=0.2)\n",
    "    template = \"\"\"\n",
    "您是一个问题重写器，可以结合对话历史将输入问题改写为一个更好的版本， \n",
    "***\n",
    "用户问题：{question}\n",
    "对话历史: {history}\n",
    "\"\"\"\n",
    "    class intent_output(BaseModel):\n",
    "        question:str = Field(description=\"优化版本的问题\")\n",
    "    \n",
    "    prompt = PromptTemplate(\n",
    "        input_variables=['question','history'],\n",
    "        template=template\n",
    "    )\n",
    "    return prompt|llm.with_structured_output(intent_output)\n",
    "    \n",
    "\n",
    "def First_Answer(input:Dict)->dict:\n",
    "    \"\"\"初始回答器\n",
    "    Args:\n",
    "        input (dict): {'question','history'}\n",
    "    Returns:\n",
    "        dic\n",
    "    \"\"\"\n",
    "    intent_chain = get_intent_Chain()\n",
    "    fc = get_first_chain()\n",
    "    q_schema = intent_chain.invoke({'question':input['question'],'history':input['history']})\n",
    "    q = q_schema.question\n",
    "    print(q)\n",
    "    aa = fc.invoke({'question':q})\n",
    "    return {'question':q,'fa':aa.answer}"
   ]
  },
  {
   "cell_type": "code",
   "execution_count": 19,
   "metadata": {},
   "outputs": [
    {
     "name": "stdout",
     "output_type": "stream",
     "text": [
      "如何处理PFAS化合物的污染\n"
     ]
    }
   ],
   "source": [
    "dic =First_Answer({'question':'如何处理这种化合物的污染','history':'什么是PFAS'})"
   ]
  },
  {
   "cell_type": "code",
   "execution_count": 20,
   "metadata": {},
   "outputs": [
    {
     "data": {
      "text/plain": [
       "{'question': '如何处理PFAS化合物的污染',\n",
       " 'fa': '处理PFAS化合物的污染需要采取多种综合措施。首先，可以采用物理方法如吸附、膜分离等将PFAS化合物从水体中去除。其次，化学方法如氧化、还原、光降解等也可用于降解PFAS化合物。另外，生物方法如生物吸附、生物降解等也是一种有效的处理方式。综合利用各种方法，可以有效减少PFAS化合物的污染，并保护环境和人类健康。'}"
      ]
     },
     "execution_count": 20,
     "metadata": {},
     "output_type": "execute_result"
    }
   ],
   "source": [
    "dic"
   ]
  },
  {
   "cell_type": "code",
   "execution_count": 29,
   "metadata": {},
   "outputs": [],
   "source": [
    "from langchain.output_parsers import StructuredOutputParser\n",
    "def Second_answer(input:Dict)->Dict:\n",
    "    prompt = PromptTemplate(\n",
    "        input_variables=['question','fa'],\n",
    "        template=\"\"\"\n",
    "请你完善此答案，使其更加详细，并且有逻辑\n",
    "问题：{question}\n",
    "答案：{fa}\n",
    "\"\"\"\n",
    "    )\n",
    "    llm = ChatOpenAI(model='gpt-4',temperature=0.9)\n",
    "    chain = prompt|llm \n",
    "    a = chain.invoke({'question':input['question'],'fa':input['fa']}).content\n",
    "    return {'a':a}"
   ]
  },
  {
   "cell_type": "code",
   "execution_count": 30,
   "metadata": {},
   "outputs": [],
   "source": [
    "Second_answer(dic)"
   ]
  },
  {
   "cell_type": "code",
   "execution_count": null,
   "metadata": {},
   "outputs": [],
   "source": []
  },
  {
   "cell_type": "markdown",
   "metadata": {},
   "source": []
  }
 ],
 "metadata": {
  "kernelspec": {
   "display_name": "langchain_test",
   "language": "python",
   "name": "python3"
  },
  "language_info": {
   "codemirror_mode": {
    "name": "ipython",
    "version": 3
   },
   "file_extension": ".py",
   "mimetype": "text/x-python",
   "name": "python",
   "nbconvert_exporter": "python",
   "pygments_lexer": "ipython3",
   "version": "3.11.0"
  }
 },
 "nbformat": 4,
 "nbformat_minor": 2
}
