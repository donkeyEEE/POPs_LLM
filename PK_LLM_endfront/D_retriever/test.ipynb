{
 "cells": [
  {
   "cell_type": "code",
   "execution_count": 2,
   "metadata": {},
   "outputs": [],
   "source": [
    "import os\n",
    "os.chdir('E:\\学习\\python\\py_codbase\\PK_LLM')\n",
    "OPENAI_API_KEY = os.getenv('OPENAI_API_KEY')\n",
    "os.environ[\"OPENAI_API_KEY\"] = OPENAI_API_KEY"
   ]
  },
  {
   "cell_type": "code",
   "execution_count": 3,
   "metadata": {},
   "outputs": [],
   "source": [
    "from PK_LLM_endfront.D_retriever.retrivers import load_VBs"
   ]
  },
  {
   "cell_type": "code",
   "execution_count": 4,
   "metadata": {},
   "outputs": [],
   "source": [
    "d1,d2 = load_VBs()"
   ]
  },
  {
   "cell_type": "code",
   "execution_count": 5,
   "metadata": {},
   "outputs": [],
   "source": [
    "from langchain.prompts import ChatPromptTemplate\n",
    "\n",
    "# RAG-Fusion: Related\n",
    "template = \"\"\"You are a helpful assistant that generates multiple search queries based on a single input query. \\n\n",
    "Generate multiple search queries related to: {question} \\n\n",
    "Output (4 queries):\"\"\"\n",
    "prompt_rag_fusion = ChatPromptTemplate.from_template(template)\n",
    "from langchain_core.output_parsers import StrOutputParser\n",
    "from langchain_openai import ChatOpenAI\n",
    "\n",
    "generate_queries = (\n",
    "    prompt_rag_fusion \n",
    "    | ChatOpenAI(temperature=0)\n",
    "    | StrOutputParser() \n",
    "    | (lambda x: x.split(\"\\n\"))\n",
    ")"
   ]
  },
  {
   "cell_type": "code",
   "execution_count": 11,
   "metadata": {},
   "outputs": [
    {
     "name": "stdout",
     "output_type": "stream",
     "text": [
      "What are the benefits and challenges of using synergistic sample preparation and multiple analytical techniques in untargeted metabolomics?\n"
     ]
    },
    {
     "data": {
      "text/plain": [
       "['1. What are the advantages of combining synergistic sample preparation techniques in untargeted metabolomics?',\n",
       " '2. How do multiple analytical techniques enhance the results of untargeted metabolomics studies?',\n",
       " '3. What are the challenges associated with integrating synergistic sample preparation methods and multiple analytical techniques in untargeted metabolomics?',\n",
       " '4. How can the benefits of using synergistic sample preparation and multiple analytical techniques in untargeted metabolomics outweigh the challenges?']"
      ]
     },
     "execution_count": 11,
     "metadata": {},
     "output_type": "execute_result"
    }
   ],
   "source": [
    "from PK_LLM_endfront.evaluation.eva_funcs import DataLoader\n",
    "data = DataLoader(filepath=\"_data\\QA\\\\1\\good_1.json\")\n",
    "record = next(data.get_data())\n",
    "q = record.data['Question']\n",
    "print(q)\n",
    "generate_queries.invoke(q)"
   ]
  },
  {
   "cell_type": "code",
   "execution_count": 18,
   "metadata": {},
   "outputs": [
    {
     "data": {
      "text/plain": [
       "6"
      ]
     },
     "execution_count": 18,
     "metadata": {},
     "output_type": "execute_result"
    }
   ],
   "source": [
    "from langchain.load import dumps, loads\n",
    "def reciprocal_rank_fusion(results: list[list], k=60)->list[set]:\n",
    "    \"\"\" 互惠排名融合方法，它接收多个排好序的文档列表\n",
    "        以及在RRF公式中使用的可选参数k \"\"\"\n",
    "    # 初始化一个字典，用于保存每个唯一文档的融合得分\n",
    "    fused_scores = {}\n",
    "    # 遍历每个排好序的文档列表\n",
    "    for docs in results:\n",
    "        # 遍历列表中的每个文档，以及它的排名（在列表中的位置）\n",
    "        for rank, doc in enumerate(docs):\n",
    "            # 将文档转换为字符串格式以用作键（假设文档可以序列化为JSON）\n",
    "            doc_str = dumps(doc)\n",
    "            # 如果文档尚未在fused_scores字典中，则添加它并初始化得分为0\n",
    "            if doc_str not in fused_scores:\n",
    "                fused_scores[doc_str] = 0\n",
    "            # 获取文档当前的得分，如果有的话\n",
    "            previous_score = fused_scores[doc_str]\n",
    "            # 使用RRF公式更新文档的得分：1 / (排名 + k)\n",
    "            fused_scores[doc_str] += 1 / (rank + k)\n",
    "\n",
    "    # 根据它们的融合得分以降序排序文档，以获得最终重新排序的结果\n",
    "    reranked_results = [\n",
    "        (loads(doc), score)\n",
    "        for doc, score in sorted(fused_scores.items(), key=lambda x: x[1], reverse=True)\n",
    "    ]\n",
    "\n",
    "    # 将重新排序的结果作为包含文档和其融合得分的元组列表返回\n",
    "    return reranked_results\n",
    "\n",
    "retriever = d1.as_retriever()\n",
    "retrieval_chain_rag_fusion = generate_queries | retriever.map() | reciprocal_rank_fusion\n",
    "docs = retrieval_chain_rag_fusion.invoke({\"question\": q})\n",
    "len(docs)"
   ]
  },
  {
   "cell_type": "code",
   "execution_count": 20,
   "metadata": {},
   "outputs": [
    {
     "data": {
      "text/plain": [
       "[(Document(page_content='Metabolomics samples like human urine or serum contain upwards of a few thousand metabolites, but individual analytical techniques can only characterize a few hundred metabolites at best. The uncertainty in metabolite identification commonly encountered in untargeted metabolomics adds to this low coverage problem. A multiplatform (multiple analytical techniques) approach can improve upon the number of metabolites reliably detected and correctly assigned. This can be further improved by applying synergistic sample preparation along with the use of combinatorial or sequential non-destructive and destructive techniques. Similarly, peak detection and metabolite identification strategies that employ multiple probabilistic approaches have led to better annotation decisions. Applying these techniques also addresses the issues of reproducibility found in single platform methods. Nevertheless, the analysis of large data sets from disparate analytical techniques presents unique challenges. While the general data processing workflow is similar across multiple platforms, many software packages are only fully capable of processing data types from a single analytical instrument. Traditional statistical methods such as principal component analysis were not designed to handle multiple, distinct data sets. Instead, multivariate analysis requires multiblock or other model types for understanding the contribution from multiple instruments. This review summarizes the advantages, limitations, and recent achievements of a multiplatform approach to untargeted metabolomics.', metadata={'doc_id': 'SL01-2-J'}),\n",
       "  0.06666666666666667),\n",
       " (Document(page_content=\"The strengths and limitations of existing mass spectrometry methods for metabolite detection and identification are discussed. A brief review is made of the methods available for quenching and extraction of cells or organisms prior to instrumental analysis. The techniques available for carrying out mass spectrometry-based profiling of metabolomes are discussed using the analysis of extracts from trypanosomes to illustrate various points regarding methods of separation and mass spectrometric analysis. The advantages of hydrophilic interaction chromatography (HILIC) for the analysis of polar metabolites are discussed. The challenges of data processing are outlined and illustrated using the example of ThermoFisher's Sieve software. The existing literature on applications of mass spectrometry to the profiling of parasite metabolomes is reviewed.\", metadata={'doc_id': 'SL01-217-J'}),\n",
       "  0.06478053939714437),\n",
       " (Document(page_content='Metabolomics, as a part of systems biology, has been widely applied in different fields of life science by studying the endogenous metabolites. The development and applications of liquid chromatography (LC) coupled with high resolution mass spectrometry (MS) greatly improve the achievable data quality in non-targeted metabolic profiling. However, there are still some emerging challenges to be covered in LC-MS based metabolomics. Here, recent approaches about sample collection and preparation, instrumental analysis, and data handling of LC-MS based metabolomics are summarized, especially in the analysis of clinical samples. Emphasis is put on the improvement of analytical techniques including the combination of different LC columns, isotope coded derivatization methods, pseudo-targeted LC-MS method, new data analysis algorithms and structural identification of important metabolites.', metadata={'doc_id': 'SL01-196-J'}),\n",
       "  0.04918032786885246),\n",
       " (Document(page_content='How confident can we be in the assignment of metabolite structures? Are the analytical techniques used sufficient to support hypotheses about what is being formed? In this Feature, we discuss the results of an extensive survey into the analytical techniques used, and their value in the characterisation of metabolites. The survey covers the structures of over 16000 metabolites formed from 1732 query compounds, covering over 35 years of the literature and a variety of journals. The value of different characterisation techniques is considered, alongside or in the absence of synthetic standards. The changes in analytical techniques used over time are briefly considered, and a metric for the confidence that a claimed metabolite has been confirmed is proposed.', metadata={'doc_id': 'SL01-225-J'}),\n",
       "  0.03200204813108039),\n",
       " (Document(page_content='Metabolomics is the comprehensive study of small-molecule metabolites. Obtaining a wide coverage of the metabolome is challenging because of the broad range of physicochemical properties of the small molecules. To study the compounds of interest spectroscopic (NMR), spectrometric (MS) and separation techniques (LC, GC, supercritical fluid chromatography, CE) are used. The choice for a given technique is influenced by the sample matrix, the concentration and properties of the metabolites, and the amount of sample. This review discusses the most commonly used analytical techniques for metabolomic studies, including their advantages, drawbacks and some applications.', metadata={'doc_id': 'SL01-11-J'}),\n",
       "  0.031746031746031744),\n",
       " (Document(page_content='Rationale:Analyzing tissue samples is routinely performed when liquid biological samples are not available for replicate analysis. Preparing complex matrices, such as tissue, for analysis can be time-consuming. Traditional sample preparation methods typically begin with homogenization followed by a sample clean-up step such as liquid-liquid or solid-phase extraction. Samples are typically eluted, evaporated and reconstituted prior to instrumental analysis. The aim of this project was to evaluate the utility of multi-dimensional chromatography in reducing the amount of time from sample acquisition to analysis.Methods:Tissue specimens were homogenized using a ceramic beads shaker. Homogenates were then diluted and loaded onto a mixed mode solid-phase sorbent. The sorbent was washed, and the final eluate was transferred directly to vials without evaporation or reconstitution steps. Analysis was performed using a two-dimensional (2D) ultra-performance liquid chromatography (UPLC) configuration with an At-column dilution option coupled to a triple quadrupole mass spectrometer. The target analytes (xylazine and ketamine) were quantified under multiple reaction monitoring (MRM) using electrospray ionization (ESI) in positive mode.Results:The lowest limit of detection evaluated in this study was 0.01 ng/mL. The linear dynamic range utilized was 0.1 to 10 ng/mL. The concentrations for xylazine in their respective tissues ranged from 0 to 0.316 ng/mL. Ketamine concentrations ranged from 0 to 0.905 ng/mL. The overall time for sample preparation was reduced to 30 min. The total run time was 10 min.Conclusions:The use of multidimensional chromatography with At-column-dilution allows for significant reduction in sample preparation time. The concentrations determined in these samples highlight the need for sensitive analytical techniques with the ability to detect analyte concentrations at sub ng/mL.', metadata={'doc_id': 'SL01-245-J'}),\n",
       "  0.015873015873015872)]"
      ]
     },
     "execution_count": 20,
     "metadata": {},
     "output_type": "execute_result"
    }
   ],
   "source": [
    "docs"
   ]
  },
  {
   "cell_type": "code",
   "execution_count": 19,
   "metadata": {},
   "outputs": [
    {
     "data": {
      "text/plain": [
       "'在未定向代谢组学中，使用协同样品准备和多种分析技术的好处包括可以提高可靠检测和正确分配的代谢物数量，改善代谢物鉴定的不确定性，并解决单一平台方法中的可重复性问题。另外，应用多种概率方法的峰检测和代谢物鉴定策略可以提高注释决策的准确性。然而，使用多平台方法分析来自不同分析技术的大型数据集也会带来独特的挑战，因为许多软件包只能完全处理来自单一分析仪器的数据类型。传统的统计方法如主成分分析并不适用于处理多个不同的数据集，而多元分析需要多块或其他类型的模型来理解多台仪器的贡献。因此，使用协同样品准备和多种分析技术的挑战包括数据处理中的复杂性和不同软件包的兼容性问题。'"
      ]
     },
     "execution_count": 19,
     "metadata": {},
     "output_type": "execute_result"
    }
   ],
   "source": [
    "from langchain_core.runnables import RunnablePassthrough\n",
    "from operator import itemgetter\n",
    "from langchain_openai import ChatOpenAI\n",
    "# RAG\n",
    "template = \"\"\"Answer the following question based on this context:\n",
    "使用中文回答\n",
    "\n",
    "{context}\n",
    "\n",
    "Question: {question}\n",
    "\"\"\"\n",
    "llm = ChatOpenAI()\n",
    "prompt = ChatPromptTemplate.from_template(template)\n",
    "\n",
    "final_rag_chain = (\n",
    "    {\"context\": retrieval_chain_rag_fusion, \n",
    "     \"question\": itemgetter(\"question\")} \n",
    "    | prompt\n",
    "    | llm\n",
    "    | StrOutputParser()\n",
    ")\n",
    "\n",
    "final_rag_chain.invoke({\"question\":q})"
   ]
  },
  {
   "cell_type": "code",
   "execution_count": null,
   "metadata": {},
   "outputs": [],
   "source": []
  },
  {
   "cell_type": "markdown",
   "metadata": {},
   "source": [
    "SRTEBACK"
   ]
  },
  {
   "cell_type": "code",
   "execution_count": 21,
   "metadata": {},
   "outputs": [],
   "source": [
    "# Few Shot Examples\n",
    "from langchain_core.prompts import ChatPromptTemplate, FewShotChatMessagePromptTemplate\n",
    "examples = [\n",
    "    {\n",
    "        \"input\": \"Could the members of The Police perform lawful arrests?\",\n",
    "        \"output\": \"what can the members of The Police do?\",\n",
    "    },\n",
    "    {\n",
    "        \"input\": \"Jan Sindel’s was born in what country?\",\n",
    "        \"output\": \"what is Jan Sindel’s personal history?\",\n",
    "    },\n",
    "]\n",
    "# We now transform these to example messages\n",
    "example_prompt = ChatPromptTemplate.from_messages(\n",
    "    [\n",
    "        (\"human\", \"{input}\"),\n",
    "        (\"ai\", \"{output}\"),\n",
    "    ]\n",
    ")\n",
    "few_shot_prompt = FewShotChatMessagePromptTemplate(\n",
    "    example_prompt=example_prompt,\n",
    "    examples=examples,\n",
    ")\n",
    "prompt = ChatPromptTemplate.from_messages(\n",
    "    [\n",
    "        (\n",
    "            \"system\",\n",
    "            \"\"\"You are an expert at world knowledge. \n",
    "            Your task is to step back and paraphrase a question to a more generic step-back question, \n",
    "            which is easier to answer. Here are a few examples:\"\"\",\n",
    "        ),\n",
    "        # Few shot examples\n",
    "        few_shot_prompt,\n",
    "        # New question\n",
    "        (\"user\", \"{question}\"),\n",
    "    ]\n",
    ")\n",
    "generate_queries_step_back = prompt | ChatOpenAI(temperature=0) | StrOutputParser()\n",
    "question = \"什么是Agent的任务分解\"\n",
    "generate_queries_step_back.invoke({\"question\": question})"
   ]
  },
  {
   "cell_type": "code",
   "execution_count": null,
   "metadata": {},
   "outputs": [],
   "source": [
    "from langchain_core.runnables import RunnablePassthrough, RunnableLambda\n",
    "# Response prompt \n",
    "response_prompt_template = \"\"\"You are an expert of world knowledge. \n",
    "I am going to ask you a question. \n",
    "Your response should be comprehensive and not contradicted with the following context \n",
    "if they are relevant. Otherwise, ignore them if they are not relevant.\n",
    "请使用中文回答\n",
    "# {normal_context}\n",
    "# {step_back_context}\n",
    "\n",
    "# Original Question: {question}\n",
    "# Answer:\"\"\"\n",
    "response_prompt = ChatPromptTemplate.from_template(response_prompt_template)\n",
    "\n",
    "chain = (\n",
    "    {\n",
    "        # Retrieve context using the normal question\n",
    "        \"normal_context\": RunnableLambda(lambda x: x[\"question\"]) | retriever,\n",
    "        # Retrieve context using the step-back question\n",
    "        \"step_back_context\": generate_queries_step_back | retriever,\n",
    "        # Pass on the question\n",
    "        \"question\": lambda x: x[\"question\"],\n",
    "    }\n",
    "    | response_prompt\n",
    "    | ChatOpenAI(temperature=0)\n",
    "    | StrOutputParser()\n",
    ")\n",
    "\n",
    "chain.invoke({\"question\": question})"
   ]
  }
 ],
 "metadata": {
  "kernelspec": {
   "display_name": "EDT",
   "language": "python",
   "name": "python3"
  },
  "language_info": {
   "codemirror_mode": {
    "name": "ipython",
    "version": 3
   },
   "file_extension": ".py",
   "mimetype": "text/x-python",
   "name": "python",
   "nbconvert_exporter": "python",
   "pygments_lexer": "ipython3",
   "version": "3.11.7"
  }
 },
 "nbformat": 4,
 "nbformat_minor": 2
}
