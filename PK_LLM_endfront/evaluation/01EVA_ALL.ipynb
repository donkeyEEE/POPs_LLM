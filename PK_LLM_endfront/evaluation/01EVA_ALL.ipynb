{
 "cells": [
  {
   "cell_type": "code",
   "execution_count": 1,
   "metadata": {},
   "outputs": [],
   "source": [
    "import os\n",
    "os.chdir('E:\\学习\\python\\py_codbase\\PK_LLM')\n",
    "LANGCHAIN_API_KEY = os.getenv('LANGCHAIN_API_KEY')\n",
    "OPENAI_API_KEY = os.getenv('OPENAI_API_KEY')\n",
    "os.environ[\"LANGCHAIN_API_KEY\"] = LANGCHAIN_API_KEY\n",
    "os.environ[\"OPENAI_API_KEY\"] = OPENAI_API_KEY\n",
    "os.environ[\"LANGCHAIN_ENDPOINT\"] = \"https://api.smith.langchain.com\"\n",
    "os.environ[\"LANGCHAIN_PROJECT\"]=\"RAGs_Evaluations\"\n",
    "\n",
    "from langchain_core.prompts.chat import ChatPromptTemplate\n",
    "from typing import List\n",
    "from langsmith.schemas import Example, Run\n",
    "from langchain_openai import ChatOpenAI\n",
    "from langchain_core.pydantic_v1 import BaseModel, Field"
   ]
  },
  {
   "cell_type": "code",
   "execution_count": 2,
   "metadata": {},
   "outputs": [
    {
     "name": "stderr",
     "output_type": "stream",
     "text": [
      "c:\\Users\\donkey\\.conda\\envs\\EDT\\Lib\\site-packages\\langchain_core\\_api\\beta_decorator.py:87: LangChainBetaWarning: The function `with_structured_output` is in beta. It is actively being worked on, so the API may change.\n",
      "  warn_beta(\n"
     ]
    }
   ],
   "source": [
    "# 测试函数\n",
    "from PK_LLM_endfront.evaluation.llms import predicter\n",
    "from langsmith.evaluation import evaluate\n",
    "from PK_LLM_endfront.evaluation.eva_chains import faithfulness\n",
    "def eval_func(predicter_:predicter,dataset_name:str , version:str = \"0.0.1\"):\n",
    "    experiment_results = evaluate(\n",
    "        predicter_.func(), # Your AI system\n",
    "        data=dataset_name, # The data to predict and grade over   \n",
    "        evaluators=[faithfulness], # The evaluators to score the results\n",
    "        experiment_prefix=predicter_.prefix,\n",
    "        max_concurrency =3,\n",
    "        metadata={\n",
    "            \"version\": version,\n",
    "        },\n",
    "    )\n",
    "    return experiment_results"
   ]
  },
  {
   "cell_type": "code",
   "execution_count": 3,
   "metadata": {},
   "outputs": [],
   "source": [
    "# 加载预测器和client\n",
    "from PK_LLM_endfront.evaluation import eva_funcs, llms\n",
    "c = eva_funcs.smith_client()"
   ]
  },
  {
   "cell_type": "code",
   "execution_count": 4,
   "metadata": {},
   "outputs": [
    {
     "name": "stdout",
     "output_type": "stream",
     "text": [
      "name='QA_TEST_1' description=None data_type=<DataType.kv: 'kv'> id=UUID('a5fbe209-1a02-4b77-ae40-552001d84f45') created_at=datetime.datetime(2024, 4, 27, 12, 6, 51, 528260, tzinfo=datetime.timezone.utc) modified_at=datetime.datetime(2024, 4, 27, 12, 6, 51, 528260, tzinfo=datetime.timezone.utc) example_count=50 session_count=1 last_session_start_time=datetime.datetime(2024, 4, 27, 12, 27, 49, 302410)\n",
      "name='ENV_QA_test' description=None data_type=<DataType.kv: 'kv'> id=UUID('8c861bc2-0ba1-4fad-aa8e-6d9a5657df5b') created_at=datetime.datetime(2024, 4, 15, 15, 57, 3, 76889, tzinfo=datetime.timezone.utc) modified_at=datetime.datetime(2024, 4, 15, 15, 57, 3, 76889, tzinfo=datetime.timezone.utc) example_count=29 session_count=10 last_session_start_time=datetime.datetime(2024, 4, 16, 1, 46, 46, 667706)\n",
      "name='QA_test' description=None data_type=<DataType.kv: 'kv'> id=UUID('bde73bfd-cbcb-4355-9fe8-48a19b215a46') created_at=datetime.datetime(2024, 4, 6, 5, 48, 59, 401958, tzinfo=datetime.timezone.utc) modified_at=datetime.datetime(2024, 4, 6, 5, 48, 59, 401958, tzinfo=datetime.timezone.utc) example_count=69 session_count=6 last_session_start_time=datetime.datetime(2024, 4, 8, 6, 50, 17, 718681)\n",
      "name='Retrieval QA Questions b17557e9-a81c-423f-a429-69bc60086937' description=None data_type=<DataType.kv: 'kv'> id=UUID('880c3c2d-66d5-4f23-8e8e-e87180416217') created_at=datetime.datetime(2024, 4, 6, 15, 20, 42, 999423, tzinfo=datetime.timezone.utc) modified_at=datetime.datetime(2024, 4, 6, 15, 20, 42, 999423, tzinfo=datetime.timezone.utc) example_count=7 session_count=3 last_session_start_time=datetime.datetime(2024, 4, 6, 15, 35, 20, 416660)\n"
     ]
    }
   ],
   "source": [
    "# 上传data\n",
    "paths = [f'_data\\QA\\good_qa_data0{i+1}.json' for i in range(4)]\n",
    "all_data_path = \"_data/QA/goog_1.json\"\n",
    "#c.merge_json_files(paths,output_file=all_data_path)\n",
    "#c.creat_upload_data(all_data_path)\n",
    "c.show_dataset()"
   ]
  },
  {
   "cell_type": "code",
   "execution_count": 6,
   "metadata": {},
   "outputs": [
    {
     "name": "stderr",
     "output_type": "stream",
     "text": [
      "C:\\Users\\donkey\\AppData\\Local\\Temp\\ipykernel_9212\\4075447919.py:6: UserWarning: Function evaluate is in beta.\n",
      "  experiment_results = evaluate(\n"
     ]
    },
    {
     "name": "stdout",
     "output_type": "stream",
     "text": [
      "View the evaluation results for experiment: 'eva_glm4:4212348' at:\n",
      "https://smith.langchain.com/o/f44e7223-7506-5479-bcc5-5f4968c46496/datasets/a5fbe209-1a02-4b77-ae40-552001d84f45/compare?selectedSessions=1771a2f7-4742-45a9-bf03-88ec56e51a20\n",
      "\n",
      "\n"
     ]
    },
    {
     "data": {
      "application/vnd.jupyter.widget-view+json": {
       "model_id": "01b3242755a94ee1ae7b9ae6adfeb80c",
       "version_major": 2,
       "version_minor": 0
      },
      "text/plain": [
       "0it [00:00, ?it/s]"
      ]
     },
     "metadata": {},
     "output_type": "display_data"
    },
    {
     "name": "stdout",
     "output_type": "stream",
     "text": [
      "What is the dietary exposure and risk characterisation of multiple chemical contaminants in rye-wheat bread marketed in Poland?\n",
      "What is the relationship between aroma compounds and consumer acceptance in coffee sensory analysis?\n",
      "What is the relationship between aroma compounds and consumer acceptance in coffee sensory analysis?\n",
      "What role do high-resolution analytical techniques play in the development of functional foods?\n",
      "How do different LC columns, isotope coded derivatization methods, and pseudo-targeted LC-MS method contribute to the improvement of analytical techniques in metabolomics?\n",
      "What are the analytical techniques needed for performing chemical characterization in dendrobatoids?\n",
      "How do sample preparation strategies and instrumental analysis contribute to the reliable determination of ochratoxin A in various food commodities?\n",
      "How do analytical techniques contribute to the characterization and quantification of monoclonal antibodies?\n",
      "In what ways can the mechanical, surface, and aesthetic properties of reinforced polymer composites be optimized for dental treatments?\n",
      "What analytical techniques were used to characterize PDO and PGI Italian apples in the study?\n",
      "What are the challenges in detecting and analyzing falsified medicines in the last five years (2015-2020)?\n",
      "What are the theoretical aspects of concentration enhancement in Electroextraction (EE) and electromembrane extraction (EME) for extraction recovery and enrichment factor?\n",
      "What further refinement is needed for the emerging analytical techniques in physical activity measurement?\n",
      "How can isobaric glycan tags be utilized for the analysis of bovine milk oligosaccharides?\n",
      "What are the challenges in strengthening the analysis of new psychoactive substances by harmonizing drug checking services in proficiency testing?\n",
      "What is the significance of laboratory analysis in cosmochemistry research?\n",
      "What is the potential of Raman spectroscopy combined with multivariate statistical analysis in detecting and identifying drug traces in latent fingermarks?\n",
      "How can the metabolic profile of a Garcinia mangostana L. herbarium voucher specimen be analyzed non-destructively?\n",
      "How does the variability in commercial .22LR ammunition impact the selection of test bullets for forensic analysis?\n",
      "What are the emerging trends, challenges, and prospects of analyzing microplastics with Nile Red?\n",
      "What is the stability evaluation process of biosimilar monoclonal antibody TUR01 using analytical techniques?\n",
      "What is the relationship between volatile enantiomeric distribution and odor sensory quality in Mentha spp. plant tissue?\n",
      "How have analytical methodologies evolved in biological research to become more automated and cost-effective?\n",
      "How do different extraction techniques impact the analysis of flame retardants in human samples?\n",
      "What is the principle behind online pressurized liquid extraction (OLE) and how does it enable direct chemical analysis of herbal medicines (HMs)?\n",
      "How can laser-induced breakdown spectroscopy (LIBS) and micro-Raman spectroscopy be effectively used to analyze renal-calculi?\n",
      "What are the analytical methods used for phytochemicals from the genus Gentiana?\n",
      "What techniques are needed for the analysis of engineered nanomaterials in complex matrices at environmentally relevant concentrations?\n",
      "How can different skin types be clinically characterized using dermatological evaluation and biophysical and skin imaging techniques?\n",
      "How are toxic equivalent factors (TEF) developed and toxic equivalent quantity (TEQ) values determined for PCDD, PCDF, and DLPCB?\n",
      "What is the analytical strategy denoted as bioresponse-linked instrumental analysis (BLIA) used for in water analysis?\n",
      "What analytical techniques are commonly used for the determination of oxicams, nimesulide, and nabumetone?\n",
      "How effective is multivariate analysis in discriminating different origin and/or cultivar rice?\n",
      "What are the main advantages and drawbacks of the analytical techniques used in food analysis?\n",
      "How do precipitation sampling procedures contribute to understanding atmospheric pollutant scavenging processes?\n",
      "What analytical techniques are used for the identification of counterfeit drugs?\n",
      "What analytical techniques can be used for the characterization of cyclodextrin complexes in the solid state?\n",
      "What strategies and analytical methods are used for the chemical analysis of synthetic polymeric biomaterials at different degradation stages?\n",
      "What are the most powerful and rapidly growing analytical techniques in marine biotechnology research?\n",
      "What analytical techniques are commonly used for the characterization of dendrimers?\n",
      "What are the recent analytical methodologies used in lipid analysis?\n",
      "What are the analytical techniques for quantifying steroid estrogens in water samples?\n",
      "In what ways can hair analysis be used as an alternative biological specimen for the determination of Androgen Anabolic Steroids (AASs) abuse?\n",
      "How do advanced analytical techniques contribute to understanding supramolecular systems chemistry?\n",
      "What analytical techniques are commonly used for metabolomic studies?\n",
      "How can the quality evaluation methods for Paeoniae Radix be improved based on recent research advancements?\n",
      "Why are rapid, portable assays for detecting and subtyping infectious human noroviruses not currently available?\n",
      "How do NMR spectroscopy, sequencing, and mass spectrometry contribute to understanding the epitranscriptome?\n",
      "What analytical techniques are commonly used for qualitative and quantitative analysis of serratiopeptidase?\n",
      "What are the proposed minimum reporting standards for chemical analysis in metabolomics experiments?\n",
      "What are the benefits and challenges of using synergistic sample preparation and multiple analytical techniques in untargeted metabolomics?\n"
     ]
    },
    {
     "data": {
      "text/plain": [
       "<ExperimentResults eva_glm4:4212348>"
      ]
     },
     "execution_count": 6,
     "metadata": {},
     "output_type": "execute_result"
    }
   ],
   "source": [
    "p = llms.get_predicter(\"glm-4\")\n",
    "# p = llms.rag_predicter(1,'retrievers')\n",
    "eval_func(p,c.dataset_name)"
   ]
  }
 ],
 "metadata": {
  "kernelspec": {
   "display_name": "EDT",
   "language": "python",
   "name": "python3"
  },
  "language_info": {
   "codemirror_mode": {
    "name": "ipython",
    "version": 3
   },
   "file_extension": ".py",
   "mimetype": "text/x-python",
   "name": "python",
   "nbconvert_exporter": "python",
   "pygments_lexer": "ipython3",
   "version": "3.11.7"
  }
 },
 "nbformat": 4,
 "nbformat_minor": 2
}
