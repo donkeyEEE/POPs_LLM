{
 "cells": [
  {
   "cell_type": "code",
   "execution_count": 1,
   "metadata": {},
   "outputs": [],
   "source": [
    "from paper_downloader.DOI_Download import download_paper_by_doi\n",
    "from paper_downloader.download_recorder import LiteratureTableManager\n",
    "import nest_asyncio\n",
    "nest_asyncio.apply()"
   ]
  },
  {
   "cell_type": "code",
   "execution_count": 2,
   "metadata": {},
   "outputs": [],
   "source": [
    "name = [\"1_Analytical_Methods\",\n",
    "        \"2_Environmenta_Exposure\",\n",
    "        \"3_Environmental_Behavior\",\n",
    "        \"4_Biological_Behavior\",\n",
    "        \"5_Toxicity\",\n",
    "        \"6_Health Risk\"]\n",
    "for _n in name:\n",
    "    manager = LiteratureTableManager(_n)"
   ]
  },
  {
   "cell_type": "code",
   "execution_count": 3,
   "metadata": {},
   "outputs": [
    {
     "data": {
      "text/plain": [
       "'\\nfor _n in name:\\n    manager = LiteratureTableManager(_n)\\n    #manager.remove_undownloaded_literature()\\n    # 从最新的文档中读取文献并合并到默认文档\\n    # 新文献目录直接来自于pubmed\\n    latest_literature_path = f\"{_n}/set.csv\"\\n    manager.add_literature_from_file(latest_literature_path)\\n    #manager.download_new_literature()\\nimport pandas as pd\\n\\n# 清洗每个表格\\nfor _name in name:\\n    # 读取原表格\\n    path = f\"{_name}/litera_lis.csv\"\\n    df = pd.read_csv(path)\\n    \\n    # 过滤发表年份在2000年及之后的记录\\n    clean_df = df[df[\"Publication Year\"] >= 2000]\\n    \\n    # 保存清洗后的数据，替换原表格\\n    clean_df.to_csv(path, index=False)\\n'"
      ]
     },
     "execution_count": 3,
     "metadata": {},
     "output_type": "execute_result"
    }
   ],
   "source": [
    "\"\"\"\n",
    "for _n in name:\n",
    "    manager = LiteratureTableManager(_n)\n",
    "    #manager.remove_undownloaded_literature()\n",
    "    # 从最新的文档中读取文献并合并到默认文档\n",
    "    # 新文献目录直接来自于pubmed\n",
    "    latest_literature_path = f\"{_n}/set.csv\"\n",
    "    manager.add_literature_from_file(latest_literature_path)\n",
    "    #manager.download_new_literature()\n",
    "import pandas as pd\n",
    "\n",
    "# 清洗每个表格\n",
    "for _name in name:\n",
    "    # 读取原表格\n",
    "    path = f\"{_name}/litera_lis.csv\"\n",
    "    df = pd.read_csv(path)\n",
    "    \n",
    "    # 过滤发表年份在2000年及之后的记录\n",
    "    clean_df = df[df[\"Publication Year\"] >= 2000]\n",
    "    \n",
    "    # 保存清洗后的数据，替换原表格\n",
    "    clean_df.to_csv(path, index=False)\n",
    "\"\"\""
   ]
  },
  {
   "cell_type": "code",
   "execution_count": 5,
   "metadata": {},
   "outputs": [
    {
     "name": "stderr",
     "output_type": "stream",
     "text": [
      "0it [00:00, ?it/s]\n"
     ]
    },
    {
     "name": "stdout",
     "output_type": "stream",
     "text": [
      "已经下载530篇文献\n"
     ]
    },
    {
     "name": "stderr",
     "output_type": "stream",
     "text": [
      "0it [00:00, ?it/s]"
     ]
    },
    {
     "name": "stdout",
     "output_type": "stream",
     "text": [
      "已经下载149,正在下载10.1016/j.jhazmat.2022.129361\n"
     ]
    },
    {
     "name": "stderr",
     "output_type": "stream",
     "text": [
      "2it [00:04,  2.07s/it]"
     ]
    },
    {
     "name": "stdout",
     "output_type": "stream",
     "text": [
      "未找到下载链接。\n",
      "文献DOI为 10.1016/j.jhazmat.2022.129361 的下载状态已更新为 4\n",
      "已经下载149,正在下载10.1016/j.ecoenv.2023.115663\n"
     ]
    },
    {
     "name": "stderr",
     "output_type": "stream",
     "text": [
      "4it [00:07,  1.85s/it]"
     ]
    },
    {
     "name": "stdout",
     "output_type": "stream",
     "text": [
      "未找到下载链接。\n",
      "文献DOI为 10.1016/j.ecoenv.2023.115663 的下载状态已更新为 4\n",
      "已经下载149,正在下载10.1016/j.envres.2022.114979\n"
     ]
    },
    {
     "name": "stderr",
     "output_type": "stream",
     "text": [
      "5it [00:11,  2.43s/it]"
     ]
    },
    {
     "name": "stdout",
     "output_type": "stream",
     "text": [
      "未找到下载链接。\n",
      "文献DOI为 10.1016/j.envres.2022.114979 的下载状态已更新为 4\n",
      "已经下载149,正在下载10.1016/j.envres.2023.115526\n"
     ]
    },
    {
     "name": "stderr",
     "output_type": "stream",
     "text": [
      "15it [00:15,  1.26it/s]"
     ]
    },
    {
     "name": "stdout",
     "output_type": "stream",
     "text": [
      "未找到下载链接。\n",
      "文献DOI为 10.1016/j.envres.2023.115526 的下载状态已更新为 4\n",
      "已经下载149,正在下载10.1016/j.scitotenv.2022.159654\n"
     ]
    },
    {
     "name": "stderr",
     "output_type": "stream",
     "text": [
      "21it [00:18,  1.43it/s]"
     ]
    },
    {
     "name": "stdout",
     "output_type": "stream",
     "text": [
      "未找到下载链接。\n",
      "文献DOI为 10.1016/j.scitotenv.2022.159654 的下载状态已更新为 4\n",
      "已经下载149,正在下载10.1016/j.jpeds.2023.113520\n"
     ]
    },
    {
     "name": "stderr",
     "output_type": "stream",
     "text": [
      "29it [00:22,  1.71it/s]"
     ]
    },
    {
     "name": "stdout",
     "output_type": "stream",
     "text": [
      "未找到下载链接。\n",
      "文献DOI为 10.1016/j.jpeds.2023.113520 的下载状态已更新为 4\n",
      "已经下载149,正在下载10.1016/j.socscimed.2023.116293\n"
     ]
    },
    {
     "name": "stderr",
     "output_type": "stream",
     "text": [
      "30it [00:25,  1.24it/s]"
     ]
    },
    {
     "name": "stdout",
     "output_type": "stream",
     "text": [
      "未找到下载链接。\n",
      "文献DOI为 10.1016/j.socscimed.2023.116293 的下载状态已更新为 4\n",
      "已经下载149,正在下载10.1016/j.envpol.2022.120538\n"
     ]
    },
    {
     "name": "stderr",
     "output_type": "stream",
     "text": [
      "32it [00:29,  1.05it/s]"
     ]
    },
    {
     "name": "stdout",
     "output_type": "stream",
     "text": [
      "未找到下载链接。\n",
      "文献DOI为 10.1016/j.envpol.2022.120538 的下载状态已更新为 4\n",
      "已经下载149,正在下载10.1016/j.scitotenv.2022.155209\n"
     ]
    },
    {
     "name": "stderr",
     "output_type": "stream",
     "text": [
      "40it [00:32,  1.44it/s]"
     ]
    },
    {
     "name": "stdout",
     "output_type": "stream",
     "text": [
      "未找到下载链接。\n",
      "文献DOI为 10.1016/j.scitotenv.2022.155209 的下载状态已更新为 4\n",
      "已经下载149,正在下载10.1007/s11356-023-29578-3\n"
     ]
    },
    {
     "name": "stderr",
     "output_type": "stream",
     "text": [
      "42it [00:35,  1.20it/s]"
     ]
    },
    {
     "name": "stdout",
     "output_type": "stream",
     "text": [
      "未找到下载链接。\n",
      "文献DOI为 10.1007/s11356-023-29578-3 的下载状态已更新为 4\n",
      "已经下载149,正在下载10.1016/j.scitotenv.2023.167830\n"
     ]
    },
    {
     "name": "stderr",
     "output_type": "stream",
     "text": [
      "44it [00:44,  1.46s/it]"
     ]
    },
    {
     "name": "stdout",
     "output_type": "stream",
     "text": [
      "未找到下载链接。\n",
      "文献DOI为 10.1016/j.scitotenv.2023.167830 的下载状态已更新为 4\n",
      "已经下载149,正在下载10.1038/s41370-024-00653-2\n"
     ]
    },
    {
     "name": "stderr",
     "output_type": "stream",
     "text": [
      "48it [00:48,  1.30s/it]"
     ]
    },
    {
     "name": "stdout",
     "output_type": "stream",
     "text": [
      "未找到下载链接。\n",
      "文献DOI为 10.1038/s41370-024-00653-2 的下载状态已更新为 4\n",
      "已经下载149,正在下载10.1111/ppe.12988\n"
     ]
    },
    {
     "name": "stderr",
     "output_type": "stream",
     "text": [
      "50it [00:52,  1.40s/it]"
     ]
    },
    {
     "name": "stdout",
     "output_type": "stream",
     "text": [
      "未找到下载链接。\n",
      "文献DOI为 10.1111/ppe.12988 的下载状态已更新为 4\n",
      "已经下载149,正在下载10.1016/j.envres.2022.113252\n"
     ]
    },
    {
     "name": "stderr",
     "output_type": "stream",
     "text": [
      "59it [05:27, 17.57s/it]"
     ]
    },
    {
     "name": "stdout",
     "output_type": "stream",
     "text": [
      "下载失败。\n",
      "下载失败。\n",
      "请求失败。\n",
      "文献DOI为 10.1016/j.envres.2022.113252 的下载状态已更新为 4\n",
      "已经下载149,正在下载10.1016/j.scitotenv.2022.160526\n"
     ]
    },
    {
     "name": "stderr",
     "output_type": "stream",
     "text": [
      "61it [05:30, 15.16s/it]"
     ]
    },
    {
     "name": "stdout",
     "output_type": "stream",
     "text": [
      "未找到下载链接。\n",
      "文献DOI为 10.1016/j.scitotenv.2022.160526 的下载状态已更新为 4\n",
      "已经下载149,正在下载10.1016/j.scitotenv.2022.160162\n"
     ]
    },
    {
     "name": "stderr",
     "output_type": "stream",
     "text": [
      "62it [05:33, 14.03s/it]"
     ]
    },
    {
     "name": "stdout",
     "output_type": "stream",
     "text": [
      "未找到下载链接。\n",
      "文献DOI为 10.1016/j.scitotenv.2022.160162 的下载状态已更新为 4\n",
      "已经下载149,正在下载10.1021/acs.est.8b03075\n",
      "下载失败。\n"
     ]
    },
    {
     "name": "stderr",
     "output_type": "stream",
     "text": [
      "71it [06:05,  8.23s/it]"
     ]
    },
    {
     "name": "stdout",
     "output_type": "stream",
     "text": [
      "下载失败。\n",
      "请求失败。\n",
      "文献DOI为 10.1021/acs.est.8b03075 的下载状态已更新为 4\n",
      "已经下载149,正在下载10.1016/j.ijheh.2022.114056\n"
     ]
    },
    {
     "name": "stderr",
     "output_type": "stream",
     "text": [
      "73it [06:09,  7.25s/it]"
     ]
    },
    {
     "name": "stdout",
     "output_type": "stream",
     "text": [
      "未找到下载链接。\n",
      "文献DOI为 10.1016/j.ijheh.2022.114056 的下载状态已更新为 4\n",
      "已经下载149,正在下载10.1016/j.envpol.2023.122131\n"
     ]
    },
    {
     "name": "stderr",
     "output_type": "stream",
     "text": [
      "80it [06:12,  4.36s/it]"
     ]
    },
    {
     "name": "stdout",
     "output_type": "stream",
     "text": [
      "未找到下载链接。\n",
      "文献DOI为 10.1016/j.envpol.2023.122131 的下载状态已更新为 4\n",
      "已经下载149,正在下载10.1016/j.scitotenv.2023.164681\n"
     ]
    },
    {
     "name": "stderr",
     "output_type": "stream",
     "text": [
      "81it [06:16,  4.28s/it]"
     ]
    },
    {
     "name": "stdout",
     "output_type": "stream",
     "text": [
      "未找到下载链接。\n",
      "文献DOI为 10.1016/j.scitotenv.2023.164681 的下载状态已更新为 4\n",
      "已经下载149,正在下载10.1016/j.envpol.2023.122121\n"
     ]
    },
    {
     "name": "stderr",
     "output_type": "stream",
     "text": [
      "100it [06:19,  1.48s/it]"
     ]
    },
    {
     "name": "stdout",
     "output_type": "stream",
     "text": [
      "未找到下载链接。\n",
      "文献DOI为 10.1016/j.envpol.2023.122121 的下载状态已更新为 4\n",
      "已经下载149,正在下载10.1016/j.jenvman.2022.114697\n"
     ]
    },
    {
     "name": "stderr",
     "output_type": "stream",
     "text": [
      "104it [06:22,  1.36s/it]"
     ]
    },
    {
     "name": "stdout",
     "output_type": "stream",
     "text": [
      "未找到下载链接。\n",
      "文献DOI为 10.1016/j.jenvman.2022.114697 的下载状态已更新为 4\n",
      "已经下载149,正在下载10.1016/j.chemosphere.2023.137787\n"
     ]
    },
    {
     "name": "stderr",
     "output_type": "stream",
     "text": [
      "109it [06:26,  1.21s/it]"
     ]
    },
    {
     "name": "stdout",
     "output_type": "stream",
     "text": [
      "未找到下载链接。\n",
      "文献DOI为 10.1016/j.chemosphere.2023.137787 的下载状态已更新为 4\n",
      "已经下载149,正在下载10.1111/1471-0528.17791\n"
     ]
    },
    {
     "name": "stderr",
     "output_type": "stream",
     "text": [
      "113it [06:29,  1.13s/it]"
     ]
    },
    {
     "name": "stdout",
     "output_type": "stream",
     "text": [
      "未找到下载链接。\n",
      "文献DOI为 10.1111/1471-0528.17791 的下载状态已更新为 4\n",
      "已经下载149,正在下载10.1016/j.envres.2023.116197\n"
     ]
    },
    {
     "name": "stderr",
     "output_type": "stream",
     "text": [
      "116it [06:32,  1.10s/it]"
     ]
    },
    {
     "name": "stdout",
     "output_type": "stream",
     "text": [
      "未找到下载链接。\n",
      "文献DOI为 10.1016/j.envres.2023.116197 的下载状态已更新为 4\n",
      "已经下载149,正在下载10.1016/j.scitotenv.2023.167056\n"
     ]
    },
    {
     "name": "stderr",
     "output_type": "stream",
     "text": [
      "119it [06:36,  1.13s/it]"
     ]
    },
    {
     "name": "stdout",
     "output_type": "stream",
     "text": [
      "未找到下载链接。\n",
      "文献DOI为 10.1016/j.scitotenv.2023.167056 的下载状态已更新为 4\n",
      "已经下载149,正在下载10.1016/j.envpol.2021.118753\n"
     ]
    },
    {
     "name": "stderr",
     "output_type": "stream",
     "text": [
      "120it [06:39,  1.34s/it]"
     ]
    },
    {
     "name": "stdout",
     "output_type": "stream",
     "text": [
      "未找到下载链接。\n",
      "文献DOI为 10.1016/j.envpol.2021.118753 的下载状态已更新为 4\n",
      "已经下载149,正在下载10.1016/j.envint.2022.107455\n",
      "下载失败。\n"
     ]
    },
    {
     "name": "stderr",
     "output_type": "stream",
     "text": [
      "131it [06:44,  1.25it/s]"
     ]
    },
    {
     "name": "stdout",
     "output_type": "stream",
     "text": [
      "下载失败。\n",
      "请求失败。\n",
      "文献DOI为 10.1016/j.envint.2022.107455 的下载状态已更新为 4\n",
      "已经下载149,正在下载10.1016/j.scitotenv.2022.161118\n"
     ]
    },
    {
     "name": "stderr",
     "output_type": "stream",
     "text": [
      "137it [06:47,  1.38it/s]"
     ]
    },
    {
     "name": "stdout",
     "output_type": "stream",
     "text": [
      "未找到下载链接。\n",
      "文献DOI为 10.1016/j.scitotenv.2022.161118 的下载状态已更新为 4\n",
      "已经下载149,正在下载10.1016/j.envres.2022.114976\n"
     ]
    },
    {
     "name": "stderr",
     "output_type": "stream",
     "text": [
      "142it [06:51,  1.40it/s]"
     ]
    },
    {
     "name": "stdout",
     "output_type": "stream",
     "text": [
      "未找到下载链接。\n",
      "文献DOI为 10.1016/j.envres.2022.114976 的下载状态已更新为 4\n",
      "已经下载149,正在下载10.1016/j.envres.2022.114225\n"
     ]
    },
    {
     "name": "stderr",
     "output_type": "stream",
     "text": [
      "144it [06:55,  1.13it/s]"
     ]
    },
    {
     "name": "stdout",
     "output_type": "stream",
     "text": [
      "未找到下载链接。\n",
      "文献DOI为 10.1016/j.envres.2022.114225 的下载状态已更新为 4\n",
      "已经下载149,正在下载10.1016/j.envint.2021.106990\n"
     ]
    },
    {
     "name": "stderr",
     "output_type": "stream",
     "text": [
      "161it [06:58,  2.19it/s]"
     ]
    },
    {
     "name": "stdout",
     "output_type": "stream",
     "text": [
      "未找到下载链接。\n",
      "文献DOI为 10.1016/j.envint.2021.106990 的下载状态已更新为 4\n",
      "已经下载149,正在下载10.1021/acs.estlett.1c00877\n",
      "下载失败。\n"
     ]
    },
    {
     "name": "stderr",
     "output_type": "stream",
     "text": [
      "168it [07:04,  1.76it/s]"
     ]
    },
    {
     "name": "stdout",
     "output_type": "stream",
     "text": [
      "下载失败。\n",
      "请求失败。\n",
      "文献DOI为 10.1021/acs.estlett.1c00877 的下载状态已更新为 4\n",
      "已经下载149,正在下载10.1111/ina.12716\n"
     ]
    },
    {
     "name": "stderr",
     "output_type": "stream",
     "text": [
      "184it [07:11,  1.96it/s]"
     ]
    },
    {
     "name": "stdout",
     "output_type": "stream",
     "text": [
      "文件 SL01-184-J.pdf 下载成功！\n",
      "下载DOI为10.1111/ina.12716的论文成功。\n",
      "文献DOI为 10.1111/ina.12716 的下载状态已更新为 1\n",
      "已经下载150,正在下载10.1016/j.envres.2020.109531\n"
     ]
    },
    {
     "name": "stderr",
     "output_type": "stream",
     "text": [
      "185it [07:17,  1.36it/s]"
     ]
    },
    {
     "name": "stdout",
     "output_type": "stream",
     "text": [
      "文件 SL01-185-J.pdf 下载成功！\n",
      "下载DOI为10.1016/j.envres.2020.109531的论文成功。\n",
      "文献DOI为 10.1016/j.envres.2020.109531 的下载状态已更新为 1\n",
      "已经下载151,正在下载10.1038/sj.jes.7500483\n"
     ]
    },
    {
     "name": "stderr",
     "output_type": "stream",
     "text": [
      "186it [07:23,  1.02it/s]"
     ]
    },
    {
     "name": "stdout",
     "output_type": "stream",
     "text": [
      "文件 SL01-186-J.pdf 下载成功！\n",
      "下载DOI为10.1038/sj.jes.7500483的论文成功。\n",
      "文献DOI为 10.1038/sj.jes.7500483 的下载状态已更新为 1\n",
      "已经下载152,正在下载10.1038/jes.2009.58\n"
     ]
    },
    {
     "name": "stderr",
     "output_type": "stream",
     "text": [
      "187it [07:29,  1.34s/it]"
     ]
    },
    {
     "name": "stdout",
     "output_type": "stream",
     "text": [
      "文件 SL01-187-J.pdf 下载成功！\n",
      "下载DOI为10.1038/jes.2009.58的论文成功。\n",
      "文献DOI为 10.1038/jes.2009.58 的下载状态已更新为 1\n",
      "已经下载153,正在下载10.1637/11814-021518-Reg.1\n"
     ]
    },
    {
     "name": "stderr",
     "output_type": "stream",
     "text": [
      "188it [07:34,  1.71s/it]"
     ]
    },
    {
     "name": "stdout",
     "output_type": "stream",
     "text": [
      "文件 SL01-188-J.pdf 下载成功！\n",
      "下载DOI为10.1637/11814-021518-Reg.1的论文成功。\n",
      "文献DOI为 10.1637/11814-021518-Reg.1 的下载状态已更新为 1\n",
      "已经下载154,正在下载10.1016/j.ecoenv.2023.114873\n"
     ]
    },
    {
     "name": "stderr",
     "output_type": "stream",
     "text": [
      "189it [07:37,  1.92s/it]"
     ]
    },
    {
     "name": "stdout",
     "output_type": "stream",
     "text": [
      "未找到下载链接。\n",
      "文献DOI为 10.1016/j.ecoenv.2023.114873 的下载状态已更新为 2\n",
      "已经下载154,正在下载10.1111/ina.12537\n"
     ]
    },
    {
     "name": "stderr",
     "output_type": "stream",
     "text": [
      "190it [07:43,  2.45s/it]"
     ]
    },
    {
     "name": "stdout",
     "output_type": "stream",
     "text": [
      "文件 SL01-190-J.pdf 下载成功！\n",
      "下载DOI为10.1111/ina.12537的论文成功。\n",
      "文献DOI为 10.1111/ina.12537 的下载状态已更新为 1\n",
      "已经下载155,正在下载10.1038/sj.jea.7500399\n"
     ]
    },
    {
     "name": "stderr",
     "output_type": "stream",
     "text": [
      "191it [07:48,  2.93s/it]"
     ]
    },
    {
     "name": "stdout",
     "output_type": "stream",
     "text": [
      "文件 SL01-191-J.pdf 下载成功！\n",
      "下载DOI为10.1038/sj.jea.7500399的论文成功。\n",
      "文献DOI为 10.1038/sj.jea.7500399 的下载状态已更新为 1\n",
      "已经下载156,正在下载10.1016/j.ijheh.2014.08.004\n"
     ]
    },
    {
     "name": "stderr",
     "output_type": "stream",
     "text": [
      "192it [07:59,  4.35s/it]"
     ]
    },
    {
     "name": "stdout",
     "output_type": "stream",
     "text": [
      "文件 SL01-192-J.pdf 下载成功！\n",
      "下载DOI为10.1016/j.ijheh.2014.08.004的论文成功。\n",
      "文献DOI为 10.1016/j.ijheh.2014.08.004 的下载状态已更新为 1\n",
      "已经下载157,正在下载10.1016/j.envint.2024.108457\n"
     ]
    },
    {
     "name": "stderr",
     "output_type": "stream",
     "text": [
      "193it [08:07,  5.26s/it]"
     ]
    },
    {
     "name": "stdout",
     "output_type": "stream",
     "text": [
      "未找到下载链接。\n",
      "文献DOI为 10.1016/j.envint.2024.108457 的下载状态已更新为 2\n",
      "已经下载157,正在下载10.1016/j.scitotenv.2022.160880\n"
     ]
    },
    {
     "name": "stderr",
     "output_type": "stream",
     "text": [
      "194it [08:11,  4.90s/it]"
     ]
    },
    {
     "name": "stdout",
     "output_type": "stream",
     "text": [
      "未找到下载链接。\n",
      "文献DOI为 10.1016/j.scitotenv.2022.160880 的下载状态已更新为 2\n",
      "已经下载157,正在下载10.1016/j.envint.2020.106297\n"
     ]
    },
    {
     "name": "stderr",
     "output_type": "stream",
     "text": [
      "195it [08:19,  5.75s/it]"
     ]
    },
    {
     "name": "stdout",
     "output_type": "stream",
     "text": [
      "下载DOI为10.1016/j.envint.2020.106297的论文成功。\n",
      "文献DOI为 10.1016/j.envint.2020.106297 的下载状态已更新为 1\n",
      "已经下载158,正在下载10.3168/jds.2008-1979\n"
     ]
    },
    {
     "name": "stderr",
     "output_type": "stream",
     "text": [
      "196it [08:28,  6.65s/it]"
     ]
    },
    {
     "name": "stdout",
     "output_type": "stream",
     "text": [
      "下载DOI为10.3168/jds.2008-1979的论文成功。\n",
      "文献DOI为 10.3168/jds.2008-1979 的下载状态已更新为 1\n",
      "已经下载159,正在下载10.1016/j.jhazmat.2021.126757\n"
     ]
    },
    {
     "name": "stderr",
     "output_type": "stream",
     "text": [
      "197it [08:36,  7.01s/it]"
     ]
    },
    {
     "name": "stdout",
     "output_type": "stream",
     "text": [
      "文件 SL01-197-J.pdf 下载成功！\n",
      "下载DOI为10.1016/j.jhazmat.2021.126757的论文成功。\n",
      "文献DOI为 10.1016/j.jhazmat.2021.126757 的下载状态已更新为 1\n",
      "已经下载160,正在下载10.1111/ina.12638\n"
     ]
    },
    {
     "name": "stderr",
     "output_type": "stream",
     "text": [
      "198it [08:47,  7.96s/it]"
     ]
    },
    {
     "name": "stdout",
     "output_type": "stream",
     "text": [
      "下载DOI为10.1111/ina.12638的论文成功。\n",
      "文献DOI为 10.1111/ina.12638 的下载状态已更新为 1\n",
      "已经下载161,正在下载10.1016/j.envres.2021.111549\n"
     ]
    },
    {
     "name": "stderr",
     "output_type": "stream",
     "text": [
      "199it [08:56,  8.31s/it]"
     ]
    },
    {
     "name": "stdout",
     "output_type": "stream",
     "text": [
      "文件 SL01-199-J.pdf 下载成功！\n",
      "下载DOI为10.1016/j.envres.2021.111549的论文成功。\n",
      "文献DOI为 10.1016/j.envres.2021.111549 的下载状态已更新为 1\n",
      "已经下载162,正在下载10.1016/j.envint.2020.106018\n"
     ]
    },
    {
     "name": "stderr",
     "output_type": "stream",
     "text": [
      "200it [09:03,  7.90s/it]"
     ]
    },
    {
     "name": "stdout",
     "output_type": "stream",
     "text": [
      "文件 SL01-200-J.pdf 下载成功！\n",
      "下载DOI为10.1016/j.envint.2020.106018的论文成功。\n",
      "文献DOI为 10.1016/j.envint.2020.106018 的下载状态已更新为 1\n",
      "已经下载163,正在下载10.1039/c5cs00021a\n"
     ]
    },
    {
     "name": "stderr",
     "output_type": "stream",
     "text": [
      "201it [09:10,  7.71s/it]"
     ]
    },
    {
     "name": "stdout",
     "output_type": "stream",
     "text": [
      "文件 SL01-201-J.pdf 下载成功！\n",
      "下载DOI为10.1039/c5cs00021a的论文成功。\n",
      "文献DOI为 10.1039/c5cs00021a 的下载状态已更新为 1\n",
      "已经下载164,正在下载10.1111/j.1600-0668.2004.00258.x\n"
     ]
    },
    {
     "name": "stderr",
     "output_type": "stream",
     "text": [
      "202it [09:18,  7.85s/it]"
     ]
    },
    {
     "name": "stdout",
     "output_type": "stream",
     "text": [
      "文件 SL01-202-J.pdf 下载成功！\n",
      "下载DOI为10.1111/j.1600-0668.2004.00258.x的论文成功。\n",
      "文献DOI为 10.1111/j.1600-0668.2004.00258.x 的下载状态已更新为 1\n",
      "已经下载165,正在下载10.1080/09603123.2015.1111313\n"
     ]
    },
    {
     "name": "stderr",
     "output_type": "stream",
     "text": [
      "203it [09:25,  7.44s/it]"
     ]
    },
    {
     "name": "stdout",
     "output_type": "stream",
     "text": [
      "文件 SL01-203-J.pdf 下载成功！\n",
      "下载DOI为10.1080/09603123.2015.1111313的论文成功。\n",
      "文献DOI为 10.1080/09603123.2015.1111313 的下载状态已更新为 1\n",
      "已经下载166,正在下载10.1016/j.scitotenv.2010.10.022\n"
     ]
    },
    {
     "name": "stderr",
     "output_type": "stream",
     "text": [
      "204it [09:30,  6.97s/it]"
     ]
    },
    {
     "name": "stdout",
     "output_type": "stream",
     "text": [
      "文件 SL01-204-J.pdf 下载成功！\n",
      "下载DOI为10.1016/j.scitotenv.2010.10.022的论文成功。\n",
      "文献DOI为 10.1016/j.scitotenv.2010.10.022 的下载状态已更新为 1\n",
      "已经下载167,正在下载10.1080/08958370600835021\n"
     ]
    },
    {
     "name": "stderr",
     "output_type": "stream",
     "text": [
      "205it [09:36,  6.51s/it]"
     ]
    },
    {
     "name": "stdout",
     "output_type": "stream",
     "text": [
      "文件 SL01-205-J.pdf 下载成功！\n",
      "下载DOI为10.1080/08958370600835021的论文成功。\n",
      "文献DOI为 10.1080/08958370600835021 的下载状态已更新为 1\n",
      "已经下载168,正在下载10.1093/annweh/wxw027\n"
     ]
    },
    {
     "name": "stderr",
     "output_type": "stream",
     "text": [
      "206it [09:42,  6.30s/it]"
     ]
    },
    {
     "name": "stdout",
     "output_type": "stream",
     "text": [
      "文件 SL01-206-J.pdf 下载成功！\n",
      "下载DOI为10.1093/annweh/wxw027的论文成功。\n",
      "文献DOI为 10.1093/annweh/wxw027 的下载状态已更新为 1\n",
      "已经下载169,正在下载10.1016/j.scitotenv.2019.134698\n"
     ]
    },
    {
     "name": "stderr",
     "output_type": "stream",
     "text": [
      "207it [09:48,  6.18s/it]"
     ]
    },
    {
     "name": "stdout",
     "output_type": "stream",
     "text": [
      "下载DOI为10.1016/j.scitotenv.2019.134698的论文成功。\n",
      "文献DOI为 10.1016/j.scitotenv.2019.134698 的下载状态已更新为 1\n",
      "已经下载170,正在下载10.1016/j.envint.2019.105104\n"
     ]
    },
    {
     "name": "stderr",
     "output_type": "stream",
     "text": [
      "208it [09:58,  7.57s/it]"
     ]
    },
    {
     "name": "stdout",
     "output_type": "stream",
     "text": [
      "下载DOI为10.1016/j.envint.2019.105104的论文成功。\n",
      "文献DOI为 10.1016/j.envint.2019.105104 的下载状态已更新为 1\n",
      "已经下载171,正在下载10.1016/j.jenvrad.2022.107019\n",
      "下载失败。\n"
     ]
    },
    {
     "name": "stderr",
     "output_type": "stream",
     "text": [
      "209it [10:03,  6.80s/it]"
     ]
    },
    {
     "name": "stdout",
     "output_type": "stream",
     "text": [
      "下载失败。\n",
      "请求失败。\n",
      "文献DOI为 10.1016/j.jenvrad.2022.107019 的下载状态已更新为 2\n",
      "已经下载171,正在下载10.3233/WOR-203147\n"
     ]
    },
    {
     "name": "stderr",
     "output_type": "stream",
     "text": [
      "210it [10:08,  6.18s/it]"
     ]
    },
    {
     "name": "stdout",
     "output_type": "stream",
     "text": [
      "下载DOI为10.3233/WOR-203147的论文成功。\n",
      "文献DOI为 10.3233/WOR-203147 的下载状态已更新为 1\n",
      "已经下载172,正在下载10.1016/j.scitotenv.2023.169701\n"
     ]
    },
    {
     "name": "stderr",
     "output_type": "stream",
     "text": [
      "211it [10:12,  5.38s/it]"
     ]
    },
    {
     "name": "stdout",
     "output_type": "stream",
     "text": [
      "未找到下载链接。\n",
      "文献DOI为 10.1016/j.scitotenv.2023.169701 的下载状态已更新为 2\n",
      "已经下载172,正在下载10.1021/acs.est.0c06114\n"
     ]
    },
    {
     "name": "stderr",
     "output_type": "stream",
     "text": [
      "212it [10:18,  5.60s/it]"
     ]
    },
    {
     "name": "stdout",
     "output_type": "stream",
     "text": [
      "文件 SL01-212-J.pdf 下载成功！\n",
      "下载DOI为10.1021/acs.est.0c06114的论文成功。\n",
      "文献DOI为 10.1021/acs.est.0c06114 的下载状态已更新为 1\n",
      "已经下载173,正在下载10.1016/j.envres.2016.08.022\n"
     ]
    },
    {
     "name": "stderr",
     "output_type": "stream",
     "text": [
      "213it [10:23,  5.48s/it]"
     ]
    },
    {
     "name": "stdout",
     "output_type": "stream",
     "text": [
      "下载DOI为10.1016/j.envres.2016.08.022的论文成功。\n",
      "文献DOI为 10.1016/j.envres.2016.08.022 的下载状态已更新为 1\n",
      "已经下载174,正在下载10.1016/s0025-326x(02)00449-6\n"
     ]
    },
    {
     "name": "stderr",
     "output_type": "stream",
     "text": [
      "214it [10:28,  5.40s/it]"
     ]
    },
    {
     "name": "stdout",
     "output_type": "stream",
     "text": [
      "文件 SL01-214-J.pdf 下载成功！\n",
      "下载DOI为10.1016/s0025-326x(02)00449-6的论文成功。\n",
      "文献DOI为 10.1016/s0025-326x(02)00449-6 的下载状态已更新为 1\n",
      "已经下载175,正在下载10.1093/annweh/wxaa094\n"
     ]
    },
    {
     "name": "stderr",
     "output_type": "stream",
     "text": [
      "215it [10:56, 12.02s/it]"
     ]
    },
    {
     "name": "stdout",
     "output_type": "stream",
     "text": [
      "文件 SL01-215-J.pdf 下载成功！\n",
      "下载DOI为10.1093/annweh/wxaa094的论文成功。\n",
      "文献DOI为 10.1093/annweh/wxaa094 的下载状态已更新为 1\n",
      "已经下载176,正在下载10.1016/j.scitotenv.2022.155526\n",
      "下载失败。\n"
     ]
    },
    {
     "name": "stderr",
     "output_type": "stream",
     "text": [
      "216it [11:21, 15.95s/it]"
     ]
    },
    {
     "name": "stdout",
     "output_type": "stream",
     "text": [
      "下载失败。\n",
      "请求失败。\n",
      "文献DOI为 10.1016/j.scitotenv.2022.155526 的下载状态已更新为 2\n",
      "已经下载176,正在下载10.1016/j.scitotenv.2022.159217\n"
     ]
    },
    {
     "name": "stderr",
     "output_type": "stream",
     "text": [
      "217it [11:45, 18.58s/it]"
     ]
    },
    {
     "name": "stdout",
     "output_type": "stream",
     "text": [
      "未找到下载链接。\n",
      "文献DOI为 10.1016/j.scitotenv.2022.159217 的下载状态已更新为 2\n",
      "已经下载176,正在下载10.3390/ijerph182111511\n"
     ]
    },
    {
     "name": "stderr",
     "output_type": "stream",
     "text": [
      "218it [12:15, 21.94s/it]"
     ]
    },
    {
     "name": "stdout",
     "output_type": "stream",
     "text": [
      "下载DOI为10.3390/ijerph182111511的论文成功。\n",
      "文献DOI为 10.3390/ijerph182111511 的下载状态已更新为 1\n",
      "已经下载177,正在下载10.1016/j.healthplace.2020.102351\n"
     ]
    },
    {
     "name": "stderr",
     "output_type": "stream",
     "text": [
      "219it [12:49, 25.45s/it]"
     ]
    },
    {
     "name": "stdout",
     "output_type": "stream",
     "text": [
      "文件 SL01-219-J.pdf 下载成功！\n",
      "下载DOI为10.1016/j.healthplace.2020.102351的论文成功。\n",
      "文献DOI为 10.1016/j.healthplace.2020.102351 的下载状态已更新为 1\n",
      "已经下载178,正在下载10.1016/j.dib.2015.12.040\n"
     ]
    },
    {
     "name": "stderr",
     "output_type": "stream",
     "text": [
      "220it [13:17, 26.21s/it]"
     ]
    },
    {
     "name": "stdout",
     "output_type": "stream",
     "text": [
      "下载DOI为10.1016/j.dib.2015.12.040的论文成功。\n",
      "文献DOI为 10.1016/j.dib.2015.12.040 的下载状态已更新为 1\n",
      "已经下载179,正在下载10.1016/j.scitotenv.2017.11.057\n"
     ]
    },
    {
     "name": "stderr",
     "output_type": "stream",
     "text": [
      "221it [13:45, 26.90s/it]"
     ]
    },
    {
     "name": "stdout",
     "output_type": "stream",
     "text": [
      "文件 SL01-221-J.pdf 下载成功！\n",
      "下载DOI为10.1016/j.scitotenv.2017.11.057的论文成功。\n",
      "文献DOI为 10.1016/j.scitotenv.2017.11.057 的下载状态已更新为 1\n",
      "已经下载180,正在下载10.1016/j.scitotenv.2023.163275\n"
     ]
    },
    {
     "name": "stderr",
     "output_type": "stream",
     "text": [
      "222it [14:14, 27.28s/it]"
     ]
    },
    {
     "name": "stdout",
     "output_type": "stream",
     "text": [
      "下载DOI为10.1016/j.scitotenv.2023.163275的论文成功。\n",
      "文献DOI为 10.1016/j.scitotenv.2023.163275 的下载状态已更新为 1\n",
      "已经下载181,正在下载10.1016/j.envint.2014.02.004\n"
     ]
    },
    {
     "name": "stderr",
     "output_type": "stream",
     "text": [
      "223it [14:42, 27.59s/it]"
     ]
    },
    {
     "name": "stdout",
     "output_type": "stream",
     "text": [
      "文件 SL01-223-J.pdf 下载成功！\n",
      "下载DOI为10.1016/j.envint.2014.02.004的论文成功。\n",
      "文献DOI为 10.1016/j.envint.2014.02.004 的下载状态已更新为 1\n",
      "已经下载182,正在下载10.1038/s41370-024-00661-2\n"
     ]
    },
    {
     "name": "stderr",
     "output_type": "stream",
     "text": [
      "224it [15:15, 29.20s/it]"
     ]
    },
    {
     "name": "stdout",
     "output_type": "stream",
     "text": [
      "下载DOI为10.1038/s41370-024-00661-2的论文成功。\n",
      "文献DOI为 10.1038/s41370-024-00661-2 的下载状态已更新为 1\n",
      "已经下载183,正在下载10.1016/j.envres.2015.03.025\n"
     ]
    },
    {
     "name": "stderr",
     "output_type": "stream",
     "text": [
      "225it [15:42, 28.66s/it]"
     ]
    },
    {
     "name": "stdout",
     "output_type": "stream",
     "text": [
      "文件 SL01-225-J.pdf 下载成功！\n",
      "下载DOI为10.1016/j.envres.2015.03.025的论文成功。\n",
      "文献DOI为 10.1016/j.envres.2015.03.025 的下载状态已更新为 1\n",
      "已经下载184,正在下载10.1007/s11356-018-2045-8\n"
     ]
    },
    {
     "name": "stderr",
     "output_type": "stream",
     "text": [
      "226it [16:11, 28.62s/it]"
     ]
    },
    {
     "name": "stdout",
     "output_type": "stream",
     "text": [
      "文件 SL01-226-J.pdf 下载成功！\n",
      "下载DOI为10.1007/s11356-018-2045-8的论文成功。\n",
      "文献DOI为 10.1007/s11356-018-2045-8 的下载状态已更新为 1\n",
      "已经下载185,正在下载10.1136/oem.2010.063032\n"
     ]
    },
    {
     "name": "stderr",
     "output_type": "stream",
     "text": [
      "227it [16:38, 28.13s/it]"
     ]
    },
    {
     "name": "stdout",
     "output_type": "stream",
     "text": [
      "文件 SL01-227-J.pdf 下载成功！\n",
      "下载DOI为10.1136/oem.2010.063032的论文成功。\n",
      "文献DOI为 10.1136/oem.2010.063032 的下载状态已更新为 1\n",
      "已经下载186,正在下载10.1080/10962247.2018.1537943\n"
     ]
    },
    {
     "name": "stderr",
     "output_type": "stream",
     "text": [
      "228it [17:05, 27.77s/it]"
     ]
    },
    {
     "name": "stdout",
     "output_type": "stream",
     "text": [
      "文件 SL01-228-J.pdf 下载成功！\n",
      "下载DOI为10.1080/10962247.2018.1537943的论文成功。\n",
      "文献DOI为 10.1080/10962247.2018.1537943 的下载状态已更新为 1\n",
      "已经下载187,正在下载10.1007/s11356-021-15591-x\n"
     ]
    },
    {
     "name": "stderr",
     "output_type": "stream",
     "text": [
      "229it [17:35, 28.64s/it]"
     ]
    },
    {
     "name": "stdout",
     "output_type": "stream",
     "text": [
      "文件 SL01-229-J.pdf 下载成功！\n",
      "下载DOI为10.1007/s11356-021-15591-x的论文成功。\n",
      "文献DOI为 10.1007/s11356-021-15591-x 的下载状态已更新为 1\n",
      "已经下载188,正在下载10.1016/j.ecoenv.2020.110573\n"
     ]
    },
    {
     "name": "stderr",
     "output_type": "stream",
     "text": [
      "230it [18:02, 28.13s/it]"
     ]
    },
    {
     "name": "stdout",
     "output_type": "stream",
     "text": [
      "文件 SL01-230-J.pdf 下载成功！\n",
      "下载DOI为10.1016/j.ecoenv.2020.110573的论文成功。\n",
      "文献DOI为 10.1016/j.ecoenv.2020.110573 的下载状态已更新为 1\n",
      "已经下载189,正在下载10.1136/oem.59.10.653\n"
     ]
    },
    {
     "name": "stderr",
     "output_type": "stream",
     "text": [
      "231it [18:28, 27.36s/it]"
     ]
    },
    {
     "name": "stdout",
     "output_type": "stream",
     "text": [
      "文件 SL01-231-J.pdf 下载成功！\n",
      "下载DOI为10.1136/oem.59.10.653的论文成功。\n",
      "文献DOI为 10.1136/oem.59.10.653 的下载状态已更新为 1\n",
      "已经下载190,正在下载10.1007/s11356-023-26037-x\n"
     ]
    },
    {
     "name": "stderr",
     "output_type": "stream",
     "text": [
      "232it [19:12, 32.52s/it]"
     ]
    },
    {
     "name": "stdout",
     "output_type": "stream",
     "text": [
      "下载DOI为10.1007/s11356-023-26037-x的论文成功。\n",
      "文献DOI为 10.1007/s11356-023-26037-x 的下载状态已更新为 1\n",
      "已经下载191,正在下载10.1111/ina.12533\n"
     ]
    },
    {
     "name": "stderr",
     "output_type": "stream",
     "text": [
      "233it [19:41, 31.24s/it]"
     ]
    },
    {
     "name": "stdout",
     "output_type": "stream",
     "text": [
      "下载DOI为10.1111/ina.12533的论文成功。\n",
      "文献DOI为 10.1111/ina.12533 的下载状态已更新为 1\n",
      "已经下载192,正在下载10.1016/j.envint.2019.04.031\n"
     ]
    },
    {
     "name": "stderr",
     "output_type": "stream",
     "text": [
      "234it [20:07, 29.91s/it]"
     ]
    },
    {
     "name": "stdout",
     "output_type": "stream",
     "text": [
      "文件 SL01-234-J.pdf 下载成功！\n",
      "下载DOI为10.1016/j.envint.2019.04.031的论文成功。\n",
      "文献DOI为 10.1016/j.envint.2019.04.031 的下载状态已更新为 1\n",
      "已经下载193,正在下载10.1136/oemed-2014-102651\n"
     ]
    },
    {
     "name": "stderr",
     "output_type": "stream",
     "text": [
      "235it [20:35, 29.10s/it]"
     ]
    },
    {
     "name": "stdout",
     "output_type": "stream",
     "text": [
      "文件 SL01-235-J.pdf 下载成功！\n",
      "下载DOI为10.1136/oemed-2014-102651的论文成功。\n",
      "文献DOI为 10.1136/oemed-2014-102651 的下载状态已更新为 1\n",
      "已经下载194,正在下载10.1016/j.envint.2016.06.010\n"
     ]
    },
    {
     "name": "stderr",
     "output_type": "stream",
     "text": [
      "236it [20:42, 22.55s/it]"
     ]
    },
    {
     "name": "stdout",
     "output_type": "stream",
     "text": [
      "文件 SL01-236-J.pdf 下载成功！\n",
      "下载DOI为10.1016/j.envint.2016.06.010的论文成功。\n",
      "文献DOI为 10.1016/j.envint.2016.06.010 的下载状态已更新为 1\n",
      "已经下载195,正在下载10.1016/j.envpol.2023.122699\n"
     ]
    },
    {
     "name": "stderr",
     "output_type": "stream",
     "text": [
      "237it [20:46, 17.01s/it]"
     ]
    },
    {
     "name": "stdout",
     "output_type": "stream",
     "text": [
      "未找到下载链接。\n",
      "文献DOI为 10.1016/j.envpol.2023.122699 的下载状态已更新为 2\n",
      "已经下载195,正在下载10.1371/journal.pone.0046793\n"
     ]
    },
    {
     "name": "stderr",
     "output_type": "stream",
     "text": [
      "238it [20:50, 13.14s/it]"
     ]
    },
    {
     "name": "stdout",
     "output_type": "stream",
     "text": [
      "下载DOI为10.1371/journal.pone.0046793的论文成功。\n",
      "文献DOI为 10.1371/journal.pone.0046793 的下载状态已更新为 1\n",
      "已经下载196,正在下载10.1021/acs.est.1c00128\n"
     ]
    },
    {
     "name": "stderr",
     "output_type": "stream",
     "text": [
      "239it [20:56, 11.07s/it]"
     ]
    },
    {
     "name": "stdout",
     "output_type": "stream",
     "text": [
      "文件 SL01-239-J.pdf 下载成功！\n",
      "下载DOI为10.1021/acs.est.1c00128的论文成功。\n",
      "文献DOI为 10.1021/acs.est.1c00128 的下载状态已更新为 1\n",
      "已经下载197,正在下载10.1016/j.watres.2014.02.013\n"
     ]
    },
    {
     "name": "stderr",
     "output_type": "stream",
     "text": [
      "240it [21:02,  9.47s/it]"
     ]
    },
    {
     "name": "stdout",
     "output_type": "stream",
     "text": [
      "文件 SL01-240-J.pdf 下载成功！\n",
      "下载DOI为10.1016/j.watres.2014.02.013的论文成功。\n",
      "文献DOI为 10.1016/j.watres.2014.02.013 的下载状态已更新为 1\n",
      "已经下载198,正在下载10.5696/2156-9614-11.31.210914\n"
     ]
    },
    {
     "name": "stderr",
     "output_type": "stream",
     "text": [
      "241it [21:19, 11.75s/it]"
     ]
    },
    {
     "name": "stdout",
     "output_type": "stream",
     "text": [
      "下载DOI为10.5696/2156-9614-11.31.210914的论文成功。\n",
      "文献DOI为 10.5696/2156-9614-11.31.210914 的下载状态已更新为 1\n",
      "已经下载199,正在下载10.1111/ina.12307\n"
     ]
    },
    {
     "name": "stderr",
     "output_type": "stream",
     "text": [
      "242it [21:26, 10.28s/it]"
     ]
    },
    {
     "name": "stdout",
     "output_type": "stream",
     "text": [
      "文件 SL01-242-J.pdf 下载成功！\n",
      "下载DOI为10.1111/ina.12307的论文成功。\n",
      "文献DOI为 10.1111/ina.12307 的下载状态已更新为 1\n",
      "已经下载200,正在下载10.1021/acs.chemrestox.3c00114\n"
     ]
    },
    {
     "name": "stderr",
     "output_type": "stream",
     "text": [
      "243it [21:30,  8.24s/it]"
     ]
    },
    {
     "name": "stdout",
     "output_type": "stream",
     "text": [
      "未找到下载链接。\n",
      "文献DOI为 10.1021/acs.chemrestox.3c00114 的下载状态已更新为 2\n",
      "已经下载200,正在下载10.1007/s11356-020-12060-9\n"
     ]
    },
    {
     "name": "stderr",
     "output_type": "stream",
     "text": [
      "244it [21:35,  5.31s/it]\n"
     ]
    },
    {
     "name": "stdout",
     "output_type": "stream",
     "text": [
      "文件 SL01-244-J.pdf 下载成功！\n",
      "下载DOI为10.1007/s11356-020-12060-9的论文成功。\n",
      "文献DOI为 10.1007/s11356-020-12060-9 的下载状态已更新为 1\n",
      "已经下载201篇文献\n"
     ]
    },
    {
     "name": "stderr",
     "output_type": "stream",
     "text": [
      "0it [00:00, ?it/s]"
     ]
    },
    {
     "name": "stdout",
     "output_type": "stream",
     "text": [
      "已经下载0,正在下载10.1038/s41565-023-01364-9\n"
     ]
    },
    {
     "name": "stderr",
     "output_type": "stream",
     "text": [
      "e:\\学习\\python\\py_codbase\\PK_LLM\\PK_LLM_endfront\\Paper_Downloader\\paper_downloader\\download_recorder.py:65: FutureWarning: Setting an item of incompatible dtype is deprecated and will raise an error in a future version of pandas. Value 'No abstract available for this PMID.' has dtype incompatible with float64, please explicitly cast to a compatible dtype first.\n",
      "  self.table.loc[self.table['DOI'] == doi, 'Abstract'] = abstract\n",
      "1it [00:03,  3.37s/it]"
     ]
    },
    {
     "name": "stdout",
     "output_type": "stream",
     "text": [
      "未找到下载链接。\n",
      "文献DOI为 10.1038/s41565-023-01364-9 的下载状态已更新为 2\n",
      "已经下载0,正在下载10.1016/j.marpolbul.2022.113553\n"
     ]
    },
    {
     "name": "stderr",
     "output_type": "stream",
     "text": [
      "2it [00:07,  3.64s/it]"
     ]
    },
    {
     "name": "stdout",
     "output_type": "stream",
     "text": [
      "未找到下载链接。\n",
      "文献DOI为 10.1016/j.marpolbul.2022.113553 的下载状态已更新为 2\n",
      "已经下载0,正在下载10.1002/cphy.c180001\n"
     ]
    },
    {
     "name": "stderr",
     "output_type": "stream",
     "text": [
      "3it [00:13,  4.72s/it]"
     ]
    },
    {
     "name": "stdout",
     "output_type": "stream",
     "text": [
      "文件 SL01-3-J.pdf 下载成功！\n",
      "下载DOI为10.1002/cphy.c180001的论文成功。\n",
      "文献DOI为 10.1002/cphy.c180001 的下载状态已更新为 1\n",
      "已经下载1,正在下载10.1016/j.tibtech.2023.03.016\n"
     ]
    },
    {
     "name": "stderr",
     "output_type": "stream",
     "text": [
      "4it [00:16,  4.33s/it]"
     ]
    },
    {
     "name": "stdout",
     "output_type": "stream",
     "text": [
      "未找到下载链接。\n",
      "文献DOI为 10.1016/j.tibtech.2023.03.016 的下载状态已更新为 2\n",
      "已经下载1,正在下载10.3389/fbioe.2023.1150078\n"
     ]
    },
    {
     "name": "stderr",
     "output_type": "stream",
     "text": [
      "5it [00:22,  4.60s/it]"
     ]
    },
    {
     "name": "stdout",
     "output_type": "stream",
     "text": [
      "下载DOI为10.3389/fbioe.2023.1150078的论文成功。\n",
      "文献DOI为 10.3389/fbioe.2023.1150078 的下载状态已更新为 1\n",
      "已经下载2,正在下载10.3390/jof9070760\n"
     ]
    },
    {
     "name": "stderr",
     "output_type": "stream",
     "text": [
      "6it [00:31,  6.35s/it]"
     ]
    },
    {
     "name": "stdout",
     "output_type": "stream",
     "text": [
      "下载DOI为10.3390/jof9070760的论文成功。\n",
      "文献DOI为 10.3390/jof9070760 的下载状态已更新为 1\n",
      "已经下载3,正在下载10.1016/j.jplph.2023.154059\n"
     ]
    },
    {
     "name": "stderr",
     "output_type": "stream",
     "text": [
      "7it [00:35,  5.38s/it]"
     ]
    },
    {
     "name": "stdout",
     "output_type": "stream",
     "text": [
      "未找到下载链接。\n",
      "文献DOI为 10.1016/j.jplph.2023.154059 的下载状态已更新为 2\n",
      "已经下载3,正在下载10.1111/apha.13980\n"
     ]
    },
    {
     "name": "stderr",
     "output_type": "stream",
     "text": [
      "8it [00:38,  4.81s/it]"
     ]
    },
    {
     "name": "stdout",
     "output_type": "stream",
     "text": [
      "未找到下载链接。\n",
      "文献DOI为 10.1111/apha.13980 的下载状态已更新为 2\n",
      "已经下载3,正在下载10.3390/ijms24108815\n"
     ]
    },
    {
     "name": "stderr",
     "output_type": "stream",
     "text": [
      "9it [00:55,  8.68s/it]"
     ]
    },
    {
     "name": "stdout",
     "output_type": "stream",
     "text": [
      "下载DOI为10.3390/ijms24108815的论文成功。\n",
      "文献DOI为 10.3390/ijms24108815 的下载状态已更新为 1\n",
      "已经下载4,正在下载10.1007/978-3-319-56895-9_3\n"
     ]
    },
    {
     "name": "stderr",
     "output_type": "stream",
     "text": [
      "10it [01:01,  7.84s/it]"
     ]
    },
    {
     "name": "stdout",
     "output_type": "stream",
     "text": [
      "文件 SL01-10-J.pdf 下载成功！\n",
      "下载DOI为10.1007/978-3-319-56895-9_3的论文成功。\n",
      "文献DOI为 10.1007/978-3-319-56895-9_3 的下载状态已更新为 1\n",
      "已经下载5,正在下载10.1016/j.scitotenv.2018.03.349\n"
     ]
    },
    {
     "name": "stderr",
     "output_type": "stream",
     "text": [
      "11it [01:12,  8.84s/it]"
     ]
    },
    {
     "name": "stdout",
     "output_type": "stream",
     "text": [
      "文件 SL01-11-J.pdf 下载成功！\n",
      "下载DOI为10.1016/j.scitotenv.2018.03.349的论文成功。\n",
      "文献DOI为 10.1016/j.scitotenv.2018.03.349 的下载状态已更新为 1\n",
      "已经下载6,正在下载10.1016/j.bbamem.2016.09.017\n"
     ]
    },
    {
     "name": "stderr",
     "output_type": "stream",
     "text": [
      "12it [01:20,  8.46s/it]"
     ]
    },
    {
     "name": "stdout",
     "output_type": "stream",
     "text": [
      "文件 SL01-12-J.pdf 下载成功！\n",
      "下载DOI为10.1016/j.bbamem.2016.09.017的论文成功。\n",
      "文献DOI为 10.1016/j.bbamem.2016.09.017 的下载状态已更新为 1\n",
      "已经下载7,正在下载10.13345/j.cjb.221024\n"
     ]
    },
    {
     "name": "stderr",
     "output_type": "stream",
     "text": [
      "13it [01:24,  6.97s/it]"
     ]
    },
    {
     "name": "stdout",
     "output_type": "stream",
     "text": [
      "未找到下载链接。\n",
      "文献DOI为 10.13345/j.cjb.221024 的下载状态已更新为 2\n",
      "已经下载7,正在下载10.1165/rcmb.2021-0413ED\n"
     ]
    },
    {
     "name": "stderr",
     "output_type": "stream",
     "text": [
      "14it [01:31,  7.16s/it]"
     ]
    },
    {
     "name": "stdout",
     "output_type": "stream",
     "text": [
      "下载DOI为10.1165/rcmb.2021-0413ED的论文成功。\n",
      "文献DOI为 10.1165/rcmb.2021-0413ED 的下载状态已更新为 1\n",
      "已经下载8,正在下载10.1016/j.scitotenv.2023.163908\n"
     ]
    },
    {
     "name": "stderr",
     "output_type": "stream",
     "text": [
      "15it [01:35,  6.13s/it]"
     ]
    },
    {
     "name": "stdout",
     "output_type": "stream",
     "text": [
      "未找到下载链接。\n",
      "文献DOI为 10.1016/j.scitotenv.2023.163908 的下载状态已更新为 2\n",
      "已经下载8,正在下载10.13345/j.cjb.230215\n"
     ]
    },
    {
     "name": "stderr",
     "output_type": "stream",
     "text": [
      "16it [01:39,  5.61s/it]"
     ]
    },
    {
     "name": "stdout",
     "output_type": "stream",
     "text": [
      "未找到下载链接。\n",
      "文献DOI为 10.13345/j.cjb.230215 的下载状态已更新为 2\n",
      "已经下载8,正在下载10.1016/j.chemosphere.2021.131670\n"
     ]
    },
    {
     "name": "stderr",
     "output_type": "stream",
     "text": [
      "17it [01:46,  6.01s/it]"
     ]
    },
    {
     "name": "stdout",
     "output_type": "stream",
     "text": [
      "文件 SL01-17-J.pdf 下载成功！\n",
      "下载DOI为10.1016/j.chemosphere.2021.131670的论文成功。\n",
      "文献DOI为 10.1016/j.chemosphere.2021.131670 的下载状态已更新为 1\n",
      "已经下载9,正在下载10.3389/fcell.2022.1106435\n"
     ]
    },
    {
     "name": "stderr",
     "output_type": "stream",
     "text": [
      "18it [01:51,  5.65s/it]"
     ]
    },
    {
     "name": "stdout",
     "output_type": "stream",
     "text": [
      "下载DOI为10.3389/fcell.2022.1106435的论文成功。\n",
      "文献DOI为 10.3389/fcell.2022.1106435 的下载状态已更新为 1\n",
      "已经下载10,正在下载10.1016/j.scitotenv.2020.141953\n"
     ]
    },
    {
     "name": "stderr",
     "output_type": "stream",
     "text": [
      "19it [01:57,  5.86s/it]"
     ]
    },
    {
     "name": "stdout",
     "output_type": "stream",
     "text": [
      "文件 SL01-19-J.pdf 下载成功！\n",
      "下载DOI为10.1016/j.scitotenv.2020.141953的论文成功。\n",
      "文献DOI为 10.1016/j.scitotenv.2020.141953 的下载状态已更新为 1\n",
      "已经下载11,正在下载10.1007/s10311-022-01552-4\n"
     ]
    },
    {
     "name": "stderr",
     "output_type": "stream",
     "text": [
      "20it [02:08,  7.13s/it]"
     ]
    },
    {
     "name": "stdout",
     "output_type": "stream",
     "text": [
      "下载DOI为10.1007/s10311-022-01552-4的论文成功。\n",
      "文献DOI为 10.1007/s10311-022-01552-4 的下载状态已更新为 1\n",
      "已经下载12,正在下载10.1016/j.wasman.2016.10.006\n"
     ]
    },
    {
     "name": "stderr",
     "output_type": "stream",
     "text": [
      "21it [02:13,  6.73s/it]"
     ]
    },
    {
     "name": "stdout",
     "output_type": "stream",
     "text": [
      "文件 SL01-21-J.pdf 下载成功！\n",
      "下载DOI为10.1016/j.wasman.2016.10.006的论文成功。\n",
      "文献DOI为 10.1016/j.wasman.2016.10.006 的下载状态已更新为 1\n",
      "已经下载13,正在下载10.3390/polym14204271\n"
     ]
    },
    {
     "name": "stderr",
     "output_type": "stream",
     "text": [
      "22it [02:18,  5.97s/it]"
     ]
    },
    {
     "name": "stdout",
     "output_type": "stream",
     "text": [
      "下载DOI为10.3390/polym14204271的论文成功。\n",
      "文献DOI为 10.3390/polym14204271 的下载状态已更新为 1\n",
      "已经下载14,正在下载10.1016/j.biotechadv.2016.10.006\n"
     ]
    },
    {
     "name": "stderr",
     "output_type": "stream",
     "text": [
      "23it [02:29,  7.70s/it]"
     ]
    },
    {
     "name": "stdout",
     "output_type": "stream",
     "text": [
      "文件 SL01-23-J.pdf 下载成功！\n",
      "下载DOI为10.1016/j.biotechadv.2016.10.006的论文成功。\n",
      "文献DOI为 10.1016/j.biotechadv.2016.10.006 的下载状态已更新为 1\n",
      "已经下载15,正在下载10.1186/1480-9222-16-8\n"
     ]
    },
    {
     "name": "stderr",
     "output_type": "stream",
     "text": [
      "24it [02:34,  6.73s/it]"
     ]
    },
    {
     "name": "stdout",
     "output_type": "stream",
     "text": [
      "下载DOI为10.1186/1480-9222-16-8的论文成功。\n",
      "文献DOI为 10.1186/1480-9222-16-8 的下载状态已更新为 1\n",
      "已经下载16,正在下载10.3389/fmicb.2022.1053169\n"
     ]
    },
    {
     "name": "stderr",
     "output_type": "stream",
     "text": [
      "25it [02:40,  6.50s/it]"
     ]
    },
    {
     "name": "stdout",
     "output_type": "stream",
     "text": [
      "下载DOI为10.3389/fmicb.2022.1053169的论文成功。\n",
      "文献DOI为 10.3389/fmicb.2022.1053169 的下载状态已更新为 1\n",
      "已经下载17,正在下载10.1016/j.wasman.2022.06.004\n"
     ]
    },
    {
     "name": "stderr",
     "output_type": "stream",
     "text": [
      "26it [02:43,  5.60s/it]"
     ]
    },
    {
     "name": "stdout",
     "output_type": "stream",
     "text": [
      "未找到下载链接。\n",
      "文献DOI为 10.1016/j.wasman.2022.06.004 的下载状态已更新为 2\n",
      "已经下载17,正在下载10.1016/j.scitotenv.2018.06.016\n"
     ]
    },
    {
     "name": "stderr",
     "output_type": "stream",
     "text": [
      "27it [02:50,  5.95s/it]"
     ]
    },
    {
     "name": "stdout",
     "output_type": "stream",
     "text": [
      "文件 SL01-27-J.pdf 下载成功！\n",
      "下载DOI为10.1016/j.scitotenv.2018.06.016的论文成功。\n",
      "文献DOI为 10.1016/j.scitotenv.2018.06.016 的下载状态已更新为 1\n",
      "已经下载18,正在下载10.3390/genes11040441\n"
     ]
    },
    {
     "name": "stderr",
     "output_type": "stream",
     "text": [
      "28it [02:56,  6.02s/it]"
     ]
    },
    {
     "name": "stdout",
     "output_type": "stream",
     "text": [
      "下载DOI为10.3390/genes11040441的论文成功。\n",
      "文献DOI为 10.3390/genes11040441 的下载状态已更新为 1\n",
      "已经下载19,正在下载10.1007/398_2019_29\n"
     ]
    },
    {
     "name": "stderr",
     "output_type": "stream",
     "text": [
      "29it [03:02,  6.09s/it]"
     ]
    },
    {
     "name": "stdout",
     "output_type": "stream",
     "text": [
      "文件 SL01-29-J.pdf 下载成功！\n",
      "下载DOI为10.1007/398_2019_29的论文成功。\n",
      "文献DOI为 10.1007/398_2019_29 的下载状态已更新为 1\n",
      "已经下载20,正在下载10.1007/s00253-023-12406-6\n"
     ]
    },
    {
     "name": "stderr",
     "output_type": "stream",
     "text": [
      "30it [03:10,  6.62s/it]"
     ]
    },
    {
     "name": "stdout",
     "output_type": "stream",
     "text": [
      "下载DOI为10.1007/s00253-023-12406-6的论文成功。\n",
      "文献DOI为 10.1007/s00253-023-12406-6 的下载状态已更新为 1\n",
      "已经下载21,正在下载10.2175/106143017X15023776270647\n"
     ]
    },
    {
     "name": "stderr",
     "output_type": "stream",
     "text": [
      "31it [03:17,  6.71s/it]"
     ]
    },
    {
     "name": "stdout",
     "output_type": "stream",
     "text": [
      "文件 SL01-31-J.pdf 下载成功！\n",
      "下载DOI为10.2175/106143017X15023776270647的论文成功。\n",
      "文献DOI为 10.2175/106143017X15023776270647 的下载状态已更新为 1\n",
      "已经下载22,正在下载10.1016/j.envint.2021.106560\n"
     ]
    },
    {
     "name": "stderr",
     "output_type": "stream",
     "text": [
      "32it [03:24,  6.81s/it]"
     ]
    },
    {
     "name": "stdout",
     "output_type": "stream",
     "text": [
      "文件 SL01-32-J.pdf 下载成功！\n",
      "下载DOI为10.1016/j.envint.2021.106560的论文成功。\n",
      "文献DOI为 10.1016/j.envint.2021.106560 的下载状态已更新为 1\n",
      "已经下载23,正在下载10.1021/acs.est.2c05346\n",
      "下载失败。\n",
      "下载失败。\n",
      "请求失败。\n"
     ]
    },
    {
     "name": "stderr",
     "output_type": "stream",
     "text": [
      "33it [03:34,  7.78s/it]"
     ]
    },
    {
     "name": "stdout",
     "output_type": "stream",
     "text": [
      "文献DOI为 10.1021/acs.est.2c05346 的下载状态已更新为 2\n",
      "已经下载23,正在下载10.1016/j.resp.2011.04.010\n"
     ]
    },
    {
     "name": "stderr",
     "output_type": "stream",
     "text": [
      "34it [03:39,  6.99s/it]"
     ]
    },
    {
     "name": "stdout",
     "output_type": "stream",
     "text": [
      "文件 SL01-34-J.pdf 下载成功！\n",
      "下载DOI为10.1016/j.resp.2011.04.010的论文成功。\n",
      "文献DOI为 10.1016/j.resp.2011.04.010 的下载状态已更新为 1\n",
      "已经下载24,正在下载10.1007/s11274-020-2808-5\n"
     ]
    },
    {
     "name": "stderr",
     "output_type": "stream",
     "text": [
      "35it [03:46,  6.81s/it]"
     ]
    },
    {
     "name": "stdout",
     "output_type": "stream",
     "text": [
      "文件 SL01-35-J.pdf 下载成功！\n",
      "下载DOI为10.1007/s11274-020-2808-5的论文成功。\n",
      "文献DOI为 10.1007/s11274-020-2808-5 的下载状态已更新为 1\n",
      "已经下载25,正在下载10.1111/j.1440-1681.2008.05053.x\n"
     ]
    },
    {
     "name": "stderr",
     "output_type": "stream",
     "text": [
      "36it [03:52,  6.63s/it]"
     ]
    },
    {
     "name": "stdout",
     "output_type": "stream",
     "text": [
      "文件 SL01-36-J.pdf 下载成功！\n",
      "下载DOI为10.1111/j.1440-1681.2008.05053.x的论文成功。\n",
      "文献DOI为 10.1111/j.1440-1681.2008.05053.x 的下载状态已更新为 1\n",
      "已经下载26,正在下载10.1096/fj.00-0203rev\n"
     ]
    },
    {
     "name": "stderr",
     "output_type": "stream",
     "text": [
      "37it [03:58,  6.44s/it]"
     ]
    },
    {
     "name": "stdout",
     "output_type": "stream",
     "text": [
      "文件 SL01-37-J.pdf 下载成功！\n",
      "下载DOI为10.1096/fj.00-0203rev的论文成功。\n",
      "文献DOI为 10.1096/fj.00-0203rev 的下载状态已更新为 1\n",
      "已经下载27,正在下载10.1007/s10529-022-03279-2\n",
      "下载失败。\n",
      "下载失败。\n",
      "请求失败。\n"
     ]
    },
    {
     "name": "stderr",
     "output_type": "stream",
     "text": [
      "38it [04:02,  5.81s/it]"
     ]
    },
    {
     "name": "stdout",
     "output_type": "stream",
     "text": [
      "文献DOI为 10.1007/s10529-022-03279-2 的下载状态已更新为 2\n",
      "已经下载27,正在下载10.1016/j.cis.2017.06.002\n"
     ]
    },
    {
     "name": "stderr",
     "output_type": "stream",
     "text": [
      "39it [04:31, 12.60s/it]"
     ]
    },
    {
     "name": "stdout",
     "output_type": "stream",
     "text": [
      "文件 SL01-39-J.pdf 下载成功！\n",
      "下载DOI为10.1016/j.cis.2017.06.002的论文成功。\n",
      "文献DOI为 10.1016/j.cis.2017.06.002 的下载状态已更新为 1\n",
      "已经下载28,正在下载10.3389/fphys.2014.00091\n"
     ]
    },
    {
     "name": "stderr",
     "output_type": "stream",
     "text": [
      "40it [04:36, 10.52s/it]"
     ]
    },
    {
     "name": "stdout",
     "output_type": "stream",
     "text": [
      "下载DOI为10.3389/fphys.2014.00091的论文成功。\n",
      "文献DOI为 10.3389/fphys.2014.00091 的下载状态已更新为 1\n",
      "已经下载29,正在下载10.1016/j.chemosphere.2023.138776\n"
     ]
    },
    {
     "name": "stderr",
     "output_type": "stream",
     "text": [
      "41it [04:40,  8.49s/it]"
     ]
    },
    {
     "name": "stdout",
     "output_type": "stream",
     "text": [
      "未找到下载链接。\n",
      "文献DOI为 10.1016/j.chemosphere.2023.138776 的下载状态已更新为 2\n",
      "已经下载29,正在下载10.1016/j.watres.2021.118026\n"
     ]
    },
    {
     "name": "stderr",
     "output_type": "stream",
     "text": [
      "42it [04:44,  7.13s/it]"
     ]
    },
    {
     "name": "stdout",
     "output_type": "stream",
     "text": [
      "未找到下载链接。\n",
      "文献DOI为 10.1016/j.watres.2021.118026 的下载状态已更新为 2\n",
      "已经下载29,正在下载10.3389/fmicb.2022.1001750\n"
     ]
    },
    {
     "name": "stderr",
     "output_type": "stream",
     "text": [
      "43it [04:50,  6.80s/it]"
     ]
    },
    {
     "name": "stdout",
     "output_type": "stream",
     "text": [
      "下载DOI为10.3389/fmicb.2022.1001750的论文成功。\n",
      "文献DOI为 10.3389/fmicb.2022.1001750 的下载状态已更新为 1\n",
      "已经下载30,正在下载10.1016/j.scitotenv.2021.152852\n"
     ]
    },
    {
     "name": "stderr",
     "output_type": "stream",
     "text": [
      "44it [04:54,  6.00s/it]"
     ]
    },
    {
     "name": "stdout",
     "output_type": "stream",
     "text": [
      "未找到下载链接。\n",
      "文献DOI为 10.1016/j.scitotenv.2021.152852 的下载状态已更新为 2\n",
      "已经下载30,正在下载10.1002/jobm.200510600\n"
     ]
    },
    {
     "name": "stderr",
     "output_type": "stream",
     "text": [
      "45it [05:00,  5.79s/it]"
     ]
    },
    {
     "name": "stdout",
     "output_type": "stream",
     "text": [
      "文件 SL01-45-J.pdf 下载成功！\n",
      "下载DOI为10.1002/jobm.200510600的论文成功。\n",
      "文献DOI为 10.1002/jobm.200510600 的下载状态已更新为 1\n",
      "已经下载31,正在下载10.1016/j.envpol.2022.119600\n"
     ]
    },
    {
     "name": "stderr",
     "output_type": "stream",
     "text": [
      "46it [05:04,  5.38s/it]"
     ]
    },
    {
     "name": "stdout",
     "output_type": "stream",
     "text": [
      "未找到下载链接。\n",
      "文献DOI为 10.1016/j.envpol.2022.119600 的下载状态已更新为 2\n",
      "已经下载31,正在下载10.1007/s00253-008-1548-5\n"
     ]
    },
    {
     "name": "stderr",
     "output_type": "stream",
     "text": [
      "47it [05:11,  5.70s/it]"
     ]
    },
    {
     "name": "stdout",
     "output_type": "stream",
     "text": [
      "文件 SL01-47-J.pdf 下载成功！\n",
      "下载DOI为10.1007/s00253-008-1548-5的论文成功。\n",
      "文献DOI为 10.1007/s00253-008-1548-5 的下载状态已更新为 1\n",
      "已经下载32,正在下载10.1039/c5cs00444f\n"
     ]
    },
    {
     "name": "stderr",
     "output_type": "stream",
     "text": [
      "48it [05:17,  5.93s/it]"
     ]
    },
    {
     "name": "stdout",
     "output_type": "stream",
     "text": [
      "文件 SL01-48-J.pdf 下载成功！\n",
      "下载DOI为10.1039/c5cs00444f的论文成功。\n",
      "文献DOI为 10.1039/c5cs00444f 的下载状态已更新为 1\n",
      "已经下载33,正在下载10.1007/s00424-002-0840-y\n"
     ]
    },
    {
     "name": "stderr",
     "output_type": "stream",
     "text": [
      "49it [05:23,  5.84s/it]"
     ]
    },
    {
     "name": "stdout",
     "output_type": "stream",
     "text": [
      "文件 SL01-49-J.pdf 下载成功！\n",
      "下载DOI为10.1007/s00424-002-0840-y的论文成功。\n",
      "文献DOI为 10.1007/s00424-002-0840-y 的下载状态已更新为 1\n",
      "已经下载34,正在下载10.1021/acs.est.3c10541\n"
     ]
    },
    {
     "name": "stderr",
     "output_type": "stream",
     "text": [
      "50it [05:26,  5.13s/it]"
     ]
    },
    {
     "name": "stdout",
     "output_type": "stream",
     "text": [
      "未找到下载链接。\n",
      "文献DOI为 10.1021/acs.est.3c10541 的下载状态已更新为 2\n",
      "已经下载34,正在下载10.2175/106143016X14696400495695\n"
     ]
    },
    {
     "name": "stderr",
     "output_type": "stream",
     "text": [
      "51it [05:33,  5.55s/it]"
     ]
    },
    {
     "name": "stdout",
     "output_type": "stream",
     "text": [
      "文件 SL01-51-J.pdf 下载成功！\n",
      "下载DOI为10.2175/106143016X14696400495695的论文成功。\n",
      "文献DOI为 10.2175/106143016X14696400495695 的下载状态已更新为 1\n",
      "已经下载35,正在下载10.1080/07388551.2023.2170861\n"
     ]
    },
    {
     "name": "stderr",
     "output_type": "stream",
     "text": [
      "52it [05:38,  5.49s/it]"
     ]
    },
    {
     "name": "stdout",
     "output_type": "stream",
     "text": [
      "未找到下载链接。\n",
      "文献DOI为 10.1080/07388551.2023.2170861 的下载状态已更新为 2\n",
      "已经下载35,正在下载10.1007/s00203-022-02883-0\n",
      "下载失败。\n",
      "下载失败。\n",
      "请求失败。\n"
     ]
    },
    {
     "name": "stderr",
     "output_type": "stream",
     "text": [
      "53it [05:42,  5.12s/it]"
     ]
    },
    {
     "name": "stdout",
     "output_type": "stream",
     "text": [
      "文献DOI为 10.1007/s00203-022-02883-0 的下载状态已更新为 2\n",
      "已经下载35,正在下载10.3390/biomedicines10092313\n"
     ]
    },
    {
     "name": "stderr",
     "output_type": "stream",
     "text": [
      "54it [06:25, 16.56s/it]"
     ]
    },
    {
     "name": "stdout",
     "output_type": "stream",
     "text": [
      "下载DOI为10.3390/biomedicines10092313的论文成功。\n",
      "文献DOI为 10.3390/biomedicines10092313 的下载状态已更新为 1\n",
      "已经下载36,正在下载10.1016/j.marpolbul.2016.04.044\n"
     ]
    },
    {
     "name": "stderr",
     "output_type": "stream",
     "text": [
      "55it [06:32, 13.50s/it]"
     ]
    },
    {
     "name": "stdout",
     "output_type": "stream",
     "text": [
      "文件 SL01-55-J.pdf 下载成功！\n",
      "下载DOI为10.1016/j.marpolbul.2016.04.044的论文成功。\n",
      "文献DOI为 10.1016/j.marpolbul.2016.04.044 的下载状态已更新为 1\n",
      "已经下载37,正在下载10.13345/j.cjb.190191\n"
     ]
    },
    {
     "name": "stderr",
     "output_type": "stream",
     "text": [
      "56it [06:36, 10.60s/it]"
     ]
    },
    {
     "name": "stdout",
     "output_type": "stream",
     "text": [
      "未找到下载链接。\n",
      "文献DOI为 10.13345/j.cjb.190191 的下载状态已更新为 2\n",
      "已经下载37,正在下载10.1208/s12249-021-02041-7\n"
     ]
    },
    {
     "name": "stderr",
     "output_type": "stream",
     "text": [
      "57it [06:43,  9.70s/it]"
     ]
    },
    {
     "name": "stdout",
     "output_type": "stream",
     "text": [
      "未找到下载链接。\n",
      "文献DOI为 10.1208/s12249-021-02041-7 的下载状态已更新为 2\n",
      "已经下载37,正在下载10.1021/acs.est.1c04710\n",
      "下载失败。\n",
      "下载失败。\n",
      "请求失败。\n"
     ]
    },
    {
     "name": "stderr",
     "output_type": "stream",
     "text": [
      "58it [06:48,  8.20s/it]"
     ]
    },
    {
     "name": "stdout",
     "output_type": "stream",
     "text": [
      "文献DOI为 10.1021/acs.est.1c04710 的下载状态已更新为 2\n",
      "已经下载37,正在下载10.1242/jeb.00639\n"
     ]
    },
    {
     "name": "stderr",
     "output_type": "stream",
     "text": [
      "59it [06:57,  8.30s/it]"
     ]
    },
    {
     "name": "stdout",
     "output_type": "stream",
     "text": [
      "文件 SL01-59-J.pdf 下载成功！\n",
      "下载DOI为10.1242/jeb.00639的论文成功。\n",
      "文献DOI为 10.1242/jeb.00639 的下载状态已更新为 1\n",
      "已经下载38,正在下载10.3389/fchem.2021.671750\n"
     ]
    },
    {
     "name": "stderr",
     "output_type": "stream",
     "text": [
      "60it [07:01,  7.28s/it]"
     ]
    },
    {
     "name": "stdout",
     "output_type": "stream",
     "text": [
      "下载DOI为10.3389/fchem.2021.671750的论文成功。\n",
      "文献DOI为 10.3389/fchem.2021.671750 的下载状态已更新为 1\n",
      "已经下载39,正在下载10.1016/j.chemosphere.2022.133600\n",
      "下载失败。\n",
      "下载失败。\n",
      "请求失败。\n"
     ]
    },
    {
     "name": "stderr",
     "output_type": "stream",
     "text": [
      "61it [07:06,  6.52s/it]"
     ]
    },
    {
     "name": "stdout",
     "output_type": "stream",
     "text": [
      "文献DOI为 10.1016/j.chemosphere.2022.133600 的下载状态已更新为 2\n",
      "已经下载39,正在下载10.1007/s00253-021-11182-5\n"
     ]
    },
    {
     "name": "stderr",
     "output_type": "stream",
     "text": [
      "62it [07:13,  6.50s/it]"
     ]
    },
    {
     "name": "stdout",
     "output_type": "stream",
     "text": [
      "文件 SL01-62-J.pdf 下载成功！\n",
      "下载DOI为10.1007/s00253-021-11182-5的论文成功。\n",
      "文献DOI为 10.1007/s00253-021-11182-5 的下载状态已更新为 1\n",
      "已经下载40,正在下载10.1016/j.watres.2022.118832\n"
     ]
    },
    {
     "name": "stderr",
     "output_type": "stream",
     "text": [
      "63it [07:17,  5.73s/it]"
     ]
    },
    {
     "name": "stdout",
     "output_type": "stream",
     "text": [
      "未找到下载链接。\n",
      "文献DOI为 10.1016/j.watres.2022.118832 的下载状态已更新为 2\n",
      "已经下载40,正在下载10.1021/acs.est.2c06583\n"
     ]
    },
    {
     "name": "stderr",
     "output_type": "stream",
     "text": [
      "64it [07:20,  5.11s/it]"
     ]
    },
    {
     "name": "stdout",
     "output_type": "stream",
     "text": [
      "未找到下载链接。\n",
      "文献DOI为 10.1021/acs.est.2c06583 的下载状态已更新为 2\n",
      "已经下载40,正在下载10.3390/molecules25030706\n"
     ]
    },
    {
     "name": "stderr",
     "output_type": "stream",
     "text": [
      "65it [07:24,  4.67s/it]"
     ]
    },
    {
     "name": "stdout",
     "output_type": "stream",
     "text": [
      "下载DOI为10.3390/molecules25030706的论文成功。\n",
      "文献DOI为 10.3390/molecules25030706 的下载状态已更新为 1\n",
      "已经下载41,正在下载10.1002/etc.5632\n"
     ]
    },
    {
     "name": "stderr",
     "output_type": "stream",
     "text": [
      "66it [07:27,  4.31s/it]"
     ]
    },
    {
     "name": "stdout",
     "output_type": "stream",
     "text": [
      "未找到下载链接。\n",
      "文献DOI为 10.1002/etc.5632 的下载状态已更新为 2\n",
      "已经下载41,正在下载10.1016/j.scitotenv.2017.03.285\n"
     ]
    },
    {
     "name": "stderr",
     "output_type": "stream",
     "text": [
      "67it [07:35,  5.31s/it]"
     ]
    },
    {
     "name": "stdout",
     "output_type": "stream",
     "text": [
      "文件 SL01-67-J.pdf 下载成功！\n",
      "下载DOI为10.1016/j.scitotenv.2017.03.285的论文成功。\n",
      "文献DOI为 10.1016/j.scitotenv.2017.03.285 的下载状态已更新为 1\n",
      "已经下载42,正在下载10.1021/acs.est.5b00715\n"
     ]
    },
    {
     "name": "stderr",
     "output_type": "stream",
     "text": [
      "68it [07:41,  5.67s/it]"
     ]
    },
    {
     "name": "stdout",
     "output_type": "stream",
     "text": [
      "文件 SL01-68-J.pdf 下载成功！\n",
      "下载DOI为10.1021/acs.est.5b00715的论文成功。\n",
      "文献DOI为 10.1021/acs.est.5b00715 的下载状态已更新为 1\n",
      "已经下载43,正在下载10.1021/acs.est.1c00994\n"
     ]
    },
    {
     "name": "stderr",
     "output_type": "stream",
     "text": [
      "69it [07:47,  5.60s/it]"
     ]
    },
    {
     "name": "stdout",
     "output_type": "stream",
     "text": [
      "文件 SL01-69-J.pdf 下载成功！\n",
      "下载DOI为10.1021/acs.est.1c00994的论文成功。\n",
      "文献DOI为 10.1021/acs.est.1c00994 的下载状态已更新为 1\n",
      "已经下载44,正在下载10.1007/s11274-024-03932-0\n"
     ]
    },
    {
     "name": "stderr",
     "output_type": "stream",
     "text": [
      "70it [07:51,  5.15s/it]"
     ]
    },
    {
     "name": "stdout",
     "output_type": "stream",
     "text": [
      "未找到下载链接。\n",
      "文献DOI为 10.1007/s11274-024-03932-0 的下载状态已更新为 2\n",
      "已经下载44,正在下载10.1016/j.envpol.2018.04.074\n"
     ]
    },
    {
     "name": "stderr",
     "output_type": "stream",
     "text": [
      "71it [07:57,  5.34s/it]"
     ]
    },
    {
     "name": "stdout",
     "output_type": "stream",
     "text": [
      "文件 SL01-71-J.pdf 下载成功！\n",
      "下载DOI为10.1016/j.envpol.2018.04.074的论文成功。\n",
      "文献DOI为 10.1016/j.envpol.2018.04.074 的下载状态已更新为 1\n",
      "已经下载45,正在下载10.1007/s10532-022-09993-y\n",
      "下载失败。\n",
      "下载失败。\n",
      "请求失败。\n"
     ]
    },
    {
     "name": "stderr",
     "output_type": "stream",
     "text": [
      "72it [08:01,  5.00s/it]"
     ]
    },
    {
     "name": "stdout",
     "output_type": "stream",
     "text": [
      "文献DOI为 10.1007/s10532-022-09993-y 的下载状态已更新为 2\n",
      "已经下载45,正在下载10.1093/database/baz119\n"
     ]
    },
    {
     "name": "stderr",
     "output_type": "stream",
     "text": [
      "73it [08:14,  7.38s/it]"
     ]
    },
    {
     "name": "stdout",
     "output_type": "stream",
     "text": [
      "下载DOI为10.1093/database/baz119的论文成功。\n",
      "文献DOI为 10.1093/database/baz119 的下载状态已更新为 1\n",
      "已经下载46,正在下载10.1016/j.chemosphere.2021.130444\n"
     ]
    },
    {
     "name": "stderr",
     "output_type": "stream",
     "text": [
      "74it [08:25,  8.46s/it]"
     ]
    },
    {
     "name": "stdout",
     "output_type": "stream",
     "text": [
      "文件 SL01-74-J.pdf 下载成功！\n",
      "下载DOI为10.1016/j.chemosphere.2021.130444的论文成功。\n",
      "文献DOI为 10.1016/j.chemosphere.2021.130444 的下载状态已更新为 1\n",
      "已经下载47,正在下载10.1212/WNL.0000000000007305\n"
     ]
    },
    {
     "name": "stderr",
     "output_type": "stream",
     "text": [
      "75it [08:30,  7.45s/it]"
     ]
    },
    {
     "name": "stdout",
     "output_type": "stream",
     "text": [
      "文件 SL01-75-J.pdf 下载成功！\n",
      "下载DOI为10.1212/WNL.0000000000007305的论文成功。\n",
      "文献DOI为 10.1212/WNL.0000000000007305 的下载状态已更新为 1\n",
      "已经下载48,正在下载10.1007/s00253-012-4537-7\n"
     ]
    },
    {
     "name": "stderr",
     "output_type": "stream",
     "text": [
      "76it [08:35,  6.60s/it]"
     ]
    },
    {
     "name": "stdout",
     "output_type": "stream",
     "text": [
      "文件 SL01-76-J.pdf 下载成功！\n",
      "下载DOI为10.1007/s00253-012-4537-7的论文成功。\n",
      "文献DOI为 10.1007/s00253-012-4537-7 的下载状态已更新为 1\n",
      "已经下载49,正在下载10.3390/ijerph20075347\n"
     ]
    },
    {
     "name": "stderr",
     "output_type": "stream",
     "text": [
      "77it [08:43,  7.12s/it]"
     ]
    },
    {
     "name": "stdout",
     "output_type": "stream",
     "text": [
      "下载DOI为10.3390/ijerph20075347的论文成功。\n",
      "文献DOI为 10.3390/ijerph20075347 的下载状态已更新为 1\n",
      "已经下载50,正在下载10.1016/j.sdentj.2021.12.007\n"
     ]
    },
    {
     "name": "stderr",
     "output_type": "stream",
     "text": [
      "78it [08:56,  9.04s/it]"
     ]
    },
    {
     "name": "stdout",
     "output_type": "stream",
     "text": [
      "下载DOI为10.1016/j.sdentj.2021.12.007的论文成功。\n",
      "文献DOI为 10.1016/j.sdentj.2021.12.007 的下载状态已更新为 1\n",
      "已经下载51,正在下载10.1016/bs.mie.2020.12.029\n"
     ]
    },
    {
     "name": "stderr",
     "output_type": "stream",
     "text": [
      "79it [09:00,  7.46s/it]"
     ]
    },
    {
     "name": "stdout",
     "output_type": "stream",
     "text": [
      "未找到下载链接。\n",
      "文献DOI为 10.1016/bs.mie.2020.12.029 的下载状态已更新为 2\n",
      "已经下载51,正在下载10.1016/j.biortech.2021.126280\n"
     ]
    },
    {
     "name": "stderr",
     "output_type": "stream",
     "text": [
      "80it [09:03,  6.04s/it]"
     ]
    },
    {
     "name": "stdout",
     "output_type": "stream",
     "text": [
      "未找到下载链接。\n",
      "文献DOI为 10.1016/j.biortech.2021.126280 的下载状态已更新为 2\n",
      "已经下载51,正在下载10.3390/polym14030375\n"
     ]
    },
    {
     "name": "stderr",
     "output_type": "stream",
     "text": [
      "81it [09:06,  5.07s/it]"
     ]
    },
    {
     "name": "stdout",
     "output_type": "stream",
     "text": [
      "下载DOI为10.3390/polym14030375的论文成功。\n",
      "文献DOI为 10.3390/polym14030375 的下载状态已更新为 1\n",
      "已经下载52,正在下载10.3390/s8074062\n"
     ]
    },
    {
     "name": "stderr",
     "output_type": "stream",
     "text": [
      "82it [09:10,  4.85s/it]"
     ]
    },
    {
     "name": "stdout",
     "output_type": "stream",
     "text": [
      "下载DOI为10.3390/s8074062的论文成功。\n",
      "文献DOI为 10.3390/s8074062 的下载状态已更新为 1\n",
      "已经下载53,正在下载10.1016/j.jhazmat.2023.131186\n"
     ]
    },
    {
     "name": "stderr",
     "output_type": "stream",
     "text": [
      "83it [09:13,  4.41s/it]"
     ]
    },
    {
     "name": "stdout",
     "output_type": "stream",
     "text": [
      "未找到下载链接。\n",
      "文献DOI为 10.1016/j.jhazmat.2023.131186 的下载状态已更新为 2\n",
      "已经下载53,正在下载10.1021/acs.est.2c04755\n"
     ]
    },
    {
     "name": "stderr",
     "output_type": "stream",
     "text": [
      "84it [09:17,  4.04s/it]"
     ]
    },
    {
     "name": "stdout",
     "output_type": "stream",
     "text": [
      "未找到下载链接。\n",
      "文献DOI为 10.1021/acs.est.2c04755 的下载状态已更新为 2\n",
      "已经下载53,正在下载10.1007/s12010-007-9212-6\n"
     ]
    },
    {
     "name": "stderr",
     "output_type": "stream",
     "text": [
      "85it [09:24,  4.98s/it]"
     ]
    },
    {
     "name": "stdout",
     "output_type": "stream",
     "text": [
      "文件 SL01-85-J.pdf 下载成功！\n",
      "下载DOI为10.1007/s12010-007-9212-6的论文成功。\n",
      "文献DOI为 10.1007/s12010-007-9212-6 的下载状态已更新为 1\n",
      "已经下载54,正在下载10.1016/j.msec.2021.112617\n",
      "下载失败。\n",
      "下载失败。\n",
      "请求失败。\n"
     ]
    },
    {
     "name": "stderr",
     "output_type": "stream",
     "text": [
      "86it [09:28,  4.81s/it]"
     ]
    },
    {
     "name": "stdout",
     "output_type": "stream",
     "text": [
      "文献DOI为 10.1016/j.msec.2021.112617 的下载状态已更新为 2\n",
      "已经下载54,正在下载10.1128/mSphere.00058-20\n"
     ]
    },
    {
     "name": "stderr",
     "output_type": "stream",
     "text": [
      "87it [09:40,  6.90s/it]"
     ]
    },
    {
     "name": "stdout",
     "output_type": "stream",
     "text": [
      "下载DOI为10.1128/mSphere.00058-20的论文成功。\n",
      "文献DOI为 10.1128/mSphere.00058-20 的下载状态已更新为 1\n",
      "已经下载55,正在下载10.1016/j.heliyon.2022.e10490\n"
     ]
    },
    {
     "name": "stderr",
     "output_type": "stream",
     "text": [
      "88it [09:48,  7.15s/it]"
     ]
    },
    {
     "name": "stdout",
     "output_type": "stream",
     "text": [
      "下载DOI为10.1016/j.heliyon.2022.e10490的论文成功。\n",
      "文献DOI为 10.1016/j.heliyon.2022.e10490 的下载状态已更新为 1\n",
      "已经下载56,正在下载10.1177/0734242X231164320\n"
     ]
    },
    {
     "name": "stderr",
     "output_type": "stream",
     "text": [
      "89it [09:52,  6.21s/it]"
     ]
    },
    {
     "name": "stdout",
     "output_type": "stream",
     "text": [
      "未找到下载链接。\n",
      "文献DOI为 10.1177/0734242X231164320 的下载状态已更新为 2\n",
      "已经下载56,正在下载10.3389/fmicb.2019.01851\n"
     ]
    },
    {
     "name": "stderr",
     "output_type": "stream",
     "text": [
      "90it [09:56,  5.53s/it]"
     ]
    },
    {
     "name": "stdout",
     "output_type": "stream",
     "text": [
      "下载DOI为10.3389/fmicb.2019.01851的论文成功。\n",
      "文献DOI为 10.3389/fmicb.2019.01851 的下载状态已更新为 1\n",
      "已经下载57,正在下载10.1021/jf020457n\n"
     ]
    },
    {
     "name": "stderr",
     "output_type": "stream",
     "text": [
      "91it [10:01,  5.54s/it]"
     ]
    },
    {
     "name": "stdout",
     "output_type": "stream",
     "text": [
      "文件 SL01-91-J.pdf 下载成功！\n",
      "下载DOI为10.1021/jf020457n的论文成功。\n",
      "文献DOI为 10.1021/jf020457n 的下载状态已更新为 1\n",
      "已经下载58,正在下载10.1073/pnas.2209749119\n"
     ]
    },
    {
     "name": "stderr",
     "output_type": "stream",
     "text": [
      "92it [10:09,  6.09s/it]"
     ]
    },
    {
     "name": "stdout",
     "output_type": "stream",
     "text": [
      "下载DOI为10.1073/pnas.2209749119的论文成功。\n",
      "文献DOI为 10.1073/pnas.2209749119 的下载状态已更新为 1\n",
      "已经下载59,正在下载10.3390/ma15228030\n"
     ]
    },
    {
     "name": "stderr",
     "output_type": "stream",
     "text": [
      "93it [10:13,  5.44s/it]"
     ]
    },
    {
     "name": "stdout",
     "output_type": "stream",
     "text": [
      "下载DOI为10.3390/ma15228030的论文成功。\n",
      "文献DOI为 10.3390/ma15228030 的下载状态已更新为 1\n",
      "已经下载60,正在下载10.1016/j.jhazmat.2022.129211\n"
     ]
    },
    {
     "name": "stderr",
     "output_type": "stream",
     "text": [
      "94it [10:16,  4.95s/it]"
     ]
    },
    {
     "name": "stdout",
     "output_type": "stream",
     "text": [
      "未找到下载链接。\n",
      "文献DOI为 10.1016/j.jhazmat.2022.129211 的下载状态已更新为 2\n",
      "已经下载60,正在下载10.3390/ma16216843\n"
     ]
    },
    {
     "name": "stderr",
     "output_type": "stream",
     "text": [
      "95it [10:28,  6.98s/it]"
     ]
    },
    {
     "name": "stdout",
     "output_type": "stream",
     "text": [
      "下载DOI为10.3390/ma16216843的论文成功。\n",
      "文献DOI为 10.3390/ma16216843 的下载状态已更新为 1\n",
      "已经下载61,正在下载10.1007/s00253-010-2461-2\n"
     ]
    },
    {
     "name": "stderr",
     "output_type": "stream",
     "text": [
      "96it [10:34,  6.61s/it]"
     ]
    },
    {
     "name": "stdout",
     "output_type": "stream",
     "text": [
      "文件 SL01-96-J.pdf 下载成功！\n",
      "下载DOI为10.1007/s00253-010-2461-2的论文成功。\n",
      "文献DOI为 10.1007/s00253-010-2461-2 的下载状态已更新为 1\n",
      "已经下载62,正在下载10.1152/ajprenal.00432.2007\n"
     ]
    },
    {
     "name": "stderr",
     "output_type": "stream",
     "text": [
      "97it [10:41,  6.89s/it]"
     ]
    },
    {
     "name": "stdout",
     "output_type": "stream",
     "text": [
      "文件 SL01-97-J.pdf 下载成功！\n",
      "下载DOI为10.1152/ajprenal.00432.2007的论文成功。\n",
      "文献DOI为 10.1152/ajprenal.00432.2007 的下载状态已更新为 1\n",
      "已经下载63,正在下载10.1007/s00253-007-1276-2\n"
     ]
    },
    {
     "name": "stderr",
     "output_type": "stream",
     "text": [
      "98it [10:46,  6.30s/it]"
     ]
    },
    {
     "name": "stdout",
     "output_type": "stream",
     "text": [
      "文件 SL01-98-J.pdf 下载成功！\n",
      "下载DOI为10.1007/s00253-007-1276-2的论文成功。\n",
      "文献DOI为 10.1007/s00253-007-1276-2 的下载状态已更新为 1\n",
      "已经下载64,正在下载10.3390/ma14030503\n"
     ]
    },
    {
     "name": "stderr",
     "output_type": "stream",
     "text": [
      "99it [11:11, 11.82s/it]"
     ]
    },
    {
     "name": "stdout",
     "output_type": "stream",
     "text": [
      "下载DOI为10.3390/ma14030503的论文成功。\n",
      "文献DOI为 10.3390/ma14030503 的下载状态已更新为 1\n",
      "已经下载65,正在下载10.3390/polym13203470\n"
     ]
    },
    {
     "name": "stderr",
     "output_type": "stream",
     "text": [
      "100it [11:41, 17.28s/it]"
     ]
    },
    {
     "name": "stdout",
     "output_type": "stream",
     "text": [
      "下载DOI为10.3390/polym13203470的论文成功。\n",
      "文献DOI为 10.3390/polym13203470 的下载状态已更新为 1\n",
      "已经下载66,正在下载10.1007/s11274-023-03590-8\n"
     ]
    },
    {
     "name": "stderr",
     "output_type": "stream",
     "text": [
      "101it [11:44, 13.07s/it]"
     ]
    },
    {
     "name": "stdout",
     "output_type": "stream",
     "text": [
      "未找到下载链接。\n",
      "文献DOI为 10.1007/s11274-023-03590-8 的下载状态已更新为 2\n",
      "已经下载66,正在下载10.1016/j.chemosphere.2023.138099\n"
     ]
    },
    {
     "name": "stderr",
     "output_type": "stream",
     "text": [
      "102it [11:48, 10.13s/it]"
     ]
    },
    {
     "name": "stdout",
     "output_type": "stream",
     "text": [
      "未找到下载链接。\n",
      "文献DOI为 10.1016/j.chemosphere.2023.138099 的下载状态已更新为 2\n",
      "已经下载66,正在下载10.1016/j.copbio.2004.03.006\n"
     ]
    },
    {
     "name": "stderr",
     "output_type": "stream",
     "text": [
      "103it [11:52,  8.51s/it]"
     ]
    },
    {
     "name": "stdout",
     "output_type": "stream",
     "text": [
      "文件 SL01-103-J.pdf 下载成功！\n",
      "下载DOI为10.1016/j.copbio.2004.03.006的论文成功。\n",
      "文献DOI为 10.1016/j.copbio.2004.03.006 的下载状态已更新为 1\n",
      "已经下载67,正在下载10.1371/journal.pone.0256376\n"
     ]
    },
    {
     "name": "stderr",
     "output_type": "stream",
     "text": [
      "104it [11:56,  7.20s/it]"
     ]
    },
    {
     "name": "stdout",
     "output_type": "stream",
     "text": [
      "下载DOI为10.1371/journal.pone.0256376的论文成功。\n",
      "文献DOI为 10.1371/journal.pone.0256376 的下载状态已更新为 1\n",
      "已经下载68,正在下载10.5650/jos.ess21440\n"
     ]
    },
    {
     "name": "stderr",
     "output_type": "stream",
     "text": [
      "105it [12:02,  6.62s/it]"
     ]
    },
    {
     "name": "stdout",
     "output_type": "stream",
     "text": [
      "下载DOI为10.5650/jos.ess21440的论文成功。\n",
      "文献DOI为 10.5650/jos.ess21440 的下载状态已更新为 1\n",
      "已经下载69,正在下载10.1016/j.jes.2021.02.017\n"
     ]
    },
    {
     "name": "stderr",
     "output_type": "stream",
     "text": [
      "106it [12:07,  6.33s/it]"
     ]
    },
    {
     "name": "stdout",
     "output_type": "stream",
     "text": [
      "文件 SL01-106-J.pdf 下载成功！\n",
      "下载DOI为10.1016/j.jes.2021.02.017的论文成功。\n",
      "文献DOI为 10.1016/j.jes.2021.02.017 的下载状态已更新为 1\n",
      "已经下载70,正在下载10.1016/j.ijbiomac.2023.127472\n"
     ]
    },
    {
     "name": "stderr",
     "output_type": "stream",
     "text": [
      "107it [12:11,  5.43s/it]"
     ]
    },
    {
     "name": "stdout",
     "output_type": "stream",
     "text": [
      "未找到下载链接。\n",
      "文献DOI为 10.1016/j.ijbiomac.2023.127472 的下载状态已更新为 2\n",
      "已经下载70,正在下载10.1016/j.jhazmat.2019.121271\n"
     ]
    },
    {
     "name": "stderr",
     "output_type": "stream",
     "text": [
      "108it [12:17,  5.76s/it]"
     ]
    },
    {
     "name": "stdout",
     "output_type": "stream",
     "text": [
      "文件 SL01-108-J.pdf 下载成功！\n",
      "下载DOI为10.1016/j.jhazmat.2019.121271的论文成功。\n",
      "文献DOI为 10.1016/j.jhazmat.2019.121271 的下载状态已更新为 1\n",
      "已经下载71,正在下载10.1016/j.crmicr.2021.100092\n"
     ]
    },
    {
     "name": "stderr",
     "output_type": "stream",
     "text": [
      "109it [12:46, 12.69s/it]"
     ]
    },
    {
     "name": "stdout",
     "output_type": "stream",
     "text": [
      "下载DOI为10.1016/j.crmicr.2021.100092的论文成功。\n",
      "文献DOI为 10.1016/j.crmicr.2021.100092 的下载状态已更新为 1\n",
      "已经下载72,正在下载10.1002/hep.22632\n"
     ]
    },
    {
     "name": "stderr",
     "output_type": "stream",
     "text": [
      "110it [12:51, 10.27s/it]"
     ]
    },
    {
     "name": "stdout",
     "output_type": "stream",
     "text": [
      "下载DOI为10.1002/hep.22632的论文成功。\n",
      "文献DOI为 10.1002/hep.22632 的下载状态已更新为 1\n",
      "已经下载73,正在下载10.1021/acs.jafc.1c05589\n",
      "下载失败。\n",
      "下载失败。\n",
      "请求失败。\n"
     ]
    },
    {
     "name": "stderr",
     "output_type": "stream",
     "text": [
      "111it [12:55,  8.51s/it]"
     ]
    },
    {
     "name": "stdout",
     "output_type": "stream",
     "text": [
      "文献DOI为 10.1021/acs.jafc.1c05589 的下载状态已更新为 2\n",
      "已经下载73,正在下载10.3390/polym14040838\n"
     ]
    },
    {
     "name": "stderr",
     "output_type": "stream",
     "text": [
      "112it [13:07,  9.65s/it]"
     ]
    },
    {
     "name": "stdout",
     "output_type": "stream",
     "text": [
      "下载DOI为10.3390/polym14040838的论文成功。\n",
      "文献DOI为 10.3390/polym14040838 的下载状态已更新为 1\n",
      "已经下载74,正在下载10.1007/s00253-009-2192-4\n"
     ]
    },
    {
     "name": "stderr",
     "output_type": "stream",
     "text": [
      "113it [13:16,  9.35s/it]"
     ]
    },
    {
     "name": "stdout",
     "output_type": "stream",
     "text": [
      "文件 SL01-113-J.pdf 下载成功！\n",
      "下载DOI为10.1007/s00253-009-2192-4的论文成功。\n",
      "文献DOI为 10.1007/s00253-009-2192-4 的下载状态已更新为 1\n",
      "已经下载75,正在下载10.3390/polym15102311\n"
     ]
    },
    {
     "name": "stderr",
     "output_type": "stream",
     "text": [
      "114it [13:22,  8.25s/it]"
     ]
    },
    {
     "name": "stdout",
     "output_type": "stream",
     "text": [
      "下载DOI为10.3390/polym15102311的论文成功。\n",
      "文献DOI为 10.3390/polym15102311 的下载状态已更新为 1\n",
      "已经下载76,正在下载10.1515/znc-2016-0214\n"
     ]
    },
    {
     "name": "stderr",
     "output_type": "stream",
     "text": [
      "115it [13:28,  7.65s/it]"
     ]
    },
    {
     "name": "stdout",
     "output_type": "stream",
     "text": [
      "文件 SL01-115-J.pdf 下载成功！\n",
      "下载DOI为10.1515/znc-2016-0214的论文成功。\n",
      "文献DOI为 10.1515/znc-2016-0214 的下载状态已更新为 1\n",
      "已经下载77,正在下载10.1039/c9nr90067e\n"
     ]
    },
    {
     "name": "stderr",
     "output_type": "stream",
     "text": [
      "116it [13:32,  6.45s/it]"
     ]
    },
    {
     "name": "stdout",
     "output_type": "stream",
     "text": [
      "下载DOI为10.1039/c9nr90067e的论文成功。\n",
      "文献DOI为 10.1039/c9nr90067e 的下载状态已更新为 1\n",
      "已经下载78,正在下载10.1016/j.jenvman.2021.113648\n"
     ]
    },
    {
     "name": "stderr",
     "output_type": "stream",
     "text": [
      "117it [13:42,  7.49s/it]"
     ]
    },
    {
     "name": "stdout",
     "output_type": "stream",
     "text": [
      "文件 SL01-117-J.pdf 下载成功！\n",
      "下载DOI为10.1016/j.jenvman.2021.113648的论文成功。\n",
      "文献DOI为 10.1016/j.jenvman.2021.113648 的下载状态已更新为 1\n",
      "已经下载79,正在下载10.1016/j.scitotenv.2020.137616\n"
     ]
    },
    {
     "name": "stderr",
     "output_type": "stream",
     "text": [
      "118it [13:47,  6.95s/it]"
     ]
    },
    {
     "name": "stdout",
     "output_type": "stream",
     "text": [
      "文件 SL01-118-J.pdf 下载成功！\n",
      "下载DOI为10.1016/j.scitotenv.2020.137616的论文成功。\n",
      "文献DOI为 10.1016/j.scitotenv.2020.137616 的下载状态已更新为 1\n",
      "已经下载80,正在下载10.1016/j.jhazmat.2022.129617\n"
     ]
    },
    {
     "name": "stderr",
     "output_type": "stream",
     "text": [
      "119it [13:56,  7.43s/it]"
     ]
    },
    {
     "name": "stdout",
     "output_type": "stream",
     "text": [
      "未找到下载链接。\n",
      "文献DOI为 10.1016/j.jhazmat.2022.129617 的下载状态已更新为 2\n",
      "已经下载80,正在下载10.1021/es504258u\n"
     ]
    },
    {
     "name": "stderr",
     "output_type": "stream",
     "text": [
      "120it [14:04,  7.65s/it]"
     ]
    },
    {
     "name": "stdout",
     "output_type": "stream",
     "text": [
      "文件 SL01-120-J.pdf 下载成功！\n",
      "下载DOI为10.1021/es504258u的论文成功。\n",
      "文献DOI为 10.1021/es504258u 的下载状态已更新为 1\n",
      "已经下载81,正在下载10.1016/j.jenvman.2021.113933\n"
     ]
    },
    {
     "name": "stderr",
     "output_type": "stream",
     "text": [
      "121it [14:08,  6.45s/it]"
     ]
    },
    {
     "name": "stdout",
     "output_type": "stream",
     "text": [
      "未找到下载链接。\n",
      "文献DOI为 10.1016/j.jenvman.2021.113933 的下载状态已更新为 2\n",
      "已经下载81,正在下载10.1016/j.ecoenv.2014.09.021\n"
     ]
    },
    {
     "name": "stderr",
     "output_type": "stream",
     "text": [
      "122it [14:20,  8.23s/it]"
     ]
    },
    {
     "name": "stdout",
     "output_type": "stream",
     "text": [
      "文件 SL01-122-J.pdf 下载成功！\n",
      "下载DOI为10.1016/j.ecoenv.2014.09.021的论文成功。\n",
      "文献DOI为 10.1016/j.ecoenv.2014.09.021 的下载状态已更新为 1\n",
      "已经下载82,正在下载10.1016/j.scitotenv.2021.152137\n"
     ]
    },
    {
     "name": "stderr",
     "output_type": "stream",
     "text": [
      "123it [14:25,  7.36s/it]"
     ]
    },
    {
     "name": "stdout",
     "output_type": "stream",
     "text": [
      "下载DOI为10.1016/j.scitotenv.2021.152137的论文成功。\n",
      "文献DOI为 10.1016/j.scitotenv.2021.152137 的下载状态已更新为 1\n",
      "已经下载83,正在下载10.2105/AJPH.2010.300109\n"
     ]
    },
    {
     "name": "stderr",
     "output_type": "stream",
     "text": [
      "124it [14:32,  7.29s/it]"
     ]
    },
    {
     "name": "stdout",
     "output_type": "stream",
     "text": [
      "下载DOI为10.2105/AJPH.2010.300109的论文成功。\n",
      "文献DOI为 10.2105/AJPH.2010.300109 的下载状态已更新为 1\n",
      "已经下载84,正在下载10.1016/j.xphs.2022.03.023\n",
      "下载失败。\n"
     ]
    },
    {
     "name": "stderr",
     "output_type": "stream",
     "text": [
      "125it [14:37,  6.58s/it]"
     ]
    },
    {
     "name": "stdout",
     "output_type": "stream",
     "text": [
      "下载失败。\n",
      "请求失败。\n",
      "文献DOI为 10.1016/j.xphs.2022.03.023 的下载状态已更新为 2\n",
      "已经下载84,正在下载10.1021/es404399t\n"
     ]
    },
    {
     "name": "stderr",
     "output_type": "stream",
     "text": [
      "126it [14:44,  6.65s/it]"
     ]
    },
    {
     "name": "stdout",
     "output_type": "stream",
     "text": [
      "文件 SL01-126-J.pdf 下载成功！\n",
      "下载DOI为10.1021/es404399t的论文成功。\n",
      "文献DOI为 10.1021/es404399t 的下载状态已更新为 1\n",
      "已经下载85,正在下载10.1016/j.ijbiomac.2023.124226\n"
     ]
    },
    {
     "name": "stderr",
     "output_type": "stream",
     "text": [
      "127it [14:48,  5.68s/it]"
     ]
    },
    {
     "name": "stdout",
     "output_type": "stream",
     "text": [
      "未找到下载链接。\n",
      "文献DOI为 10.1016/j.ijbiomac.2023.124226 的下载状态已更新为 2\n",
      "已经下载85,正在下载10.1111/1758-2229.12002\n"
     ]
    },
    {
     "name": "stderr",
     "output_type": "stream",
     "text": [
      "128it [14:54,  5.88s/it]"
     ]
    },
    {
     "name": "stdout",
     "output_type": "stream",
     "text": [
      "文件 SL01-128-J.pdf 下载成功！\n",
      "下载DOI为10.1111/1758-2229.12002的论文成功。\n",
      "文献DOI为 10.1111/1758-2229.12002 的下载状态已更新为 1\n",
      "已经下载86,正在下载10.1093/nar/gkn864\n"
     ]
    },
    {
     "name": "stderr",
     "output_type": "stream",
     "text": [
      "129it [15:04,  7.04s/it]"
     ]
    },
    {
     "name": "stdout",
     "output_type": "stream",
     "text": [
      "下载DOI为10.1093/nar/gkn864的论文成功。\n",
      "文献DOI为 10.1093/nar/gkn864 的下载状态已更新为 1\n",
      "已经下载87,正在下载10.1159/000121327\n"
     ]
    },
    {
     "name": "stderr",
     "output_type": "stream",
     "text": [
      "130it [15:11,  6.98s/it]"
     ]
    },
    {
     "name": "stdout",
     "output_type": "stream",
     "text": [
      "文件 SL01-130-J.pdf 下载成功！\n",
      "下载DOI为10.1159/000121327的论文成功。\n",
      "文献DOI为 10.1159/000121327 的下载状态已更新为 1\n",
      "已经下载88,正在下载10.1016/j.scitotenv.2023.167850\n"
     ]
    },
    {
     "name": "stderr",
     "output_type": "stream",
     "text": [
      "131it [15:15,  6.09s/it]"
     ]
    },
    {
     "name": "stdout",
     "output_type": "stream",
     "text": [
      "未找到下载链接。\n",
      "文献DOI为 10.1016/j.scitotenv.2023.167850 的下载状态已更新为 2\n",
      "已经下载88,正在下载10.1016/j.heliyon.2022.e10799\n"
     ]
    },
    {
     "name": "stderr",
     "output_type": "stream",
     "text": [
      "132it [15:34,  9.97s/it]"
     ]
    },
    {
     "name": "stdout",
     "output_type": "stream",
     "text": [
      "下载DOI为10.1016/j.heliyon.2022.e10799的论文成功。\n",
      "文献DOI为 10.1016/j.heliyon.2022.e10799 的下载状态已更新为 1\n",
      "已经下载89,正在下载10.1089/omi.2007.0019\n"
     ]
    },
    {
     "name": "stderr",
     "output_type": "stream",
     "text": [
      "133it [15:39,  8.64s/it]"
     ]
    },
    {
     "name": "stdout",
     "output_type": "stream",
     "text": [
      "文件 SL01-133-J.pdf 下载成功！\n",
      "下载DOI为10.1089/omi.2007.0019的论文成功。\n",
      "文献DOI为 10.1089/omi.2007.0019 的下载状态已更新为 1\n",
      "已经下载90,正在下载10.1016/j.envres.2023.116289\n"
     ]
    },
    {
     "name": "stderr",
     "output_type": "stream",
     "text": [
      "134it [15:43,  7.07s/it]"
     ]
    },
    {
     "name": "stdout",
     "output_type": "stream",
     "text": [
      "未找到下载链接。\n",
      "文献DOI为 10.1016/j.envres.2023.116289 的下载状态已更新为 2\n",
      "已经下载90,正在下载10.1016/j.envres.2021.111541\n"
     ]
    },
    {
     "name": "stderr",
     "output_type": "stream",
     "text": [
      "135it [15:50,  7.03s/it]"
     ]
    },
    {
     "name": "stdout",
     "output_type": "stream",
     "text": [
      "文件 SL01-135-J.pdf 下载成功！\n",
      "下载DOI为10.1016/j.envres.2021.111541的论文成功。\n",
      "文献DOI为 10.1016/j.envres.2021.111541 的下载状态已更新为 1\n",
      "已经下载91,正在下载10.1007/s11274-023-03656-7\n"
     ]
    },
    {
     "name": "stderr",
     "output_type": "stream",
     "text": [
      "136it [18:05, 45.71s/it]"
     ]
    },
    {
     "name": "stdout",
     "output_type": "stream",
     "text": [
      "下载DOI为10.1007/s11274-023-03656-7的论文成功。\n",
      "文献DOI为 10.1007/s11274-023-03656-7 的下载状态已更新为 1\n",
      "已经下载92,正在下载10.1016/j.biortech.2013.07.083\n"
     ]
    },
    {
     "name": "stderr",
     "output_type": "stream",
     "text": [
      "137it [18:12, 33.87s/it]"
     ]
    },
    {
     "name": "stdout",
     "output_type": "stream",
     "text": [
      "文件 SL01-137-J.pdf 下载成功！\n",
      "下载DOI为10.1016/j.biortech.2013.07.083的论文成功。\n",
      "文献DOI为 10.1016/j.biortech.2013.07.083 的下载状态已更新为 1\n",
      "已经下载93,正在下载10.1021/acs.est.5b03293\n"
     ]
    },
    {
     "name": "stderr",
     "output_type": "stream",
     "text": [
      "138it [18:18, 25.67s/it]"
     ]
    },
    {
     "name": "stdout",
     "output_type": "stream",
     "text": [
      "文件 SL01-138-J.pdf 下载成功！\n",
      "下载DOI为10.1021/acs.est.5b03293的论文成功。\n",
      "文献DOI为 10.1021/acs.est.5b03293 的下载状态已更新为 1\n",
      "已经下载94,正在下载10.1016/j.watres.2024.121455\n"
     ]
    },
    {
     "name": "stderr",
     "output_type": "stream",
     "text": [
      "139it [18:22, 19.02s/it]"
     ]
    },
    {
     "name": "stdout",
     "output_type": "stream",
     "text": [
      "未找到下载链接。\n",
      "文献DOI为 10.1016/j.watres.2024.121455 的下载状态已更新为 2\n",
      "已经下载94,正在下载10.1038/s42003-023-05470-1\n"
     ]
    },
    {
     "name": "stderr",
     "output_type": "stream",
     "text": [
      "140it [18:49, 21.56s/it]"
     ]
    },
    {
     "name": "stdout",
     "output_type": "stream",
     "text": [
      "下载DOI为10.1038/s42003-023-05470-1的论文成功。\n",
      "文献DOI为 10.1038/s42003-023-05470-1 的下载状态已更新为 1\n",
      "已经下载95,正在下载10.3390/ma14123180\n"
     ]
    },
    {
     "name": "stderr",
     "output_type": "stream",
     "text": [
      "141it [19:02, 18.97s/it]"
     ]
    },
    {
     "name": "stdout",
     "output_type": "stream",
     "text": [
      "下载DOI为10.3390/ma14123180的论文成功。\n",
      "文献DOI为 10.3390/ma14123180 的下载状态已更新为 1\n",
      "已经下载96,正在下载10.1007/s10532-017-9798-5\n"
     ]
    },
    {
     "name": "stderr",
     "output_type": "stream",
     "text": [
      "142it [19:09, 15.31s/it]"
     ]
    },
    {
     "name": "stdout",
     "output_type": "stream",
     "text": [
      "文件 SL01-142-J.pdf 下载成功！\n",
      "下载DOI为10.1007/s10532-017-9798-5的论文成功。\n",
      "文献DOI为 10.1007/s10532-017-9798-5 的下载状态已更新为 1\n",
      "已经下载97,正在下载10.3390/ijms232315253\n"
     ]
    },
    {
     "name": "stderr",
     "output_type": "stream",
     "text": [
      "143it [20:01, 26.33s/it]"
     ]
    },
    {
     "name": "stdout",
     "output_type": "stream",
     "text": [
      "下载DOI为10.3390/ijms232315253的论文成功。\n",
      "文献DOI为 10.3390/ijms232315253 的下载状态已更新为 1\n",
      "已经下载98,正在下载10.1038/s41467-022-33064-8\n"
     ]
    },
    {
     "name": "stderr",
     "output_type": "stream",
     "text": [
      "144it [20:10, 21.04s/it]"
     ]
    },
    {
     "name": "stdout",
     "output_type": "stream",
     "text": [
      "下载DOI为10.1038/s41467-022-33064-8的论文成功。\n",
      "文献DOI为 10.1038/s41467-022-33064-8 的下载状态已更新为 1\n",
      "已经下载99,正在下载10.3390/microorganisms11020330\n"
     ]
    },
    {
     "name": "stderr",
     "output_type": "stream",
     "text": [
      "145it [22:15, 52.32s/it]"
     ]
    },
    {
     "name": "stdout",
     "output_type": "stream",
     "text": [
      "下载DOI为10.3390/microorganisms11020330的论文成功。\n",
      "文献DOI为 10.3390/microorganisms11020330 的下载状态已更新为 1\n",
      "已经下载100,正在下载10.1016/j.biortech.2022.127670\n"
     ]
    },
    {
     "name": "stderr",
     "output_type": "stream",
     "text": [
      "146it [22:19, 37.80s/it]"
     ]
    },
    {
     "name": "stdout",
     "output_type": "stream",
     "text": [
      "未找到下载链接。\n",
      "文献DOI为 10.1016/j.biortech.2022.127670 的下载状态已更新为 2\n",
      "已经下载100,正在下载10.1016/j.envint.2019.104961\n"
     ]
    },
    {
     "name": "stderr",
     "output_type": "stream",
     "text": [
      "147it [22:28, 29.18s/it]"
     ]
    },
    {
     "name": "stdout",
     "output_type": "stream",
     "text": [
      "文件 SL01-147-J.pdf 下载成功！\n",
      "下载DOI为10.1016/j.envint.2019.104961的论文成功。\n",
      "文献DOI为 10.1016/j.envint.2019.104961 的下载状态已更新为 1\n",
      "已经下载101,正在下载10.1016/j.jhazmat.2018.02.030\n"
     ]
    },
    {
     "name": "stderr",
     "output_type": "stream",
     "text": [
      "148it [22:35, 22.57s/it]"
     ]
    },
    {
     "name": "stdout",
     "output_type": "stream",
     "text": [
      "文件 SL01-148-J.pdf 下载成功！\n",
      "下载DOI为10.1016/j.jhazmat.2018.02.030的论文成功。\n",
      "文献DOI为 10.1016/j.jhazmat.2018.02.030 的下载状态已更新为 1\n",
      "已经下载102,正在下载10.1016/j.jhazmat.2020.124522\n"
     ]
    },
    {
     "name": "stderr",
     "output_type": "stream",
     "text": [
      "149it [22:41, 17.46s/it]"
     ]
    },
    {
     "name": "stdout",
     "output_type": "stream",
     "text": [
      "文件 SL01-149-J.pdf 下载成功！\n",
      "下载DOI为10.1016/j.jhazmat.2020.124522的论文成功。\n",
      "文献DOI为 10.1016/j.jhazmat.2020.124522 的下载状态已更新为 1\n",
      "已经下载103,正在下载10.1016/j.chemosphere.2021.131716\n"
     ]
    },
    {
     "name": "stderr",
     "output_type": "stream",
     "text": [
      "150it [22:48, 14.55s/it]"
     ]
    },
    {
     "name": "stdout",
     "output_type": "stream",
     "text": [
      "文件 SL01-150-J.pdf 下载成功！\n",
      "下载DOI为10.1016/j.chemosphere.2021.131716的论文成功。\n",
      "文献DOI为 10.1016/j.chemosphere.2021.131716 的下载状态已更新为 1\n",
      "已经下载104,正在下载10.1016/j.advenzreg.2009.10.014\n"
     ]
    },
    {
     "name": "stderr",
     "output_type": "stream",
     "text": [
      "151it [22:57, 12.62s/it]"
     ]
    },
    {
     "name": "stdout",
     "output_type": "stream",
     "text": [
      "文件 SL01-151-J.pdf 下载成功！\n",
      "下载DOI为10.1016/j.advenzreg.2009.10.014的论文成功。\n",
      "文献DOI为 10.1016/j.advenzreg.2009.10.014 的下载状态已更新为 1\n",
      "已经下载105,正在下载10.1016/j.chemosphere.2023.139867\n"
     ]
    },
    {
     "name": "stderr",
     "output_type": "stream",
     "text": [
      "152it [23:00,  9.98s/it]"
     ]
    },
    {
     "name": "stdout",
     "output_type": "stream",
     "text": [
      "未找到下载链接。\n",
      "文献DOI为 10.1016/j.chemosphere.2023.139867 的下载状态已更新为 2\n",
      "已经下载105,正在下载10.1016/j.chemosphere.2021.130793\n"
     ]
    },
    {
     "name": "stderr",
     "output_type": "stream",
     "text": [
      "153it [23:06,  8.65s/it]"
     ]
    },
    {
     "name": "stdout",
     "output_type": "stream",
     "text": [
      "文件 SL01-153-J.pdf 下载成功！\n",
      "下载DOI为10.1016/j.chemosphere.2021.130793的论文成功。\n",
      "文献DOI为 10.1016/j.chemosphere.2021.130793 的下载状态已更新为 1\n",
      "已经下载106,正在下载10.1016/j.scitotenv.2018.10.004\n"
     ]
    },
    {
     "name": "stderr",
     "output_type": "stream",
     "text": [
      "154it [23:14,  8.45s/it]"
     ]
    },
    {
     "name": "stdout",
     "output_type": "stream",
     "text": [
      "文件 SL01-154-J.pdf 下载成功！\n",
      "下载DOI为10.1016/j.scitotenv.2018.10.004的论文成功。\n",
      "文献DOI为 10.1016/j.scitotenv.2018.10.004 的下载状态已更新为 1\n",
      "已经下载107,正在下载10.1054/plef.2001.0357\n"
     ]
    },
    {
     "name": "stderr",
     "output_type": "stream",
     "text": [
      "155it [23:21,  7.94s/it]"
     ]
    },
    {
     "name": "stdout",
     "output_type": "stream",
     "text": [
      "文件 SL01-155-J.pdf 下载成功！\n",
      "下载DOI为10.1054/plef.2001.0357的论文成功。\n",
      "文献DOI为 10.1054/plef.2001.0357 的下载状态已更新为 1\n",
      "已经下载108,正在下载10.1016/j.watres.2018.05.057\n"
     ]
    },
    {
     "name": "stderr",
     "output_type": "stream",
     "text": [
      "156it [23:34,  9.66s/it]"
     ]
    },
    {
     "name": "stdout",
     "output_type": "stream",
     "text": [
      "文件 SL01-156-J.pdf 下载成功！\n",
      "下载DOI为10.1016/j.watres.2018.05.057的论文成功。\n",
      "文献DOI为 10.1016/j.watres.2018.05.057 的下载状态已更新为 1\n",
      "已经下载109,正在下载10.1016/j.marpolbul.2021.113288\n"
     ]
    },
    {
     "name": "stderr",
     "output_type": "stream",
     "text": [
      "157it [23:47, 10.50s/it]"
     ]
    },
    {
     "name": "stdout",
     "output_type": "stream",
     "text": [
      "下载DOI为10.1016/j.marpolbul.2021.113288的论文成功。\n",
      "文献DOI为 10.1016/j.marpolbul.2021.113288 的下载状态已更新为 1\n",
      "已经下载110,正在下载10.1007/s10532-023-10019-4\n"
     ]
    },
    {
     "name": "stderr",
     "output_type": "stream",
     "text": [
      "158it [23:52,  8.97s/it]"
     ]
    },
    {
     "name": "stdout",
     "output_type": "stream",
     "text": [
      "未找到下载链接。\n",
      "文献DOI为 10.1007/s10532-023-10019-4 的下载状态已更新为 2\n",
      "已经下载110,正在下载10.1016/j.scitotenv.2020.141959\n"
     ]
    },
    {
     "name": "stderr",
     "output_type": "stream",
     "text": [
      "159it [24:02,  9.27s/it]"
     ]
    },
    {
     "name": "stdout",
     "output_type": "stream",
     "text": [
      "文件 SL01-159-J.pdf 下载成功！\n",
      "下载DOI为10.1016/j.scitotenv.2020.141959的论文成功。\n",
      "文献DOI为 10.1016/j.scitotenv.2020.141959 的下载状态已更新为 1\n",
      "已经下载111,正在下载10.1289/ehp.5840\n"
     ]
    },
    {
     "name": "stderr",
     "output_type": "stream",
     "text": [
      "160it [24:06,  7.79s/it]"
     ]
    },
    {
     "name": "stdout",
     "output_type": "stream",
     "text": [
      "下载DOI为10.1289/ehp.5840的论文成功。\n",
      "文献DOI为 10.1289/ehp.5840 的下载状态已更新为 1\n",
      "已经下载112,正在下载10.1016/j.heliyon.2021.e07008\n"
     ]
    },
    {
     "name": "stderr",
     "output_type": "stream",
     "text": [
      "161it [24:11,  6.86s/it]"
     ]
    },
    {
     "name": "stdout",
     "output_type": "stream",
     "text": [
      "下载DOI为10.1016/j.heliyon.2021.e07008的论文成功。\n",
      "文献DOI为 10.1016/j.heliyon.2021.e07008 的下载状态已更新为 1\n",
      "已经下载113,正在下载10.3390/toxins8030055\n"
     ]
    },
    {
     "name": "stderr",
     "output_type": "stream",
     "text": [
      "162it [24:33, 11.22s/it]"
     ]
    },
    {
     "name": "stdout",
     "output_type": "stream",
     "text": [
      "下载DOI为10.3390/toxins8030055的论文成功。\n",
      "文献DOI为 10.3390/toxins8030055 的下载状态已更新为 1\n",
      "已经下载114,正在下载10.1016/j.jhazmat.2023.132045\n"
     ]
    },
    {
     "name": "stderr",
     "output_type": "stream",
     "text": [
      "163it [24:36,  8.85s/it]"
     ]
    },
    {
     "name": "stdout",
     "output_type": "stream",
     "text": [
      "未找到下载链接。\n",
      "文献DOI为 10.1016/j.jhazmat.2023.132045 的下载状态已更新为 2\n",
      "已经下载114,正在下载10.1016/j.biortech.2021.125067\n"
     ]
    },
    {
     "name": "stderr",
     "output_type": "stream",
     "text": [
      "164it [24:44,  8.72s/it]"
     ]
    },
    {
     "name": "stdout",
     "output_type": "stream",
     "text": [
      "文件 SL01-164-J.pdf 下载成功！\n",
      "下载DOI为10.1016/j.biortech.2021.125067的论文成功。\n",
      "文献DOI为 10.1016/j.biortech.2021.125067 的下载状态已更新为 1\n",
      "已经下载115,正在下载10.1016/j.jcis.2017.09.044\n"
     ]
    },
    {
     "name": "stderr",
     "output_type": "stream",
     "text": [
      "165it [24:52,  8.27s/it]"
     ]
    },
    {
     "name": "stdout",
     "output_type": "stream",
     "text": [
      "文件 SL01-165-J.pdf 下载成功！\n",
      "下载DOI为10.1016/j.jcis.2017.09.044的论文成功。\n",
      "文献DOI为 10.1016/j.jcis.2017.09.044 的下载状态已更新为 1\n",
      "已经下载116,正在下载10.1016/j.chemosphere.2018.01.035\n"
     ]
    },
    {
     "name": "stderr",
     "output_type": "stream",
     "text": [
      "166it [25:20, 14.41s/it]"
     ]
    },
    {
     "name": "stdout",
     "output_type": "stream",
     "text": [
      "文件 SL01-166-J.pdf 下载成功！\n",
      "下载DOI为10.1016/j.chemosphere.2018.01.035的论文成功。\n",
      "文献DOI为 10.1016/j.chemosphere.2018.01.035 的下载状态已更新为 1\n",
      "已经下载117,正在下载10.1016/j.alcohol.2005.04.010\n"
     ]
    },
    {
     "name": "stderr",
     "output_type": "stream",
     "text": [
      "167it [25:27, 12.06s/it]"
     ]
    },
    {
     "name": "stdout",
     "output_type": "stream",
     "text": [
      "文件 SL01-167-J.pdf 下载成功！\n",
      "下载DOI为10.1016/j.alcohol.2005.04.010的论文成功。\n",
      "文献DOI为 10.1016/j.alcohol.2005.04.010 的下载状态已更新为 1\n",
      "已经下载118,正在下载10.1152/ajpregu.00283.2014\n"
     ]
    },
    {
     "name": "stderr",
     "output_type": "stream",
     "text": [
      "168it [25:38, 11.91s/it]"
     ]
    },
    {
     "name": "stdout",
     "output_type": "stream",
     "text": [
      "文件 SL01-168-J.pdf 下载成功！\n",
      "下载DOI为10.1152/ajpregu.00283.2014的论文成功。\n",
      "文献DOI为 10.1152/ajpregu.00283.2014 的下载状态已更新为 1\n",
      "已经下载119,正在下载10.1016/j.ecoenv.2021.112603\n"
     ]
    },
    {
     "name": "stderr",
     "output_type": "stream",
     "text": [
      "169it [25:54, 12.93s/it]"
     ]
    },
    {
     "name": "stdout",
     "output_type": "stream",
     "text": [
      "文件 SL01-169-J.pdf 下载成功！\n",
      "下载DOI为10.1016/j.ecoenv.2021.112603的论文成功。\n",
      "文献DOI为 10.1016/j.ecoenv.2021.112603 的下载状态已更新为 1\n",
      "已经下载120,正在下载10.1016/j.envpol.2020.115641\n"
     ]
    },
    {
     "name": "stderr",
     "output_type": "stream",
     "text": [
      "170it [26:00, 10.80s/it]"
     ]
    },
    {
     "name": "stdout",
     "output_type": "stream",
     "text": [
      "文件 SL01-170-J.pdf 下载成功！\n",
      "下载DOI为10.1016/j.envpol.2020.115641的论文成功。\n",
      "文献DOI为 10.1016/j.envpol.2020.115641 的下载状态已更新为 1\n",
      "已经下载121,正在下载10.1007/s11356-023-28892-0\n"
     ]
    },
    {
     "name": "stderr",
     "output_type": "stream",
     "text": [
      "171it [26:26, 15.38s/it]"
     ]
    },
    {
     "name": "stdout",
     "output_type": "stream",
     "text": [
      "下载DOI为10.1007/s11356-023-28892-0的论文成功。\n",
      "文献DOI为 10.1007/s11356-023-28892-0 的下载状态已更新为 1\n",
      "已经下载122,正在下载10.1100/tsw.2002.298\n"
     ]
    },
    {
     "name": "stderr",
     "output_type": "stream",
     "text": [
      "172it [26:30, 12.19s/it]"
     ]
    },
    {
     "name": "stdout",
     "output_type": "stream",
     "text": [
      "下载DOI为10.1100/tsw.2002.298的论文成功。\n",
      "文献DOI为 10.1100/tsw.2002.298 的下载状态已更新为 1\n",
      "已经下载123,正在下载10.1016/j.jhazmat.2022.129824\n"
     ]
    },
    {
     "name": "stderr",
     "output_type": "stream",
     "text": [
      "173it [26:34,  9.70s/it]"
     ]
    },
    {
     "name": "stdout",
     "output_type": "stream",
     "text": [
      "未找到下载链接。\n",
      "文献DOI为 10.1016/j.jhazmat.2022.129824 的下载状态已更新为 2\n",
      "已经下载123,正在下载10.1002/bit.22489\n"
     ]
    },
    {
     "name": "stderr",
     "output_type": "stream",
     "text": [
      "174it [26:43,  9.49s/it]"
     ]
    },
    {
     "name": "stdout",
     "output_type": "stream",
     "text": [
      "下载DOI为10.1002/bit.22489的论文成功。\n",
      "文献DOI为 10.1002/bit.22489 的下载状态已更新为 1\n",
      "已经下载124,正在下载10.3390/polym15010140\n"
     ]
    },
    {
     "name": "stderr",
     "output_type": "stream",
     "text": [
      "175it [27:08, 13.99s/it]"
     ]
    },
    {
     "name": "stdout",
     "output_type": "stream",
     "text": [
      "下载DOI为10.3390/polym15010140的论文成功。\n",
      "文献DOI为 10.3390/polym15010140 的下载状态已更新为 1\n",
      "已经下载125,正在下载10.1007/s13205-018-1329-5\n"
     ]
    },
    {
     "name": "stderr",
     "output_type": "stream",
     "text": [
      "176it [27:13, 11.51s/it]"
     ]
    },
    {
     "name": "stdout",
     "output_type": "stream",
     "text": [
      "下载DOI为10.1007/s13205-018-1329-5的论文成功。\n",
      "文献DOI为 10.1007/s13205-018-1329-5 的下载状态已更新为 1\n",
      "已经下载126,正在下载10.3390/polym15153194\n"
     ]
    },
    {
     "name": "stderr",
     "output_type": "stream",
     "text": [
      "177it [27:20, 10.12s/it]"
     ]
    },
    {
     "name": "stdout",
     "output_type": "stream",
     "text": [
      "下载DOI为10.3390/polym15153194的论文成功。\n",
      "文献DOI为 10.3390/polym15153194 的下载状态已更新为 1\n",
      "已经下载127,正在下载10.1007/s00248-014-0551-x\n"
     ]
    },
    {
     "name": "stderr",
     "output_type": "stream",
     "text": [
      "178it [27:33, 10.86s/it]"
     ]
    },
    {
     "name": "stdout",
     "output_type": "stream",
     "text": [
      "文件 SL01-178-J.pdf 下载成功！\n",
      "下载DOI为10.1007/s00248-014-0551-x的论文成功。\n",
      "文献DOI为 10.1007/s00248-014-0551-x 的下载状态已更新为 1\n",
      "已经下载128,正在下载10.3390/ma15041604\n"
     ]
    },
    {
     "name": "stderr",
     "output_type": "stream",
     "text": [
      "179it [27:43, 10.54s/it]"
     ]
    },
    {
     "name": "stdout",
     "output_type": "stream",
     "text": [
      "下载DOI为10.3390/ma15041604的论文成功。\n",
      "文献DOI为 10.3390/ma15041604 的下载状态已更新为 1\n",
      "已经下载129,正在下载10.1055/s-2001-13916\n"
     ]
    },
    {
     "name": "stderr",
     "output_type": "stream",
     "text": [
      "180it [27:50,  9.59s/it]"
     ]
    },
    {
     "name": "stdout",
     "output_type": "stream",
     "text": [
      "文件 SL01-180-J.pdf 下载成功！\n",
      "下载DOI为10.1055/s-2001-13916的论文成功。\n",
      "文献DOI为 10.1055/s-2001-13916 的下载状态已更新为 1\n",
      "已经下载130,正在下载10.1016/j.watres.2019.03.086\n"
     ]
    },
    {
     "name": "stderr",
     "output_type": "stream",
     "text": [
      "181it [27:56,  8.47s/it]"
     ]
    },
    {
     "name": "stdout",
     "output_type": "stream",
     "text": [
      "文件 SL01-181-J.pdf 下载成功！\n",
      "下载DOI为10.1016/j.watres.2019.03.086的论文成功。\n",
      "文献DOI为 10.1016/j.watres.2019.03.086 的下载状态已更新为 1\n",
      "已经下载131,正在下载10.1186/s11671-019-2891-4\n"
     ]
    },
    {
     "name": "stderr",
     "output_type": "stream",
     "text": [
      "182it [28:09,  9.73s/it]"
     ]
    },
    {
     "name": "stdout",
     "output_type": "stream",
     "text": [
      "下载DOI为10.1186/s11671-019-2891-4的论文成功。\n",
      "文献DOI为 10.1186/s11671-019-2891-4 的下载状态已更新为 1\n",
      "已经下载132,正在下载10.3109/14756366.2013.879576\n"
     ]
    },
    {
     "name": "stderr",
     "output_type": "stream",
     "text": [
      "183it [28:42, 16.92s/it]"
     ]
    },
    {
     "name": "stdout",
     "output_type": "stream",
     "text": [
      "文件 SL01-183-J.pdf 下载成功！\n",
      "下载DOI为10.3109/14756366.2013.879576的论文成功。\n",
      "文献DOI为 10.3109/14756366.2013.879576 的下载状态已更新为 1\n",
      "已经下载133,正在下载10.1016/j.watres.2018.11.034\n"
     ]
    },
    {
     "name": "stderr",
     "output_type": "stream",
     "text": [
      "184it [28:51, 14.39s/it]"
     ]
    },
    {
     "name": "stdout",
     "output_type": "stream",
     "text": [
      "文件 SL01-184-J.pdf 下载成功！\n",
      "下载DOI为10.1016/j.watres.2018.11.034的论文成功。\n",
      "文献DOI为 10.1016/j.watres.2018.11.034 的下载状态已更新为 1\n",
      "已经下载134,正在下载10.1016/j.chemosphere.2023.138816\n"
     ]
    },
    {
     "name": "stderr",
     "output_type": "stream",
     "text": [
      "185it [28:55, 11.26s/it]"
     ]
    },
    {
     "name": "stdout",
     "output_type": "stream",
     "text": [
      "未找到下载链接。\n",
      "文献DOI为 10.1016/j.chemosphere.2023.138816 的下载状态已更新为 2\n",
      "已经下载134,正在下载10.18063/ijb.v7i1.300\n"
     ]
    },
    {
     "name": "stderr",
     "output_type": "stream",
     "text": [
      "186it [29:41, 21.91s/it]"
     ]
    },
    {
     "name": "stdout",
     "output_type": "stream",
     "text": [
      "下载DOI为10.18063/ijb.v7i1.300的论文成功。\n",
      "文献DOI为 10.18063/ijb.v7i1.300 的下载状态已更新为 1\n",
      "已经下载135,正在下载10.1016/j.scitotenv.2020.144751\n"
     ]
    },
    {
     "name": "stderr",
     "output_type": "stream",
     "text": [
      "187it [29:49, 17.72s/it]"
     ]
    },
    {
     "name": "stdout",
     "output_type": "stream",
     "text": [
      "文件 SL01-187-J.pdf 下载成功！\n",
      "下载DOI为10.1016/j.scitotenv.2020.144751的论文成功。\n",
      "文献DOI为 10.1016/j.scitotenv.2020.144751 的下载状态已更新为 1\n",
      "已经下载136,正在下载10.1073/pnas.1610110114\n"
     ]
    },
    {
     "name": "stderr",
     "output_type": "stream",
     "text": [
      "188it [30:01, 15.78s/it]"
     ]
    },
    {
     "name": "stdout",
     "output_type": "stream",
     "text": [
      "下载DOI为10.1073/pnas.1610110114的论文成功。\n",
      "文献DOI为 10.1073/pnas.1610110114 的下载状态已更新为 1\n",
      "已经下载137,正在下载10.1016/j.wasman.2017.07.031\n"
     ]
    },
    {
     "name": "stderr",
     "output_type": "stream",
     "text": [
      "189it [30:09, 13.66s/it]"
     ]
    },
    {
     "name": "stdout",
     "output_type": "stream",
     "text": [
      "文件 SL01-189-J.pdf 下载成功！\n",
      "下载DOI为10.1016/j.wasman.2017.07.031的论文成功。\n",
      "文献DOI为 10.1016/j.wasman.2017.07.031 的下载状态已更新为 1\n",
      "已经下载138,正在下载10.3390/microorganisms10122501\n"
     ]
    },
    {
     "name": "stderr",
     "output_type": "stream",
     "text": [
      "190it [30:22, 13.20s/it]"
     ]
    },
    {
     "name": "stdout",
     "output_type": "stream",
     "text": [
      "下载DOI为10.3390/microorganisms10122501的论文成功。\n",
      "文献DOI为 10.3390/microorganisms10122501 的下载状态已更新为 1\n",
      "已经下载139,正在下载10.1016/j.scitotenv.2023.165233\n"
     ]
    },
    {
     "name": "stderr",
     "output_type": "stream",
     "text": [
      "191it [30:28, 11.11s/it]"
     ]
    },
    {
     "name": "stdout",
     "output_type": "stream",
     "text": [
      "未找到下载链接。\n",
      "文献DOI为 10.1016/j.scitotenv.2023.165233 的下载状态已更新为 2\n",
      "已经下载139,正在下载10.1016/j.chemosphere.2020.127910\n"
     ]
    },
    {
     "name": "stderr",
     "output_type": "stream",
     "text": [
      "192it [30:34,  9.63s/it]"
     ]
    },
    {
     "name": "stdout",
     "output_type": "stream",
     "text": [
      "文件 SL01-192-J.pdf 下载成功！\n",
      "下载DOI为10.1016/j.chemosphere.2020.127910的论文成功。\n",
      "文献DOI为 10.1016/j.chemosphere.2020.127910 的下载状态已更新为 1\n",
      "已经下载140,正在下载10.1016/j.envpol.2017.10.019\n"
     ]
    },
    {
     "name": "stderr",
     "output_type": "stream",
     "text": [
      "193it [30:42,  9.28s/it]"
     ]
    },
    {
     "name": "stdout",
     "output_type": "stream",
     "text": [
      "文件 SL01-193-J.pdf 下载成功！\n",
      "下载DOI为10.1016/j.envpol.2017.10.019的论文成功。\n",
      "文献DOI为 10.1016/j.envpol.2017.10.019 的下载状态已更新为 1\n",
      "已经下载141,正在下载10.1016/j.chemosphere.2020.128664\n"
     ]
    },
    {
     "name": "stderr",
     "output_type": "stream",
     "text": [
      "194it [30:51,  8.96s/it]"
     ]
    },
    {
     "name": "stdout",
     "output_type": "stream",
     "text": [
      "文件 SL01-194-J.pdf 下载成功！\n",
      "下载DOI为10.1016/j.chemosphere.2020.128664的论文成功。\n",
      "文献DOI为 10.1016/j.chemosphere.2020.128664 的下载状态已更新为 1\n",
      "已经下载142,正在下载10.1016/j.chemosphere.2023.140900\n"
     ]
    },
    {
     "name": "stderr",
     "output_type": "stream",
     "text": [
      "195it [30:55,  7.45s/it]"
     ]
    },
    {
     "name": "stdout",
     "output_type": "stream",
     "text": [
      "未找到下载链接。\n",
      "文献DOI为 10.1016/j.chemosphere.2023.140900 的下载状态已更新为 2\n",
      "已经下载142,正在下载10.1007/s00253-010-2458-x\n"
     ]
    },
    {
     "name": "stderr",
     "output_type": "stream",
     "text": [
      "196it [31:03,  7.83s/it]"
     ]
    },
    {
     "name": "stdout",
     "output_type": "stream",
     "text": [
      "文件 SL01-196-J.pdf 下载成功！\n",
      "下载DOI为10.1007/s00253-010-2458-x的论文成功。\n",
      "文献DOI为 10.1007/s00253-010-2458-x 的下载状态已更新为 1\n",
      "已经下载143,正在下载10.3389/fmicb.2018.01788\n"
     ]
    },
    {
     "name": "stderr",
     "output_type": "stream",
     "text": [
      "197it [31:13,  8.47s/it]"
     ]
    },
    {
     "name": "stdout",
     "output_type": "stream",
     "text": [
      "下载DOI为10.3389/fmicb.2018.01788的论文成功。\n",
      "文献DOI为 10.3389/fmicb.2018.01788 的下载状态已更新为 1\n",
      "已经下载144,正在下载10.1016/s1001-0742(10)60501-3\n"
     ]
    },
    {
     "name": "stderr",
     "output_type": "stream",
     "text": [
      "198it [31:22,  8.56s/it]"
     ]
    },
    {
     "name": "stdout",
     "output_type": "stream",
     "text": [
      "文件 SL01-198-J.pdf 下载成功！\n",
      "下载DOI为10.1016/s1001-0742(10)60501-3的论文成功。\n",
      "文献DOI为 10.1016/s1001-0742(10)60501-3 的下载状态已更新为 1\n",
      "已经下载145,正在下载10.1016/j.ccr.2010.12.010\n"
     ]
    },
    {
     "name": "stderr",
     "output_type": "stream",
     "text": [
      "199it [32:11, 20.55s/it]"
     ]
    },
    {
     "name": "stdout",
     "output_type": "stream",
     "text": [
      "下载DOI为10.1016/j.ccr.2010.12.010的论文成功。\n",
      "文献DOI为 10.1016/j.ccr.2010.12.010 的下载状态已更新为 1\n",
      "已经下载146,正在下载10.1016/s0045-6535(00)00139-9\n"
     ]
    },
    {
     "name": "stderr",
     "output_type": "stream",
     "text": [
      "200it [32:17, 16.41s/it]"
     ]
    },
    {
     "name": "stdout",
     "output_type": "stream",
     "text": [
      "文件 SL01-200-J.pdf 下载成功！\n",
      "下载DOI为10.1016/s0045-6535(00)00139-9的论文成功。\n",
      "文献DOI为 10.1016/s0045-6535(00)00139-9 的下载状态已更新为 1\n",
      "已经下载147,正在下载10.1007/s11356-014-3342-5\n"
     ]
    },
    {
     "name": "stderr",
     "output_type": "stream",
     "text": [
      "201it [32:27, 14.27s/it]"
     ]
    },
    {
     "name": "stdout",
     "output_type": "stream",
     "text": [
      "文件 SL01-201-J.pdf 下载成功！\n",
      "下载DOI为10.1007/s11356-014-3342-5的论文成功。\n",
      "文献DOI为 10.1007/s11356-014-3342-5 的下载状态已更新为 1\n",
      "已经下载148,正在下载10.1080/10934529.2017.1409579\n"
     ]
    },
    {
     "name": "stderr",
     "output_type": "stream",
     "text": [
      "202it [32:37, 13.00s/it]"
     ]
    },
    {
     "name": "stdout",
     "output_type": "stream",
     "text": [
      "文件 SL01-202-J.pdf 下载成功！\n",
      "下载DOI为10.1080/10934529.2017.1409579的论文成功。\n",
      "文献DOI为 10.1080/10934529.2017.1409579 的下载状态已更新为 1\n",
      "已经下载149,正在下载10.1007/s11356-024-32109-3\n"
     ]
    },
    {
     "name": "stderr",
     "output_type": "stream",
     "text": [
      "203it [32:57, 15.14s/it]"
     ]
    },
    {
     "name": "stdout",
     "output_type": "stream",
     "text": [
      "下载DOI为10.1007/s11356-024-32109-3的论文成功。\n",
      "文献DOI为 10.1007/s11356-024-32109-3 的下载状态已更新为 1\n",
      "已经下载150,正在下载10.1016/j.envpol.2018.04.125\n"
     ]
    },
    {
     "name": "stderr",
     "output_type": "stream",
     "text": [
      "204it [33:05, 13.15s/it]"
     ]
    },
    {
     "name": "stdout",
     "output_type": "stream",
     "text": [
      "文件 SL01-204-J.pdf 下载成功！\n",
      "下载DOI为10.1016/j.envpol.2018.04.125的论文成功。\n",
      "文献DOI为 10.1016/j.envpol.2018.04.125 的下载状态已更新为 1\n",
      "已经下载151,正在下载10.1016/j.biortech.2013.05.077\n"
     ]
    },
    {
     "name": "stderr",
     "output_type": "stream",
     "text": [
      "205it [33:12, 11.32s/it]"
     ]
    },
    {
     "name": "stdout",
     "output_type": "stream",
     "text": [
      "文件 SL01-205-J.pdf 下载成功！\n",
      "下载DOI为10.1016/j.biortech.2013.05.077的论文成功。\n",
      "文献DOI为 10.1016/j.biortech.2013.05.077 的下载状态已更新为 1\n",
      "已经下载152,正在下载10.1016/j.chemosphere.2020.126836\n"
     ]
    },
    {
     "name": "stderr",
     "output_type": "stream",
     "text": [
      "206it [33:19,  9.91s/it]"
     ]
    },
    {
     "name": "stdout",
     "output_type": "stream",
     "text": [
      "文件 SL01-206-J.pdf 下载成功！\n",
      "下载DOI为10.1016/j.chemosphere.2020.126836的论文成功。\n",
      "文献DOI为 10.1016/j.chemosphere.2020.126836 的下载状态已更新为 1\n",
      "已经下载153,正在下载10.1016/j.jbiotec.2019.03.010\n"
     ]
    },
    {
     "name": "stderr",
     "output_type": "stream",
     "text": [
      "207it [33:28,  9.69s/it]"
     ]
    },
    {
     "name": "stdout",
     "output_type": "stream",
     "text": [
      "文件 SL01-207-J.pdf 下载成功！\n",
      "下载DOI为10.1016/j.jbiotec.2019.03.010的论文成功。\n",
      "文献DOI为 10.1016/j.jbiotec.2019.03.010 的下载状态已更新为 1\n",
      "已经下载154,正在下载10.1016/j.jhazmat.2015.01.055\n"
     ]
    },
    {
     "name": "stderr",
     "output_type": "stream",
     "text": [
      "208it [33:35,  8.93s/it]"
     ]
    },
    {
     "name": "stdout",
     "output_type": "stream",
     "text": [
      "文件 SL01-208-J.pdf 下载成功！\n",
      "下载DOI为10.1016/j.jhazmat.2015.01.055的论文成功。\n",
      "文献DOI为 10.1016/j.jhazmat.2015.01.055 的下载状态已更新为 1\n",
      "已经下载155,正在下载10.1016/j.watres.2023.119593\n"
     ]
    },
    {
     "name": "stderr",
     "output_type": "stream",
     "text": [
      "209it [33:39,  7.40s/it]"
     ]
    },
    {
     "name": "stdout",
     "output_type": "stream",
     "text": [
      "未找到下载链接。\n",
      "文献DOI为 10.1016/j.watres.2023.119593 的下载状态已更新为 2\n",
      "已经下载155,正在下载10.1007/s10123-018-00041-5\n"
     ]
    },
    {
     "name": "stderr",
     "output_type": "stream",
     "text": [
      "210it [33:46,  7.29s/it]"
     ]
    },
    {
     "name": "stdout",
     "output_type": "stream",
     "text": [
      "文件 SL01-210-J.pdf 下载成功！\n",
      "下载DOI为10.1007/s10123-018-00041-5的论文成功。\n",
      "文献DOI为 10.1007/s10123-018-00041-5 的下载状态已更新为 1\n",
      "已经下载156,正在下载10.1039/d0em00288g\n"
     ]
    },
    {
     "name": "stderr",
     "output_type": "stream",
     "text": [
      "211it [34:03, 10.14s/it]"
     ]
    },
    {
     "name": "stdout",
     "output_type": "stream",
     "text": [
      "下载DOI为10.1039/d0em00288g的论文成功。\n",
      "文献DOI为 10.1039/d0em00288g 的下载状态已更新为 1\n",
      "已经下载157,正在下载10.1063/1.4978243\n"
     ]
    },
    {
     "name": "stderr",
     "output_type": "stream",
     "text": [
      "212it [34:13, 10.16s/it]"
     ]
    },
    {
     "name": "stdout",
     "output_type": "stream",
     "text": [
      "文件 SL01-212-J.pdf 下载成功！\n",
      "下载DOI为10.1063/1.4978243的论文成功。\n",
      "文献DOI为 10.1063/1.4978243 的下载状态已更新为 1\n",
      "已经下载158,正在下载10.1016/j.aquatox.2014.08.003\n"
     ]
    },
    {
     "name": "stderr",
     "output_type": "stream",
     "text": [
      "213it [34:21,  9.45s/it]"
     ]
    },
    {
     "name": "stdout",
     "output_type": "stream",
     "text": [
      "文件 SL01-213-J.pdf 下载成功！\n",
      "下载DOI为10.1016/j.aquatox.2014.08.003的论文成功。\n",
      "文献DOI为 10.1016/j.aquatox.2014.08.003 的下载状态已更新为 1\n",
      "已经下载159,正在下载10.1016/j.envpol.2016.10.096\n"
     ]
    },
    {
     "name": "stderr",
     "output_type": "stream",
     "text": [
      "214it [34:30,  9.36s/it]"
     ]
    },
    {
     "name": "stdout",
     "output_type": "stream",
     "text": [
      "文件 SL01-214-J.pdf 下载成功！\n",
      "下载DOI为10.1016/j.envpol.2016.10.096的论文成功。\n",
      "文献DOI为 10.1016/j.envpol.2016.10.096 的下载状态已更新为 1\n",
      "已经下载160,正在下载10.1016/j.scitotenv.2015.08.028\n"
     ]
    },
    {
     "name": "stderr",
     "output_type": "stream",
     "text": [
      "215it [34:39,  9.24s/it]"
     ]
    },
    {
     "name": "stdout",
     "output_type": "stream",
     "text": [
      "文件 SL01-215-J.pdf 下载成功！\n",
      "下载DOI为10.1016/j.scitotenv.2015.08.028的论文成功。\n",
      "文献DOI为 10.1016/j.scitotenv.2015.08.028 的下载状态已更新为 1\n",
      "已经下载161,正在下载10.1080/10629360701429027\n"
     ]
    },
    {
     "name": "stderr",
     "output_type": "stream",
     "text": [
      "216it [34:46,  8.68s/it]"
     ]
    },
    {
     "name": "stdout",
     "output_type": "stream",
     "text": [
      "文件 SL01-216-J.pdf 下载成功！\n",
      "下载DOI为10.1080/10629360701429027的论文成功。\n",
      "文献DOI为 10.1080/10629360701429027 的下载状态已更新为 1\n",
      "已经下载162,正在下载10.1063/5.0159298\n"
     ]
    },
    {
     "name": "stderr",
     "output_type": "stream",
     "text": [
      "217it [34:51,  7.44s/it]"
     ]
    },
    {
     "name": "stdout",
     "output_type": "stream",
     "text": [
      "未找到下载链接。\n",
      "文献DOI为 10.1063/5.0159298 的下载状态已更新为 2\n",
      "已经下载162,正在下载10.1016/j.jhazmat.2018.11.019\n"
     ]
    },
    {
     "name": "stderr",
     "output_type": "stream",
     "text": [
      "218it [34:59,  7.57s/it]"
     ]
    },
    {
     "name": "stdout",
     "output_type": "stream",
     "text": [
      "文件 SL01-218-J.pdf 下载成功！\n",
      "下载DOI为10.1016/j.jhazmat.2018.11.019的论文成功。\n",
      "文献DOI为 10.1016/j.jhazmat.2018.11.019 的下载状态已更新为 1\n",
      "已经下载163,正在下载10.1039/c9ra10371f\n"
     ]
    },
    {
     "name": "stderr",
     "output_type": "stream",
     "text": [
      "219it [35:14, 10.00s/it]"
     ]
    },
    {
     "name": "stdout",
     "output_type": "stream",
     "text": [
      "下载DOI为10.1039/c9ra10371f的论文成功。\n",
      "文献DOI为 10.1039/c9ra10371f 的下载状态已更新为 1\n",
      "已经下载164,正在下载10.1016/j.jhazmat.2019.121191\n"
     ]
    },
    {
     "name": "stderr",
     "output_type": "stream",
     "text": [
      "220it [35:22,  9.38s/it]"
     ]
    },
    {
     "name": "stdout",
     "output_type": "stream",
     "text": [
      "文件 SL01-220-J.pdf 下载成功！\n",
      "下载DOI为10.1016/j.jhazmat.2019.121191的论文成功。\n",
      "文献DOI为 10.1016/j.jhazmat.2019.121191 的下载状态已更新为 1\n",
      "已经下载165,正在下载10.1016/j.biortech.2016.05.054\n"
     ]
    },
    {
     "name": "stderr",
     "output_type": "stream",
     "text": [
      "221it [35:31,  9.17s/it]"
     ]
    },
    {
     "name": "stdout",
     "output_type": "stream",
     "text": [
      "文件 SL01-221-J.pdf 下载成功！\n",
      "下载DOI为10.1016/j.biortech.2016.05.054的论文成功。\n",
      "文献DOI为 10.1016/j.biortech.2016.05.054 的下载状态已更新为 1\n",
      "已经下载166,正在下载10.1038/s41598-023-42026-z\n"
     ]
    },
    {
     "name": "stderr",
     "output_type": "stream",
     "text": [
      "222it [35:43,  9.95s/it]"
     ]
    },
    {
     "name": "stdout",
     "output_type": "stream",
     "text": [
      "下载DOI为10.1038/s41598-023-42026-z的论文成功。\n",
      "文献DOI为 10.1038/s41598-023-42026-z 的下载状态已更新为 1\n",
      "已经下载167,正在下载10.1016/j.chemosphere.2021.130409\n"
     ]
    },
    {
     "name": "stderr",
     "output_type": "stream",
     "text": [
      "223it [36:10, 15.04s/it]"
     ]
    },
    {
     "name": "stdout",
     "output_type": "stream",
     "text": [
      "下载DOI为10.1016/j.chemosphere.2021.130409的论文成功。\n",
      "文献DOI为 10.1016/j.chemosphere.2021.130409 的下载状态已更新为 1\n",
      "已经下载168,正在下载10.1016/j.watres.2007.09.031\n"
     ]
    },
    {
     "name": "stderr",
     "output_type": "stream",
     "text": [
      "224it [36:17, 12.73s/it]"
     ]
    },
    {
     "name": "stdout",
     "output_type": "stream",
     "text": [
      "文件 SL01-224-J.pdf 下载成功！\n",
      "下载DOI为10.1016/j.watres.2007.09.031的论文成功。\n",
      "文献DOI为 10.1016/j.watres.2007.09.031 的下载状态已更新为 1\n",
      "已经下载169,正在下载10.1016/j.biortech.2016.03.149\n"
     ]
    },
    {
     "name": "stderr",
     "output_type": "stream",
     "text": [
      "225it [36:27, 11.83s/it]"
     ]
    },
    {
     "name": "stdout",
     "output_type": "stream",
     "text": [
      "文件 SL01-225-J.pdf 下载成功！\n",
      "下载DOI为10.1016/j.biortech.2016.03.149的论文成功。\n",
      "文献DOI为 10.1016/j.biortech.2016.03.149 的下载状态已更新为 1\n",
      "已经下载170,正在下载10.1016/j.biortech.2019.122185\n"
     ]
    },
    {
     "name": "stderr",
     "output_type": "stream",
     "text": [
      "226it [36:36, 10.94s/it]"
     ]
    },
    {
     "name": "stdout",
     "output_type": "stream",
     "text": [
      "文件 SL01-226-J.pdf 下载成功！\n",
      "下载DOI为10.1016/j.biortech.2019.122185的论文成功。\n",
      "文献DOI为 10.1016/j.biortech.2019.122185 的下载状态已更新为 1\n",
      "已经下载171,正在下载10.1016/j.scitotenv.2017.07.219\n"
     ]
    },
    {
     "name": "stderr",
     "output_type": "stream",
     "text": [
      "228it [36:49,  9.02s/it]"
     ]
    },
    {
     "name": "stdout",
     "output_type": "stream",
     "text": [
      "文件 SL01-228-J.pdf 下载成功！\n",
      "下载DOI为10.1016/j.scitotenv.2017.07.219的论文成功。\n",
      "文献DOI为 10.1016/j.scitotenv.2017.07.219 的下载状态已更新为 1\n",
      "已经下载172,正在下载10.1016/j.jhazmat.2008.08.073\n"
     ]
    },
    {
     "name": "stderr",
     "output_type": "stream",
     "text": [
      "229it [36:57,  8.79s/it]"
     ]
    },
    {
     "name": "stdout",
     "output_type": "stream",
     "text": [
      "文件 SL01-229-J.pdf 下载成功！\n",
      "下载DOI为10.1016/j.jhazmat.2008.08.073的论文成功。\n",
      "文献DOI为 10.1016/j.jhazmat.2008.08.073 的下载状态已更新为 1\n",
      "已经下载173,正在下载10.1007/s10532-023-10038-1\n"
     ]
    },
    {
     "name": "stderr",
     "output_type": "stream",
     "text": [
      "230it [37:18, 11.85s/it]"
     ]
    },
    {
     "name": "stdout",
     "output_type": "stream",
     "text": [
      "下载DOI为10.1007/s10532-023-10038-1的论文成功。\n",
      "文献DOI为 10.1007/s10532-023-10038-1 的下载状态已更新为 1\n",
      "已经下载174,正在下载10.1007/s00128-009-9716-6\n"
     ]
    },
    {
     "name": "stderr",
     "output_type": "stream",
     "text": [
      "231it [37:24, 10.23s/it]"
     ]
    },
    {
     "name": "stdout",
     "output_type": "stream",
     "text": [
      "文件 SL01-231-J.pdf 下载成功！\n",
      "下载DOI为10.1007/s00128-009-9716-6的论文成功。\n",
      "文献DOI为 10.1007/s00128-009-9716-6 的下载状态已更新为 1\n",
      "已经下载175,正在下载10.1016/j.marpolbul.2017.08.021\n"
     ]
    },
    {
     "name": "stderr",
     "output_type": "stream",
     "text": [
      "232it [37:32,  9.68s/it]"
     ]
    },
    {
     "name": "stdout",
     "output_type": "stream",
     "text": [
      "文件 SL01-232-J.pdf 下载成功！\n",
      "下载DOI为10.1016/j.marpolbul.2017.08.021的论文成功。\n",
      "文献DOI为 10.1016/j.marpolbul.2017.08.021 的下载状态已更新为 1\n",
      "已经下载176,正在下载10.1002/chir.23150\n"
     ]
    },
    {
     "name": "stderr",
     "output_type": "stream",
     "text": [
      "233it [37:39,  9.03s/it]"
     ]
    },
    {
     "name": "stdout",
     "output_type": "stream",
     "text": [
      "文件 SL01-233-J.pdf 下载成功！\n",
      "下载DOI为10.1002/chir.23150的论文成功。\n",
      "文献DOI为 10.1002/chir.23150 的下载状态已更新为 1\n",
      "已经下载177,正在下载10.1080/1062936X.2013.848632\n"
     ]
    },
    {
     "name": "stderr",
     "output_type": "stream",
     "text": [
      "234it [37:47,  8.74s/it]"
     ]
    },
    {
     "name": "stdout",
     "output_type": "stream",
     "text": [
      "文件 SL01-234-J.pdf 下载成功！\n",
      "下载DOI为10.1080/1062936X.2013.848632的论文成功。\n",
      "文献DOI为 10.1080/1062936X.2013.848632 的下载状态已更新为 1\n",
      "已经下载178,正在下载10.1016/j.jhazmat.2019.121344\n"
     ]
    },
    {
     "name": "stderr",
     "output_type": "stream",
     "text": [
      "235it [37:58,  9.15s/it]"
     ]
    },
    {
     "name": "stdout",
     "output_type": "stream",
     "text": [
      "文件 SL01-235-J.pdf 下载成功！\n",
      "下载DOI为10.1016/j.jhazmat.2019.121344的论文成功。\n",
      "文献DOI为 10.1016/j.jhazmat.2019.121344 的下载状态已更新为 1\n",
      "已经下载179,正在下载10.1016/j.chemosphere.2022.137697\n"
     ]
    },
    {
     "name": "stderr",
     "output_type": "stream",
     "text": [
      "236it [38:03,  8.00s/it]"
     ]
    },
    {
     "name": "stdout",
     "output_type": "stream",
     "text": [
      "未找到下载链接。\n",
      "文献DOI为 10.1016/j.chemosphere.2022.137697 的下载状态已更新为 2\n",
      "已经下载179,正在下载10.1016/j.scitotenv.2024.172339\n"
     ]
    },
    {
     "name": "stderr",
     "output_type": "stream",
     "text": [
      "237it [38:08,  7.20s/it]"
     ]
    },
    {
     "name": "stdout",
     "output_type": "stream",
     "text": [
      "未找到下载链接。\n",
      "文献DOI为 10.1016/j.scitotenv.2024.172339 的下载状态已更新为 2\n",
      "已经下载179,正在下载10.1007/s00449-018-1921-4\n"
     ]
    },
    {
     "name": "stderr",
     "output_type": "stream",
     "text": [
      "238it [38:18,  8.08s/it]"
     ]
    },
    {
     "name": "stdout",
     "output_type": "stream",
     "text": [
      "文件 SL01-238-J.pdf 下载成功！\n",
      "下载DOI为10.1007/s00449-018-1921-4的论文成功。\n",
      "文献DOI为 10.1007/s00449-018-1921-4 的下载状态已更新为 1\n",
      "已经下载180,正在下载10.1016/j.cub.2014.10.047\n"
     ]
    },
    {
     "name": "stderr",
     "output_type": "stream",
     "text": [
      "239it [38:23,  7.07s/it]"
     ]
    },
    {
     "name": "stdout",
     "output_type": "stream",
     "text": [
      "下载DOI为10.1016/j.cub.2014.10.047的论文成功。\n",
      "文献DOI为 10.1016/j.cub.2014.10.047 的下载状态已更新为 1\n",
      "已经下载181,正在下载10.3390/ijerph16193775\n"
     ]
    },
    {
     "name": "stderr",
     "output_type": "stream",
     "text": [
      "240it [38:28,  6.54s/it]"
     ]
    },
    {
     "name": "stdout",
     "output_type": "stream",
     "text": [
      "下载DOI为10.3390/ijerph16193775的论文成功。\n",
      "文献DOI为 10.3390/ijerph16193775 的下载状态已更新为 1\n",
      "已经下载182,正在下载10.3389/fmicb.2022.998076\n"
     ]
    },
    {
     "name": "stderr",
     "output_type": "stream",
     "text": [
      "241it [38:41,  8.48s/it]"
     ]
    },
    {
     "name": "stdout",
     "output_type": "stream",
     "text": [
      "下载DOI为10.3389/fmicb.2022.998076的论文成功。\n",
      "文献DOI为 10.3389/fmicb.2022.998076 的下载状态已更新为 1\n",
      "已经下载183,正在下载10.1177/0734242X15622811\n"
     ]
    },
    {
     "name": "stderr",
     "output_type": "stream",
     "text": [
      "242it [38:50,  8.49s/it]"
     ]
    },
    {
     "name": "stdout",
     "output_type": "stream",
     "text": [
      "文件 SL01-242-J.pdf 下载成功！\n",
      "下载DOI为10.1177/0734242X15622811的论文成功。\n",
      "文献DOI为 10.1177/0734242X15622811 的下载状态已更新为 1\n",
      "已经下载184,正在下载10.1016/j.ecoenv.2019.109843\n"
     ]
    },
    {
     "name": "stderr",
     "output_type": "stream",
     "text": [
      "243it [38:58,  8.31s/it]"
     ]
    },
    {
     "name": "stdout",
     "output_type": "stream",
     "text": [
      "文件 SL01-243-J.pdf 下载成功！\n",
      "下载DOI为10.1016/j.ecoenv.2019.109843的论文成功。\n",
      "文献DOI为 10.1016/j.ecoenv.2019.109843 的下载状态已更新为 1\n",
      "已经下载185,正在下载10.1007/s00204-009-0503-2\n"
     ]
    },
    {
     "name": "stderr",
     "output_type": "stream",
     "text": [
      "244it [39:10,  9.50s/it]"
     ]
    },
    {
     "name": "stdout",
     "output_type": "stream",
     "text": [
      "下载DOI为10.1007/s00204-009-0503-2的论文成功。\n",
      "文献DOI为 10.1007/s00204-009-0503-2 的下载状态已更新为 1\n",
      "已经下载186,正在下载10.1111/lam.13535\n"
     ]
    },
    {
     "name": "stderr",
     "output_type": "stream",
     "text": [
      "245it [39:42, 16.15s/it]"
     ]
    },
    {
     "name": "stdout",
     "output_type": "stream",
     "text": [
      "文件 SL01-245-J.pdf 下载成功！\n",
      "下载DOI为10.1111/lam.13535的论文成功。\n",
      "文献DOI为 10.1111/lam.13535 的下载状态已更新为 1\n",
      "已经下载187,正在下载10.1002/biot.200800227\n"
     ]
    },
    {
     "name": "stderr",
     "output_type": "stream",
     "text": [
      "246it [40:10, 19.85s/it]"
     ]
    },
    {
     "name": "stdout",
     "output_type": "stream",
     "text": [
      "文件 SL01-246-J.pdf 下载成功！\n",
      "下载DOI为10.1002/biot.200800227的论文成功。\n",
      "文献DOI为 10.1002/biot.200800227 的下载状态已更新为 1\n",
      "已经下载188,正在下载10.1002/jobm.201200067\n"
     ]
    },
    {
     "name": "stderr",
     "output_type": "stream",
     "text": [
      "247it [40:42, 23.45s/it]"
     ]
    },
    {
     "name": "stdout",
     "output_type": "stream",
     "text": [
      "文件 SL01-247-J.pdf 下载成功！\n",
      "下载DOI为10.1002/jobm.201200067的论文成功。\n",
      "文献DOI为 10.1002/jobm.201200067 的下载状态已更新为 1\n",
      "已经下载189,正在下载10.3390/microorganisms8091341\n"
     ]
    },
    {
     "name": "stderr",
     "output_type": "stream",
     "text": [
      "248it [42:49, 54.46s/it]"
     ]
    },
    {
     "name": "stdout",
     "output_type": "stream",
     "text": [
      "下载DOI为10.3390/microorganisms8091341的论文成功。\n",
      "文献DOI为 10.3390/microorganisms8091341 的下载状态已更新为 1\n",
      "已经下载190,正在下载10.1007/s10068-023-01417-8\n"
     ]
    },
    {
     "name": "stderr",
     "output_type": "stream",
     "text": [
      "249it [48:22, 138.07s/it]"
     ]
    },
    {
     "name": "stdout",
     "output_type": "stream",
     "text": [
      "下载DOI为10.1007/s10068-023-01417-8的论文成功。\n",
      "文献DOI为 10.1007/s10068-023-01417-8 的下载状态已更新为 1\n",
      "已经下载191,正在下载10.1890/14-0229.1\n"
     ]
    },
    {
     "name": "stderr",
     "output_type": "stream",
     "text": [
      "250it [48:38, 101.57s/it]"
     ]
    },
    {
     "name": "stdout",
     "output_type": "stream",
     "text": [
      "文件 SL01-250-J.pdf 下载成功！\n",
      "下载DOI为10.1890/14-0229.1的论文成功。\n",
      "文献DOI为 10.1890/14-0229.1 的下载状态已更新为 1\n",
      "已经下载192,正在下载10.1016/j.scitotenv.2018.10.220\n"
     ]
    },
    {
     "name": "stderr",
     "output_type": "stream",
     "text": [
      "251it [48:45, 73.20s/it] "
     ]
    },
    {
     "name": "stdout",
     "output_type": "stream",
     "text": [
      "文件 SL01-251-J.pdf 下载成功！\n",
      "下载DOI为10.1016/j.scitotenv.2018.10.220的论文成功。\n",
      "文献DOI为 10.1016/j.scitotenv.2018.10.220 的下载状态已更新为 1\n",
      "已经下载193,正在下载10.1016/j.jhazmat.2024.133485\n"
     ]
    },
    {
     "name": "stderr",
     "output_type": "stream",
     "text": [
      "252it [48:49, 52.33s/it]"
     ]
    },
    {
     "name": "stdout",
     "output_type": "stream",
     "text": [
      "未找到下载链接。\n",
      "文献DOI为 10.1016/j.jhazmat.2024.133485 的下载状态已更新为 2\n",
      "已经下载193,正在下载10.1016/j.marpolbul.2017.10.030\n"
     ]
    },
    {
     "name": "stderr",
     "output_type": "stream",
     "text": [
      "253it [48:57, 38.99s/it]"
     ]
    },
    {
     "name": "stdout",
     "output_type": "stream",
     "text": [
      "文件 SL01-253-J.pdf 下载成功！\n",
      "下载DOI为10.1016/j.marpolbul.2017.10.030的论文成功。\n",
      "文献DOI为 10.1016/j.marpolbul.2017.10.030 的下载状态已更新为 1\n",
      "已经下载194,正在下载10.1186/2008-2231-21-55\n"
     ]
    },
    {
     "name": "stderr",
     "output_type": "stream",
     "text": [
      "254it [50:14, 50.46s/it]"
     ]
    },
    {
     "name": "stdout",
     "output_type": "stream",
     "text": [
      "下载DOI为10.1186/2008-2231-21-55的论文成功。\n",
      "文献DOI为 10.1186/2008-2231-21-55 的下载状态已更新为 1\n",
      "已经下载195,正在下载10.1007/s00284-008-9268-8\n"
     ]
    },
    {
     "name": "stderr",
     "output_type": "stream",
     "text": [
      "255it [50:24, 38.12s/it]"
     ]
    },
    {
     "name": "stdout",
     "output_type": "stream",
     "text": [
      "文件 SL01-255-J.pdf 下载成功！\n",
      "下载DOI为10.1007/s00284-008-9268-8的论文成功。\n",
      "文献DOI为 10.1007/s00284-008-9268-8 的下载状态已更新为 1\n",
      "已经下载196,正在下载10.1242/jeb.063719\n"
     ]
    },
    {
     "name": "stderr",
     "output_type": "stream",
     "text": [
      "256it [50:30, 28.69s/it]"
     ]
    },
    {
     "name": "stdout",
     "output_type": "stream",
     "text": [
      "下载DOI为10.1242/jeb.063719的论文成功。\n",
      "文献DOI为 10.1242/jeb.063719 的下载状态已更新为 1\n",
      "已经下载197,正在下载10.1016/j.marpolbul.2016.06.087\n"
     ]
    },
    {
     "name": "stderr",
     "output_type": "stream",
     "text": [
      "257it [50:38, 22.35s/it]"
     ]
    },
    {
     "name": "stdout",
     "output_type": "stream",
     "text": [
      "文件 SL01-257-J.pdf 下载成功！\n",
      "下载DOI为10.1016/j.marpolbul.2016.06.087的论文成功。\n",
      "文献DOI为 10.1016/j.marpolbul.2016.06.087 的下载状态已更新为 1\n",
      "已经下载198,正在下载10.1002/etc.1903\n"
     ]
    },
    {
     "name": "stderr",
     "output_type": "stream",
     "text": [
      "258it [50:46, 18.00s/it]"
     ]
    },
    {
     "name": "stdout",
     "output_type": "stream",
     "text": [
      "文件 SL01-258-J.pdf 下载成功！\n",
      "下载DOI为10.1002/etc.1903的论文成功。\n",
      "文献DOI为 10.1002/etc.1903 的下载状态已更新为 1\n",
      "已经下载199,正在下载10.1016/j.scitotenv.2018.05.403\n"
     ]
    },
    {
     "name": "stderr",
     "output_type": "stream",
     "text": [
      "259it [50:53, 14.87s/it]"
     ]
    },
    {
     "name": "stdout",
     "output_type": "stream",
     "text": [
      "文件 SL01-259-J.pdf 下载成功！\n",
      "下载DOI为10.1016/j.scitotenv.2018.05.403的论文成功。\n",
      "文献DOI为 10.1016/j.scitotenv.2018.05.403 的下载状态已更新为 1\n",
      "已经下载200,正在下载10.13345/j.cjb.210428\n"
     ]
    },
    {
     "name": "stderr",
     "output_type": "stream",
     "text": [
      "260it [50:57, 11.50s/it]"
     ]
    },
    {
     "name": "stdout",
     "output_type": "stream",
     "text": [
      "未找到下载链接。\n",
      "文献DOI为 10.13345/j.cjb.210428 的下载状态已更新为 2\n",
      "已经下载200,正在下载10.1007/s10532-014-9711-4\n"
     ]
    },
    {
     "name": "stderr",
     "output_type": "stream",
     "text": [
      "261it [51:08, 11.76s/it]\n"
     ]
    },
    {
     "name": "stdout",
     "output_type": "stream",
     "text": [
      "下载DOI为10.1007/s10532-014-9711-4的论文成功。\n",
      "文献DOI为 10.1007/s10532-014-9711-4 的下载状态已更新为 1\n",
      "已经下载201篇文献\n"
     ]
    },
    {
     "name": "stderr",
     "output_type": "stream",
     "text": [
      "0it [00:00, ?it/s]"
     ]
    },
    {
     "name": "stdout",
     "output_type": "stream",
     "text": [
      "已经下载0,正在下载10.1016/j.scitotenv.2022.157445\n",
      "下载失败。\n"
     ]
    },
    {
     "name": "stderr",
     "output_type": "stream",
     "text": [
      "e:\\学习\\python\\py_codbase\\PK_LLM\\PK_LLM_endfront\\Paper_Downloader\\paper_downloader\\download_recorder.py:65: FutureWarning: Setting an item of incompatible dtype is deprecated and will raise an error in a future version of pandas. Value 'Anthropogenic mercury (Hg) undergoes long-range transport to the Arctic where some of it is transformed into methylmercury (MeHg), potentially leading to high exposure in some Arctic inhabitants and wildlife. The environmental exposure of Hg is determined not just by the amount of Hg entering the Arctic, but also by biogeochemical and ecological processes occurring in the Arctic. These processes affect MeHg uptake in biota by regulating the bioavailability, methylation and demethylation, bioaccumulation and biomagnification of MeHg in Arctic ecosystems. Here, we present a new budget for pools and fluxes of MeHg in the Arctic and review the scientific advances made in the last decade on processes leading to environmental exposure to Hg. Methylation and demethylation are key processes controlling the pool of MeHg available for bioaccumulation. Methylation of Hg occurs in diverse Arctic environments including permafrost, sediments and the ocean water column, and is primarily a process carried out by microorganisms. While microorganisms carrying the hgcAB gene pair (responsible for Hg methylation) have been identified in Arctic soils and thawing permafrost, the formation pathway of MeHg in oxic marine waters remains less clear. Hotspots for methylation of Hg in terrestrial environments include thermokarst wetlands, ponds and lakes. The shallow sub-surface enrichment of MeHg in the Arctic Ocean, in comparison to other marine systems, is a possible explanation for high MeHg concentrations in some Arctic biota. Bioconcentration of aqueous MeHg in bacteria and algae is a critical step in the transfer of Hg to top predators, which may be dampened or enhanced by the presence of organic matter. Variable trophic position has an important influence on MeHg concentrations among populations of top predator species such as ringed seal and polar bears distributed across the circumpolar Arctic. These scientific advances highlight key processes that affect the fate of anthropogenic Hg deposited to Arctic environments.' has dtype incompatible with float64, please explicitly cast to a compatible dtype first.\n",
      "  self.table.loc[self.table['DOI'] == doi, 'Abstract'] = abstract\n",
      "1it [00:05,  5.82s/it]"
     ]
    },
    {
     "name": "stdout",
     "output_type": "stream",
     "text": [
      "下载失败。\n",
      "请求失败。\n",
      "文献DOI为 10.1016/j.scitotenv.2022.157445 的下载状态已更新为 2\n",
      "已经下载0,正在下载10.3390/toxics10100620\n"
     ]
    },
    {
     "name": "stderr",
     "output_type": "stream",
     "text": [
      "2it [00:14,  7.46s/it]"
     ]
    },
    {
     "name": "stdout",
     "output_type": "stream",
     "text": [
      "下载DOI为10.3390/toxics10100620的论文成功。\n",
      "文献DOI为 10.3390/toxics10100620 的下载状态已更新为 1\n",
      "已经下载1,正在下载10.3390/toxics10120778\n"
     ]
    },
    {
     "name": "stderr",
     "output_type": "stream",
     "text": [
      "3it [00:29, 10.97s/it]"
     ]
    },
    {
     "name": "stdout",
     "output_type": "stream",
     "text": [
      "下载DOI为10.3390/toxics10120778的论文成功。\n",
      "文献DOI为 10.3390/toxics10120778 的下载状态已更新为 1\n",
      "已经下载2,正在下载10.1002/etc.5312\n"
     ]
    },
    {
     "name": "stderr",
     "output_type": "stream",
     "text": [
      "4it [00:39, 10.47s/it]"
     ]
    },
    {
     "name": "stdout",
     "output_type": "stream",
     "text": [
      "下载DOI为10.1002/etc.5312的论文成功。\n",
      "文献DOI为 10.1002/etc.5312 的下载状态已更新为 1\n",
      "已经下载3,正在下载10.1002/wer.1400\n"
     ]
    },
    {
     "name": "stderr",
     "output_type": "stream",
     "text": [
      "5it [00:50, 10.80s/it]"
     ]
    },
    {
     "name": "stdout",
     "output_type": "stream",
     "text": [
      "文件 SL01-5-J.pdf 下载成功！\n",
      "下载DOI为10.1002/wer.1400的论文成功。\n",
      "文献DOI为 10.1002/wer.1400 的下载状态已更新为 1\n",
      "已经下载4,正在下载10.1007/s11356-022-24529-w\n"
     ]
    },
    {
     "name": "stderr",
     "output_type": "stream",
     "text": [
      "6it [00:54,  8.34s/it]"
     ]
    },
    {
     "name": "stdout",
     "output_type": "stream",
     "text": [
      "未找到下载链接。\n",
      "文献DOI为 10.1007/s11356-022-24529-w 的下载状态已更新为 2\n",
      "已经下载4,正在下载10.1002/etc.4953\n"
     ]
    },
    {
     "name": "stderr",
     "output_type": "stream",
     "text": [
      "7it [01:03,  8.49s/it]"
     ]
    },
    {
     "name": "stdout",
     "output_type": "stream",
     "text": [
      "文件 SL01-7-J.pdf 下载成功！\n",
      "下载DOI为10.1002/etc.4953的论文成功。\n",
      "文献DOI为 10.1002/etc.4953 的下载状态已更新为 1\n",
      "已经下载5,正在下载10.1016/j.envint.2022.107650\n"
     ]
    },
    {
     "name": "stderr",
     "output_type": "stream",
     "text": [
      "8it [01:11,  8.49s/it]"
     ]
    },
    {
     "name": "stdout",
     "output_type": "stream",
     "text": [
      "未找到下载链接。\n",
      "文献DOI为 10.1016/j.envint.2022.107650 的下载状态已更新为 2\n",
      "已经下载5,正在下载10.1016/j.scitotenv.2023.164686\n"
     ]
    },
    {
     "name": "stderr",
     "output_type": "stream",
     "text": [
      "9it [01:15,  7.01s/it]"
     ]
    },
    {
     "name": "stdout",
     "output_type": "stream",
     "text": [
      "未找到下载链接。\n",
      "文献DOI为 10.1016/j.scitotenv.2023.164686 的下载状态已更新为 2\n",
      "已经下载5,正在下载10.1016/j.scitotenv.2022.153821\n",
      "下载失败。\n"
     ]
    },
    {
     "name": "stderr",
     "output_type": "stream",
     "text": [
      "10it [01:24,  7.81s/it]"
     ]
    },
    {
     "name": "stdout",
     "output_type": "stream",
     "text": [
      "下载失败。\n",
      "请求失败。\n",
      "文献DOI为 10.1016/j.scitotenv.2022.153821 的下载状态已更新为 2\n",
      "已经下载5,正在下载10.3390/toxics11120966\n"
     ]
    },
    {
     "name": "stderr",
     "output_type": "stream",
     "text": [
      "11it [01:38,  9.68s/it]"
     ]
    },
    {
     "name": "stdout",
     "output_type": "stream",
     "text": [
      "下载DOI为10.3390/toxics11120966的论文成功。\n",
      "文献DOI为 10.3390/toxics11120966 的下载状态已更新为 1\n",
      "已经下载6,正在下载10.3390/toxics10120751\n"
     ]
    },
    {
     "name": "stderr",
     "output_type": "stream",
     "text": [
      "12it [01:42,  7.94s/it]"
     ]
    },
    {
     "name": "stdout",
     "output_type": "stream",
     "text": [
      "下载DOI为10.3390/toxics10120751的论文成功。\n",
      "文献DOI为 10.3390/toxics10120751 的下载状态已更新为 1\n",
      "已经下载7,正在下载10.3390/ijerph15112395\n"
     ]
    },
    {
     "name": "stderr",
     "output_type": "stream",
     "text": [
      "13it [02:02, 11.46s/it]"
     ]
    },
    {
     "name": "stdout",
     "output_type": "stream",
     "text": [
      "下载DOI为10.3390/ijerph15112395的论文成功。\n",
      "文献DOI为 10.3390/ijerph15112395 的下载状态已更新为 1\n",
      "已经下载8,正在下载10.1007/s11356-023-30636-z\n"
     ]
    },
    {
     "name": "stderr",
     "output_type": "stream",
     "text": [
      "14it [02:05,  9.10s/it]"
     ]
    },
    {
     "name": "stdout",
     "output_type": "stream",
     "text": [
      "未找到下载链接。\n",
      "文献DOI为 10.1007/s11356-023-30636-z 的下载状态已更新为 2\n",
      "已经下载8,正在下载10.1007/978-1-4614-4717-7_1\n"
     ]
    },
    {
     "name": "stderr",
     "output_type": "stream",
     "text": [
      "15it [02:11,  8.15s/it]"
     ]
    },
    {
     "name": "stdout",
     "output_type": "stream",
     "text": [
      "文件 SL01-15-J.pdf 下载成功！\n",
      "下载DOI为10.1007/978-1-4614-4717-7_1的论文成功。\n",
      "文献DOI为 10.1007/978-1-4614-4717-7_1 的下载状态已更新为 1\n",
      "已经下载9,正在下载10.1002/wer.1218\n"
     ]
    },
    {
     "name": "stderr",
     "output_type": "stream",
     "text": [
      "16it [02:17,  7.31s/it]"
     ]
    },
    {
     "name": "stdout",
     "output_type": "stream",
     "text": [
      "文件 SL01-16-J.pdf 下载成功！\n",
      "下载DOI为10.1002/wer.1218的论文成功。\n",
      "文献DOI为 10.1002/wer.1218 的下载状态已更新为 1\n",
      "已经下载10,正在下载10.3390/ijerph20053982\n"
     ]
    },
    {
     "name": "stderr",
     "output_type": "stream",
     "text": [
      "17it [02:21,  6.24s/it]"
     ]
    },
    {
     "name": "stdout",
     "output_type": "stream",
     "text": [
      "下载DOI为10.3390/ijerph20053982的论文成功。\n",
      "文献DOI为 10.3390/ijerph20053982 的下载状态已更新为 1\n",
      "已经下载11,正在下载10.1016/j.jhazmat.2022.130517\n"
     ]
    },
    {
     "name": "stderr",
     "output_type": "stream",
     "text": [
      "18it [02:24,  5.48s/it]"
     ]
    },
    {
     "name": "stdout",
     "output_type": "stream",
     "text": [
      "未找到下载链接。\n",
      "文献DOI为 10.1016/j.jhazmat.2022.130517 的下载状态已更新为 2\n",
      "已经下载11,正在下载10.1016/j.envres.2022.113202\n"
     ]
    },
    {
     "name": "stderr",
     "output_type": "stream",
     "text": [
      "19it [02:29,  5.17s/it]"
     ]
    },
    {
     "name": "stdout",
     "output_type": "stream",
     "text": [
      "未找到下载链接。\n",
      "文献DOI为 10.1016/j.envres.2022.113202 的下载状态已更新为 2\n",
      "已经下载11,正在下载10.1016/j.jhazmat.2016.04.060\n"
     ]
    },
    {
     "name": "stderr",
     "output_type": "stream",
     "text": [
      "20it [02:34,  5.30s/it]"
     ]
    },
    {
     "name": "stdout",
     "output_type": "stream",
     "text": [
      "文件 SL01-20-J.pdf 下载成功！\n",
      "下载DOI为10.1016/j.jhazmat.2016.04.060的论文成功。\n",
      "文献DOI为 10.1016/j.jhazmat.2016.04.060 的下载状态已更新为 1\n",
      "已经下载12,正在下载10.1016/j.chemosphere.2024.142036\n"
     ]
    },
    {
     "name": "stderr",
     "output_type": "stream",
     "text": [
      "21it [02:37,  4.63s/it]"
     ]
    },
    {
     "name": "stdout",
     "output_type": "stream",
     "text": [
      "未找到下载链接。\n",
      "文献DOI为 10.1016/j.chemosphere.2024.142036 的下载状态已更新为 2\n",
      "已经下载12,正在下载10.1038/s42003-023-05539-x\n"
     ]
    },
    {
     "name": "stderr",
     "output_type": "stream",
     "text": [
      "22it [02:46,  5.91s/it]"
     ]
    },
    {
     "name": "stdout",
     "output_type": "stream",
     "text": [
      "下载DOI为10.1038/s42003-023-05539-x的论文成功。\n",
      "文献DOI为 10.1038/s42003-023-05539-x 的下载状态已更新为 1\n",
      "已经下载13,正在下载10.1016/j.envpol.2022.118995\n",
      "下载失败。\n",
      "下载失败。\n",
      "请求失败。\n"
     ]
    },
    {
     "name": "stderr",
     "output_type": "stream",
     "text": [
      "23it [02:51,  5.48s/it]"
     ]
    },
    {
     "name": "stdout",
     "output_type": "stream",
     "text": [
      "文献DOI为 10.1016/j.envpol.2022.118995 的下载状态已更新为 2\n",
      "已经下载13,正在下载10.1002/ieam.4756\n"
     ]
    },
    {
     "name": "stderr",
     "output_type": "stream",
     "text": [
      "24it [02:54,  4.94s/it]"
     ]
    },
    {
     "name": "stdout",
     "output_type": "stream",
     "text": [
      "未找到下载链接。\n",
      "文献DOI为 10.1002/ieam.4756 的下载状态已更新为 2\n",
      "已经下载13,正在下载10.1016/j.scitotenv.2022.158117\n"
     ]
    },
    {
     "name": "stderr",
     "output_type": "stream",
     "text": [
      "25it [02:58,  4.45s/it]"
     ]
    },
    {
     "name": "stdout",
     "output_type": "stream",
     "text": [
      "未找到下载链接。\n",
      "文献DOI为 10.1016/j.scitotenv.2022.158117 的下载状态已更新为 2\n",
      "已经下载13,正在下载10.1002/jat.4210\n"
     ]
    },
    {
     "name": "stderr",
     "output_type": "stream",
     "text": [
      "26it [03:04,  4.87s/it]"
     ]
    },
    {
     "name": "stdout",
     "output_type": "stream",
     "text": [
      "文件 SL01-26-J.pdf 下载成功！\n",
      "下载DOI为10.1002/jat.4210的论文成功。\n",
      "文献DOI为 10.1002/jat.4210 的下载状态已更新为 1\n",
      "已经下载14,正在下载10.1016/j.marpolbul.2023.115439\n"
     ]
    },
    {
     "name": "stderr",
     "output_type": "stream",
     "text": [
      "27it [03:15,  6.75s/it]"
     ]
    },
    {
     "name": "stdout",
     "output_type": "stream",
     "text": [
      "下载DOI为10.1016/j.marpolbul.2023.115439的论文成功。\n",
      "文献DOI为 10.1016/j.marpolbul.2023.115439 的下载状态已更新为 1\n",
      "已经下载15,正在下载10.1021/acs.est.6b03950\n"
     ]
    },
    {
     "name": "stderr",
     "output_type": "stream",
     "text": [
      "28it [03:23,  7.07s/it]"
     ]
    },
    {
     "name": "stdout",
     "output_type": "stream",
     "text": [
      "文件 SL01-28-J.pdf 下载成功！\n",
      "下载DOI为10.1021/acs.est.6b03950的论文成功。\n",
      "文献DOI为 10.1021/acs.est.6b03950 的下载状态已更新为 1\n",
      "已经下载16,正在下载10.1016/j.scitotenv.2019.05.487\n"
     ]
    },
    {
     "name": "stderr",
     "output_type": "stream",
     "text": [
      "29it [03:29,  6.84s/it]"
     ]
    },
    {
     "name": "stdout",
     "output_type": "stream",
     "text": [
      "文件 SL01-29-J.pdf 下载成功！\n",
      "下载DOI为10.1016/j.scitotenv.2019.05.487的论文成功。\n",
      "文献DOI为 10.1016/j.scitotenv.2019.05.487 的下载状态已更新为 1\n",
      "已经下载17,正在下载10.1016/j.scitotenv.2021.151931\n",
      "下载失败。\n",
      "下载失败。\n",
      "请求失败。\n"
     ]
    },
    {
     "name": "stderr",
     "output_type": "stream",
     "text": [
      "30it [03:35,  6.50s/it]"
     ]
    },
    {
     "name": "stdout",
     "output_type": "stream",
     "text": [
      "文献DOI为 10.1016/j.scitotenv.2021.151931 的下载状态已更新为 2\n",
      "已经下载17,正在下载10.1007/398_2017_2\n"
     ]
    },
    {
     "name": "stderr",
     "output_type": "stream",
     "text": [
      "31it [03:42,  6.70s/it]"
     ]
    },
    {
     "name": "stdout",
     "output_type": "stream",
     "text": [
      "文件 SL01-31-J.pdf 下载成功！\n",
      "下载DOI为10.1007/398_2017_2的论文成功。\n",
      "文献DOI为 10.1007/398_2017_2 的下载状态已更新为 1\n",
      "已经下载18,正在下载10.1016/j.chemosphere.2022.134836\n"
     ]
    },
    {
     "name": "stderr",
     "output_type": "stream",
     "text": [
      "32it [03:45,  5.73s/it]"
     ]
    },
    {
     "name": "stdout",
     "output_type": "stream",
     "text": [
      "未找到下载链接。\n",
      "文献DOI为 10.1016/j.chemosphere.2022.134836 的下载状态已更新为 2\n",
      "已经下载18,正在下载10.1021/acs.est.0c08822\n"
     ]
    },
    {
     "name": "stderr",
     "output_type": "stream",
     "text": [
      "33it [03:51,  5.86s/it]"
     ]
    },
    {
     "name": "stdout",
     "output_type": "stream",
     "text": [
      "文件 SL01-33-J.pdf 下载成功！\n",
      "下载DOI为10.1021/acs.est.0c08822的论文成功。\n",
      "文献DOI为 10.1021/acs.est.0c08822 的下载状态已更新为 1\n",
      "已经下载19,正在下载10.1016/j.scitotenv.2021.151956\n"
     ]
    },
    {
     "name": "stderr",
     "output_type": "stream",
     "text": [
      "34it [03:56,  5.46s/it]"
     ]
    },
    {
     "name": "stdout",
     "output_type": "stream",
     "text": [
      "下载DOI为10.1016/j.scitotenv.2021.151956的论文成功。\n",
      "文献DOI为 10.1016/j.scitotenv.2021.151956 的下载状态已更新为 1\n",
      "已经下载20,正在下载10.1007/s11356-019-05669-y\n"
     ]
    },
    {
     "name": "stderr",
     "output_type": "stream",
     "text": [
      "35it [04:07,  7.27s/it]"
     ]
    },
    {
     "name": "stdout",
     "output_type": "stream",
     "text": [
      "文件 SL01-35-J.pdf 下载成功！\n",
      "下载DOI为10.1007/s11356-019-05669-y的论文成功。\n",
      "文献DOI为 10.1007/s11356-019-05669-y 的下载状态已更新为 1\n",
      "已经下载21,正在下载10.1007/s11356-021-15861-8\n"
     ]
    },
    {
     "name": "stderr",
     "output_type": "stream",
     "text": [
      "36it [04:13,  6.75s/it]"
     ]
    },
    {
     "name": "stdout",
     "output_type": "stream",
     "text": [
      "文件 SL01-36-J.pdf 下载成功！\n",
      "下载DOI为10.1007/s11356-021-15861-8的论文成功。\n",
      "文献DOI为 10.1007/s11356-021-15861-8 的下载状态已更新为 1\n",
      "已经下载22,正在下载10.1016/j.jpba.2016.02.049\n"
     ]
    },
    {
     "name": "stderr",
     "output_type": "stream",
     "text": [
      "37it [04:21,  7.10s/it]"
     ]
    },
    {
     "name": "stdout",
     "output_type": "stream",
     "text": [
      "文件 SL01-37-J.pdf 下载成功！\n",
      "下载DOI为10.1016/j.jpba.2016.02.049的论文成功。\n",
      "文献DOI为 10.1016/j.jpba.2016.02.049 的下载状态已更新为 1\n",
      "已经下载23,正在下载10.1371/journal.pone.0240792\n"
     ]
    },
    {
     "name": "stderr",
     "output_type": "stream",
     "text": [
      "38it [04:26,  6.46s/it]"
     ]
    },
    {
     "name": "stdout",
     "output_type": "stream",
     "text": [
      "下载DOI为10.1371/journal.pone.0240792的论文成功。\n",
      "文献DOI为 10.1371/journal.pone.0240792 的下载状态已更新为 1\n",
      "已经下载24,正在下载10.1016/j.chemosphere.2021.130948\n"
     ]
    },
    {
     "name": "stderr",
     "output_type": "stream",
     "text": [
      "39it [04:32,  6.48s/it]"
     ]
    },
    {
     "name": "stdout",
     "output_type": "stream",
     "text": [
      "文件 SL01-39-J.pdf 下载成功！\n",
      "下载DOI为10.1016/j.chemosphere.2021.130948的论文成功。\n",
      "文献DOI为 10.1016/j.chemosphere.2021.130948 的下载状态已更新为 1\n",
      "已经下载25,正在下载10.1016/j.jhazmat.2021.127350\n",
      "下载失败。\n"
     ]
    },
    {
     "name": "stderr",
     "output_type": "stream",
     "text": [
      "40it [04:38,  6.28s/it]"
     ]
    },
    {
     "name": "stdout",
     "output_type": "stream",
     "text": [
      "下载失败。\n",
      "请求失败。\n",
      "文献DOI为 10.1016/j.jhazmat.2021.127350 的下载状态已更新为 2\n",
      "已经下载25,正在下载10.3390/nano7010021\n"
     ]
    },
    {
     "name": "stderr",
     "output_type": "stream",
     "text": [
      "41it [04:47,  7.18s/it]"
     ]
    },
    {
     "name": "stdout",
     "output_type": "stream",
     "text": [
      "下载DOI为10.3390/nano7010021的论文成功。\n",
      "文献DOI为 10.3390/nano7010021 的下载状态已更新为 1\n",
      "已经下载26,正在下载10.1007/s00128-021-03274-9\n"
     ]
    },
    {
     "name": "stderr",
     "output_type": "stream",
     "text": [
      "42it [04:53,  6.79s/it]"
     ]
    },
    {
     "name": "stdout",
     "output_type": "stream",
     "text": [
      "文件 SL01-42-J.pdf 下载成功！\n",
      "下载DOI为10.1007/s00128-021-03274-9的论文成功。\n",
      "文献DOI为 10.1007/s00128-021-03274-9 的下载状态已更新为 1\n",
      "已经下载27,正在下载10.1016/j.scitotenv.2017.09.322\n"
     ]
    },
    {
     "name": "stderr",
     "output_type": "stream",
     "text": [
      "43it [04:59,  6.61s/it]"
     ]
    },
    {
     "name": "stdout",
     "output_type": "stream",
     "text": [
      "文件 SL01-43-J.pdf 下载成功！\n",
      "下载DOI为10.1016/j.scitotenv.2017.09.322的论文成功。\n",
      "文献DOI为 10.1016/j.scitotenv.2017.09.322 的下载状态已更新为 1\n",
      "已经下载28,正在下载10.1002/ieam.4583\n",
      "下载失败。\n",
      "下载失败。\n",
      "请求失败。\n"
     ]
    },
    {
     "name": "stderr",
     "output_type": "stream",
     "text": [
      "44it [05:04,  6.13s/it]"
     ]
    },
    {
     "name": "stdout",
     "output_type": "stream",
     "text": [
      "文献DOI为 10.1002/ieam.4583 的下载状态已更新为 2\n",
      "已经下载28,正在下载10.1007/s00216-012-6161-x\n"
     ]
    },
    {
     "name": "stderr",
     "output_type": "stream",
     "text": [
      "45it [05:11,  6.23s/it]"
     ]
    },
    {
     "name": "stdout",
     "output_type": "stream",
     "text": [
      "文件 SL01-45-J.pdf 下载成功！\n",
      "下载DOI为10.1007/s00216-012-6161-x的论文成功。\n",
      "文献DOI为 10.1007/s00216-012-6161-x 的下载状态已更新为 1\n",
      "已经下载29,正在下载10.3390/toxics10060324\n"
     ]
    },
    {
     "name": "stderr",
     "output_type": "stream",
     "text": [
      "46it [05:19,  6.78s/it]"
     ]
    },
    {
     "name": "stdout",
     "output_type": "stream",
     "text": [
      "下载DOI为10.3390/toxics10060324的论文成功。\n",
      "文献DOI为 10.3390/toxics10060324 的下载状态已更新为 1\n",
      "已经下载30,正在下载10.1007/s10646-022-02572-0\n",
      "下载失败。\n",
      "下载失败。\n",
      "请求失败。\n"
     ]
    },
    {
     "name": "stderr",
     "output_type": "stream",
     "text": [
      "47it [05:25,  6.47s/it]"
     ]
    },
    {
     "name": "stdout",
     "output_type": "stream",
     "text": [
      "文献DOI为 10.1007/s10646-022-02572-0 的下载状态已更新为 2\n",
      "已经下载30,正在下载10.1016/j.watres.2024.121466\n"
     ]
    },
    {
     "name": "stderr",
     "output_type": "stream",
     "text": [
      "48it [05:30,  6.04s/it]"
     ]
    },
    {
     "name": "stdout",
     "output_type": "stream",
     "text": [
      "未找到下载链接。\n",
      "文献DOI为 10.1016/j.watres.2024.121466 的下载状态已更新为 2\n",
      "已经下载30,正在下载10.1021/acs.est.3c02585\n"
     ]
    },
    {
     "name": "stderr",
     "output_type": "stream",
     "text": [
      "49it [05:34,  5.49s/it]"
     ]
    },
    {
     "name": "stdout",
     "output_type": "stream",
     "text": [
      "未找到下载链接。\n",
      "文献DOI为 10.1021/acs.est.3c02585 的下载状态已更新为 2\n",
      "已经下载30,正在下载10.1080/1062936X.2022.2066174\n"
     ]
    },
    {
     "name": "stderr",
     "output_type": "stream",
     "text": [
      "50it [07:19, 35.32s/it]"
     ]
    },
    {
     "name": "stdout",
     "output_type": "stream",
     "text": [
      "下载DOI为10.1080/1062936X.2022.2066174的论文成功。\n",
      "文献DOI为 10.1080/1062936X.2022.2066174 的下载状态已更新为 1\n",
      "已经下载31,正在下载10.1016/j.envpol.2022.120677\n"
     ]
    },
    {
     "name": "stderr",
     "output_type": "stream",
     "text": [
      "51it [07:22, 25.66s/it]"
     ]
    },
    {
     "name": "stdout",
     "output_type": "stream",
     "text": [
      "未找到下载链接。\n",
      "文献DOI为 10.1016/j.envpol.2022.120677 的下载状态已更新为 2\n",
      "已经下载31,正在下载10.1007/s11356-023-25804-0\n"
     ]
    },
    {
     "name": "stderr",
     "output_type": "stream",
     "text": [
      "52it [07:27, 19.37s/it]"
     ]
    },
    {
     "name": "stdout",
     "output_type": "stream",
     "text": [
      "未找到下载链接。\n",
      "文献DOI为 10.1007/s11356-023-25804-0 的下载状态已更新为 2\n",
      "已经下载31,正在下载10.1016/j.jes.2021.03.036\n"
     ]
    },
    {
     "name": "stderr",
     "output_type": "stream",
     "text": [
      "53it [07:35, 16.10s/it]"
     ]
    },
    {
     "name": "stdout",
     "output_type": "stream",
     "text": [
      "文件 SL01-53-J.pdf 下载成功！\n",
      "下载DOI为10.1016/j.jes.2021.03.036的论文成功。\n",
      "文献DOI为 10.1016/j.jes.2021.03.036 的下载状态已更新为 1\n",
      "已经下载32,正在下载10.1016/j.chemosphere.2016.03.003\n"
     ]
    },
    {
     "name": "stderr",
     "output_type": "stream",
     "text": [
      "54it [07:42, 13.39s/it]"
     ]
    },
    {
     "name": "stdout",
     "output_type": "stream",
     "text": [
      "文件 SL01-54-J.pdf 下载成功！\n",
      "下载DOI为10.1016/j.chemosphere.2016.03.003的论文成功。\n",
      "文献DOI为 10.1016/j.chemosphere.2016.03.003 的下载状态已更新为 1\n",
      "已经下载33,正在下载10.1016/j.envpol.2022.119810\n",
      "下载失败。\n"
     ]
    },
    {
     "name": "stderr",
     "output_type": "stream",
     "text": [
      "55it [07:47, 10.74s/it]"
     ]
    },
    {
     "name": "stdout",
     "output_type": "stream",
     "text": [
      "下载失败。\n",
      "请求失败。\n",
      "文献DOI为 10.1016/j.envpol.2022.119810 的下载状态已更新为 2\n",
      "已经下载33,正在下载10.1016/j.chemosphere.2019.124577\n"
     ]
    },
    {
     "name": "stderr",
     "output_type": "stream",
     "text": [
      "56it [07:52,  9.14s/it]"
     ]
    },
    {
     "name": "stdout",
     "output_type": "stream",
     "text": [
      "文件 SL01-56-J.pdf 下载成功！\n",
      "下载DOI为10.1016/j.chemosphere.2019.124577的论文成功。\n",
      "文献DOI为 10.1016/j.chemosphere.2019.124577 的下载状态已更新为 1\n",
      "已经下载34,正在下载10.1002/etc.5729\n"
     ]
    },
    {
     "name": "stderr",
     "output_type": "stream",
     "text": [
      "57it [07:56,  7.49s/it]"
     ]
    },
    {
     "name": "stdout",
     "output_type": "stream",
     "text": [
      "未找到下载链接。\n",
      "文献DOI为 10.1002/etc.5729 的下载状态已更新为 2\n",
      "已经下载34,正在下载10.1007/s11356-023-26101-6\n"
     ]
    },
    {
     "name": "stderr",
     "output_type": "stream",
     "text": [
      "58it [08:03,  7.49s/it]"
     ]
    },
    {
     "name": "stdout",
     "output_type": "stream",
     "text": [
      "下载DOI为10.1007/s11356-023-26101-6的论文成功。\n",
      "文献DOI为 10.1007/s11356-023-26101-6 的下载状态已更新为 1\n",
      "已经下载35,正在下载10.1016/j.ecoenv.2022.114271\n"
     ]
    },
    {
     "name": "stderr",
     "output_type": "stream",
     "text": [
      "59it [08:07,  6.32s/it]"
     ]
    },
    {
     "name": "stdout",
     "output_type": "stream",
     "text": [
      "未找到下载链接。\n",
      "文献DOI为 10.1016/j.ecoenv.2022.114271 的下载状态已更新为 2\n",
      "已经下载35,正在下载10.3390/ijms22126276\n"
     ]
    },
    {
     "name": "stderr",
     "output_type": "stream",
     "text": [
      "60it [08:14,  6.49s/it]"
     ]
    },
    {
     "name": "stdout",
     "output_type": "stream",
     "text": [
      "下载DOI为10.3390/ijms22126276的论文成功。\n",
      "文献DOI为 10.3390/ijms22126276 的下载状态已更新为 1\n",
      "已经下载36,正在下载10.1021/acs.est.2c09115\n"
     ]
    },
    {
     "name": "stderr",
     "output_type": "stream",
     "text": [
      "61it [08:17,  5.54s/it]"
     ]
    },
    {
     "name": "stdout",
     "output_type": "stream",
     "text": [
      "未找到下载链接。\n",
      "文献DOI为 10.1021/acs.est.2c09115 的下载状态已更新为 2\n",
      "已经下载36,正在下载10.1007/978-3-319-01327-5_4\n"
     ]
    },
    {
     "name": "stderr",
     "output_type": "stream",
     "text": [
      "62it [08:25,  6.19s/it]"
     ]
    },
    {
     "name": "stdout",
     "output_type": "stream",
     "text": [
      "文件 SL01-62-J.pdf 下载成功！\n",
      "下载DOI为10.1007/978-3-319-01327-5_4的论文成功。\n",
      "文献DOI为 10.1007/978-3-319-01327-5_4 的下载状态已更新为 1\n",
      "已经下载37,正在下载10.1002/ieam.4401\n"
     ]
    },
    {
     "name": "stderr",
     "output_type": "stream",
     "text": [
      "63it [08:31,  6.08s/it]"
     ]
    },
    {
     "name": "stdout",
     "output_type": "stream",
     "text": [
      "下载DOI为10.1002/ieam.4401的论文成功。\n",
      "文献DOI为 10.1002/ieam.4401 的下载状态已更新为 1\n",
      "已经下载38,正在下载10.1002/ieam.1907\n"
     ]
    },
    {
     "name": "stderr",
     "output_type": "stream",
     "text": [
      "64it [08:36,  5.87s/it]"
     ]
    },
    {
     "name": "stdout",
     "output_type": "stream",
     "text": [
      "文件 SL01-64-J.pdf 下载成功！\n",
      "下载DOI为10.1002/ieam.1907的论文成功。\n",
      "文献DOI为 10.1002/ieam.1907 的下载状态已更新为 1\n",
      "已经下载39,正在下载10.1016/j.envpol.2018.03.045\n"
     ]
    },
    {
     "name": "stderr",
     "output_type": "stream",
     "text": [
      "65it [08:42,  5.78s/it]"
     ]
    },
    {
     "name": "stdout",
     "output_type": "stream",
     "text": [
      "文件 SL01-65-J.pdf 下载成功！\n",
      "下载DOI为10.1016/j.envpol.2018.03.045的论文成功。\n",
      "文献DOI为 10.1016/j.envpol.2018.03.045 的下载状态已更新为 1\n",
      "已经下载40,正在下载10.1007/s11356-020-10609-2\n"
     ]
    },
    {
     "name": "stderr",
     "output_type": "stream",
     "text": [
      "66it [08:49,  6.21s/it]"
     ]
    },
    {
     "name": "stdout",
     "output_type": "stream",
     "text": [
      "下载DOI为10.1007/s11356-020-10609-2的论文成功。\n",
      "文献DOI为 10.1007/s11356-020-10609-2 的下载状态已更新为 1\n",
      "已经下载41,正在下载10.3390/ijms20122874\n"
     ]
    },
    {
     "name": "stderr",
     "output_type": "stream",
     "text": [
      "67it [08:54,  5.87s/it]"
     ]
    },
    {
     "name": "stdout",
     "output_type": "stream",
     "text": [
      "下载DOI为10.3390/ijms20122874的论文成功。\n",
      "文献DOI为 10.3390/ijms20122874 的下载状态已更新为 1\n",
      "已经下载42,正在下载10.1016/j.scitotenv.2024.171660\n"
     ]
    },
    {
     "name": "stderr",
     "output_type": "stream",
     "text": [
      "68it [08:58,  5.18s/it]"
     ]
    },
    {
     "name": "stdout",
     "output_type": "stream",
     "text": [
      "未找到下载链接。\n",
      "文献DOI为 10.1016/j.scitotenv.2024.171660 的下载状态已更新为 2\n",
      "已经下载42,正在下载10.1021/es070895g\n"
     ]
    },
    {
     "name": "stderr",
     "output_type": "stream",
     "text": [
      "69it [09:03,  5.41s/it]"
     ]
    },
    {
     "name": "stdout",
     "output_type": "stream",
     "text": [
      "文件 SL01-69-J.pdf 下载成功！\n",
      "下载DOI为10.1021/es070895g的论文成功。\n",
      "文献DOI为 10.1021/es070895g 的下载状态已更新为 1\n",
      "已经下载43,正在下载10.1016/j.jhazmat.2022.130566\n"
     ]
    },
    {
     "name": "stderr",
     "output_type": "stream",
     "text": [
      "70it [09:13,  6.66s/it]"
     ]
    },
    {
     "name": "stdout",
     "output_type": "stream",
     "text": [
      "未找到下载链接。\n",
      "文献DOI为 10.1016/j.jhazmat.2022.130566 的下载状态已更新为 2\n",
      "已经下载43,正在下载10.1021/acs.est.9b00106\n"
     ]
    },
    {
     "name": "stderr",
     "output_type": "stream",
     "text": [
      "71it [14:20, 96.72s/it]"
     ]
    },
    {
     "name": "stdout",
     "output_type": "stream",
     "text": [
      "文件 SL01-71-J.pdf 下载成功！\n",
      "下载DOI为10.1021/acs.est.9b00106的论文成功。\n",
      "文献DOI为 10.1021/acs.est.9b00106 的下载状态已更新为 1\n",
      "已经下载44,正在下载10.1007/s00216-012-6067-7\n"
     ]
    },
    {
     "name": "stderr",
     "output_type": "stream",
     "text": [
      "72it [14:25, 69.28s/it]"
     ]
    },
    {
     "name": "stdout",
     "output_type": "stream",
     "text": [
      "文件 SL01-72-J.pdf 下载成功！\n",
      "下载DOI为10.1007/s00216-012-6067-7的论文成功。\n",
      "文献DOI为 10.1007/s00216-012-6067-7 的下载状态已更新为 1\n",
      "已经下载45,正在下载10.1016/j.scitotenv.2022.156397\n"
     ]
    },
    {
     "name": "stderr",
     "output_type": "stream",
     "text": [
      "73it [14:29, 49.54s/it]"
     ]
    },
    {
     "name": "stdout",
     "output_type": "stream",
     "text": [
      "未找到下载链接。\n",
      "文献DOI为 10.1016/j.scitotenv.2022.156397 的下载状态已更新为 2\n",
      "已经下载45,正在下载10.1016/j.jenvman.2024.120618\n"
     ]
    },
    {
     "name": "stderr",
     "output_type": "stream",
     "text": [
      "74it [14:32, 35.71s/it]"
     ]
    },
    {
     "name": "stdout",
     "output_type": "stream",
     "text": [
      "未找到下载链接。\n",
      "文献DOI为 10.1016/j.jenvman.2024.120618 的下载状态已更新为 2\n",
      "已经下载45,正在下载10.1016/j.envint.2016.09.021\n"
     ]
    },
    {
     "name": "stderr",
     "output_type": "stream",
     "text": [
      "75it [14:39, 27.12s/it]"
     ]
    },
    {
     "name": "stdout",
     "output_type": "stream",
     "text": [
      "文件 SL01-75-J.pdf 下载成功！\n",
      "下载DOI为10.1016/j.envint.2016.09.021的论文成功。\n",
      "文献DOI为 10.1016/j.envint.2016.09.021 的下载状态已更新为 1\n",
      "已经下载46,正在下载10.1016/j.heliyon.2022.e09143\n"
     ]
    },
    {
     "name": "stderr",
     "output_type": "stream",
     "text": [
      "76it [14:43, 20.11s/it]"
     ]
    },
    {
     "name": "stdout",
     "output_type": "stream",
     "text": [
      "下载DOI为10.1016/j.heliyon.2022.e09143的论文成功。\n",
      "文献DOI为 10.1016/j.heliyon.2022.e09143 的下载状态已更新为 1\n",
      "已经下载47,正在下载10.1016/j.jhazmat.2021.128163\n",
      "下载失败。\n",
      "下载失败。\n",
      "请求失败。\n"
     ]
    },
    {
     "name": "stderr",
     "output_type": "stream",
     "text": [
      "77it [14:47, 15.42s/it]"
     ]
    },
    {
     "name": "stdout",
     "output_type": "stream",
     "text": [
      "文献DOI为 10.1016/j.jhazmat.2021.128163 的下载状态已更新为 2\n",
      "已经下载47,正在下载10.1002/ieam.1452\n"
     ]
    },
    {
     "name": "stderr",
     "output_type": "stream",
     "text": [
      "78it [14:53, 12.48s/it]"
     ]
    },
    {
     "name": "stdout",
     "output_type": "stream",
     "text": [
      "文件 SL01-78-J.pdf 下载成功！\n",
      "下载DOI为10.1002/ieam.1452的论文成功。\n",
      "文献DOI为 10.1002/ieam.1452 的下载状态已更新为 1\n",
      "已经下载48,正在下载10.1016/j.jes.2023.01.007\n"
     ]
    },
    {
     "name": "stderr",
     "output_type": "stream",
     "text": [
      "79it [14:57,  9.79s/it]"
     ]
    },
    {
     "name": "stdout",
     "output_type": "stream",
     "text": [
      "未找到下载链接。\n",
      "文献DOI为 10.1016/j.jes.2023.01.007 的下载状态已更新为 2\n",
      "已经下载48,正在下载10.1002/etc.5760\n"
     ]
    },
    {
     "name": "stderr",
     "output_type": "stream",
     "text": [
      "80it [15:00,  7.89s/it]"
     ]
    },
    {
     "name": "stdout",
     "output_type": "stream",
     "text": [
      "未找到下载链接。\n",
      "文献DOI为 10.1002/etc.5760 的下载状态已更新为 2\n",
      "已经下载48,正在下载10.1007/s10661-023-12251-0\n"
     ]
    },
    {
     "name": "stderr",
     "output_type": "stream",
     "text": [
      "81it [15:06,  7.41s/it]"
     ]
    },
    {
     "name": "stdout",
     "output_type": "stream",
     "text": [
      "未找到下载链接。\n",
      "文献DOI为 10.1007/s10661-023-12251-0 的下载状态已更新为 2\n",
      "已经下载48,正在下载10.1016/j.jhazmat.2021.127909\n"
     ]
    },
    {
     "name": "stderr",
     "output_type": "stream",
     "text": [
      "82it [15:10,  6.18s/it]"
     ]
    },
    {
     "name": "stdout",
     "output_type": "stream",
     "text": [
      "未找到下载链接。\n",
      "文献DOI为 10.1016/j.jhazmat.2021.127909 的下载状态已更新为 2\n",
      "已经下载48,正在下载10.1016/j.marenvres.2023.106281\n"
     ]
    },
    {
     "name": "stderr",
     "output_type": "stream",
     "text": [
      "83it [15:13,  5.30s/it]"
     ]
    },
    {
     "name": "stdout",
     "output_type": "stream",
     "text": [
      "未找到下载链接。\n",
      "文献DOI为 10.1016/j.marenvres.2023.106281 的下载状态已更新为 2\n",
      "已经下载48,正在下载10.1016/j.scitotenv.2022.159615\n"
     ]
    },
    {
     "name": "stderr",
     "output_type": "stream",
     "text": [
      "84it [15:16,  4.74s/it]"
     ]
    },
    {
     "name": "stdout",
     "output_type": "stream",
     "text": [
      "未找到下载链接。\n",
      "文献DOI为 10.1016/j.scitotenv.2022.159615 的下载状态已更新为 2\n",
      "已经下载48,正在下载10.1016/j.scitotenv.2017.04.167\n"
     ]
    },
    {
     "name": "stderr",
     "output_type": "stream",
     "text": [
      "85it [15:23,  5.36s/it]"
     ]
    },
    {
     "name": "stdout",
     "output_type": "stream",
     "text": [
      "文件 SL01-85-J.pdf 下载成功！\n",
      "下载DOI为10.1016/j.scitotenv.2017.04.167的论文成功。\n",
      "文献DOI为 10.1016/j.scitotenv.2017.04.167 的下载状态已更新为 1\n",
      "已经下载49,正在下载10.1039/c7em00485k\n"
     ]
    },
    {
     "name": "stderr",
     "output_type": "stream",
     "text": [
      "86it [15:27,  5.03s/it]"
     ]
    },
    {
     "name": "stdout",
     "output_type": "stream",
     "text": [
      "下载DOI为10.1039/c7em00485k的论文成功。\n",
      "文献DOI为 10.1039/c7em00485k 的下载状态已更新为 1\n",
      "已经下载50,正在下载10.3390/ijerph20032671\n"
     ]
    },
    {
     "name": "stderr",
     "output_type": "stream",
     "text": [
      "87it [15:52, 10.84s/it]"
     ]
    },
    {
     "name": "stdout",
     "output_type": "stream",
     "text": [
      "下载DOI为10.3390/ijerph20032671的论文成功。\n",
      "文献DOI为 10.3390/ijerph20032671 的下载状态已更新为 1\n",
      "已经下载51,正在下载10.1007/s12011-022-03255-x\n",
      "下载失败。\n"
     ]
    },
    {
     "name": "stderr",
     "output_type": "stream",
     "text": [
      "88it [15:56,  8.91s/it]"
     ]
    },
    {
     "name": "stdout",
     "output_type": "stream",
     "text": [
      "下载失败。\n",
      "请求失败。\n",
      "文献DOI为 10.1007/s12011-022-03255-x 的下载状态已更新为 2\n",
      "已经下载51,正在下载10.1016/j.envres.2024.118906\n"
     ]
    },
    {
     "name": "stderr",
     "output_type": "stream",
     "text": [
      "89it [15:59,  7.25s/it]"
     ]
    },
    {
     "name": "stdout",
     "output_type": "stream",
     "text": [
      "未找到下载链接。\n",
      "文献DOI为 10.1016/j.envres.2024.118906 的下载状态已更新为 2\n",
      "已经下载51,正在下载10.1002/etc.4509\n"
     ]
    },
    {
     "name": "stderr",
     "output_type": "stream",
     "text": [
      "90it [16:07,  7.36s/it]"
     ]
    },
    {
     "name": "stdout",
     "output_type": "stream",
     "text": [
      "文件 SL01-90-J.pdf 下载成功！\n",
      "下载DOI为10.1002/etc.4509的论文成功。\n",
      "文献DOI为 10.1002/etc.4509 的下载状态已更新为 1\n",
      "已经下载52,正在下载10.1002/ieam.196\n"
     ]
    },
    {
     "name": "stderr",
     "output_type": "stream",
     "text": [
      "91it [16:13,  6.96s/it]"
     ]
    },
    {
     "name": "stdout",
     "output_type": "stream",
     "text": [
      "文件 SL01-91-J.pdf 下载成功！\n",
      "下载DOI为10.1002/ieam.196的论文成功。\n",
      "文献DOI为 10.1002/ieam.196 的下载状态已更新为 1\n",
      "已经下载53,正在下载10.1016/j.scitotenv.2023.162829\n"
     ]
    },
    {
     "name": "stderr",
     "output_type": "stream",
     "text": [
      "92it [16:16,  5.85s/it]"
     ]
    },
    {
     "name": "stdout",
     "output_type": "stream",
     "text": [
      "未找到下载链接。\n",
      "文献DOI为 10.1016/j.scitotenv.2023.162829 的下载状态已更新为 2\n",
      "已经下载53,正在下载10.1007/398_2019_26\n"
     ]
    },
    {
     "name": "stderr",
     "output_type": "stream",
     "text": [
      "93it [16:22,  5.77s/it]"
     ]
    },
    {
     "name": "stdout",
     "output_type": "stream",
     "text": [
      "文件 SL01-93-J.pdf 下载成功！\n",
      "下载DOI为10.1007/398_2019_26的论文成功。\n",
      "文献DOI为 10.1007/398_2019_26 的下载状态已更新为 1\n",
      "已经下载54,正在下载10.1016/j.chemosphere.2023.137754\n"
     ]
    },
    {
     "name": "stderr",
     "output_type": "stream",
     "text": [
      "94it [16:26,  5.12s/it]"
     ]
    },
    {
     "name": "stdout",
     "output_type": "stream",
     "text": [
      "未找到下载链接。\n",
      "文献DOI为 10.1016/j.chemosphere.2023.137754 的下载状态已更新为 2\n",
      "已经下载54,正在下载10.3390/ani10091663\n"
     ]
    },
    {
     "name": "stderr",
     "output_type": "stream",
     "text": [
      "95it [16:36,  6.56s/it]"
     ]
    },
    {
     "name": "stdout",
     "output_type": "stream",
     "text": [
      "下载DOI为10.3390/ani10091663的论文成功。\n",
      "文献DOI为 10.3390/ani10091663 的下载状态已更新为 1\n",
      "已经下载55,正在下载10.1016/j.envpol.2020.113982\n"
     ]
    },
    {
     "name": "stderr",
     "output_type": "stream",
     "text": [
      "96it [16:49,  8.54s/it]"
     ]
    },
    {
     "name": "stdout",
     "output_type": "stream",
     "text": [
      "文件 SL01-96-J.pdf 下载成功！\n",
      "下载DOI为10.1016/j.envpol.2020.113982的论文成功。\n",
      "文献DOI为 10.1016/j.envpol.2020.113982 的下载状态已更新为 1\n",
      "已经下载56,正在下载10.1016/j.ecoenv.2018.03.018\n"
     ]
    },
    {
     "name": "stderr",
     "output_type": "stream",
     "text": [
      "97it [16:56,  8.10s/it]"
     ]
    },
    {
     "name": "stdout",
     "output_type": "stream",
     "text": [
      "文件 SL01-97-J.pdf 下载成功！\n",
      "下载DOI为10.1016/j.ecoenv.2018.03.018的论文成功。\n",
      "文献DOI为 10.1016/j.ecoenv.2018.03.018 的下载状态已更新为 1\n",
      "已经下载57,正在下载10.1007/s10653-022-01211-1\n",
      "下载失败。\n"
     ]
    },
    {
     "name": "stderr",
     "output_type": "stream",
     "text": [
      "98it [17:02,  7.56s/it]"
     ]
    },
    {
     "name": "stdout",
     "output_type": "stream",
     "text": [
      "下载失败。\n",
      "请求失败。\n",
      "文献DOI为 10.1007/s10653-022-01211-1 的下载状态已更新为 2\n",
      "已经下载57,正在下载10.1016/j.jhazmat.2014.10.021\n"
     ]
    },
    {
     "name": "stderr",
     "output_type": "stream",
     "text": [
      "99it [17:11,  7.95s/it]"
     ]
    },
    {
     "name": "stdout",
     "output_type": "stream",
     "text": [
      "文件 SL01-99-J.pdf 下载成功！\n",
      "下载DOI为10.1016/j.jhazmat.2014.10.021的论文成功。\n",
      "文献DOI为 10.1016/j.jhazmat.2014.10.021 的下载状态已更新为 1\n",
      "已经下载58,正在下载10.1016/j.marpolbul.2021.112398\n"
     ]
    },
    {
     "name": "stderr",
     "output_type": "stream",
     "text": [
      "100it [17:18,  7.75s/it]"
     ]
    },
    {
     "name": "stdout",
     "output_type": "stream",
     "text": [
      "文件 SL01-100-J.pdf 下载成功！\n",
      "下载DOI为10.1016/j.marpolbul.2021.112398的论文成功。\n",
      "文献DOI为 10.1016/j.marpolbul.2021.112398 的下载状态已更新为 1\n",
      "已经下载59,正在下载10.1016/j.marpolbul.2022.113662\n",
      "下载失败。\n",
      "下载失败。\n",
      "请求失败。\n"
     ]
    },
    {
     "name": "stderr",
     "output_type": "stream",
     "text": [
      "101it [17:22,  6.73s/it]"
     ]
    },
    {
     "name": "stdout",
     "output_type": "stream",
     "text": [
      "文献DOI为 10.1016/j.marpolbul.2022.113662 的下载状态已更新为 2\n",
      "已经下载59,正在下载10.1002/ieam.1692\n"
     ]
    },
    {
     "name": "stderr",
     "output_type": "stream",
     "text": [
      "102it [17:32,  7.41s/it]"
     ]
    },
    {
     "name": "stdout",
     "output_type": "stream",
     "text": [
      "文件 SL01-102-J.pdf 下载成功！\n",
      "下载DOI为10.1002/ieam.1692的论文成功。\n",
      "文献DOI为 10.1002/ieam.1692 的下载状态已更新为 1\n",
      "已经下载60,正在下载10.1016/j.envpol.2023.121123\n"
     ]
    },
    {
     "name": "stderr",
     "output_type": "stream",
     "text": [
      "103it [17:36,  6.66s/it]"
     ]
    },
    {
     "name": "stdout",
     "output_type": "stream",
     "text": [
      "未找到下载链接。\n",
      "文献DOI为 10.1016/j.envpol.2023.121123 的下载状态已更新为 2\n",
      "已经下载60,正在下载10.1016/j.scitotenv.2023.163574\n"
     ]
    },
    {
     "name": "stderr",
     "output_type": "stream",
     "text": [
      "104it [17:42,  6.20s/it]"
     ]
    },
    {
     "name": "stdout",
     "output_type": "stream",
     "text": [
      "未找到下载链接。\n",
      "文献DOI为 10.1016/j.scitotenv.2023.163574 的下载状态已更新为 2\n",
      "已经下载60,正在下载10.1038/s41598-017-06148-5\n"
     ]
    },
    {
     "name": "stderr",
     "output_type": "stream",
     "text": [
      "105it [18:00,  9.88s/it]"
     ]
    },
    {
     "name": "stdout",
     "output_type": "stream",
     "text": [
      "下载DOI为10.1038/s41598-017-06148-5的论文成功。\n",
      "文献DOI为 10.1038/s41598-017-06148-5 的下载状态已更新为 1\n",
      "已经下载61,正在下载10.1016/j.jenvman.2013.12.017\n"
     ]
    },
    {
     "name": "stderr",
     "output_type": "stream",
     "text": [
      "106it [18:07,  8.89s/it]"
     ]
    },
    {
     "name": "stdout",
     "output_type": "stream",
     "text": [
      "文件 SL01-106-J.pdf 下载成功！\n",
      "下载DOI为10.1016/j.jenvman.2013.12.017的论文成功。\n",
      "文献DOI为 10.1016/j.jenvman.2013.12.017 的下载状态已更新为 1\n",
      "已经下载62,正在下载10.1002/etc.4638\n"
     ]
    },
    {
     "name": "stderr",
     "output_type": "stream",
     "text": [
      "107it [18:13,  8.04s/it]"
     ]
    },
    {
     "name": "stdout",
     "output_type": "stream",
     "text": [
      "文件 SL01-107-J.pdf 下载成功！\n",
      "下载DOI为10.1002/etc.4638的论文成功。\n",
      "文献DOI为 10.1002/etc.4638 的下载状态已更新为 1\n",
      "已经下载63,正在下载10.1016/j.envpol.2017.03.035\n"
     ]
    },
    {
     "name": "stderr",
     "output_type": "stream",
     "text": [
      "108it [18:19,  7.57s/it]"
     ]
    },
    {
     "name": "stdout",
     "output_type": "stream",
     "text": [
      "文件 SL01-108-J.pdf 下载成功！\n",
      "下载DOI为10.1016/j.envpol.2017.03.035的论文成功。\n",
      "文献DOI为 10.1016/j.envpol.2017.03.035 的下载状态已更新为 1\n",
      "已经下载64,正在下载10.1002/etc.3242\n"
     ]
    },
    {
     "name": "stderr",
     "output_type": "stream",
     "text": [
      "109it [18:27,  7.62s/it]"
     ]
    },
    {
     "name": "stdout",
     "output_type": "stream",
     "text": [
      "文件 SL01-109-J.pdf 下载成功！\n",
      "下载DOI为10.1002/etc.3242的论文成功。\n",
      "文献DOI为 10.1002/etc.3242 的下载状态已更新为 1\n",
      "已经下载65,正在下载10.1021/acs.est.1c02319\n"
     ]
    },
    {
     "name": "stderr",
     "output_type": "stream",
     "text": [
      "110it [19:05, 16.71s/it]"
     ]
    },
    {
     "name": "stdout",
     "output_type": "stream",
     "text": [
      "下载DOI为10.1021/acs.est.1c02319的论文成功。\n",
      "文献DOI为 10.1021/acs.est.1c02319 的下载状态已更新为 1\n",
      "已经下载66,正在下载10.1002/etc.2499\n"
     ]
    },
    {
     "name": "stderr",
     "output_type": "stream",
     "text": [
      "111it [19:11, 13.61s/it]"
     ]
    },
    {
     "name": "stdout",
     "output_type": "stream",
     "text": [
      "文件 SL01-111-J.pdf 下载成功！\n",
      "下载DOI为10.1002/etc.2499的论文成功。\n",
      "文献DOI为 10.1002/etc.2499 的下载状态已更新为 1\n",
      "已经下载67,正在下载10.1016/j.scitotenv.2021.148843\n"
     ]
    },
    {
     "name": "stderr",
     "output_type": "stream",
     "text": [
      "112it [19:18, 11.73s/it]"
     ]
    },
    {
     "name": "stdout",
     "output_type": "stream",
     "text": [
      "文件 SL01-112-J.pdf 下载成功！\n",
      "下载DOI为10.1016/j.scitotenv.2021.148843的论文成功。\n",
      "文献DOI为 10.1016/j.scitotenv.2021.148843 的下载状态已更新为 1\n",
      "已经下载68,正在下载10.1016/j.chemosphere.2022.137263\n"
     ]
    },
    {
     "name": "stderr",
     "output_type": "stream",
     "text": [
      "113it [19:28, 11.14s/it]"
     ]
    },
    {
     "name": "stdout",
     "output_type": "stream",
     "text": [
      "下载DOI为10.1016/j.chemosphere.2022.137263的论文成功。\n",
      "文献DOI为 10.1016/j.chemosphere.2022.137263 的下载状态已更新为 1\n",
      "已经下载69,正在下载10.1016/j.envpol.2019.06.035\n"
     ]
    },
    {
     "name": "stderr",
     "output_type": "stream",
     "text": [
      "114it [19:36, 10.12s/it]"
     ]
    },
    {
     "name": "stdout",
     "output_type": "stream",
     "text": [
      "文件 SL01-114-J.pdf 下载成功！\n",
      "下载DOI为10.1016/j.envpol.2019.06.035的论文成功。\n",
      "文献DOI为 10.1016/j.envpol.2019.06.035 的下载状态已更新为 1\n",
      "已经下载70,正在下载10.1016/j.envpol.2021.118748\n"
     ]
    },
    {
     "name": "stderr",
     "output_type": "stream",
     "text": [
      "115it [19:41,  8.51s/it]"
     ]
    },
    {
     "name": "stdout",
     "output_type": "stream",
     "text": [
      "未找到下载链接。\n",
      "文献DOI为 10.1016/j.envpol.2021.118748 的下载状态已更新为 2\n",
      "已经下载70,正在下载10.1016/j.jes.2018.11.016\n"
     ]
    },
    {
     "name": "stderr",
     "output_type": "stream",
     "text": [
      "116it [19:49,  8.40s/it]"
     ]
    },
    {
     "name": "stdout",
     "output_type": "stream",
     "text": [
      "文件 SL01-116-J.pdf 下载成功！\n",
      "下载DOI为10.1016/j.jes.2018.11.016的论文成功。\n",
      "文献DOI为 10.1016/j.jes.2018.11.016 的下载状态已更新为 1\n",
      "已经下载71,正在下载10.1016/j.jhazmat.2020.124681\n"
     ]
    },
    {
     "name": "stderr",
     "output_type": "stream",
     "text": [
      "117it [19:57,  8.22s/it]"
     ]
    },
    {
     "name": "stdout",
     "output_type": "stream",
     "text": [
      "文件 SL01-117-J.pdf 下载成功！\n",
      "下载DOI为10.1016/j.jhazmat.2020.124681的论文成功。\n",
      "文献DOI为 10.1016/j.jhazmat.2020.124681 的下载状态已更新为 1\n",
      "已经下载72,正在下载10.1002/etc.5439\n",
      "下载失败。\n"
     ]
    },
    {
     "name": "stderr",
     "output_type": "stream",
     "text": [
      "118it [20:05,  8.25s/it]"
     ]
    },
    {
     "name": "stdout",
     "output_type": "stream",
     "text": [
      "下载失败。\n",
      "请求失败。\n",
      "文献DOI为 10.1002/etc.5439 的下载状态已更新为 2\n",
      "已经下载72,正在下载10.1016/j.envpol.2017.01.068\n"
     ]
    },
    {
     "name": "stderr",
     "output_type": "stream",
     "text": [
      "119it [20:20, 10.19s/it]"
     ]
    },
    {
     "name": "stdout",
     "output_type": "stream",
     "text": [
      "文件 SL01-119-J.pdf 下载成功！\n",
      "下载DOI为10.1016/j.envpol.2017.01.068的论文成功。\n",
      "文献DOI为 10.1016/j.envpol.2017.01.068 的下载状态已更新为 1\n",
      "已经下载73,正在下载10.3390/ijerph19159382\n"
     ]
    },
    {
     "name": "stderr",
     "output_type": "stream",
     "text": [
      "120it [20:23,  8.16s/it]"
     ]
    },
    {
     "name": "stdout",
     "output_type": "stream",
     "text": [
      "下载DOI为10.3390/ijerph19159382的论文成功。\n",
      "文献DOI为 10.3390/ijerph19159382 的下载状态已更新为 1\n",
      "已经下载74,正在下载10.1016/j.ecoenv.2015.09.033\n"
     ]
    },
    {
     "name": "stderr",
     "output_type": "stream",
     "text": [
      "121it [20:30,  7.66s/it]"
     ]
    },
    {
     "name": "stdout",
     "output_type": "stream",
     "text": [
      "文件 SL01-121-J.pdf 下载成功！\n",
      "下载DOI为10.1016/j.ecoenv.2015.09.033的论文成功。\n",
      "文献DOI为 10.1016/j.ecoenv.2015.09.033 的下载状态已更新为 1\n",
      "已经下载75,正在下载10.1016/j.ecoenv.2022.113585\n",
      "下载失败。\n",
      "下载失败。\n",
      "请求失败。\n"
     ]
    },
    {
     "name": "stderr",
     "output_type": "stream",
     "text": [
      "122it [20:35,  7.03s/it]"
     ]
    },
    {
     "name": "stdout",
     "output_type": "stream",
     "text": [
      "文献DOI为 10.1016/j.ecoenv.2022.113585 的下载状态已更新为 2\n",
      "已经下载75,正在下载10.1016/j.envpol.2018.05.016\n"
     ]
    },
    {
     "name": "stderr",
     "output_type": "stream",
     "text": [
      "123it [20:45,  7.86s/it]"
     ]
    },
    {
     "name": "stdout",
     "output_type": "stream",
     "text": [
      "文件 SL01-123-J.pdf 下载成功！\n",
      "下载DOI为10.1016/j.envpol.2018.05.016的论文成功。\n",
      "文献DOI为 10.1016/j.envpol.2018.05.016 的下载状态已更新为 1\n",
      "已经下载76,正在下载10.1016/j.scitotenv.2019.03.346\n"
     ]
    },
    {
     "name": "stderr",
     "output_type": "stream",
     "text": [
      "124it [20:51,  7.44s/it]"
     ]
    },
    {
     "name": "stdout",
     "output_type": "stream",
     "text": [
      "文件 SL01-124-J.pdf 下载成功！\n",
      "下载DOI为10.1016/j.scitotenv.2019.03.346的论文成功。\n",
      "文献DOI为 10.1016/j.scitotenv.2019.03.346 的下载状态已更新为 1\n",
      "已经下载77,正在下载10.1007/s10653-021-00957-4\n"
     ]
    },
    {
     "name": "stderr",
     "output_type": "stream",
     "text": [
      "125it [21:01,  8.02s/it]"
     ]
    },
    {
     "name": "stdout",
     "output_type": "stream",
     "text": [
      "下载DOI为10.1007/s10653-021-00957-4的论文成功。\n",
      "文献DOI为 10.1007/s10653-021-00957-4 的下载状态已更新为 1\n",
      "已经下载78,正在下载10.1016/j.scitotenv.2024.171388\n"
     ]
    },
    {
     "name": "stderr",
     "output_type": "stream",
     "text": [
      "126it [21:04,  6.61s/it]"
     ]
    },
    {
     "name": "stdout",
     "output_type": "stream",
     "text": [
      "未找到下载链接。\n",
      "文献DOI为 10.1016/j.scitotenv.2024.171388 的下载状态已更新为 2\n",
      "已经下载78,正在下载10.1002/ieam.1642\n"
     ]
    },
    {
     "name": "stderr",
     "output_type": "stream",
     "text": [
      "127it [21:10,  6.49s/it]"
     ]
    },
    {
     "name": "stdout",
     "output_type": "stream",
     "text": [
      "文件 SL01-127-J.pdf 下载成功！\n",
      "下载DOI为10.1002/ieam.1642的论文成功。\n",
      "文献DOI为 10.1002/ieam.1642 的下载状态已更新为 1\n",
      "已经下载79,正在下载10.1080/19440049.2019.1649473\n"
     ]
    },
    {
     "name": "stderr",
     "output_type": "stream",
     "text": [
      "128it [21:16,  6.29s/it]"
     ]
    },
    {
     "name": "stdout",
     "output_type": "stream",
     "text": [
      "文件 SL01-128-J.pdf 下载成功！\n",
      "下载DOI为10.1080/19440049.2019.1649473的论文成功。\n",
      "文献DOI为 10.1080/19440049.2019.1649473 的下载状态已更新为 1\n",
      "已经下载80,正在下载10.1016/j.scitotenv.2024.172290\n"
     ]
    },
    {
     "name": "stderr",
     "output_type": "stream",
     "text": [
      "129it [21:20,  5.41s/it]"
     ]
    },
    {
     "name": "stdout",
     "output_type": "stream",
     "text": [
      "未找到下载链接。\n",
      "文献DOI为 10.1016/j.scitotenv.2024.172290 的下载状态已更新为 2\n",
      "已经下载80,正在下载10.1897/04-176r.1\n"
     ]
    },
    {
     "name": "stderr",
     "output_type": "stream",
     "text": [
      "130it [21:25,  5.52s/it]"
     ]
    },
    {
     "name": "stdout",
     "output_type": "stream",
     "text": [
      "文件 SL01-130-J.pdf 下载成功！\n",
      "下载DOI为10.1897/04-176r.1的论文成功。\n",
      "文献DOI为 10.1897/04-176r.1 的下载状态已更新为 1\n",
      "已经下载81,正在下载10.1021/acs.est.2c05625\n",
      "下载失败。\n",
      "下载失败。\n",
      "请求失败。\n"
     ]
    },
    {
     "name": "stderr",
     "output_type": "stream",
     "text": [
      "131it [21:30,  5.41s/it]"
     ]
    },
    {
     "name": "stdout",
     "output_type": "stream",
     "text": [
      "文献DOI为 10.1021/acs.est.2c05625 的下载状态已更新为 2\n",
      "已经下载81,正在下载10.1016/j.marpolbul.2023.115263\n"
     ]
    },
    {
     "name": "stderr",
     "output_type": "stream",
     "text": [
      "132it [21:35,  5.12s/it]"
     ]
    },
    {
     "name": "stdout",
     "output_type": "stream",
     "text": [
      "未找到下载链接。\n",
      "文献DOI为 10.1016/j.marpolbul.2023.115263 的下载状态已更新为 2\n",
      "已经下载81,正在下载10.1002/etc.2205\n"
     ]
    },
    {
     "name": "stderr",
     "output_type": "stream",
     "text": [
      "133it [21:41,  5.26s/it]"
     ]
    },
    {
     "name": "stdout",
     "output_type": "stream",
     "text": [
      "文件 SL01-133-J.pdf 下载成功！\n",
      "下载DOI为10.1002/etc.2205的论文成功。\n",
      "文献DOI为 10.1002/etc.2205 的下载状态已更新为 1\n",
      "已经下载82,正在下载10.1016/j.aquatox.2023.106552\n"
     ]
    },
    {
     "name": "stderr",
     "output_type": "stream",
     "text": [
      "134it [21:46,  5.34s/it]"
     ]
    },
    {
     "name": "stdout",
     "output_type": "stream",
     "text": [
      "未找到下载链接。\n",
      "文献DOI为 10.1016/j.aquatox.2023.106552 的下载状态已更新为 2\n",
      "已经下载82,正在下载10.1016/j.jhazmat.2021.127801\n"
     ]
    },
    {
     "name": "stderr",
     "output_type": "stream",
     "text": [
      "135it [21:49,  4.73s/it]"
     ]
    },
    {
     "name": "stdout",
     "output_type": "stream",
     "text": [
      "未找到下载链接。\n",
      "文献DOI为 10.1016/j.jhazmat.2021.127801 的下载状态已更新为 2\n",
      "已经下载82,正在下载10.1016/j.scitotenv.2021.150228\n"
     ]
    },
    {
     "name": "stderr",
     "output_type": "stream",
     "text": [
      "136it [21:57,  5.70s/it]"
     ]
    },
    {
     "name": "stdout",
     "output_type": "stream",
     "text": [
      "文件 SL01-136-J.pdf 下载成功！\n",
      "下载DOI为10.1016/j.scitotenv.2021.150228的论文成功。\n",
      "文献DOI为 10.1016/j.scitotenv.2021.150228 的下载状态已更新为 1\n",
      "已经下载83,正在下载10.1016/j.watres.2017.12.053\n"
     ]
    },
    {
     "name": "stderr",
     "output_type": "stream",
     "text": [
      "137it [22:09,  7.38s/it]"
     ]
    },
    {
     "name": "stdout",
     "output_type": "stream",
     "text": [
      "文件 SL01-137-J.pdf 下载成功！\n",
      "下载DOI为10.1016/j.watres.2017.12.053的论文成功。\n",
      "文献DOI为 10.1016/j.watres.2017.12.053 的下载状态已更新为 1\n",
      "已经下载84,正在下载10.1371/journal.pone.0296788\n"
     ]
    },
    {
     "name": "stderr",
     "output_type": "stream",
     "text": [
      "138it [22:16,  7.30s/it]"
     ]
    },
    {
     "name": "stdout",
     "output_type": "stream",
     "text": [
      "下载DOI为10.1371/journal.pone.0296788的论文成功。\n",
      "文献DOI为 10.1371/journal.pone.0296788 的下载状态已更新为 1\n",
      "已经下载85,正在下载10.1007/s00244-019-00681-2\n"
     ]
    },
    {
     "name": "stderr",
     "output_type": "stream",
     "text": [
      "139it [22:40, 12.32s/it]"
     ]
    },
    {
     "name": "stdout",
     "output_type": "stream",
     "text": [
      "下载DOI为10.1007/s00244-019-00681-2的论文成功。\n",
      "文献DOI为 10.1007/s00244-019-00681-2 的下载状态已更新为 1\n",
      "已经下载86,正在下载10.1016/j.scitotenv.2023.165570\n"
     ]
    },
    {
     "name": "stderr",
     "output_type": "stream",
     "text": [
      "140it [22:44,  9.96s/it]"
     ]
    },
    {
     "name": "stdout",
     "output_type": "stream",
     "text": [
      "未找到下载链接。\n",
      "文献DOI为 10.1016/j.scitotenv.2023.165570 的下载状态已更新为 2\n",
      "已经下载86,正在下载10.1016/j.envpol.2018.05.001\n"
     ]
    },
    {
     "name": "stderr",
     "output_type": "stream",
     "text": [
      "141it [22:51,  8.88s/it]"
     ]
    },
    {
     "name": "stdout",
     "output_type": "stream",
     "text": [
      "文件 SL01-141-J.pdf 下载成功！\n",
      "下载DOI为10.1016/j.envpol.2018.05.001的论文成功。\n",
      "文献DOI为 10.1016/j.envpol.2018.05.001 的下载状态已更新为 1\n",
      "已经下载87,正在下载10.1002/ieam.260\n"
     ]
    },
    {
     "name": "stderr",
     "output_type": "stream",
     "text": [
      "142it [22:57,  8.25s/it]"
     ]
    },
    {
     "name": "stdout",
     "output_type": "stream",
     "text": [
      "文件 SL01-142-J.pdf 下载成功！\n",
      "下载DOI为10.1002/ieam.260的论文成功。\n",
      "文献DOI为 10.1002/ieam.260 的下载状态已更新为 1\n",
      "已经下载88,正在下载10.1016/j.marpolbul.2015.07.041\n"
     ]
    },
    {
     "name": "stderr",
     "output_type": "stream",
     "text": [
      "143it [23:08,  9.03s/it]"
     ]
    },
    {
     "name": "stdout",
     "output_type": "stream",
     "text": [
      "文件 SL01-143-J.pdf 下载成功！\n",
      "下载DOI为10.1016/j.marpolbul.2015.07.041的论文成功。\n",
      "文献DOI为 10.1016/j.marpolbul.2015.07.041 的下载状态已更新为 1\n",
      "已经下载89,正在下载10.1021/acs.est.7b04339\n"
     ]
    },
    {
     "name": "stderr",
     "output_type": "stream",
     "text": [
      "144it [23:14,  8.15s/it]"
     ]
    },
    {
     "name": "stdout",
     "output_type": "stream",
     "text": [
      "文件 SL01-144-J.pdf 下载成功！\n",
      "下载DOI为10.1021/acs.est.7b04339的论文成功。\n",
      "文献DOI为 10.1021/acs.est.7b04339 的下载状态已更新为 1\n",
      "已经下载90,正在下载10.1016/j.scitotenv.2024.170746\n"
     ]
    },
    {
     "name": "stderr",
     "output_type": "stream",
     "text": [
      "145it [23:19,  7.09s/it]"
     ]
    },
    {
     "name": "stdout",
     "output_type": "stream",
     "text": [
      "未找到下载链接。\n",
      "文献DOI为 10.1016/j.scitotenv.2024.170746 的下载状态已更新为 2\n",
      "已经下载90,正在下载10.1007/s00267-018-1075-9\n"
     ]
    },
    {
     "name": "stderr",
     "output_type": "stream",
     "text": [
      "146it [23:25,  6.92s/it]"
     ]
    },
    {
     "name": "stdout",
     "output_type": "stream",
     "text": [
      "文件 SL01-146-J.pdf 下载成功！\n",
      "下载DOI为10.1007/s00267-018-1075-9的论文成功。\n",
      "文献DOI为 10.1007/s00267-018-1075-9 的下载状态已更新为 1\n",
      "已经下载91,正在下载10.1016/j.envpol.2022.118789\n",
      "下载失败。\n"
     ]
    },
    {
     "name": "stderr",
     "output_type": "stream",
     "text": [
      "147it [23:32,  6.82s/it]"
     ]
    },
    {
     "name": "stdout",
     "output_type": "stream",
     "text": [
      "下载失败。\n",
      "请求失败。\n",
      "文献DOI为 10.1016/j.envpol.2022.118789 的下载状态已更新为 2\n",
      "已经下载91,正在下载10.1590/1414-431X2022e11976\n"
     ]
    },
    {
     "name": "stderr",
     "output_type": "stream",
     "text": [
      "148it [23:53, 11.16s/it]"
     ]
    },
    {
     "name": "stdout",
     "output_type": "stream",
     "text": [
      "下载DOI为10.1590/1414-431X2022e11976的论文成功。\n",
      "文献DOI为 10.1590/1414-431X2022e11976 的下载状态已更新为 1\n",
      "已经下载92,正在下载10.1016/j.scitotenv.2014.07.087\n"
     ]
    },
    {
     "name": "stderr",
     "output_type": "stream",
     "text": [
      "149it [24:03, 10.58s/it]"
     ]
    },
    {
     "name": "stdout",
     "output_type": "stream",
     "text": [
      "文件 SL01-149-J.pdf 下载成功！\n",
      "下载DOI为10.1016/j.scitotenv.2014.07.087的论文成功。\n",
      "文献DOI为 10.1016/j.scitotenv.2014.07.087 的下载状态已更新为 1\n",
      "已经下载93,正在下载10.1002/etc.706\n"
     ]
    },
    {
     "name": "stderr",
     "output_type": "stream",
     "text": [
      "150it [24:11,  9.87s/it]"
     ]
    },
    {
     "name": "stdout",
     "output_type": "stream",
     "text": [
      "文件 SL01-150-J.pdf 下载成功！\n",
      "下载DOI为10.1002/etc.706的论文成功。\n",
      "文献DOI为 10.1002/etc.706 的下载状态已更新为 1\n",
      "已经下载94,正在下载10.1016/j.scitotenv.2023.166975\n"
     ]
    },
    {
     "name": "stderr",
     "output_type": "stream",
     "text": [
      "151it [24:15,  8.22s/it]"
     ]
    },
    {
     "name": "stdout",
     "output_type": "stream",
     "text": [
      "未找到下载链接。\n",
      "文献DOI为 10.1016/j.scitotenv.2023.166975 的下载状态已更新为 2\n",
      "已经下载94,正在下载10.1021/jf104517j\n"
     ]
    },
    {
     "name": "stderr",
     "output_type": "stream",
     "text": [
      "152it [24:37, 12.22s/it]"
     ]
    },
    {
     "name": "stdout",
     "output_type": "stream",
     "text": [
      "下载DOI为10.1021/jf104517j的论文成功。\n",
      "文献DOI为 10.1021/jf104517j 的下载状态已更新为 1\n",
      "已经下载95,正在下载10.1016/j.scitotenv.2020.141695\n"
     ]
    },
    {
     "name": "stderr",
     "output_type": "stream",
     "text": [
      "153it [24:48, 11.88s/it]"
     ]
    },
    {
     "name": "stdout",
     "output_type": "stream",
     "text": [
      "文件 SL01-153-J.pdf 下载成功！\n",
      "下载DOI为10.1016/j.scitotenv.2020.141695的论文成功。\n",
      "文献DOI为 10.1016/j.scitotenv.2020.141695 的下载状态已更新为 1\n",
      "已经下载96,正在下载10.1016/j.marpolbul.2023.114647\n"
     ]
    },
    {
     "name": "stderr",
     "output_type": "stream",
     "text": [
      "154it [24:54, 10.32s/it]"
     ]
    },
    {
     "name": "stdout",
     "output_type": "stream",
     "text": [
      "未找到下载链接。\n",
      "文献DOI为 10.1016/j.marpolbul.2023.114647 的下载状态已更新为 2\n",
      "已经下载96,正在下载10.1021/es506251q\n"
     ]
    },
    {
     "name": "stderr",
     "output_type": "stream",
     "text": [
      "155it [25:07, 11.11s/it]"
     ]
    },
    {
     "name": "stdout",
     "output_type": "stream",
     "text": [
      "文件 SL01-155-J.pdf 下载成功！\n",
      "下载DOI为10.1021/es506251q的论文成功。\n",
      "文献DOI为 10.1021/es506251q 的下载状态已更新为 1\n",
      "已经下载97,正在下载10.1016/j.chemosphere.2020.128890\n"
     ]
    },
    {
     "name": "stderr",
     "output_type": "stream",
     "text": [
      "156it [25:16, 10.30s/it]"
     ]
    },
    {
     "name": "stdout",
     "output_type": "stream",
     "text": [
      "文件 SL01-156-J.pdf 下载成功！\n",
      "下载DOI为10.1016/j.chemosphere.2020.128890的论文成功。\n",
      "文献DOI为 10.1016/j.chemosphere.2020.128890 的下载状态已更新为 1\n",
      "已经下载98,正在下载10.1016/j.marpolbul.2017.10.014\n"
     ]
    },
    {
     "name": "stderr",
     "output_type": "stream",
     "text": [
      "157it [25:25, 10.11s/it]"
     ]
    },
    {
     "name": "stdout",
     "output_type": "stream",
     "text": [
      "文件 SL01-157-J.pdf 下载成功！\n",
      "下载DOI为10.1016/j.marpolbul.2017.10.014的论文成功。\n",
      "文献DOI为 10.1016/j.marpolbul.2017.10.014 的下载状态已更新为 1\n",
      "已经下载99,正在下载10.1021/acs.est.5b00071\n"
     ]
    },
    {
     "name": "stderr",
     "output_type": "stream",
     "text": [
      "158it [25:34,  9.78s/it]"
     ]
    },
    {
     "name": "stdout",
     "output_type": "stream",
     "text": [
      "文件 SL01-158-J.pdf 下载成功！\n",
      "下载DOI为10.1021/acs.est.5b00071的论文成功。\n",
      "文献DOI为 10.1021/acs.est.5b00071 的下载状态已更新为 1\n",
      "已经下载100,正在下载10.1016/j.jhazmat.2019.02.106\n"
     ]
    },
    {
     "name": "stderr",
     "output_type": "stream",
     "text": [
      "159it [25:43,  9.30s/it]"
     ]
    },
    {
     "name": "stdout",
     "output_type": "stream",
     "text": [
      "文件 SL01-159-J.pdf 下载成功！\n",
      "下载DOI为10.1016/j.jhazmat.2019.02.106的论文成功。\n",
      "文献DOI为 10.1016/j.jhazmat.2019.02.106 的下载状态已更新为 1\n",
      "已经下载101,正在下载10.1016/j.chemosphere.2014.04.019\n"
     ]
    },
    {
     "name": "stderr",
     "output_type": "stream",
     "text": [
      "160it [25:50,  8.61s/it]"
     ]
    },
    {
     "name": "stdout",
     "output_type": "stream",
     "text": [
      "文件 SL01-160-J.pdf 下载成功！\n",
      "下载DOI为10.1016/j.chemosphere.2014.04.019的论文成功。\n",
      "文献DOI为 10.1016/j.chemosphere.2014.04.019 的下载状态已更新为 1\n",
      "已经下载102,正在下载10.1016/j.chemosphere.2020.127961\n"
     ]
    },
    {
     "name": "stderr",
     "output_type": "stream",
     "text": [
      "161it [25:58,  8.44s/it]"
     ]
    },
    {
     "name": "stdout",
     "output_type": "stream",
     "text": [
      "文件 SL01-161-J.pdf 下载成功！\n",
      "下载DOI为10.1016/j.chemosphere.2020.127961的论文成功。\n",
      "文献DOI为 10.1016/j.chemosphere.2020.127961 的下载状态已更新为 1\n",
      "已经下载103,正在下载10.1021/acs.est.9b07693\n"
     ]
    },
    {
     "name": "stderr",
     "output_type": "stream",
     "text": [
      "162it [26:12, 10.15s/it]"
     ]
    },
    {
     "name": "stdout",
     "output_type": "stream",
     "text": [
      "文件 SL01-162-J.pdf 下载成功！\n",
      "下载DOI为10.1021/acs.est.9b07693的论文成功。\n",
      "文献DOI为 10.1021/acs.est.9b07693 的下载状态已更新为 1\n",
      "已经下载104,正在下载10.3390/md8030542\n"
     ]
    },
    {
     "name": "stderr",
     "output_type": "stream",
     "text": [
      "163it [26:18,  8.95s/it]"
     ]
    },
    {
     "name": "stdout",
     "output_type": "stream",
     "text": [
      "下载DOI为10.3390/md8030542的论文成功。\n",
      "文献DOI为 10.3390/md8030542 的下载状态已更新为 1\n",
      "已经下载105,正在下载10.1016/j.chemosphere.2022.136894\n"
     ]
    },
    {
     "name": "stderr",
     "output_type": "stream",
     "text": [
      "164it [26:22,  7.56s/it]"
     ]
    },
    {
     "name": "stdout",
     "output_type": "stream",
     "text": [
      "未找到下载链接。\n",
      "文献DOI为 10.1016/j.chemosphere.2022.136894 的下载状态已更新为 2\n",
      "已经下载105,正在下载10.1007/s10646-019-02141-y\n"
     ]
    },
    {
     "name": "stderr",
     "output_type": "stream",
     "text": [
      "165it [26:29,  7.30s/it]"
     ]
    },
    {
     "name": "stdout",
     "output_type": "stream",
     "text": [
      "文件 SL01-165-J.pdf 下载成功！\n",
      "下载DOI为10.1007/s10646-019-02141-y的论文成功。\n",
      "文献DOI为 10.1007/s10646-019-02141-y 的下载状态已更新为 1\n",
      "已经下载106,正在下载10.1002/etc.5051\n"
     ]
    },
    {
     "name": "stderr",
     "output_type": "stream",
     "text": [
      "166it [26:56, 13.17s/it]"
     ]
    },
    {
     "name": "stdout",
     "output_type": "stream",
     "text": [
      "下载DOI为10.1002/etc.5051的论文成功。\n",
      "文献DOI为 10.1002/etc.5051 的下载状态已更新为 1\n",
      "已经下载107,正在下载10.1016/j.watres.2023.120176\n"
     ]
    },
    {
     "name": "stderr",
     "output_type": "stream",
     "text": [
      "167it [27:05, 11.84s/it]"
     ]
    },
    {
     "name": "stdout",
     "output_type": "stream",
     "text": [
      "未找到下载链接。\n",
      "文献DOI为 10.1016/j.watres.2023.120176 的下载状态已更新为 2\n",
      "已经下载107,正在下载10.3390/toxics11030209\n"
     ]
    },
    {
     "name": "stderr",
     "output_type": "stream",
     "text": [
      "168it [27:11, 10.12s/it]"
     ]
    },
    {
     "name": "stdout",
     "output_type": "stream",
     "text": [
      "下载DOI为10.3390/toxics11030209的论文成功。\n",
      "文献DOI为 10.3390/toxics11030209 的下载状态已更新为 1\n",
      "已经下载108,正在下载10.1897/IEAM_2009-004.1\n"
     ]
    },
    {
     "name": "stderr",
     "output_type": "stream",
     "text": [
      "169it [27:18,  9.33s/it]"
     ]
    },
    {
     "name": "stdout",
     "output_type": "stream",
     "text": [
      "文件 SL01-169-J.pdf 下载成功！\n",
      "下载DOI为10.1897/IEAM_2009-004.1的论文成功。\n",
      "文献DOI为 10.1897/IEAM_2009-004.1 的下载状态已更新为 1\n",
      "已经下载109,正在下载10.1016/j.jtemb.2016.01.004\n"
     ]
    },
    {
     "name": "stderr",
     "output_type": "stream",
     "text": [
      "170it [27:26,  8.79s/it]"
     ]
    },
    {
     "name": "stdout",
     "output_type": "stream",
     "text": [
      "文件 SL01-170-J.pdf 下载成功！\n",
      "下载DOI为10.1016/j.jtemb.2016.01.004的论文成功。\n",
      "文献DOI为 10.1016/j.jtemb.2016.01.004 的下载状态已更新为 1\n",
      "已经下载110,正在下载10.1007/s11356-018-2044-9\n"
     ]
    },
    {
     "name": "stderr",
     "output_type": "stream",
     "text": [
      "171it [27:36,  9.27s/it]"
     ]
    },
    {
     "name": "stdout",
     "output_type": "stream",
     "text": [
      "文件 SL01-171-J.pdf 下载成功！\n",
      "下载DOI为10.1007/s11356-018-2044-9的论文成功。\n",
      "文献DOI为 10.1007/s11356-018-2044-9 的下载状态已更新为 1\n",
      "已经下载111,正在下载10.1016/j.marpolbul.2021.112407\n"
     ]
    },
    {
     "name": "stderr",
     "output_type": "stream",
     "text": [
      "172it [27:44,  8.97s/it]"
     ]
    },
    {
     "name": "stdout",
     "output_type": "stream",
     "text": [
      "文件 SL01-172-J.pdf 下载成功！\n",
      "下载DOI为10.1016/j.marpolbul.2021.112407的论文成功。\n",
      "文献DOI为 10.1016/j.marpolbul.2021.112407 的下载状态已更新为 1\n",
      "已经下载112,正在下载10.1021/acs.est.2c05619\n"
     ]
    },
    {
     "name": "stderr",
     "output_type": "stream",
     "text": [
      "173it [27:49,  7.58s/it]"
     ]
    },
    {
     "name": "stdout",
     "output_type": "stream",
     "text": [
      "未找到下载链接。\n",
      "文献DOI为 10.1021/acs.est.2c05619 的下载状态已更新为 2\n",
      "已经下载112,正在下载10.1016/j.envpol.2019.07.025\n"
     ]
    },
    {
     "name": "stderr",
     "output_type": "stream",
     "text": [
      "174it [28:29, 17.45s/it]"
     ]
    },
    {
     "name": "stdout",
     "output_type": "stream",
     "text": [
      "下载DOI为10.1016/j.envpol.2019.07.025的论文成功。\n",
      "文献DOI为 10.1016/j.envpol.2019.07.025 的下载状态已更新为 1\n",
      "已经下载113,正在下载10.1002/etc.3473\n"
     ]
    },
    {
     "name": "stderr",
     "output_type": "stream",
     "text": [
      "175it [28:37, 14.61s/it]"
     ]
    },
    {
     "name": "stdout",
     "output_type": "stream",
     "text": [
      "文件 SL01-175-J.pdf 下载成功！\n",
      "下载DOI为10.1002/etc.3473的论文成功。\n",
      "文献DOI为 10.1002/etc.3473 的下载状态已更新为 1\n",
      "已经下载114,正在下载10.1007/s10653-021-00923-0\n"
     ]
    },
    {
     "name": "stderr",
     "output_type": "stream",
     "text": [
      "176it [29:13, 20.92s/it]"
     ]
    },
    {
     "name": "stdout",
     "output_type": "stream",
     "text": [
      "下载DOI为10.1007/s10653-021-00923-0的论文成功。\n",
      "文献DOI为 10.1007/s10653-021-00923-0 的下载状态已更新为 1\n",
      "已经下载115,正在下载10.1016/j.marpolbul.2021.112853\n"
     ]
    },
    {
     "name": "stderr",
     "output_type": "stream",
     "text": [
      "177it [29:20, 16.69s/it]"
     ]
    },
    {
     "name": "stdout",
     "output_type": "stream",
     "text": [
      "文件 SL01-177-J.pdf 下载成功！\n",
      "下载DOI为10.1016/j.marpolbul.2021.112853的论文成功。\n",
      "文献DOI为 10.1016/j.marpolbul.2021.112853 的下载状态已更新为 1\n",
      "已经下载116,正在下载10.1016/j.scitotenv.2023.166037\n"
     ]
    },
    {
     "name": "stderr",
     "output_type": "stream",
     "text": [
      "178it [29:23, 12.79s/it]"
     ]
    },
    {
     "name": "stdout",
     "output_type": "stream",
     "text": [
      "未找到下载链接。\n",
      "文献DOI为 10.1016/j.scitotenv.2023.166037 的下载状态已更新为 2\n",
      "已经下载116,正在下载10.1016/j.scitotenv.2024.172362\n"
     ]
    },
    {
     "name": "stderr",
     "output_type": "stream",
     "text": [
      "179it [29:27,  9.95s/it]"
     ]
    },
    {
     "name": "stdout",
     "output_type": "stream",
     "text": [
      "未找到下载链接。\n",
      "文献DOI为 10.1016/j.scitotenv.2024.172362 的下载状态已更新为 2\n",
      "已经下载116,正在下载10.1016/j.marpolbul.2023.115290\n"
     ]
    },
    {
     "name": "stderr",
     "output_type": "stream",
     "text": [
      "180it [29:30,  8.03s/it]"
     ]
    },
    {
     "name": "stdout",
     "output_type": "stream",
     "text": [
      "未找到下载链接。\n",
      "文献DOI为 10.1016/j.marpolbul.2023.115290 的下载状态已更新为 2\n",
      "已经下载116,正在下载10.1016/j.scitotenv.2022.152974\n",
      "下载失败。\n"
     ]
    },
    {
     "name": "stderr",
     "output_type": "stream",
     "text": [
      "181it [29:35,  7.04s/it]"
     ]
    },
    {
     "name": "stdout",
     "output_type": "stream",
     "text": [
      "下载失败。\n",
      "请求失败。\n",
      "文献DOI为 10.1016/j.scitotenv.2022.152974 的下载状态已更新为 2\n",
      "已经下载116,正在下载10.1016/j.envres.2020.110483\n"
     ]
    },
    {
     "name": "stderr",
     "output_type": "stream",
     "text": [
      "182it [29:39,  6.12s/it]"
     ]
    },
    {
     "name": "stdout",
     "output_type": "stream",
     "text": [
      "未找到下载链接。\n",
      "文献DOI为 10.1016/j.envres.2020.110483 的下载状态已更新为 2\n",
      "已经下载116,正在下载10.1007/s11356-021-15700-w\n"
     ]
    },
    {
     "name": "stderr",
     "output_type": "stream",
     "text": [
      "183it [29:43,  5.37s/it]"
     ]
    },
    {
     "name": "stdout",
     "output_type": "stream",
     "text": [
      "未找到下载链接。\n",
      "文献DOI为 10.1007/s11356-021-15700-w 的下载状态已更新为 2\n",
      "已经下载116,正在下载10.1021/acs.est.1c02922\n"
     ]
    },
    {
     "name": "stderr",
     "output_type": "stream",
     "text": [
      "184it [29:46,  4.80s/it]"
     ]
    },
    {
     "name": "stdout",
     "output_type": "stream",
     "text": [
      "未找到下载链接。\n",
      "文献DOI为 10.1021/acs.est.1c02922 的下载状态已更新为 2\n",
      "已经下载116,正在下载10.1021/acs.est.4c02811\n"
     ]
    },
    {
     "name": "stderr",
     "output_type": "stream",
     "text": [
      "185it [29:49,  4.33s/it]"
     ]
    },
    {
     "name": "stdout",
     "output_type": "stream",
     "text": [
      "未找到下载链接。\n",
      "文献DOI为 10.1021/acs.est.4c02811 的下载状态已更新为 2\n",
      "已经下载116,正在下载10.1002/etc.2169\n"
     ]
    },
    {
     "name": "stderr",
     "output_type": "stream",
     "text": [
      "186it [29:53,  4.06s/it]"
     ]
    },
    {
     "name": "stdout",
     "output_type": "stream",
     "text": [
      "未找到下载链接。\n",
      "文献DOI为 10.1002/etc.2169 的下载状态已更新为 2\n",
      "已经下载116,正在下载10.1016/j.scitotenv.2021.150643\n"
     ]
    },
    {
     "name": "stderr",
     "output_type": "stream",
     "text": [
      "187it [29:56,  3.98s/it]"
     ]
    },
    {
     "name": "stdout",
     "output_type": "stream",
     "text": [
      "未找到下载链接。\n",
      "文献DOI为 10.1016/j.scitotenv.2021.150643 的下载状态已更新为 2\n",
      "已经下载116,正在下载10.1016/j.scitotenv.2024.170059\n"
     ]
    },
    {
     "name": "stderr",
     "output_type": "stream",
     "text": [
      "188it [30:00,  3.93s/it]"
     ]
    },
    {
     "name": "stdout",
     "output_type": "stream",
     "text": [
      "未找到下载链接。\n",
      "文献DOI为 10.1016/j.scitotenv.2024.170059 的下载状态已更新为 2\n",
      "已经下载116,正在下载10.1016/j.envpol.2017.11.015\n"
     ]
    },
    {
     "name": "stderr",
     "output_type": "stream",
     "text": [
      "189it [30:06,  4.32s/it]"
     ]
    },
    {
     "name": "stdout",
     "output_type": "stream",
     "text": [
      "下载DOI为10.1016/j.envpol.2017.11.015的论文成功。\n",
      "文献DOI为 10.1016/j.envpol.2017.11.015 的下载状态已更新为 1\n",
      "已经下载117,正在下载10.1016/j.chemosphere.2019.124813\n"
     ]
    },
    {
     "name": "stderr",
     "output_type": "stream",
     "text": [
      "190it [30:09,  4.19s/it]"
     ]
    },
    {
     "name": "stdout",
     "output_type": "stream",
     "text": [
      "未找到下载链接。\n",
      "文献DOI为 10.1016/j.chemosphere.2019.124813 的下载状态已更新为 2\n",
      "已经下载117,正在下载10.1016/j.scitotenv.2019.03.237\n"
     ]
    },
    {
     "name": "stderr",
     "output_type": "stream",
     "text": [
      "191it [30:13,  3.98s/it]"
     ]
    },
    {
     "name": "stdout",
     "output_type": "stream",
     "text": [
      "未找到下载链接。\n",
      "文献DOI为 10.1016/j.scitotenv.2019.03.237 的下载状态已更新为 2\n",
      "已经下载117,正在下载10.1016/j.scitotenv.2023.169483\n"
     ]
    },
    {
     "name": "stderr",
     "output_type": "stream",
     "text": [
      "192it [30:17,  4.02s/it]"
     ]
    },
    {
     "name": "stdout",
     "output_type": "stream",
     "text": [
      "未找到下载链接。\n",
      "文献DOI为 10.1016/j.scitotenv.2023.169483 的下载状态已更新为 2\n",
      "已经下载117,正在下载10.1016/j.envpol.2022.118957\n"
     ]
    },
    {
     "name": "stderr",
     "output_type": "stream",
     "text": [
      "193it [30:20,  3.84s/it]"
     ]
    },
    {
     "name": "stdout",
     "output_type": "stream",
     "text": [
      "未找到下载链接。\n",
      "文献DOI为 10.1016/j.envpol.2022.118957 的下载状态已更新为 2\n",
      "已经下载117,正在下载10.3390/nano6100181\n"
     ]
    },
    {
     "name": "stderr",
     "output_type": "stream",
     "text": [
      "194it [30:30,  5.52s/it]"
     ]
    },
    {
     "name": "stdout",
     "output_type": "stream",
     "text": [
      "下载DOI为10.3390/nano6100181的论文成功。\n",
      "文献DOI为 10.3390/nano6100181 的下载状态已更新为 1\n",
      "已经下载118,正在下载10.1021/acs.est.2c03265\n"
     ]
    },
    {
     "name": "stderr",
     "output_type": "stream",
     "text": [
      "195it [30:43,  7.66s/it]"
     ]
    },
    {
     "name": "stdout",
     "output_type": "stream",
     "text": [
      "下载DOI为10.1021/acs.est.2c03265的论文成功。\n",
      "文献DOI为 10.1021/acs.est.2c03265 的下载状态已更新为 1\n",
      "已经下载119,正在下载10.1002/etc.5077\n"
     ]
    },
    {
     "name": "stderr",
     "output_type": "stream",
     "text": [
      "196it [30:47,  6.75s/it]"
     ]
    },
    {
     "name": "stdout",
     "output_type": "stream",
     "text": [
      "下载DOI为10.1002/etc.5077的论文成功。\n",
      "文献DOI为 10.1002/etc.5077 的下载状态已更新为 1\n",
      "已经下载120,正在下载10.1065/espr2007.05.425\n"
     ]
    },
    {
     "name": "stderr",
     "output_type": "stream",
     "text": [
      "197it [30:54,  6.73s/it]"
     ]
    },
    {
     "name": "stdout",
     "output_type": "stream",
     "text": [
      "文件 SL01-197-J.pdf 下载成功！\n",
      "下载DOI为10.1065/espr2007.05.425的论文成功。\n",
      "文献DOI为 10.1065/espr2007.05.425 的下载状态已更新为 1\n",
      "已经下载121,正在下载10.1039/C6EN00389C\n"
     ]
    },
    {
     "name": "stderr",
     "output_type": "stream",
     "text": [
      "198it [31:00,  6.57s/it]"
     ]
    },
    {
     "name": "stdout",
     "output_type": "stream",
     "text": [
      "下载DOI为10.1039/C6EN00389C的论文成功。\n",
      "文献DOI为 10.1039/C6EN00389C 的下载状态已更新为 1\n",
      "已经下载122,正在下载10.1002/etc.4599\n"
     ]
    },
    {
     "name": "stderr",
     "output_type": "stream",
     "text": [
      "199it [31:06,  6.39s/it]"
     ]
    },
    {
     "name": "stdout",
     "output_type": "stream",
     "text": [
      "文件 SL01-199-J.pdf 下载成功！\n",
      "下载DOI为10.1002/etc.4599的论文成功。\n",
      "文献DOI为 10.1002/etc.4599 的下载状态已更新为 1\n",
      "已经下载123,正在下载10.1039/d2em00108j\n"
     ]
    },
    {
     "name": "stderr",
     "output_type": "stream",
     "text": [
      "200it [31:11,  5.91s/it]"
     ]
    },
    {
     "name": "stdout",
     "output_type": "stream",
     "text": [
      "下载DOI为10.1039/d2em00108j的论文成功。\n",
      "文献DOI为 10.1039/d2em00108j 的下载状态已更新为 1\n",
      "已经下载124,正在下载10.1016/j.chemosphere.2021.130371\n"
     ]
    },
    {
     "name": "stderr",
     "output_type": "stream",
     "text": [
      "201it [31:18,  6.18s/it]"
     ]
    },
    {
     "name": "stdout",
     "output_type": "stream",
     "text": [
      "文件 SL01-201-J.pdf 下载成功！\n",
      "下载DOI为10.1016/j.chemosphere.2021.130371的论文成功。\n",
      "文献DOI为 10.1016/j.chemosphere.2021.130371 的下载状态已更新为 1\n",
      "已经下载125,正在下载10.1016/j.puhe.2013.01.026\n"
     ]
    },
    {
     "name": "stderr",
     "output_type": "stream",
     "text": [
      "202it [31:24,  6.15s/it]"
     ]
    },
    {
     "name": "stdout",
     "output_type": "stream",
     "text": [
      "文件 SL01-202-J.pdf 下载成功！\n",
      "下载DOI为10.1016/j.puhe.2013.01.026的论文成功。\n",
      "文献DOI为 10.1016/j.puhe.2013.01.026 的下载状态已更新为 1\n",
      "已经下载126,正在下载10.1016/j.envpol.2019.113720\n"
     ]
    },
    {
     "name": "stderr",
     "output_type": "stream",
     "text": [
      "203it [31:30,  6.26s/it]"
     ]
    },
    {
     "name": "stdout",
     "output_type": "stream",
     "text": [
      "文件 SL01-203-J.pdf 下载成功！\n",
      "下载DOI为10.1016/j.envpol.2019.113720的论文成功。\n",
      "文献DOI为 10.1016/j.envpol.2019.113720 的下载状态已更新为 1\n",
      "已经下载127,正在下载10.3390/nano11040944\n"
     ]
    },
    {
     "name": "stderr",
     "output_type": "stream",
     "text": [
      "204it [31:45,  8.82s/it]"
     ]
    },
    {
     "name": "stdout",
     "output_type": "stream",
     "text": [
      "下载DOI为10.3390/nano11040944的论文成功。\n",
      "文献DOI为 10.3390/nano11040944 的下载状态已更新为 1\n",
      "已经下载128,正在下载10.1021/acs.est.3c06522\n"
     ]
    },
    {
     "name": "stderr",
     "output_type": "stream",
     "text": [
      "205it [31:51,  7.86s/it]"
     ]
    },
    {
     "name": "stdout",
     "output_type": "stream",
     "text": [
      "未找到下载链接。\n",
      "文献DOI为 10.1021/acs.est.3c06522 的下载状态已更新为 2\n",
      "已经下载128,正在下载10.1016/j.envpol.2023.122457\n"
     ]
    },
    {
     "name": "stderr",
     "output_type": "stream",
     "text": [
      "206it [31:55,  6.91s/it]"
     ]
    },
    {
     "name": "stdout",
     "output_type": "stream",
     "text": [
      "未找到下载链接。\n",
      "文献DOI为 10.1016/j.envpol.2023.122457 的下载状态已更新为 2\n",
      "已经下载128,正在下载10.1016/j.watres.2023.120591\n"
     ]
    },
    {
     "name": "stderr",
     "output_type": "stream",
     "text": [
      "207it [31:59,  5.92s/it]"
     ]
    },
    {
     "name": "stdout",
     "output_type": "stream",
     "text": [
      "未找到下载链接。\n",
      "文献DOI为 10.1016/j.watres.2023.120591 的下载状态已更新为 2\n",
      "已经下载128,正在下载10.1016/j.chemosphere.2020.127713\n"
     ]
    },
    {
     "name": "stderr",
     "output_type": "stream",
     "text": [
      "208it [32:07,  6.54s/it]"
     ]
    },
    {
     "name": "stdout",
     "output_type": "stream",
     "text": [
      "文件 SL01-208-J.pdf 下载成功！\n",
      "下载DOI为10.1016/j.chemosphere.2020.127713的论文成功。\n",
      "文献DOI为 10.1016/j.chemosphere.2020.127713 的下载状态已更新为 1\n",
      "已经下载129,正在下载10.1016/j.ecoenv.2008.09.025\n"
     ]
    },
    {
     "name": "stderr",
     "output_type": "stream",
     "text": [
      "209it [32:16,  7.29s/it]"
     ]
    },
    {
     "name": "stdout",
     "output_type": "stream",
     "text": [
      "文件 SL01-209-J.pdf 下载成功！\n",
      "下载DOI为10.1016/j.ecoenv.2008.09.025的论文成功。\n",
      "文献DOI为 10.1016/j.ecoenv.2008.09.025 的下载状态已更新为 1\n",
      "已经下载130,正在下载10.1016/j.scitotenv.2014.10.094\n"
     ]
    },
    {
     "name": "stderr",
     "output_type": "stream",
     "text": [
      "210it [32:22,  7.05s/it]"
     ]
    },
    {
     "name": "stdout",
     "output_type": "stream",
     "text": [
      "文件 SL01-210-J.pdf 下载成功！\n",
      "下载DOI为10.1016/j.scitotenv.2014.10.094的论文成功。\n",
      "文献DOI为 10.1016/j.scitotenv.2014.10.094 的下载状态已更新为 1\n",
      "已经下载131,正在下载10.1007/s00244-009-9376-x\n"
     ]
    },
    {
     "name": "stderr",
     "output_type": "stream",
     "text": [
      "211it [32:30,  7.15s/it]"
     ]
    },
    {
     "name": "stdout",
     "output_type": "stream",
     "text": [
      "文件 SL01-211-J.pdf 下载成功！\n",
      "下载DOI为10.1007/s00244-009-9376-x的论文成功。\n",
      "文献DOI为 10.1007/s00244-009-9376-x 的下载状态已更新为 1\n",
      "已经下载132,正在下载10.1016/j.envpol.2016.11.063\n"
     ]
    },
    {
     "name": "stderr",
     "output_type": "stream",
     "text": [
      "212it [32:38,  7.60s/it]"
     ]
    },
    {
     "name": "stdout",
     "output_type": "stream",
     "text": [
      "文件 SL01-212-J.pdf 下载成功！\n",
      "下载DOI为10.1016/j.envpol.2016.11.063的论文成功。\n",
      "文献DOI为 10.1016/j.envpol.2016.11.063 的下载状态已更新为 1\n",
      "已经下载133,正在下载10.1021/acs.est.1c07416\n",
      "下载失败。\n"
     ]
    },
    {
     "name": "stderr",
     "output_type": "stream",
     "text": [
      "213it [32:45,  7.28s/it]"
     ]
    },
    {
     "name": "stdout",
     "output_type": "stream",
     "text": [
      "下载失败。\n",
      "请求失败。\n",
      "文献DOI为 10.1021/acs.est.1c07416 的下载状态已更新为 2\n",
      "已经下载133,正在下载10.1016/j.scitotenv.2016.08.187\n"
     ]
    },
    {
     "name": "stderr",
     "output_type": "stream",
     "text": [
      "214it [32:52,  7.34s/it]"
     ]
    },
    {
     "name": "stdout",
     "output_type": "stream",
     "text": [
      "文件 SL01-214-J.pdf 下载成功！\n",
      "下载DOI为10.1016/j.scitotenv.2016.08.187的论文成功。\n",
      "文献DOI为 10.1016/j.scitotenv.2016.08.187 的下载状态已更新为 1\n",
      "已经下载134,正在下载10.1016/j.envres.2021.111680\n"
     ]
    },
    {
     "name": "stderr",
     "output_type": "stream",
     "text": [
      "215it [33:03,  8.16s/it]"
     ]
    },
    {
     "name": "stdout",
     "output_type": "stream",
     "text": [
      "文件 SL01-215-J.pdf 下载成功！\n",
      "下载DOI为10.1016/j.envres.2021.111680的论文成功。\n",
      "文献DOI为 10.1016/j.envres.2021.111680 的下载状态已更新为 1\n",
      "已经下载135,正在下载10.1016/j.envpol.2019.113661\n"
     ]
    },
    {
     "name": "stderr",
     "output_type": "stream",
     "text": [
      "216it [33:10,  7.88s/it]"
     ]
    },
    {
     "name": "stdout",
     "output_type": "stream",
     "text": [
      "文件 SL01-216-J.pdf 下载成功！\n",
      "下载DOI为10.1016/j.envpol.2019.113661的论文成功。\n",
      "文献DOI为 10.1016/j.envpol.2019.113661 的下载状态已更新为 1\n",
      "已经下载136,正在下载10.1016/j.envint.2020.105919\n"
     ]
    },
    {
     "name": "stderr",
     "output_type": "stream",
     "text": [
      "217it [33:18,  7.95s/it]"
     ]
    },
    {
     "name": "stdout",
     "output_type": "stream",
     "text": [
      "文件 SL01-217-J.pdf 下载成功！\n",
      "下载DOI为10.1016/j.envint.2020.105919的论文成功。\n",
      "文献DOI为 10.1016/j.envint.2020.105919 的下载状态已更新为 1\n",
      "已经下载137,正在下载10.1016/j.scitotenv.2016.02.013\n"
     ]
    },
    {
     "name": "stderr",
     "output_type": "stream",
     "text": [
      "218it [33:27,  8.27s/it]"
     ]
    },
    {
     "name": "stdout",
     "output_type": "stream",
     "text": [
      "文件 SL01-218-J.pdf 下载成功！\n",
      "下载DOI为10.1016/j.scitotenv.2016.02.013的论文成功。\n",
      "文献DOI为 10.1016/j.scitotenv.2016.02.013 的下载状态已更新为 1\n",
      "已经下载138,正在下载10.1016/j.chemosphere.2015.05.040\n"
     ]
    },
    {
     "name": "stderr",
     "output_type": "stream",
     "text": [
      "219it [33:33,  7.48s/it]"
     ]
    },
    {
     "name": "stdout",
     "output_type": "stream",
     "text": [
      "下载DOI为10.1016/j.chemosphere.2015.05.040的论文成功。\n",
      "文献DOI为 10.1016/j.chemosphere.2015.05.040 的下载状态已更新为 1\n",
      "已经下载139,正在下载10.1016/j.chemosphere.2014.04.028\n"
     ]
    },
    {
     "name": "stderr",
     "output_type": "stream",
     "text": [
      "220it [33:41,  7.82s/it]"
     ]
    },
    {
     "name": "stdout",
     "output_type": "stream",
     "text": [
      "文件 SL01-220-J.pdf 下载成功！\n",
      "下载DOI为10.1016/j.chemosphere.2014.04.028的论文成功。\n",
      "文献DOI为 10.1016/j.chemosphere.2014.04.028 的下载状态已更新为 1\n",
      "已经下载140,正在下载10.1021/acs.est.9b06666\n"
     ]
    },
    {
     "name": "stderr",
     "output_type": "stream",
     "text": [
      "221it [33:50,  8.02s/it]"
     ]
    },
    {
     "name": "stdout",
     "output_type": "stream",
     "text": [
      "下载DOI为10.1021/acs.est.9b06666的论文成功。\n",
      "文献DOI为 10.1021/acs.est.9b06666 的下载状态已更新为 1\n",
      "已经下载141,正在下载10.1021/acs.est.6b05733\n"
     ]
    },
    {
     "name": "stderr",
     "output_type": "stream",
     "text": [
      "222it [33:56,  7.43s/it]"
     ]
    },
    {
     "name": "stdout",
     "output_type": "stream",
     "text": [
      "文件 SL01-222-J.pdf 下载成功！\n",
      "下载DOI为10.1021/acs.est.6b05733的论文成功。\n",
      "文献DOI为 10.1021/acs.est.6b05733 的下载状态已更新为 1\n",
      "已经下载142,正在下载10.1021/acs.est.1c00965\n"
     ]
    },
    {
     "name": "stderr",
     "output_type": "stream",
     "text": [
      "223it [34:04,  7.65s/it]"
     ]
    },
    {
     "name": "stdout",
     "output_type": "stream",
     "text": [
      "文件 SL01-223-J.pdf 下载成功！\n",
      "下载DOI为10.1021/acs.est.1c00965的论文成功。\n",
      "文献DOI为 10.1021/acs.est.1c00965 的下载状态已更新为 1\n",
      "已经下载143,正在下载10.1016/j.envpol.2015.03.041\n"
     ]
    },
    {
     "name": "stderr",
     "output_type": "stream",
     "text": [
      "224it [34:12,  7.68s/it]"
     ]
    },
    {
     "name": "stdout",
     "output_type": "stream",
     "text": [
      "文件 SL01-224-J.pdf 下载成功！\n",
      "下载DOI为10.1016/j.envpol.2015.03.041的论文成功。\n",
      "文献DOI为 10.1016/j.envpol.2015.03.041 的下载状态已更新为 1\n",
      "已经下载144,正在下载10.1002/etc.3143\n"
     ]
    },
    {
     "name": "stderr",
     "output_type": "stream",
     "text": [
      "225it [34:18,  7.42s/it]"
     ]
    },
    {
     "name": "stdout",
     "output_type": "stream",
     "text": [
      "下载DOI为10.1002/etc.3143的论文成功。\n",
      "文献DOI为 10.1002/etc.3143 的下载状态已更新为 1\n",
      "已经下载145,正在下载10.1016/j.marpolbul.2017.01.033\n"
     ]
    },
    {
     "name": "stderr",
     "output_type": "stream",
     "text": [
      "226it [34:25,  7.13s/it]"
     ]
    },
    {
     "name": "stdout",
     "output_type": "stream",
     "text": [
      "文件 SL01-226-J.pdf 下载成功！\n",
      "下载DOI为10.1016/j.marpolbul.2017.01.033的论文成功。\n",
      "文献DOI为 10.1016/j.marpolbul.2017.01.033 的下载状态已更新为 1\n",
      "已经下载146,正在下载10.1016/j.watres.2019.115302\n"
     ]
    },
    {
     "name": "stderr",
     "output_type": "stream",
     "text": [
      "227it [34:32,  7.18s/it]"
     ]
    },
    {
     "name": "stdout",
     "output_type": "stream",
     "text": [
      "文件 SL01-227-J.pdf 下载成功！\n",
      "下载DOI为10.1016/j.watres.2019.115302的论文成功。\n",
      "文献DOI为 10.1016/j.watres.2019.115302 的下载状态已更新为 1\n",
      "已经下载147,正在下载10.1021/es401169n\n"
     ]
    },
    {
     "name": "stderr",
     "output_type": "stream",
     "text": [
      "228it [34:39,  7.15s/it]"
     ]
    },
    {
     "name": "stdout",
     "output_type": "stream",
     "text": [
      "文件 SL01-228-J.pdf 下载成功！\n",
      "下载DOI为10.1021/es401169n的论文成功。\n",
      "文献DOI为 10.1021/es401169n 的下载状态已更新为 1\n",
      "已经下载148,正在下载10.1016/j.envint.2018.10.058\n"
     ]
    },
    {
     "name": "stderr",
     "output_type": "stream",
     "text": [
      "229it [34:45,  6.86s/it]"
     ]
    },
    {
     "name": "stdout",
     "output_type": "stream",
     "text": [
      "文件 SL01-229-J.pdf 下载成功！\n",
      "下载DOI为10.1016/j.envint.2018.10.058的论文成功。\n",
      "文献DOI为 10.1016/j.envint.2018.10.058 的下载状态已更新为 1\n",
      "已经下载149,正在下载10.1016/j.envpol.2018.05.087\n"
     ]
    },
    {
     "name": "stderr",
     "output_type": "stream",
     "text": [
      "230it [34:52,  6.69s/it]"
     ]
    },
    {
     "name": "stdout",
     "output_type": "stream",
     "text": [
      "文件 SL01-230-J.pdf 下载成功！\n",
      "下载DOI为10.1016/j.envpol.2018.05.087的论文成功。\n",
      "文献DOI为 10.1016/j.envpol.2018.05.087 的下载状态已更新为 1\n",
      "已经下载150,正在下载10.1007/s10646-023-02707-x\n"
     ]
    },
    {
     "name": "stderr",
     "output_type": "stream",
     "text": [
      "231it [34:58,  6.68s/it]"
     ]
    },
    {
     "name": "stdout",
     "output_type": "stream",
     "text": [
      "下载DOI为10.1007/s10646-023-02707-x的论文成功。\n",
      "文献DOI为 10.1007/s10646-023-02707-x 的下载状态已更新为 1\n",
      "已经下载151,正在下载10.1021/acs.est.9b05891\n"
     ]
    },
    {
     "name": "stderr",
     "output_type": "stream",
     "text": [
      "232it [35:06,  6.83s/it]"
     ]
    },
    {
     "name": "stdout",
     "output_type": "stream",
     "text": [
      "下载DOI为10.1021/acs.est.9b05891的论文成功。\n",
      "文献DOI为 10.1021/acs.est.9b05891 的下载状态已更新为 1\n",
      "已经下载152,正在下载10.1016/j.chemosphere.2019.05.124\n"
     ]
    },
    {
     "name": "stderr",
     "output_type": "stream",
     "text": [
      "233it [35:13,  6.96s/it]"
     ]
    },
    {
     "name": "stdout",
     "output_type": "stream",
     "text": [
      "文件 SL01-233-J.pdf 下载成功！\n",
      "下载DOI为10.1016/j.chemosphere.2019.05.124的论文成功。\n",
      "文献DOI为 10.1016/j.chemosphere.2019.05.124 的下载状态已更新为 1\n",
      "已经下载153,正在下载10.1016/j.envpol.2021.117293\n"
     ]
    },
    {
     "name": "stderr",
     "output_type": "stream",
     "text": [
      "234it [35:20,  7.03s/it]"
     ]
    },
    {
     "name": "stdout",
     "output_type": "stream",
     "text": [
      "文件 SL01-234-J.pdf 下载成功！\n",
      "下载DOI为10.1016/j.envpol.2021.117293的论文成功。\n",
      "文献DOI为 10.1016/j.envpol.2021.117293 的下载状态已更新为 1\n",
      "已经下载154,正在下载10.1016/j.chemosphere.2012.05.081\n"
     ]
    },
    {
     "name": "stderr",
     "output_type": "stream",
     "text": [
      "235it [35:27,  6.97s/it]"
     ]
    },
    {
     "name": "stdout",
     "output_type": "stream",
     "text": [
      "文件 SL01-235-J.pdf 下载成功！\n",
      "下载DOI为10.1016/j.chemosphere.2012.05.081的论文成功。\n",
      "文献DOI为 10.1016/j.chemosphere.2012.05.081 的下载状态已更新为 1\n",
      "已经下载155,正在下载10.1016/j.ese.2024.100401\n"
     ]
    },
    {
     "name": "stderr",
     "output_type": "stream",
     "text": [
      "236it [35:33,  6.62s/it]"
     ]
    },
    {
     "name": "stdout",
     "output_type": "stream",
     "text": [
      "下载DOI为10.1016/j.ese.2024.100401的论文成功。\n",
      "文献DOI为 10.1016/j.ese.2024.100401 的下载状态已更新为 1\n",
      "已经下载156,正在下载10.1016/j.chemosphere.2022.134424\n"
     ]
    },
    {
     "name": "stderr",
     "output_type": "stream",
     "text": [
      "237it [35:37,  5.81s/it]"
     ]
    },
    {
     "name": "stdout",
     "output_type": "stream",
     "text": [
      "未找到下载链接。\n",
      "文献DOI为 10.1016/j.chemosphere.2022.134424 的下载状态已更新为 2\n",
      "已经下载156,正在下载10.1007/s11356-012-1095-6\n"
     ]
    },
    {
     "name": "stderr",
     "output_type": "stream",
     "text": [
      "238it [35:42,  5.71s/it]"
     ]
    },
    {
     "name": "stdout",
     "output_type": "stream",
     "text": [
      "文件 SL01-238-J.pdf 下载成功！\n",
      "下载DOI为10.1007/s11356-012-1095-6的论文成功。\n",
      "文献DOI为 10.1007/s11356-012-1095-6 的下载状态已更新为 1\n",
      "已经下载157,正在下载10.1002/etc.3179\n"
     ]
    },
    {
     "name": "stderr",
     "output_type": "stream",
     "text": [
      "239it [35:53,  7.39s/it]"
     ]
    },
    {
     "name": "stdout",
     "output_type": "stream",
     "text": [
      "文件 SL01-239-J.pdf 下载成功！\n",
      "下载DOI为10.1002/etc.3179的论文成功。\n",
      "文献DOI为 10.1002/etc.3179 的下载状态已更新为 1\n",
      "已经下载158,正在下载10.1016/j.watres.2016.08.055\n"
     ]
    },
    {
     "name": "stderr",
     "output_type": "stream",
     "text": [
      "240it [36:01,  7.45s/it]"
     ]
    },
    {
     "name": "stdout",
     "output_type": "stream",
     "text": [
      "文件 SL01-240-J.pdf 下载成功！\n",
      "下载DOI为10.1016/j.watres.2016.08.055的论文成功。\n",
      "文献DOI为 10.1016/j.watres.2016.08.055 的下载状态已更新为 1\n",
      "已经下载159,正在下载10.1016/j.jhazmat.2023.131298\n"
     ]
    },
    {
     "name": "stderr",
     "output_type": "stream",
     "text": [
      "241it [36:05,  6.40s/it]"
     ]
    },
    {
     "name": "stdout",
     "output_type": "stream",
     "text": [
      "未找到下载链接。\n",
      "文献DOI为 10.1016/j.jhazmat.2023.131298 的下载状态已更新为 2\n",
      "已经下载159,正在下载10.1016/j.envres.2021.111486\n"
     ]
    },
    {
     "name": "stderr",
     "output_type": "stream",
     "text": [
      "242it [36:11,  6.42s/it]"
     ]
    },
    {
     "name": "stdout",
     "output_type": "stream",
     "text": [
      "文件 SL01-242-J.pdf 下载成功！\n",
      "下载DOI为10.1016/j.envres.2021.111486的论文成功。\n",
      "文献DOI为 10.1016/j.envres.2021.111486 的下载状态已更新为 1\n",
      "已经下载160,正在下载10.1016/j.envint.2014.03.013\n"
     ]
    },
    {
     "name": "stderr",
     "output_type": "stream",
     "text": [
      "243it [36:18,  6.35s/it]"
     ]
    },
    {
     "name": "stdout",
     "output_type": "stream",
     "text": [
      "文件 SL01-243-J.pdf 下载成功！\n",
      "下载DOI为10.1016/j.envint.2014.03.013的论文成功。\n",
      "文献DOI为 10.1016/j.envint.2014.03.013 的下载状态已更新为 1\n",
      "已经下载161,正在下载10.1111/jfb.13027\n"
     ]
    },
    {
     "name": "stderr",
     "output_type": "stream",
     "text": [
      "244it [36:24,  6.40s/it]"
     ]
    },
    {
     "name": "stdout",
     "output_type": "stream",
     "text": [
      "文件 SL01-244-J.pdf 下载成功！\n",
      "下载DOI为10.1111/jfb.13027的论文成功。\n",
      "文献DOI为 10.1111/jfb.13027 的下载状态已更新为 1\n",
      "已经下载162,正在下载10.1002/etc.3615\n"
     ]
    },
    {
     "name": "stderr",
     "output_type": "stream",
     "text": [
      "245it [36:31,  6.58s/it]"
     ]
    },
    {
     "name": "stdout",
     "output_type": "stream",
     "text": [
      "文件 SL01-245-J.pdf 下载成功！\n",
      "下载DOI为10.1002/etc.3615的论文成功。\n",
      "文献DOI为 10.1002/etc.3615 的下载状态已更新为 1\n",
      "已经下载163,正在下载10.1016/j.marpolbul.2022.114142\n"
     ]
    },
    {
     "name": "stderr",
     "output_type": "stream",
     "text": [
      "246it [36:35,  5.82s/it]"
     ]
    },
    {
     "name": "stdout",
     "output_type": "stream",
     "text": [
      "未找到下载链接。\n",
      "文献DOI为 10.1016/j.marpolbul.2022.114142 的下载状态已更新为 2\n",
      "已经下载163,正在下载10.1021/es1024405\n"
     ]
    },
    {
     "name": "stderr",
     "output_type": "stream",
     "text": [
      "247it [36:42,  6.01s/it]"
     ]
    },
    {
     "name": "stdout",
     "output_type": "stream",
     "text": [
      "文件 SL01-247-J.pdf 下载成功！\n",
      "下载DOI为10.1021/es1024405的论文成功。\n",
      "文献DOI为 10.1021/es1024405 的下载状态已更新为 1\n",
      "已经下载164,正在下载10.1016/j.scitotenv.2022.153285\n"
     ]
    },
    {
     "name": "stderr",
     "output_type": "stream",
     "text": [
      "248it [36:46,  5.52s/it]"
     ]
    },
    {
     "name": "stdout",
     "output_type": "stream",
     "text": [
      "未找到下载链接。\n",
      "文献DOI为 10.1016/j.scitotenv.2022.153285 的下载状态已更新为 2\n",
      "已经下载164,正在下载10.1016/j.scitotenv.2017.05.140\n"
     ]
    },
    {
     "name": "stderr",
     "output_type": "stream",
     "text": [
      "249it [36:53,  5.94s/it]"
     ]
    },
    {
     "name": "stdout",
     "output_type": "stream",
     "text": [
      "文件 SL01-249-J.pdf 下载成功！\n",
      "下载DOI为10.1016/j.scitotenv.2017.05.140的论文成功。\n",
      "文献DOI为 10.1016/j.scitotenv.2017.05.140 的下载状态已更新为 1\n",
      "已经下载165,正在下载10.1016/j.envint.2020.105674\n"
     ]
    },
    {
     "name": "stderr",
     "output_type": "stream",
     "text": [
      "250it [36:59,  6.11s/it]"
     ]
    },
    {
     "name": "stdout",
     "output_type": "stream",
     "text": [
      "文件 SL01-250-J.pdf 下载成功！\n",
      "下载DOI为10.1016/j.envint.2020.105674的论文成功。\n",
      "文献DOI为 10.1016/j.envint.2020.105674 的下载状态已更新为 1\n",
      "已经下载166,正在下载10.1002/etc.4030\n"
     ]
    },
    {
     "name": "stderr",
     "output_type": "stream",
     "text": [
      "251it [37:07,  6.47s/it]"
     ]
    },
    {
     "name": "stdout",
     "output_type": "stream",
     "text": [
      "文件 SL01-251-J.pdf 下载成功！\n",
      "下载DOI为10.1002/etc.4030的论文成功。\n",
      "文献DOI为 10.1002/etc.4030 的下载状态已更新为 1\n",
      "已经下载167,正在下载10.1016/j.jhazmat.2024.133787\n"
     ]
    },
    {
     "name": "stderr",
     "output_type": "stream",
     "text": [
      "252it [37:11,  5.73s/it]"
     ]
    },
    {
     "name": "stdout",
     "output_type": "stream",
     "text": [
      "未找到下载链接。\n",
      "文献DOI为 10.1016/j.jhazmat.2024.133787 的下载状态已更新为 2\n",
      "已经下载167,正在下载10.1016/j.scitotenv.2017.01.100\n"
     ]
    },
    {
     "name": "stderr",
     "output_type": "stream",
     "text": [
      "253it [37:20,  6.84s/it]"
     ]
    },
    {
     "name": "stdout",
     "output_type": "stream",
     "text": [
      "文件 SL01-253-J.pdf 下载成功！\n",
      "下载DOI为10.1016/j.scitotenv.2017.01.100的论文成功。\n",
      "文献DOI为 10.1016/j.scitotenv.2017.01.100 的下载状态已更新为 1\n",
      "已经下载168,正在下载10.1016/j.scitotenv.2023.165194\n"
     ]
    },
    {
     "name": "stderr",
     "output_type": "stream",
     "text": [
      "254it [37:24,  5.86s/it]"
     ]
    },
    {
     "name": "stdout",
     "output_type": "stream",
     "text": [
      "未找到下载链接。\n",
      "文献DOI为 10.1016/j.scitotenv.2023.165194 的下载状态已更新为 2\n",
      "已经下载168,正在下载10.1016/j.envint.2009.07.006\n"
     ]
    },
    {
     "name": "stderr",
     "output_type": "stream",
     "text": [
      "255it [37:31,  6.17s/it]"
     ]
    },
    {
     "name": "stdout",
     "output_type": "stream",
     "text": [
      "文件 SL01-255-J.pdf 下载成功！\n",
      "下载DOI为10.1016/j.envint.2009.07.006的论文成功。\n",
      "文献DOI为 10.1016/j.envint.2009.07.006 的下载状态已更新为 1\n",
      "已经下载169,正在下载10.1038/s41598-021-88684-9\n"
     ]
    },
    {
     "name": "stderr",
     "output_type": "stream",
     "text": [
      "256it [42:38, 96.68s/it]"
     ]
    },
    {
     "name": "stdout",
     "output_type": "stream",
     "text": [
      "下载DOI为10.1038/s41598-021-88684-9的论文成功。\n",
      "文献DOI为 10.1038/s41598-021-88684-9 的下载状态已更新为 1\n",
      "已经下载170,正在下载10.1021/acs.est.9b03687\n"
     ]
    },
    {
     "name": "stderr",
     "output_type": "stream",
     "text": [
      "257it [42:45, 69.65s/it]"
     ]
    },
    {
     "name": "stdout",
     "output_type": "stream",
     "text": [
      "文件 SL01-257-J.pdf 下载成功！\n",
      "下载DOI为10.1021/acs.est.9b03687的论文成功。\n",
      "文献DOI为 10.1021/acs.est.9b03687 的下载状态已更新为 1\n",
      "已经下载171,正在下载10.1007/s10646-019-02149-4\n"
     ]
    },
    {
     "name": "stderr",
     "output_type": "stream",
     "text": [
      "258it [42:53, 50.99s/it]"
     ]
    },
    {
     "name": "stdout",
     "output_type": "stream",
     "text": [
      "下载DOI为10.1007/s10646-019-02149-4的论文成功。\n",
      "文献DOI为 10.1007/s10646-019-02149-4 的下载状态已更新为 1\n",
      "已经下载172,正在下载10.1016/j.envint.2019.01.018\n"
     ]
    },
    {
     "name": "stderr",
     "output_type": "stream",
     "text": [
      "259it [42:58, 37.36s/it]"
     ]
    },
    {
     "name": "stdout",
     "output_type": "stream",
     "text": [
      "文件 SL01-259-J.pdf 下载成功！\n",
      "下载DOI为10.1016/j.envint.2019.01.018的论文成功。\n",
      "文献DOI为 10.1016/j.envint.2019.01.018 的下载状态已更新为 1\n",
      "已经下载173,正在下载10.1016/j.chemosphere.2018.05.157\n"
     ]
    },
    {
     "name": "stderr",
     "output_type": "stream",
     "text": [
      "260it [43:05, 28.31s/it]"
     ]
    },
    {
     "name": "stdout",
     "output_type": "stream",
     "text": [
      "文件 SL01-260-J.pdf 下载成功！\n",
      "下载DOI为10.1016/j.chemosphere.2018.05.157的论文成功。\n",
      "文献DOI为 10.1016/j.chemosphere.2018.05.157 的下载状态已更新为 1\n",
      "已经下载174,正在下载10.1007/s11356-018-3336-9\n"
     ]
    },
    {
     "name": "stderr",
     "output_type": "stream",
     "text": [
      "261it [43:12, 21.89s/it]"
     ]
    },
    {
     "name": "stdout",
     "output_type": "stream",
     "text": [
      "下载DOI为10.1007/s11356-018-3336-9的论文成功。\n",
      "文献DOI为 10.1007/s11356-018-3336-9 的下载状态已更新为 1\n",
      "已经下载175,正在下载10.1016/j.marpolbul.2023.114664\n"
     ]
    },
    {
     "name": "stderr",
     "output_type": "stream",
     "text": [
      "262it [43:15, 16.31s/it]"
     ]
    },
    {
     "name": "stdout",
     "output_type": "stream",
     "text": [
      "未找到下载链接。\n",
      "文献DOI为 10.1016/j.marpolbul.2023.114664 的下载状态已更新为 2\n",
      "已经下载175,正在下载10.1016/j.chemosphere.2018.12.134\n"
     ]
    },
    {
     "name": "stderr",
     "output_type": "stream",
     "text": [
      "263it [43:21, 13.03s/it]"
     ]
    },
    {
     "name": "stdout",
     "output_type": "stream",
     "text": [
      "文件 SL01-263-J.pdf 下载成功！\n",
      "下载DOI为10.1016/j.chemosphere.2018.12.134的论文成功。\n",
      "文献DOI为 10.1016/j.chemosphere.2018.12.134 的下载状态已更新为 1\n",
      "已经下载176,正在下载10.1897/08-106.1\n"
     ]
    },
    {
     "name": "stderr",
     "output_type": "stream",
     "text": [
      "264it [43:29, 11.46s/it]"
     ]
    },
    {
     "name": "stdout",
     "output_type": "stream",
     "text": [
      "文件 SL01-264-J.pdf 下载成功！\n",
      "下载DOI为10.1897/08-106.1的论文成功。\n",
      "文献DOI为 10.1897/08-106.1 的下载状态已更新为 1\n",
      "已经下载177,正在下载10.1016/j.scitotenv.2023.164210\n"
     ]
    },
    {
     "name": "stderr",
     "output_type": "stream",
     "text": [
      "265it [43:32,  9.03s/it]"
     ]
    },
    {
     "name": "stdout",
     "output_type": "stream",
     "text": [
      "未找到下载链接。\n",
      "文献DOI为 10.1016/j.scitotenv.2023.164210 的下载状态已更新为 2\n",
      "已经下载177,正在下载10.1021/es0700597\n"
     ]
    },
    {
     "name": "stderr",
     "output_type": "stream",
     "text": [
      "266it [43:40,  8.78s/it]"
     ]
    },
    {
     "name": "stdout",
     "output_type": "stream",
     "text": [
      "文件 SL01-266-J.pdf 下载成功！\n",
      "下载DOI为10.1021/es0700597的论文成功。\n",
      "文献DOI为 10.1021/es0700597 的下载状态已更新为 1\n",
      "已经下载178,正在下载10.1897/IEAM_2008-089.1\n"
     ]
    },
    {
     "name": "stderr",
     "output_type": "stream",
     "text": [
      "267it [43:49,  8.87s/it]"
     ]
    },
    {
     "name": "stdout",
     "output_type": "stream",
     "text": [
      "文件 SL01-267-J.pdf 下载成功！\n",
      "下载DOI为10.1897/IEAM_2008-089.1的论文成功。\n",
      "文献DOI为 10.1897/IEAM_2008-089.1 的下载状态已更新为 1\n",
      "已经下载179,正在下载10.1016/j.scitotenv.2022.157276\n"
     ]
    },
    {
     "name": "stderr",
     "output_type": "stream",
     "text": [
      "268it [43:54,  7.58s/it]"
     ]
    },
    {
     "name": "stdout",
     "output_type": "stream",
     "text": [
      "未找到下载链接。\n",
      "文献DOI为 10.1016/j.scitotenv.2022.157276 的下载状态已更新为 2\n",
      "已经下载179,正在下载10.1021/acs.est.7b02210\n"
     ]
    },
    {
     "name": "stderr",
     "output_type": "stream",
     "text": [
      "269it [49:01, 97.36s/it]"
     ]
    },
    {
     "name": "stdout",
     "output_type": "stream",
     "text": [
      "文件 SL01-269-J.pdf 下载成功！\n",
      "下载DOI为10.1021/acs.est.7b02210的论文成功。\n",
      "文献DOI为 10.1021/acs.est.7b02210 的下载状态已更新为 1\n",
      "已经下载180,正在下载10.1016/j.ecoenv.2018.09.008\n"
     ]
    },
    {
     "name": "stderr",
     "output_type": "stream",
     "text": [
      "270it [49:09, 70.53s/it]"
     ]
    },
    {
     "name": "stdout",
     "output_type": "stream",
     "text": [
      "文件 SL01-270-J.pdf 下载成功！\n",
      "下载DOI为10.1016/j.ecoenv.2018.09.008的论文成功。\n",
      "文献DOI为 10.1016/j.ecoenv.2018.09.008 的下载状态已更新为 1\n",
      "已经下载181,正在下载10.1016/j.scitotenv.2019.02.301\n"
     ]
    },
    {
     "name": "stderr",
     "output_type": "stream",
     "text": [
      "271it [49:22, 53.47s/it]"
     ]
    },
    {
     "name": "stdout",
     "output_type": "stream",
     "text": [
      "文件 SL01-271-J.pdf 下载成功！\n",
      "下载DOI为10.1016/j.scitotenv.2019.02.301的论文成功。\n",
      "文献DOI为 10.1016/j.scitotenv.2019.02.301 的下载状态已更新为 1\n",
      "已经下载182,正在下载10.1021/acs.est.3c05844\n"
     ]
    },
    {
     "name": "stderr",
     "output_type": "stream",
     "text": [
      "272it [49:26, 38.70s/it]"
     ]
    },
    {
     "name": "stdout",
     "output_type": "stream",
     "text": [
      "未找到下载链接。\n",
      "文献DOI为 10.1021/acs.est.3c05844 的下载状态已更新为 2\n",
      "已经下载182,正在下载10.1007/s11356-019-07479-8\n"
     ]
    },
    {
     "name": "stderr",
     "output_type": "stream",
     "text": [
      "273it [49:36, 29.89s/it]"
     ]
    },
    {
     "name": "stdout",
     "output_type": "stream",
     "text": [
      "文件 SL01-273-J.pdf 下载成功！\n",
      "下载DOI为10.1007/s11356-019-07479-8的论文成功。\n",
      "文献DOI为 10.1007/s11356-019-07479-8 的下载状态已更新为 1\n",
      "已经下载183,正在下载10.1016/j.scitotenv.2015.03.026\n"
     ]
    },
    {
     "name": "stderr",
     "output_type": "stream",
     "text": [
      "274it [49:45, 23.59s/it]"
     ]
    },
    {
     "name": "stdout",
     "output_type": "stream",
     "text": [
      "文件 SL01-274-J.pdf 下载成功！\n",
      "下载DOI为10.1016/j.scitotenv.2015.03.026的论文成功。\n",
      "文献DOI为 10.1016/j.scitotenv.2015.03.026 的下载状态已更新为 1\n",
      "已经下载184,正在下载10.1016/j.chemosphere.2021.130407\n"
     ]
    },
    {
     "name": "stderr",
     "output_type": "stream",
     "text": [
      "275it [49:51, 18.30s/it]"
     ]
    },
    {
     "name": "stdout",
     "output_type": "stream",
     "text": [
      "文件 SL01-275-J.pdf 下载成功！\n",
      "下载DOI为10.1016/j.chemosphere.2021.130407的论文成功。\n",
      "文献DOI为 10.1016/j.chemosphere.2021.130407 的下载状态已更新为 1\n",
      "已经下载185,正在下载10.1016/j.marpolbul.2023.114956\n"
     ]
    },
    {
     "name": "stderr",
     "output_type": "stream",
     "text": [
      "276it [49:59, 15.31s/it]"
     ]
    },
    {
     "name": "stdout",
     "output_type": "stream",
     "text": [
      "未找到下载链接。\n",
      "文献DOI为 10.1016/j.marpolbul.2023.114956 的下载状态已更新为 2\n",
      "已经下载185,正在下载10.1002/ieam.190\n"
     ]
    },
    {
     "name": "stderr",
     "output_type": "stream",
     "text": [
      "277it [50:05, 12.53s/it]"
     ]
    },
    {
     "name": "stdout",
     "output_type": "stream",
     "text": [
      "文件 SL01-277-J.pdf 下载成功！\n",
      "下载DOI为10.1002/ieam.190的论文成功。\n",
      "文献DOI为 10.1002/ieam.190 的下载状态已更新为 1\n",
      "已经下载186,正在下载10.1021/acs.est.3c10248\n"
     ]
    },
    {
     "name": "stderr",
     "output_type": "stream",
     "text": [
      "278it [50:09,  9.81s/it]"
     ]
    },
    {
     "name": "stdout",
     "output_type": "stream",
     "text": [
      "未找到下载链接。\n",
      "文献DOI为 10.1021/acs.est.3c10248 的下载状态已更新为 2\n",
      "已经下载186,正在下载10.1016/j.scitotenv.2020.142146\n"
     ]
    },
    {
     "name": "stderr",
     "output_type": "stream",
     "text": [
      "279it [50:15,  8.68s/it]"
     ]
    },
    {
     "name": "stdout",
     "output_type": "stream",
     "text": [
      "文件 SL01-279-J.pdf 下载成功！\n",
      "下载DOI为10.1016/j.scitotenv.2020.142146的论文成功。\n",
      "文献DOI为 10.1016/j.scitotenv.2020.142146 的下载状态已更新为 1\n",
      "已经下载187,正在下载10.1007/s00128-011-0499-1\n"
     ]
    },
    {
     "name": "stderr",
     "output_type": "stream",
     "text": [
      "280it [50:20,  7.69s/it]"
     ]
    },
    {
     "name": "stdout",
     "output_type": "stream",
     "text": [
      "文件 SL01-280-J.pdf 下载成功！\n",
      "下载DOI为10.1007/s00128-011-0499-1的论文成功。\n",
      "文献DOI为 10.1007/s00128-011-0499-1 的下载状态已更新为 1\n",
      "已经下载188,正在下载10.1016/j.chemosphere.2020.128171\n"
     ]
    },
    {
     "name": "stderr",
     "output_type": "stream",
     "text": [
      "281it [50:26,  7.11s/it]"
     ]
    },
    {
     "name": "stdout",
     "output_type": "stream",
     "text": [
      "文件 SL01-281-J.pdf 下载成功！\n",
      "下载DOI为10.1016/j.chemosphere.2020.128171的论文成功。\n",
      "文献DOI为 10.1016/j.chemosphere.2020.128171 的下载状态已更新为 1\n",
      "已经下载189,正在下载10.1002/ieam.1351\n"
     ]
    },
    {
     "name": "stderr",
     "output_type": "stream",
     "text": [
      "282it [50:32,  6.73s/it]"
     ]
    },
    {
     "name": "stdout",
     "output_type": "stream",
     "text": [
      "文件 SL01-282-J.pdf 下载成功！\n",
      "下载DOI为10.1002/ieam.1351的论文成功。\n",
      "文献DOI为 10.1002/ieam.1351 的下载状态已更新为 1\n",
      "已经下载190,正在下载10.1007/s11356-020-10068-9\n"
     ]
    },
    {
     "name": "stderr",
     "output_type": "stream",
     "text": [
      "283it [50:40,  7.17s/it]"
     ]
    },
    {
     "name": "stdout",
     "output_type": "stream",
     "text": [
      "文件 SL01-283-J.pdf 下载成功！\n",
      "下载DOI为10.1007/s11356-020-10068-9的论文成功。\n",
      "文献DOI为 10.1007/s11356-020-10068-9 的下载状态已更新为 1\n",
      "已经下载191,正在下载10.1016/j.chemosphere.2016.03.048\n"
     ]
    },
    {
     "name": "stderr",
     "output_type": "stream",
     "text": [
      "284it [50:48,  7.42s/it]"
     ]
    },
    {
     "name": "stdout",
     "output_type": "stream",
     "text": [
      "文件 SL01-284-J.pdf 下载成功！\n",
      "下载DOI为10.1016/j.chemosphere.2016.03.048的论文成功。\n",
      "文献DOI为 10.1016/j.chemosphere.2016.03.048 的下载状态已更新为 1\n",
      "已经下载192,正在下载10.1007/s12011-019-01992-0\n"
     ]
    },
    {
     "name": "stderr",
     "output_type": "stream",
     "text": [
      "285it [50:55,  7.37s/it]"
     ]
    },
    {
     "name": "stdout",
     "output_type": "stream",
     "text": [
      "文件 SL01-285-J.pdf 下载成功！\n",
      "下载DOI为10.1007/s12011-019-01992-0的论文成功。\n",
      "文献DOI为 10.1007/s12011-019-01992-0 的下载状态已更新为 1\n",
      "已经下载193,正在下载10.1016/j.chemosphere.2018.01.173\n"
     ]
    },
    {
     "name": "stderr",
     "output_type": "stream",
     "text": [
      "286it [51:03,  7.62s/it]"
     ]
    },
    {
     "name": "stdout",
     "output_type": "stream",
     "text": [
      "文件 SL01-286-J.pdf 下载成功！\n",
      "下载DOI为10.1016/j.chemosphere.2018.01.173的论文成功。\n",
      "文献DOI为 10.1016/j.chemosphere.2018.01.173 的下载状态已更新为 1\n",
      "已经下载194,正在下载10.1021/es050376i\n"
     ]
    },
    {
     "name": "stderr",
     "output_type": "stream",
     "text": [
      "287it [51:09,  7.18s/it]"
     ]
    },
    {
     "name": "stdout",
     "output_type": "stream",
     "text": [
      "文件 SL01-287-J.pdf 下载成功！\n",
      "下载DOI为10.1021/es050376i的论文成功。\n",
      "文献DOI为 10.1021/es050376i 的下载状态已更新为 1\n",
      "已经下载195,正在下载10.1371/journal.pone.0187664\n"
     ]
    },
    {
     "name": "stderr",
     "output_type": "stream",
     "text": [
      "288it [51:17,  7.36s/it]"
     ]
    },
    {
     "name": "stdout",
     "output_type": "stream",
     "text": [
      "下载DOI为10.1371/journal.pone.0187664的论文成功。\n",
      "文献DOI为 10.1371/journal.pone.0187664 的下载状态已更新为 1\n",
      "已经下载196,正在下载10.1016/j.envres.2024.118960\n"
     ]
    },
    {
     "name": "stderr",
     "output_type": "stream",
     "text": [
      "289it [51:20,  6.09s/it]"
     ]
    },
    {
     "name": "stdout",
     "output_type": "stream",
     "text": [
      "未找到下载链接。\n",
      "文献DOI为 10.1016/j.envres.2024.118960 的下载状态已更新为 2\n",
      "已经下载196,正在下载10.1016/j.chemosphere.2012.05.057\n"
     ]
    },
    {
     "name": "stderr",
     "output_type": "stream",
     "text": [
      "290it [51:27,  6.43s/it]"
     ]
    },
    {
     "name": "stdout",
     "output_type": "stream",
     "text": [
      "文件 SL01-290-J.pdf 下载成功！\n",
      "下载DOI为10.1016/j.chemosphere.2012.05.057的论文成功。\n",
      "文献DOI为 10.1016/j.chemosphere.2012.05.057 的下载状态已更新为 1\n",
      "已经下载197,正在下载10.1021/acs.est.6b05501\n"
     ]
    },
    {
     "name": "stderr",
     "output_type": "stream",
     "text": [
      "291it [51:33,  6.25s/it]"
     ]
    },
    {
     "name": "stdout",
     "output_type": "stream",
     "text": [
      "文件 SL01-291-J.pdf 下载成功！\n",
      "下载DOI为10.1021/acs.est.6b05501的论文成功。\n",
      "文献DOI为 10.1021/acs.est.6b05501 的下载状态已更新为 1\n",
      "已经下载198,正在下载10.1016/j.watres.2022.118233\n"
     ]
    },
    {
     "name": "stderr",
     "output_type": "stream",
     "text": [
      "292it [51:37,  5.50s/it]"
     ]
    },
    {
     "name": "stdout",
     "output_type": "stream",
     "text": [
      "未找到下载链接。\n",
      "文献DOI为 10.1016/j.watres.2022.118233 的下载状态已更新为 2\n",
      "已经下载198,正在下载10.1016/j.chemosphere.2017.02.116\n"
     ]
    },
    {
     "name": "stderr",
     "output_type": "stream",
     "text": [
      "293it [51:44,  5.94s/it]"
     ]
    },
    {
     "name": "stdout",
     "output_type": "stream",
     "text": [
      "文件 SL01-293-J.pdf 下载成功！\n",
      "下载DOI为10.1016/j.chemosphere.2017.02.116的论文成功。\n",
      "文献DOI为 10.1016/j.chemosphere.2017.02.116 的下载状态已更新为 1\n",
      "已经下载199,正在下载10.1021/acs.est.8b06518\n"
     ]
    },
    {
     "name": "stderr",
     "output_type": "stream",
     "text": [
      "294it [51:51,  6.20s/it]"
     ]
    },
    {
     "name": "stdout",
     "output_type": "stream",
     "text": [
      "文件 SL01-294-J.pdf 下载成功！\n",
      "下载DOI为10.1021/acs.est.8b06518的论文成功。\n",
      "文献DOI为 10.1021/acs.est.8b06518 的下载状态已更新为 1\n",
      "已经下载200,正在下载10.1016/j.etap.2021.103615\n"
     ]
    },
    {
     "name": "stderr",
     "output_type": "stream",
     "text": [
      "295it [51:55, 10.56s/it]\n"
     ]
    },
    {
     "name": "stdout",
     "output_type": "stream",
     "text": [
      "下载DOI为10.1016/j.etap.2021.103615的论文成功。\n",
      "文献DOI为 10.1016/j.etap.2021.103615 的下载状态已更新为 1\n",
      "已经下载201篇文献\n"
     ]
    },
    {
     "name": "stderr",
     "output_type": "stream",
     "text": [
      "0it [00:00, ?it/s]"
     ]
    },
    {
     "name": "stdout",
     "output_type": "stream",
     "text": [
      "已经下载0,正在下载10.1016/j.yrtph.2011.01.006\n"
     ]
    },
    {
     "name": "stderr",
     "output_type": "stream",
     "text": [
      "e:\\学习\\python\\py_codbase\\PK_LLM\\PK_LLM_endfront\\Paper_Downloader\\paper_downloader\\download_recorder.py:65: FutureWarning: Setting an item of incompatible dtype is deprecated and will raise an error in a future version of pandas. Value 'In 2007, the Minister of Health of the Netherlands requested the CAM (Coordination point Assessment and Monitoring new drugs) to assess the overall risk of magic mushrooms. The present paper is an updated redraft of the review, written to support the assessment by CAM experts. It summarizes the literature on physical or psychological dependence, acute and chronic toxicity, risk for public health and criminal aspects related to the consumption of magic mushrooms. In the Netherlands, the prevalence of magic mushroom use was declining since 2000 (last year prevalence of 6.3% in 2000 to 2.9% in 2005), and further declined after possession and use became illegal in December 2008. The CAM concluded that the physical and psychological dependence potential of magic mushrooms was low, that acute toxicity was moderate, chronic toxicity low and public health and criminal aspects negligible. The combined use of mushrooms and alcohol and the quality of the setting in which magic mushrooms are used deserve, however, attention. In conclusion, the use of magic mushrooms is relatively safe as only few and relatively mild adverse effects have been reported. The low prevalent but unpredictable provocation of panic attacks and flash-backs remain, however, a point of concern.' has dtype incompatible with float64, please explicitly cast to a compatible dtype first.\n",
      "  self.table.loc[self.table['DOI'] == doi, 'Abstract'] = abstract\n",
      "1it [00:11, 11.20s/it]"
     ]
    },
    {
     "name": "stdout",
     "output_type": "stream",
     "text": [
      "文件 SL01-1-J.pdf 下载成功！\n",
      "下载DOI为10.1016/j.yrtph.2011.01.006的论文成功。\n",
      "文献DOI为 10.1016/j.yrtph.2011.01.006 的下载状态已更新为 1\n",
      "已经下载1,正在下载10.14252/foodsafetyfscj.D-23-00007\n"
     ]
    },
    {
     "name": "stderr",
     "output_type": "stream",
     "text": [
      "4it [00:20,  4.56s/it]"
     ]
    },
    {
     "name": "stdout",
     "output_type": "stream",
     "text": [
      "下载DOI为10.14252/foodsafetyfscj.D-23-00007的论文成功。\n",
      "文献DOI为 10.14252/foodsafetyfscj.D-23-00007 的下载状态已更新为 1\n",
      "已经下载2,正在下载10.14252/foodsafetyfscj.D-23-00002\n"
     ]
    },
    {
     "name": "stderr",
     "output_type": "stream",
     "text": [
      "5it [00:23,  4.13s/it]"
     ]
    },
    {
     "name": "stdout",
     "output_type": "stream",
     "text": [
      "下载DOI为10.14252/foodsafetyfscj.D-23-00002的论文成功。\n",
      "文献DOI为 10.14252/foodsafetyfscj.D-23-00002 的下载状态已更新为 1\n",
      "已经下载3,正在下载10.14252/foodsafetyfscj.D-20-00006\n"
     ]
    },
    {
     "name": "stderr",
     "output_type": "stream",
     "text": [
      "6it [00:28,  4.55s/it]"
     ]
    },
    {
     "name": "stdout",
     "output_type": "stream",
     "text": [
      "下载DOI为10.14252/foodsafetyfscj.D-20-00006的论文成功。\n",
      "文献DOI为 10.14252/foodsafetyfscj.D-20-00006 的下载状态已更新为 1\n",
      "已经下载4,正在下载10.14252/foodsafetyfscj.D-20-00002\n"
     ]
    },
    {
     "name": "stderr",
     "output_type": "stream",
     "text": [
      "7it [00:38,  6.13s/it]"
     ]
    },
    {
     "name": "stdout",
     "output_type": "stream",
     "text": [
      "下载DOI为10.14252/foodsafetyfscj.D-20-00002的论文成功。\n",
      "文献DOI为 10.14252/foodsafetyfscj.D-20-00002 的下载状态已更新为 1\n",
      "已经下载5,正在下载10.3831/KPI.2023.26.1.18\n"
     ]
    },
    {
     "name": "stderr",
     "output_type": "stream",
     "text": [
      "8it [01:32, 19.98s/it]"
     ]
    },
    {
     "name": "stdout",
     "output_type": "stream",
     "text": [
      "下载DOI为10.3831/KPI.2023.26.1.18的论文成功。\n",
      "文献DOI为 10.3831/KPI.2023.26.1.18 的下载状态已更新为 1\n",
      "已经下载6,正在下载10.3928/23258160-20181002-07\n"
     ]
    },
    {
     "name": "stderr",
     "output_type": "stream",
     "text": [
      "9it [01:44, 17.71s/it]"
     ]
    },
    {
     "name": "stdout",
     "output_type": "stream",
     "text": [
      "下载DOI为10.3928/23258160-20181002-07的论文成功。\n",
      "文献DOI为 10.3928/23258160-20181002-07 的下载状态已更新为 1\n",
      "已经下载7,正在下载10.1016/j.heliyon.2023.e14026\n"
     ]
    },
    {
     "name": "stderr",
     "output_type": "stream",
     "text": [
      "10it [01:52, 14.91s/it]"
     ]
    },
    {
     "name": "stdout",
     "output_type": "stream",
     "text": [
      "下载DOI为10.1016/j.heliyon.2023.e14026的论文成功。\n",
      "文献DOI为 10.1016/j.heliyon.2023.e14026 的下载状态已更新为 1\n",
      "已经下载8,正在下载10.14252/foodsafetyfscj.D-23-00008\n"
     ]
    },
    {
     "name": "stderr",
     "output_type": "stream",
     "text": [
      "11it [02:00, 12.78s/it]"
     ]
    },
    {
     "name": "stdout",
     "output_type": "stream",
     "text": [
      "下载DOI为10.14252/foodsafetyfscj.D-23-00008的论文成功。\n",
      "文献DOI为 10.14252/foodsafetyfscj.D-23-00008 的下载状态已更新为 1\n",
      "已经下载9,正在下载10.3389/fphar.2022.903232\n"
     ]
    },
    {
     "name": "stderr",
     "output_type": "stream",
     "text": [
      "12it [02:05, 10.55s/it]"
     ]
    },
    {
     "name": "stdout",
     "output_type": "stream",
     "text": [
      "下载DOI为10.3389/fphar.2022.903232的论文成功。\n",
      "文献DOI为 10.3389/fphar.2022.903232 的下载状态已更新为 1\n",
      "已经下载10,正在下载10.14252/foodsafetyfscj.D-23-00014\n"
     ]
    },
    {
     "name": "stderr",
     "output_type": "stream",
     "text": [
      "13it [02:08,  8.27s/it]"
     ]
    },
    {
     "name": "stdout",
     "output_type": "stream",
     "text": [
      "下载DOI为10.14252/foodsafetyfscj.D-23-00014的论文成功。\n",
      "文献DOI为 10.14252/foodsafetyfscj.D-23-00014 的下载状态已更新为 1\n",
      "已经下载11,正在下载10.1007/s12602-018-9442-7\n"
     ]
    },
    {
     "name": "stderr",
     "output_type": "stream",
     "text": [
      "14it [02:16,  8.03s/it]"
     ]
    },
    {
     "name": "stdout",
     "output_type": "stream",
     "text": [
      "文件 SL01-14-J.pdf 下载成功！\n",
      "下载DOI为10.1007/s12602-018-9442-7的论文成功。\n",
      "文献DOI为 10.1007/s12602-018-9442-7 的下载状态已更新为 1\n",
      "已经下载12,正在下载10.1016/j.addr.2019.07.006\n"
     ]
    },
    {
     "name": "stderr",
     "output_type": "stream",
     "text": [
      "15it [02:25,  8.28s/it]"
     ]
    },
    {
     "name": "stdout",
     "output_type": "stream",
     "text": [
      "下载DOI为10.1016/j.addr.2019.07.006的论文成功。\n",
      "文献DOI为 10.1016/j.addr.2019.07.006 的下载状态已更新为 1\n",
      "已经下载13,正在下载10.1016/j.exppara.2023.108545\n"
     ]
    },
    {
     "name": "stderr",
     "output_type": "stream",
     "text": [
      "16it [02:28,  6.83s/it]"
     ]
    },
    {
     "name": "stdout",
     "output_type": "stream",
     "text": [
      "未找到下载链接。\n",
      "文献DOI为 10.1016/j.exppara.2023.108545 的下载状态已更新为 2\n",
      "已经下载13,正在下载10.1080/13880209.2017.1309556\n"
     ]
    },
    {
     "name": "stderr",
     "output_type": "stream",
     "text": [
      "17it [02:38,  7.74s/it]"
     ]
    },
    {
     "name": "stdout",
     "output_type": "stream",
     "text": [
      "下载DOI为10.1080/13880209.2017.1309556的论文成功。\n",
      "文献DOI为 10.1080/13880209.2017.1309556 的下载状态已更新为 1\n",
      "已经下载14,正在下载10.1186/s12906-018-2211-z\n"
     ]
    },
    {
     "name": "stderr",
     "output_type": "stream",
     "text": [
      "18it [03:20, 18.02s/it]"
     ]
    },
    {
     "name": "stdout",
     "output_type": "stream",
     "text": [
      "下载DOI为10.1186/s12906-018-2211-z的论文成功。\n",
      "文献DOI为 10.1186/s12906-018-2211-z 的下载状态已更新为 1\n",
      "已经下载15,正在下载10.2478/jvetres-2021-0023\n"
     ]
    },
    {
     "name": "stderr",
     "output_type": "stream",
     "text": [
      "19it [03:32, 16.11s/it]"
     ]
    },
    {
     "name": "stdout",
     "output_type": "stream",
     "text": [
      "下载DOI为10.2478/jvetres-2021-0023的论文成功。\n",
      "文献DOI为 10.2478/jvetres-2021-0023 的下载状态已更新为 1\n",
      "已经下载16,正在下载10.1002/ps.5978\n"
     ]
    },
    {
     "name": "stderr",
     "output_type": "stream",
     "text": [
      "20it [03:40, 13.64s/it]"
     ]
    },
    {
     "name": "stdout",
     "output_type": "stream",
     "text": [
      "文件 SL01-20-J.pdf 下载成功！\n",
      "下载DOI为10.1002/ps.5978的论文成功。\n",
      "文献DOI为 10.1002/ps.5978 的下载状态已更新为 1\n",
      "已经下载17,正在下载10.3390/toxins10080324\n"
     ]
    },
    {
     "name": "stderr",
     "output_type": "stream",
     "text": [
      "21it [04:17, 20.67s/it]"
     ]
    },
    {
     "name": "stdout",
     "output_type": "stream",
     "text": [
      "下载DOI为10.3390/toxins10080324的论文成功。\n",
      "文献DOI为 10.3390/toxins10080324 的下载状态已更新为 1\n",
      "已经下载18,正在下载10.14252/foodsafetyfscj.D-20-00005\n"
     ]
    },
    {
     "name": "stderr",
     "output_type": "stream",
     "text": [
      "22it [04:33, 19.31s/it]"
     ]
    },
    {
     "name": "stdout",
     "output_type": "stream",
     "text": [
      "下载DOI为10.14252/foodsafetyfscj.D-20-00005的论文成功。\n",
      "文献DOI为 10.14252/foodsafetyfscj.D-20-00005 的下载状态已更新为 1\n",
      "已经下载19,正在下载10.1016/j.toxrep.2022.11.002\n"
     ]
    },
    {
     "name": "stderr",
     "output_type": "stream",
     "text": [
      "23it [05:25, 29.13s/it]"
     ]
    },
    {
     "name": "stdout",
     "output_type": "stream",
     "text": [
      "下载DOI为10.1016/j.toxrep.2022.11.002的论文成功。\n",
      "文献DOI为 10.1016/j.toxrep.2022.11.002 的下载状态已更新为 1\n",
      "已经下载20,正在下载10.1016/j.yrtph.2014.11.007\n"
     ]
    },
    {
     "name": "stderr",
     "output_type": "stream",
     "text": [
      "24it [05:31, 22.27s/it]"
     ]
    },
    {
     "name": "stdout",
     "output_type": "stream",
     "text": [
      "文件 SL01-24-J.pdf 下载成功！\n",
      "下载DOI为10.1016/j.yrtph.2014.11.007的论文成功。\n",
      "文献DOI为 10.1016/j.yrtph.2014.11.007 的下载状态已更新为 1\n",
      "已经下载21,正在下载10.1016/j.toxrep.2020.07.005\n"
     ]
    },
    {
     "name": "stderr",
     "output_type": "stream",
     "text": [
      "25it [05:40, 18.22s/it]"
     ]
    },
    {
     "name": "stdout",
     "output_type": "stream",
     "text": [
      "下载DOI为10.1016/j.toxrep.2020.07.005的论文成功。\n",
      "文献DOI为 10.1016/j.toxrep.2020.07.005 的下载状态已更新为 1\n",
      "已经下载22,正在下载10.1007/s10517-023-05918-8\n"
     ]
    },
    {
     "name": "stderr",
     "output_type": "stream",
     "text": [
      "26it [05:43, 13.73s/it]"
     ]
    },
    {
     "name": "stdout",
     "output_type": "stream",
     "text": [
      "未找到下载链接。\n",
      "文献DOI为 10.1007/s10517-023-05918-8 的下载状态已更新为 2\n",
      "已经下载22,正在下载10.1016/j.jep.2022.115504\n"
     ]
    },
    {
     "name": "stderr",
     "output_type": "stream",
     "text": [
      "27it [05:47, 10.67s/it]"
     ]
    },
    {
     "name": "stdout",
     "output_type": "stream",
     "text": [
      "未找到下载链接。\n",
      "文献DOI为 10.1016/j.jep.2022.115504 的下载状态已更新为 2\n",
      "已经下载22,正在下载10.1016/j.toxrep.2022.04.024\n"
     ]
    },
    {
     "name": "stderr",
     "output_type": "stream",
     "text": [
      "28it [06:13, 15.27s/it]"
     ]
    },
    {
     "name": "stdout",
     "output_type": "stream",
     "text": [
      "下载DOI为10.1016/j.toxrep.2022.04.024的论文成功。\n",
      "文献DOI为 10.1016/j.toxrep.2022.04.024 的下载状态已更新为 1\n",
      "已经下载23,正在下载10.1007/s11655-015-2303-2\n"
     ]
    },
    {
     "name": "stderr",
     "output_type": "stream",
     "text": [
      "29it [06:19, 12.70s/it]"
     ]
    },
    {
     "name": "stdout",
     "output_type": "stream",
     "text": [
      "文件 SL01-29-J.pdf 下载成功！\n",
      "下载DOI为10.1007/s11655-015-2303-2的论文成功。\n",
      "文献DOI为 10.1007/s11655-015-2303-2 的下载状态已更新为 1\n",
      "已经下载24,正在下载10.1080/1062936X.2016.1243151\n"
     ]
    },
    {
     "name": "stderr",
     "output_type": "stream",
     "text": [
      "30it [06:33, 12.97s/it]"
     ]
    },
    {
     "name": "stdout",
     "output_type": "stream",
     "text": [
      "文件 SL01-30-J.pdf 下载成功！\n",
      "下载DOI为10.1080/1062936X.2016.1243151的论文成功。\n",
      "文献DOI为 10.1080/1062936X.2016.1243151 的下载状态已更新为 1\n",
      "已经下载25,正在下载10.1016/j.imr.2017.03.006\n"
     ]
    },
    {
     "name": "stderr",
     "output_type": "stream",
     "text": [
      "31it [06:39, 10.81s/it]"
     ]
    },
    {
     "name": "stdout",
     "output_type": "stream",
     "text": [
      "下载DOI为10.1016/j.imr.2017.03.006的论文成功。\n",
      "文献DOI为 10.1016/j.imr.2017.03.006 的下载状态已更新为 1\n",
      "已经下载26,正在下载10.1016/j.envpol.2020.114551\n"
     ]
    },
    {
     "name": "stderr",
     "output_type": "stream",
     "text": [
      "32it [06:44,  9.25s/it]"
     ]
    },
    {
     "name": "stdout",
     "output_type": "stream",
     "text": [
      "文件 SL01-32-J.pdf 下载成功！\n",
      "下载DOI为10.1016/j.envpol.2020.114551的论文成功。\n",
      "文献DOI为 10.1016/j.envpol.2020.114551 的下载状态已更新为 1\n",
      "已经下载27,正在下载10.1016/j.fct.2015.03.021\n"
     ]
    },
    {
     "name": "stderr",
     "output_type": "stream",
     "text": [
      "33it [06:51,  8.40s/it]"
     ]
    },
    {
     "name": "stdout",
     "output_type": "stream",
     "text": [
      "文件 SL01-33-J.pdf 下载成功！\n",
      "下载DOI为10.1016/j.fct.2015.03.021的论文成功。\n",
      "文献DOI为 10.1016/j.fct.2015.03.021 的下载状态已更新为 1\n",
      "已经下载28,正在下载10.1016/j.jhazmat.2014.04.022\n"
     ]
    },
    {
     "name": "stderr",
     "output_type": "stream",
     "text": [
      "34it [06:59,  8.28s/it]"
     ]
    },
    {
     "name": "stdout",
     "output_type": "stream",
     "text": [
      "文件 SL01-34-J.pdf 下载成功！\n",
      "下载DOI为10.1016/j.jhazmat.2014.04.022的论文成功。\n",
      "文献DOI为 10.1016/j.jhazmat.2014.04.022 的下载状态已更新为 1\n",
      "已经下载29,正在下载10.1016/j.yrtph.2018.03.007\n"
     ]
    },
    {
     "name": "stderr",
     "output_type": "stream",
     "text": [
      "35it [07:06,  8.04s/it]"
     ]
    },
    {
     "name": "stdout",
     "output_type": "stream",
     "text": [
      "文件 SL01-35-J.pdf 下载成功！\n",
      "下载DOI为10.1016/j.yrtph.2018.03.007的论文成功。\n",
      "文献DOI为 10.1016/j.yrtph.2018.03.007 的下载状态已更新为 1\n",
      "已经下载30,正在下载10.1016/j.ecoenv.2022.113977\n"
     ]
    },
    {
     "name": "stderr",
     "output_type": "stream",
     "text": [
      "36it [07:12,  7.22s/it]"
     ]
    },
    {
     "name": "stdout",
     "output_type": "stream",
     "text": [
      "未找到下载链接。\n",
      "文献DOI为 10.1016/j.ecoenv.2022.113977 的下载状态已更新为 2\n",
      "已经下载30,正在下载10.1080/10934529.2024.2339774\n"
     ]
    },
    {
     "name": "stderr",
     "output_type": "stream",
     "text": [
      "37it [07:16,  6.32s/it]"
     ]
    },
    {
     "name": "stdout",
     "output_type": "stream",
     "text": [
      "未找到下载链接。\n",
      "文献DOI为 10.1080/10934529.2024.2339774 的下载状态已更新为 2\n",
      "已经下载30,正在下载10.1016/j.yrtph.2022.105214\n"
     ]
    },
    {
     "name": "stderr",
     "output_type": "stream",
     "text": [
      "38it [07:20,  5.85s/it]"
     ]
    },
    {
     "name": "stdout",
     "output_type": "stream",
     "text": [
      "未找到下载链接。\n",
      "文献DOI为 10.1016/j.yrtph.2022.105214 的下载状态已更新为 2\n",
      "已经下载30,正在下载10.1002/ptr.6063\n"
     ]
    },
    {
     "name": "stderr",
     "output_type": "stream",
     "text": [
      "39it [07:29,  6.59s/it]"
     ]
    },
    {
     "name": "stdout",
     "output_type": "stream",
     "text": [
      "文件 SL01-39-J.pdf 下载成功！\n",
      "下载DOI为10.1002/ptr.6063的论文成功。\n",
      "文献DOI为 10.1002/ptr.6063 的下载状态已更新为 1\n",
      "已经下载31,正在下载10.1007/s00128-018-2391-8\n"
     ]
    },
    {
     "name": "stderr",
     "output_type": "stream",
     "text": [
      "40it [07:37,  7.01s/it]"
     ]
    },
    {
     "name": "stdout",
     "output_type": "stream",
     "text": [
      "文件 SL01-40-J.pdf 下载成功！\n",
      "下载DOI为10.1007/s00128-018-2391-8的论文成功。\n",
      "文献DOI为 10.1007/s00128-018-2391-8 的下载状态已更新为 1\n",
      "已经下载32,正在下载10.1007/s11356-021-17863-y\n",
      "下载失败。\n",
      "下载失败。\n",
      "请求失败。\n"
     ]
    },
    {
     "name": "stderr",
     "output_type": "stream",
     "text": [
      "41it [07:43,  6.69s/it]"
     ]
    },
    {
     "name": "stdout",
     "output_type": "stream",
     "text": [
      "文献DOI为 10.1007/s11356-021-17863-y 的下载状态已更新为 2\n",
      "已经下载32,正在下载10.1093/jee/toac109\n"
     ]
    },
    {
     "name": "stderr",
     "output_type": "stream",
     "text": [
      "42it [07:47,  5.93s/it]"
     ]
    },
    {
     "name": "stdout",
     "output_type": "stream",
     "text": [
      "未找到下载链接。\n",
      "文献DOI为 10.1093/jee/toac109 的下载状态已更新为 2\n",
      "已经下载32,正在下载10.5339/qmj.2023.31\n"
     ]
    },
    {
     "name": "stderr",
     "output_type": "stream",
     "text": [
      "43it [07:54,  6.40s/it]"
     ]
    },
    {
     "name": "stdout",
     "output_type": "stream",
     "text": [
      "下载DOI为10.5339/qmj.2023.31的论文成功。\n",
      "文献DOI为 10.5339/qmj.2023.31 的下载状态已更新为 1\n",
      "已经下载33,正在下载10.1371/journal.pone.0292937\n"
     ]
    },
    {
     "name": "stderr",
     "output_type": "stream",
     "text": [
      "44it [08:00,  6.27s/it]"
     ]
    },
    {
     "name": "stdout",
     "output_type": "stream",
     "text": [
      "下载DOI为10.1371/journal.pone.0292937的论文成功。\n",
      "文献DOI为 10.1371/journal.pone.0292937 的下载状态已更新为 1\n",
      "已经下载34,正在下载10.1016/j.yrtph.2020.104785\n"
     ]
    },
    {
     "name": "stderr",
     "output_type": "stream",
     "text": [
      "45it [08:12,  7.84s/it]"
     ]
    },
    {
     "name": "stdout",
     "output_type": "stream",
     "text": [
      "文件 SL01-45-J.pdf 下载成功！\n",
      "下载DOI为10.1016/j.yrtph.2020.104785的论文成功。\n",
      "文献DOI为 10.1016/j.yrtph.2020.104785 的下载状态已更新为 1\n",
      "已经下载35,正在下载10.1002/ps.5606\n"
     ]
    },
    {
     "name": "stderr",
     "output_type": "stream",
     "text": [
      "46it [08:19,  7.54s/it]"
     ]
    },
    {
     "name": "stdout",
     "output_type": "stream",
     "text": [
      "文件 SL01-46-J.pdf 下载成功！\n",
      "下载DOI为10.1002/ps.5606的论文成功。\n",
      "文献DOI为 10.1002/ps.5606 的下载状态已更新为 1\n",
      "已经下载36,正在下载10.31744/einstein_journal/2022RB5578\n"
     ]
    },
    {
     "name": "stderr",
     "output_type": "stream",
     "text": [
      "47it [08:26,  7.55s/it]"
     ]
    },
    {
     "name": "stdout",
     "output_type": "stream",
     "text": [
      "下载DOI为10.31744/einstein_journal/2022RB5578的论文成功。\n",
      "文献DOI为 10.31744/einstein_journal/2022RB5578 的下载状态已更新为 1\n",
      "已经下载37,正在下载10.14252/foodsafetyfscj.D-20-00001\n"
     ]
    },
    {
     "name": "stderr",
     "output_type": "stream",
     "text": [
      "48it [08:32,  7.14s/it]"
     ]
    },
    {
     "name": "stdout",
     "output_type": "stream",
     "text": [
      "下载DOI为10.14252/foodsafetyfscj.D-20-00001的论文成功。\n",
      "文献DOI为 10.14252/foodsafetyfscj.D-20-00001 的下载状态已更新为 1\n",
      "已经下载38,正在下载10.1080/15287394.2014.1004007\n"
     ]
    },
    {
     "name": "stderr",
     "output_type": "stream",
     "text": [
      "49it [08:41,  7.45s/it]"
     ]
    },
    {
     "name": "stdout",
     "output_type": "stream",
     "text": [
      "文件 SL01-49-J.pdf 下载成功！\n",
      "下载DOI为10.1080/15287394.2014.1004007的论文成功。\n",
      "文献DOI为 10.1080/15287394.2014.1004007 的下载状态已更新为 1\n",
      "已经下载39,正在下载10.12182/20200760101\n"
     ]
    },
    {
     "name": "stderr",
     "output_type": "stream",
     "text": [
      "50it [08:45,  6.49s/it]"
     ]
    },
    {
     "name": "stdout",
     "output_type": "stream",
     "text": [
      "未找到下载链接。\n",
      "文献DOI为 10.12182/20200760101 的下载状态已更新为 2\n",
      "已经下载39,正在下载10.1016/j.yrtph.2022.105188\n"
     ]
    },
    {
     "name": "stderr",
     "output_type": "stream",
     "text": [
      "51it [08:48,  5.55s/it]"
     ]
    },
    {
     "name": "stdout",
     "output_type": "stream",
     "text": [
      "未找到下载链接。\n",
      "文献DOI为 10.1016/j.yrtph.2022.105188 的下载状态已更新为 2\n",
      "已经下载39,正在下载10.1016/j.jep.2020.113184\n"
     ]
    },
    {
     "name": "stderr",
     "output_type": "stream",
     "text": [
      "52it [08:59,  7.15s/it]"
     ]
    },
    {
     "name": "stdout",
     "output_type": "stream",
     "text": [
      "文件 SL01-52-J.pdf 下载成功！\n",
      "下载DOI为10.1016/j.jep.2020.113184的论文成功。\n",
      "文献DOI为 10.1016/j.jep.2020.113184 的下载状态已更新为 1\n",
      "已经下载40,正在下载10.22038/IJBMS.2017.8676\n"
     ]
    },
    {
     "name": "stderr",
     "output_type": "stream",
     "text": [
      "53it [09:24, 12.57s/it]"
     ]
    },
    {
     "name": "stdout",
     "output_type": "stream",
     "text": [
      "下载DOI为10.22038/IJBMS.2017.8676的论文成功。\n",
      "文献DOI为 10.22038/IJBMS.2017.8676 的下载状态已更新为 1\n",
      "已经下载41,正在下载10.1002/jbt.22335\n"
     ]
    },
    {
     "name": "stderr",
     "output_type": "stream",
     "text": [
      "54it [09:32, 11.13s/it]"
     ]
    },
    {
     "name": "stdout",
     "output_type": "stream",
     "text": [
      "文件 SL01-54-J.pdf 下载成功！\n",
      "下载DOI为10.1002/jbt.22335的论文成功。\n",
      "文献DOI为 10.1002/jbt.22335 的下载状态已更新为 1\n",
      "已经下载42,正在下载10.1002/etc.3152\n"
     ]
    },
    {
     "name": "stderr",
     "output_type": "stream",
     "text": [
      "55it [09:41, 10.40s/it]"
     ]
    },
    {
     "name": "stdout",
     "output_type": "stream",
     "text": [
      "文件 SL01-55-J.pdf 下载成功！\n",
      "下载DOI为10.1002/etc.3152的论文成功。\n",
      "文献DOI为 10.1002/etc.3152 的下载状态已更新为 1\n",
      "已经下载43,正在下载10.1007/s11356-022-22019-7\n",
      "下载失败。\n"
     ]
    },
    {
     "name": "stderr",
     "output_type": "stream",
     "text": [
      "56it [09:48,  9.32s/it]"
     ]
    },
    {
     "name": "stdout",
     "output_type": "stream",
     "text": [
      "下载失败。\n",
      "请求失败。\n",
      "文献DOI为 10.1007/s11356-022-22019-7 的下载状态已更新为 2\n",
      "已经下载43,正在下载10.1016/j.yrtph.2014.01.007\n"
     ]
    },
    {
     "name": "stderr",
     "output_type": "stream",
     "text": [
      "57it [09:56,  8.96s/it]"
     ]
    },
    {
     "name": "stdout",
     "output_type": "stream",
     "text": [
      "文件 SL01-57-J.pdf 下载成功！\n",
      "下载DOI为10.1016/j.yrtph.2014.01.007的论文成功。\n",
      "文献DOI为 10.1016/j.yrtph.2014.01.007 的下载状态已更新为 1\n",
      "已经下载44,正在下载10.1002/jat.4049\n"
     ]
    },
    {
     "name": "stderr",
     "output_type": "stream",
     "text": [
      "58it [10:05,  9.15s/it]"
     ]
    },
    {
     "name": "stdout",
     "output_type": "stream",
     "text": [
      "文件 SL01-58-J.pdf 下载成功！\n",
      "下载DOI为10.1002/jat.4049的论文成功。\n",
      "文献DOI为 10.1002/jat.4049 的下载状态已更新为 1\n",
      "已经下载45,正在下载10.1016/j.envpol.2014.12.025\n"
     ]
    },
    {
     "name": "stderr",
     "output_type": "stream",
     "text": [
      "59it [10:12,  8.40s/it]"
     ]
    },
    {
     "name": "stdout",
     "output_type": "stream",
     "text": [
      "文件 SL01-59-J.pdf 下载成功！\n",
      "下载DOI为10.1016/j.envpol.2014.12.025的论文成功。\n",
      "文献DOI为 10.1016/j.envpol.2014.12.025 的下载状态已更新为 1\n",
      "已经下载46,正在下载10.1371/journal.pone.0185554\n"
     ]
    },
    {
     "name": "stderr",
     "output_type": "stream",
     "text": [
      "60it [10:20,  8.35s/it]"
     ]
    },
    {
     "name": "stdout",
     "output_type": "stream",
     "text": [
      "下载DOI为10.1371/journal.pone.0185554的论文成功。\n",
      "文献DOI为 10.1371/journal.pone.0185554 的下载状态已更新为 1\n",
      "已经下载47,正在下载10.1016/j.jep.2013.06.011\n"
     ]
    },
    {
     "name": "stderr",
     "output_type": "stream",
     "text": [
      "61it [10:28,  8.06s/it]"
     ]
    },
    {
     "name": "stdout",
     "output_type": "stream",
     "text": [
      "文件 SL01-61-J.pdf 下载成功！\n",
      "下载DOI为10.1016/j.jep.2013.06.011的论文成功。\n",
      "文献DOI为 10.1016/j.jep.2013.06.011 的下载状态已更新为 1\n",
      "已经下载48,正在下载10.3390/ijerph18126644\n"
     ]
    },
    {
     "name": "stderr",
     "output_type": "stream",
     "text": [
      "62it [10:33,  7.29s/it]"
     ]
    },
    {
     "name": "stdout",
     "output_type": "stream",
     "text": [
      "下载DOI为10.3390/ijerph18126644的论文成功。\n",
      "文献DOI为 10.3390/ijerph18126644 的下载状态已更新为 1\n",
      "已经下载49,正在下载10.1016/j.ecoenv.2018.08.010\n"
     ]
    },
    {
     "name": "stderr",
     "output_type": "stream",
     "text": [
      "63it [10:41,  7.36s/it]"
     ]
    },
    {
     "name": "stdout",
     "output_type": "stream",
     "text": [
      "文件 SL01-63-J.pdf 下载成功！\n",
      "下载DOI为10.1016/j.ecoenv.2018.08.010的论文成功。\n",
      "文献DOI为 10.1016/j.ecoenv.2018.08.010 的下载状态已更新为 1\n",
      "已经下载50,正在下载10.1016/j.yrtph.2020.104654\n"
     ]
    },
    {
     "name": "stderr",
     "output_type": "stream",
     "text": [
      "64it [10:49,  7.75s/it]"
     ]
    },
    {
     "name": "stdout",
     "output_type": "stream",
     "text": [
      "文件 SL01-64-J.pdf 下载成功！\n",
      "下载DOI为10.1016/j.yrtph.2020.104654的论文成功。\n",
      "文献DOI为 10.1016/j.yrtph.2020.104654 的下载状态已更新为 1\n",
      "已经下载51,正在下载10.3390/toxics10090514\n"
     ]
    },
    {
     "name": "stderr",
     "output_type": "stream",
     "text": [
      "65it [10:54,  6.87s/it]"
     ]
    },
    {
     "name": "stdout",
     "output_type": "stream",
     "text": [
      "下载DOI为10.3390/toxics10090514的论文成功。\n",
      "文献DOI为 10.3390/toxics10090514 的下载状态已更新为 1\n",
      "已经下载52,正在下载10.1016/j.jep.2018.10.035\n"
     ]
    },
    {
     "name": "stderr",
     "output_type": "stream",
     "text": [
      "66it [11:04,  7.66s/it]"
     ]
    },
    {
     "name": "stdout",
     "output_type": "stream",
     "text": [
      "文件 SL01-66-J.pdf 下载成功！\n",
      "下载DOI为10.1016/j.jep.2018.10.035的论文成功。\n",
      "文献DOI为 10.1016/j.jep.2018.10.035 的下载状态已更新为 1\n",
      "已经下载53,正在下载10.1016/j.yrtph.2017.02.001\n"
     ]
    },
    {
     "name": "stderr",
     "output_type": "stream",
     "text": [
      "67it [11:14,  8.54s/it]"
     ]
    },
    {
     "name": "stdout",
     "output_type": "stream",
     "text": [
      "文件 SL01-67-J.pdf 下载成功！\n",
      "下载DOI为10.1016/j.yrtph.2017.02.001的论文成功。\n",
      "文献DOI为 10.1016/j.yrtph.2017.02.001 的下载状态已更新为 1\n",
      "已经下载54,正在下载10.1016/j.toxrep.2020.10.001\n"
     ]
    },
    {
     "name": "stderr",
     "output_type": "stream",
     "text": [
      "68it [11:49, 16.48s/it]"
     ]
    },
    {
     "name": "stdout",
     "output_type": "stream",
     "text": [
      "下载DOI为10.1016/j.toxrep.2020.10.001的论文成功。\n",
      "文献DOI为 10.1016/j.toxrep.2020.10.001 的下载状态已更新为 1\n",
      "已经下载55,正在下载10.1016/j.yrtph.2017.09.004\n"
     ]
    },
    {
     "name": "stderr",
     "output_type": "stream",
     "text": [
      "69it [11:57, 13.78s/it]"
     ]
    },
    {
     "name": "stdout",
     "output_type": "stream",
     "text": [
      "文件 SL01-69-J.pdf 下载成功！\n",
      "下载DOI为10.1016/j.yrtph.2017.09.004的论文成功。\n",
      "文献DOI为 10.1016/j.yrtph.2017.09.004 的下载状态已更新为 1\n",
      "已经下载56,正在下载10.1016/j.yrtph.2017.02.020\n"
     ]
    },
    {
     "name": "stderr",
     "output_type": "stream",
     "text": [
      "70it [12:04, 11.82s/it]"
     ]
    },
    {
     "name": "stdout",
     "output_type": "stream",
     "text": [
      "文件 SL01-70-J.pdf 下载成功！\n",
      "下载DOI为10.1016/j.yrtph.2017.02.020的论文成功。\n",
      "文献DOI为 10.1016/j.yrtph.2017.02.020 的下载状态已更新为 1\n",
      "已经下载57,正在下载10.1080/01480545.2024.2308830\n"
     ]
    },
    {
     "name": "stderr",
     "output_type": "stream",
     "text": [
      "71it [13:28, 33.56s/it]"
     ]
    },
    {
     "name": "stdout",
     "output_type": "stream",
     "text": [
      "下载DOI为10.1080/01480545.2024.2308830的论文成功。\n",
      "文献DOI为 10.1080/01480545.2024.2308830 的下载状态已更新为 1\n",
      "已经下载58,正在下载10.1016/s1001-0742(11)61030-9\n"
     ]
    },
    {
     "name": "stderr",
     "output_type": "stream",
     "text": [
      "72it [13:35, 25.63s/it]"
     ]
    },
    {
     "name": "stdout",
     "output_type": "stream",
     "text": [
      "文件 SL01-72-J.pdf 下载成功！\n",
      "下载DOI为10.1016/s1001-0742(11)61030-9的论文成功。\n",
      "文献DOI为 10.1016/s1001-0742(11)61030-9 的下载状态已更新为 1\n",
      "已经下载59,正在下载10.1016/j.toxrep.2021.03.012\n"
     ]
    },
    {
     "name": "stderr",
     "output_type": "stream",
     "text": [
      "73it [13:47, 21.36s/it]"
     ]
    },
    {
     "name": "stdout",
     "output_type": "stream",
     "text": [
      "下载DOI为10.1016/j.toxrep.2021.03.012的论文成功。\n",
      "文献DOI为 10.1016/j.toxrep.2021.03.012 的下载状态已更新为 1\n",
      "已经下载60,正在下载10.1016/j.jep.2022.115668\n"
     ]
    },
    {
     "name": "stderr",
     "output_type": "stream",
     "text": [
      "74it [13:52, 16.48s/it]"
     ]
    },
    {
     "name": "stdout",
     "output_type": "stream",
     "text": [
      "未找到下载链接。\n",
      "文献DOI为 10.1016/j.jep.2022.115668 的下载状态已更新为 2\n",
      "已经下载60,正在下载10.1016/j.jep.2015.10.002\n"
     ]
    },
    {
     "name": "stderr",
     "output_type": "stream",
     "text": [
      "75it [13:59, 13.80s/it]"
     ]
    },
    {
     "name": "stdout",
     "output_type": "stream",
     "text": [
      "文件 SL01-75-J.pdf 下载成功！\n",
      "下载DOI为10.1016/j.jep.2015.10.002的论文成功。\n",
      "文献DOI为 10.1016/j.jep.2015.10.002 的下载状态已更新为 1\n",
      "已经下载61,正在下载10.1016/j.jep.2017.03.032\n"
     ]
    },
    {
     "name": "stderr",
     "output_type": "stream",
     "text": [
      "76it [14:07, 12.06s/it]"
     ]
    },
    {
     "name": "stdout",
     "output_type": "stream",
     "text": [
      "文件 SL01-76-J.pdf 下载成功！\n",
      "下载DOI为10.1016/j.jep.2017.03.032的论文成功。\n",
      "文献DOI为 10.1016/j.jep.2017.03.032 的下载状态已更新为 1\n",
      "已经下载62,正在下载10.1016/j.heliyon.2022.e12124\n"
     ]
    },
    {
     "name": "stderr",
     "output_type": "stream",
     "text": [
      "77it [14:13, 10.19s/it]"
     ]
    },
    {
     "name": "stdout",
     "output_type": "stream",
     "text": [
      "下载DOI为10.1016/j.heliyon.2022.e12124的论文成功。\n",
      "文献DOI为 10.1016/j.heliyon.2022.e12124 的下载状态已更新为 1\n",
      "已经下载63,正在下载10.1093/toxres/tfaa055\n"
     ]
    },
    {
     "name": "stderr",
     "output_type": "stream",
     "text": [
      "78it [14:55, 19.63s/it]"
     ]
    },
    {
     "name": "stdout",
     "output_type": "stream",
     "text": [
      "下载DOI为10.1093/toxres/tfaa055的论文成功。\n",
      "文献DOI为 10.1093/toxres/tfaa055 的下载状态已更新为 1\n",
      "已经下载64,正在下载10.1111/1750-3841.16039\n",
      "下载失败。\n"
     ]
    },
    {
     "name": "stderr",
     "output_type": "stream",
     "text": [
      "79it [15:01, 15.48s/it]"
     ]
    },
    {
     "name": "stdout",
     "output_type": "stream",
     "text": [
      "下载失败。\n",
      "请求失败。\n",
      "文献DOI为 10.1111/1750-3841.16039 的下载状态已更新为 2\n",
      "已经下载64,正在下载10.1016/j.marpolbul.2023.115113\n"
     ]
    },
    {
     "name": "stderr",
     "output_type": "stream",
     "text": [
      "80it [15:37, 21.76s/it]"
     ]
    },
    {
     "name": "stdout",
     "output_type": "stream",
     "text": [
      "未找到下载链接。\n",
      "文献DOI为 10.1016/j.marpolbul.2023.115113 的下载状态已更新为 2\n",
      "已经下载64,正在下载10.1007/s00128-023-03698-5\n"
     ]
    },
    {
     "name": "stderr",
     "output_type": "stream",
     "text": [
      "81it [15:42, 16.57s/it]"
     ]
    },
    {
     "name": "stdout",
     "output_type": "stream",
     "text": [
      "未找到下载链接。\n",
      "文献DOI为 10.1007/s00128-023-03698-5 的下载状态已更新为 2\n",
      "已经下载64,正在下载10.1016/j.scitotenv.2022.153730\n",
      "下载失败。\n"
     ]
    },
    {
     "name": "stderr",
     "output_type": "stream",
     "text": [
      "82it [15:53, 15.01s/it]"
     ]
    },
    {
     "name": "stdout",
     "output_type": "stream",
     "text": [
      "下载失败。\n",
      "请求失败。\n",
      "文献DOI为 10.1016/j.scitotenv.2022.153730 的下载状态已更新为 2\n",
      "已经下载64,正在下载10.1021/acsomega.2c06320\n"
     ]
    },
    {
     "name": "stderr",
     "output_type": "stream",
     "text": [
      "83it [18:56, 65.48s/it]"
     ]
    },
    {
     "name": "stdout",
     "output_type": "stream",
     "text": [
      "下载DOI为10.1021/acsomega.2c06320的论文成功。\n",
      "文献DOI为 10.1021/acsomega.2c06320 的下载状态已更新为 1\n",
      "已经下载65,正在下载10.1016/j.toxrep.2018.03.011\n"
     ]
    },
    {
     "name": "stderr",
     "output_type": "stream",
     "text": [
      "84it [19:36, 57.67s/it]"
     ]
    },
    {
     "name": "stdout",
     "output_type": "stream",
     "text": [
      "下载DOI为10.1016/j.toxrep.2018.03.011的论文成功。\n",
      "文献DOI为 10.1016/j.toxrep.2018.03.011 的下载状态已更新为 1\n",
      "已经下载66,正在下载10.1002/etc.5598\n"
     ]
    },
    {
     "name": "stderr",
     "output_type": "stream",
     "text": [
      "85it [19:40, 41.76s/it]"
     ]
    },
    {
     "name": "stdout",
     "output_type": "stream",
     "text": [
      "未找到下载链接。\n",
      "文献DOI为 10.1002/etc.5598 的下载状态已更新为 2\n",
      "已经下载66,正在下载10.1002/etc.4683\n"
     ]
    },
    {
     "name": "stderr",
     "output_type": "stream",
     "text": [
      "86it [19:49, 31.91s/it]"
     ]
    },
    {
     "name": "stdout",
     "output_type": "stream",
     "text": [
      "文件 SL01-86-J.pdf 下载成功！\n",
      "下载DOI为10.1002/etc.4683的论文成功。\n",
      "文献DOI为 10.1002/etc.4683 的下载状态已更新为 1\n",
      "已经下载67,正在下载10.1159/000069773\n"
     ]
    },
    {
     "name": "stderr",
     "output_type": "stream",
     "text": [
      "87it [19:57, 24.76s/it]"
     ]
    },
    {
     "name": "stdout",
     "output_type": "stream",
     "text": [
      "文件 SL01-87-J.pdf 下载成功！\n",
      "下载DOI为10.1159/000069773的论文成功。\n",
      "文献DOI为 10.1159/000069773 的下载状态已更新为 1\n",
      "已经下载68,正在下载10.1016/j.jep.2014.09.004\n"
     ]
    },
    {
     "name": "stderr",
     "output_type": "stream",
     "text": [
      "88it [20:06, 19.95s/it]"
     ]
    },
    {
     "name": "stdout",
     "output_type": "stream",
     "text": [
      "文件 SL01-88-J.pdf 下载成功！\n",
      "下载DOI为10.1016/j.jep.2014.09.004的论文成功。\n",
      "文献DOI为 10.1016/j.jep.2014.09.004 的下载状态已更新为 1\n",
      "已经下载69,正在下载10.1016/j.mrgentox.2009.12.016\n"
     ]
    },
    {
     "name": "stderr",
     "output_type": "stream",
     "text": [
      "89it [20:13, 15.97s/it]"
     ]
    },
    {
     "name": "stdout",
     "output_type": "stream",
     "text": [
      "文件 SL01-89-J.pdf 下载成功！\n",
      "下载DOI为10.1016/j.mrgentox.2009.12.016的论文成功。\n",
      "文献DOI为 10.1016/j.mrgentox.2009.12.016 的下载状态已更新为 1\n",
      "已经下载70,正在下载10.1371/journal.pone.0249356\n"
     ]
    },
    {
     "name": "stderr",
     "output_type": "stream",
     "text": [
      "90it [20:18, 12.86s/it]"
     ]
    },
    {
     "name": "stdout",
     "output_type": "stream",
     "text": [
      "下载DOI为10.1371/journal.pone.0249356的论文成功。\n",
      "文献DOI为 10.1371/journal.pone.0249356 的下载状态已更新为 1\n",
      "已经下载71,正在下载10.1007/s43188-022-00140-6\n"
     ]
    },
    {
     "name": "stderr",
     "output_type": "stream",
     "text": [
      "91it [20:35, 14.12s/it]"
     ]
    },
    {
     "name": "stdout",
     "output_type": "stream",
     "text": [
      "下载DOI为10.1007/s43188-022-00140-6的论文成功。\n",
      "文献DOI为 10.1007/s43188-022-00140-6 的下载状态已更新为 1\n",
      "已经下载72,正在下载10.1007/s00244-017-0483-9\n"
     ]
    },
    {
     "name": "stderr",
     "output_type": "stream",
     "text": [
      "92it [20:43, 12.22s/it]"
     ]
    },
    {
     "name": "stdout",
     "output_type": "stream",
     "text": [
      "文件 SL01-92-J.pdf 下载成功！\n",
      "下载DOI为10.1007/s00244-017-0483-9的论文成功。\n",
      "文献DOI为 10.1007/s00244-017-0483-9 的下载状态已更新为 1\n",
      "已经下载73,正在下载10.1016/j.yrtph.2019.02.006\n"
     ]
    },
    {
     "name": "stderr",
     "output_type": "stream",
     "text": [
      "93it [20:50, 10.73s/it]"
     ]
    },
    {
     "name": "stdout",
     "output_type": "stream",
     "text": [
      "文件 SL01-93-J.pdf 下载成功！\n",
      "下载DOI为10.1016/j.yrtph.2019.02.006的论文成功。\n",
      "文献DOI为 10.1016/j.yrtph.2019.02.006 的下载状态已更新为 1\n",
      "已经下载74,正在下载10.1016/j.yrtph.2019.04.001\n"
     ]
    },
    {
     "name": "stderr",
     "output_type": "stream",
     "text": [
      "94it [20:58,  9.73s/it]"
     ]
    },
    {
     "name": "stdout",
     "output_type": "stream",
     "text": [
      "文件 SL01-94-J.pdf 下载成功！\n",
      "下载DOI为10.1016/j.yrtph.2019.04.001的论文成功。\n",
      "文献DOI为 10.1016/j.yrtph.2019.04.001 的下载状态已更新为 1\n",
      "已经下载75,正在下载10.1016/j.chemosphere.2011.12.069\n"
     ]
    },
    {
     "name": "stderr",
     "output_type": "stream",
     "text": [
      "95it [21:05,  9.06s/it]"
     ]
    },
    {
     "name": "stdout",
     "output_type": "stream",
     "text": [
      "文件 SL01-95-J.pdf 下载成功！\n",
      "下载DOI为10.1016/j.chemosphere.2011.12.069的论文成功。\n",
      "文献DOI为 10.1016/j.chemosphere.2011.12.069 的下载状态已更新为 1\n",
      "已经下载76,正在下载10.1111/j.1365-2133.2011.10298.x\n"
     ]
    },
    {
     "name": "stderr",
     "output_type": "stream",
     "text": [
      "96it [21:11,  8.21s/it]"
     ]
    },
    {
     "name": "stdout",
     "output_type": "stream",
     "text": [
      "文件 SL01-96-J.pdf 下载成功！\n",
      "下载DOI为10.1111/j.1365-2133.2011.10298.x的论文成功。\n",
      "文献DOI为 10.1111/j.1365-2133.2011.10298.x 的下载状态已更新为 1\n",
      "已经下载77,正在下载10.2174/1871520616666160817104529\n"
     ]
    },
    {
     "name": "stderr",
     "output_type": "stream",
     "text": [
      "97it [21:15,  6.88s/it]"
     ]
    },
    {
     "name": "stdout",
     "output_type": "stream",
     "text": [
      "未找到下载链接。\n",
      "文献DOI为 10.2174/1871520616666160817104529 的下载状态已更新为 2\n",
      "已经下载77,正在下载10.1038/ncpneph0225\n"
     ]
    },
    {
     "name": "stderr",
     "output_type": "stream",
     "text": [
      "98it [21:22,  6.72s/it]"
     ]
    },
    {
     "name": "stdout",
     "output_type": "stream",
     "text": [
      "文件 SL01-98-J.pdf 下载成功！\n",
      "下载DOI为10.1038/ncpneph0225的论文成功。\n",
      "文献DOI为 10.1038/ncpneph0225 的下载状态已更新为 1\n",
      "已经下载78,正在下载10.1016/j.jep.2017.07.029\n"
     ]
    },
    {
     "name": "stderr",
     "output_type": "stream",
     "text": [
      "99it [21:28,  6.71s/it]"
     ]
    },
    {
     "name": "stdout",
     "output_type": "stream",
     "text": [
      "文件 SL01-99-J.pdf 下载成功！\n",
      "下载DOI为10.1016/j.jep.2017.07.029的论文成功。\n",
      "文献DOI为 10.1016/j.jep.2017.07.029 的下载状态已更新为 1\n",
      "已经下载79,正在下载10.1007/s13659-020-00237-1\n"
     ]
    },
    {
     "name": "stderr",
     "output_type": "stream",
     "text": [
      "100it [21:37,  7.23s/it]"
     ]
    },
    {
     "name": "stdout",
     "output_type": "stream",
     "text": [
      "下载DOI为10.1007/s13659-020-00237-1的论文成功。\n",
      "文献DOI为 10.1007/s13659-020-00237-1 的下载状态已更新为 1\n",
      "已经下载80,正在下载10.1016/j.jep.2021.114138\n"
     ]
    },
    {
     "name": "stderr",
     "output_type": "stream",
     "text": [
      "101it [21:45,  7.61s/it]"
     ]
    },
    {
     "name": "stdout",
     "output_type": "stream",
     "text": [
      "文件 SL01-101-J.pdf 下载成功！\n",
      "下载DOI为10.1016/j.jep.2021.114138的论文成功。\n",
      "文献DOI为 10.1016/j.jep.2021.114138 的下载状态已更新为 1\n",
      "已经下载81,正在下载10.3389/fphar.2022.987800\n"
     ]
    },
    {
     "name": "stderr",
     "output_type": "stream",
     "text": [
      "102it [21:53,  7.78s/it]"
     ]
    },
    {
     "name": "stdout",
     "output_type": "stream",
     "text": [
      "下载DOI为10.3389/fphar.2022.987800的论文成功。\n",
      "文献DOI为 10.3389/fphar.2022.987800 的下载状态已更新为 1\n",
      "已经下载82,正在下载10.1016/j.jhazmat.2017.05.058\n"
     ]
    },
    {
     "name": "stderr",
     "output_type": "stream",
     "text": [
      "103it [22:01,  7.68s/it]"
     ]
    },
    {
     "name": "stdout",
     "output_type": "stream",
     "text": [
      "文件 SL01-103-J.pdf 下载成功！\n",
      "下载DOI为10.1016/j.jhazmat.2017.05.058的论文成功。\n",
      "文献DOI为 10.1016/j.jhazmat.2017.05.058 的下载状态已更新为 1\n",
      "已经下载83,正在下载10.1016/j.toxrep.2021.11.002\n"
     ]
    },
    {
     "name": "stderr",
     "output_type": "stream",
     "text": [
      "104it [22:08,  7.51s/it]"
     ]
    },
    {
     "name": "stdout",
     "output_type": "stream",
     "text": [
      "下载DOI为10.1016/j.toxrep.2021.11.002的论文成功。\n",
      "文献DOI为 10.1016/j.toxrep.2021.11.002 的下载状态已更新为 1\n",
      "已经下载84,正在下载10.3390/ijms160511659\n"
     ]
    },
    {
     "name": "stderr",
     "output_type": "stream",
     "text": [
      "105it [22:14,  7.06s/it]"
     ]
    },
    {
     "name": "stdout",
     "output_type": "stream",
     "text": [
      "下载DOI为10.3390/ijms160511659的论文成功。\n",
      "文献DOI为 10.3390/ijms160511659 的下载状态已更新为 1\n",
      "已经下载85,正在下载10.1016/j.jep.2016.09.004\n"
     ]
    },
    {
     "name": "stderr",
     "output_type": "stream",
     "text": [
      "106it [22:21,  7.12s/it]"
     ]
    },
    {
     "name": "stdout",
     "output_type": "stream",
     "text": [
      "文件 SL01-106-J.pdf 下载成功！\n",
      "下载DOI为10.1016/j.jep.2016.09.004的论文成功。\n",
      "文献DOI为 10.1016/j.jep.2016.09.004 的下载状态已更新为 1\n",
      "已经下载86,正在下载10.1016/j.chemosphere.2014.01.013\n"
     ]
    },
    {
     "name": "stderr",
     "output_type": "stream",
     "text": [
      "107it [22:38, 10.15s/it]"
     ]
    },
    {
     "name": "stdout",
     "output_type": "stream",
     "text": [
      "文件 SL01-107-J.pdf 下载成功！\n",
      "下载DOI为10.1016/j.chemosphere.2014.01.013的论文成功。\n",
      "文献DOI为 10.1016/j.chemosphere.2014.01.013 的下载状态已更新为 1\n",
      "已经下载87,正在下载10.1016/j.jep.2016.05.050\n"
     ]
    },
    {
     "name": "stderr",
     "output_type": "stream",
     "text": [
      "108it [22:47,  9.58s/it]"
     ]
    },
    {
     "name": "stdout",
     "output_type": "stream",
     "text": [
      "文件 SL01-108-J.pdf 下载成功！\n",
      "下载DOI为10.1016/j.jep.2016.05.050的论文成功。\n",
      "文献DOI为 10.1016/j.jep.2016.05.050 的下载状态已更新为 1\n",
      "已经下载88,正在下载10.1016/j.dmpk.2015.10.002\n"
     ]
    },
    {
     "name": "stderr",
     "output_type": "stream",
     "text": [
      "109it [22:54,  8.90s/it]"
     ]
    },
    {
     "name": "stdout",
     "output_type": "stream",
     "text": [
      "文件 SL01-109-J.pdf 下载成功！\n",
      "下载DOI为10.1016/j.dmpk.2015.10.002的论文成功。\n",
      "文献DOI为 10.1016/j.dmpk.2015.10.002 的下载状态已更新为 1\n",
      "已经下载89,正在下载10.19852/j.cnki.jtcm.20230404.003\n"
     ]
    },
    {
     "name": "stderr",
     "output_type": "stream",
     "text": [
      "110it [23:19, 13.60s/it]"
     ]
    },
    {
     "name": "stdout",
     "output_type": "stream",
     "text": [
      "下载DOI为10.19852/j.cnki.jtcm.20230404.003的论文成功。\n",
      "文献DOI为 10.19852/j.cnki.jtcm.20230404.003 的下载状态已更新为 1\n",
      "已经下载90,正在下载10.1016/j.toxrep.2020.01.007\n"
     ]
    },
    {
     "name": "stderr",
     "output_type": "stream",
     "text": [
      "111it [24:14, 26.09s/it]"
     ]
    },
    {
     "name": "stdout",
     "output_type": "stream",
     "text": [
      "下载DOI为10.1016/j.toxrep.2020.01.007的论文成功。\n",
      "文献DOI为 10.1016/j.toxrep.2020.01.007 的下载状态已更新为 1\n",
      "已经下载91,正在下载10.1371/journal.pone.0265962\n"
     ]
    },
    {
     "name": "stderr",
     "output_type": "stream",
     "text": [
      "112it [24:20, 20.09s/it]"
     ]
    },
    {
     "name": "stdout",
     "output_type": "stream",
     "text": [
      "下载DOI为10.1371/journal.pone.0265962的论文成功。\n",
      "文献DOI为 10.1371/journal.pone.0265962 的下载状态已更新为 1\n",
      "已经下载92,正在下载10.1016/j.jep.2014.10.027\n"
     ]
    },
    {
     "name": "stderr",
     "output_type": "stream",
     "text": [
      "113it [24:27, 16.05s/it]"
     ]
    },
    {
     "name": "stdout",
     "output_type": "stream",
     "text": [
      "文件 SL01-113-J.pdf 下载成功！\n",
      "下载DOI为10.1016/j.jep.2014.10.027的论文成功。\n",
      "文献DOI为 10.1016/j.jep.2014.10.027 的下载状态已更新为 1\n",
      "已经下载93,正在下载10.1016/j.carbpol.2015.10.071\n"
     ]
    },
    {
     "name": "stderr",
     "output_type": "stream",
     "text": [
      "114it [24:33, 13.20s/it]"
     ]
    },
    {
     "name": "stdout",
     "output_type": "stream",
     "text": [
      "文件 SL01-114-J.pdf 下载成功！\n",
      "下载DOI为10.1016/j.carbpol.2015.10.071的论文成功。\n",
      "文献DOI为 10.1016/j.carbpol.2015.10.071 的下载状态已更新为 1\n",
      "已经下载94,正在下载10.1016/j.ecoenv.2023.115116\n"
     ]
    },
    {
     "name": "stderr",
     "output_type": "stream",
     "text": [
      "115it [24:38, 10.67s/it]"
     ]
    },
    {
     "name": "stdout",
     "output_type": "stream",
     "text": [
      "未找到下载链接。\n",
      "文献DOI为 10.1016/j.ecoenv.2023.115116 的下载状态已更新为 2\n",
      "已经下载94,正在下载10.3389/fphar.2022.1023379\n"
     ]
    },
    {
     "name": "stderr",
     "output_type": "stream",
     "text": [
      "116it [24:46, 10.06s/it]"
     ]
    },
    {
     "name": "stdout",
     "output_type": "stream",
     "text": [
      "下载DOI为10.3389/fphar.2022.1023379的论文成功。\n",
      "文献DOI为 10.3389/fphar.2022.1023379 的下载状态已更新为 1\n",
      "已经下载95,正在下载10.1016/j.watres.2014.01.056\n"
     ]
    },
    {
     "name": "stderr",
     "output_type": "stream",
     "text": [
      "117it [24:52,  8.75s/it]"
     ]
    },
    {
     "name": "stdout",
     "output_type": "stream",
     "text": [
      "文件 SL01-117-J.pdf 下载成功！\n",
      "下载DOI为10.1016/j.watres.2014.01.056的论文成功。\n",
      "文献DOI为 10.1016/j.watres.2014.01.056 的下载状态已更新为 1\n",
      "已经下载96,正在下载10.4314/ajtcam.v10i2.6\n"
     ]
    },
    {
     "name": "stderr",
     "output_type": "stream",
     "text": [
      "118it [25:25, 15.90s/it]"
     ]
    },
    {
     "name": "stdout",
     "output_type": "stream",
     "text": [
      "下载DOI为10.4314/ajtcam.v10i2.6的论文成功。\n",
      "文献DOI为 10.4314/ajtcam.v10i2.6 的下载状态已更新为 1\n",
      "已经下载97,正在下载10.1016/j.fct.2019.110580\n"
     ]
    },
    {
     "name": "stderr",
     "output_type": "stream",
     "text": [
      "119it [25:33, 13.47s/it]"
     ]
    },
    {
     "name": "stdout",
     "output_type": "stream",
     "text": [
      "文件 SL01-119-J.pdf 下载成功！\n",
      "下载DOI为10.1016/j.fct.2019.110580的论文成功。\n",
      "文献DOI为 10.1016/j.fct.2019.110580 的下载状态已更新为 1\n",
      "已经下载98,正在下载10.1007/s43188-020-00042-5\n"
     ]
    },
    {
     "name": "stderr",
     "output_type": "stream",
     "text": [
      "120it [25:38, 11.17s/it]"
     ]
    },
    {
     "name": "stdout",
     "output_type": "stream",
     "text": [
      "下载DOI为10.1007/s43188-020-00042-5的论文成功。\n",
      "文献DOI为 10.1007/s43188-020-00042-5 的下载状态已更新为 1\n",
      "已经下载99,正在下载10.1016/j.chemosphere.2020.129418\n"
     ]
    },
    {
     "name": "stderr",
     "output_type": "stream",
     "text": [
      "121it [25:46, 10.01s/it]"
     ]
    },
    {
     "name": "stdout",
     "output_type": "stream",
     "text": [
      "文件 SL01-121-J.pdf 下载成功！\n",
      "下载DOI为10.1016/j.chemosphere.2020.129418的论文成功。\n",
      "文献DOI为 10.1016/j.chemosphere.2020.129418 的下载状态已更新为 1\n",
      "已经下载100,正在下载10.1016/j.jep.2013.07.006\n"
     ]
    },
    {
     "name": "stderr",
     "output_type": "stream",
     "text": [
      "122it [25:53,  9.10s/it]"
     ]
    },
    {
     "name": "stdout",
     "output_type": "stream",
     "text": [
      "文件 SL01-122-J.pdf 下载成功！\n",
      "下载DOI为10.1016/j.jep.2013.07.006的论文成功。\n",
      "文献DOI为 10.1016/j.jep.2013.07.006 的下载状态已更新为 1\n",
      "已经下载101,正在下载10.1897/08-004.1\n"
     ]
    },
    {
     "name": "stderr",
     "output_type": "stream",
     "text": [
      "123it [26:01,  8.80s/it]"
     ]
    },
    {
     "name": "stdout",
     "output_type": "stream",
     "text": [
      "文件 SL01-123-J.pdf 下载成功！\n",
      "下载DOI为10.1897/08-004.1的论文成功。\n",
      "文献DOI为 10.1897/08-004.1 的下载状态已更新为 1\n",
      "已经下载102,正在下载10.1002/etc.4346\n"
     ]
    },
    {
     "name": "stderr",
     "output_type": "stream",
     "text": [
      "124it [26:06,  7.66s/it]"
     ]
    },
    {
     "name": "stdout",
     "output_type": "stream",
     "text": [
      "下载DOI为10.1002/etc.4346的论文成功。\n",
      "文献DOI为 10.1002/etc.4346 的下载状态已更新为 1\n",
      "已经下载103,正在下载10.2903/j.efsa.2023.7866\n"
     ]
    },
    {
     "name": "stderr",
     "output_type": "stream",
     "text": [
      "125it [26:40, 15.66s/it]"
     ]
    },
    {
     "name": "stdout",
     "output_type": "stream",
     "text": [
      "下载DOI为10.2903/j.efsa.2023.7866的论文成功。\n",
      "文献DOI为 10.2903/j.efsa.2023.7866 的下载状态已更新为 1\n",
      "已经下载104,正在下载10.1080/01480545.2021.2015243\n",
      "下载失败。\n"
     ]
    },
    {
     "name": "stderr",
     "output_type": "stream",
     "text": [
      "126it [26:46, 12.64s/it]"
     ]
    },
    {
     "name": "stdout",
     "output_type": "stream",
     "text": [
      "下载失败。\n",
      "请求失败。\n",
      "文献DOI为 10.1080/01480545.2021.2015243 的下载状态已更新为 2\n",
      "已经下载104,正在下载10.1615/jenvironpatholtoxicoloncol.v28.i3.10\n"
     ]
    },
    {
     "name": "stderr",
     "output_type": "stream",
     "text": [
      "127it [26:51, 10.31s/it]"
     ]
    },
    {
     "name": "stdout",
     "output_type": "stream",
     "text": [
      "未找到下载链接。\n",
      "文献DOI为 10.1615/jenvironpatholtoxicoloncol.v28.i3.10 的下载状态已更新为 2\n",
      "已经下载104,正在下载10.1186/s12906-020-03064-6\n"
     ]
    },
    {
     "name": "stderr",
     "output_type": "stream",
     "text": [
      "128it [27:25, 17.50s/it]"
     ]
    },
    {
     "name": "stdout",
     "output_type": "stream",
     "text": [
      "下载DOI为10.1186/s12906-020-03064-6的论文成功。\n",
      "文献DOI为 10.1186/s12906-020-03064-6 的下载状态已更新为 1\n",
      "已经下载105,正在下载10.1007/s00128-015-1653-y\n"
     ]
    },
    {
     "name": "stderr",
     "output_type": "stream",
     "text": [
      "129it [27:32, 14.37s/it]"
     ]
    },
    {
     "name": "stdout",
     "output_type": "stream",
     "text": [
      "文件 SL01-129-J.pdf 下载成功！\n",
      "下载DOI为10.1007/s00128-015-1653-y的论文成功。\n",
      "文献DOI为 10.1007/s00128-015-1653-y 的下载状态已更新为 1\n",
      "已经下载106,正在下载10.3390/biomedicines2020132\n"
     ]
    },
    {
     "name": "stderr",
     "output_type": "stream",
     "text": [
      "130it [27:38, 12.02s/it]"
     ]
    },
    {
     "name": "stdout",
     "output_type": "stream",
     "text": [
      "下载DOI为10.3390/biomedicines2020132的论文成功。\n",
      "文献DOI为 10.3390/biomedicines2020132 的下载状态已更新为 1\n",
      "已经下载107,正在下载10.1007/s00244-008-9263-x\n"
     ]
    },
    {
     "name": "stderr",
     "output_type": "stream",
     "text": [
      "131it [27:47, 10.93s/it]"
     ]
    },
    {
     "name": "stdout",
     "output_type": "stream",
     "text": [
      "文件 SL01-131-J.pdf 下载成功！\n",
      "下载DOI为10.1007/s00244-008-9263-x的论文成功。\n",
      "文献DOI为 10.1007/s00244-008-9263-x 的下载状态已更新为 1\n",
      "已经下载108,正在下载10.1897/1551-5028(2001)020<2482:dbaact>2.0.co;2\n"
     ]
    },
    {
     "name": "stderr",
     "output_type": "stream",
     "text": [
      "132it [27:50,  8.72s/it]"
     ]
    },
    {
     "name": "stdout",
     "output_type": "stream",
     "text": [
      "未找到下载链接。\n",
      "文献DOI为 10.1897/1551-5028(2001)020<2482:dbaact>2.0.co;2 的下载状态已更新为 2\n",
      "已经下载108,正在下载10.1089/jmf.2013.0134\n"
     ]
    },
    {
     "name": "stderr",
     "output_type": "stream",
     "text": [
      "133it [27:57,  8.16s/it]"
     ]
    },
    {
     "name": "stdout",
     "output_type": "stream",
     "text": [
      "文件 SL01-133-J.pdf 下载成功！\n",
      "下载DOI为10.1089/jmf.2013.0134的论文成功。\n",
      "文献DOI为 10.1089/jmf.2013.0134 的下载状态已更新为 1\n",
      "已经下载109,正在下载10.1016/j.jep.2023.116494\n"
     ]
    },
    {
     "name": "stderr",
     "output_type": "stream",
     "text": [
      "134it [28:01,  6.96s/it]"
     ]
    },
    {
     "name": "stdout",
     "output_type": "stream",
     "text": [
      "未找到下载链接。\n",
      "文献DOI为 10.1016/j.jep.2023.116494 的下载状态已更新为 2\n",
      "已经下载109,正在下载10.2166/wst.2010.430\n"
     ]
    },
    {
     "name": "stderr",
     "output_type": "stream",
     "text": [
      "135it [28:09,  7.17s/it]"
     ]
    },
    {
     "name": "stdout",
     "output_type": "stream",
     "text": [
      "文件 SL01-135-J.pdf 下载成功！\n",
      "下载DOI为10.2166/wst.2010.430的论文成功。\n",
      "文献DOI为 10.2166/wst.2010.430 的下载状态已更新为 1\n",
      "已经下载110,正在下载10.1039/c5nr01133g\n"
     ]
    },
    {
     "name": "stderr",
     "output_type": "stream",
     "text": [
      "136it [29:01, 20.76s/it]"
     ]
    },
    {
     "name": "stdout",
     "output_type": "stream",
     "text": [
      "下载DOI为10.1039/c5nr01133g的论文成功。\n",
      "文献DOI为 10.1039/c5nr01133g 的下载状态已更新为 1\n",
      "已经下载111,正在下载10.3390/ph15060661\n"
     ]
    },
    {
     "name": "stderr",
     "output_type": "stream",
     "text": [
      "137it [29:22, 20.73s/it]"
     ]
    },
    {
     "name": "stdout",
     "output_type": "stream",
     "text": [
      "下载DOI为10.3390/ph15060661的论文成功。\n",
      "文献DOI为 10.3390/ph15060661 的下载状态已更新为 1\n",
      "已经下载112,正在下载10.1016/j.jep.2011.01.045\n"
     ]
    },
    {
     "name": "stderr",
     "output_type": "stream",
     "text": [
      "138it [29:28, 16.36s/it]"
     ]
    },
    {
     "name": "stdout",
     "output_type": "stream",
     "text": [
      "文件 SL01-138-J.pdf 下载成功！\n",
      "下载DOI为10.1016/j.jep.2011.01.045的论文成功。\n",
      "文献DOI为 10.1016/j.jep.2011.01.045 的下载状态已更新为 1\n",
      "已经下载113,正在下载10.1016/j.ejmech.2014.02.065\n"
     ]
    },
    {
     "name": "stderr",
     "output_type": "stream",
     "text": [
      "139it [29:36, 13.79s/it]"
     ]
    },
    {
     "name": "stdout",
     "output_type": "stream",
     "text": [
      "文件 SL01-139-J.pdf 下载成功！\n",
      "下载DOI为10.1016/j.ejmech.2014.02.065的论文成功。\n",
      "文献DOI为 10.1016/j.ejmech.2014.02.065 的下载状态已更新为 1\n",
      "已经下载114,正在下载10.3402/ehtj.v4i0.7107\n"
     ]
    },
    {
     "name": "stderr",
     "output_type": "stream",
     "text": [
      "140it [29:49, 13.60s/it]"
     ]
    },
    {
     "name": "stdout",
     "output_type": "stream",
     "text": [
      "下载DOI为10.3402/ehtj.v4i0.7107的论文成功。\n",
      "文献DOI为 10.3402/ehtj.v4i0.7107 的下载状态已更新为 1\n",
      "已经下载115,正在下载10.1007/s00244-007-9018-0\n"
     ]
    },
    {
     "name": "stderr",
     "output_type": "stream",
     "text": [
      "141it [29:56, 11.53s/it]"
     ]
    },
    {
     "name": "stdout",
     "output_type": "stream",
     "text": [
      "文件 SL01-141-J.pdf 下载成功！\n",
      "下载DOI为10.1007/s00244-007-9018-0的论文成功。\n",
      "文献DOI为 10.1007/s00244-007-9018-0 的下载状态已更新为 1\n",
      "已经下载116,正在下载10.1016/j.jhazmat.2018.07.102\n"
     ]
    },
    {
     "name": "stderr",
     "output_type": "stream",
     "text": [
      "142it [30:03, 10.21s/it]"
     ]
    },
    {
     "name": "stdout",
     "output_type": "stream",
     "text": [
      "文件 SL01-142-J.pdf 下载成功！\n",
      "下载DOI为10.1016/j.jhazmat.2018.07.102的论文成功。\n",
      "文献DOI为 10.1016/j.jhazmat.2018.07.102 的下载状态已更新为 1\n",
      "已经下载117,正在下载10.1002/jat.4516\n"
     ]
    },
    {
     "name": "stderr",
     "output_type": "stream",
     "text": [
      "143it [30:08,  8.62s/it]"
     ]
    },
    {
     "name": "stdout",
     "output_type": "stream",
     "text": [
      "未找到下载链接。\n",
      "文献DOI为 10.1002/jat.4516 的下载状态已更新为 2\n",
      "已经下载117,正在下载10.1007/s43188-024-00227-2\n"
     ]
    },
    {
     "name": "stderr",
     "output_type": "stream",
     "text": [
      "144it [31:40, 33.76s/it]"
     ]
    },
    {
     "name": "stdout",
     "output_type": "stream",
     "text": [
      "下载DOI为10.1007/s43188-024-00227-2的论文成功。\n",
      "文献DOI为 10.1007/s43188-024-00227-2 的下载状态已更新为 1\n",
      "已经下载118,正在下载10.2460/ajvr.2000.61.425\n"
     ]
    },
    {
     "name": "stderr",
     "output_type": "stream",
     "text": [
      "145it [31:47, 25.52s/it]"
     ]
    },
    {
     "name": "stdout",
     "output_type": "stream",
     "text": [
      "文件 SL01-145-J.pdf 下载成功！\n",
      "下载DOI为10.2460/ajvr.2000.61.425的论文成功。\n",
      "文献DOI为 10.2460/ajvr.2000.61.425 的下载状态已更新为 1\n",
      "已经下载119,正在下载10.3390/ijms21249616\n"
     ]
    },
    {
     "name": "stderr",
     "output_type": "stream",
     "text": [
      "146it [31:51, 19.28s/it]"
     ]
    },
    {
     "name": "stdout",
     "output_type": "stream",
     "text": [
      "下载DOI为10.3390/ijms21249616的论文成功。\n",
      "文献DOI为 10.3390/ijms21249616 的下载状态已更新为 1\n",
      "已经下载120,正在下载10.1016/j.yrtph.2021.104980\n"
     ]
    },
    {
     "name": "stderr",
     "output_type": "stream",
     "text": [
      "147it [31:58, 15.56s/it]"
     ]
    },
    {
     "name": "stdout",
     "output_type": "stream",
     "text": [
      "文件 SL01-147-J.pdf 下载成功！\n",
      "下载DOI为10.1016/j.yrtph.2021.104980的论文成功。\n",
      "文献DOI为 10.1016/j.yrtph.2021.104980 的下载状态已更新为 1\n",
      "已经下载121,正在下载10.1021/es104216b\n"
     ]
    },
    {
     "name": "stderr",
     "output_type": "stream",
     "text": [
      "148it [32:06, 13.14s/it]"
     ]
    },
    {
     "name": "stdout",
     "output_type": "stream",
     "text": [
      "文件 SL01-148-J.pdf 下载成功！\n",
      "下载DOI为10.1021/es104216b的论文成功。\n",
      "文献DOI为 10.1021/es104216b 的下载状态已更新为 1\n",
      "已经下载122,正在下载10.1016/j.yrtph.2023.105542\n"
     ]
    },
    {
     "name": "stderr",
     "output_type": "stream",
     "text": [
      "149it [32:10, 10.57s/it]"
     ]
    },
    {
     "name": "stdout",
     "output_type": "stream",
     "text": [
      "未找到下载链接。\n",
      "文献DOI为 10.1016/j.yrtph.2023.105542 的下载状态已更新为 2\n",
      "已经下载122,正在下载10.1016/j.jep.2007.09.022\n"
     ]
    },
    {
     "name": "stderr",
     "output_type": "stream",
     "text": [
      "150it [32:18,  9.77s/it]"
     ]
    },
    {
     "name": "stdout",
     "output_type": "stream",
     "text": [
      "文件 SL01-150-J.pdf 下载成功！\n",
      "下载DOI为10.1016/j.jep.2007.09.022的论文成功。\n",
      "文献DOI为 10.1016/j.jep.2007.09.022 的下载状态已更新为 1\n",
      "已经下载123,正在下载10.1016/j.jep.2009.08.047\n"
     ]
    },
    {
     "name": "stderr",
     "output_type": "stream",
     "text": [
      "151it [32:25,  8.84s/it]"
     ]
    },
    {
     "name": "stdout",
     "output_type": "stream",
     "text": [
      "文件 SL01-151-J.pdf 下载成功！\n",
      "下载DOI为10.1016/j.jep.2009.08.047的论文成功。\n",
      "文献DOI为 10.1016/j.jep.2009.08.047 的下载状态已更新为 1\n",
      "已经下载124,正在下载10.1007/s13659-020-00246-0\n"
     ]
    },
    {
     "name": "stderr",
     "output_type": "stream",
     "text": [
      "152it [33:52, 32.24s/it]"
     ]
    },
    {
     "name": "stdout",
     "output_type": "stream",
     "text": [
      "下载DOI为10.1007/s13659-020-00246-0的论文成功。\n",
      "文献DOI为 10.1007/s13659-020-00246-0 的下载状态已更新为 1\n",
      "已经下载125,正在下载10.1271/bbb.100121\n"
     ]
    },
    {
     "name": "stderr",
     "output_type": "stream",
     "text": [
      "153it [34:03, 25.93s/it]"
     ]
    },
    {
     "name": "stdout",
     "output_type": "stream",
     "text": [
      "下载DOI为10.1271/bbb.100121的论文成功。\n",
      "文献DOI为 10.1271/bbb.100121 的下载状态已更新为 1\n",
      "已经下载126,正在下载10.1002/etc.3744\n"
     ]
    },
    {
     "name": "stderr",
     "output_type": "stream",
     "text": [
      "155it [34:11, 15.74s/it]"
     ]
    },
    {
     "name": "stdout",
     "output_type": "stream",
     "text": [
      "文件 SL01-155-J.pdf 下载成功！\n",
      "下载DOI为10.1002/etc.3744的论文成功。\n",
      "文献DOI为 10.1002/etc.3744 的下载状态已更新为 1\n",
      "已经下载127,正在下载10.1155/2005/763623\n"
     ]
    },
    {
     "name": "stderr",
     "output_type": "stream",
     "text": [
      "156it [34:16, 13.07s/it]"
     ]
    },
    {
     "name": "stdout",
     "output_type": "stream",
     "text": [
      "下载DOI为10.1155/2005/763623的论文成功。\n",
      "文献DOI为 10.1155/2005/763623 的下载状态已更新为 1\n",
      "已经下载128,正在下载10.1016/j.ecoenv.2018.11.116\n"
     ]
    },
    {
     "name": "stderr",
     "output_type": "stream",
     "text": [
      "157it [34:36, 15.09s/it]"
     ]
    },
    {
     "name": "stdout",
     "output_type": "stream",
     "text": [
      "下载DOI为10.1016/j.ecoenv.2018.11.116的论文成功。\n",
      "文献DOI为 10.1016/j.ecoenv.2018.11.116 的下载状态已更新为 1\n",
      "已经下载129,正在下载10.1007/978-1-4939-8916-4_21\n"
     ]
    },
    {
     "name": "stderr",
     "output_type": "stream",
     "text": [
      "158it [34:42, 12.58s/it]"
     ]
    },
    {
     "name": "stdout",
     "output_type": "stream",
     "text": [
      "文件 SL01-158-J.pdf 下载成功！\n",
      "下载DOI为10.1007/978-1-4939-8916-4_21的论文成功。\n",
      "文献DOI为 10.1007/978-1-4939-8916-4_21 的下载状态已更新为 1\n",
      "已经下载130,正在下载10.1089/hum.2005.16.1\n"
     ]
    },
    {
     "name": "stderr",
     "output_type": "stream",
     "text": [
      "159it [34:50, 11.17s/it]"
     ]
    },
    {
     "name": "stdout",
     "output_type": "stream",
     "text": [
      "文件 SL01-159-J.pdf 下载成功！\n",
      "下载DOI为10.1089/hum.2005.16.1的论文成功。\n",
      "文献DOI为 10.1089/hum.2005.16.1 的下载状态已更新为 1\n",
      "已经下载131,正在下载10.1016/j.yrtph.2019.01.018\n"
     ]
    },
    {
     "name": "stderr",
     "output_type": "stream",
     "text": [
      "160it [34:57, 10.04s/it]"
     ]
    },
    {
     "name": "stdout",
     "output_type": "stream",
     "text": [
      "文件 SL01-160-J.pdf 下载成功！\n",
      "下载DOI为10.1016/j.yrtph.2019.01.018的论文成功。\n",
      "文献DOI为 10.1016/j.yrtph.2019.01.018 的下载状态已更新为 1\n",
      "已经下载132,正在下载10.1016/j.marpolbul.2020.111341\n"
     ]
    },
    {
     "name": "stderr",
     "output_type": "stream",
     "text": [
      "161it [35:05,  9.43s/it]"
     ]
    },
    {
     "name": "stdout",
     "output_type": "stream",
     "text": [
      "文件 SL01-161-J.pdf 下载成功！\n",
      "下载DOI为10.1016/j.marpolbul.2020.111341的论文成功。\n",
      "文献DOI为 10.1016/j.marpolbul.2020.111341 的下载状态已更新为 1\n",
      "已经下载133,正在下载10.1016/j.scitotenv.2023.164541\n"
     ]
    },
    {
     "name": "stderr",
     "output_type": "stream",
     "text": [
      "162it [35:09,  7.93s/it]"
     ]
    },
    {
     "name": "stdout",
     "output_type": "stream",
     "text": [
      "未找到下载链接。\n",
      "文献DOI为 10.1016/j.scitotenv.2023.164541 的下载状态已更新为 2\n",
      "已经下载133,正在下载10.1007/s12010-016-2166-9\n"
     ]
    },
    {
     "name": "stderr",
     "output_type": "stream",
     "text": [
      "163it [35:16,  7.57s/it]"
     ]
    },
    {
     "name": "stdout",
     "output_type": "stream",
     "text": [
      "文件 SL01-163-J.pdf 下载成功！\n",
      "下载DOI为10.1007/s12010-016-2166-9的论文成功。\n",
      "文献DOI为 10.1007/s12010-016-2166-9 的下载状态已更新为 1\n",
      "已经下载134,正在下载10.1002/etc.5275\n",
      "下载失败。\n"
     ]
    },
    {
     "name": "stderr",
     "output_type": "stream",
     "text": [
      "164it [35:22,  7.14s/it]"
     ]
    },
    {
     "name": "stdout",
     "output_type": "stream",
     "text": [
      "下载失败。\n",
      "请求失败。\n",
      "文献DOI为 10.1002/etc.5275 的下载状态已更新为 2\n",
      "已经下载134,正在下载10.1016/j.yrtph.2018.04.010\n"
     ]
    },
    {
     "name": "stderr",
     "output_type": "stream",
     "text": [
      "166it [35:30,  5.69s/it]"
     ]
    },
    {
     "name": "stdout",
     "output_type": "stream",
     "text": [
      "文件 SL01-166-J.pdf 下载成功！\n",
      "下载DOI为10.1016/j.yrtph.2018.04.010的论文成功。\n",
      "文献DOI为 10.1016/j.yrtph.2018.04.010 的下载状态已更新为 1\n",
      "已经下载135,正在下载10.1016/j.fct.2015.12.015\n"
     ]
    },
    {
     "name": "stderr",
     "output_type": "stream",
     "text": [
      "167it [35:39,  6.38s/it]"
     ]
    },
    {
     "name": "stdout",
     "output_type": "stream",
     "text": [
      "文件 SL01-167-J.pdf 下载成功！\n",
      "下载DOI为10.1016/j.fct.2015.12.015的论文成功。\n",
      "文献DOI为 10.1016/j.fct.2015.12.015 的下载状态已更新为 1\n",
      "已经下载136,正在下载10.1016/j.jhazmat.2016.01.061\n"
     ]
    },
    {
     "name": "stderr",
     "output_type": "stream",
     "text": [
      "169it [35:46,  5.24s/it]"
     ]
    },
    {
     "name": "stdout",
     "output_type": "stream",
     "text": [
      "文件 SL01-169-J.pdf 下载成功！\n",
      "下载DOI为10.1016/j.jhazmat.2016.01.061的论文成功。\n",
      "文献DOI为 10.1016/j.jhazmat.2016.01.061 的下载状态已更新为 1\n",
      "已经下载137,正在下载10.1186/s12906-015-0885-z\n"
     ]
    },
    {
     "name": "stderr",
     "output_type": "stream",
     "text": [
      "170it [41:06, 76.96s/it]"
     ]
    },
    {
     "name": "stdout",
     "output_type": "stream",
     "text": [
      "下载DOI为10.1186/s12906-015-0885-z的论文成功。\n",
      "文献DOI为 10.1186/s12906-015-0885-z 的下载状态已更新为 1\n",
      "已经下载138,正在下载10.1155/2024/3769933\n"
     ]
    },
    {
     "name": "stderr",
     "output_type": "stream",
     "text": [
      "171it [41:14, 60.21s/it]"
     ]
    },
    {
     "name": "stdout",
     "output_type": "stream",
     "text": [
      "下载DOI为10.1155/2024/3769933的论文成功。\n",
      "文献DOI为 10.1155/2024/3769933 的下载状态已更新为 1\n",
      "已经下载139,正在下载10.12122/j.issn.1673-4254.2018.12.21\n"
     ]
    },
    {
     "name": "stderr",
     "output_type": "stream",
     "text": [
      "172it [41:41, 51.53s/it]"
     ]
    },
    {
     "name": "stdout",
     "output_type": "stream",
     "text": [
      "下载DOI为10.12122/j.issn.1673-4254.2018.12.21的论文成功。\n",
      "文献DOI为 10.12122/j.issn.1673-4254.2018.12.21 的下载状态已更新为 1\n",
      "已经下载140,正在下载10.1016/j.fct.2013.12.041\n"
     ]
    },
    {
     "name": "stderr",
     "output_type": "stream",
     "text": [
      "173it [41:51, 40.16s/it]"
     ]
    },
    {
     "name": "stdout",
     "output_type": "stream",
     "text": [
      "文件 SL01-173-J.pdf 下载成功！\n",
      "下载DOI为10.1016/j.fct.2013.12.041的论文成功。\n",
      "文献DOI为 10.1016/j.fct.2013.12.041 的下载状态已更新为 1\n",
      "已经下载141,正在下载10.1897/07-069R.1\n"
     ]
    },
    {
     "name": "stderr",
     "output_type": "stream",
     "text": [
      "174it [41:59, 31.22s/it]"
     ]
    },
    {
     "name": "stdout",
     "output_type": "stream",
     "text": [
      "文件 SL01-174-J.pdf 下载成功！\n",
      "下载DOI为10.1897/07-069R.1的论文成功。\n",
      "文献DOI为 10.1897/07-069R.1 的下载状态已更新为 1\n",
      "已经下载142,正在下载10.1016/j.toxrep.2022.02.008\n"
     ]
    },
    {
     "name": "stderr",
     "output_type": "stream",
     "text": [
      "177it [42:07, 15.69s/it]"
     ]
    },
    {
     "name": "stdout",
     "output_type": "stream",
     "text": [
      "下载DOI为10.1016/j.toxrep.2022.02.008的论文成功。\n",
      "文献DOI为 10.1016/j.toxrep.2022.02.008 的下载状态已更新为 1\n",
      "已经下载143,正在下载10.1002/ieam.4391\n"
     ]
    },
    {
     "name": "stderr",
     "output_type": "stream",
     "text": [
      "178it [42:14, 14.00s/it]"
     ]
    },
    {
     "name": "stdout",
     "output_type": "stream",
     "text": [
      "文件 SL01-178-J.pdf 下载成功！\n",
      "下载DOI为10.1002/ieam.4391的论文成功。\n",
      "文献DOI为 10.1002/ieam.4391 的下载状态已更新为 1\n",
      "已经下载144,正在下载10.1002/etc.5005\n"
     ]
    },
    {
     "name": "stderr",
     "output_type": "stream",
     "text": [
      "179it [42:21, 12.30s/it]"
     ]
    },
    {
     "name": "stdout",
     "output_type": "stream",
     "text": [
      "文件 SL01-179-J.pdf 下载成功！\n",
      "下载DOI为10.1002/etc.5005的论文成功。\n",
      "文献DOI为 10.1002/etc.5005 的下载状态已更新为 1\n",
      "已经下载145,正在下载10.1186/s12906-016-1236-4\n"
     ]
    },
    {
     "name": "stderr",
     "output_type": "stream",
     "text": [
      "180it [43:51, 31.34s/it]"
     ]
    },
    {
     "name": "stdout",
     "output_type": "stream",
     "text": [
      "下载DOI为10.1186/s12906-016-1236-4的论文成功。\n",
      "文献DOI为 10.1186/s12906-016-1236-4 的下载状态已更新为 1\n",
      "已经下载146,正在下载10.1016/j.ecoenv.2023.115520\n"
     ]
    },
    {
     "name": "stderr",
     "output_type": "stream",
     "text": [
      "181it [43:55, 24.30s/it]"
     ]
    },
    {
     "name": "stdout",
     "output_type": "stream",
     "text": [
      "未找到下载链接。\n",
      "文献DOI为 10.1016/j.ecoenv.2023.115520 的下载状态已更新为 2\n",
      "已经下载146,正在下载10.1016/j.yrtph.2019.03.010\n"
     ]
    },
    {
     "name": "stderr",
     "output_type": "stream",
     "text": [
      "182it [44:03, 19.96s/it]"
     ]
    },
    {
     "name": "stdout",
     "output_type": "stream",
     "text": [
      "文件 SL01-182-J.pdf 下载成功！\n",
      "下载DOI为10.1016/j.yrtph.2019.03.010的论文成功。\n",
      "文献DOI为 10.1016/j.yrtph.2019.03.010 的下载状态已更新为 1\n",
      "已经下载147,正在下载10.1016/j.chemosphere.2022.135959\n"
     ]
    },
    {
     "name": "stderr",
     "output_type": "stream",
     "text": [
      "183it [44:07, 15.52s/it]"
     ]
    },
    {
     "name": "stdout",
     "output_type": "stream",
     "text": [
      "未找到下载链接。\n",
      "文献DOI为 10.1016/j.chemosphere.2022.135959 的下载状态已更新为 2\n",
      "已经下载147,正在下载10.1016/j.envres.2020.110705\n"
     ]
    },
    {
     "name": "stderr",
     "output_type": "stream",
     "text": [
      "184it [44:16, 13.62s/it]"
     ]
    },
    {
     "name": "stdout",
     "output_type": "stream",
     "text": [
      "文件 SL01-184-J.pdf 下载成功！\n",
      "下载DOI为10.1016/j.envres.2020.110705的论文成功。\n",
      "文献DOI为 10.1016/j.envres.2020.110705 的下载状态已更新为 1\n",
      "已经下载148,正在下载10.1016/j.ecoenv.2016.09.006\n"
     ]
    },
    {
     "name": "stderr",
     "output_type": "stream",
     "text": [
      "185it [44:23, 11.67s/it]"
     ]
    },
    {
     "name": "stdout",
     "output_type": "stream",
     "text": [
      "文件 SL01-185-J.pdf 下载成功！\n",
      "下载DOI为10.1016/j.ecoenv.2016.09.006的论文成功。\n",
      "文献DOI为 10.1016/j.ecoenv.2016.09.006 的下载状态已更新为 1\n",
      "已经下载149,正在下载10.1016/j.aquatox.2015.05.005\n"
     ]
    },
    {
     "name": "stderr",
     "output_type": "stream",
     "text": [
      "186it [44:33, 11.08s/it]"
     ]
    },
    {
     "name": "stdout",
     "output_type": "stream",
     "text": [
      "文件 SL01-186-J.pdf 下载成功！\n",
      "下载DOI为10.1016/j.aquatox.2015.05.005的论文成功。\n",
      "文献DOI为 10.1016/j.aquatox.2015.05.005 的下载状态已更新为 1\n",
      "已经下载150,正在下载10.1016/j.fct.2021.112060\n"
     ]
    },
    {
     "name": "stderr",
     "output_type": "stream",
     "text": [
      "187it [44:41, 10.15s/it]"
     ]
    },
    {
     "name": "stdout",
     "output_type": "stream",
     "text": [
      "文件 SL01-187-J.pdf 下载成功！\n",
      "下载DOI为10.1016/j.fct.2021.112060的论文成功。\n",
      "文献DOI为 10.1016/j.fct.2021.112060 的下载状态已更新为 1\n",
      "已经下载151,正在下载10.1002/etc.1910\n"
     ]
    },
    {
     "name": "stderr",
     "output_type": "stream",
     "text": [
      "188it [44:48,  9.17s/it]"
     ]
    },
    {
     "name": "stdout",
     "output_type": "stream",
     "text": [
      "文件 SL01-188-J.pdf 下载成功！\n",
      "下载DOI为10.1002/etc.1910的论文成功。\n",
      "文献DOI为 10.1002/etc.1910 的下载状态已更新为 1\n",
      "已经下载152,正在下载10.1080/21505594.2016.1195537\n"
     ]
    },
    {
     "name": "stderr",
     "output_type": "stream",
     "text": [
      "189it [45:07, 12.15s/it]"
     ]
    },
    {
     "name": "stdout",
     "output_type": "stream",
     "text": [
      "下载DOI为10.1080/21505594.2016.1195537的论文成功。\n",
      "文献DOI为 10.1080/21505594.2016.1195537 的下载状态已更新为 1\n",
      "已经下载153,正在下载10.1016/j.chemosphere.2021.132356\n"
     ]
    },
    {
     "name": "stderr",
     "output_type": "stream",
     "text": [
      "190it [45:11,  9.90s/it]"
     ]
    },
    {
     "name": "stdout",
     "output_type": "stream",
     "text": [
      "未找到下载链接。\n",
      "文献DOI为 10.1016/j.chemosphere.2021.132356 的下载状态已更新为 2\n",
      "已经下载153,正在下载10.1016/j.marpolbul.2021.111970\n"
     ]
    },
    {
     "name": "stderr",
     "output_type": "stream",
     "text": [
      "191it [45:19,  9.15s/it]"
     ]
    },
    {
     "name": "stdout",
     "output_type": "stream",
     "text": [
      "文件 SL01-191-J.pdf 下载成功！\n",
      "下载DOI为10.1016/j.marpolbul.2021.111970的论文成功。\n",
      "文献DOI为 10.1016/j.marpolbul.2021.111970 的下载状态已更新为 1\n",
      "已经下载154,正在下载10.1016/j.cbpc.2021.109264\n",
      "下载失败。\n"
     ]
    },
    {
     "name": "stderr",
     "output_type": "stream",
     "text": [
      "192it [45:25,  8.29s/it]"
     ]
    },
    {
     "name": "stdout",
     "output_type": "stream",
     "text": [
      "下载失败。\n",
      "请求失败。\n",
      "文献DOI为 10.1016/j.cbpc.2021.109264 的下载状态已更新为 2\n",
      "已经下载154,正在下载10.1007/s12602-016-9249-3\n"
     ]
    },
    {
     "name": "stderr",
     "output_type": "stream",
     "text": [
      "193it [45:37,  9.52s/it]"
     ]
    },
    {
     "name": "stdout",
     "output_type": "stream",
     "text": [
      "文件 SL01-193-J.pdf 下载成功！\n",
      "下载DOI为10.1007/s12602-016-9249-3的论文成功。\n",
      "文献DOI为 10.1007/s12602-016-9249-3 的下载状态已更新为 1\n",
      "已经下载155,正在下载10.1007/s10068-020-00855-y\n"
     ]
    },
    {
     "name": "stderr",
     "output_type": "stream",
     "text": [
      "194it [45:55, 11.94s/it]"
     ]
    },
    {
     "name": "stdout",
     "output_type": "stream",
     "text": [
      "下载DOI为10.1007/s10068-020-00855-y的论文成功。\n",
      "文献DOI为 10.1007/s10068-020-00855-y 的下载状态已更新为 1\n",
      "已经下载156,正在下载10.1080/1062936X.2018.1545694\n"
     ]
    },
    {
     "name": "stderr",
     "output_type": "stream",
     "text": [
      "195it [46:02, 10.62s/it]"
     ]
    },
    {
     "name": "stdout",
     "output_type": "stream",
     "text": [
      "文件 SL01-195-J.pdf 下载成功！\n",
      "下载DOI为10.1080/1062936X.2018.1545694的论文成功。\n",
      "文献DOI为 10.1080/1062936X.2018.1545694 的下载状态已更新为 1\n",
      "已经下载157,正在下载10.2903/j.efsa.2019.5574\n"
     ]
    },
    {
     "name": "stderr",
     "output_type": "stream",
     "text": [
      "196it [47:10, 27.64s/it]"
     ]
    },
    {
     "name": "stdout",
     "output_type": "stream",
     "text": [
      "下载DOI为10.2903/j.efsa.2019.5574的论文成功。\n",
      "文献DOI为 10.2903/j.efsa.2019.5574 的下载状态已更新为 1\n",
      "已经下载158,正在下载10.1016/j.watres.2020.116549\n"
     ]
    },
    {
     "name": "stderr",
     "output_type": "stream",
     "text": [
      "197it [47:18, 21.79s/it]"
     ]
    },
    {
     "name": "stdout",
     "output_type": "stream",
     "text": [
      "文件 SL01-197-J.pdf 下载成功！\n",
      "下载DOI为10.1016/j.watres.2020.116549的论文成功。\n",
      "文献DOI为 10.1016/j.watres.2020.116549 的下载状态已更新为 1\n",
      "已经下载159,正在下载10.1016/j.jhazmat.2015.04.012\n"
     ]
    },
    {
     "name": "stderr",
     "output_type": "stream",
     "text": [
      "198it [47:26, 17.76s/it]"
     ]
    },
    {
     "name": "stdout",
     "output_type": "stream",
     "text": [
      "文件 SL01-198-J.pdf 下载成功！\n",
      "下载DOI为10.1016/j.jhazmat.2015.04.012的论文成功。\n",
      "文献DOI为 10.1016/j.jhazmat.2015.04.012 的下载状态已更新为 1\n",
      "已经下载160,正在下载10.3390/biomedicines10102595\n"
     ]
    },
    {
     "name": "stderr",
     "output_type": "stream",
     "text": [
      "199it [47:40, 16.61s/it]"
     ]
    },
    {
     "name": "stdout",
     "output_type": "stream",
     "text": [
      "下载DOI为10.3390/biomedicines10102595的论文成功。\n",
      "文献DOI为 10.3390/biomedicines10102595 的下载状态已更新为 1\n",
      "已经下载161,正在下载10.1007/s13205-019-1651-6\n"
     ]
    },
    {
     "name": "stderr",
     "output_type": "stream",
     "text": [
      "200it [48:23, 24.29s/it]"
     ]
    },
    {
     "name": "stdout",
     "output_type": "stream",
     "text": [
      "下载DOI为10.1007/s13205-019-1651-6的论文成功。\n",
      "文献DOI为 10.1007/s13205-019-1651-6 的下载状态已更新为 1\n",
      "已经下载162,正在下载10.1016/j.ijrobp.2007.10.014\n"
     ]
    },
    {
     "name": "stderr",
     "output_type": "stream",
     "text": [
      "201it [48:32, 19.91s/it]"
     ]
    },
    {
     "name": "stdout",
     "output_type": "stream",
     "text": [
      "文件 SL01-201-J.pdf 下载成功！\n",
      "下载DOI为10.1016/j.ijrobp.2007.10.014的论文成功。\n",
      "文献DOI为 10.1016/j.ijrobp.2007.10.014 的下载状态已更新为 1\n",
      "已经下载163,正在下载10.1002/etc.2963\n"
     ]
    },
    {
     "name": "stderr",
     "output_type": "stream",
     "text": [
      "202it [48:40, 16.41s/it]"
     ]
    },
    {
     "name": "stdout",
     "output_type": "stream",
     "text": [
      "文件 SL01-202-J.pdf 下载成功！\n",
      "下载DOI为10.1002/etc.2963的论文成功。\n",
      "文献DOI为 10.1002/etc.2963 的下载状态已更新为 1\n",
      "已经下载164,正在下载10.1080/01480545.2020.1822858\n"
     ]
    },
    {
     "name": "stderr",
     "output_type": "stream",
     "text": [
      "203it [48:48, 13.79s/it]"
     ]
    },
    {
     "name": "stdout",
     "output_type": "stream",
     "text": [
      "文件 SL01-203-J.pdf 下载成功！\n",
      "下载DOI为10.1080/01480545.2020.1822858的论文成功。\n",
      "文献DOI为 10.1080/01480545.2020.1822858 的下载状态已更新为 1\n",
      "已经下载165,正在下载10.1078/0944-7113-00317\n"
     ]
    },
    {
     "name": "stderr",
     "output_type": "stream",
     "text": [
      "204it [48:55, 11.77s/it]"
     ]
    },
    {
     "name": "stdout",
     "output_type": "stream",
     "text": [
      "文件 SL01-204-J.pdf 下载成功！\n",
      "下载DOI为10.1078/0944-7113-00317的论文成功。\n",
      "文献DOI为 10.1078/0944-7113-00317 的下载状态已更新为 1\n",
      "已经下载166,正在下载10.1080/15287394.2019.1576563\n"
     ]
    },
    {
     "name": "stderr",
     "output_type": "stream",
     "text": [
      "205it [49:03, 10.67s/it]"
     ]
    },
    {
     "name": "stdout",
     "output_type": "stream",
     "text": [
      "文件 SL01-205-J.pdf 下载成功！\n",
      "下载DOI为10.1080/15287394.2019.1576563的论文成功。\n",
      "文献DOI为 10.1080/15287394.2019.1576563 的下载状态已更新为 1\n",
      "已经下载167,正在下载10.1016/j.mrgentox.2024.503736\n"
     ]
    },
    {
     "name": "stderr",
     "output_type": "stream",
     "text": [
      "206it [49:08,  8.82s/it]"
     ]
    },
    {
     "name": "stdout",
     "output_type": "stream",
     "text": [
      "未找到下载链接。\n",
      "文献DOI为 10.1016/j.mrgentox.2024.503736 的下载状态已更新为 2\n",
      "已经下载167,正在下载10.3390/toxics12030198\n"
     ]
    },
    {
     "name": "stderr",
     "output_type": "stream",
     "text": [
      "207it [49:15,  8.35s/it]"
     ]
    },
    {
     "name": "stdout",
     "output_type": "stream",
     "text": [
      "下载DOI为10.3390/toxics12030198的论文成功。\n",
      "文献DOI为 10.3390/toxics12030198 的下载状态已更新为 1\n",
      "已经下载168,正在下载10.1016/j.toxicon.2020.08.021\n"
     ]
    },
    {
     "name": "stderr",
     "output_type": "stream",
     "text": [
      "208it [49:23,  8.20s/it]"
     ]
    },
    {
     "name": "stdout",
     "output_type": "stream",
     "text": [
      "文件 SL01-208-J.pdf 下载成功！\n",
      "下载DOI为10.1016/j.toxicon.2020.08.021的论文成功。\n",
      "文献DOI为 10.1016/j.toxicon.2020.08.021 的下载状态已更新为 1\n",
      "已经下载169,正在下载10.1007/s11356-020-11420-9\n"
     ]
    },
    {
     "name": "stderr",
     "output_type": "stream",
     "text": [
      "209it [49:35,  9.51s/it]"
     ]
    },
    {
     "name": "stdout",
     "output_type": "stream",
     "text": [
      "下载DOI为10.1007/s11356-020-11420-9的论文成功。\n",
      "文献DOI为 10.1007/s11356-020-11420-9 的下载状态已更新为 1\n",
      "已经下载170,正在下载10.1016/j.cbpc.2022.109485\n",
      "下载失败。\n"
     ]
    },
    {
     "name": "stderr",
     "output_type": "stream",
     "text": [
      "210it [49:41,  8.39s/it]"
     ]
    },
    {
     "name": "stdout",
     "output_type": "stream",
     "text": [
      "下载失败。\n",
      "请求失败。\n",
      "文献DOI为 10.1016/j.cbpc.2022.109485 的下载状态已更新为 2\n",
      "已经下载170,正在下载10.1016/j.jep.2015.06.046\n"
     ]
    },
    {
     "name": "stderr",
     "output_type": "stream",
     "text": [
      "211it [49:50,  8.61s/it]"
     ]
    },
    {
     "name": "stdout",
     "output_type": "stream",
     "text": [
      "文件 SL01-211-J.pdf 下载成功！\n",
      "下载DOI为10.1016/j.jep.2015.06.046的论文成功。\n",
      "文献DOI为 10.1016/j.jep.2015.06.046 的下载状态已更新为 1\n",
      "已经下载171,正在下载10.1007/s10517-024-05990-8\n"
     ]
    },
    {
     "name": "stderr",
     "output_type": "stream",
     "text": [
      "212it [49:54,  7.22s/it]"
     ]
    },
    {
     "name": "stdout",
     "output_type": "stream",
     "text": [
      "未找到下载链接。\n",
      "文献DOI为 10.1007/s10517-024-05990-8 的下载状态已更新为 2\n",
      "已经下载171,正在下载10.1016/j.chemosphere.2011.08.046\n"
     ]
    },
    {
     "name": "stderr",
     "output_type": "stream",
     "text": [
      "213it [50:01,  7.12s/it]"
     ]
    },
    {
     "name": "stdout",
     "output_type": "stream",
     "text": [
      "文件 SL01-213-J.pdf 下载成功！\n",
      "下载DOI为10.1016/j.chemosphere.2011.08.046的论文成功。\n",
      "文献DOI为 10.1016/j.chemosphere.2011.08.046 的下载状态已更新为 1\n",
      "已经下载172,正在下载10.1016/j.fct.2006.07.030\n"
     ]
    },
    {
     "name": "stderr",
     "output_type": "stream",
     "text": [
      "214it [50:10,  7.68s/it]"
     ]
    },
    {
     "name": "stdout",
     "output_type": "stream",
     "text": [
      "文件 SL01-214-J.pdf 下载成功！\n",
      "下载DOI为10.1016/j.fct.2006.07.030的论文成功。\n",
      "文献DOI为 10.1016/j.fct.2006.07.030 的下载状态已更新为 1\n",
      "已经下载173,正在下载10.1016/j.yrtph.2017.07.006\n"
     ]
    },
    {
     "name": "stderr",
     "output_type": "stream",
     "text": [
      "215it [50:19,  7.96s/it]"
     ]
    },
    {
     "name": "stdout",
     "output_type": "stream",
     "text": [
      "文件 SL01-215-J.pdf 下载成功！\n",
      "下载DOI为10.1016/j.yrtph.2017.07.006的论文成功。\n",
      "文献DOI为 10.1016/j.yrtph.2017.07.006 的下载状态已更新为 1\n",
      "已经下载174,正在下载10.1016/j.ijrobp.2015.12.353\n"
     ]
    },
    {
     "name": "stderr",
     "output_type": "stream",
     "text": [
      "216it [50:27,  7.93s/it]"
     ]
    },
    {
     "name": "stdout",
     "output_type": "stream",
     "text": [
      "文件 SL01-216-J.pdf 下载成功！\n",
      "下载DOI为10.1016/j.ijrobp.2015.12.353的论文成功。\n",
      "文献DOI为 10.1016/j.ijrobp.2015.12.353 的下载状态已更新为 1\n",
      "已经下载175,正在下载10.1186/s40360-022-00622-1\n"
     ]
    },
    {
     "name": "stderr",
     "output_type": "stream",
     "text": [
      "217it [50:41,  9.92s/it]"
     ]
    },
    {
     "name": "stdout",
     "output_type": "stream",
     "text": [
      "下载DOI为10.1186/s40360-022-00622-1的论文成功。\n",
      "文献DOI为 10.1186/s40360-022-00622-1 的下载状态已更新为 1\n",
      "已经下载176,正在下载10.1016/j.etap.2022.103917\n",
      "下载失败。\n"
     ]
    },
    {
     "name": "stderr",
     "output_type": "stream",
     "text": [
      "218it [50:48,  8.86s/it]"
     ]
    },
    {
     "name": "stdout",
     "output_type": "stream",
     "text": [
      "下载失败。\n",
      "请求失败。\n",
      "文献DOI为 10.1016/j.etap.2022.103917 的下载状态已更新为 2\n",
      "已经下载176,正在下载10.1016/j.chemosphere.2012.11.043\n"
     ]
    },
    {
     "name": "stderr",
     "output_type": "stream",
     "text": [
      "219it [50:59,  9.75s/it]"
     ]
    },
    {
     "name": "stdout",
     "output_type": "stream",
     "text": [
      "文件 SL01-219-J.pdf 下载成功！\n",
      "下载DOI为10.1016/j.chemosphere.2012.11.043的论文成功。\n",
      "文献DOI为 10.1016/j.chemosphere.2012.11.043 的下载状态已更新为 1\n",
      "已经下载177,正在下载10.1016/j.cbi.2024.110951\n"
     ]
    },
    {
     "name": "stderr",
     "output_type": "stream",
     "text": [
      "220it [51:09,  9.63s/it]"
     ]
    },
    {
     "name": "stdout",
     "output_type": "stream",
     "text": [
      "未找到下载链接。\n",
      "文献DOI为 10.1016/j.cbi.2024.110951 的下载状态已更新为 2\n",
      "已经下载177,正在下载10.1016/j.scitotenv.2019.02.418\n"
     ]
    },
    {
     "name": "stderr",
     "output_type": "stream",
     "text": [
      "222it [51:17,  6.98s/it]"
     ]
    },
    {
     "name": "stdout",
     "output_type": "stream",
     "text": [
      "文件 SL01-222-J.pdf 下载成功！\n",
      "下载DOI为10.1016/j.scitotenv.2019.02.418的论文成功。\n",
      "文献DOI为 10.1016/j.scitotenv.2019.02.418 的下载状态已更新为 1\n",
      "已经下载178,正在下载10.1007/s00244-014-0091-x\n"
     ]
    },
    {
     "name": "stderr",
     "output_type": "stream",
     "text": [
      "223it [51:24,  7.13s/it]"
     ]
    },
    {
     "name": "stdout",
     "output_type": "stream",
     "text": [
      "文件 SL01-223-J.pdf 下载成功！\n",
      "下载DOI为10.1007/s00244-014-0091-x的论文成功。\n",
      "文献DOI为 10.1007/s00244-014-0091-x 的下载状态已更新为 1\n",
      "已经下载179,正在下载10.1007/s10646-012-0998-9\n"
     ]
    },
    {
     "name": "stderr",
     "output_type": "stream",
     "text": [
      "224it [51:34,  7.81s/it]"
     ]
    },
    {
     "name": "stdout",
     "output_type": "stream",
     "text": [
      "下载DOI为10.1007/s10646-012-0998-9的论文成功。\n",
      "文献DOI为 10.1007/s10646-012-0998-9 的下载状态已更新为 1\n",
      "已经下载180,正在下载10.1007/s00244-014-0005-y\n"
     ]
    },
    {
     "name": "stderr",
     "output_type": "stream",
     "text": [
      "225it [51:41,  7.71s/it]"
     ]
    },
    {
     "name": "stdout",
     "output_type": "stream",
     "text": [
      "文件 SL01-225-J.pdf 下载成功！\n",
      "下载DOI为10.1007/s00244-014-0005-y的论文成功。\n",
      "文献DOI为 10.1007/s00244-014-0005-y 的下载状态已更新为 1\n",
      "已经下载181,正在下载10.1016/j.ecoenv.2009.09.001\n"
     ]
    },
    {
     "name": "stderr",
     "output_type": "stream",
     "text": [
      "226it [51:50,  7.89s/it]"
     ]
    },
    {
     "name": "stdout",
     "output_type": "stream",
     "text": [
      "文件 SL01-226-J.pdf 下载成功！\n",
      "下载DOI为10.1016/j.ecoenv.2009.09.001的论文成功。\n",
      "文献DOI为 10.1016/j.ecoenv.2009.09.001 的下载状态已更新为 1\n",
      "已经下载182,正在下载10.1007/s11356-008-0018-z\n"
     ]
    },
    {
     "name": "stderr",
     "output_type": "stream",
     "text": [
      "227it [51:57,  7.64s/it]"
     ]
    },
    {
     "name": "stdout",
     "output_type": "stream",
     "text": [
      "文件 SL01-227-J.pdf 下载成功！\n",
      "下载DOI为10.1007/s11356-008-0018-z的论文成功。\n",
      "文献DOI为 10.1007/s11356-008-0018-z 的下载状态已更新为 1\n",
      "已经下载183,正在下载10.3390/insects13020184\n"
     ]
    },
    {
     "name": "stderr",
     "output_type": "stream",
     "text": [
      "228it [52:04,  7.40s/it]"
     ]
    },
    {
     "name": "stdout",
     "output_type": "stream",
     "text": [
      "下载DOI为10.3390/insects13020184的论文成功。\n",
      "文献DOI为 10.3390/insects13020184 的下载状态已更新为 1\n",
      "已经下载184,正在下载10.3389/fphar.2022.980918\n"
     ]
    },
    {
     "name": "stderr",
     "output_type": "stream",
     "text": [
      "229it [52:12,  7.57s/it]"
     ]
    },
    {
     "name": "stdout",
     "output_type": "stream",
     "text": [
      "下载DOI为10.3389/fphar.2022.980918的论文成功。\n",
      "文献DOI为 10.3389/fphar.2022.980918 的下载状态已更新为 1\n",
      "已经下载185,正在下载10.1016/j.fct.2016.03.014\n"
     ]
    },
    {
     "name": "stderr",
     "output_type": "stream",
     "text": [
      "230it [52:20,  7.88s/it]"
     ]
    },
    {
     "name": "stdout",
     "output_type": "stream",
     "text": [
      "文件 SL01-230-J.pdf 下载成功！\n",
      "下载DOI为10.1016/j.fct.2016.03.014的论文成功。\n",
      "文献DOI为 10.1016/j.fct.2016.03.014 的下载状态已更新为 1\n",
      "已经下载186,正在下载10.1016/j.envpol.2019.03.077\n"
     ]
    },
    {
     "name": "stderr",
     "output_type": "stream",
     "text": [
      "231it [52:28,  8.01s/it]"
     ]
    },
    {
     "name": "stdout",
     "output_type": "stream",
     "text": [
      "文件 SL01-231-J.pdf 下载成功！\n",
      "下载DOI为10.1016/j.envpol.2019.03.077的论文成功。\n",
      "文献DOI为 10.1016/j.envpol.2019.03.077 的下载状态已更新为 1\n",
      "已经下载187,正在下载10.1016/j.yrtph.2017.12.018\n"
     ]
    },
    {
     "name": "stderr",
     "output_type": "stream",
     "text": [
      "232it [52:38,  8.57s/it]"
     ]
    },
    {
     "name": "stdout",
     "output_type": "stream",
     "text": [
      "文件 SL01-232-J.pdf 下载成功！\n",
      "下载DOI为10.1016/j.yrtph.2017.12.018的论文成功。\n",
      "文献DOI为 10.1016/j.yrtph.2017.12.018 的下载状态已更新为 1\n",
      "已经下载188,正在下载10.1016/j.ecoenv.2017.04.034\n"
     ]
    },
    {
     "name": "stderr",
     "output_type": "stream",
     "text": [
      "233it [52:47,  8.56s/it]"
     ]
    },
    {
     "name": "stdout",
     "output_type": "stream",
     "text": [
      "文件 SL01-233-J.pdf 下载成功！\n",
      "下载DOI为10.1016/j.ecoenv.2017.04.034的论文成功。\n",
      "文献DOI为 10.1016/j.ecoenv.2017.04.034 的下载状态已更新为 1\n",
      "已经下载189,正在下载10.1016/j.toxrep.2018.10.007\n"
     ]
    },
    {
     "name": "stderr",
     "output_type": "stream",
     "text": [
      "234it [52:53,  7.97s/it]"
     ]
    },
    {
     "name": "stdout",
     "output_type": "stream",
     "text": [
      "下载DOI为10.1016/j.toxrep.2018.10.007的论文成功。\n",
      "文献DOI为 10.1016/j.toxrep.2018.10.007 的下载状态已更新为 1\n",
      "已经下载190,正在下载10.1016/j.fct.2012.11.021\n"
     ]
    },
    {
     "name": "stderr",
     "output_type": "stream",
     "text": [
      "235it [53:01,  7.71s/it]"
     ]
    },
    {
     "name": "stdout",
     "output_type": "stream",
     "text": [
      "文件 SL01-235-J.pdf 下载成功！\n",
      "下载DOI为10.1016/j.fct.2012.11.021的论文成功。\n",
      "文献DOI为 10.1016/j.fct.2012.11.021 的下载状态已更新为 1\n",
      "已经下载191,正在下载10.1155/2013/841580\n"
     ]
    },
    {
     "name": "stderr",
     "output_type": "stream",
     "text": [
      "236it [53:11,  8.67s/it]"
     ]
    },
    {
     "name": "stdout",
     "output_type": "stream",
     "text": [
      "下载DOI为10.1155/2013/841580的论文成功。\n",
      "文献DOI为 10.1155/2013/841580 的下载状态已更新为 1\n",
      "已经下载192,正在下载10.1016/j.scitotenv.2018.08.280\n"
     ]
    },
    {
     "name": "stderr",
     "output_type": "stream",
     "text": [
      "237it [53:20,  8.71s/it]"
     ]
    },
    {
     "name": "stdout",
     "output_type": "stream",
     "text": [
      "文件 SL01-237-J.pdf 下载成功！\n",
      "下载DOI为10.1016/j.scitotenv.2018.08.280的论文成功。\n",
      "文献DOI为 10.1016/j.scitotenv.2018.08.280 的下载状态已更新为 1\n",
      "已经下载193,正在下载10.1016/j.ejmech.2017.06.061\n"
     ]
    },
    {
     "name": "stderr",
     "output_type": "stream",
     "text": [
      "238it [53:32,  9.67s/it]"
     ]
    },
    {
     "name": "stdout",
     "output_type": "stream",
     "text": [
      "文件 SL01-238-J.pdf 下载成功！\n",
      "下载DOI为10.1016/j.ejmech.2017.06.061的论文成功。\n",
      "文献DOI为 10.1016/j.ejmech.2017.06.061 的下载状态已更新为 1\n",
      "已经下载194,正在下载10.1016/j.fct.2022.113139\n"
     ]
    },
    {
     "name": "stderr",
     "output_type": "stream",
     "text": [
      "239it [53:37,  8.10s/it]"
     ]
    },
    {
     "name": "stdout",
     "output_type": "stream",
     "text": [
      "未找到下载链接。\n",
      "文献DOI为 10.1016/j.fct.2022.113139 的下载状态已更新为 2\n",
      "已经下载194,正在下载10.1016/j.jep.2009.09.037\n"
     ]
    },
    {
     "name": "stderr",
     "output_type": "stream",
     "text": [
      "240it [53:46,  8.39s/it]"
     ]
    },
    {
     "name": "stdout",
     "output_type": "stream",
     "text": [
      "文件 SL01-240-J.pdf 下载成功！\n",
      "下载DOI为10.1016/j.jep.2009.09.037的论文成功。\n",
      "文献DOI为 10.1016/j.jep.2009.09.037 的下载状态已更新为 1\n",
      "已经下载195,正在下载10.1016/j.heliyon.2024.e24780\n"
     ]
    },
    {
     "name": "stderr",
     "output_type": "stream",
     "text": [
      "241it [53:54,  8.35s/it]"
     ]
    },
    {
     "name": "stdout",
     "output_type": "stream",
     "text": [
      "下载DOI为10.1016/j.heliyon.2024.e24780的论文成功。\n",
      "文献DOI为 10.1016/j.heliyon.2024.e24780 的下载状态已更新为 1\n",
      "已经下载196,正在下载10.1016/j.fct.2019.05.034\n"
     ]
    },
    {
     "name": "stderr",
     "output_type": "stream",
     "text": [
      "242it [54:01,  8.00s/it]"
     ]
    },
    {
     "name": "stdout",
     "output_type": "stream",
     "text": [
      "文件 SL01-242-J.pdf 下载成功！\n",
      "下载DOI为10.1016/j.fct.2019.05.034的论文成功。\n",
      "文献DOI为 10.1016/j.fct.2019.05.034 的下载状态已更新为 1\n",
      "已经下载197,正在下载10.1007/s00128-015-1656-8\n"
     ]
    },
    {
     "name": "stderr",
     "output_type": "stream",
     "text": [
      "243it [54:10,  8.14s/it]"
     ]
    },
    {
     "name": "stdout",
     "output_type": "stream",
     "text": [
      "文件 SL01-243-J.pdf 下载成功！\n",
      "下载DOI为10.1007/s00128-015-1656-8的论文成功。\n",
      "文献DOI为 10.1007/s00128-015-1656-8 的下载状态已更新为 1\n",
      "已经下载198,正在下载10.1016/j.jhazmat.2016.03.013\n"
     ]
    },
    {
     "name": "stderr",
     "output_type": "stream",
     "text": [
      "244it [54:19,  8.45s/it]"
     ]
    },
    {
     "name": "stdout",
     "output_type": "stream",
     "text": [
      "文件 SL01-244-J.pdf 下载成功！\n",
      "下载DOI为10.1016/j.jhazmat.2016.03.013的论文成功。\n",
      "文献DOI为 10.1016/j.jhazmat.2016.03.013 的下载状态已更新为 1\n",
      "已经下载199,正在下载10.1016/j.marpolbul.2017.01.055\n"
     ]
    },
    {
     "name": "stderr",
     "output_type": "stream",
     "text": [
      "245it [54:26,  8.06s/it]"
     ]
    },
    {
     "name": "stdout",
     "output_type": "stream",
     "text": [
      "文件 SL01-245-J.pdf 下载成功！\n",
      "下载DOI为10.1016/j.marpolbul.2017.01.055的论文成功。\n",
      "文献DOI为 10.1016/j.marpolbul.2017.01.055 的下载状态已更新为 1\n",
      "已经下载200,正在下载10.1016/j.fct.2015.10.008\n"
     ]
    },
    {
     "name": "stderr",
     "output_type": "stream",
     "text": [
      "246it [54:35, 13.32s/it]\n"
     ]
    },
    {
     "name": "stdout",
     "output_type": "stream",
     "text": [
      "文件 SL01-246-J.pdf 下载成功！\n",
      "下载DOI为10.1016/j.fct.2015.10.008的论文成功。\n",
      "文献DOI为 10.1016/j.fct.2015.10.008 的下载状态已更新为 1\n",
      "已经下载201篇文献\n"
     ]
    },
    {
     "name": "stderr",
     "output_type": "stream",
     "text": [
      "0it [00:00, ?it/s]"
     ]
    },
    {
     "name": "stdout",
     "output_type": "stream",
     "text": [
      "已经下载0,正在下载10.1016/j.ijpara.2017.09.004\n"
     ]
    },
    {
     "name": "stderr",
     "output_type": "stream",
     "text": [
      "e:\\学习\\python\\py_codbase\\PK_LLM\\PK_LLM_endfront\\Paper_Downloader\\paper_downloader\\download_recorder.py:65: FutureWarning: Setting an item of incompatible dtype is deprecated and will raise an error in a future version of pandas. Value 'Foodborne illness, the majority of which is caused by enteric infectious agents, costs global economies billions of dollars each year. The protozoan parasite Cryptosporidium is particularly suited to foodborne transmission and is responsible for >8 million cases of foodborne illness annually. Procedures have been developed for sensitive detection of Cryptosporidium oocysts on fresh produce and molecular diagnostic assays have been widely used in case linkages and infection source tracking, especially during outbreak investigations. The integrated use of advanced diagnostic techniques with conventional epidemiological studies is essential to improve our understanding of the occurrence, source and epidemiology of foodborne cryptosporidiosis. The implementation of food safety management tools such as Good Hygienic Practices (GHP), Hazard Analysis and Critical Control Points (HACCP), and Quantitative Microbial Risk Assessment (QMRA) in industrialised nations and Water, Sanitation, and Hygiene (WASH) in developing countries is central for prevention and control and foodborne cryptosporidiosis in the future.' has dtype incompatible with float64, please explicitly cast to a compatible dtype first.\n",
      "  self.table.loc[self.table['DOI'] == doi, 'Abstract'] = abstract\n",
      "1it [00:07,  7.87s/it]"
     ]
    },
    {
     "name": "stdout",
     "output_type": "stream",
     "text": [
      "文件 SL01-1-J.pdf 下载成功！\n",
      "下载DOI为10.1016/j.ijpara.2017.09.004的论文成功。\n",
      "文献DOI为 10.1016/j.ijpara.2017.09.004 的下载状态已更新为 1\n",
      "已经下载1,正在下载10.1155/2014/524785\n"
     ]
    },
    {
     "name": "stderr",
     "output_type": "stream",
     "text": [
      "2it [00:11,  5.46s/it]"
     ]
    },
    {
     "name": "stdout",
     "output_type": "stream",
     "text": [
      "下载DOI为10.1155/2014/524785的论文成功。\n",
      "文献DOI为 10.1155/2014/524785 的下载状态已更新为 1\n",
      "已经下载2,正在下载10.1007/s00204-020-02725-2\n"
     ]
    },
    {
     "name": "stderr",
     "output_type": "stream",
     "text": [
      "3it [00:30, 11.63s/it]"
     ]
    },
    {
     "name": "stdout",
     "output_type": "stream",
     "text": [
      "下载DOI为10.1007/s00204-020-02725-2的论文成功。\n",
      "文献DOI为 10.1007/s00204-020-02725-2 的下载状态已更新为 1\n",
      "已经下载3,正在下载10.1080/21645515.2023.2176065\n"
     ]
    },
    {
     "name": "stderr",
     "output_type": "stream",
     "text": [
      "4it [01:32, 31.49s/it]"
     ]
    },
    {
     "name": "stdout",
     "output_type": "stream",
     "text": [
      "下载DOI为10.1080/21645515.2023.2176065的论文成功。\n",
      "文献DOI为 10.1080/21645515.2023.2176065 的下载状态已更新为 1\n",
      "已经下载4,正在下载10.3390/ijerph18041935\n"
     ]
    },
    {
     "name": "stderr",
     "output_type": "stream",
     "text": [
      "5it [01:38, 22.38s/it]"
     ]
    },
    {
     "name": "stdout",
     "output_type": "stream",
     "text": [
      "下载DOI为10.3390/ijerph18041935的论文成功。\n",
      "文献DOI为 10.3390/ijerph18041935 的下载状态已更新为 1\n",
      "已经下载5,正在下载10.1093/ije/dyw112\n"
     ]
    },
    {
     "name": "stderr",
     "output_type": "stream",
     "text": [
      "6it [01:58, 21.39s/it]"
     ]
    },
    {
     "name": "stdout",
     "output_type": "stream",
     "text": [
      "下载DOI为10.1093/ije/dyw112的论文成功。\n",
      "文献DOI为 10.1093/ije/dyw112 的下载状态已更新为 1\n",
      "已经下载6,正在下载10.1093/gerona/glt093\n"
     ]
    },
    {
     "name": "stderr",
     "output_type": "stream",
     "text": [
      "7it [02:41, 28.52s/it]"
     ]
    },
    {
     "name": "stdout",
     "output_type": "stream",
     "text": [
      "下载DOI为10.1093/gerona/glt093的论文成功。\n",
      "文献DOI为 10.1093/gerona/glt093 的下载状态已更新为 1\n",
      "已经下载7,正在下载10.14252/foodsafetyfscj.D-22-00004\n"
     ]
    },
    {
     "name": "stderr",
     "output_type": "stream",
     "text": [
      "9it [02:48, 16.53s/it]"
     ]
    },
    {
     "name": "stdout",
     "output_type": "stream",
     "text": [
      "下载DOI为10.14252/foodsafetyfscj.D-22-00004的论文成功。\n",
      "文献DOI为 10.14252/foodsafetyfscj.D-22-00004 的下载状态已更新为 1\n",
      "已经下载8,正在下载10.2105/AJPH.2017.303771\n"
     ]
    },
    {
     "name": "stderr",
     "output_type": "stream",
     "text": [
      "10it [02:59, 15.13s/it]"
     ]
    },
    {
     "name": "stdout",
     "output_type": "stream",
     "text": [
      "文件 SL01-10-J.pdf 下载成功！\n",
      "下载DOI为10.2105/AJPH.2017.303771的论文成功。\n",
      "文献DOI为 10.2105/AJPH.2017.303771 的下载状态已更新为 1\n",
      "已经下载9,正在下载10.2807/1560-7917.ES.2021.26.49.211209ed\n"
     ]
    },
    {
     "name": "stderr",
     "output_type": "stream",
     "text": [
      "11it [03:06, 12.85s/it]"
     ]
    },
    {
     "name": "stdout",
     "output_type": "stream",
     "text": [
      "下载DOI为10.2807/1560-7917.ES.2021.26.49.211209ed的论文成功。\n",
      "文献DOI为 10.2807/1560-7917.ES.2021.26.49.211209ed 的下载状态已更新为 1\n",
      "已经下载10,正在下载10.1016/j.envint.2006.06.015\n"
     ]
    },
    {
     "name": "stderr",
     "output_type": "stream",
     "text": [
      "12it [03:14, 11.48s/it]"
     ]
    },
    {
     "name": "stdout",
     "output_type": "stream",
     "text": [
      "文件 SL01-12-J.pdf 下载成功！\n",
      "下载DOI为10.1016/j.envint.2006.06.015的论文成功。\n",
      "文献DOI为 10.1016/j.envint.2006.06.015 的下载状态已更新为 1\n",
      "已经下载11,正在下载10.2217/whe.15.83\n"
     ]
    },
    {
     "name": "stderr",
     "output_type": "stream",
     "text": [
      "13it [03:21, 10.19s/it]"
     ]
    },
    {
     "name": "stdout",
     "output_type": "stream",
     "text": [
      "文件 SL01-13-J.pdf 下载成功！\n",
      "下载DOI为10.2217/whe.15.83的论文成功。\n",
      "文献DOI为 10.2217/whe.15.83 的下载状态已更新为 1\n",
      "已经下载12,正在下载10.1080/14760584.2021.1971521\n",
      "下载失败。\n"
     ]
    },
    {
     "name": "stderr",
     "output_type": "stream",
     "text": [
      "14it [03:49, 15.27s/it]"
     ]
    },
    {
     "name": "stdout",
     "output_type": "stream",
     "text": [
      "下载失败。\n",
      "请求失败。\n",
      "文献DOI为 10.1080/14760584.2021.1971521 的下载状态已更新为 2\n",
      "已经下载12,正在下载10.1044/2022_AJA-21-00205\n"
     ]
    },
    {
     "name": "stderr",
     "output_type": "stream",
     "text": [
      "15it [04:04, 15.33s/it]"
     ]
    },
    {
     "name": "stdout",
     "output_type": "stream",
     "text": [
      "下载DOI为10.1044/2022_AJA-21-00205的论文成功。\n",
      "文献DOI为 10.1044/2022_AJA-21-00205 的下载状态已更新为 1\n",
      "已经下载13,正在下载10.4081/gh.2012.131\n"
     ]
    },
    {
     "name": "stderr",
     "output_type": "stream",
     "text": [
      "16it [04:31, 18.70s/it]"
     ]
    },
    {
     "name": "stdout",
     "output_type": "stream",
     "text": [
      "文件 SL01-16-J.pdf 下载成功！\n",
      "下载DOI为10.4081/gh.2012.131的论文成功。\n",
      "文献DOI为 10.4081/gh.2012.131 的下载状态已更新为 1\n",
      "已经下载14,正在下载10.1016/j.ijfoodmicro.2022.109932\n"
     ]
    },
    {
     "name": "stderr",
     "output_type": "stream",
     "text": [
      "17it [04:35, 14.47s/it]"
     ]
    },
    {
     "name": "stdout",
     "output_type": "stream",
     "text": [
      "未找到下载链接。\n",
      "文献DOI为 10.1016/j.ijfoodmicro.2022.109932 的下载状态已更新为 2\n",
      "已经下载14,正在下载10.2105/AJPH.2022.306791\n"
     ]
    },
    {
     "name": "stderr",
     "output_type": "stream",
     "text": [
      "18it [04:49, 14.35s/it]"
     ]
    },
    {
     "name": "stdout",
     "output_type": "stream",
     "text": [
      "下载DOI为10.2105/AJPH.2022.306791的论文成功。\n",
      "文献DOI为 10.2105/AJPH.2022.306791 的下载状态已更新为 1\n",
      "已经下载15,正在下载10.1097/MOL.0000000000000639\n"
     ]
    },
    {
     "name": "stderr",
     "output_type": "stream",
     "text": [
      "19it [04:55, 11.83s/it]"
     ]
    },
    {
     "name": "stdout",
     "output_type": "stream",
     "text": [
      "文件 SL01-19-J.pdf 下载成功！\n",
      "下载DOI为10.1097/MOL.0000000000000639的论文成功。\n",
      "文献DOI为 10.1097/MOL.0000000000000639 的下载状态已更新为 1\n",
      "已经下载16,正在下载10.4088/JCP.22r14494\n"
     ]
    },
    {
     "name": "stderr",
     "output_type": "stream",
     "text": [
      "20it [05:01,  9.86s/it]"
     ]
    },
    {
     "name": "stdout",
     "output_type": "stream",
     "text": [
      "未找到下载链接。\n",
      "文献DOI为 10.4088/JCP.22r14494 的下载状态已更新为 2\n",
      "已经下载16,正在下载10.1097/ACI.0000000000000818\n"
     ]
    },
    {
     "name": "stderr",
     "output_type": "stream",
     "text": [
      "21it [05:04,  8.02s/it]"
     ]
    },
    {
     "name": "stdout",
     "output_type": "stream",
     "text": [
      "未找到下载链接。\n",
      "文献DOI为 10.1097/ACI.0000000000000818 的下载状态已更新为 2\n",
      "已经下载16,正在下载10.1182/blood-2018-11-876839\n"
     ]
    },
    {
     "name": "stderr",
     "output_type": "stream",
     "text": [
      "22it [05:23, 11.16s/it]"
     ]
    },
    {
     "name": "stdout",
     "output_type": "stream",
     "text": [
      "下载DOI为10.1182/blood-2018-11-876839的论文成功。\n",
      "文献DOI为 10.1182/blood-2018-11-876839 的下载状态已更新为 1\n",
      "已经下载17,正在下载10.1016/j.amjmed.2016.06.033\n"
     ]
    },
    {
     "name": "stderr",
     "output_type": "stream",
     "text": [
      "23it [05:28,  9.44s/it]"
     ]
    },
    {
     "name": "stdout",
     "output_type": "stream",
     "text": [
      "下载DOI为10.1016/j.amjmed.2016.06.033的论文成功。\n",
      "文献DOI为 10.1016/j.amjmed.2016.06.033 的下载状态已更新为 1\n",
      "已经下载18,正在下载10.1080/14760584.2023.2158816\n"
     ]
    },
    {
     "name": "stderr",
     "output_type": "stream",
     "text": [
      "24it [05:33,  8.17s/it]"
     ]
    },
    {
     "name": "stdout",
     "output_type": "stream",
     "text": [
      "未找到下载链接。\n",
      "文献DOI为 10.1080/14760584.2023.2158816 的下载状态已更新为 2\n",
      "已经下载18,正在下载10.1016/j.ijheh.2022.114055\n"
     ]
    },
    {
     "name": "stderr",
     "output_type": "stream",
     "text": [
      "25it [05:38,  7.16s/it]"
     ]
    },
    {
     "name": "stdout",
     "output_type": "stream",
     "text": [
      "未找到下载链接。\n",
      "文献DOI为 10.1016/j.ijheh.2022.114055 的下载状态已更新为 2\n",
      "已经下载18,正在下载10.5114/ceh.2023.130744\n"
     ]
    },
    {
     "name": "stderr",
     "output_type": "stream",
     "text": [
      "26it [05:55, 10.08s/it]"
     ]
    },
    {
     "name": "stdout",
     "output_type": "stream",
     "text": [
      "下载DOI为10.5114/ceh.2023.130744的论文成功。\n",
      "文献DOI为 10.5114/ceh.2023.130744 的下载状态已更新为 1\n",
      "已经下载19,正在下载10.1016/j.envint.2022.107243\n",
      "下载失败。\n"
     ]
    },
    {
     "name": "stderr",
     "output_type": "stream",
     "text": [
      "27it [06:22, 15.18s/it]"
     ]
    },
    {
     "name": "stdout",
     "output_type": "stream",
     "text": [
      "下载失败。\n",
      "请求失败。\n",
      "文献DOI为 10.1016/j.envint.2022.107243 的下载状态已更新为 2\n",
      "已经下载19,正在下载10.1080/13696998.2023.2193067\n"
     ]
    },
    {
     "name": "stderr",
     "output_type": "stream",
     "text": [
      "28it [06:28, 12.36s/it]"
     ]
    },
    {
     "name": "stdout",
     "output_type": "stream",
     "text": [
      "未找到下载链接。\n",
      "文献DOI为 10.1080/13696998.2023.2193067 的下载状态已更新为 2\n",
      "已经下载19,正在下载10.1111/1753-6405.12771\n"
     ]
    },
    {
     "name": "stderr",
     "output_type": "stream",
     "text": [
      "29it [06:35, 10.92s/it]"
     ]
    },
    {
     "name": "stdout",
     "output_type": "stream",
     "text": [
      "文件 SL01-29-J.pdf 下载成功！\n",
      "下载DOI为10.1111/1753-6405.12771的论文成功。\n",
      "文献DOI为 10.1111/1753-6405.12771 的下载状态已更新为 1\n",
      "已经下载20,正在下载10.2105/AJPH.2021.306397\n"
     ]
    },
    {
     "name": "stderr",
     "output_type": "stream",
     "text": [
      "30it [06:52, 12.51s/it]"
     ]
    },
    {
     "name": "stdout",
     "output_type": "stream",
     "text": [
      "下载DOI为10.2105/AJPH.2021.306397的论文成功。\n",
      "文献DOI为 10.2105/AJPH.2021.306397 的下载状态已更新为 1\n",
      "已经下载21,正在下载10.1093/rpd/ncr167\n"
     ]
    },
    {
     "name": "stderr",
     "output_type": "stream",
     "text": [
      "31it [06:58, 10.57s/it]"
     ]
    },
    {
     "name": "stdout",
     "output_type": "stream",
     "text": [
      "文件 SL01-31-J.pdf 下载成功！\n",
      "下载DOI为10.1093/rpd/ncr167的论文成功。\n",
      "文献DOI为 10.1093/rpd/ncr167 的下载状态已更新为 1\n",
      "已经下载22,正在下载10.1038/nrcardio.2014.26\n"
     ]
    },
    {
     "name": "stderr",
     "output_type": "stream",
     "text": [
      "32it [07:10, 11.16s/it]"
     ]
    },
    {
     "name": "stdout",
     "output_type": "stream",
     "text": [
      "文件 SL01-32-J.pdf 下载成功！\n",
      "下载DOI为10.1038/nrcardio.2014.26的论文成功。\n",
      "文献DOI为 10.1038/nrcardio.2014.26 的下载状态已更新为 1\n",
      "已经下载23,正在下载10.1016/j.chemosphere.2023.139085\n"
     ]
    },
    {
     "name": "stderr",
     "output_type": "stream",
     "text": [
      "33it [07:15,  9.13s/it]"
     ]
    },
    {
     "name": "stdout",
     "output_type": "stream",
     "text": [
      "未找到下载链接。\n",
      "文献DOI为 10.1016/j.chemosphere.2023.139085 的下载状态已更新为 2\n",
      "已经下载23,正在下载10.1007/s11936-018-0685-0\n"
     ]
    },
    {
     "name": "stderr",
     "output_type": "stream",
     "text": [
      "34it [07:22,  8.73s/it]"
     ]
    },
    {
     "name": "stdout",
     "output_type": "stream",
     "text": [
      "文件 SL01-34-J.pdf 下载成功！\n",
      "下载DOI为10.1007/s11936-018-0685-0的论文成功。\n",
      "文献DOI为 10.1007/s11936-018-0685-0 的下载状态已更新为 1\n",
      "已经下载24,正在下载10.1038/s41370-019-0161-2\n"
     ]
    },
    {
     "name": "stderr",
     "output_type": "stream",
     "text": [
      "35it [07:28,  7.63s/it]"
     ]
    },
    {
     "name": "stdout",
     "output_type": "stream",
     "text": [
      "下载DOI为10.1038/s41370-019-0161-2的论文成功。\n",
      "文献DOI为 10.1038/s41370-019-0161-2 的下载状态已更新为 1\n",
      "已经下载25,正在下载10.1016/j.envres.2023.116186\n"
     ]
    },
    {
     "name": "stderr",
     "output_type": "stream",
     "text": [
      "36it [07:32,  6.56s/it]"
     ]
    },
    {
     "name": "stdout",
     "output_type": "stream",
     "text": [
      "未找到下载链接。\n",
      "文献DOI为 10.1016/j.envres.2023.116186 的下载状态已更新为 2\n",
      "已经下载25,正在下载10.1097/01.cej.0000203617.54312.08\n"
     ]
    },
    {
     "name": "stderr",
     "output_type": "stream",
     "text": [
      "37it [07:39,  6.71s/it]"
     ]
    },
    {
     "name": "stdout",
     "output_type": "stream",
     "text": [
      "文件 SL01-37-J.pdf 下载成功！\n",
      "下载DOI为10.1097/01.cej.0000203617.54312.08的论文成功。\n",
      "文献DOI为 10.1097/01.cej.0000203617.54312.08 的下载状态已更新为 1\n",
      "已经下载26,正在下载10.1265/ehpm.23-00312\n"
     ]
    },
    {
     "name": "stderr",
     "output_type": "stream",
     "text": [
      "38it [08:19, 16.81s/it]"
     ]
    },
    {
     "name": "stdout",
     "output_type": "stream",
     "text": [
      "下载DOI为10.1265/ehpm.23-00312的论文成功。\n",
      "文献DOI为 10.1265/ehpm.23-00312 的下载状态已更新为 1\n",
      "已经下载27,正在下载10.1080/21645515.2023.2258569\n"
     ]
    },
    {
     "name": "stderr",
     "output_type": "stream",
     "text": [
      "39it [09:45, 37.61s/it]"
     ]
    },
    {
     "name": "stdout",
     "output_type": "stream",
     "text": [
      "下载DOI为10.1080/21645515.2023.2258569的论文成功。\n",
      "文献DOI为 10.1080/21645515.2023.2258569 的下载状态已更新为 1\n",
      "已经下载28,正在下载10.1093/ntr/ntaa027\n"
     ]
    },
    {
     "name": "stderr",
     "output_type": "stream",
     "text": [
      "40it [10:16, 35.54s/it]"
     ]
    },
    {
     "name": "stdout",
     "output_type": "stream",
     "text": [
      "文件 SL01-40-J.pdf 下载成功！\n",
      "下载DOI为10.1093/ntr/ntaa027的论文成功。\n",
      "文献DOI为 10.1093/ntr/ntaa027 的下载状态已更新为 1\n",
      "已经下载29,正在下载10.5055/ajdm.2011.0065\n"
     ]
    },
    {
     "name": "stderr",
     "output_type": "stream",
     "text": [
      "41it [10:41, 32.44s/it]"
     ]
    },
    {
     "name": "stdout",
     "output_type": "stream",
     "text": [
      "未找到下载链接。\n",
      "文献DOI为 10.5055/ajdm.2011.0065 的下载状态已更新为 2\n",
      "已经下载29,正在下载10.1186/1471-2288-12-22\n"
     ]
    },
    {
     "name": "stderr",
     "output_type": "stream",
     "text": [
      "42it [11:37, 39.35s/it]"
     ]
    },
    {
     "name": "stdout",
     "output_type": "stream",
     "text": [
      "下载DOI为10.1186/1471-2288-12-22的论文成功。\n",
      "文献DOI为 10.1186/1471-2288-12-22 的下载状态已更新为 1\n",
      "已经下载30,正在下载10.1016/j.envint.2020.105581\n"
     ]
    },
    {
     "name": "stderr",
     "output_type": "stream",
     "text": [
      "43it [12:06, 36.49s/it]"
     ]
    },
    {
     "name": "stdout",
     "output_type": "stream",
     "text": [
      "文件 SL01-43-J.pdf 下载成功！\n",
      "下载DOI为10.1016/j.envint.2020.105581的论文成功。\n",
      "文献DOI为 10.1016/j.envint.2020.105581 的下载状态已更新为 1\n",
      "已经下载31,正在下载10.1016/j.vaccine.2016.01.021\n"
     ]
    },
    {
     "name": "stderr",
     "output_type": "stream",
     "text": [
      "44it [12:36, 34.35s/it]"
     ]
    },
    {
     "name": "stdout",
     "output_type": "stream",
     "text": [
      "文件 SL01-44-J.pdf 下载成功！\n",
      "下载DOI为10.1016/j.vaccine.2016.01.021的论文成功。\n",
      "文献DOI为 10.1016/j.vaccine.2016.01.021 的下载状态已更新为 1\n",
      "已经下载32,正在下载10.1136/tobaccocontrol-2021-056604\n"
     ]
    },
    {
     "name": "stderr",
     "output_type": "stream",
     "text": [
      "45it [13:03, 32.24s/it]"
     ]
    },
    {
     "name": "stdout",
     "output_type": "stream",
     "text": [
      "下载DOI为10.1136/tobaccocontrol-2021-056604的论文成功。\n",
      "文献DOI为 10.1136/tobaccocontrol-2021-056604 的下载状态已更新为 1\n",
      "已经下载33,正在下载10.1177/0748233715624594\n"
     ]
    },
    {
     "name": "stderr",
     "output_type": "stream",
     "text": [
      "46it [13:33, 31.68s/it]"
     ]
    },
    {
     "name": "stdout",
     "output_type": "stream",
     "text": [
      "文件 SL01-46-J.pdf 下载成功！\n",
      "下载DOI为10.1177/0748233715624594的论文成功。\n",
      "文献DOI为 10.1177/0748233715624594 的下载状态已更新为 1\n",
      "已经下载34,正在下载10.1007/s11356-021-15354-8\n"
     ]
    },
    {
     "name": "stderr",
     "output_type": "stream",
     "text": [
      "47it [14:04, 31.22s/it]"
     ]
    },
    {
     "name": "stdout",
     "output_type": "stream",
     "text": [
      "文件 SL01-47-J.pdf 下载成功！\n",
      "下载DOI为10.1007/s11356-021-15354-8的论文成功。\n",
      "文献DOI为 10.1007/s11356-021-15354-8 的下载状态已更新为 1\n",
      "已经下载35,正在下载10.1111/j.1742-1241.2012.02956.x\n"
     ]
    },
    {
     "name": "stderr",
     "output_type": "stream",
     "text": [
      "48it [14:32, 30.28s/it]"
     ]
    },
    {
     "name": "stdout",
     "output_type": "stream",
     "text": [
      "文件 SL01-48-J.pdf 下载成功！\n",
      "下载DOI为10.1111/j.1742-1241.2012.02956.x的论文成功。\n",
      "文献DOI为 10.1111/j.1742-1241.2012.02956.x 的下载状态已更新为 1\n",
      "已经下载36,正在下载10.1080/02841860050215891\n"
     ]
    },
    {
     "name": "stderr",
     "output_type": "stream",
     "text": [
      "49it [14:59, 29.41s/it]"
     ]
    },
    {
     "name": "stdout",
     "output_type": "stream",
     "text": [
      "文件 SL01-49-J.pdf 下载成功！\n",
      "下载DOI为10.1080/02841860050215891的论文成功。\n",
      "文献DOI为 10.1080/02841860050215891 的下载状态已更新为 1\n",
      "已经下载37,正在下载10.1111/risa.12964\n"
     ]
    },
    {
     "name": "stderr",
     "output_type": "stream",
     "text": [
      "50it [15:27, 28.89s/it]"
     ]
    },
    {
     "name": "stdout",
     "output_type": "stream",
     "text": [
      "下载DOI为10.1111/risa.12964的论文成功。\n",
      "文献DOI为 10.1111/risa.12964 的下载状态已更新为 1\n",
      "已经下载38,正在下载10.1007/s12560-017-9279-3\n"
     ]
    },
    {
     "name": "stderr",
     "output_type": "stream",
     "text": [
      "51it [15:57, 29.34s/it]"
     ]
    },
    {
     "name": "stdout",
     "output_type": "stream",
     "text": [
      "下载DOI为10.1007/s12560-017-9279-3的论文成功。\n",
      "文献DOI为 10.1007/s12560-017-9279-3 的下载状态已更新为 1\n",
      "已经下载39,正在下载10.1097/QCO.0b013e328356aeba\n"
     ]
    },
    {
     "name": "stderr",
     "output_type": "stream",
     "text": [
      "52it [16:27, 29.47s/it]"
     ]
    },
    {
     "name": "stdout",
     "output_type": "stream",
     "text": [
      "文件 SL01-52-J.pdf 下载成功！\n",
      "下载DOI为10.1097/QCO.0b013e328356aeba的论文成功。\n",
      "文献DOI为 10.1097/QCO.0b013e328356aeba 的下载状态已更新为 1\n",
      "已经下载40,正在下载10.3390/neurolint13030030\n"
     ]
    },
    {
     "name": "stderr",
     "output_type": "stream",
     "text": [
      "53it [16:52, 28.23s/it]"
     ]
    },
    {
     "name": "stdout",
     "output_type": "stream",
     "text": [
      "下载DOI为10.3390/neurolint13030030的论文成功。\n",
      "文献DOI为 10.3390/neurolint13030030 的下载状态已更新为 1\n",
      "已经下载41,正在下载10.17226/26906\n"
     ]
    },
    {
     "name": "stderr",
     "output_type": "stream",
     "text": [
      "54it [17:17, 27.19s/it]"
     ]
    },
    {
     "name": "stdout",
     "output_type": "stream",
     "text": [
      "未找到下载链接。\n",
      "文献DOI为 10.17226/26906 的下载状态已更新为 2\n",
      "已经下载41,正在下载10.1038/s41440-022-01114-9\n"
     ]
    },
    {
     "name": "stderr",
     "output_type": "stream",
     "text": [
      "55it [17:50, 28.90s/it]"
     ]
    },
    {
     "name": "stdout",
     "output_type": "stream",
     "text": [
      "下载DOI为10.1038/s41440-022-01114-9的论文成功。\n",
      "文献DOI为 10.1038/s41440-022-01114-9 的下载状态已更新为 1\n",
      "已经下载42,正在下载10.1186/s12940-019-0468-4\n"
     ]
    },
    {
     "name": "stderr",
     "output_type": "stream",
     "text": [
      "56it [18:34, 33.36s/it]"
     ]
    },
    {
     "name": "stdout",
     "output_type": "stream",
     "text": [
      "下载DOI为10.1186/s12940-019-0468-4的论文成功。\n",
      "文献DOI为 10.1186/s12940-019-0468-4 的下载状态已更新为 1\n",
      "已经下载43,正在下载10.1155/2024/4133365\n"
     ]
    },
    {
     "name": "stderr",
     "output_type": "stream",
     "text": [
      "57it [18:39, 24.97s/it]"
     ]
    },
    {
     "name": "stdout",
     "output_type": "stream",
     "text": [
      "下载DOI为10.1155/2024/4133365的论文成功。\n",
      "文献DOI为 10.1155/2024/4133365 的下载状态已更新为 1\n",
      "已经下载44,正在下载10.1017/dmp.2022.145\n"
     ]
    },
    {
     "name": "stderr",
     "output_type": "stream",
     "text": [
      "58it [18:45, 19.31s/it]"
     ]
    },
    {
     "name": "stdout",
     "output_type": "stream",
     "text": [
      "下载DOI为10.1017/dmp.2022.145的论文成功。\n",
      "文献DOI为 10.1017/dmp.2022.145 的下载状态已更新为 1\n",
      "已经下载45,正在下载10.3390/nano11030745\n"
     ]
    },
    {
     "name": "stderr",
     "output_type": "stream",
     "text": [
      "59it [18:49, 14.55s/it]"
     ]
    },
    {
     "name": "stdout",
     "output_type": "stream",
     "text": [
      "下载DOI为10.3390/nano11030745的论文成功。\n",
      "文献DOI为 10.3390/nano11030745 的下载状态已更新为 1\n",
      "已经下载46,正在下载10.1016/j.toxlet.2003.12.035\n"
     ]
    },
    {
     "name": "stderr",
     "output_type": "stream",
     "text": [
      "60it [18:55, 12.12s/it]"
     ]
    },
    {
     "name": "stdout",
     "output_type": "stream",
     "text": [
      "文件 SL01-60-J.pdf 下载成功！\n",
      "下载DOI为10.1016/j.toxlet.2003.12.035的论文成功。\n",
      "文献DOI为 10.1016/j.toxlet.2003.12.035 的下载状态已更新为 1\n",
      "已经下载47,正在下载10.1007/s00038-003-3146-8\n"
     ]
    },
    {
     "name": "stderr",
     "output_type": "stream",
     "text": [
      "61it [19:01, 10.30s/it]"
     ]
    },
    {
     "name": "stdout",
     "output_type": "stream",
     "text": [
      "文件 SL01-61-J.pdf 下载成功！\n",
      "下载DOI为10.1007/s00038-003-3146-8的论文成功。\n",
      "文献DOI为 10.1007/s00038-003-3146-8 的下载状态已更新为 1\n",
      "已经下载48,正在下载10.3389/fpubh.2017.00266\n"
     ]
    },
    {
     "name": "stderr",
     "output_type": "stream",
     "text": [
      "62it [19:08,  9.26s/it]"
     ]
    },
    {
     "name": "stdout",
     "output_type": "stream",
     "text": [
      "下载DOI为10.3389/fpubh.2017.00266的论文成功。\n",
      "文献DOI为 10.3389/fpubh.2017.00266 的下载状态已更新为 1\n",
      "已经下载49,正在下载10.1080/10410236.2024.2326250\n"
     ]
    },
    {
     "name": "stderr",
     "output_type": "stream",
     "text": [
      "63it [19:17,  9.24s/it]"
     ]
    },
    {
     "name": "stdout",
     "output_type": "stream",
     "text": [
      "未找到下载链接。\n",
      "文献DOI为 10.1080/10410236.2024.2326250 的下载状态已更新为 2\n",
      "已经下载49,正在下载10.1016/j.coviro.2013.12.005\n"
     ]
    },
    {
     "name": "stderr",
     "output_type": "stream",
     "text": [
      "64it [19:32, 10.78s/it]"
     ]
    },
    {
     "name": "stdout",
     "output_type": "stream",
     "text": [
      "下载DOI为10.1016/j.coviro.2013.12.005的论文成功。\n",
      "文献DOI为 10.1016/j.coviro.2013.12.005 的下载状态已更新为 1\n",
      "已经下载50,正在下载10.1016/j.envint.2021.106547\n"
     ]
    },
    {
     "name": "stderr",
     "output_type": "stream",
     "text": [
      "65it [19:40,  9.98s/it]"
     ]
    },
    {
     "name": "stdout",
     "output_type": "stream",
     "text": [
      "文件 SL01-65-J.pdf 下载成功！\n",
      "下载DOI为10.1016/j.envint.2021.106547的论文成功。\n",
      "文献DOI为 10.1016/j.envint.2021.106547 的下载状态已更新为 1\n",
      "已经下载51,正在下载10.1111/risa.13635\n"
     ]
    },
    {
     "name": "stderr",
     "output_type": "stream",
     "text": [
      "66it [20:09, 15.84s/it]"
     ]
    },
    {
     "name": "stdout",
     "output_type": "stream",
     "text": [
      "下载DOI为10.1111/risa.13635的论文成功。\n",
      "文献DOI为 10.1111/risa.13635 的下载状态已更新为 1\n",
      "已经下载52,正在下载10.3389/fmicb.2021.769931\n"
     ]
    },
    {
     "name": "stderr",
     "output_type": "stream",
     "text": [
      "67it [20:14, 12.60s/it]"
     ]
    },
    {
     "name": "stdout",
     "output_type": "stream",
     "text": [
      "下载DOI为10.3389/fmicb.2021.769931的论文成功。\n",
      "文献DOI为 10.3389/fmicb.2021.769931 的下载状态已更新为 1\n",
      "已经下载53,正在下载10.14252/foodsafetyfscj.D-22-00007\n"
     ]
    },
    {
     "name": "stderr",
     "output_type": "stream",
     "text": [
      "68it [20:22, 11.27s/it]"
     ]
    },
    {
     "name": "stdout",
     "output_type": "stream",
     "text": [
      "下载DOI为10.14252/foodsafetyfscj.D-22-00007的论文成功。\n",
      "文献DOI为 10.14252/foodsafetyfscj.D-22-00007 的下载状态已更新为 1\n",
      "已经下载54,正在下载10.1111/nuf.12557\n"
     ]
    },
    {
     "name": "stderr",
     "output_type": "stream",
     "text": [
      "69it [20:30, 10.15s/it]"
     ]
    },
    {
     "name": "stdout",
     "output_type": "stream",
     "text": [
      "文件 SL01-69-J.pdf 下载成功！\n",
      "下载DOI为10.1111/nuf.12557的论文成功。\n",
      "文献DOI为 10.1111/nuf.12557 的下载状态已更新为 1\n",
      "已经下载55,正在下载10.2105/AJPH.2017.304083\n"
     ]
    },
    {
     "name": "stderr",
     "output_type": "stream",
     "text": [
      "71it [20:50, 10.06s/it]"
     ]
    },
    {
     "name": "stdout",
     "output_type": "stream",
     "text": [
      "下载DOI为10.2105/AJPH.2017.304083的论文成功。\n",
      "文献DOI为 10.2105/AJPH.2017.304083 的下载状态已更新为 1\n",
      "已经下载56,正在下载10.3390/toxins13050314\n"
     ]
    },
    {
     "name": "stderr",
     "output_type": "stream",
     "text": [
      "72it [20:55,  8.79s/it]"
     ]
    },
    {
     "name": "stdout",
     "output_type": "stream",
     "text": [
      "下载DOI为10.3390/toxins13050314的论文成功。\n",
      "文献DOI为 10.3390/toxins13050314 的下载状态已更新为 1\n",
      "已经下载57,正在下载10.4269/ajtmh.2001.64.12\n"
     ]
    },
    {
     "name": "stderr",
     "output_type": "stream",
     "text": [
      "73it [20:59,  7.68s/it]"
     ]
    },
    {
     "name": "stdout",
     "output_type": "stream",
     "text": [
      "未找到下载链接。\n",
      "文献DOI为 10.4269/ajtmh.2001.64.12 的下载状态已更新为 2\n",
      "已经下载57,正在下载10.3201/eid1009.030921\n"
     ]
    },
    {
     "name": "stderr",
     "output_type": "stream",
     "text": [
      "74it [21:05,  7.14s/it]"
     ]
    },
    {
     "name": "stdout",
     "output_type": "stream",
     "text": [
      "下载DOI为10.3201/eid1009.030921的论文成功。\n",
      "文献DOI为 10.3201/eid1009.030921 的下载状态已更新为 1\n",
      "已经下载58,正在下载10.1007/s40572-014-0036-6\n"
     ]
    },
    {
     "name": "stderr",
     "output_type": "stream",
     "text": [
      "75it [21:14,  7.68s/it]"
     ]
    },
    {
     "name": "stdout",
     "output_type": "stream",
     "text": [
      "下载DOI为10.1007/s40572-014-0036-6的论文成功。\n",
      "文献DOI为 10.1007/s40572-014-0036-6 的下载状态已更新为 1\n",
      "已经下载59,正在下载10.1007/s00439-012-1168-0\n"
     ]
    },
    {
     "name": "stderr",
     "output_type": "stream",
     "text": [
      "76it [21:23,  8.12s/it]"
     ]
    },
    {
     "name": "stdout",
     "output_type": "stream",
     "text": [
      "下载DOI为10.1007/s00439-012-1168-0的论文成功。\n",
      "文献DOI为 10.1007/s00439-012-1168-0 的下载状态已更新为 1\n",
      "已经下载60,正在下载10.1016/j.jhazmat.2020.124863\n"
     ]
    },
    {
     "name": "stderr",
     "output_type": "stream",
     "text": [
      "77it [21:28,  7.18s/it]"
     ]
    },
    {
     "name": "stdout",
     "output_type": "stream",
     "text": [
      "未找到下载链接。\n",
      "文献DOI为 10.1016/j.jhazmat.2020.124863 的下载状态已更新为 2\n",
      "已经下载60,正在下载10.3390/ijerph18052368\n"
     ]
    },
    {
     "name": "stderr",
     "output_type": "stream",
     "text": [
      "78it [21:45,  9.91s/it]"
     ]
    },
    {
     "name": "stdout",
     "output_type": "stream",
     "text": [
      "下载DOI为10.3390/ijerph18052368的论文成功。\n",
      "文献DOI为 10.3390/ijerph18052368 的下载状态已更新为 1\n",
      "已经下载61,正在下载10.1016/j.jhazmat.2021.127861\n"
     ]
    },
    {
     "name": "stderr",
     "output_type": "stream",
     "text": [
      "79it [21:51,  8.85s/it]"
     ]
    },
    {
     "name": "stdout",
     "output_type": "stream",
     "text": [
      "下载DOI为10.1016/j.jhazmat.2021.127861的论文成功。\n",
      "文献DOI为 10.1016/j.jhazmat.2021.127861 的下载状态已更新为 1\n",
      "已经下载62,正在下载10.3109/10408444.2011.552063\n"
     ]
    },
    {
     "name": "stderr",
     "output_type": "stream",
     "text": [
      "80it [21:59,  8.61s/it]"
     ]
    },
    {
     "name": "stdout",
     "output_type": "stream",
     "text": [
      "文件 SL01-80-J.pdf 下载成功！\n",
      "下载DOI为10.3109/10408444.2011.552063的论文成功。\n",
      "文献DOI为 10.3109/10408444.2011.552063 的下载状态已更新为 1\n",
      "已经下载63,正在下载10.3126/nje.v12i4.50997\n"
     ]
    },
    {
     "name": "stderr",
     "output_type": "stream",
     "text": [
      "81it [22:14, 10.44s/it]"
     ]
    },
    {
     "name": "stdout",
     "output_type": "stream",
     "text": [
      "下载DOI为10.3126/nje.v12i4.50997的论文成功。\n",
      "文献DOI为 10.3126/nje.v12i4.50997 的下载状态已更新为 1\n",
      "已经下载64,正在下载10.1002/wnan.57\n"
     ]
    },
    {
     "name": "stderr",
     "output_type": "stream",
     "text": [
      "82it [22:20,  9.27s/it]"
     ]
    },
    {
     "name": "stdout",
     "output_type": "stream",
     "text": [
      "文件 SL01-82-J.pdf 下载成功！\n",
      "下载DOI为10.1002/wnan.57的论文成功。\n",
      "文献DOI为 10.1002/wnan.57 的下载状态已更新为 1\n",
      "已经下载65,正在下载10.4315/0362-028x-67.9.1991\n",
      "下载失败。\n"
     ]
    },
    {
     "name": "stderr",
     "output_type": "stream",
     "text": [
      "83it [22:27,  8.50s/it]"
     ]
    },
    {
     "name": "stdout",
     "output_type": "stream",
     "text": [
      "下载失败。\n",
      "请求失败。\n",
      "文献DOI为 10.4315/0362-028x-67.9.1991 的下载状态已更新为 2\n",
      "已经下载65,正在下载10.1007/s10354-011-0881-y\n"
     ]
    },
    {
     "name": "stderr",
     "output_type": "stream",
     "text": [
      "84it [22:31,  7.19s/it]"
     ]
    },
    {
     "name": "stdout",
     "output_type": "stream",
     "text": [
      "请求失败。\n",
      "文献DOI为 10.1007/s10354-011-0881-y 的下载状态已更新为 2\n",
      "已经下载65,正在下载10.1007/s00204-019-02467-w\n"
     ]
    },
    {
     "name": "stderr",
     "output_type": "stream",
     "text": [
      "85it [22:47,  9.90s/it]"
     ]
    },
    {
     "name": "stdout",
     "output_type": "stream",
     "text": [
      "下载DOI为10.1007/s00204-019-02467-w的论文成功。\n",
      "文献DOI为 10.1007/s00204-019-02467-w 的下载状态已更新为 1\n",
      "已经下载66,正在下载10.1016/j.pt.2019.01.009\n"
     ]
    },
    {
     "name": "stderr",
     "output_type": "stream",
     "text": [
      "86it [22:52,  8.29s/it]"
     ]
    },
    {
     "name": "stdout",
     "output_type": "stream",
     "text": [
      "下载DOI为10.1016/j.pt.2019.01.009的论文成功。\n",
      "文献DOI为 10.1016/j.pt.2019.01.009 的下载状态已更新为 1\n",
      "已经下载67,正在下载10.1016/j.respe.2012.02.007\n"
     ]
    },
    {
     "name": "stderr",
     "output_type": "stream",
     "text": [
      "87it [23:04,  9.49s/it]"
     ]
    },
    {
     "name": "stdout",
     "output_type": "stream",
     "text": [
      "文件 SL01-87-J.pdf 下载成功！\n",
      "下载DOI为10.1016/j.respe.2012.02.007的论文成功。\n",
      "文献DOI为 10.1016/j.respe.2012.02.007 的下载状态已更新为 1\n",
      "已经下载68,正在下载10.1016/j.envres.2022.114650\n"
     ]
    },
    {
     "name": "stderr",
     "output_type": "stream",
     "text": [
      "88it [23:20, 11.46s/it]"
     ]
    },
    {
     "name": "stdout",
     "output_type": "stream",
     "text": [
      "请求失败。\n",
      "文献DOI为 10.1016/j.envres.2022.114650 的下载状态已更新为 2\n",
      "已经下载68,正在下载10.1016/j.ijfoodmicro.2004.11.012\n"
     ]
    },
    {
     "name": "stderr",
     "output_type": "stream",
     "text": [
      "89it [23:28, 10.39s/it]"
     ]
    },
    {
     "name": "stdout",
     "output_type": "stream",
     "text": [
      "文件 SL01-89-J.pdf 下载成功！\n",
      "下载DOI为10.1016/j.ijfoodmicro.2004.11.012的论文成功。\n",
      "文献DOI为 10.1016/j.ijfoodmicro.2004.11.012 的下载状态已更新为 1\n",
      "已经下载69,正在下载10.1093/cid/cix344\n"
     ]
    },
    {
     "name": "stderr",
     "output_type": "stream",
     "text": [
      "90it [23:56, 15.67s/it]"
     ]
    },
    {
     "name": "stdout",
     "output_type": "stream",
     "text": [
      "下载DOI为10.1093/cid/cix344的论文成功。\n",
      "文献DOI为 10.1093/cid/cix344 的下载状态已更新为 1\n",
      "已经下载70,正在下载10.4315/0362-028X.JFP-15-336\n"
     ]
    },
    {
     "name": "stderr",
     "output_type": "stream",
     "text": [
      "91it [24:04, 13.42s/it]"
     ]
    },
    {
     "name": "stdout",
     "output_type": "stream",
     "text": [
      "文件 SL01-91-J.pdf 下载成功！\n",
      "下载DOI为10.4315/0362-028X.JFP-15-336的论文成功。\n",
      "文献DOI为 10.4315/0362-028X.JFP-15-336 的下载状态已更新为 1\n",
      "已经下载71,正在下载10.1080/20016689.2022.2082646\n"
     ]
    },
    {
     "name": "stderr",
     "output_type": "stream",
     "text": [
      "92it [24:17, 13.26s/it]"
     ]
    },
    {
     "name": "stdout",
     "output_type": "stream",
     "text": [
      "下载DOI为10.1080/20016689.2022.2082646的论文成功。\n",
      "文献DOI为 10.1080/20016689.2022.2082646 的下载状态已更新为 1\n",
      "已经下载72,正在下载10.1016/j.cmi.2023.04.017\n"
     ]
    },
    {
     "name": "stderr",
     "output_type": "stream",
     "text": [
      "93it [24:22, 10.60s/it]"
     ]
    },
    {
     "name": "stdout",
     "output_type": "stream",
     "text": [
      "未找到下载链接。\n",
      "文献DOI为 10.1016/j.cmi.2023.04.017 的下载状态已更新为 2\n",
      "已经下载72,正在下载10.1016/j.puhe.2007.04.008\n"
     ]
    },
    {
     "name": "stderr",
     "output_type": "stream",
     "text": [
      "94it [24:33, 10.94s/it]"
     ]
    },
    {
     "name": "stdout",
     "output_type": "stream",
     "text": [
      "文件 SL01-94-J.pdf 下载成功！\n",
      "下载DOI为10.1016/j.puhe.2007.04.008的论文成功。\n",
      "文献DOI为 10.1016/j.puhe.2007.04.008 的下载状态已更新为 1\n",
      "已经下载73,正在下载10.1017/S095026881800328X\n"
     ]
    },
    {
     "name": "stderr",
     "output_type": "stream",
     "text": [
      "95it [24:44, 10.99s/it]"
     ]
    },
    {
     "name": "stdout",
     "output_type": "stream",
     "text": [
      "下载DOI为10.1017/S095026881800328X的论文成功。\n",
      "文献DOI为 10.1017/S095026881800328X 的下载状态已更新为 1\n",
      "已经下载74,正在下载10.1017/s1049023x00021257\n"
     ]
    },
    {
     "name": "stderr",
     "output_type": "stream",
     "text": [
      "96it [24:52,  9.94s/it]"
     ]
    },
    {
     "name": "stdout",
     "output_type": "stream",
     "text": [
      "文件 SL01-96-J.pdf 下载成功！\n",
      "下载DOI为10.1017/s1049023x00021257的论文成功。\n",
      "文献DOI为 10.1017/s1049023x00021257 的下载状态已更新为 1\n",
      "已经下载75,正在下载10.19191/EP18.5-6.S1.P021.085\n"
     ]
    },
    {
     "name": "stderr",
     "output_type": "stream",
     "text": [
      "97it [24:56,  8.28s/it]"
     ]
    },
    {
     "name": "stdout",
     "output_type": "stream",
     "text": [
      "未找到下载链接。\n",
      "文献DOI为 10.19191/EP18.5-6.S1.P021.085 的下载状态已更新为 2\n",
      "已经下载75,正在下载10.1016/s0300-483x(02)00478-x\n"
     ]
    },
    {
     "name": "stderr",
     "output_type": "stream",
     "text": [
      "98it [25:03,  7.90s/it]"
     ]
    },
    {
     "name": "stdout",
     "output_type": "stream",
     "text": [
      "文件 SL01-98-J.pdf 下载成功！\n",
      "下载DOI为10.1016/s0300-483x(02)00478-x的论文成功。\n",
      "文献DOI为 10.1016/s0300-483x(02)00478-x 的下载状态已更新为 1\n",
      "已经下载76,正在下载10.14791/btrt.2018.6.e4\n"
     ]
    },
    {
     "name": "stderr",
     "output_type": "stream",
     "text": [
      "99it [25:18, 10.06s/it]"
     ]
    },
    {
     "name": "stdout",
     "output_type": "stream",
     "text": [
      "下载DOI为10.14791/btrt.2018.6.e4的论文成功。\n",
      "文献DOI为 10.14791/btrt.2018.6.e4 的下载状态已更新为 1\n",
      "已经下载77,正在下载10.1093/intqhc/mzy194\n"
     ]
    },
    {
     "name": "stderr",
     "output_type": "stream",
     "text": [
      "100it [25:33, 11.37s/it]"
     ]
    },
    {
     "name": "stdout",
     "output_type": "stream",
     "text": [
      "下载DOI为10.1093/intqhc/mzy194的论文成功。\n",
      "文献DOI为 10.1093/intqhc/mzy194 的下载状态已更新为 1\n",
      "已经下载78,正在下载10.1186/s12916-021-01956-z\n"
     ]
    },
    {
     "name": "stderr",
     "output_type": "stream",
     "text": [
      "101it [26:05, 17.53s/it]"
     ]
    },
    {
     "name": "stdout",
     "output_type": "stream",
     "text": [
      "下载DOI为10.1186/s12916-021-01956-z的论文成功。\n",
      "文献DOI为 10.1186/s12916-021-01956-z 的下载状态已更新为 1\n",
      "已经下载79,正在下载10.1016/j.pulmoe.2023.04.008\n"
     ]
    },
    {
     "name": "stderr",
     "output_type": "stream",
     "text": [
      "102it [26:09, 13.41s/it]"
     ]
    },
    {
     "name": "stdout",
     "output_type": "stream",
     "text": [
      "未找到下载链接。\n",
      "文献DOI为 10.1016/j.pulmoe.2023.04.008 的下载状态已更新为 2\n",
      "已经下载79,正在下载10.1080/03008880802325192\n"
     ]
    },
    {
     "name": "stderr",
     "output_type": "stream",
     "text": [
      "103it [26:15, 11.26s/it]"
     ]
    },
    {
     "name": "stdout",
     "output_type": "stream",
     "text": [
      "文件 SL01-103-J.pdf 下载成功！\n",
      "下载DOI为10.1080/03008880802325192的论文成功。\n",
      "文献DOI为 10.1080/03008880802325192 的下载状态已更新为 1\n",
      "已经下载80,正在下载10.1080/21645515.2017.1345399\n"
     ]
    },
    {
     "name": "stderr",
     "output_type": "stream",
     "text": [
      "104it [26:34, 13.78s/it]"
     ]
    },
    {
     "name": "stdout",
     "output_type": "stream",
     "text": [
      "下载DOI为10.1080/21645515.2017.1345399的论文成功。\n",
      "文献DOI为 10.1080/21645515.2017.1345399 的下载状态已更新为 1\n",
      "已经下载81,正在下载10.1016/j.ijheh.2022.113953\n"
     ]
    },
    {
     "name": "stderr",
     "output_type": "stream",
     "text": [
      "105it [26:39, 10.94s/it]"
     ]
    },
    {
     "name": "stdout",
     "output_type": "stream",
     "text": [
      "未找到下载链接。\n",
      "文献DOI为 10.1016/j.ijheh.2022.113953 的下载状态已更新为 2\n",
      "已经下载81,正在下载10.1186/rr5\n"
     ]
    },
    {
     "name": "stderr",
     "output_type": "stream",
     "text": [
      "106it [26:46,  9.82s/it]"
     ]
    },
    {
     "name": "stdout",
     "output_type": "stream",
     "text": [
      "下载DOI为10.1186/rr5的论文成功。\n",
      "文献DOI为 10.1186/rr5 的下载状态已更新为 1\n",
      "已经下载82,正在下载10.1186/s12940-021-00799-8\n"
     ]
    },
    {
     "name": "stderr",
     "output_type": "stream",
     "text": [
      "107it [27:50, 26.04s/it]"
     ]
    },
    {
     "name": "stdout",
     "output_type": "stream",
     "text": [
      "下载DOI为10.1186/s12940-021-00799-8的论文成功。\n",
      "文献DOI为 10.1186/s12940-021-00799-8 的下载状态已更新为 1\n",
      "已经下载83,正在下载10.1007/s00204-012-0866-7\n"
     ]
    },
    {
     "name": "stderr",
     "output_type": "stream",
     "text": [
      "108it [27:58, 20.68s/it]"
     ]
    },
    {
     "name": "stdout",
     "output_type": "stream",
     "text": [
      "下载DOI为10.1007/s00204-012-0866-7的论文成功。\n",
      "文献DOI为 10.1007/s00204-012-0866-7 的下载状态已更新为 1\n",
      "已经下载84,正在下载10.13075/ijomeh.1896.00436\n"
     ]
    },
    {
     "name": "stderr",
     "output_type": "stream",
     "text": [
      "109it [28:16, 19.95s/it]"
     ]
    },
    {
     "name": "stdout",
     "output_type": "stream",
     "text": [
      "下载DOI为10.13075/ijomeh.1896.00436的论文成功。\n",
      "文献DOI为 10.13075/ijomeh.1896.00436 的下载状态已更新为 1\n",
      "已经下载85,正在下载10.1016/j.neuro.2004.12.009\n"
     ]
    },
    {
     "name": "stderr",
     "output_type": "stream",
     "text": [
      "110it [28:24, 16.15s/it]"
     ]
    },
    {
     "name": "stdout",
     "output_type": "stream",
     "text": [
      "文件 SL01-110-J.pdf 下载成功！\n",
      "下载DOI为10.1016/j.neuro.2004.12.009的论文成功。\n",
      "文献DOI为 10.1016/j.neuro.2004.12.009 的下载状态已更新为 1\n",
      "已经下载86,正在下载10.1177/2047487318809180\n"
     ]
    },
    {
     "name": "stderr",
     "output_type": "stream",
     "text": [
      "111it [28:33, 14.17s/it]"
     ]
    },
    {
     "name": "stdout",
     "output_type": "stream",
     "text": [
      "下载DOI为10.1177/2047487318809180的论文成功。\n",
      "文献DOI为 10.1177/2047487318809180 的下载状态已更新为 1\n",
      "已经下载87,正在下载10.1016/j.scitotenv.2023.166030\n"
     ]
    },
    {
     "name": "stderr",
     "output_type": "stream",
     "text": [
      "112it [28:59, 17.55s/it]"
     ]
    },
    {
     "name": "stdout",
     "output_type": "stream",
     "text": [
      "未找到下载链接。\n",
      "文献DOI为 10.1016/j.scitotenv.2023.166030 的下载状态已更新为 2\n",
      "已经下载87,正在下载10.1080/13696998.2022.2071427\n",
      "下载失败。\n"
     ]
    },
    {
     "name": "stderr",
     "output_type": "stream",
     "text": [
      "113it [29:05, 14.25s/it]"
     ]
    },
    {
     "name": "stdout",
     "output_type": "stream",
     "text": [
      "下载失败。\n",
      "请求失败。\n",
      "文献DOI为 10.1080/13696998.2022.2071427 的下载状态已更新为 2\n",
      "已经下载87,正在下载10.1089/hs.2023.0033\n"
     ]
    },
    {
     "name": "stderr",
     "output_type": "stream",
     "text": [
      "114it [29:09, 11.23s/it]"
     ]
    },
    {
     "name": "stdout",
     "output_type": "stream",
     "text": [
      "未找到下载链接。\n",
      "文献DOI为 10.1089/hs.2023.0033 的下载状态已更新为 2\n",
      "已经下载87,正在下载10.3390/ijms161126032\n"
     ]
    },
    {
     "name": "stderr",
     "output_type": "stream",
     "text": [
      "115it [29:15,  9.49s/it]"
     ]
    },
    {
     "name": "stdout",
     "output_type": "stream",
     "text": [
      "下载DOI为10.3390/ijms161126032的论文成功。\n",
      "文献DOI为 10.3390/ijms161126032 的下载状态已更新为 1\n",
      "已经下载88,正在下载10.1093/epirev/mxg007\n"
     ]
    },
    {
     "name": "stderr",
     "output_type": "stream",
     "text": [
      "116it [29:34, 12.48s/it]"
     ]
    },
    {
     "name": "stdout",
     "output_type": "stream",
     "text": [
      "下载DOI为10.1093/epirev/mxg007的论文成功。\n",
      "文献DOI为 10.1093/epirev/mxg007 的下载状态已更新为 1\n",
      "已经下载89,正在下载10.1002/etc.2375\n"
     ]
    },
    {
     "name": "stderr",
     "output_type": "stream",
     "text": [
      "117it [29:41, 10.83s/it]"
     ]
    },
    {
     "name": "stdout",
     "output_type": "stream",
     "text": [
      "下载DOI为10.1002/etc.2375的论文成功。\n",
      "文献DOI为 10.1002/etc.2375 的下载状态已更新为 1\n",
      "已经下载90,正在下载10.1016/j.vaccine.2019.07.013\n"
     ]
    },
    {
     "name": "stderr",
     "output_type": "stream",
     "text": [
      "118it [29:51, 10.62s/it]"
     ]
    },
    {
     "name": "stdout",
     "output_type": "stream",
     "text": [
      "文件 SL01-118-J.pdf 下载成功！\n",
      "下载DOI为10.1016/j.vaccine.2019.07.013的论文成功。\n",
      "文献DOI为 10.1016/j.vaccine.2019.07.013 的下载状态已更新为 1\n",
      "已经下载91,正在下载10.1016/j.socscimed.2011.06.051\n"
     ]
    },
    {
     "name": "stderr",
     "output_type": "stream",
     "text": [
      "119it [29:57,  9.09s/it]"
     ]
    },
    {
     "name": "stdout",
     "output_type": "stream",
     "text": [
      "文件 SL01-119-J.pdf 下载成功！\n",
      "下载DOI为10.1016/j.socscimed.2011.06.051的论文成功。\n",
      "文献DOI为 10.1016/j.socscimed.2011.06.051 的下载状态已更新为 1\n",
      "已经下载92,正在下载10.3390/ijerph15081786\n"
     ]
    },
    {
     "name": "stderr",
     "output_type": "stream",
     "text": [
      "120it [30:02,  7.83s/it]"
     ]
    },
    {
     "name": "stdout",
     "output_type": "stream",
     "text": [
      "下载DOI为10.3390/ijerph15081786的论文成功。\n",
      "文献DOI为 10.3390/ijerph15081786 的下载状态已更新为 1\n",
      "已经下载93,正在下载10.1038/s41467-021-21775-3\n"
     ]
    },
    {
     "name": "stderr",
     "output_type": "stream",
     "text": [
      "121it [30:13,  9.01s/it]"
     ]
    },
    {
     "name": "stdout",
     "output_type": "stream",
     "text": [
      "下载DOI为10.1038/s41467-021-21775-3的论文成功。\n",
      "文献DOI为 10.1038/s41467-021-21775-3 的下载状态已更新为 1\n",
      "已经下载94,正在下载10.3389/fpubh.2022.920032\n"
     ]
    },
    {
     "name": "stderr",
     "output_type": "stream",
     "text": [
      "122it [30:18,  7.68s/it]"
     ]
    },
    {
     "name": "stdout",
     "output_type": "stream",
     "text": [
      "下载DOI为10.3389/fpubh.2022.920032的论文成功。\n",
      "文献DOI为 10.3389/fpubh.2022.920032 的下载状态已更新为 1\n",
      "已经下载95,正在下载10.1093/ejcts/ezt246\n"
     ]
    },
    {
     "name": "stderr",
     "output_type": "stream",
     "text": [
      "123it [30:26,  7.78s/it]"
     ]
    },
    {
     "name": "stdout",
     "output_type": "stream",
     "text": [
      "下载DOI为10.1093/ejcts/ezt246的论文成功。\n",
      "文献DOI为 10.1093/ejcts/ezt246 的下载状态已更新为 1\n",
      "已经下载96,正在下载10.1111/all.13405\n"
     ]
    },
    {
     "name": "stderr",
     "output_type": "stream",
     "text": [
      "124it [30:33,  7.61s/it]"
     ]
    },
    {
     "name": "stdout",
     "output_type": "stream",
     "text": [
      "下载DOI为10.1111/all.13405的论文成功。\n",
      "文献DOI为 10.1111/all.13405 的下载状态已更新为 1\n",
      "已经下载97,正在下载10.2105/AJPH.2022.307086\n"
     ]
    },
    {
     "name": "stderr",
     "output_type": "stream",
     "text": [
      "125it [30:44,  8.60s/it]"
     ]
    },
    {
     "name": "stdout",
     "output_type": "stream",
     "text": [
      "未找到下载链接。\n",
      "文献DOI为 10.2105/AJPH.2022.307086 的下载状态已更新为 2\n",
      "已经下载97,正在下载10.3389/fpubh.2021.628630\n"
     ]
    },
    {
     "name": "stderr",
     "output_type": "stream",
     "text": [
      "126it [30:49,  7.60s/it]"
     ]
    },
    {
     "name": "stdout",
     "output_type": "stream",
     "text": [
      "下载DOI为10.3389/fpubh.2021.628630的论文成功。\n",
      "文献DOI为 10.3389/fpubh.2021.628630 的下载状态已更新为 1\n",
      "已经下载98,正在下载10.5365/WPSAR.2015.6.4.008\n"
     ]
    },
    {
     "name": "stderr",
     "output_type": "stream",
     "text": [
      "127it [31:07, 10.64s/it]"
     ]
    },
    {
     "name": "stdout",
     "output_type": "stream",
     "text": [
      "下载DOI为10.5365/WPSAR.2015.6.4.008的论文成功。\n",
      "文献DOI为 10.5365/WPSAR.2015.6.4.008 的下载状态已更新为 1\n",
      "已经下载99,正在下载10.1093/toxsci/kfm005\n"
     ]
    },
    {
     "name": "stderr",
     "output_type": "stream",
     "text": [
      "128it [31:16, 10.12s/it]"
     ]
    },
    {
     "name": "stdout",
     "output_type": "stream",
     "text": [
      "下载DOI为10.1093/toxsci/kfm005的论文成功。\n",
      "文献DOI为 10.1093/toxsci/kfm005 的下载状态已更新为 1\n",
      "已经下载100,正在下载10.1002/pd.5921\n"
     ]
    },
    {
     "name": "stderr",
     "output_type": "stream",
     "text": [
      "129it [31:23,  9.18s/it]"
     ]
    },
    {
     "name": "stdout",
     "output_type": "stream",
     "text": [
      "文件 SL01-129-J.pdf 下载成功！\n",
      "下载DOI为10.1002/pd.5921的论文成功。\n",
      "文献DOI为 10.1002/pd.5921 的下载状态已更新为 1\n",
      "已经下载101,正在下载10.1080/15287390701557479\n"
     ]
    },
    {
     "name": "stderr",
     "output_type": "stream",
     "text": [
      "130it [31:29,  8.24s/it]"
     ]
    },
    {
     "name": "stdout",
     "output_type": "stream",
     "text": [
      "文件 SL01-130-J.pdf 下载成功！\n",
      "下载DOI为10.1080/15287390701557479的论文成功。\n",
      "文献DOI为 10.1080/15287390701557479 的下载状态已更新为 1\n",
      "已经下载102,正在下载10.1590/s1020-49892005000800013\n"
     ]
    },
    {
     "name": "stderr",
     "output_type": "stream",
     "text": [
      "131it [31:37,  8.16s/it]"
     ]
    },
    {
     "name": "stdout",
     "output_type": "stream",
     "text": [
      "下载DOI为10.1590/s1020-49892005000800013的论文成功。\n",
      "文献DOI为 10.1590/s1020-49892005000800013 的下载状态已更新为 1\n",
      "已经下载103,正在下载10.1017/S0950268822000188\n"
     ]
    },
    {
     "name": "stderr",
     "output_type": "stream",
     "text": [
      "132it [31:49,  9.22s/it]"
     ]
    },
    {
     "name": "stdout",
     "output_type": "stream",
     "text": [
      "下载DOI为10.1017/S0950268822000188的论文成功。\n",
      "文献DOI为 10.1017/S0950268822000188 的下载状态已更新为 1\n",
      "已经下载104,正在下载10.1002/clc.20963\n"
     ]
    },
    {
     "name": "stderr",
     "output_type": "stream",
     "text": [
      "133it [31:58,  9.17s/it]"
     ]
    },
    {
     "name": "stdout",
     "output_type": "stream",
     "text": [
      "下载DOI为10.1002/clc.20963的论文成功。\n",
      "文献DOI为 10.1002/clc.20963 的下载状态已更新为 1\n",
      "已经下载105,正在下载10.1016/j.jpsychires.2023.03.034\n"
     ]
    },
    {
     "name": "stderr",
     "output_type": "stream",
     "text": [
      "134it [32:02,  7.61s/it]"
     ]
    },
    {
     "name": "stdout",
     "output_type": "stream",
     "text": [
      "未找到下载链接。\n",
      "文献DOI为 10.1016/j.jpsychires.2023.03.034 的下载状态已更新为 2\n",
      "已经下载105,正在下载10.1016/j.jhazmat.2022.130191\n"
     ]
    },
    {
     "name": "stderr",
     "output_type": "stream",
     "text": [
      "135it [32:05,  6.44s/it]"
     ]
    },
    {
     "name": "stdout",
     "output_type": "stream",
     "text": [
      "未找到下载链接。\n",
      "文献DOI为 10.1016/j.jhazmat.2022.130191 的下载状态已更新为 2\n",
      "已经下载105,正在下载10.1016/j.jsbmb.2010.03.032\n"
     ]
    },
    {
     "name": "stderr",
     "output_type": "stream",
     "text": [
      "136it [32:12,  6.55s/it]"
     ]
    },
    {
     "name": "stdout",
     "output_type": "stream",
     "text": [
      "文件 SL01-136-J.pdf 下载成功！\n",
      "下载DOI为10.1016/j.jsbmb.2010.03.032的论文成功。\n",
      "文献DOI为 10.1016/j.jsbmb.2010.03.032 的下载状态已更新为 1\n",
      "已经下载106,正在下载10.1016/j.gheart.2014.12.013\n"
     ]
    },
    {
     "name": "stderr",
     "output_type": "stream",
     "text": [
      "137it [32:20,  6.88s/it]"
     ]
    },
    {
     "name": "stdout",
     "output_type": "stream",
     "text": [
      "下载DOI为10.1016/j.gheart.2014.12.013的论文成功。\n",
      "文献DOI为 10.1016/j.gheart.2014.12.013 的下载状态已更新为 1\n",
      "已经下载107,正在下载10.1146/annurev.publhealth.29.020907.090859\n"
     ]
    },
    {
     "name": "stderr",
     "output_type": "stream",
     "text": [
      "138it [32:36,  9.67s/it]"
     ]
    },
    {
     "name": "stdout",
     "output_type": "stream",
     "text": [
      "文件 SL01-138-J.pdf 下载成功！\n",
      "下载DOI为10.1146/annurev.publhealth.29.020907.090859的论文成功。\n",
      "文献DOI为 10.1146/annurev.publhealth.29.020907.090859 的下载状态已更新为 1\n",
      "已经下载108,正在下载10.1086/425267\n"
     ]
    },
    {
     "name": "stderr",
     "output_type": "stream",
     "text": [
      "139it [32:46,  9.60s/it]"
     ]
    },
    {
     "name": "stdout",
     "output_type": "stream",
     "text": [
      "下载DOI为10.1086/425267的论文成功。\n",
      "文献DOI为 10.1086/425267 的下载状态已更新为 1\n",
      "已经下载109,正在下载10.3389/fpubh.2023.1226776\n"
     ]
    },
    {
     "name": "stderr",
     "output_type": "stream",
     "text": [
      "140it [32:50,  7.92s/it]"
     ]
    },
    {
     "name": "stdout",
     "output_type": "stream",
     "text": [
      "下载DOI为10.3389/fpubh.2023.1226776的论文成功。\n",
      "文献DOI为 10.3389/fpubh.2023.1226776 的下载状态已更新为 1\n",
      "已经下载110,正在下载10.1093/rpd/ncz082\n"
     ]
    },
    {
     "name": "stderr",
     "output_type": "stream",
     "text": [
      "141it [33:00,  8.54s/it]"
     ]
    },
    {
     "name": "stdout",
     "output_type": "stream",
     "text": [
      "文件 SL01-141-J.pdf 下载成功！\n",
      "下载DOI为10.1093/rpd/ncz082的论文成功。\n",
      "文献DOI为 10.1093/rpd/ncz082 的下载状态已更新为 1\n",
      "已经下载111,正在下载10.1146/annurev.publhealth.23.100901.140525\n"
     ]
    },
    {
     "name": "stderr",
     "output_type": "stream",
     "text": [
      "142it [33:07,  8.23s/it]"
     ]
    },
    {
     "name": "stdout",
     "output_type": "stream",
     "text": [
      "文件 SL01-142-J.pdf 下载成功！\n",
      "下载DOI为10.1146/annurev.publhealth.23.100901.140525的论文成功。\n",
      "文献DOI为 10.1146/annurev.publhealth.23.100901.140525 的下载状态已更新为 1\n",
      "已经下载112,正在下载10.1016/j.tmaid.2005.06.005\n"
     ]
    },
    {
     "name": "stderr",
     "output_type": "stream",
     "text": [
      "143it [33:13,  7.54s/it]"
     ]
    },
    {
     "name": "stdout",
     "output_type": "stream",
     "text": [
      "文件 SL01-143-J.pdf 下载成功！\n",
      "下载DOI为10.1016/j.tmaid.2005.06.005的论文成功。\n",
      "文献DOI为 10.1016/j.tmaid.2005.06.005 的下载状态已更新为 1\n",
      "已经下载113,正在下载10.21101/cejph.a3940\n"
     ]
    },
    {
     "name": "stderr",
     "output_type": "stream",
     "text": [
      "144it [33:18,  6.73s/it]"
     ]
    },
    {
     "name": "stdout",
     "output_type": "stream",
     "text": [
      "下载DOI为10.21101/cejph.a3940的论文成功。\n",
      "文献DOI为 10.21101/cejph.a3940 的下载状态已更新为 1\n",
      "已经下载114,正在下载10.1016/j.fct.2017.03.012\n"
     ]
    },
    {
     "name": "stderr",
     "output_type": "stream",
     "text": [
      "145it [33:25,  6.90s/it]"
     ]
    },
    {
     "name": "stdout",
     "output_type": "stream",
     "text": [
      "文件 SL01-145-J.pdf 下载成功！\n",
      "下载DOI为10.1016/j.fct.2017.03.012的论文成功。\n",
      "文献DOI为 10.1016/j.fct.2017.03.012 的下载状态已更新为 1\n",
      "已经下载115,正在下载10.1080/10408410802636017\n"
     ]
    },
    {
     "name": "stderr",
     "output_type": "stream",
     "text": [
      "146it [33:51, 12.46s/it]"
     ]
    },
    {
     "name": "stdout",
     "output_type": "stream",
     "text": [
      "下载DOI为10.1080/10408410802636017的论文成功。\n",
      "文献DOI为 10.1080/10408410802636017 的下载状态已更新为 1\n",
      "已经下载116,正在下载10.4315/0362-028X.JFP-15-184\n"
     ]
    },
    {
     "name": "stderr",
     "output_type": "stream",
     "text": [
      "147it [33:57, 10.57s/it]"
     ]
    },
    {
     "name": "stdout",
     "output_type": "stream",
     "text": [
      "文件 SL01-147-J.pdf 下载成功！\n",
      "下载DOI为10.4315/0362-028X.JFP-15-184的论文成功。\n",
      "文献DOI为 10.4315/0362-028X.JFP-15-184 的下载状态已更新为 1\n",
      "已经下载117,正在下载10.1097/GCO.0b013e32832e0772\n"
     ]
    },
    {
     "name": "stderr",
     "output_type": "stream",
     "text": [
      "148it [34:04,  9.52s/it]"
     ]
    },
    {
     "name": "stdout",
     "output_type": "stream",
     "text": [
      "文件 SL01-148-J.pdf 下载成功！\n",
      "下载DOI为10.1097/GCO.0b013e32832e0772的论文成功。\n",
      "文献DOI为 10.1097/GCO.0b013e32832e0772 的下载状态已更新为 1\n",
      "已经下载118,正在下载10.1111/risa.14196\n"
     ]
    },
    {
     "name": "stderr",
     "output_type": "stream",
     "text": [
      "149it [34:10,  8.44s/it]"
     ]
    },
    {
     "name": "stdout",
     "output_type": "stream",
     "text": [
      "未找到下载链接。\n",
      "文献DOI为 10.1111/risa.14196 的下载状态已更新为 2\n",
      "已经下载118,正在下载10.1089/1520915041705956\n"
     ]
    },
    {
     "name": "stderr",
     "output_type": "stream",
     "text": [
      "150it [34:21,  9.26s/it]"
     ]
    },
    {
     "name": "stdout",
     "output_type": "stream",
     "text": [
      "文件 SL01-150-J.pdf 下载成功！\n",
      "下载DOI为10.1089/1520915041705956的论文成功。\n",
      "文献DOI为 10.1089/1520915041705956 的下载状态已更新为 1\n",
      "已经下载119,正在下载10.1038/sj.jea.7500139\n"
     ]
    },
    {
     "name": "stderr",
     "output_type": "stream",
     "text": [
      "151it [34:27,  8.39s/it]"
     ]
    },
    {
     "name": "stdout",
     "output_type": "stream",
     "text": [
      "文件 SL01-151-J.pdf 下载成功！\n",
      "下载DOI为10.1038/sj.jea.7500139的论文成功。\n",
      "文献DOI为 10.1038/sj.jea.7500139 的下载状态已更新为 1\n",
      "已经下载120,正在下载10.1289/ehp.00108997\n"
     ]
    },
    {
     "name": "stderr",
     "output_type": "stream",
     "text": [
      "152it [34:32,  7.37s/it]"
     ]
    },
    {
     "name": "stdout",
     "output_type": "stream",
     "text": [
      "下载DOI为10.1289/ehp.00108997的论文成功。\n",
      "文献DOI为 10.1289/ehp.00108997 的下载状态已更新为 1\n",
      "已经下载121,正在下载10.17116/hirurgia2018885\n"
     ]
    },
    {
     "name": "stderr",
     "output_type": "stream",
     "text": [
      "153it [34:37,  6.57s/it]"
     ]
    },
    {
     "name": "stdout",
     "output_type": "stream",
     "text": [
      "未找到下载链接。\n",
      "文献DOI为 10.17116/hirurgia2018885 的下载状态已更新为 2\n",
      "已经下载121,正在下载10.1093/infdis/jit154\n"
     ]
    },
    {
     "name": "stderr",
     "output_type": "stream",
     "text": [
      "154it [34:46,  7.40s/it]"
     ]
    },
    {
     "name": "stdout",
     "output_type": "stream",
     "text": [
      "下载DOI为10.1093/infdis/jit154的论文成功。\n",
      "文献DOI为 10.1093/infdis/jit154 的下载状态已更新为 1\n",
      "已经下载122,正在下载10.1055/s-2004-829000\n"
     ]
    },
    {
     "name": "stderr",
     "output_type": "stream",
     "text": [
      "155it [34:56,  8.24s/it]"
     ]
    },
    {
     "name": "stdout",
     "output_type": "stream",
     "text": [
      "下载DOI为10.1055/s-2004-829000的论文成功。\n",
      "文献DOI为 10.1055/s-2004-829000 的下载状态已更新为 1\n",
      "已经下载123,正在下载10.1080/10408440903052855\n"
     ]
    },
    {
     "name": "stderr",
     "output_type": "stream",
     "text": [
      "156it [35:06,  8.66s/it]"
     ]
    },
    {
     "name": "stdout",
     "output_type": "stream",
     "text": [
      "文件 SL01-156-J.pdf 下载成功！\n",
      "下载DOI为10.1080/10408440903052855的论文成功。\n",
      "文献DOI为 10.1080/10408440903052855 的下载状态已更新为 1\n",
      "已经下载124,正在下载10.1088/1361-6498/ac290a\n"
     ]
    },
    {
     "name": "stderr",
     "output_type": "stream",
     "text": [
      "157it [35:11,  7.45s/it]"
     ]
    },
    {
     "name": "stdout",
     "output_type": "stream",
     "text": [
      "未找到下载链接。\n",
      "文献DOI为 10.1088/1361-6498/ac290a 的下载状态已更新为 2\n",
      "已经下载124,正在下载10.1097/RMR.0b013e3181ea2893\n"
     ]
    },
    {
     "name": "stderr",
     "output_type": "stream",
     "text": [
      "158it [35:23,  8.81s/it]"
     ]
    },
    {
     "name": "stdout",
     "output_type": "stream",
     "text": [
      "下载DOI为10.1097/RMR.0b013e3181ea2893的论文成功。\n",
      "文献DOI为 10.1097/RMR.0b013e3181ea2893 的下载状态已更新为 1\n",
      "已经下载125,正在下载10.1093/ntr/ntz162\n"
     ]
    },
    {
     "name": "stderr",
     "output_type": "stream",
     "text": [
      "159it [35:37, 10.37s/it]"
     ]
    },
    {
     "name": "stdout",
     "output_type": "stream",
     "text": [
      "下载DOI为10.1093/ntr/ntz162的论文成功。\n",
      "文献DOI为 10.1093/ntr/ntz162 的下载状态已更新为 1\n",
      "已经下载126,正在下载10.1007/s00105-023-05116-7\n"
     ]
    },
    {
     "name": "stderr",
     "output_type": "stream",
     "text": [
      "160it [36:01, 14.48s/it]"
     ]
    },
    {
     "name": "stdout",
     "output_type": "stream",
     "text": [
      "下载DOI为10.1007/s00105-023-05116-7的论文成功。\n",
      "文献DOI为 10.1007/s00105-023-05116-7 的下载状态已更新为 1\n",
      "已经下载127,正在下载10.1146/annurev.micro.54.1.81\n"
     ]
    },
    {
     "name": "stderr",
     "output_type": "stream",
     "text": [
      "161it [36:09, 12.52s/it]"
     ]
    },
    {
     "name": "stdout",
     "output_type": "stream",
     "text": [
      "文件 SL01-161-J.pdf 下载成功！\n",
      "下载DOI为10.1146/annurev.micro.54.1.81的论文成功。\n",
      "文献DOI为 10.1146/annurev.micro.54.1.81 的下载状态已更新为 1\n",
      "已经下载128,正在下载10.1371/journal.pmed.1000347\n"
     ]
    },
    {
     "name": "stderr",
     "output_type": "stream",
     "text": [
      "162it [36:13, 10.02s/it]"
     ]
    },
    {
     "name": "stdout",
     "output_type": "stream",
     "text": [
      "下载DOI为10.1371/journal.pmed.1000347的论文成功。\n",
      "文献DOI为 10.1371/journal.pmed.1000347 的下载状态已更新为 1\n",
      "已经下载129,正在下载10.1111/j.1475-6773.2006.00519.x\n"
     ]
    },
    {
     "name": "stderr",
     "output_type": "stream",
     "text": [
      "163it [36:20,  9.01s/it]"
     ]
    },
    {
     "name": "stdout",
     "output_type": "stream",
     "text": [
      "下载DOI为10.1111/j.1475-6773.2006.00519.x的论文成功。\n",
      "文献DOI为 10.1111/j.1475-6773.2006.00519.x 的下载状态已更新为 1\n",
      "已经下载130,正在下载10.3390/ijerph2005010043\n"
     ]
    },
    {
     "name": "stderr",
     "output_type": "stream",
     "text": [
      "165it [36:28,  6.85s/it]"
     ]
    },
    {
     "name": "stdout",
     "output_type": "stream",
     "text": [
      "下载DOI为10.3390/ijerph2005010043的论文成功。\n",
      "文献DOI为 10.3390/ijerph2005010043 的下载状态已更新为 1\n",
      "已经下载131,正在下载10.1684/ejd.2007.0300\n"
     ]
    },
    {
     "name": "stderr",
     "output_type": "stream",
     "text": [
      "166it [36:33,  6.35s/it]"
     ]
    },
    {
     "name": "stdout",
     "output_type": "stream",
     "text": [
      "未找到下载链接。\n",
      "文献DOI为 10.1684/ejd.2007.0300 的下载状态已更新为 2\n",
      "已经下载131,正在下载10.2903/j.efsa.2022.e200411\n"
     ]
    },
    {
     "name": "stderr",
     "output_type": "stream",
     "text": [
      "167it [36:54, 10.16s/it]"
     ]
    },
    {
     "name": "stdout",
     "output_type": "stream",
     "text": [
      "下载DOI为10.2903/j.efsa.2022.e200411的论文成功。\n",
      "文献DOI为 10.2903/j.efsa.2022.e200411 的下载状态已更新为 1\n",
      "已经下载132,正在下载10.1016/j.envres.2006.10.001\n"
     ]
    },
    {
     "name": "stderr",
     "output_type": "stream",
     "text": [
      "168it [37:01,  9.28s/it]"
     ]
    },
    {
     "name": "stdout",
     "output_type": "stream",
     "text": [
      "文件 SL01-168-J.pdf 下载成功！\n",
      "下载DOI为10.1016/j.envres.2006.10.001的论文成功。\n",
      "文献DOI为 10.1016/j.envres.2006.10.001 的下载状态已更新为 1\n",
      "已经下载133,正在下载10.2741/397\n"
     ]
    },
    {
     "name": "stderr",
     "output_type": "stream",
     "text": [
      "169it [37:14, 10.45s/it]"
     ]
    },
    {
     "name": "stdout",
     "output_type": "stream",
     "text": [
      "下载DOI为10.2741/397的论文成功。\n",
      "文献DOI为 10.2741/397 的下载状态已更新为 1\n",
      "已经下载134,正在下载10.1016/j.cger.2009.03.002\n"
     ]
    },
    {
     "name": "stderr",
     "output_type": "stream",
     "text": [
      "170it [37:27, 11.09s/it]"
     ]
    },
    {
     "name": "stdout",
     "output_type": "stream",
     "text": [
      "下载DOI为10.1016/j.cger.2009.03.002的论文成功。\n",
      "文献DOI为 10.1016/j.cger.2009.03.002 的下载状态已更新为 1\n",
      "已经下载135,正在下载10.1080/09553002.2020.1853847\n"
     ]
    },
    {
     "name": "stderr",
     "output_type": "stream",
     "text": [
      "171it [37:36, 10.61s/it]"
     ]
    },
    {
     "name": "stdout",
     "output_type": "stream",
     "text": [
      "文件 SL01-171-J.pdf 下载成功！\n",
      "下载DOI为10.1080/09553002.2020.1853847的论文成功。\n",
      "文献DOI为 10.1080/09553002.2020.1853847 的下载状态已更新为 1\n",
      "已经下载136,正在下载10.2903/j.efsa.2024.8488\n"
     ]
    },
    {
     "name": "stderr",
     "output_type": "stream",
     "text": [
      "172it [38:09, 16.97s/it]"
     ]
    },
    {
     "name": "stdout",
     "output_type": "stream",
     "text": [
      "下载DOI为10.2903/j.efsa.2024.8488的论文成功。\n",
      "文献DOI为 10.2903/j.efsa.2024.8488 的下载状态已更新为 1\n",
      "已经下载137,正在下载10.1016/s1001-9294(13)60009-7\n"
     ]
    },
    {
     "name": "stderr",
     "output_type": "stream",
     "text": [
      "173it [38:15, 13.82s/it]"
     ]
    },
    {
     "name": "stdout",
     "output_type": "stream",
     "text": [
      "文件 SL01-173-J.pdf 下载成功！\n",
      "下载DOI为10.1016/s1001-9294(13)60009-7的论文成功。\n",
      "文献DOI为 10.1016/s1001-9294(13)60009-7 的下载状态已更新为 1\n",
      "已经下载138,正在下载10.1016/j.bpg.2017.09.016\n"
     ]
    },
    {
     "name": "stderr",
     "output_type": "stream",
     "text": [
      "174it [38:22, 11.80s/it]"
     ]
    },
    {
     "name": "stdout",
     "output_type": "stream",
     "text": [
      "文件 SL01-174-J.pdf 下载成功！\n",
      "下载DOI为10.1016/j.bpg.2017.09.016的论文成功。\n",
      "文献DOI为 10.1016/j.bpg.2017.09.016 的下载状态已更新为 1\n",
      "已经下载139,正在下载10.1016/s0168-1605(00)00270-1\n"
     ]
    },
    {
     "name": "stderr",
     "output_type": "stream",
     "text": [
      "175it [38:29, 10.36s/it]"
     ]
    },
    {
     "name": "stdout",
     "output_type": "stream",
     "text": [
      "文件 SL01-175-J.pdf 下载成功！\n",
      "下载DOI为10.1016/s0168-1605(00)00270-1的论文成功。\n",
      "文献DOI为 10.1016/s0168-1605(00)00270-1 的下载状态已更新为 1\n",
      "已经下载140,正在下载10.5588/ijtld.12.0391\n"
     ]
    },
    {
     "name": "stderr",
     "output_type": "stream",
     "text": [
      "176it [38:37,  9.72s/it]"
     ]
    },
    {
     "name": "stdout",
     "output_type": "stream",
     "text": [
      "文件 SL01-176-J.pdf 下载成功！\n",
      "下载DOI为10.5588/ijtld.12.0391的论文成功。\n",
      "文献DOI为 10.5588/ijtld.12.0391 的下载状态已更新为 1\n",
      "已经下载141,正在下载10.1093/infdis/jir412\n"
     ]
    },
    {
     "name": "stderr",
     "output_type": "stream",
     "text": [
      "177it [38:54, 11.79s/it]"
     ]
    },
    {
     "name": "stdout",
     "output_type": "stream",
     "text": [
      "下载DOI为10.1093/infdis/jir412的论文成功。\n",
      "文献DOI为 10.1093/infdis/jir412 的下载状态已更新为 1\n",
      "已经下载142,正在下载10.1007/s10653-021-01158-9\n",
      "下载失败。\n"
     ]
    },
    {
     "name": "stderr",
     "output_type": "stream",
     "text": [
      "178it [38:59,  9.90s/it]"
     ]
    },
    {
     "name": "stdout",
     "output_type": "stream",
     "text": [
      "下载失败。\n",
      "请求失败。\n",
      "文献DOI为 10.1007/s10653-021-01158-9 的下载状态已更新为 2\n",
      "已经下载142,正在下载10.1016/j.watres.2008.02.029\n"
     ]
    },
    {
     "name": "stderr",
     "output_type": "stream",
     "text": [
      "179it [39:07,  9.28s/it]"
     ]
    },
    {
     "name": "stdout",
     "output_type": "stream",
     "text": [
      "文件 SL01-179-J.pdf 下载成功！\n",
      "下载DOI为10.1016/j.watres.2008.02.029的论文成功。\n",
      "文献DOI为 10.1016/j.watres.2008.02.029 的下载状态已更新为 1\n",
      "已经下载143,正在下载10.1007/s00420-002-0359-8\n"
     ]
    },
    {
     "name": "stderr",
     "output_type": "stream",
     "text": [
      "180it [39:14,  8.53s/it]"
     ]
    },
    {
     "name": "stdout",
     "output_type": "stream",
     "text": [
      "文件 SL01-180-J.pdf 下载成功！\n",
      "下载DOI为10.1007/s00420-002-0359-8的论文成功。\n",
      "文献DOI为 10.1007/s00420-002-0359-8 的下载状态已更新为 1\n",
      "已经下载144,正在下载10.1080/10937400490486258\n"
     ]
    },
    {
     "name": "stderr",
     "output_type": "stream",
     "text": [
      "181it [39:43, 14.51s/it]"
     ]
    },
    {
     "name": "stdout",
     "output_type": "stream",
     "text": [
      "文件 SL01-181-J.pdf 下载成功！\n",
      "下载DOI为10.1080/10937400490486258的论文成功。\n",
      "文献DOI为 10.1080/10937400490486258 的下载状态已更新为 1\n",
      "已经下载145,正在下载10.1016/j.vaccine.2020.08.068\n"
     ]
    },
    {
     "name": "stderr",
     "output_type": "stream",
     "text": [
      "182it [39:48, 11.84s/it]"
     ]
    },
    {
     "name": "stdout",
     "output_type": "stream",
     "text": [
      "文件 SL01-182-J.pdf 下载成功！\n",
      "下载DOI为10.1016/j.vaccine.2020.08.068的论文成功。\n",
      "文献DOI为 10.1016/j.vaccine.2020.08.068 的下载状态已更新为 1\n",
      "已经下载146,正在下载10.1016/j.scitotenv.2022.154233\n"
     ]
    },
    {
     "name": "stderr",
     "output_type": "stream",
     "text": [
      "183it [39:53,  9.65s/it]"
     ]
    },
    {
     "name": "stdout",
     "output_type": "stream",
     "text": [
      "未找到下载链接。\n",
      "文献DOI为 10.1016/j.scitotenv.2022.154233 的下载状态已更新为 2\n",
      "已经下载146,正在下载10.1016/j.yrtph.2018.03.026\n"
     ]
    },
    {
     "name": "stderr",
     "output_type": "stream",
     "text": [
      "184it [40:00,  8.84s/it]"
     ]
    },
    {
     "name": "stdout",
     "output_type": "stream",
     "text": [
      "文件 SL01-184-J.pdf 下载成功！\n",
      "下载DOI为10.1016/j.yrtph.2018.03.026的论文成功。\n",
      "文献DOI为 10.1016/j.yrtph.2018.03.026 的下载状态已更新为 1\n",
      "已经下载147,正在下载10.1080/21645515.2021.1932216\n"
     ]
    },
    {
     "name": "stderr",
     "output_type": "stream",
     "text": [
      "185it [40:11,  9.59s/it]"
     ]
    },
    {
     "name": "stdout",
     "output_type": "stream",
     "text": [
      "下载DOI为10.1080/21645515.2021.1932216的论文成功。\n",
      "文献DOI为 10.1080/21645515.2021.1932216 的下载状态已更新为 1\n",
      "已经下载148,正在下载10.1186/s12989-020-00364-0\n"
     ]
    },
    {
     "name": "stderr",
     "output_type": "stream",
     "text": [
      "186it [40:19,  9.27s/it]"
     ]
    },
    {
     "name": "stdout",
     "output_type": "stream",
     "text": [
      "下载DOI为10.1186/s12989-020-00364-0的论文成功。\n",
      "文献DOI为 10.1186/s12989-020-00364-0 的下载状态已更新为 1\n",
      "已经下载149,正在下载10.1016/j.envres.2005.03.002\n"
     ]
    },
    {
     "name": "stderr",
     "output_type": "stream",
     "text": [
      "187it [40:27,  8.73s/it]"
     ]
    },
    {
     "name": "stdout",
     "output_type": "stream",
     "text": [
      "文件 SL01-187-J.pdf 下载成功！\n",
      "下载DOI为10.1016/j.envres.2005.03.002的论文成功。\n",
      "文献DOI为 10.1016/j.envres.2005.03.002 的下载状态已更新为 1\n",
      "已经下载150,正在下载10.1111/j.1365-3156.2012.03085.x\n"
     ]
    },
    {
     "name": "stderr",
     "output_type": "stream",
     "text": [
      "188it [40:33,  8.08s/it]"
     ]
    },
    {
     "name": "stdout",
     "output_type": "stream",
     "text": [
      "文件 SL01-188-J.pdf 下载成功！\n",
      "下载DOI为10.1111/j.1365-3156.2012.03085.x的论文成功。\n",
      "文献DOI为 10.1111/j.1365-3156.2012.03085.x 的下载状态已更新为 1\n",
      "已经下载151,正在下载10.1016/j.vaccine.2014.04.019\n"
     ]
    },
    {
     "name": "stderr",
     "output_type": "stream",
     "text": [
      "189it [40:39,  7.45s/it]"
     ]
    },
    {
     "name": "stdout",
     "output_type": "stream",
     "text": [
      "下载DOI为10.1016/j.vaccine.2014.04.019的论文成功。\n",
      "文献DOI为 10.1016/j.vaccine.2014.04.019 的下载状态已更新为 1\n",
      "已经下载152,正在下载10.1007/s00204-017-1986-x\n"
     ]
    },
    {
     "name": "stderr",
     "output_type": "stream",
     "text": [
      "190it [40:54,  9.72s/it]"
     ]
    },
    {
     "name": "stdout",
     "output_type": "stream",
     "text": [
      "下载DOI为10.1007/s00204-017-1986-x的论文成功。\n",
      "文献DOI为 10.1007/s00204-017-1986-x 的下载状态已更新为 1\n",
      "已经下载153,正在下载10.1038/jes.2015.33\n"
     ]
    },
    {
     "name": "stderr",
     "output_type": "stream",
     "text": [
      "191it [41:08, 10.80s/it]"
     ]
    },
    {
     "name": "stdout",
     "output_type": "stream",
     "text": [
      "文件 SL01-191-J.pdf 下载成功！\n",
      "下载DOI为10.1038/jes.2015.33的论文成功。\n",
      "文献DOI为 10.1038/jes.2015.33 的下载状态已更新为 1\n",
      "已经下载154,正在下载10.4315/0362-028X.JFP-12-372\n"
     ]
    },
    {
     "name": "stderr",
     "output_type": "stream",
     "text": [
      "192it [41:19, 11.01s/it]"
     ]
    },
    {
     "name": "stdout",
     "output_type": "stream",
     "text": [
      "文件 SL01-192-J.pdf 下载成功！\n",
      "下载DOI为10.4315/0362-028X.JFP-12-372的论文成功。\n",
      "文献DOI为 10.4315/0362-028X.JFP-12-372 的下载状态已更新为 1\n",
      "已经下载155,正在下载10.1016/j.bpg.2006.05.007\n"
     ]
    },
    {
     "name": "stderr",
     "output_type": "stream",
     "text": [
      "193it [41:25,  9.54s/it]"
     ]
    },
    {
     "name": "stdout",
     "output_type": "stream",
     "text": [
      "文件 SL01-193-J.pdf 下载成功！\n",
      "下载DOI为10.1016/j.bpg.2006.05.007的论文成功。\n",
      "文献DOI为 10.1016/j.bpg.2006.05.007 的下载状态已更新为 1\n",
      "已经下载156,正在下载10.1111/imj.12070\n"
     ]
    },
    {
     "name": "stderr",
     "output_type": "stream",
     "text": [
      "194it [41:32,  8.68s/it]"
     ]
    },
    {
     "name": "stdout",
     "output_type": "stream",
     "text": [
      "文件 SL01-194-J.pdf 下载成功！\n",
      "下载DOI为10.1111/imj.12070的论文成功。\n",
      "文献DOI为 10.1111/imj.12070 的下载状态已更新为 1\n",
      "已经下载157,正在下载10.1258/175404507783004131\n"
     ]
    },
    {
     "name": "stderr",
     "output_type": "stream",
     "text": [
      "195it [41:37,  7.68s/it]"
     ]
    },
    {
     "name": "stdout",
     "output_type": "stream",
     "text": [
      "文件 SL01-195-J.pdf 下载成功！\n",
      "下载DOI为10.1258/175404507783004131的论文成功。\n",
      "文献DOI为 10.1258/175404507783004131 的下载状态已更新为 1\n",
      "已经下载158,正在下载10.1007/s00103-011-1368-0\n"
     ]
    },
    {
     "name": "stderr",
     "output_type": "stream",
     "text": [
      "196it [41:46,  7.89s/it]"
     ]
    },
    {
     "name": "stdout",
     "output_type": "stream",
     "text": [
      "文件 SL01-196-J.pdf 下载成功！\n",
      "下载DOI为10.1007/s00103-011-1368-0的论文成功。\n",
      "文献DOI为 10.1007/s00103-011-1368-0 的下载状态已更新为 1\n",
      "已经下载159,正在下载10.1210/en.2015-1403\n"
     ]
    },
    {
     "name": "stderr",
     "output_type": "stream",
     "text": [
      "197it [41:57,  8.88s/it]"
     ]
    },
    {
     "name": "stdout",
     "output_type": "stream",
     "text": [
      "下载DOI为10.1210/en.2015-1403的论文成功。\n",
      "文献DOI为 10.1210/en.2015-1403 的下载状态已更新为 1\n",
      "已经下载160,正在下载10.1016/j.yrtph.2008.01.016\n"
     ]
    },
    {
     "name": "stderr",
     "output_type": "stream",
     "text": [
      "198it [42:03,  8.10s/it]"
     ]
    },
    {
     "name": "stdout",
     "output_type": "stream",
     "text": [
      "文件 SL01-198-J.pdf 下载成功！\n",
      "下载DOI为10.1016/j.yrtph.2008.01.016的论文成功。\n",
      "文献DOI为 10.1016/j.yrtph.2008.01.016 的下载状态已更新为 1\n",
      "已经下载161,正在下载10.1038/jes.2015.49\n"
     ]
    },
    {
     "name": "stderr",
     "output_type": "stream",
     "text": [
      "199it [42:16,  9.46s/it]"
     ]
    },
    {
     "name": "stdout",
     "output_type": "stream",
     "text": [
      "文件 SL01-199-J.pdf 下载成功！\n",
      "下载DOI为10.1038/jes.2015.49的论文成功。\n",
      "文献DOI为 10.1038/jes.2015.49 的下载状态已更新为 1\n",
      "已经下载162,正在下载10.1016/j.tox.2021.152801\n"
     ]
    },
    {
     "name": "stderr",
     "output_type": "stream",
     "text": [
      "200it [42:24,  9.06s/it]"
     ]
    },
    {
     "name": "stdout",
     "output_type": "stream",
     "text": [
      "文件 SL01-200-J.pdf 下载成功！\n",
      "下载DOI为10.1016/j.tox.2021.152801的论文成功。\n",
      "文献DOI为 10.1016/j.tox.2021.152801 的下载状态已更新为 1\n",
      "已经下载163,正在下载10.1007/s13555-018-0236-3\n"
     ]
    },
    {
     "name": "stderr",
     "output_type": "stream",
     "text": [
      "201it [42:37, 10.32s/it]"
     ]
    },
    {
     "name": "stdout",
     "output_type": "stream",
     "text": [
      "下载DOI为10.1007/s13555-018-0236-3的论文成功。\n",
      "文献DOI为 10.1007/s13555-018-0236-3 的下载状态已更新为 1\n",
      "已经下载164,正在下载10.1016/j.taap.2005.04.023\n"
     ]
    },
    {
     "name": "stderr",
     "output_type": "stream",
     "text": [
      "202it [42:44,  9.11s/it]"
     ]
    },
    {
     "name": "stdout",
     "output_type": "stream",
     "text": [
      "文件 SL01-202-J.pdf 下载成功！\n",
      "下载DOI为10.1016/j.taap.2005.04.023的论文成功。\n",
      "文献DOI为 10.1016/j.taap.2005.04.023 的下载状态已更新为 1\n",
      "已经下载165,正在下载10.1006/scbi.2000.0320\n"
     ]
    },
    {
     "name": "stderr",
     "output_type": "stream",
     "text": [
      "203it [42:50,  8.33s/it]"
     ]
    },
    {
     "name": "stdout",
     "output_type": "stream",
     "text": [
      "文件 SL01-203-J.pdf 下载成功！\n",
      "下载DOI为10.1006/scbi.2000.0320的论文成功。\n",
      "文献DOI为 10.1006/scbi.2000.0320 的下载状态已更新为 1\n",
      "已经下载166,正在下载10.1016/j.jadohealth.2006.12.002\n"
     ]
    },
    {
     "name": "stderr",
     "output_type": "stream",
     "text": [
      "204it [42:57,  7.91s/it]"
     ]
    },
    {
     "name": "stdout",
     "output_type": "stream",
     "text": [
      "文件 SL01-204-J.pdf 下载成功！\n",
      "下载DOI为10.1016/j.jadohealth.2006.12.002的论文成功。\n",
      "文献DOI为 10.1016/j.jadohealth.2006.12.002 的下载状态已更新为 1\n",
      "已经下载167,正在下载10.17061/phrp2641649\n"
     ]
    },
    {
     "name": "stderr",
     "output_type": "stream",
     "text": [
      "205it [43:02,  6.98s/it]"
     ]
    },
    {
     "name": "stdout",
     "output_type": "stream",
     "text": [
      "下载DOI为10.17061/phrp2641649的论文成功。\n",
      "文献DOI为 10.17061/phrp2641649 的下载状态已更新为 1\n",
      "已经下载168,正在下载10.14252/foodsafetyfscj.2016013s\n"
     ]
    },
    {
     "name": "stderr",
     "output_type": "stream",
     "text": [
      "206it [43:12,  7.90s/it]"
     ]
    },
    {
     "name": "stdout",
     "output_type": "stream",
     "text": [
      "下载DOI为10.14252/foodsafetyfscj.2016013s的论文成功。\n",
      "文献DOI为 10.14252/foodsafetyfscj.2016013s 的下载状态已更新为 1\n",
      "已经下载169,正在下载10.1088/0952-4746/25/2/E02\n"
     ]
    },
    {
     "name": "stderr",
     "output_type": "stream",
     "text": [
      "207it [43:21,  8.26s/it]"
     ]
    },
    {
     "name": "stdout",
     "output_type": "stream",
     "text": [
      "文件 SL01-207-J.pdf 下载成功！\n",
      "下载DOI为10.1088/0952-4746/25/2/E02的论文成功。\n",
      "文献DOI为 10.1088/0952-4746/25/2/E02 的下载状态已更新为 1\n",
      "已经下载170,正在下载10.1097/00003727-200407000-00008\n"
     ]
    },
    {
     "name": "stderr",
     "output_type": "stream",
     "text": [
      "208it [43:28,  7.80s/it]"
     ]
    },
    {
     "name": "stdout",
     "output_type": "stream",
     "text": [
      "文件 SL01-208-J.pdf 下载成功！\n",
      "下载DOI为10.1097/00003727-200407000-00008的论文成功。\n",
      "文献DOI为 10.1097/00003727-200407000-00008 的下载状态已更新为 1\n",
      "已经下载171,正在下载10.1186/1471-2334-13-295\n"
     ]
    },
    {
     "name": "stderr",
     "output_type": "stream",
     "text": [
      "209it [43:36,  7.83s/it]"
     ]
    },
    {
     "name": "stdout",
     "output_type": "stream",
     "text": [
      "下载DOI为10.1186/1471-2334-13-295的论文成功。\n",
      "文献DOI为 10.1186/1471-2334-13-295 的下载状态已更新为 1\n",
      "已经下载172,正在下载10.1016/j.mcna.2008.05.001\n"
     ]
    },
    {
     "name": "stderr",
     "output_type": "stream",
     "text": [
      "210it [43:42,  7.48s/it]"
     ]
    },
    {
     "name": "stdout",
     "output_type": "stream",
     "text": [
      "文件 SL01-210-J.pdf 下载成功！\n",
      "下载DOI为10.1016/j.mcna.2008.05.001的论文成功。\n",
      "文献DOI为 10.1016/j.mcna.2008.05.001 的下载状态已更新为 1\n",
      "已经下载173,正在下载10.2903/j.efsa.2017.5007\n"
     ]
    },
    {
     "name": "stderr",
     "output_type": "stream",
     "text": [
      "211it [44:47, 24.63s/it]"
     ]
    },
    {
     "name": "stdout",
     "output_type": "stream",
     "text": [
      "下载DOI为10.2903/j.efsa.2017.5007的论文成功。\n",
      "文献DOI为 10.2903/j.efsa.2017.5007 的下载状态已更新为 1\n",
      "已经下载174,正在下载10.1177/1091581818754330\n"
     ]
    },
    {
     "name": "stderr",
     "output_type": "stream",
     "text": [
      "212it [45:04, 22.50s/it]"
     ]
    },
    {
     "name": "stdout",
     "output_type": "stream",
     "text": [
      "下载DOI为10.1177/1091581818754330的论文成功。\n",
      "文献DOI为 10.1177/1091581818754330 的下载状态已更新为 1\n",
      "已经下载175,正在下载10.1016/S0168-1605(03)00295-2\n"
     ]
    },
    {
     "name": "stderr",
     "output_type": "stream",
     "text": [
      "213it [45:13, 18.20s/it]"
     ]
    },
    {
     "name": "stdout",
     "output_type": "stream",
     "text": [
      "文件 SL01-213-J.pdf 下载成功！\n",
      "下载DOI为10.1016/S0168-1605(03)00295-2的论文成功。\n",
      "文献DOI为 10.1016/S0168-1605(03)00295-2 的下载状态已更新为 1\n",
      "已经下载176,正在下载10.1097/00125817-200111000-00005\n"
     ]
    },
    {
     "name": "stderr",
     "output_type": "stream",
     "text": [
      "214it [45:18, 14.21s/it]"
     ]
    },
    {
     "name": "stdout",
     "output_type": "stream",
     "text": [
      "下载DOI为10.1097/00125817-200111000-00005的论文成功。\n",
      "文献DOI为 10.1097/00125817-200111000-00005 的下载状态已更新为 1\n",
      "已经下载177,正在下载10.1590/0102-311x00109213\n"
     ]
    },
    {
     "name": "stderr",
     "output_type": "stream",
     "text": [
      "215it [45:27, 12.64s/it]"
     ]
    },
    {
     "name": "stdout",
     "output_type": "stream",
     "text": [
      "下载DOI为10.1590/0102-311x00109213的论文成功。\n",
      "文献DOI为 10.1590/0102-311x00109213 的下载状态已更新为 1\n",
      "已经下载178,正在下载10.1371/4f7b4bab0d1a3\n"
     ]
    },
    {
     "name": "stderr",
     "output_type": "stream",
     "text": [
      "218it [45:45,  9.03s/it]"
     ]
    },
    {
     "name": "stdout",
     "output_type": "stream",
     "text": [
      "未找到下载链接。\n",
      "文献DOI为 10.1371/4f7b4bab0d1a3 的下载状态已更新为 2\n",
      "已经下载178,正在下载10.1016/j.mrgentox.2009.05.002\n"
     ]
    },
    {
     "name": "stderr",
     "output_type": "stream",
     "text": [
      "219it [45:57,  9.67s/it]"
     ]
    },
    {
     "name": "stdout",
     "output_type": "stream",
     "text": [
      "文件 SL01-219-J.pdf 下载成功！\n",
      "下载DOI为10.1016/j.mrgentox.2009.05.002的论文成功。\n",
      "文献DOI为 10.1016/j.mrgentox.2009.05.002 的下载状态已更新为 1\n",
      "已经下载179,正在下载10.1016/j.gene.2004.05.014\n"
     ]
    },
    {
     "name": "stderr",
     "output_type": "stream",
     "text": [
      "220it [46:28, 14.58s/it]"
     ]
    },
    {
     "name": "stdout",
     "output_type": "stream",
     "text": [
      "下载DOI为10.1016/j.gene.2004.05.014的论文成功。\n",
      "文献DOI为 10.1016/j.gene.2004.05.014 的下载状态已更新为 1\n",
      "已经下载180,正在下载10.1007/s00268-022-06689-5\n"
     ]
    },
    {
     "name": "stderr",
     "output_type": "stream",
     "text": [
      "221it [46:41, 14.08s/it]"
     ]
    },
    {
     "name": "stdout",
     "output_type": "stream",
     "text": [
      "下载DOI为10.1007/s00268-022-06689-5的论文成功。\n",
      "文献DOI为 10.1007/s00268-022-06689-5 的下载状态已更新为 1\n",
      "已经下载181,正在下载10.1667/RR13829.1\n"
     ]
    },
    {
     "name": "stderr",
     "output_type": "stream",
     "text": [
      "222it [46:48, 12.22s/it]"
     ]
    },
    {
     "name": "stdout",
     "output_type": "stream",
     "text": [
      "下载DOI为10.1667/RR13829.1的论文成功。\n",
      "文献DOI为 10.1667/RR13829.1 的下载状态已更新为 1\n",
      "已经下载182,正在下载10.1371/journal.pgph.0002407\n"
     ]
    },
    {
     "name": "stderr",
     "output_type": "stream",
     "text": [
      "223it [46:52, 10.13s/it]"
     ]
    },
    {
     "name": "stdout",
     "output_type": "stream",
     "text": [
      "下载DOI为10.1371/journal.pgph.0002407的论文成功。\n",
      "文献DOI为 10.1371/journal.pgph.0002407 的下载状态已更新为 1\n",
      "已经下载183,正在下载10.1016/j.meatsci.2021.108693\n"
     ]
    },
    {
     "name": "stderr",
     "output_type": "stream",
     "text": [
      "224it [46:56,  8.47s/it]"
     ]
    },
    {
     "name": "stdout",
     "output_type": "stream",
     "text": [
      "未找到下载链接。\n",
      "文献DOI为 10.1016/j.meatsci.2021.108693 的下载状态已更新为 2\n",
      "已经下载183,正在下载10.1017/S0950268809991476\n"
     ]
    },
    {
     "name": "stderr",
     "output_type": "stream",
     "text": [
      "225it [47:05,  8.52s/it]"
     ]
    },
    {
     "name": "stdout",
     "output_type": "stream",
     "text": [
      "下载DOI为10.1017/S0950268809991476的论文成功。\n",
      "文献DOI为 10.1017/S0950268809991476 的下载状态已更新为 1\n",
      "已经下载184,正在下载10.1016/j.envint.2016.01.020\n"
     ]
    },
    {
     "name": "stderr",
     "output_type": "stream",
     "text": [
      "226it [47:13,  8.23s/it]"
     ]
    },
    {
     "name": "stdout",
     "output_type": "stream",
     "text": [
      "文件 SL01-226-J.pdf 下载成功！\n",
      "下载DOI为10.1016/j.envint.2016.01.020的论文成功。\n",
      "文献DOI为 10.1016/j.envint.2016.01.020 的下载状态已更新为 1\n",
      "已经下载185,正在下载10.1177/192536211700700405\n"
     ]
    },
    {
     "name": "stderr",
     "output_type": "stream",
     "text": [
      "227it [47:24,  9.15s/it]"
     ]
    },
    {
     "name": "stdout",
     "output_type": "stream",
     "text": [
      "文件 SL01-227-J.pdf 下载成功！\n",
      "下载DOI为10.1177/192536211700700405的论文成功。\n",
      "文献DOI为 10.1177/192536211700700405 的下载状态已更新为 1\n",
      "已经下载186,正在下载10.1007/BF02908881\n"
     ]
    },
    {
     "name": "stderr",
     "output_type": "stream",
     "text": [
      "229it [47:29,  6.04s/it]"
     ]
    },
    {
     "name": "stdout",
     "output_type": "stream",
     "text": [
      "下载DOI为10.1007/BF02908881的论文成功。\n",
      "文献DOI为 10.1007/BF02908881 的下载状态已更新为 1\n",
      "已经下载187,正在下载10.1111/ijcp.12650\n"
     ]
    },
    {
     "name": "stderr",
     "output_type": "stream",
     "text": [
      "230it [47:36,  6.36s/it]"
     ]
    },
    {
     "name": "stdout",
     "output_type": "stream",
     "text": [
      "文件 SL01-230-J.pdf 下载成功！\n",
      "下载DOI为10.1111/ijcp.12650的论文成功。\n",
      "文献DOI为 10.1111/ijcp.12650 的下载状态已更新为 1\n",
      "已经下载188,正在下载10.1001/archinternmed.2011.1876\n"
     ]
    },
    {
     "name": "stderr",
     "output_type": "stream",
     "text": [
      "231it [47:42,  6.36s/it]"
     ]
    },
    {
     "name": "stdout",
     "output_type": "stream",
     "text": [
      "文件 SL01-231-J.pdf 下载成功！\n",
      "下载DOI为10.1001/archinternmed.2011.1876的论文成功。\n",
      "文献DOI为 10.1001/archinternmed.2011.1876 的下载状态已更新为 1\n",
      "已经下载189,正在下载10.3390/ijerph192013419\n"
     ]
    },
    {
     "name": "stderr",
     "output_type": "stream",
     "text": [
      "232it [47:47,  6.05s/it]"
     ]
    },
    {
     "name": "stdout",
     "output_type": "stream",
     "text": [
      "下载DOI为10.3390/ijerph192013419的论文成功。\n",
      "文献DOI为 10.3390/ijerph192013419 的下载状态已更新为 1\n",
      "已经下载190,正在下载10.2174/1381612013397708\n"
     ]
    },
    {
     "name": "stderr",
     "output_type": "stream",
     "text": [
      "233it [47:54,  6.08s/it]"
     ]
    },
    {
     "name": "stdout",
     "output_type": "stream",
     "text": [
      "文件 SL01-233-J.pdf 下载成功！\n",
      "下载DOI为10.2174/1381612013397708的论文成功。\n",
      "文献DOI为 10.2174/1381612013397708 的下载状态已更新为 1\n",
      "已经下载191,正在下载10.1289/ehp.00108s3451\n"
     ]
    },
    {
     "name": "stderr",
     "output_type": "stream",
     "text": [
      "234it [48:06,  7.92s/it]"
     ]
    },
    {
     "name": "stdout",
     "output_type": "stream",
     "text": [
      "文件 SL01-234-J.pdf 下载成功！\n",
      "下载DOI为10.1289/ehp.00108s3451的论文成功。\n",
      "文献DOI为 10.1289/ehp.00108s3451 的下载状态已更新为 1\n",
      "已经下载192,正在下载10.1016/j.scitotenv.2023.167932\n"
     ]
    },
    {
     "name": "stderr",
     "output_type": "stream",
     "text": [
      "235it [48:11,  6.91s/it]"
     ]
    },
    {
     "name": "stdout",
     "output_type": "stream",
     "text": [
      "未找到下载链接。\n",
      "文献DOI为 10.1016/j.scitotenv.2023.167932 的下载状态已更新为 2\n",
      "已经下载192,正在下载10.3201/eid1001.020774\n"
     ]
    },
    {
     "name": "stderr",
     "output_type": "stream",
     "text": [
      "236it [48:14,  5.75s/it]"
     ]
    },
    {
     "name": "stdout",
     "output_type": "stream",
     "text": [
      "未找到下载链接。\n",
      "文献DOI为 10.3201/eid1001.020774 的下载状态已更新为 2\n",
      "已经下载192,正在下载10.1016/j.ijheh.2022.113942\n",
      "下载失败。\n",
      "下载失败。\n",
      "请求失败。\n"
     ]
    },
    {
     "name": "stderr",
     "output_type": "stream",
     "text": [
      "237it [48:20,  5.83s/it]"
     ]
    },
    {
     "name": "stdout",
     "output_type": "stream",
     "text": [
      "文献DOI为 10.1016/j.ijheh.2022.113942 的下载状态已更新为 2\n",
      "已经下载192,正在下载10.1007/s10661-017-5815-8\n"
     ]
    },
    {
     "name": "stderr",
     "output_type": "stream",
     "text": [
      "240it [48:28,  4.18s/it]"
     ]
    },
    {
     "name": "stdout",
     "output_type": "stream",
     "text": [
      "文件 SL01-240-J.pdf 下载成功！\n",
      "下载DOI为10.1007/s10661-017-5815-8的论文成功。\n",
      "文献DOI为 10.1007/s10661-017-5815-8 的下载状态已更新为 1\n",
      "已经下载193,正在下载10.1684/ejd.2007.0299\n"
     ]
    },
    {
     "name": "stderr",
     "output_type": "stream",
     "text": [
      "241it [48:32,  4.19s/it]"
     ]
    },
    {
     "name": "stdout",
     "output_type": "stream",
     "text": [
      "未找到下载链接。\n",
      "文献DOI为 10.1684/ejd.2007.0299 的下载状态已更新为 2\n",
      "已经下载193,正在下载10.1007/s00268-022-06679-7\n",
      "下载失败。\n"
     ]
    },
    {
     "name": "stderr",
     "output_type": "stream",
     "text": [
      "242it [48:40,  5.02s/it]"
     ]
    },
    {
     "name": "stdout",
     "output_type": "stream",
     "text": [
      "下载失败。\n",
      "请求失败。\n",
      "文献DOI为 10.1007/s00268-022-06679-7 的下载状态已更新为 2\n",
      "已经下载193,正在下载10.1363/3502503\n"
     ]
    },
    {
     "name": "stderr",
     "output_type": "stream",
     "text": [
      "243it [48:50,  6.15s/it]"
     ]
    },
    {
     "name": "stdout",
     "output_type": "stream",
     "text": [
      "下载DOI为10.1363/3502503的论文成功。\n",
      "文献DOI为 10.1363/3502503 的下载状态已更新为 1\n",
      "已经下载194,正在下载10.4315/0362-028X.JFP-10-351\n"
     ]
    },
    {
     "name": "stderr",
     "output_type": "stream",
     "text": [
      "244it [49:00,  7.15s/it]"
     ]
    },
    {
     "name": "stdout",
     "output_type": "stream",
     "text": [
      "文件 SL01-244-J.pdf 下载成功！\n",
      "下载DOI为10.4315/0362-028X.JFP-10-351的论文成功。\n",
      "文献DOI为 10.4315/0362-028X.JFP-10-351 的下载状态已更新为 1\n",
      "已经下载195,正在下载10.1016/j.tox.2005.07.022\n"
     ]
    },
    {
     "name": "stderr",
     "output_type": "stream",
     "text": [
      "245it [49:07,  7.28s/it]"
     ]
    },
    {
     "name": "stdout",
     "output_type": "stream",
     "text": [
      "文件 SL01-245-J.pdf 下载成功！\n",
      "下载DOI为10.1016/j.tox.2005.07.022的论文成功。\n",
      "文献DOI为 10.1016/j.tox.2005.07.022 的下载状态已更新为 1\n",
      "已经下载196,正在下载10.1016/j.taap.2011.02.002\n"
     ]
    },
    {
     "name": "stderr",
     "output_type": "stream",
     "text": [
      "246it [49:30, 11.56s/it]"
     ]
    },
    {
     "name": "stdout",
     "output_type": "stream",
     "text": [
      "文件 SL01-246-J.pdf 下载成功！\n",
      "下载DOI为10.1016/j.taap.2011.02.002的论文成功。\n",
      "文献DOI为 10.1016/j.taap.2011.02.002 的下载状态已更新为 1\n",
      "已经下载197,正在下载10.1016/S0895-3988(09)60047-7\n"
     ]
    },
    {
     "name": "stderr",
     "output_type": "stream",
     "text": [
      "247it [49:38, 10.43s/it]"
     ]
    },
    {
     "name": "stdout",
     "output_type": "stream",
     "text": [
      "文件 SL01-247-J.pdf 下载成功！\n",
      "下载DOI为10.1016/S0895-3988(09)60047-7的论文成功。\n",
      "文献DOI为 10.1016/S0895-3988(09)60047-7 的下载状态已更新为 1\n",
      "已经下载198,正在下载10.1684/ejd.2007.0297\n"
     ]
    },
    {
     "name": "stderr",
     "output_type": "stream",
     "text": [
      "248it [49:42,  8.57s/it]"
     ]
    },
    {
     "name": "stdout",
     "output_type": "stream",
     "text": [
      "未找到下载链接。\n",
      "文献DOI为 10.1684/ejd.2007.0297 的下载状态已更新为 2\n",
      "已经下载198,正在下载10.1111/j.1472-8206.2009.00795.x\n"
     ]
    },
    {
     "name": "stderr",
     "output_type": "stream",
     "text": [
      "249it [49:49,  8.24s/it]"
     ]
    },
    {
     "name": "stdout",
     "output_type": "stream",
     "text": [
      "文件 SL01-249-J.pdf 下载成功！\n",
      "下载DOI为10.1111/j.1472-8206.2009.00795.x的论文成功。\n",
      "文献DOI为 10.1111/j.1472-8206.2009.00795.x 的下载状态已更新为 1\n",
      "已经下载199,正在下载10.1097/00006205-200201000-00003\n"
     ]
    },
    {
     "name": "stderr",
     "output_type": "stream",
     "text": [
      "250it [49:54,  7.41s/it]"
     ]
    },
    {
     "name": "stdout",
     "output_type": "stream",
     "text": [
      "未找到下载链接。\n",
      "文献DOI为 10.1097/00006205-200201000-00003 的下载状态已更新为 2\n",
      "已经下载199,正在下载10.1002/jmv.26262\n"
     ]
    },
    {
     "name": "stderr",
     "output_type": "stream",
     "text": [
      "251it [50:53, 22.60s/it]"
     ]
    },
    {
     "name": "stdout",
     "output_type": "stream",
     "text": [
      "下载DOI为10.1002/jmv.26262的论文成功。\n",
      "文献DOI为 10.1002/jmv.26262 的下载状态已更新为 1\n",
      "已经下载200,正在下载10.1080/10408440500534032\n"
     ]
    },
    {
     "name": "stderr",
     "output_type": "stream",
     "text": [
      "252it [51:01, 12.15s/it]"
     ]
    },
    {
     "name": "stdout",
     "output_type": "stream",
     "text": [
      "文件 SL01-252-J.pdf 下载成功！\n",
      "下载DOI为10.1080/10408440500534032的论文成功。\n",
      "文献DOI为 10.1080/10408440500534032 的下载状态已更新为 1\n",
      "已经下载201篇文献\n"
     ]
    },
    {
     "name": "stderr",
     "output_type": "stream",
     "text": [
      "\n"
     ]
    }
   ],
   "source": [
    "for _n in name:\n",
    "    manager = LiteratureTableManager(_n)\n",
    "    #manager.remove_undownloaded_literature()\n",
    "    # 从最新的文档中读取文献并合并到默认文档\n",
    "    # 新文献目录直接来自于pubmed\n",
    "    # latest_literature_path = f\"{_n}/set.csv\"\n",
    "    # manager.add_literature_from_file(latest_literature_path)\n",
    "    manager.download_new_literature(max_num=200)"
   ]
  },
  {
   "cell_type": "code",
   "execution_count": 11,
   "metadata": {},
   "outputs": [
    {
     "name": "stdout",
     "output_type": "stream",
     "text": [
      "知识库文献年份分布\n"
     ]
    }
   ],
   "source": [
    "import pandas as pd\n",
    "\n",
    "# 汇总数据框\n",
    "combined_df = pd.DataFrame()\n",
    "\n",
    "# 添加所有表格的数据\n",
    "for _name in name:\n",
    "    path = f\"{_name}/litera_lis.csv\"\n",
    "    df = pd.read_csv(path).copy()\n",
    "    df = df[df['is_download']==1]\n",
    "    \n",
    "    # 按年份分组并添加表格名称\n",
    "    yearly_count = df.groupby(\"Publication Year\").size().reset_index(name=\"count\")\n",
    "    yearly_count[\"table_name\"] = _name  # 标识表格名称\n",
    "    \n",
    "    # 合并到汇总数据框\n",
    "    combined_df = pd.concat([combined_df, yearly_count], ignore_index=True)\n",
    "\n",
    "# 创建数据透视表，以年份为索引，表格名称为列，数据量为值\n",
    "pivot_table = combined_df.pivot(index=\"Publication Year\", columns=\"table_name\", values=\"count\")\n",
    "\n",
    "print(\"知识库文献年份分布\")\n",
    "pivot_table.to_csv('知识库文献年份分布.csv')"
   ]
  },
  {
   "cell_type": "code",
   "execution_count": 12,
   "metadata": {},
   "outputs": [
    {
     "data": {
      "text/html": [
       "<div>\n",
       "<style scoped>\n",
       "    .dataframe tbody tr th:only-of-type {\n",
       "        vertical-align: middle;\n",
       "    }\n",
       "\n",
       "    .dataframe tbody tr th {\n",
       "        vertical-align: top;\n",
       "    }\n",
       "\n",
       "    .dataframe thead th {\n",
       "        text-align: right;\n",
       "    }\n",
       "</style>\n",
       "<table border=\"1\" class=\"dataframe\">\n",
       "  <thead>\n",
       "    <tr style=\"text-align: right;\">\n",
       "      <th>table_name</th>\n",
       "      <th>1_Analytical_Methods</th>\n",
       "      <th>2_Environmenta_Exposure</th>\n",
       "      <th>3_Environmental_Behavior</th>\n",
       "      <th>4_Biological_Behavior</th>\n",
       "      <th>5_Toxicity</th>\n",
       "      <th>6_Health Risk</th>\n",
       "    </tr>\n",
       "    <tr>\n",
       "      <th>Publication Year</th>\n",
       "      <th></th>\n",
       "      <th></th>\n",
       "      <th></th>\n",
       "      <th></th>\n",
       "      <th></th>\n",
       "      <th></th>\n",
       "    </tr>\n",
       "  </thead>\n",
       "  <tbody>\n",
       "    <tr>\n",
       "      <th>2000</th>\n",
       "      <td>7.0</td>\n",
       "      <td>NaN</td>\n",
       "      <td>1.0</td>\n",
       "      <td>NaN</td>\n",
       "      <td>1.0</td>\n",
       "      <td>8.0</td>\n",
       "    </tr>\n",
       "    <tr>\n",
       "      <th>2001</th>\n",
       "      <td>8.0</td>\n",
       "      <td>3.0</td>\n",
       "      <td>2.0</td>\n",
       "      <td>NaN</td>\n",
       "      <td>NaN</td>\n",
       "      <td>2.0</td>\n",
       "    </tr>\n",
       "    <tr>\n",
       "      <th>2002</th>\n",
       "      <td>15.0</td>\n",
       "      <td>1.0</td>\n",
       "      <td>4.0</td>\n",
       "      <td>NaN</td>\n",
       "      <td>NaN</td>\n",
       "      <td>3.0</td>\n",
       "    </tr>\n",
       "    <tr>\n",
       "      <th>2003</th>\n",
       "      <td>13.0</td>\n",
       "      <td>2.0</td>\n",
       "      <td>2.0</td>\n",
       "      <td>NaN</td>\n",
       "      <td>1.0</td>\n",
       "      <td>3.0</td>\n",
       "    </tr>\n",
       "    <tr>\n",
       "      <th>2004</th>\n",
       "      <td>17.0</td>\n",
       "      <td>1.0</td>\n",
       "      <td>1.0</td>\n",
       "      <td>NaN</td>\n",
       "      <td>1.0</td>\n",
       "      <td>9.0</td>\n",
       "    </tr>\n",
       "    <tr>\n",
       "      <th>2005</th>\n",
       "      <td>7.0</td>\n",
       "      <td>1.0</td>\n",
       "      <td>1.0</td>\n",
       "      <td>2.0</td>\n",
       "      <td>2.0</td>\n",
       "      <td>8.0</td>\n",
       "    </tr>\n",
       "    <tr>\n",
       "      <th>2006</th>\n",
       "      <td>18.0</td>\n",
       "      <td>5.0</td>\n",
       "      <td>1.0</td>\n",
       "      <td>NaN</td>\n",
       "      <td>1.0</td>\n",
       "      <td>7.0</td>\n",
       "    </tr>\n",
       "    <tr>\n",
       "      <th>2007</th>\n",
       "      <td>17.0</td>\n",
       "      <td>NaN</td>\n",
       "      <td>3.0</td>\n",
       "      <td>1.0</td>\n",
       "      <td>2.0</td>\n",
       "      <td>4.0</td>\n",
       "    </tr>\n",
       "    <tr>\n",
       "      <th>2008</th>\n",
       "      <td>19.0</td>\n",
       "      <td>1.0</td>\n",
       "      <td>9.0</td>\n",
       "      <td>2.0</td>\n",
       "      <td>5.0</td>\n",
       "      <td>8.0</td>\n",
       "    </tr>\n",
       "    <tr>\n",
       "      <th>2009</th>\n",
       "      <td>16.0</td>\n",
       "      <td>3.0</td>\n",
       "      <td>6.0</td>\n",
       "      <td>5.0</td>\n",
       "      <td>2.0</td>\n",
       "      <td>7.0</td>\n",
       "    </tr>\n",
       "    <tr>\n",
       "      <th>2010</th>\n",
       "      <td>15.0</td>\n",
       "      <td>3.0</td>\n",
       "      <td>4.0</td>\n",
       "      <td>3.0</td>\n",
       "      <td>5.0</td>\n",
       "      <td>5.0</td>\n",
       "    </tr>\n",
       "    <tr>\n",
       "      <th>2011</th>\n",
       "      <td>28.0</td>\n",
       "      <td>4.0</td>\n",
       "      <td>5.0</td>\n",
       "      <td>2.0</td>\n",
       "      <td>5.0</td>\n",
       "      <td>7.0</td>\n",
       "    </tr>\n",
       "    <tr>\n",
       "      <th>2012</th>\n",
       "      <td>18.0</td>\n",
       "      <td>7.0</td>\n",
       "      <td>1.0</td>\n",
       "      <td>8.0</td>\n",
       "      <td>5.0</td>\n",
       "      <td>12.0</td>\n",
       "    </tr>\n",
       "    <tr>\n",
       "      <th>2013</th>\n",
       "      <td>21.0</td>\n",
       "      <td>1.0</td>\n",
       "      <td>7.0</td>\n",
       "      <td>6.0</td>\n",
       "      <td>6.0</td>\n",
       "      <td>7.0</td>\n",
       "    </tr>\n",
       "    <tr>\n",
       "      <th>2014</th>\n",
       "      <td>28.0</td>\n",
       "      <td>4.0</td>\n",
       "      <td>8.0</td>\n",
       "      <td>7.0</td>\n",
       "      <td>11.0</td>\n",
       "      <td>8.0</td>\n",
       "    </tr>\n",
       "    <tr>\n",
       "      <th>2015</th>\n",
       "      <td>27.0</td>\n",
       "      <td>11.0</td>\n",
       "      <td>10.0</td>\n",
       "      <td>11.0</td>\n",
       "      <td>14.0</td>\n",
       "      <td>8.0</td>\n",
       "    </tr>\n",
       "    <tr>\n",
       "      <th>2016</th>\n",
       "      <td>24.0</td>\n",
       "      <td>10.0</td>\n",
       "      <td>9.0</td>\n",
       "      <td>15.0</td>\n",
       "      <td>17.0</td>\n",
       "      <td>10.0</td>\n",
       "    </tr>\n",
       "    <tr>\n",
       "      <th>2017</th>\n",
       "      <td>29.0</td>\n",
       "      <td>13.0</td>\n",
       "      <td>12.0</td>\n",
       "      <td>19.0</td>\n",
       "      <td>17.0</td>\n",
       "      <td>13.0</td>\n",
       "    </tr>\n",
       "    <tr>\n",
       "      <th>2018</th>\n",
       "      <td>38.0</td>\n",
       "      <td>19.0</td>\n",
       "      <td>17.0</td>\n",
       "      <td>21.0</td>\n",
       "      <td>14.0</td>\n",
       "      <td>12.0</td>\n",
       "    </tr>\n",
       "    <tr>\n",
       "      <th>2019</th>\n",
       "      <td>31.0</td>\n",
       "      <td>25.0</td>\n",
       "      <td>16.0</td>\n",
       "      <td>19.0</td>\n",
       "      <td>20.0</td>\n",
       "      <td>9.0</td>\n",
       "    </tr>\n",
       "    <tr>\n",
       "      <th>2020</th>\n",
       "      <td>28.0</td>\n",
       "      <td>22.0</td>\n",
       "      <td>15.0</td>\n",
       "      <td>23.0</td>\n",
       "      <td>22.0</td>\n",
       "      <td>6.0</td>\n",
       "    </tr>\n",
       "    <tr>\n",
       "      <th>2021</th>\n",
       "      <td>44.0</td>\n",
       "      <td>32.0</td>\n",
       "      <td>26.0</td>\n",
       "      <td>31.0</td>\n",
       "      <td>17.0</td>\n",
       "      <td>21.0</td>\n",
       "    </tr>\n",
       "    <tr>\n",
       "      <th>2022</th>\n",
       "      <td>28.0</td>\n",
       "      <td>20.0</td>\n",
       "      <td>23.0</td>\n",
       "      <td>15.0</td>\n",
       "      <td>18.0</td>\n",
       "      <td>13.0</td>\n",
       "    </tr>\n",
       "    <tr>\n",
       "      <th>2023</th>\n",
       "      <td>28.0</td>\n",
       "      <td>12.0</td>\n",
       "      <td>16.0</td>\n",
       "      <td>9.0</td>\n",
       "      <td>10.0</td>\n",
       "      <td>8.0</td>\n",
       "    </tr>\n",
       "    <tr>\n",
       "      <th>2024</th>\n",
       "      <td>6.0</td>\n",
       "      <td>1.0</td>\n",
       "      <td>2.0</td>\n",
       "      <td>2.0</td>\n",
       "      <td>5.0</td>\n",
       "      <td>3.0</td>\n",
       "    </tr>\n",
       "  </tbody>\n",
       "</table>\n",
       "</div>"
      ],
      "text/plain": [
       "table_name        1_Analytical_Methods  2_Environmenta_Exposure  \\\n",
       "Publication Year                                                  \n",
       "2000                               7.0                      NaN   \n",
       "2001                               8.0                      3.0   \n",
       "2002                              15.0                      1.0   \n",
       "2003                              13.0                      2.0   \n",
       "2004                              17.0                      1.0   \n",
       "2005                               7.0                      1.0   \n",
       "2006                              18.0                      5.0   \n",
       "2007                              17.0                      NaN   \n",
       "2008                              19.0                      1.0   \n",
       "2009                              16.0                      3.0   \n",
       "2010                              15.0                      3.0   \n",
       "2011                              28.0                      4.0   \n",
       "2012                              18.0                      7.0   \n",
       "2013                              21.0                      1.0   \n",
       "2014                              28.0                      4.0   \n",
       "2015                              27.0                     11.0   \n",
       "2016                              24.0                     10.0   \n",
       "2017                              29.0                     13.0   \n",
       "2018                              38.0                     19.0   \n",
       "2019                              31.0                     25.0   \n",
       "2020                              28.0                     22.0   \n",
       "2021                              44.0                     32.0   \n",
       "2022                              28.0                     20.0   \n",
       "2023                              28.0                     12.0   \n",
       "2024                               6.0                      1.0   \n",
       "\n",
       "table_name        3_Environmental_Behavior  4_Biological_Behavior  5_Toxicity  \\\n",
       "Publication Year                                                                \n",
       "2000                                   1.0                    NaN         1.0   \n",
       "2001                                   2.0                    NaN         NaN   \n",
       "2002                                   4.0                    NaN         NaN   \n",
       "2003                                   2.0                    NaN         1.0   \n",
       "2004                                   1.0                    NaN         1.0   \n",
       "2005                                   1.0                    2.0         2.0   \n",
       "2006                                   1.0                    NaN         1.0   \n",
       "2007                                   3.0                    1.0         2.0   \n",
       "2008                                   9.0                    2.0         5.0   \n",
       "2009                                   6.0                    5.0         2.0   \n",
       "2010                                   4.0                    3.0         5.0   \n",
       "2011                                   5.0                    2.0         5.0   \n",
       "2012                                   1.0                    8.0         5.0   \n",
       "2013                                   7.0                    6.0         6.0   \n",
       "2014                                   8.0                    7.0        11.0   \n",
       "2015                                  10.0                   11.0        14.0   \n",
       "2016                                   9.0                   15.0        17.0   \n",
       "2017                                  12.0                   19.0        17.0   \n",
       "2018                                  17.0                   21.0        14.0   \n",
       "2019                                  16.0                   19.0        20.0   \n",
       "2020                                  15.0                   23.0        22.0   \n",
       "2021                                  26.0                   31.0        17.0   \n",
       "2022                                  23.0                   15.0        18.0   \n",
       "2023                                  16.0                    9.0        10.0   \n",
       "2024                                   2.0                    2.0         5.0   \n",
       "\n",
       "table_name        6_Health Risk  \n",
       "Publication Year                 \n",
       "2000                        8.0  \n",
       "2001                        2.0  \n",
       "2002                        3.0  \n",
       "2003                        3.0  \n",
       "2004                        9.0  \n",
       "2005                        8.0  \n",
       "2006                        7.0  \n",
       "2007                        4.0  \n",
       "2008                        8.0  \n",
       "2009                        7.0  \n",
       "2010                        5.0  \n",
       "2011                        7.0  \n",
       "2012                       12.0  \n",
       "2013                        7.0  \n",
       "2014                        8.0  \n",
       "2015                        8.0  \n",
       "2016                       10.0  \n",
       "2017                       13.0  \n",
       "2018                       12.0  \n",
       "2019                        9.0  \n",
       "2020                        6.0  \n",
       "2021                       21.0  \n",
       "2022                       13.0  \n",
       "2023                        8.0  \n",
       "2024                        3.0  "
      ]
     },
     "execution_count": 12,
     "metadata": {},
     "output_type": "execute_result"
    }
   ],
   "source": [
    "pivot_table"
   ]
  },
  {
   "cell_type": "code",
   "execution_count": 1,
   "metadata": {},
   "outputs": [],
   "source": [
    "\"\"\"\n",
    "from paper_downloader.DOI_Download import download_paper_by_doi\n",
    "from paper_downloader.download_recorder import LiteratureTableManager\n",
    "import nest_asyncio\n",
    "nest_asyncio.apply()\n",
    "manager = LiteratureTableManager(\"demo\")\n",
    "manager.add_literature_from_file(\"03scopus.csv\")\n",
    "manager.download_new_literature()\n",
    "\"\"\""
   ]
  },
  {
   "cell_type": "code",
   "execution_count": 2,
   "metadata": {},
   "outputs": [],
   "source": []
  },
  {
   "cell_type": "code",
   "execution_count": 4,
   "metadata": {},
   "outputs": [
    {
     "name": "stdout",
     "output_type": "stream",
     "text": [
      "新增20条文献\n"
     ]
    }
   ],
   "source": []
  }
 ],
 "metadata": {
  "kernelspec": {
   "display_name": "Python 3.11.7 ('EDT')",
   "language": "python",
   "name": "python3"
  },
  "language_info": {
   "codemirror_mode": {
    "name": "ipython",
    "version": 3
   },
   "file_extension": ".py",
   "mimetype": "text/x-python",
   "name": "python",
   "nbconvert_exporter": "python",
   "pygments_lexer": "ipython3",
   "version": "3.11.0"
  },
  "orig_nbformat": 4,
  "vscode": {
   "interpreter": {
    "hash": "4537a580e4c35e6ead00558580aeaf3bf77bba31ed78d5d1fbe266d900660bfb"
   }
  }
 },
 "nbformat": 4,
 "nbformat_minor": 2
}
