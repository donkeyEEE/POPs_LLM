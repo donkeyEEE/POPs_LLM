{
 "cells": [
  {
   "cell_type": "code",
   "execution_count": 5,
   "metadata": {},
   "outputs": [],
   "source": [
    "import os\n",
    "os.chdir('E:\\学习\\python\\py_codbase\\PK_LLM')\n",
    "LANGCHAIN_API_KEY = os.getenv('LANGCHAIN_API_KEY')\n",
    "OPENAI_API_KEY = os.getenv('OPENAI_API_KEY')\n",
    "os.environ[\"OPENAI_API_KEY\"] = OPENAI_API_KEY\n",
    "\n",
    "os.environ[\"LANGCHAIN_API_KEY\"] = LANGCHAIN_API_KEY\n",
    "os.environ[\"LANGCHAIN_ENDPOINT\"] = \"https://api.smith.langchain.com\"\n",
    "os.environ[\"LANGCHAIN_PROJECT\"]=\"RAG\"\n",
    "os.environ[\"LANGCHAIN_TRACING_V2\"] = \"true\"\n",
    "from langchain_core.prompts.chat import ChatPromptTemplate\n",
    "from typing import List\n",
    "from langsmith.schemas import Example, Run\n",
    "from langchain_openai import ChatOpenAI\n",
    "from langchain_core.pydantic_v1 import BaseModel, Field"
   ]
  },
  {
   "cell_type": "code",
   "execution_count": 6,
   "metadata": {},
   "outputs": [
    {
     "data": {
      "text/plain": [
       "AIMessage(content='Hello! How can I assist you today?', response_metadata={'token_usage': {'completion_tokens': 9, 'prompt_tokens': 11, 'total_tokens': 20}, 'model_name': 'gpt-3.5-turbo', 'system_fingerprint': 'fp_3b956da36b', 'finish_reason': 'stop', 'logprobs': None}, id='run-1560fe0f-c6f3-4f03-b6b2-b185713efad2-0')"
      ]
     },
     "execution_count": 6,
     "metadata": {},
     "output_type": "execute_result"
    }
   ],
   "source": [
    "from langchain.chat_models import ChatOpenAI\n",
    "\n",
    "llm = ChatOpenAI()\n",
    "llm.invoke(\"Hello, world!\")"
   ]
  },
  {
   "cell_type": "code",
   "execution_count": 2,
   "metadata": {},
   "outputs": [
    {
     "name": "stderr",
     "output_type": "stream",
     "text": [
      "c:\\Users\\donkey\\.conda\\envs\\EDT\\Lib\\site-packages\\langchain_core\\_api\\beta_decorator.py:87: LangChainBetaWarning: The function `with_structured_output` is in beta. It is actively being worked on, so the API may change.\n",
      "  warn_beta(\n"
     ]
    }
   ],
   "source": [
    "# 测试函数\n",
    "from PK_LLM_endfront.evaluation.llms import predictor\n",
    "from langsmith.evaluation import evaluate\n",
    "from PK_LLM_endfront.evaluation.eva_func import faithfulness\n",
    "def eval_func(predictor_:predictor,dataset_name:str , version:str = \"0.0.1\"):\n",
    "    experiment_results = evaluate(\n",
    "        predictor_.func(), # Your AI system\n",
    "        data=dataset_name, # The data to predict and grade over   \n",
    "        evaluators=[faithfulness], # The evaluators to score the results\n",
    "        experiment_prefix=predictor_.prefix,\n",
    "        max_concurrency =2,\n",
    "        metadata={\n",
    "            \"version\": version,\n",
    "        },\n",
    "    )\n",
    "    return experiment_results"
   ]
  },
  {
   "cell_type": "code",
   "execution_count": 3,
   "metadata": {},
   "outputs": [
    {
     "name": "stdout",
     "output_type": "stream",
     "text": [
      "name='QA_TEST_1' description=None data_type=<DataType.kv: 'kv'> id=UUID('a5fbe209-1a02-4b77-ae40-552001d84f45') created_at=datetime.datetime(2024, 4, 27, 12, 6, 51, 528260, tzinfo=datetime.timezone.utc) modified_at=datetime.datetime(2024, 4, 27, 12, 6, 51, 528260, tzinfo=datetime.timezone.utc) example_count=50 session_count=8 last_session_start_time=datetime.datetime(2024, 4, 30, 5, 50, 56, 105593)\n",
      "name='ENV_QA_test' description=None data_type=<DataType.kv: 'kv'> id=UUID('8c861bc2-0ba1-4fad-aa8e-6d9a5657df5b') created_at=datetime.datetime(2024, 4, 15, 15, 57, 3, 76889, tzinfo=datetime.timezone.utc) modified_at=datetime.datetime(2024, 4, 15, 15, 57, 3, 76889, tzinfo=datetime.timezone.utc) example_count=29 session_count=10 last_session_start_time=datetime.datetime(2024, 4, 16, 1, 46, 46, 667706)\n",
      "name='QA_test' description=None data_type=<DataType.kv: 'kv'> id=UUID('bde73bfd-cbcb-4355-9fe8-48a19b215a46') created_at=datetime.datetime(2024, 4, 6, 5, 48, 59, 401958, tzinfo=datetime.timezone.utc) modified_at=datetime.datetime(2024, 4, 6, 5, 48, 59, 401958, tzinfo=datetime.timezone.utc) example_count=69 session_count=6 last_session_start_time=datetime.datetime(2024, 4, 8, 6, 50, 17, 718681)\n",
      "name='Retrieval QA Questions b17557e9-a81c-423f-a429-69bc60086937' description=None data_type=<DataType.kv: 'kv'> id=UUID('880c3c2d-66d5-4f23-8e8e-e87180416217') created_at=datetime.datetime(2024, 4, 6, 15, 20, 42, 999423, tzinfo=datetime.timezone.utc) modified_at=datetime.datetime(2024, 4, 6, 15, 20, 42, 999423, tzinfo=datetime.timezone.utc) example_count=7 session_count=3 last_session_start_time=datetime.datetime(2024, 4, 6, 15, 35, 20, 416660)\n"
     ]
    }
   ],
   "source": [
    "# 加载预测器和client\n",
    "from PK_LLM_endfront.evaluation import llms,eva_utils\n",
    "c = eva_utils.smith_client()\n",
    "# 上传data\n",
    "paths = [f'_data\\QA\\good_qa_data0{i+1}.json' for i in range(4)]\n",
    "all_data_path = \"_data/QA/goog_1.json\"\n",
    "#c.merge_json_files(paths,output_file=all_data_path)\n",
    "#c.creat_upload_data(all_data_path)\n",
    "c.show_dataset()"
   ]
  },
  {
   "cell_type": "code",
   "execution_count": 4,
   "metadata": {},
   "outputs": [
    {
     "name": "stderr",
     "output_type": "stream",
     "text": [
      "C:\\Users\\donkey\\AppData\\Local\\Temp\\ipykernel_8876\\1893307694.py:6: UserWarning: Function evaluate is in beta.\n",
      "  experiment_results = evaluate(\n"
     ]
    },
    {
     "name": "stdout",
     "output_type": "stream",
     "text": [
      "View the evaluation results for experiment: 'Advance RAG:f7c5049' at:\n",
      "https://smith.langchain.com/o/f44e7223-7506-5479-bcc5-5f4968c46496/datasets/a5fbe209-1a02-4b77-ae40-552001d84f45/compare?selectedSessions=9a4d4324-d63b-45ca-98a4-b57002ed28b2\n",
      "\n",
      "\n"
     ]
    },
    {
     "data": {
      "application/vnd.jupyter.widget-view+json": {
       "model_id": "67c81649b33646ada92738e964ec92ef",
       "version_major": 2,
       "version_minor": 0
      },
      "text/plain": [
       "0it [00:00, ?it/s]"
      ]
     },
     "metadata": {},
     "output_type": "display_data"
    }
   ],
   "source": [
    "#p = llms.get_predictor(\"gpt-4\")\n",
    "p = llms.rag_predictor(1,'retrievers')\n",
    "eval_func(p,c.dataset_name)"
   ]
  }
 ],
 "metadata": {
  "kernelspec": {
   "display_name": "EDT",
   "language": "python",
   "name": "python3"
  },
  "language_info": {
   "codemirror_mode": {
    "name": "ipython",
    "version": 3
   },
   "file_extension": ".py",
   "mimetype": "text/x-python",
   "name": "python",
   "nbconvert_exporter": "python",
   "pygments_lexer": "ipython3",
   "version": "3.11.7"
  }
 },
 "nbformat": 4,
 "nbformat_minor": 2
}
