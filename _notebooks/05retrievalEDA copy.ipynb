{
 "cells": [
  {
   "cell_type": "code",
   "execution_count": 1,
   "metadata": {},
   "outputs": [],
   "source": [
    "import os\n",
    "os.chdir('E:\\学习\\python\\py_codbase\\PK_LLM')\n",
    "from PK_LLM_endfront.D_retriever.chains import SubChain\n",
    "chain = SubChain()\n",
    "chain.db.index.ntotal\n",
    "chain.db2.index.ntotal\n",
    "chain = chain.chain"
   ]
  },
  {
   "cell_type": "code",
   "execution_count": 3,
   "metadata": {},
   "outputs": [],
   "source": [
    "r = chain.invoke(\"什么是PFAS\")"
   ]
  },
  {
   "cell_type": "code",
   "execution_count": 4,
   "metadata": {},
   "outputs": [
    {
     "data": {
      "text/plain": [
       "[Document(page_content='MethodsX  7 (2020) 100886 \\nContents  lists available  at ScienceDirect  \\nMethodsX  \\nj o u r n a l h o m e p a g e: w w w . e l s e v i e r . c o m / l o c a t e / m e x \\nMethod  Article  \\nA serial  PFASs  sorption  technique  coupled  with  \\nadapted  high  volume  direct  aqueous  injection  \\nLCMS  method  \\nMatthew  Askeland  a , Bradley  Clarke  b , Jorge Paz-Ferreiro  c , ∗\\na Department  of Environmental  Engineering,  RMIT University,  Melbourne,  30 0 0, Australia \\nb School of Chemistry,  University  of Melbourne,  Victoria, 3010, Australia \\nc School of Engineering,  RMIT University,  Melbourne,  30 0 0, Australia \\na b s t r a c t \\nPer- and polyﬂuoroalkyl  substances  (PFAS) are ubiquitous  global environmental  contaminants,  environmentally  \\npersistent,  mobile, can bioaccumulate  and are toxic. Increasing  emphasis  is placed on the immobilisation  and \\nremoval  of PFAS from contaminated  environmental  matrices  such as: potable water, surface water, groundwater,  \\nwastewater,  sediments  and soils (Dauchy  et al., 2017; Cao et al., 2019; Hepburn  et al., 2019). To achieve this, \\ndevelopment  of PFAS sorbents  is increasingly  undertaken  (Du et al., 2014). Sorption  studies are used to observe  \\nthe interaction  of sorbent  and sorbate,  but have two key limitations  when undertaking  sorption  experiments  for \\nPFAS (1) the experimental  protocol  and (2) analytical  techniques.  The current batch sorption  methods  approached  \\nrecommended  by OECD Guideline  106 (OECD, 20 0 0) are problematic,  ﬁrstly, due to large sample numbers  and \\nPFAS speciﬁc laboratory  diﬃculties,  including  near ubiquitous  background  PFAS contamination.  Secondly,  PFAS \\nanalytical  techniques  currently  require solid-phase  extraction  (SPE) to be employed,  which is slow and expensive,  \\nprior to instrumental  analysis  with liquid chromatography-mass  spectrometry  (LC-MS).  A suitable  alternative', metadata={'source': '_data\\\\1_Analytical_Methods/literature_PDF\\\\SL01-295-J.pdf', 'page': 0, 'doc_id': 'SL01-295-J'}),\n",
       " Document(page_content='Declaration  of Competing  interest  \\nThe authors  declare  that they have no known  competing  ﬁnancial  interests  or personal  \\nrelationships  that could have appeared  to inﬂuence  the work reported  in this paper. \\nSupplementary  materials  \\nSupplementary  material  associated  with this article can be found, in the online version,  at doi: 10. \\n1016/j.mex.2020.100886  . \\nReferences  \\n[1] X. Cao , C. Wang , Y. Lu , M. Zhang , K. Khan , S. Song , P. Wang , C. Wang , Occurrence,  sources and health risk of polyﬂuoroalkyl  \\nsubstances  (PFASs) in soil, water and sediment  from a drinking water source area, Ecotoxicology  and Environmental  Safety \\n174 (2019) 208–217 . \\n[2] X. Dauchy , V. Boiteux , C. Bach , A. Colin , J. Hemard , C. Rosin , J.-F. Munoz , Mass ﬂows and fate of per- and polyﬂuoroalkyl  \\nsubstances  (PFASs) in the wastewater  treatment  plant of a ﬂuorochemical  manufacturing  facility, Science of The Total \\nEnvironment  576 (2017) 549–558  . \\n[3] Z. Du , S. Deng , Y. Bei , Q. Huang , B. Wang , J. Huang , G. Yu , Adsorption  behavior  and mechanism  of perﬂuorinated  compounds  \\non various adsorbents—A  review, Journal of Hazardous  Materials  274 (2014) 443–454  . \\n[4] E. Hepburn  , C. Madden , D. Szabo , T.L. Coggan , B. Clarke , M. Currell , Contamination  of groundwater  with per- and \\npolyﬂuoroalkyl  substances  (PFAS) from legacy landﬁlls in an urban re-development  precinct,  Environmental  Pollution  248 \\n(2019) 101–113 . \\n[5] OECD, OECD 106 Guideline  for The Testing of Chemicals  Adsorption  - Desorption  Using A Batch Equilibrium  Method, OECD, \\n20 0 0 (Ed.) .', metadata={'source': '_data\\\\1_Analytical_Methods/literature_PDF\\\\SL01-295-J.pdf', 'page': 8, 'doc_id': 'SL01-295-J'}),\n",
       " Document(page_content='Millipore  Synergy  UV Milli-Q  water system)  was utilised  and conﬁrmed  to be PFAS-free.  \\nNative PFAS standards  (purity  ≥98.0 %) were acquired  from Sigma Aldrich  (Australia).  These \\nincluded  Perﬂurorbutanoic  acid (PFBA),  Perﬂuorohexanoic  acid (PFHxA),  Perﬂuorooctanoic  acid (PFOA),  \\nPerﬂuorobutanesulfonic  acid (PFBS),  Perﬂuorohexanesulfonic  acid (PFHxS),  and Perﬂuorooctanesulfonic  \\nacid (PFOS).  PFBA, PFBS and PFHxA were liquid at standard  laboratory  temperature,  while the \\nremaining  compounds  were provided  as solid potassium  salts. 13 C labelled  standards  for the above \\nPFAS were obtained  from Wellington  Laboratories  Inc. at a concentration  of 50 μg/mL and ≥99 % \\npurity , and were labelled  as follows:  PFBA (M3), PFHxA (M2), PFOA (M2), PFOA (M8), PFBS (M3), \\nPFHxS (M3), PFOS (M4), PFOS (M8), where M denotes  the labelled  carbon  number.  \\n“PFAS Clean” Preparation  of Solvents,  Stocks and Standards  \\nPipette Tip Wash \\nPipette  tips were a known  source of PFAS contamination  in previous  laboratory  experiments.  \\nTherefore,  all pipette  tips were tested and conﬁrmed  to be PFAS-free  prior to commencing  \\nexperimental  work. Furthermore,  pipette  tips used in experiments  were washed  using a two step- \\nsequence  to prevent  the carryover  of PFAS, or leaching  of PFAS impregnated  within the pipette  \\nmaterial,  into samples.  Pipette  tips were rinsed with MeOH three times followed  by a further  rinse \\nwith 10% MeOH Milli-Q  water solution.  \\nCalibration  Standard  and Spiking  Solution  Preparation  \\nCalibration  standards  were prepared  in Agilent  Technologies  1 mL Polypropylene  snap lid GC vial \\nby serial dilution  using all six native PFAS standards  in a 10% by volume  MeOH milli-Q  water solution.', metadata={'source': '_data\\\\1_Analytical_Methods/literature_PDF\\\\SL01-295-J.pdf', 'page': 1, 'doc_id': 'SL01-295-J'}),\n",
       " Document(page_content='M. Askeland,  B. Clarke and J. Paz-Ferreiro  / MethodsX  7 (2020) 100886 3 \\nCalibration  standards  ranged  from 0.01 to 10 μg/L and included  a constant  concentration  of 1 μg/L \\ncarbon  labelled  standards  as PFBA (M3), PFHxA (M2), PFOA (M2), PFBS (M3), PFHxS (M3), and PFOS \\n(M4). \\nA 10 μg/L Carbon  labelled  PFAS solution  was prepared  in a 50 mL polypropylene  centrifuge  tube \\nusing hypergrade  MeOH and PFBA (M3), PFHxA (M2), PFOA (M2), PFBS (M3), PFHxS (M3), and PFOS \\n(M4) carbon  labelled  standards.  This solution  was used for addition  of surrogates  to samples  during \\nsample  preparation.  \\nPFOA (M8) and PFOS (M8) were prepared  in a 10% by volume  MeOH milli-Q  water solution  to \\nachieve  a 1 μg/L concentration  for injection  standard.  \\nEach target PFAS congener  had a spiking  solution  prepared  in ACS grade methanol  washed  1 L \\npolypropylene  screw cap bottles using milli-Q  water to achieve  desired  concentration.  PFAS standards  \\nwere dissolved  in 10 mL MeOH in a polypropylene  centrifuge  tube before addition  to a polypropylene  \\nbottle with 990 mL of milli-Q  water. This bulk spiking  solution  was placed on a shaker for an \\nhour before it was divided  out into relevant  serial experiments.  1 mL of each spiking  solutions  was \\nprepared  for sampling  as per Section  2.3.2 and analysed  by LCMS to determine  exact concentration  as \\nstarting  concentration  for experiments  (C 0 ). \\nIn all cases, pipette  tip washing  mentioned  in 2.2.1 was adhered  to, and solutions  were retained  \\nfor no longer than 24 hours if not exhausted  in experiments.  \\nSample  Preparation  and Sorption  Experiments  \\nEquilibrium  Experimental  Protocol  \\nEquilibrium  experiments  were designed  to determine  the contact  time required  to reach a steady \\nstate (equilibrium)  in a sorption  system.  This time value is applied  to subsequent  sorption/desorption', metadata={'source': '_data\\\\1_Analytical_Methods/literature_PDF\\\\SL01-295-J.pdf', 'page': 2, 'doc_id': 'SL01-295-J'})]"
      ]
     },
     "execution_count": 4,
     "metadata": {},
     "output_type": "execute_result"
    }
   ],
   "source": [
    "r['context']"
   ]
  },
  {
   "cell_type": "code",
   "execution_count": null,
   "metadata": {},
   "outputs": [],
   "source": []
  },
  {
   "cell_type": "code",
   "execution_count": null,
   "metadata": {},
   "outputs": [],
   "source": []
  },
  {
   "cell_type": "code",
   "execution_count": null,
   "metadata": {},
   "outputs": [],
   "source": []
  },
  {
   "cell_type": "code",
   "execution_count": null,
   "metadata": {},
   "outputs": [],
   "source": []
  },
  {
   "cell_type": "code",
   "execution_count": 20,
   "metadata": {},
   "outputs": [
    {
     "data": {
      "text/plain": [
       "\"\\nr[0].metadata\\nfrom langchain_openai import OpenAIEmbeddings\\nfrom tqdm import tqdm\\nem = OpenAIEmbeddings()\\nem.embed_documents()\\ntext = []\\nfor _ in tqdm(r):\\n    text.append(_.page_content)\\n_embeddings = em.embed_documents(text)\\nfor i,_ in enumerate(_embeddings):\\n    r[i].metadata['embedding'] = _\\n\""
      ]
     },
     "execution_count": 20,
     "metadata": {},
     "output_type": "execute_result"
    }
   ],
   "source": [
    "\"\"\"\n",
    "r[0].metadata\n",
    "from langchain_openai import OpenAIEmbeddings\n",
    "from tqdm import tqdm\n",
    "em = OpenAIEmbeddings()\n",
    "em.embed_documents()\n",
    "text = []\n",
    "for _ in tqdm(r):\n",
    "    text.append(_.page_content)\n",
    "_embeddings = em.embed_documents(text)\n",
    "for i,_ in enumerate(_embeddings):\n",
    "    r[i].metadata['embedding'] = _\n",
    "\"\"\""
   ]
  },
  {
   "cell_type": "code",
   "execution_count": 21,
   "metadata": {},
   "outputs": [
    {
     "data": {
      "text/plain": [
       "18815"
      ]
     },
     "execution_count": 21,
     "metadata": {},
     "output_type": "execute_result"
    }
   ],
   "source": [
    "import pickle\n",
    "\"\"\"\n",
    "# 打开一个文件以二进制写入模式\n",
    "with open('_notebooks/data.pkl', 'wb') as file:\n",
    "    # 使用 pickle.dump 方法将对象保存到文件中\n",
    "    pickle.dump(r, file)\n",
    "\"\"\"\n",
    "\n",
    "# 打开文件以二进制读取模式\n",
    "with open('_notebooks/data.pkl', 'rb') as file:\n",
    "    # 使用 pickle.load 方法从文件中加载对象\n",
    "    r = pickle.load(file)\n",
    "\n",
    "len(r)\n"
   ]
  },
  {
   "cell_type": "code",
   "execution_count": 22,
   "metadata": {},
   "outputs": [],
   "source": [
    "_embeddings = []\n",
    "for _ in r:\n",
    "    _embeddings.append(_.metadata['embedding'])"
   ]
  },
  {
   "cell_type": "code",
   "execution_count": 36,
   "metadata": {},
   "outputs": [
    {
     "data": {
      "text/plain": [
       "(1000, 1536)"
      ]
     },
     "execution_count": 36,
     "metadata": {},
     "output_type": "execute_result"
    }
   ],
   "source": [
    "import numpy as np\n",
    "a = np.array(_embeddings)[:1000]\n",
    "a.shape"
   ]
  },
  {
   "cell_type": "code",
   "execution_count": 2,
   "metadata": {},
   "outputs": [],
   "source": [
    "import umap"
   ]
  },
  {
   "cell_type": "code",
   "execution_count": 42,
   "metadata": {},
   "outputs": [
    {
     "name": "stderr",
     "output_type": "stream",
     "text": [
      "c:\\Users\\donkey\\.conda\\envs\\EDT\\Lib\\site-packages\\umap\\umap_.py:1945: UserWarning: n_jobs value 1 overridden to 1 by setting random_state. Use no seed for parallelism.\n",
      "  warn(f\"n_jobs value {self.n_jobs} overridden to 1 by setting random_state. Use no seed for parallelism.\")\n"
     ]
    }
   ],
   "source": [
    "import umap\n",
    "import numpy as np\n",
    "from tqdm import tqdm\n",
    "umap_transform = umap.UMAP(random_state=0, transform_seed=0).fit(a)"
   ]
  },
  {
   "cell_type": "code",
   "execution_count": 41,
   "metadata": {},
   "outputs": [],
   "source": [
    "def project_embeddings(embeddings, umap_transform):\n",
    "    umap_embeddings = np.empty((len(embeddings),2))\n",
    "    for i, embedding in enumerate(tqdm(embeddings)): \n",
    "        umap_embeddings[i] = umap_transform.transform([embedding])\n",
    "    return umap_embeddings "
   ]
  },
  {
   "cell_type": "code",
   "execution_count": null,
   "metadata": {},
   "outputs": [],
   "source": []
  }
 ],
 "metadata": {
  "kernelspec": {
   "display_name": "EDT",
   "language": "python",
   "name": "python3"
  },
  "language_info": {
   "codemirror_mode": {
    "name": "ipython",
    "version": 3
   },
   "file_extension": ".py",
   "mimetype": "text/x-python",
   "name": "python",
   "nbconvert_exporter": "python",
   "pygments_lexer": "ipython3",
   "version": "3.11.7"
  }
 },
 "nbformat": 4,
 "nbformat_minor": 2
}
