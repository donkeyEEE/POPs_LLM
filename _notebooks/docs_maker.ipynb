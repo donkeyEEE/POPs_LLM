{
 "cells": [
  {
   "cell_type": "code",
   "execution_count": 8,
   "metadata": {},
   "outputs": [],
   "source": [
    "import os\n",
    "os.chdir('E:\\学习\\python\\py_codbase\\PK_LLM')\n",
    "# 现在可以安全地使用环境变量了\n",
    "LANGCHAIN_API_KEY = os.getenv('LANGCHAIN_API_KEY')\n",
    "OPENAI_API_KEY = os.getenv('OPENAI_API_KEY')\n",
    "\n",
    "# 开启langsmith服务\n",
    "#os.environ['LANGCHAIN_TRACING_V2'] = \"true\"\n",
    "#os.environ['LANGCHAIN_ENDPOINT'] = \"https://api.smith.langchain.com\"\n",
    "#os.environ['LANGCHAIN_API_KEY']=\"ls__8f359b12028e4a4bbfb32616d6158173\"\n",
    "#os.environ['LANGCHAIN_PROJECT'] = \"My Project\"\n",
    "from paperqa_ import Docs\n",
    "import nest_asyncio\n",
    "nest_asyncio.apply()\n",
    "import pandas as pd\n",
    "from langchain.chat_models import ChatOpenAI"
   ]
  },
  {
   "cell_type": "code",
   "execution_count": 2,
   "metadata": {},
   "outputs": [],
   "source": [
    "class _docs_maker():\n",
    "    _BasePath_ = \"\"\n",
    "    docs:Docs =None \n",
    "    def __init__(self,base_path:str = None) -> None:\n",
    "        if base_path:\n",
    "            self._BasePath_ = base_path\n",
    "    \n",
    "    def create_new_doc(self):\n",
    "        my_docs_path = []  \n",
    "        my_docs_citation = []   \n",
    "        my_docs_doc_key = []\n",
    "        my_docs_doc_name = []\n",
    "        my_docs_doc_abstrst = []\n",
    "        from tqdm import tqdm\n",
    "        pdf_path = f\"{self._BasePath_}/literature_PDF\"\n",
    "        df = pd.read_csv(f\"{self._BasePath_}\\litera_lis.csv\",encoding=\"ISO-8859-1\",index_col=0)\n",
    "        for _x in tqdm(range(df.shape[0])):  # list(df.index):\n",
    "            # info = df.loc[_x] \n",
    "            is_down = df['is_download'].iloc[_x]\n",
    "            if is_down ==1 :\n",
    "                _key = df.index[_x].replace(\"SL01\",f\"{_f}\")\n",
    "                my_docs_path.append(f\"{pdf_path}/{df.index[_x]}.pdf\")\n",
    "                my_docs_citation.append(df['Citation'].iloc[_x])\n",
    "                my_docs_doc_key.append(f\"{_key}\")\n",
    "                my_docs_doc_name.append(f\"{df['Title'].iloc[_x]}\")\n",
    "                my_docs_doc_abstrst.append(f\"{df['Abstract'].iloc[_x]}\")\n",
    "        docs = Docs()\n",
    "        error_litera = []\n",
    "        for i,d in tqdm(enumerate(my_docs_path)):\n",
    "            try:\n",
    "                docs.add(path=d,\n",
    "                        citation=my_docs_citation[i],\n",
    "                        dockey=my_docs_doc_key[i],\n",
    "                        docname=my_docs_doc_name[i],\n",
    "                        abstract=my_docs_doc_abstrst[i])\n",
    "            except:\n",
    "                error_litera.append(d)\n",
    "        from langchain.chat_models import ChatOpenAI\n",
    "        llm = ChatOpenAI(temperature=0.1, model=\"gpt-3.5-turbo\")\n",
    "        llm_4 = ChatOpenAI(temperature=0.5, model=\"gpt-4\")\n",
    "        docs.update_llm(llm=llm_4,summary_llm=llm)\n",
    "        self.docs = docs\n",
    "\n",
    "    def save_docs(self,path:str):\n",
    "        # save\n",
    "        import pickle\n",
    "        with open(path, \"wb\") as f:\n",
    "            pickle.dump(self.docs, f)\n",
    "    def load_docs(self,path:str):\n",
    "        from pathlib import Path\n",
    "        import pickle\n",
    "        pkl_path = Path(path)\n",
    "        with pkl_path.open(\"rb\") as f:\n",
    "            docs = pickle.load(f)\n",
    "        self.docs = docs"
   ]
  },
  {
   "cell_type": "code",
   "execution_count": 3,
   "metadata": {},
   "outputs": [],
   "source": [
    "# 加载问答内核\n",
    "docs_maker = _docs_maker()\n",
    "docs_maker.load_docs(\"docs_V04.pkl\")"
   ]
  },
  {
   "cell_type": "code",
   "execution_count": 33,
   "metadata": {},
   "outputs": [],
   "source": [
    "# 保存内核\n",
    "#docs_maker.save_docs(path=\"docs_V04.pkl\")"
   ]
  },
  {
   "cell_type": "code",
   "execution_count": 4,
   "metadata": {},
   "outputs": [
    {
     "name": "stderr",
     "output_type": "stream",
     "text": [
      "c:\\Users\\donkey\\.conda\\envs\\PK_LLM\\Lib\\site-packages\\langchain_core\\_api\\deprecation.py:117: LangChainDeprecationWarning: The function `arun` was deprecated in LangChain 0.1.0 and will be removed in 0.2.0. Use ainvoke instead.\n",
      "  warn_deprecated(\n"
     ]
    },
    {
     "data": {
      "text/plain": [
       "Answer(question='你是谁', answer='I cannot answer.', context='Hong, Xiaowen, et al. \"PFASs in Cerebrospinal Fluids and Blood−CSF Barrier Permeability in Patients with Cognitive Impairment.\" Environmental Science & Technology, vol. 58, no. 9, 2024, pp. 5129-5138.: - Study focused on PFASs in cerebrospinal fluids (CSF) and blood, examining their transfer and cognitive implications.\\n- Identified key transporter proteins involved: P-glycoprotein (P-gp), BCRP, MRPs, and OATs.\\n- Age was a significant factor in PFAS transfer, with a notable increase in RCSF/Serum values after age 60.\\n- Logistic regression analysis linked CSFPFOS levels to increased cognitive impairment risk.\\n- CSFPFOA showed a protective effect on cognitive impairment.\\n- Toxicity Quotient (TQ) analysis indicated PFOS in CSF may have a greater potential to impair cognitive function than PFOA and PFHxS.\\n- Score: 9\\n\\nValid keys: PFASs in Cerebrospinal Fluids and Blood-CSF Barrier Permeability in Patients with Cognitive Impairment pages 6-6', contexts=[Context(context='- Study focused on PFASs in cerebrospinal fluids (CSF) and blood, examining their transfer and cognitive implications.\\n- Identified key transporter proteins involved: P-glycoprotein (P-gp), BCRP, MRPs, and OATs.\\n- Age was a significant factor in PFAS transfer, with a notable increase in RCSF/Serum values after age 60.\\n- Logistic regression analysis linked CSFPFOS levels to increased cognitive impairment risk.\\n- CSFPFOA showed a protective effect on cognitive impairment.\\n- Toxicity Quotient (TQ) analysis indicated PFOS in CSF may have a greater potential to impair cognitive function than PFOA and PFHxS.\\n- Score: 9', text=Text(text='keytransmembrane\\ntransporter proteinslikeP-glycoprotein (P-gp),breastcancer\\nresistance protein(BCRP), multidrug resistance proteins\\n(MRPs), andorganicaniontransporters (OATs).25\\nConsidering thatchronological ageisasignificant riskfactor\\nforcognitive decline,42,43theassociations betweenserumor\\nCSFPFASconcentrations andageswereexamined inthepresentstudy.However, nodirectrelationship wasdiscovered.\\nNonetheless, ourresearch hasobserved anintriguing\\nconnection betweenageandtheRCSF/Serumvalues.Specifically,\\nafterreachingapproximately 60yearsofage,asignificant (p<\\n0.05,Mann−Whitney test)increasewasfoundintheRCSF/Serum\\nvaluesofΣPFASs(Figure2B),whichindicatethatageisan\\nimportant factorinfluencing PFAStransferfrombloodtoCSF\\ninallparticipants. ThisalignswithHu’srecentstudywhich\\nreported thatCSFPFASsaremorelikelytoaccumulate in\\nolderindividuals compared tothatinyounger ones.27\\nInterestingly, thisagethreshold coincides withtheagewhen\\ncognitive declinetendstobecomemoreprevalent.44,45Inthe\\npresentstudy,averageage(64.4)ofthepatientgroupindeed\\nlargerthanthat(55.1)ofthecontrols(TableS2).Therefore, a\\nlogisticregression wasthenperformed tofurtherinvestigate\\ntheassociation between CSFPFASlevelsandcognitive\\nimpairment bycovering important confounding covariates\\nlikeage.\\nAssociation betweenthePFOAandPFOSLevelsand\\nCognitiveDeclineUsingLogisticRegression. Tofurther\\nexcludeinterference frompotentialvariables, weperformed the\\nlogisticregression intwomodelshavingdifferentcovariates.\\nThefirstmodel(Adjusted 1)includedage,education year,and\\nhypertension, allofwhichweresuspected toberelatedto\\ncognitive decline.Thesecondmodel(Adjusted 2)took\\nlifestyleintoaccount, andtherefore, smoking historyand\\nalcoholconsumption wereadditionally included. Asseenin\\nTable2,serumPFOAandPFOSlevelsbothhadnosignificant\\nassociation withcognitive decline.However, CSFPFOSlevels\\nwerelinkedtoincreased risksofcognitive impairment (OR:\\n2.68(1.01−7.08),p=0.041inAdjusted1;3.22(1.18−11.8),p\\n=0.047inAdjusted 2),whileCSFPFOAshowedaprotective\\neffectoncognitive impairment inourpopulation. Theresults\\nsuggestthatitisCSFPFASs,otherthanserumPFASs,thatare\\nassociated withcognitive impairment inhumans.\\nToxicityInferencesforCognition-Related Diseases\\nBasedonCSFPFASExposure. Inthisstudy,basedonthe\\nTISlinkingPFASchemicals andcognition-related diseasesin\\nCTD,TQforthreemoststudiedPFASchemicals (PFOA,\\nPFOS,andPFHxS) wasestimated undermedianbrain\\nexposure andhigh-end brainexposure scenarios (Table3),\\nwhichwerecalculated usingthemedianand95thpercentile\\nconcentrations intheCSFofpatients withcognitive\\nimpairment, respectively.\\nTheTQresults demonstrated thatPFOS\\n(TQmedianCSFexposure=1480,TQhigh‑end CSFexposure=7015)in\\nCSFmayhaveagreaterpotential toimpaircognitive function\\nthanPFOA(TQmedianCSFexposure=675,TQhigh‑end CSFexposure=\\n6480)andPFHxS(TQhigh‑end CSFexposure=1350)(Table3),Table2.Association between CSFPFOA andPFOS Concentrations andCognitive Decline UsingLogistic Regression\\nOR(95%CI)a\\ncrude pvaluebadjusted1cpvalue adjusted2d', name='PFASs in Cerebrospinal Fluids and Blood-CSF Barrier Permeability in Patients with Cognitive Impairment pages 6-6', doc=Doc(docname='PFASs in Cerebrospinal Fluids and Blood-CSF Barrier Permeability in Patients with Cognitive Impairment', citation='Hong, Xiaowen, et al. \"PFASs in Cerebrospinal Fluids and Blood−CSF Barrier Permeability in Patients with Cognitive Impairment.\" Environmental Science & Technology, vol. 58, no. 9, 2024, pp. 5129-5138.', dockey='demo-29-J', abstract='Attention has been drawn to the associations between PFASs and human cognitive decline. However, knowledge on the occurrence and permeability of PFASs in the brains of patients with cognitive impairment has not been reported. Here, we determined 30 PFASs in paired sera and cerebrospinal fluids (CSFs) from patients with cognitive impairment (n = 41) and controls without cognitive decline (n = 18). We revealed similar serum PFAS levels but different CSF PFAS levels, with lower CSF PFOA (median: 0.125 vs 0.303 ng/mL, p < 0.05), yet higher CSF PFOS (0.100 vs 0.052 ng/mL, p < 0.05) in patients than in controls. Blood-brain transfer rates also showed lower RCSF/Serum values for PFOA and higher RCSF/Serum values for PFOS in patients, implying potential heterogeneous associations with cognitive function. The RCSF/Serum values for C4-C14 perfluoroalkyl carboxylates exhibited a U-shape trend with increasing chain length. Logistic regression analyses demonstrated that CSF PFOS levels were linked to the heightened risk of cognitive impairment [odds ratio: 3.22 (1.18-11.8)] but not for serum PFOS. Toxicity inference results based on the Comparative Toxicogenomics Database suggested that PFOS in CSF may have a greater potential to impair human cognition than other PFASs. Our results contribute to a better understanding of brain PFAS exposure and its potential impact on cognitive function. ? 2024 American Chemical Society.'), embeddings=None), score=9)], references='1. Hong, Xiaowen, et al. \"PFASs in Cerebrospinal Fluids and Blood−CSF Barrier Permeability in Patients with Cognitive Impairment.\" Environmental Science & Technology, vol. 58, no. 9, 2024, pp. 5129-5138.:(PFASs in Cerebrospinal Fluids and Blood-CSF Barrier Permeability in Patients with Cognitive Impairment pages 6-6) ', formatted_answer='Question: 你是谁\\n\\nI cannot answer.\\n\\nReferences\\n\\n1. Hong, Xiaowen, et al. \"PFASs in Cerebrospinal Fluids and Blood−CSF Barrier Permeability in Patients with Cognitive Impairment.\" Environmental Science & Technology, vol. 58, no. 9, 2024, pp. 5129-5138.:(PFASs in Cerebrospinal Fluids and Blood-CSF Barrier Permeability in Patients with Cognitive Impairment pages 6-6) \\n', dockey_filter=None, summary_length='about 100 words', answer_length='about 100 words', memory=None, cost=None, token_counts=None)"
      ]
     },
     "execution_count": 4,
     "metadata": {},
     "output_type": "execute_result"
    }
   ],
   "source": [
    "docs_maker.docs.query(\"你是谁\")"
   ]
  },
  {
   "cell_type": "code",
   "execution_count": 7,
   "metadata": {},
   "outputs": [],
   "source": [
    "docs_maker.docs.doc_index.save_local(\"_data/demo_index\")"
   ]
  },
  {
   "cell_type": "code",
   "execution_count": 8,
   "metadata": {},
   "outputs": [
    {
     "name": "stderr",
     "output_type": "stream",
     "text": [
      "\n",
      "KeyboardInterrupt\n",
      "\n"
     ]
    }
   ],
   "source": [
    "docs_maker.docs.__getstate__"
   ]
  },
  {
   "cell_type": "code",
   "execution_count": 13,
   "metadata": {},
   "outputs": [],
   "source": [
    "# 进行提示词工程\n",
    "from langchain.prompts import PromptTemplate\n",
    "summary_prompt = PromptTemplate(\n",
    "    input_variables=[\"text\", \"citation\", \"question\", \"summary_length\"],\n",
    "    template=\"\"\"\n",
    "Objective:\n",
    "* To understand and distill the provided text, extracting key information that specifically addresses the posed question.\n",
    "* The provided text comes from a literature excerpt, where useful information may involve the background,\\\n",
    "    objectives, methods, and conclusions of the study.\n",
    "\n",
    "Instructions:\n",
    "* Thoroughly read and comprehend the text.\n",
    "* Identify and extract information of the text that are most relevant to the specified question.\n",
    "* Structure the information using bullet points or a concise paragraph to enhance readability.\n",
    "* Emphasize the critical points that directly respond to or elucidate the posed question.\n",
    "\n",
    "Exclusions:\n",
    "* Exclude any information not directly pertinent to the question to maintain focus and relevance.\n",
    "\n",
    "Output Format:\n",
    "* Prepare the information to function effectively as input for another LLM, \\\n",
    "    facilitating subsequent analysis or response generation.\n",
    "\n",
    "Clarity and Precision:\n",
    "* Ensure the information is explicitly clear and precise to eliminate ambiguities, \\\n",
    "    focusing on usability for further language model processing.\n",
    "    \n",
    "\"\"\"\n",
    "    'Reply \"Not applicable\" if text is irrelevant. '\n",
    "    \"Use {summary_length}. At the end of your response, provide a score from 1-10 on a newline \"\n",
    "    \"indicating relevance to question. Do not explain your score. \"\n",
    "    \"\\n\\n\"\n",
    "    \"{text}\\n\\n\"\n",
    "    \"Excerpt from {citation}\\n\"\n",
    "    \"Question: {question}\\n\"\n",
    "    \"Relevant Information Summary:\",\n",
    ")\n",
    "docs.prompts.summary = summary_prompt"
   ]
  },
  {
   "cell_type": "code",
   "execution_count": 19,
   "metadata": {},
   "outputs": [
    {
     "name": "stdout",
     "output_type": "stream",
     "text": [
      "问题：如何测试PFAS在人乳中的含量\n",
      "\n",
      "测试PFAS（全氟烷基化合物）在人乳中的含量需要进行多步实验操作。首先，人乳样本需要经过提取和清洁，这一步骤包括将5毫升的人乳样本加入离心管中，然后加入内标溶液，并与甲酸进行涡旋混合。混合物随后转移到固相萃取柱，进行冲洗，真空干燥，并用甲醇洗脱以供分析。\n",
      "\n",
      "PFAS的分析通常使用高效液相色谱仪（HPLC）与三重四极杆质谱仪（TOF MS）进行，具体的仪器参数需要详细说明。色谱分离使用Kinetex®C18 1.7µm: 2.1 ×100 mm柱，并使用10 mM醋酸铵在水和甲醇中的梯度。PFAS的质谱鉴定使用PerkinElmer®QSight ™220三重四极杆质谱仪，在负电喷雾电离模式下进行。\n",
      "\n",
      "对于PFASs的定量，还涉及到PFOA，PFNA，PFDA，全氟十一酸，全氟十二酸的酯化，使用氯甲酸酯使它们形成半挥发性的甲酯。气相色谱（GC）分析的衍生化方法包括二氮甲烷，溴化苄在液液萃取（LLE）期间，2,4-二氟苯胺，强阴离子交换萃取与碘甲烷，甲醇或丁醇。\n",
      "\n",
      "最后，人乳中单个PFAS的定量是通过使用MS/MS转换和保留时间进行的，这些信息在表SD-1中有报告。基于Thompson等人（2010）的一阶药代动力学（PK）模型被用来预测支持人乳中测量到的PFAS浓度所需的暴露水平。\n",
      "1. Chemosphere. 2020 May;246:125724. doi: 10.1016/j.chemosphere.2019.125724. Epub 2019 Dec 20.:(Concentrations of perfluoroalkyl substances in human milk from Ireland: Implications for adult and nursing infant exposure pages 10-11) \n",
      "\n",
      "2. Chemosphere. 2020 May;246:125724. doi: 10.1016/j.chemosphere.2019.125724. Epub 2019 Dec 20.:(Concentrations of perfluoroalkyl substances in human milk from Ireland: Implications for adult and nursing infant exposure pages 7-8) \n",
      "\n",
      "3. Molecules. 2021 Jun 16;26(12):3664. doi: 10.3390/molecules26123664.:(Confirmatory Analysis of Per and Polyfluoroalkyl Substances in Milk and Infant Formula Using UHPLC-MS/MS pages 13-14) \n",
      "\n",
      "4. Environ Sci Pollut Res Int. 2018 Dec;25(36):36064-36086. doi: 10.1007/s11356-018-3483-z. Epub 2018 Nov 1.:(Per- and polyfluoroalkyl substances in human breast milk and current analytical methods pages 17-18) \n",
      "\n",
      "5. Chemosphere. 2020 May;246:125724. doi: 10.1016/j.chemosphere.2019.125724. Epub 2019 Dec 20.:(Concentrations of perfluoroalkyl substances in human milk from Ireland: Implications for adult and nursing infant exposure pages 11-13) \n"
     ]
    }
   ],
   "source": [
    "q= \"如何测试PFAS在人乳中的含量\"\n",
    "llm = ChatOpenAI(temperature=0)\n",
    "a= llm.invoke(f\"将这段话翻译为英文:{q}\")\n",
    "r  = docs.query(q,length_prompt='as long as you can')\n",
    "b= llm.invoke(f\"将这段话翻译为中文:{r.formatted_answer}\")\n",
    "print(b.content)\n",
    "print(r.references)"
   ]
  },
  {
   "cell_type": "code",
   "execution_count": 20,
   "metadata": {},
   "outputs": [
    {
     "name": "stdout",
     "output_type": "stream",
     "text": [
      "- Breast milk samples were extracted and cleaned up following methods by .\n",
      "- Besides PFOS, PFOA, PFNA, and PFHxS, other PFASs measured included PFBS, FOSA, MeFOSA, EtFOSA, MeFOSE, and EtFOSE.\n",
      "- Sample preparation involved adding 5 mL of breast milk to a centrifuge tube, spiking it with an internal standard solution, and vortexing with formic acid.\n",
      "- The mixture was transferred to a solid phase extraction cartridge, rinsed, dried under vacuum, and eluted with MeOH for analysis.\n",
      "- PFAS analysis was conducted using an HPLC coupled to a triple TOF MS, with specific instrumental parameters detailed.\n",
      "\n",
      "Relevance Score: 10\n"
     ]
    }
   ],
   "source": [
    "print(r.contexts[0].context)"
   ]
  },
  {
   "cell_type": "code",
   "execution_count": 18,
   "metadata": {},
   "outputs": [
    {
     "name": "stdout",
     "output_type": "stream",
     "text": [
      "处理PFAS（全氟和多氟烷基物质）污染的方法包括各种样品预处理方法，如蛋白质沉淀、水解、液液萃取（LLE）以及固相萃取（SPE）。在SPE中，使用了不同的柱子，包括ACQUITY BEH C18、Gemini C18、Waters Acquity UPLC BEH C18、Discovery HS C18、Waters Acquity UPLC HSS T3、J &W DB-5MS和J &W DB-35MS等。此外，还使用了各种不同的分析技术，如HPLC-ESI-MS/MS、LC-ESI-HRMS、GC-EI-MS和UHPLC-ESI-MS/MS等。在处理PFAS污染时，回收率的范围通常在61%到160%之间，具体取决于所研究的PFAS化合物。此外，液相色谱-串联质谱（LC-MS/MS）在多反应监测（MRM）模式下是量化PFAS的首选方法。\n",
      "1. Environ Sci Pollut Res Int. 2018 Dec;25(36):36064-36086. doi: 10.1007/s11356-018-3483-z. Epub 2018 Nov 1.:(Per- and polyfluoroalkyl substances in human breast milk and current analytical methods pages 14-16) \n",
      "\n",
      "2. J Chromatogr A. 2011 Jul 15;1218(28):4312-21. doi: 10.1016/j.chroma.2011.04.061. Epub 2011 May 7.:(Simple, high throughput ultra-high performance liquid chromatography/tandem mass spectrometry trace analysis of perfluorinated alkylated substances in food of animal origin: milk and fish pages 1-2) \n",
      "\n",
      "3. Chemosphere. 2020 May;246:125724. doi: 10.1016/j.chemosphere.2019.125724. Epub 2019 Dec 20.:(Concentrations of perfluoroalkyl substances in human milk from Ireland: Implications for adult and nursing infant exposure pages 14-15) \n",
      "\n",
      "4. Chemosphere. 2020 May;246:125724. doi: 10.1016/j.chemosphere.2019.125724. Epub 2019 Dec 20.:(Concentrations of perfluoroalkyl substances in human milk from Ireland: Implications for adult and nursing infant exposure pages 21-23) \n",
      "\n",
      "5. Molecules. 2021 Jun 16;26(12):3664. doi: 10.3390/molecules26123664.:(Confirmatory Analysis of Per and Polyfluoroalkyl Substances in Milk and Infant Formula Using UHPLC-MS/MS pages 6-8) \n"
     ]
    }
   ],
   "source": [
    "q= \"有哪些处理PFAS污染，请你撰写一段总结文字\"\n",
    "llm = ChatOpenAI(temperature=0)\n",
    "a= llm.invoke(f\"将这段话翻译为英文:{q}\")\n",
    "r  = docs.query(q,length_prompt='as long as you can')\n",
    "b= llm.invoke(f\"将这段话翻译为中文:{r.formatted_answer}\")\n",
    "print(b.content)\n",
    "print(r.references)"
   ]
  },
  {
   "cell_type": "markdown",
   "metadata": {},
   "source": [
    "***"
   ]
  },
  {
   "cell_type": "code",
   "execution_count": 17,
   "metadata": {},
   "outputs": [
    {
     "name": "stdout",
     "output_type": "stream",
     "text": [
      "Question: How does the PHT1;8 protein influence the translocation of PFOS in plants?\n",
      "\n",
      "I cannot answer.\n",
      "\n",
      "References\n",
      "\n",
      "1. Chemosphere. 2020 May;246:125724. doi: 10.1016/j.chemosphere.2019.125724. Epub 2019 Dec 20.:(Concentrations of perfluoroalkyl substances in human milk from Ireland: Implications for adult and nursing infant exposure pages 17-18) \n",
      "\n",
      "2. Environ Sci Pollut Res Int. 2018 Dec;25(36):36064-36086. doi: 10.1007/s11356-018-3483-z. Epub 2018 Nov 1.:(Per- and polyfluoroalkyl substances in human breast milk and current analytical methods pages 9-9) \n",
      "\n",
      "3. Environ Sci Pollut Res Int. 2018 Dec;25(36):36064-36086. doi: 10.1007/s11356-018-3483-z. Epub 2018 Nov 1.:(Per- and polyfluoroalkyl substances in human breast milk and current analytical methods pages 16-17) \n",
      "\n"
     ]
    }
   ],
   "source": [
    "answer = docs.query(\"How does the PHT1;8 protein influence the translocation of PFOS in plants?\")\n",
    "print(answer.formatted_answer)"
   ]
  },
  {
   "cell_type": "code",
   "execution_count": null,
   "metadata": {},
   "outputs": [],
   "source": []
  },
  {
   "cell_type": "code",
   "execution_count": null,
   "metadata": {},
   "outputs": [],
   "source": [
    "# load\n",
    "import pickle\n",
    "from pathlib import Path\n",
    "pkl_path = Path(\"docs_V02.pkl\")\n",
    "with pkl_path.open(\"rb\") as f:\n",
    "    docs = pickle.load(f)"
   ]
  },
  {
   "cell_type": "code",
   "execution_count": null,
   "metadata": {},
   "outputs": [],
   "source": [
    "a = docs.query(\n",
    "    query = 'Which PFASs were found to be major contributors and which ones showed high detection frequencies?',\n",
    "    k=5,\n",
    "    key_filter = False\n",
    "    )"
   ]
  },
  {
   "cell_type": "code",
   "execution_count": null,
   "metadata": {},
   "outputs": [],
   "source": [
    "a.dockey_filter"
   ]
  },
  {
   "cell_type": "code",
   "execution_count": null,
   "metadata": {},
   "outputs": [],
   "source": [
    "s = \"\"\"\n",
    "Perfluoroalkyl and polyfluoroalkyl substances (PFAS) are potentially related to many adverse health outcomes and could be transferred from maternal blood to human milk, which is an important exposure source for infants during a long-term period. In this study, the maternal blood of 76 women after delivery and their matched human milk samples obtained at 0.5, 1, and 3 months were analyzed by solid-phase extraction method with metal?organic framework/polymer hybrid nanofibers as the sorbents and ultrahigh-performance liquid chromatography-negative electrospray ionization mass spectrometric for quantitative analysis of 31 PFAS. The perfluorooctanoic acid, perfluorooctane sulfonate, and N-methyl perfluorooctane sulfonamido acetic acid (N-MeFOSAA) contributed to more than approximately 50% of the total PFAS concentrations in blood and human milk, while N-MeFOSAA (median: 0.274 ng/mL) was the highest PFAS in human milk at 3 months. The transfer efficiencies for PFAS from maternal blood to human milk at 0.5 months were generally lower, with medians ranging from 0.20% to 16.9%. The number of PFAS species detected in human milk increased as the lactation time went on from 0.5 to 3 months, and the concentrations of 10 PFAS displayed an increasing trend as the prolongation of lactation time (p < 0.05). ? 2024 American Chemical Society.\n",
    "\"\"\""
   ]
  },
  {
   "cell_type": "code",
   "execution_count": null,
   "metadata": {},
   "outputs": [],
   "source": [
    "b = docs.query(\n",
    "    query = f'Which PFAS contributed to more than approximately 50% of the total PFAS concentrations in blood and human milk? \\n\\n{s}',\n",
    "    k=5,\n",
    "    #key_filter = True\n",
    "    )"
   ]
  },
  {
   "cell_type": "code",
   "execution_count": null,
   "metadata": {},
   "outputs": [],
   "source": [
    "print(b.formatted_answer)\n",
    "\n"
   ]
  },
  {
   "cell_type": "code",
   "execution_count": null,
   "metadata": {},
   "outputs": [],
   "source": [
    "print(a.references)"
   ]
  }
 ],
 "metadata": {
  "kernelspec": {
   "display_name": "PK_LLM",
   "language": "python",
   "name": "python3"
  },
  "language_info": {
   "codemirror_mode": {
    "name": "ipython",
    "version": 3
   },
   "file_extension": ".py",
   "mimetype": "text/x-python",
   "name": "python",
   "nbconvert_exporter": "python",
   "pygments_lexer": "ipython3",
   "version": "3.11.0"
  }
 },
 "nbformat": 4,
 "nbformat_minor": 2
}
