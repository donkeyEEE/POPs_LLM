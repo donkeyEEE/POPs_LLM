{
 "cells": [
  {
   "cell_type": "markdown",
   "metadata": {},
   "source": [
    "# 测试的工具函数"
   ]
  },
  {
   "cell_type": "markdown",
   "metadata": {},
   "source": []
  },
  {
   "cell_type": "code",
   "execution_count": null,
   "metadata": {},
   "outputs": [],
   "source": [
    "import os\n",
    "os.chdir('E:\\学习\\python\\py_codbase\\PK_LLM')\n",
    "\n",
    "import pandas as pd\n",
    "from datasets import Dataset \n",
    "from ragas.metrics import answer_relevancy,answer_correctness,answer_correctness\n",
    "from ragas import evaluate\n",
    "data_path = \"eval_reasult\"\n",
    "# gpt-4 ; gpt-3.5-turbo ; glm-3-turbo ; glm-4 ; rag\n",
    "\n",
    "def eval_ar(q_lis:list,a_lis:list,t_lis):\n",
    "    data_samples = {\n",
    "        'question':q_lis,\n",
    "        'answer':a_lis,\n",
    "        'contexts':[[\"\"] for i in range(len(q_lis))],\n",
    "        'ground_truth':t_lis\n",
    "    }\n",
    "    dataset = Dataset.from_dict(data_samples)\n",
    "    score = evaluate(dataset,metrics=[answer_relevancy,answer_correctness])\n",
    "    df = score.to_pandas()\n",
    "    return df['answer_relevancy'].mean(),df['answer_correctness'].mean()\n",
    "\n",
    "def process_Di(mt,data:list,_i = 1)->dict:\n",
    "    # 返回模型的AC和AR\n",
    "    dir ={f\"AC{_i}\":[],f'AR{_i}':[]}\n",
    "    path = f\"{data_path}\\\\{_i}\"\n",
    "    t_lis = [a['Answer'] for a in data]\n",
    "    for _m in mt:\n",
    "        m_data = f\"{path}\\eval_{_m}.csv\"\n",
    "        if _m == 'rag':\n",
    "            m_data = \"eval_reasult\\\\1\\\\new_eval_rag.csv\"\n",
    "        m_df = pd.read_csv(m_data).dropna(subset=['prediction'],axis=0)\n",
    "        # _ac = m_df['answer_correctness'].mean()\n",
    "        _ar,_ac = eval_ar(a_lis=list(m_df['prediction']),\n",
    "                        q_lis=list(m_df['Question']),\n",
    "                        t_lis=t_lis)\n",
    "        print(f\"{_m} 的平均相关性为 {_ar}\")\n",
    "        dir[f'AC{_i}'].append(_ac)\n",
    "        print(f\"{_m} 的平均正确率为 {_ac}\")\n",
    "        dir[f'AR{_i}'].append(_ar)\n",
    "    return dir\n"
   ]
  },
  {
   "cell_type": "markdown",
   "metadata": {},
   "source": [
    "# 检验文档完整性"
   ]
  },
  {
   "cell_type": "code",
   "execution_count": 3,
   "metadata": {},
   "outputs": [],
   "source": [
    "# 检查评测数据中是否存在因为网络问题产生的缺失\n",
    "import os\n",
    "os.chdir('E:\\学习\\python\\py_codbase\\PK_LLM')\n",
    "from PK_LLM_endfront.evaluation.eva_funcs import DataLoader\n",
    "import pandas as pd\n",
    "mt = ['ablat1_eval_rag_context']#'\n",
    "def check(df,data):\n",
    "    flag = False\n",
    "    for _ in data:\n",
    "        q = _['Question']\n",
    "        if q not in list(df['Question']):\n",
    "            print(q)\n",
    "            return True\n",
    "    return False\n",
    "\n",
    "\n",
    "def remake_df(df:pd.DataFrame,data):\n",
    "    r_df = pd.DataFrame([])\n",
    "    for _ in data:\n",
    "        q = _['Question']\n",
    "        _df = df[df['Question']==q]\n",
    "        _df = _df.iloc[-1,:]\n",
    "        r_df = pd.concat([r_df,_df],axis=1)\n",
    "    return r_df.T\n",
    "\n",
    "# 检查因为未知原因出现的问答重复问题\n",
    "for i in range(1,7):\n",
    "    dataloader = DataLoader(f\"_data\\\\testqa\\\\testdata_{i}.json\")\n",
    "    data = dataloader.load_json(dataloader.filepath)\n",
    "    for _ in mt:\n",
    "        _p = f\"eval_reasult2\\\\{i}/{_}.csv\"\n",
    "        df = pd.read_csv(_p)\n",
    "        if df.shape[0] != 50:\n",
    "            print(f\"{_} 的第{i}次数据\",df.shape)\n",
    "            #df.to_csv(f\"eval_reasult\\\\{i}/eval_{_}_copy.csv\")\n",
    "            #r_df = remake_df(df,data)\n",
    "            #print(r_df.shape)\n",
    "            #r_df.to_csv(_p)\n",
    "            #if check(df,data):\n",
    "            #    print(f\"{_} 的第{i}次数据,有缺陷\")\n",
    "        has_missing_values = df['prediction'].isnull().any()\n",
    "        if has_missing_values:\n",
    "            print(f\"{_} 的第{i}次数据存在缺失 \")"
   ]
  },
  {
   "cell_type": "markdown",
   "metadata": {},
   "source": [
    "# 评估"
   ]
  },
  {
   "cell_type": "code",
   "execution_count": 30,
   "metadata": {},
   "outputs": [],
   "source": [
    "import os\n",
    "os.chdir('E:\\学习\\python\\py_codbase\\PK_LLM')\n",
    "\n",
    "import pandas as pd\n",
    "from datasets import Dataset \n",
    "from ragas.metrics import answer_relevancy,answer_correctness\n",
    "from ragas import evaluate\n",
    "\n",
    "# gpt-4 ; gpt-3.5-turbo ; glm-3-turbo ; glm-4 ; rag\n",
    "\n",
    "def eval_ar(q_lis:list,a_lis:list,t_lis):\n",
    "    data_samples = {\n",
    "        'question':q_lis,\n",
    "        'answer':a_lis,\n",
    "        'contexts':[[\"\"] for i in range(len(q_lis))],\n",
    "        'ground_truth':t_lis\n",
    "    }\n",
    "    dataset = Dataset.from_dict(data_samples)\n",
    "    score = evaluate(dataset,metrics=[answer_relevancy,answer_correctness])\n",
    "    df = score.to_pandas()\n",
    "    return df['answer_relevancy'].mean(),df['answer_correctness'].mean()\n",
    "\n",
    "def process_Di(mt,data:list,_i = 1)->dict:\n",
    "    # 返回模型的AC和AR\n",
    "    data_path = \"eval_reasult2\"\n",
    "    path = f\"{data_path}\\\\{_i}\"\n",
    "    \n",
    "    dir ={f\"AC{_i}\":[],f'AR{_i}':[]}\n",
    "    t_lis = [a['Answer'] for a in data]\n",
    "    for _m in mt:\n",
    "        m_data = f\"{path}\\{_m}.csv\"\n",
    "        m_df = pd.read_csv(m_data).dropna(subset=['prediction'],axis=0)\n",
    "        # _ac = m_df['answer_correctness'].mean()\n",
    "        _ar,_ac = eval_ar(a_lis=list(m_df['prediction']),\n",
    "                        q_lis=list(m_df['Question']),\n",
    "                        t_lis=t_lis)\n",
    "        print(f\"{_m} 的平均相关性为 {_ar}\")\n",
    "        dir[f'AC{_i}'].append(_ac)\n",
    "        print(f\"{_m} 的平均正确率为 {_ac}\")\n",
    "        dir[f'AR{_i}'].append(_ar)\n",
    "    return dir\n"
   ]
  },
  {
   "cell_type": "code",
   "execution_count": 32,
   "metadata": {},
   "outputs": [
    {
     "name": "stdout",
     "output_type": "stream",
     "text": [
      "(1, 0)\n"
     ]
    },
    {
     "data": {
      "application/vnd.jupyter.widget-view+json": {
       "model_id": "45611ab1f84c497aa8a475b235b55778",
       "version_major": 2,
       "version_minor": 0
      },
      "text/plain": [
       "Evaluating:   0%|          | 0/100 [00:00<?, ?it/s]"
      ]
     },
     "metadata": {},
     "output_type": "display_data"
    },
    {
     "name": "stdout",
     "output_type": "stream",
     "text": [
      "ablat1_eval_rag_context 的平均相关性为 0.9746475074049553\n",
      "ablat1_eval_rag_context 的平均正确率为 0.6484362398279808\n",
      "(1, 2)\n"
     ]
    },
    {
     "data": {
      "application/vnd.jupyter.widget-view+json": {
       "model_id": "94af519774104501be6a10c8b779e82a",
       "version_major": 2,
       "version_minor": 0
      },
      "text/plain": [
       "Evaluating:   0%|          | 0/100 [00:00<?, ?it/s]"
      ]
     },
     "metadata": {},
     "output_type": "display_data"
    },
    {
     "name": "stdout",
     "output_type": "stream",
     "text": [
      "ablat1_eval_rag_context 的平均相关性为 0.9602500228983634\n",
      "ablat1_eval_rag_context 的平均正确率为 0.645604473674748\n",
      "(1, 4)\n"
     ]
    },
    {
     "data": {
      "application/vnd.jupyter.widget-view+json": {
       "model_id": "68cb619adc7e4b2d936144529fb9f66f",
       "version_major": 2,
       "version_minor": 0
      },
      "text/plain": [
       "Evaluating:   0%|          | 0/100 [00:00<?, ?it/s]"
      ]
     },
     "metadata": {},
     "output_type": "display_data"
    },
    {
     "name": "stdout",
     "output_type": "stream",
     "text": [
      "ablat1_eval_rag_context 的平均相关性为 0.948180929728909\n",
      "ablat1_eval_rag_context 的平均正确率为 0.6348335155160718\n",
      "(1, 6)\n"
     ]
    },
    {
     "data": {
      "application/vnd.jupyter.widget-view+json": {
       "model_id": "c64554f29e5b4b2e80cfabc0dc9eb8b8",
       "version_major": 2,
       "version_minor": 0
      },
      "text/plain": [
       "Evaluating:   0%|          | 0/100 [00:00<?, ?it/s]"
      ]
     },
     "metadata": {},
     "output_type": "display_data"
    },
    {
     "name": "stdout",
     "output_type": "stream",
     "text": [
      "ablat1_eval_rag_context 的平均相关性为 0.9321099712556143\n",
      "ablat1_eval_rag_context 的平均正确率为 0.6346357038237381\n",
      "(1, 8)\n"
     ]
    },
    {
     "data": {
      "application/vnd.jupyter.widget-view+json": {
       "model_id": "13e47d3e38534fed8cdddd2b83d68f67",
       "version_major": 2,
       "version_minor": 0
      },
      "text/plain": [
       "Evaluating:   0%|          | 0/100 [00:00<?, ?it/s]"
      ]
     },
     "metadata": {},
     "output_type": "display_data"
    },
    {
     "name": "stdout",
     "output_type": "stream",
     "text": [
      "ablat1_eval_rag_context 的平均相关性为 0.9655998120151682\n",
      "ablat1_eval_rag_context 的平均正确率为 0.6176519979389681\n",
      "(1, 10)\n"
     ]
    },
    {
     "data": {
      "application/vnd.jupyter.widget-view+json": {
       "model_id": "1bbae30ee565434ebdcf3759c12b3904",
       "version_major": 2,
       "version_minor": 0
      },
      "text/plain": [
       "Evaluating:   0%|          | 0/100 [00:00<?, ?it/s]"
      ]
     },
     "metadata": {},
     "output_type": "display_data"
    },
    {
     "name": "stdout",
     "output_type": "stream",
     "text": [
      "ablat1_eval_rag_context 的平均相关性为 0.9532023956695113\n",
      "ablat1_eval_rag_context 的平均正确率为 0.6570481620794041\n"
     ]
    },
    {
     "data": {
      "text/html": [
       "<div>\n",
       "<style scoped>\n",
       "    .dataframe tbody tr th:only-of-type {\n",
       "        vertical-align: middle;\n",
       "    }\n",
       "\n",
       "    .dataframe tbody tr th {\n",
       "        vertical-align: top;\n",
       "    }\n",
       "\n",
       "    .dataframe thead th {\n",
       "        text-align: right;\n",
       "    }\n",
       "</style>\n",
       "<table border=\"1\" class=\"dataframe\">\n",
       "  <thead>\n",
       "    <tr style=\"text-align: right;\">\n",
       "      <th></th>\n",
       "      <th>AC1</th>\n",
       "      <th>AR1</th>\n",
       "      <th>AC2</th>\n",
       "      <th>AR2</th>\n",
       "      <th>AC3</th>\n",
       "      <th>AR3</th>\n",
       "      <th>AC4</th>\n",
       "      <th>AR4</th>\n",
       "      <th>AC5</th>\n",
       "      <th>AR5</th>\n",
       "      <th>AC6</th>\n",
       "      <th>AR6</th>\n",
       "    </tr>\n",
       "  </thead>\n",
       "  <tbody>\n",
       "    <tr>\n",
       "      <th>ablat1_eval_rag_context</th>\n",
       "      <td>0.648436</td>\n",
       "      <td>0.974648</td>\n",
       "      <td>0.645604</td>\n",
       "      <td>0.96025</td>\n",
       "      <td>0.634834</td>\n",
       "      <td>0.948181</td>\n",
       "      <td>0.634636</td>\n",
       "      <td>0.93211</td>\n",
       "      <td>0.617652</td>\n",
       "      <td>0.9656</td>\n",
       "      <td>0.657048</td>\n",
       "      <td>0.953202</td>\n",
       "    </tr>\n",
       "  </tbody>\n",
       "</table>\n",
       "</div>"
      ],
      "text/plain": [
       "                              AC1       AR1  ...       AC6       AR6\n",
       "ablat1_eval_rag_context  0.648436  0.974648  ...  0.657048  0.953202\n",
       "\n",
       "[1 rows x 12 columns]"
      ]
     },
     "execution_count": 32,
     "metadata": {},
     "output_type": "execute_result"
    }
   ],
   "source": [
    "from PK_LLM_endfront.evaluation.eva_funcs import DataLoader\n",
    "import time\n",
    "mt = ['ablat1_eval_rag_context']#'\n",
    "d_lis = []\n",
    "out_df = pd.DataFrame([],index=mt,columns=d_lis)\n",
    "_p =  \"eval_reasult2\\\\score0_default.csv\"\n",
    "out_df.to_csv(_p)\n",
    "for i in range(1,7):\n",
    "    out_df = pd.read_csv(_p,index_col=0)\n",
    "    if i <1:\n",
    "        continue\n",
    "    print(out_df.shape)\n",
    "    data = DataLoader.load_json(f\"_data\\\\testqa\\\\testdata_{i}.json\")\n",
    "    d = process_Di(mt,_i=i,data=data)\n",
    "    for _k in d.keys():\n",
    "        out_df[_k] = d[_k]\n",
    "    out_df.to_csv(_p)\n",
    "    time.sleep(10)\n",
    "out_df"
   ]
  },
  {
   "cell_type": "code",
   "execution_count": 8,
   "metadata": {},
   "outputs": [
    {
     "data": {
      "text/html": [
       "<div>\n",
       "<style scoped>\n",
       "    .dataframe tbody tr th:only-of-type {\n",
       "        vertical-align: middle;\n",
       "    }\n",
       "\n",
       "    .dataframe tbody tr th {\n",
       "        vertical-align: top;\n",
       "    }\n",
       "\n",
       "    .dataframe thead th {\n",
       "        text-align: right;\n",
       "    }\n",
       "</style>\n",
       "<table border=\"1\" class=\"dataframe\">\n",
       "  <thead>\n",
       "    <tr style=\"text-align: right;\">\n",
       "      <th></th>\n",
       "      <th>AC1</th>\n",
       "      <th>AC2</th>\n",
       "      <th>AC3</th>\n",
       "      <th>AC4</th>\n",
       "      <th>AC5</th>\n",
       "      <th>AC6</th>\n",
       "      <th>AR1</th>\n",
       "      <th>AR2</th>\n",
       "      <th>AR3</th>\n",
       "      <th>AR4</th>\n",
       "      <th>AR5</th>\n",
       "      <th>AR6</th>\n",
       "    </tr>\n",
       "  </thead>\n",
       "  <tbody>\n",
       "    <tr>\n",
       "      <th>ablat1_eval_rag_context</th>\n",
       "      <td>0.762572</td>\n",
       "      <td>0.606089</td>\n",
       "      <td>0.654807</td>\n",
       "      <td>0.67465</td>\n",
       "      <td>0.630866</td>\n",
       "      <td>0.583318</td>\n",
       "      <td>0.956801</td>\n",
       "      <td>0.961551</td>\n",
       "      <td>0.948603</td>\n",
       "      <td>0.951893</td>\n",
       "      <td>0.962998</td>\n",
       "      <td>0.952345</td>\n",
       "    </tr>\n",
       "  </tbody>\n",
       "</table>\n",
       "</div>"
      ],
      "text/plain": [
       "                              AC1       AC2       AC3      AC4       AC5  \\\n",
       "ablat1_eval_rag_context  0.762572  0.606089  0.654807  0.67465  0.630866   \n",
       "\n",
       "                              AC6       AR1       AR2       AR3       AR4  \\\n",
       "ablat1_eval_rag_context  0.583318  0.956801  0.961551  0.948603  0.951893   \n",
       "\n",
       "                              AR5       AR6  \n",
       "ablat1_eval_rag_context  0.962998  0.952345  "
      ]
     },
     "execution_count": 8,
     "metadata": {},
     "output_type": "execute_result"
    }
   ],
   "source": [
    "new_order = [f'AC{i}' for i in range(1,7)] +[f\"AR{i}\" for i in range(1,7)]\n",
    "df = out_df[new_order]\n",
    "# df.to_csv(\"eval_reasult2\\\\basellm_score2.csv\")"
   ]
  },
  {
   "cell_type": "markdown",
   "metadata": {},
   "source": [
    "对消融实验结果进行统计"
   ]
  },
  {
   "cell_type": "code",
   "execution_count": 2,
   "metadata": {},
   "outputs": [],
   "source": [
    "# 检查评测数据中是否存在因为网络问题产生的缺失\n",
    "import os\n",
    "os.chdir('E:\\学习\\python\\py_codbase\\PK_LLM')\n",
    "from PK_LLM_endfront.evaluation.eva_funcs import DataLoader\n",
    "import pandas as pd\n",
    "\n",
    "def check(df,data):\n",
    "    flag = False\n",
    "    for _ in data:\n",
    "        q = _['Question']\n",
    "        if q not in list(df['Question']):\n",
    "            print(q)\n",
    "            return True\n",
    "    return False\n",
    "\n",
    "\n",
    "mt = [f'ablat{i}_eval_rag_context' for i in range(1,5)] + [f'new_ablat{i}_eval_rag_context' for i in range(3,7)]\n",
    "\n",
    "# 检查因为未知原因出现的问答重复问题\n",
    "for i in range(1,7):\n",
    "    dataloader = DataLoader(f\"_data\\\\testqa\\\\testdata_{i}.json\")\n",
    "    data = dataloader.load_json(dataloader.filepath)\n",
    "    for _ in mt:\n",
    "        _p = f\"eval_reasult2\\\\{i}/{_}.csv\"\n",
    "        df = pd.read_csv(_p)\n",
    "        if df.shape[0] != 50:\n",
    "            print(f\"{_} 的第{i}次数据\",df.shape)\n",
    "            #df.to_csv(f\"eval_reasult\\\\{i}/eval_{_}_copy.csv\")\n",
    "            #r_df = remake_df(df,data)\n",
    "            #print(r_df.shape)\n",
    "            #r_df.to_csv(_p)\n",
    "            #if check(df,data):\n",
    "            #    print(f\"{_} 的第{i}次数据,有缺陷\")\n",
    "        has_missing_values = df['prediction'].isnull().any()\n",
    "        if has_missing_values:\n",
    "            print(f\"{_} 的第{i}次数据存在缺失 \")"
   ]
  },
  {
   "cell_type": "code",
   "execution_count": 2,
   "metadata": {},
   "outputs": [],
   "source": [
    "import os\n",
    "os.chdir('E:\\学习\\python\\py_codbase\\PK_LLM')\n",
    "\n",
    "import pandas as pd\n",
    "from datasets import Dataset \n",
    "from ragas.metrics import answer_relevancy,answer_correctness\n",
    "from ragas import evaluate\n",
    "\n",
    "def eval_ar(q_lis:list,a_lis:list,t_lis):\n",
    "    data_samples = {\n",
    "        'question':q_lis,\n",
    "        'answer':a_lis,\n",
    "        'contexts':[[\"\"] for i in range(len(q_lis))],\n",
    "        'ground_truth':t_lis\n",
    "    }\n",
    "    dataset = Dataset.from_dict(data_samples)\n",
    "    score = evaluate(dataset,metrics=[answer_relevancy,answer_correctness])\n",
    "    df = score.to_pandas()\n",
    "    return df['answer_relevancy'].mean(),df['answer_correctness'].mean()\n",
    "\n",
    "def process_Di(mt,data:list,_i = 1)->dict:\n",
    "    # 返回模型的AC和AR\n",
    "    data_path = \"eval_reasult2\"\n",
    "    path = f\"{data_path}\\\\{_i}\"\n",
    "    \n",
    "    dir ={f\"AC{_i}\":[],f'AR{_i}':[]}\n",
    "    t_lis = [a['Answer'] for a in data]\n",
    "    for _m in mt:\n",
    "        m_data = f\"{path}\\{_m}.csv\"\n",
    "        m_df = pd.read_csv(m_data).dropna(subset=['prediction'],axis=0)\n",
    "        # _ac = m_df['answer_correctness'].mean()\n",
    "        _ar,_ac = eval_ar(a_lis=list(m_df['prediction']),\n",
    "                        q_lis=list(m_df['Question']),\n",
    "                        t_lis=t_lis)\n",
    "        print(f\"{_m} 的平均相关性为 {_ar}\")\n",
    "        dir[f'AC{_i}'].append(_ac)\n",
    "        print(f\"{_m} 的平均正确率为 {_ac}\")\n",
    "        dir[f'AR{_i}'].append(_ar)\n",
    "    return dir\n"
   ]
  },
  {
   "cell_type": "code",
   "execution_count": 3,
   "metadata": {},
   "outputs": [
    {
     "name": "stdout",
     "output_type": "stream",
     "text": [
      "(4, 0)\n"
     ]
    },
    {
     "data": {
      "application/vnd.jupyter.widget-view+json": {
       "model_id": "a10e92fe639e4e4e95ebc1b8556cdbff",
       "version_major": 2,
       "version_minor": 0
      },
      "text/plain": [
       "Evaluating:   0%|          | 0/100 [00:00<?, ?it/s]"
      ]
     },
     "metadata": {},
     "output_type": "display_data"
    },
    {
     "name": "stdout",
     "output_type": "stream",
     "text": [
      "new_ablat3_eval_rag_context 的平均相关性为 0.9229807914350774\n",
      "new_ablat3_eval_rag_context 的平均正确率为 0.6359552370161132\n"
     ]
    },
    {
     "data": {
      "application/vnd.jupyter.widget-view+json": {
       "model_id": "4a90d02c04d5446c9184da733e7a3bff",
       "version_major": 2,
       "version_minor": 0
      },
      "text/plain": [
       "Evaluating:   0%|          | 0/100 [00:00<?, ?it/s]"
      ]
     },
     "metadata": {},
     "output_type": "display_data"
    },
    {
     "name": "stdout",
     "output_type": "stream",
     "text": [
      "new_ablat4_eval_rag_context 的平均相关性为 0.9391376768330777\n",
      "new_ablat4_eval_rag_context 的平均正确率为 0.6540177195687843\n"
     ]
    },
    {
     "data": {
      "application/vnd.jupyter.widget-view+json": {
       "model_id": "f90102f9422d41e2a0c539485427aaed",
       "version_major": 2,
       "version_minor": 0
      },
      "text/plain": [
       "Evaluating:   0%|          | 0/100 [00:00<?, ?it/s]"
      ]
     },
     "metadata": {},
     "output_type": "display_data"
    },
    {
     "name": "stdout",
     "output_type": "stream",
     "text": [
      "new_ablat5_eval_rag_context 的平均相关性为 0.9794771031517081\n",
      "new_ablat5_eval_rag_context 的平均正确率为 0.6313640985228133\n"
     ]
    },
    {
     "data": {
      "application/vnd.jupyter.widget-view+json": {
       "model_id": "4452a544368744388e6960b2ed755277",
       "version_major": 2,
       "version_minor": 0
      },
      "text/plain": [
       "Evaluating:   0%|          | 0/100 [00:00<?, ?it/s]"
      ]
     },
     "metadata": {},
     "output_type": "display_data"
    },
    {
     "name": "stdout",
     "output_type": "stream",
     "text": [
      "new_ablat6_eval_rag_context 的平均相关性为 0.9762590132552212\n",
      "new_ablat6_eval_rag_context 的平均正确率为 0.6342486261248649\n",
      "(4, 2)\n"
     ]
    },
    {
     "data": {
      "application/vnd.jupyter.widget-view+json": {
       "model_id": "6ea8ecc83c6b49e39ad83c78ccc41b2a",
       "version_major": 2,
       "version_minor": 0
      },
      "text/plain": [
       "Evaluating:   0%|          | 0/100 [00:00<?, ?it/s]"
      ]
     },
     "metadata": {},
     "output_type": "display_data"
    },
    {
     "name": "stdout",
     "output_type": "stream",
     "text": [
      "new_ablat3_eval_rag_context 的平均相关性为 0.9599306338212216\n",
      "new_ablat3_eval_rag_context 的平均正确率为 0.5432778080829378\n"
     ]
    },
    {
     "data": {
      "application/vnd.jupyter.widget-view+json": {
       "model_id": "61495bd7df5a4c7eb366de86f288bd1c",
       "version_major": 2,
       "version_minor": 0
      },
      "text/plain": [
       "Evaluating:   0%|          | 0/100 [00:00<?, ?it/s]"
      ]
     },
     "metadata": {},
     "output_type": "display_data"
    },
    {
     "name": "stdout",
     "output_type": "stream",
     "text": [
      "new_ablat4_eval_rag_context 的平均相关性为 0.9537252059759485\n",
      "new_ablat4_eval_rag_context 的平均正确率为 0.5845874339531563\n"
     ]
    },
    {
     "data": {
      "application/vnd.jupyter.widget-view+json": {
       "model_id": "472ccde25b9e4e30bdba3fe01fab52d5",
       "version_major": 2,
       "version_minor": 0
      },
      "text/plain": [
       "Evaluating:   0%|          | 0/100 [00:00<?, ?it/s]"
      ]
     },
     "metadata": {},
     "output_type": "display_data"
    },
    {
     "name": "stdout",
     "output_type": "stream",
     "text": [
      "new_ablat5_eval_rag_context 的平均相关性为 0.9589097130479669\n",
      "new_ablat5_eval_rag_context 的平均正确率为 0.5558317723007878\n"
     ]
    },
    {
     "data": {
      "application/vnd.jupyter.widget-view+json": {
       "model_id": "279057f1e51d445ea9937e0d27379860",
       "version_major": 2,
       "version_minor": 0
      },
      "text/plain": [
       "Evaluating:   0%|          | 0/100 [00:00<?, ?it/s]"
      ]
     },
     "metadata": {},
     "output_type": "display_data"
    },
    {
     "name": "stdout",
     "output_type": "stream",
     "text": [
      "new_ablat6_eval_rag_context 的平均相关性为 0.9545936853780503\n",
      "new_ablat6_eval_rag_context 的平均正确率为 0.5650416938600343\n",
      "(4, 4)\n"
     ]
    },
    {
     "data": {
      "application/vnd.jupyter.widget-view+json": {
       "model_id": "92c313050bf342c4a0e3c53a09f18e1f",
       "version_major": 2,
       "version_minor": 0
      },
      "text/plain": [
       "Evaluating:   0%|          | 0/100 [00:00<?, ?it/s]"
      ]
     },
     "metadata": {},
     "output_type": "display_data"
    },
    {
     "name": "stdout",
     "output_type": "stream",
     "text": [
      "new_ablat3_eval_rag_context 的平均相关性为 0.8906458157045501\n",
      "new_ablat3_eval_rag_context 的平均正确率为 0.5870662381957192\n"
     ]
    },
    {
     "data": {
      "application/vnd.jupyter.widget-view+json": {
       "model_id": "47b7a3a687b94ce5bff5dd37f6c6492b",
       "version_major": 2,
       "version_minor": 0
      },
      "text/plain": [
       "Evaluating:   0%|          | 0/100 [00:00<?, ?it/s]"
      ]
     },
     "metadata": {},
     "output_type": "display_data"
    },
    {
     "name": "stdout",
     "output_type": "stream",
     "text": [
      "new_ablat4_eval_rag_context 的平均相关性为 0.9489427353628682\n",
      "new_ablat4_eval_rag_context 的平均正确率为 0.6122206358765069\n"
     ]
    },
    {
     "data": {
      "application/vnd.jupyter.widget-view+json": {
       "model_id": "f163eb663b4443fcadce198d2a8372ca",
       "version_major": 2,
       "version_minor": 0
      },
      "text/plain": [
       "Evaluating:   0%|          | 0/100 [00:00<?, ?it/s]"
      ]
     },
     "metadata": {},
     "output_type": "display_data"
    },
    {
     "name": "stdout",
     "output_type": "stream",
     "text": [
      "new_ablat5_eval_rag_context 的平均相关性为 0.9457746956631127\n",
      "new_ablat5_eval_rag_context 的平均正确率为 0.6403812992106224\n"
     ]
    },
    {
     "data": {
      "application/vnd.jupyter.widget-view+json": {
       "model_id": "c6d277d893c24ff9a6c27d1b59b45f6c",
       "version_major": 2,
       "version_minor": 0
      },
      "text/plain": [
       "Evaluating:   0%|          | 0/100 [00:00<?, ?it/s]"
      ]
     },
     "metadata": {},
     "output_type": "display_data"
    },
    {
     "name": "stdout",
     "output_type": "stream",
     "text": [
      "new_ablat6_eval_rag_context 的平均相关性为 0.9475756779218524\n",
      "new_ablat6_eval_rag_context 的平均正确率为 0.6118076984612179\n",
      "(4, 6)\n"
     ]
    },
    {
     "data": {
      "application/vnd.jupyter.widget-view+json": {
       "model_id": "aa6be546d913443fa1a6ac5b756885cb",
       "version_major": 2,
       "version_minor": 0
      },
      "text/plain": [
       "Evaluating:   0%|          | 0/100 [00:00<?, ?it/s]"
      ]
     },
     "metadata": {},
     "output_type": "display_data"
    },
    {
     "name": "stdout",
     "output_type": "stream",
     "text": [
      "new_ablat3_eval_rag_context 的平均相关性为 0.8849595806345744\n",
      "new_ablat3_eval_rag_context 的平均正确率为 0.5536946385481933\n"
     ]
    },
    {
     "data": {
      "application/vnd.jupyter.widget-view+json": {
       "model_id": "49cec71d6525460ca1696a0edb8c3d74",
       "version_major": 2,
       "version_minor": 0
      },
      "text/plain": [
       "Evaluating:   0%|          | 0/100 [00:00<?, ?it/s]"
      ]
     },
     "metadata": {},
     "output_type": "display_data"
    },
    {
     "name": "stdout",
     "output_type": "stream",
     "text": [
      "new_ablat4_eval_rag_context 的平均相关性为 0.9337538476350243\n",
      "new_ablat4_eval_rag_context 的平均正确率为 0.5463117040732728\n"
     ]
    },
    {
     "data": {
      "application/vnd.jupyter.widget-view+json": {
       "model_id": "88c694db591541b5994f2f656c07e116",
       "version_major": 2,
       "version_minor": 0
      },
      "text/plain": [
       "Evaluating:   0%|          | 0/100 [00:00<?, ?it/s]"
      ]
     },
     "metadata": {},
     "output_type": "display_data"
    },
    {
     "name": "stdout",
     "output_type": "stream",
     "text": [
      "new_ablat5_eval_rag_context 的平均相关性为 0.9490387386882034\n",
      "new_ablat5_eval_rag_context 的平均正确率为 0.5598698359659496\n"
     ]
    },
    {
     "data": {
      "application/vnd.jupyter.widget-view+json": {
       "model_id": "b98113af9b9d449182dfb9216fd3dd58",
       "version_major": 2,
       "version_minor": 0
      },
      "text/plain": [
       "Evaluating:   0%|          | 0/100 [00:00<?, ?it/s]"
      ]
     },
     "metadata": {},
     "output_type": "display_data"
    },
    {
     "name": "stderr",
     "output_type": "stream",
     "text": [
      "Failed to parse output. Returning None.\n"
     ]
    },
    {
     "name": "stdout",
     "output_type": "stream",
     "text": [
      "new_ablat6_eval_rag_context 的平均相关性为 0.9548657222708513\n",
      "new_ablat6_eval_rag_context 的平均正确率为 0.5868551294698193\n",
      "(4, 8)\n"
     ]
    },
    {
     "data": {
      "application/vnd.jupyter.widget-view+json": {
       "model_id": "ea5f00ed3c3b4cb7a26a8a9332cc43ab",
       "version_major": 2,
       "version_minor": 0
      },
      "text/plain": [
       "Evaluating:   0%|          | 0/100 [00:00<?, ?it/s]"
      ]
     },
     "metadata": {},
     "output_type": "display_data"
    },
    {
     "name": "stdout",
     "output_type": "stream",
     "text": [
      "new_ablat3_eval_rag_context 的平均相关性为 0.933960768802638\n",
      "new_ablat3_eval_rag_context 的平均正确率为 0.5723007165780792\n"
     ]
    },
    {
     "data": {
      "application/vnd.jupyter.widget-view+json": {
       "model_id": "69665ed34931462bbad3a89ad05dd6a7",
       "version_major": 2,
       "version_minor": 0
      },
      "text/plain": [
       "Evaluating:   0%|          | 0/100 [00:00<?, ?it/s]"
      ]
     },
     "metadata": {},
     "output_type": "display_data"
    },
    {
     "name": "stdout",
     "output_type": "stream",
     "text": [
      "new_ablat4_eval_rag_context 的平均相关性为 0.9707266747181214\n",
      "new_ablat4_eval_rag_context 的平均正确率为 0.5611723454450527\n"
     ]
    },
    {
     "data": {
      "application/vnd.jupyter.widget-view+json": {
       "model_id": "63c617b67dd94f0fa1da2d132009a566",
       "version_major": 2,
       "version_minor": 0
      },
      "text/plain": [
       "Evaluating:   0%|          | 0/100 [00:00<?, ?it/s]"
      ]
     },
     "metadata": {},
     "output_type": "display_data"
    },
    {
     "name": "stderr",
     "output_type": "stream",
     "text": [
      "Task exception was never retrieved\n",
      "future: <Task finished name='Task-2589' coro=<AsyncClient.aclose() done, defined at c:\\Users\\donkey\\.conda\\envs\\EDT\\Lib\\site-packages\\httpx\\_client.py:1967> exception=RuntimeError('Event loop is closed')>\n",
      "Traceback (most recent call last):\n",
      "  File \"c:\\Users\\donkey\\.conda\\envs\\EDT\\Lib\\site-packages\\httpx\\_client.py\", line 1977, in aclose\n",
      "    await proxy.aclose()\n",
      "  File \"c:\\Users\\donkey\\.conda\\envs\\EDT\\Lib\\site-packages\\httpx\\_transports\\default.py\", line 365, in aclose\n",
      "    await self._pool.aclose()\n",
      "  File \"c:\\Users\\donkey\\.conda\\envs\\EDT\\Lib\\site-packages\\httpcore\\_async\\connection_pool.py\", line 314, in aclose\n",
      "    await connection.aclose()\n",
      "  File \"c:\\Users\\donkey\\.conda\\envs\\EDT\\Lib\\site-packages\\httpcore\\_async\\http_proxy.py\", line 332, in aclose\n",
      "    await self._connection.aclose()\n",
      "  File \"c:\\Users\\donkey\\.conda\\envs\\EDT\\Lib\\site-packages\\httpcore\\_async\\http11.py\", line 241, in aclose\n",
      "    await self._network_stream.aclose()\n",
      "  File \"c:\\Users\\donkey\\.conda\\envs\\EDT\\Lib\\site-packages\\httpcore\\_backends\\anyio.py\", line 54, in aclose\n",
      "    await self._stream.aclose()\n",
      "  File \"c:\\Users\\donkey\\.conda\\envs\\EDT\\Lib\\site-packages\\anyio\\streams\\tls.py\", line 202, in aclose\n",
      "    await self.transport_stream.aclose()\n",
      "  File \"c:\\Users\\donkey\\.conda\\envs\\EDT\\Lib\\site-packages\\anyio\\_backends\\_asyncio.py\", line 1181, in aclose\n",
      "    self._transport.close()\n",
      "  File \"c:\\Users\\donkey\\.conda\\envs\\EDT\\Lib\\asyncio\\selector_events.py\", line 860, in close\n",
      "    self._loop.call_soon(self._call_connection_lost, None)\n",
      "  File \"c:\\Users\\donkey\\.conda\\envs\\EDT\\Lib\\asyncio\\base_events.py\", line 761, in call_soon\n",
      "    self._check_closed()\n",
      "  File \"c:\\Users\\donkey\\.conda\\envs\\EDT\\Lib\\asyncio\\base_events.py\", line 519, in _check_closed\n",
      "    raise RuntimeError('Event loop is closed')\n",
      "RuntimeError: Event loop is closed\n",
      "Task exception was never retrieved\n",
      "future: <Task finished name='Task-2590' coro=<AsyncClient.aclose() done, defined at c:\\Users\\donkey\\.conda\\envs\\EDT\\Lib\\site-packages\\httpx\\_client.py:1967> exception=RuntimeError('Event loop is closed')>\n",
      "Traceback (most recent call last):\n",
      "  File \"c:\\Users\\donkey\\.conda\\envs\\EDT\\Lib\\site-packages\\httpx\\_client.py\", line 1977, in aclose\n",
      "    await proxy.aclose()\n",
      "  File \"c:\\Users\\donkey\\.conda\\envs\\EDT\\Lib\\site-packages\\httpx\\_transports\\default.py\", line 365, in aclose\n",
      "    await self._pool.aclose()\n",
      "  File \"c:\\Users\\donkey\\.conda\\envs\\EDT\\Lib\\site-packages\\httpcore\\_async\\connection_pool.py\", line 314, in aclose\n",
      "    await connection.aclose()\n",
      "  File \"c:\\Users\\donkey\\.conda\\envs\\EDT\\Lib\\site-packages\\httpcore\\_async\\http_proxy.py\", line 332, in aclose\n",
      "    await self._connection.aclose()\n",
      "  File \"c:\\Users\\donkey\\.conda\\envs\\EDT\\Lib\\site-packages\\httpcore\\_async\\http11.py\", line 241, in aclose\n",
      "    await self._network_stream.aclose()\n",
      "  File \"c:\\Users\\donkey\\.conda\\envs\\EDT\\Lib\\site-packages\\httpcore\\_backends\\anyio.py\", line 54, in aclose\n",
      "    await self._stream.aclose()\n",
      "  File \"c:\\Users\\donkey\\.conda\\envs\\EDT\\Lib\\site-packages\\anyio\\streams\\tls.py\", line 202, in aclose\n",
      "    await self.transport_stream.aclose()\n",
      "  File \"c:\\Users\\donkey\\.conda\\envs\\EDT\\Lib\\site-packages\\anyio\\_backends\\_asyncio.py\", line 1181, in aclose\n",
      "    self._transport.close()\n",
      "  File \"c:\\Users\\donkey\\.conda\\envs\\EDT\\Lib\\asyncio\\selector_events.py\", line 860, in close\n",
      "    self._loop.call_soon(self._call_connection_lost, None)\n",
      "  File \"c:\\Users\\donkey\\.conda\\envs\\EDT\\Lib\\asyncio\\base_events.py\", line 761, in call_soon\n",
      "    self._check_closed()\n",
      "  File \"c:\\Users\\donkey\\.conda\\envs\\EDT\\Lib\\asyncio\\base_events.py\", line 519, in _check_closed\n",
      "    raise RuntimeError('Event loop is closed')\n",
      "RuntimeError: Event loop is closed\n",
      "Task exception was never retrieved\n",
      "future: <Task finished name='Task-2591' coro=<AsyncClient.aclose() done, defined at c:\\Users\\donkey\\.conda\\envs\\EDT\\Lib\\site-packages\\httpx\\_client.py:1967> exception=RuntimeError('Event loop is closed')>\n",
      "Traceback (most recent call last):\n",
      "  File \"c:\\Users\\donkey\\.conda\\envs\\EDT\\Lib\\site-packages\\httpx\\_client.py\", line 1977, in aclose\n",
      "    await proxy.aclose()\n",
      "  File \"c:\\Users\\donkey\\.conda\\envs\\EDT\\Lib\\site-packages\\httpx\\_transports\\default.py\", line 365, in aclose\n",
      "    await self._pool.aclose()\n",
      "  File \"c:\\Users\\donkey\\.conda\\envs\\EDT\\Lib\\site-packages\\httpcore\\_async\\connection_pool.py\", line 314, in aclose\n",
      "    await connection.aclose()\n",
      "  File \"c:\\Users\\donkey\\.conda\\envs\\EDT\\Lib\\site-packages\\httpcore\\_async\\http_proxy.py\", line 332, in aclose\n",
      "    await self._connection.aclose()\n",
      "  File \"c:\\Users\\donkey\\.conda\\envs\\EDT\\Lib\\site-packages\\httpcore\\_async\\http11.py\", line 241, in aclose\n",
      "    await self._network_stream.aclose()\n",
      "  File \"c:\\Users\\donkey\\.conda\\envs\\EDT\\Lib\\site-packages\\httpcore\\_backends\\anyio.py\", line 54, in aclose\n",
      "    await self._stream.aclose()\n",
      "  File \"c:\\Users\\donkey\\.conda\\envs\\EDT\\Lib\\site-packages\\anyio\\streams\\tls.py\", line 202, in aclose\n",
      "    await self.transport_stream.aclose()\n",
      "  File \"c:\\Users\\donkey\\.conda\\envs\\EDT\\Lib\\site-packages\\anyio\\_backends\\_asyncio.py\", line 1181, in aclose\n",
      "    self._transport.close()\n",
      "  File \"c:\\Users\\donkey\\.conda\\envs\\EDT\\Lib\\asyncio\\selector_events.py\", line 860, in close\n",
      "    self._loop.call_soon(self._call_connection_lost, None)\n",
      "  File \"c:\\Users\\donkey\\.conda\\envs\\EDT\\Lib\\asyncio\\base_events.py\", line 761, in call_soon\n",
      "    self._check_closed()\n",
      "  File \"c:\\Users\\donkey\\.conda\\envs\\EDT\\Lib\\asyncio\\base_events.py\", line 519, in _check_closed\n",
      "    raise RuntimeError('Event loop is closed')\n",
      "RuntimeError: Event loop is closed\n",
      "Task exception was never retrieved\n",
      "future: <Task finished name='Task-2593' coro=<AsyncClient.aclose() done, defined at c:\\Users\\donkey\\.conda\\envs\\EDT\\Lib\\site-packages\\httpx\\_client.py:1967> exception=RuntimeError('Event loop is closed')>\n",
      "Traceback (most recent call last):\n",
      "  File \"c:\\Users\\donkey\\.conda\\envs\\EDT\\Lib\\site-packages\\httpx\\_client.py\", line 1977, in aclose\n",
      "    await proxy.aclose()\n",
      "  File \"c:\\Users\\donkey\\.conda\\envs\\EDT\\Lib\\site-packages\\httpx\\_transports\\default.py\", line 365, in aclose\n",
      "    await self._pool.aclose()\n",
      "  File \"c:\\Users\\donkey\\.conda\\envs\\EDT\\Lib\\site-packages\\httpcore\\_async\\connection_pool.py\", line 314, in aclose\n",
      "    await connection.aclose()\n",
      "  File \"c:\\Users\\donkey\\.conda\\envs\\EDT\\Lib\\site-packages\\httpcore\\_async\\http_proxy.py\", line 332, in aclose\n",
      "    await self._connection.aclose()\n",
      "  File \"c:\\Users\\donkey\\.conda\\envs\\EDT\\Lib\\site-packages\\httpcore\\_async\\http11.py\", line 241, in aclose\n",
      "    await self._network_stream.aclose()\n",
      "  File \"c:\\Users\\donkey\\.conda\\envs\\EDT\\Lib\\site-packages\\httpcore\\_backends\\anyio.py\", line 54, in aclose\n",
      "    await self._stream.aclose()\n",
      "  File \"c:\\Users\\donkey\\.conda\\envs\\EDT\\Lib\\site-packages\\anyio\\streams\\tls.py\", line 202, in aclose\n",
      "    await self.transport_stream.aclose()\n",
      "  File \"c:\\Users\\donkey\\.conda\\envs\\EDT\\Lib\\site-packages\\anyio\\_backends\\_asyncio.py\", line 1181, in aclose\n",
      "    self._transport.close()\n",
      "  File \"c:\\Users\\donkey\\.conda\\envs\\EDT\\Lib\\asyncio\\selector_events.py\", line 860, in close\n",
      "    self._loop.call_soon(self._call_connection_lost, None)\n",
      "  File \"c:\\Users\\donkey\\.conda\\envs\\EDT\\Lib\\asyncio\\base_events.py\", line 761, in call_soon\n",
      "    self._check_closed()\n",
      "  File \"c:\\Users\\donkey\\.conda\\envs\\EDT\\Lib\\asyncio\\base_events.py\", line 519, in _check_closed\n",
      "    raise RuntimeError('Event loop is closed')\n",
      "RuntimeError: Event loop is closed\n",
      "Task exception was never retrieved\n",
      "future: <Task finished name='Task-2594' coro=<AsyncClient.aclose() done, defined at c:\\Users\\donkey\\.conda\\envs\\EDT\\Lib\\site-packages\\httpx\\_client.py:1967> exception=RuntimeError('Event loop is closed')>\n",
      "Traceback (most recent call last):\n",
      "  File \"c:\\Users\\donkey\\.conda\\envs\\EDT\\Lib\\site-packages\\httpx\\_client.py\", line 1977, in aclose\n",
      "    await proxy.aclose()\n",
      "  File \"c:\\Users\\donkey\\.conda\\envs\\EDT\\Lib\\site-packages\\httpx\\_transports\\default.py\", line 365, in aclose\n",
      "    await self._pool.aclose()\n",
      "  File \"c:\\Users\\donkey\\.conda\\envs\\EDT\\Lib\\site-packages\\httpcore\\_async\\connection_pool.py\", line 314, in aclose\n",
      "    await connection.aclose()\n",
      "  File \"c:\\Users\\donkey\\.conda\\envs\\EDT\\Lib\\site-packages\\httpcore\\_async\\http_proxy.py\", line 332, in aclose\n",
      "    await self._connection.aclose()\n",
      "  File \"c:\\Users\\donkey\\.conda\\envs\\EDT\\Lib\\site-packages\\httpcore\\_async\\http11.py\", line 241, in aclose\n",
      "    await self._network_stream.aclose()\n",
      "  File \"c:\\Users\\donkey\\.conda\\envs\\EDT\\Lib\\site-packages\\httpcore\\_backends\\anyio.py\", line 54, in aclose\n",
      "    await self._stream.aclose()\n",
      "  File \"c:\\Users\\donkey\\.conda\\envs\\EDT\\Lib\\site-packages\\anyio\\streams\\tls.py\", line 202, in aclose\n",
      "    await self.transport_stream.aclose()\n",
      "  File \"c:\\Users\\donkey\\.conda\\envs\\EDT\\Lib\\site-packages\\anyio\\_backends\\_asyncio.py\", line 1181, in aclose\n",
      "    self._transport.close()\n",
      "  File \"c:\\Users\\donkey\\.conda\\envs\\EDT\\Lib\\asyncio\\selector_events.py\", line 860, in close\n",
      "    self._loop.call_soon(self._call_connection_lost, None)\n",
      "  File \"c:\\Users\\donkey\\.conda\\envs\\EDT\\Lib\\asyncio\\base_events.py\", line 761, in call_soon\n",
      "    self._check_closed()\n",
      "  File \"c:\\Users\\donkey\\.conda\\envs\\EDT\\Lib\\asyncio\\base_events.py\", line 519, in _check_closed\n",
      "    raise RuntimeError('Event loop is closed')\n",
      "RuntimeError: Event loop is closed\n",
      "Task exception was never retrieved\n",
      "future: <Task finished name='Task-2595' coro=<AsyncClient.aclose() done, defined at c:\\Users\\donkey\\.conda\\envs\\EDT\\Lib\\site-packages\\httpx\\_client.py:1967> exception=RuntimeError('Event loop is closed')>\n",
      "Traceback (most recent call last):\n",
      "  File \"c:\\Users\\donkey\\.conda\\envs\\EDT\\Lib\\site-packages\\httpx\\_client.py\", line 1977, in aclose\n",
      "    await proxy.aclose()\n",
      "  File \"c:\\Users\\donkey\\.conda\\envs\\EDT\\Lib\\site-packages\\httpx\\_transports\\default.py\", line 365, in aclose\n",
      "    await self._pool.aclose()\n",
      "  File \"c:\\Users\\donkey\\.conda\\envs\\EDT\\Lib\\site-packages\\httpcore\\_async\\connection_pool.py\", line 314, in aclose\n",
      "    await connection.aclose()\n",
      "  File \"c:\\Users\\donkey\\.conda\\envs\\EDT\\Lib\\site-packages\\httpcore\\_async\\http_proxy.py\", line 332, in aclose\n",
      "    await self._connection.aclose()\n",
      "  File \"c:\\Users\\donkey\\.conda\\envs\\EDT\\Lib\\site-packages\\httpcore\\_async\\http11.py\", line 241, in aclose\n",
      "    await self._network_stream.aclose()\n",
      "  File \"c:\\Users\\donkey\\.conda\\envs\\EDT\\Lib\\site-packages\\httpcore\\_backends\\anyio.py\", line 54, in aclose\n",
      "    await self._stream.aclose()\n",
      "  File \"c:\\Users\\donkey\\.conda\\envs\\EDT\\Lib\\site-packages\\anyio\\streams\\tls.py\", line 202, in aclose\n",
      "    await self.transport_stream.aclose()\n",
      "  File \"c:\\Users\\donkey\\.conda\\envs\\EDT\\Lib\\site-packages\\anyio\\_backends\\_asyncio.py\", line 1181, in aclose\n",
      "    self._transport.close()\n",
      "  File \"c:\\Users\\donkey\\.conda\\envs\\EDT\\Lib\\asyncio\\selector_events.py\", line 860, in close\n",
      "    self._loop.call_soon(self._call_connection_lost, None)\n",
      "  File \"c:\\Users\\donkey\\.conda\\envs\\EDT\\Lib\\asyncio\\base_events.py\", line 761, in call_soon\n",
      "    self._check_closed()\n",
      "  File \"c:\\Users\\donkey\\.conda\\envs\\EDT\\Lib\\asyncio\\base_events.py\", line 519, in _check_closed\n",
      "    raise RuntimeError('Event loop is closed')\n",
      "RuntimeError: Event loop is closed\n",
      "Task exception was never retrieved\n",
      "future: <Task finished name='Task-2597' coro=<AsyncClient.aclose() done, defined at c:\\Users\\donkey\\.conda\\envs\\EDT\\Lib\\site-packages\\httpx\\_client.py:1967> exception=RuntimeError('Event loop is closed')>\n",
      "Traceback (most recent call last):\n",
      "  File \"c:\\Users\\donkey\\.conda\\envs\\EDT\\Lib\\site-packages\\httpx\\_client.py\", line 1977, in aclose\n",
      "    await proxy.aclose()\n",
      "  File \"c:\\Users\\donkey\\.conda\\envs\\EDT\\Lib\\site-packages\\httpx\\_transports\\default.py\", line 365, in aclose\n",
      "    await self._pool.aclose()\n",
      "  File \"c:\\Users\\donkey\\.conda\\envs\\EDT\\Lib\\site-packages\\httpcore\\_async\\connection_pool.py\", line 314, in aclose\n",
      "    await connection.aclose()\n",
      "  File \"c:\\Users\\donkey\\.conda\\envs\\EDT\\Lib\\site-packages\\httpcore\\_async\\http_proxy.py\", line 332, in aclose\n",
      "    await self._connection.aclose()\n",
      "  File \"c:\\Users\\donkey\\.conda\\envs\\EDT\\Lib\\site-packages\\httpcore\\_async\\http11.py\", line 241, in aclose\n",
      "    await self._network_stream.aclose()\n",
      "  File \"c:\\Users\\donkey\\.conda\\envs\\EDT\\Lib\\site-packages\\httpcore\\_backends\\anyio.py\", line 54, in aclose\n",
      "    await self._stream.aclose()\n",
      "  File \"c:\\Users\\donkey\\.conda\\envs\\EDT\\Lib\\site-packages\\anyio\\streams\\tls.py\", line 202, in aclose\n",
      "    await self.transport_stream.aclose()\n",
      "  File \"c:\\Users\\donkey\\.conda\\envs\\EDT\\Lib\\site-packages\\anyio\\_backends\\_asyncio.py\", line 1181, in aclose\n",
      "    self._transport.close()\n",
      "  File \"c:\\Users\\donkey\\.conda\\envs\\EDT\\Lib\\asyncio\\selector_events.py\", line 860, in close\n",
      "    self._loop.call_soon(self._call_connection_lost, None)\n",
      "  File \"c:\\Users\\donkey\\.conda\\envs\\EDT\\Lib\\asyncio\\base_events.py\", line 761, in call_soon\n",
      "    self._check_closed()\n",
      "  File \"c:\\Users\\donkey\\.conda\\envs\\EDT\\Lib\\asyncio\\base_events.py\", line 519, in _check_closed\n",
      "    raise RuntimeError('Event loop is closed')\n",
      "RuntimeError: Event loop is closed\n",
      "Task exception was never retrieved\n",
      "future: <Task finished name='Task-2599' coro=<AsyncClient.aclose() done, defined at c:\\Users\\donkey\\.conda\\envs\\EDT\\Lib\\site-packages\\httpx\\_client.py:1967> exception=RuntimeError('Event loop is closed')>\n",
      "Traceback (most recent call last):\n",
      "  File \"c:\\Users\\donkey\\.conda\\envs\\EDT\\Lib\\site-packages\\httpx\\_client.py\", line 1977, in aclose\n",
      "    await proxy.aclose()\n",
      "  File \"c:\\Users\\donkey\\.conda\\envs\\EDT\\Lib\\site-packages\\httpx\\_transports\\default.py\", line 365, in aclose\n",
      "    await self._pool.aclose()\n",
      "  File \"c:\\Users\\donkey\\.conda\\envs\\EDT\\Lib\\site-packages\\httpcore\\_async\\connection_pool.py\", line 314, in aclose\n",
      "    await connection.aclose()\n",
      "  File \"c:\\Users\\donkey\\.conda\\envs\\EDT\\Lib\\site-packages\\httpcore\\_async\\http_proxy.py\", line 332, in aclose\n",
      "    await self._connection.aclose()\n",
      "  File \"c:\\Users\\donkey\\.conda\\envs\\EDT\\Lib\\site-packages\\httpcore\\_async\\http11.py\", line 241, in aclose\n",
      "    await self._network_stream.aclose()\n",
      "  File \"c:\\Users\\donkey\\.conda\\envs\\EDT\\Lib\\site-packages\\httpcore\\_backends\\anyio.py\", line 54, in aclose\n",
      "    await self._stream.aclose()\n",
      "  File \"c:\\Users\\donkey\\.conda\\envs\\EDT\\Lib\\site-packages\\anyio\\streams\\tls.py\", line 202, in aclose\n",
      "    await self.transport_stream.aclose()\n",
      "  File \"c:\\Users\\donkey\\.conda\\envs\\EDT\\Lib\\site-packages\\anyio\\_backends\\_asyncio.py\", line 1181, in aclose\n",
      "    self._transport.close()\n",
      "  File \"c:\\Users\\donkey\\.conda\\envs\\EDT\\Lib\\asyncio\\selector_events.py\", line 860, in close\n",
      "    self._loop.call_soon(self._call_connection_lost, None)\n",
      "  File \"c:\\Users\\donkey\\.conda\\envs\\EDT\\Lib\\asyncio\\base_events.py\", line 761, in call_soon\n",
      "    self._check_closed()\n",
      "  File \"c:\\Users\\donkey\\.conda\\envs\\EDT\\Lib\\asyncio\\base_events.py\", line 519, in _check_closed\n",
      "    raise RuntimeError('Event loop is closed')\n",
      "RuntimeError: Event loop is closed\n"
     ]
    },
    {
     "name": "stdout",
     "output_type": "stream",
     "text": [
      "new_ablat5_eval_rag_context 的平均相关性为 0.9405730471208856\n",
      "new_ablat5_eval_rag_context 的平均正确率为 0.5442126038991412\n"
     ]
    },
    {
     "data": {
      "application/vnd.jupyter.widget-view+json": {
       "model_id": "b8f5de6ba32849d387a1871c7262929d",
       "version_major": 2,
       "version_minor": 0
      },
      "text/plain": [
       "Evaluating:   0%|          | 0/100 [00:00<?, ?it/s]"
      ]
     },
     "metadata": {},
     "output_type": "display_data"
    },
    {
     "name": "stdout",
     "output_type": "stream",
     "text": [
      "new_ablat6_eval_rag_context 的平均相关性为 0.9628872628753917\n",
      "new_ablat6_eval_rag_context 的平均正确率为 0.6049690925510243\n",
      "(4, 10)\n"
     ]
    },
    {
     "data": {
      "application/vnd.jupyter.widget-view+json": {
       "model_id": "9327fbed7a0c438981f3defab27bb811",
       "version_major": 2,
       "version_minor": 0
      },
      "text/plain": [
       "Evaluating:   0%|          | 0/100 [00:00<?, ?it/s]"
      ]
     },
     "metadata": {},
     "output_type": "display_data"
    },
    {
     "name": "stdout",
     "output_type": "stream",
     "text": [
      "new_ablat3_eval_rag_context 的平均相关性为 0.9475497091388257\n",
      "new_ablat3_eval_rag_context 的平均正确率为 0.5161638358913397\n"
     ]
    },
    {
     "data": {
      "application/vnd.jupyter.widget-view+json": {
       "model_id": "57f10ac73224484c8d852ae573f870fb",
       "version_major": 2,
       "version_minor": 0
      },
      "text/plain": [
       "Evaluating:   0%|          | 0/100 [00:00<?, ?it/s]"
      ]
     },
     "metadata": {},
     "output_type": "display_data"
    },
    {
     "name": "stdout",
     "output_type": "stream",
     "text": [
      "new_ablat4_eval_rag_context 的平均相关性为 0.9540671822105948\n",
      "new_ablat4_eval_rag_context 的平均正确率为 0.557159120195221\n"
     ]
    },
    {
     "data": {
      "application/vnd.jupyter.widget-view+json": {
       "model_id": "9bbbc3e4f816411c8ad21ed89ef2d085",
       "version_major": 2,
       "version_minor": 0
      },
      "text/plain": [
       "Evaluating:   0%|          | 0/100 [00:00<?, ?it/s]"
      ]
     },
     "metadata": {},
     "output_type": "display_data"
    },
    {
     "name": "stdout",
     "output_type": "stream",
     "text": [
      "new_ablat5_eval_rag_context 的平均相关性为 0.9460799665726085\n",
      "new_ablat5_eval_rag_context 的平均正确率为 0.574270934109788\n"
     ]
    },
    {
     "data": {
      "application/vnd.jupyter.widget-view+json": {
       "model_id": "da53c1dd26474da1b24265d5a65e52d3",
       "version_major": 2,
       "version_minor": 0
      },
      "text/plain": [
       "Evaluating:   0%|          | 0/100 [00:00<?, ?it/s]"
      ]
     },
     "metadata": {},
     "output_type": "display_data"
    },
    {
     "name": "stdout",
     "output_type": "stream",
     "text": [
      "new_ablat6_eval_rag_context 的平均相关性为 0.9699164086302849\n",
      "new_ablat6_eval_rag_context 的平均正确率为 0.5717752413434766\n"
     ]
    },
    {
     "data": {
      "text/html": [
       "<div>\n",
       "<style scoped>\n",
       "    .dataframe tbody tr th:only-of-type {\n",
       "        vertical-align: middle;\n",
       "    }\n",
       "\n",
       "    .dataframe tbody tr th {\n",
       "        vertical-align: top;\n",
       "    }\n",
       "\n",
       "    .dataframe thead th {\n",
       "        text-align: right;\n",
       "    }\n",
       "</style>\n",
       "<table border=\"1\" class=\"dataframe\">\n",
       "  <thead>\n",
       "    <tr style=\"text-align: right;\">\n",
       "      <th></th>\n",
       "      <th>AC1</th>\n",
       "      <th>AR1</th>\n",
       "      <th>AC2</th>\n",
       "      <th>AR2</th>\n",
       "      <th>AC3</th>\n",
       "      <th>AR3</th>\n",
       "      <th>AC4</th>\n",
       "      <th>AR4</th>\n",
       "      <th>AC5</th>\n",
       "      <th>AR5</th>\n",
       "      <th>AC6</th>\n",
       "      <th>AR6</th>\n",
       "    </tr>\n",
       "  </thead>\n",
       "  <tbody>\n",
       "    <tr>\n",
       "      <th>new_ablat3_eval_rag_context</th>\n",
       "      <td>0.635955</td>\n",
       "      <td>0.922981</td>\n",
       "      <td>0.543278</td>\n",
       "      <td>0.959931</td>\n",
       "      <td>0.587066</td>\n",
       "      <td>0.890646</td>\n",
       "      <td>0.553695</td>\n",
       "      <td>0.884960</td>\n",
       "      <td>0.572301</td>\n",
       "      <td>0.933961</td>\n",
       "      <td>0.516164</td>\n",
       "      <td>0.947550</td>\n",
       "    </tr>\n",
       "    <tr>\n",
       "      <th>new_ablat4_eval_rag_context</th>\n",
       "      <td>0.654018</td>\n",
       "      <td>0.939138</td>\n",
       "      <td>0.584587</td>\n",
       "      <td>0.953725</td>\n",
       "      <td>0.612221</td>\n",
       "      <td>0.948943</td>\n",
       "      <td>0.546312</td>\n",
       "      <td>0.933754</td>\n",
       "      <td>0.561172</td>\n",
       "      <td>0.970727</td>\n",
       "      <td>0.557159</td>\n",
       "      <td>0.954067</td>\n",
       "    </tr>\n",
       "    <tr>\n",
       "      <th>new_ablat5_eval_rag_context</th>\n",
       "      <td>0.631364</td>\n",
       "      <td>0.979477</td>\n",
       "      <td>0.555832</td>\n",
       "      <td>0.958910</td>\n",
       "      <td>0.640381</td>\n",
       "      <td>0.945775</td>\n",
       "      <td>0.559870</td>\n",
       "      <td>0.949039</td>\n",
       "      <td>0.544213</td>\n",
       "      <td>0.940573</td>\n",
       "      <td>0.574271</td>\n",
       "      <td>0.946080</td>\n",
       "    </tr>\n",
       "    <tr>\n",
       "      <th>new_ablat6_eval_rag_context</th>\n",
       "      <td>0.634249</td>\n",
       "      <td>0.976259</td>\n",
       "      <td>0.565042</td>\n",
       "      <td>0.954594</td>\n",
       "      <td>0.611808</td>\n",
       "      <td>0.947576</td>\n",
       "      <td>0.586855</td>\n",
       "      <td>0.954866</td>\n",
       "      <td>0.604969</td>\n",
       "      <td>0.962887</td>\n",
       "      <td>0.571775</td>\n",
       "      <td>0.969916</td>\n",
       "    </tr>\n",
       "  </tbody>\n",
       "</table>\n",
       "</div>"
      ],
      "text/plain": [
       "                                  AC1       AR1       AC2       AR2       AC3  \\\n",
       "new_ablat3_eval_rag_context  0.635955  0.922981  0.543278  0.959931  0.587066   \n",
       "new_ablat4_eval_rag_context  0.654018  0.939138  0.584587  0.953725  0.612221   \n",
       "new_ablat5_eval_rag_context  0.631364  0.979477  0.555832  0.958910  0.640381   \n",
       "new_ablat6_eval_rag_context  0.634249  0.976259  0.565042  0.954594  0.611808   \n",
       "\n",
       "                                  AR3       AC4       AR4       AC5       AR5  \\\n",
       "new_ablat3_eval_rag_context  0.890646  0.553695  0.884960  0.572301  0.933961   \n",
       "new_ablat4_eval_rag_context  0.948943  0.546312  0.933754  0.561172  0.970727   \n",
       "new_ablat5_eval_rag_context  0.945775  0.559870  0.949039  0.544213  0.940573   \n",
       "new_ablat6_eval_rag_context  0.947576  0.586855  0.954866  0.604969  0.962887   \n",
       "\n",
       "                                  AC6       AR6  \n",
       "new_ablat3_eval_rag_context  0.516164  0.947550  \n",
       "new_ablat4_eval_rag_context  0.557159  0.954067  \n",
       "new_ablat5_eval_rag_context  0.574271  0.946080  \n",
       "new_ablat6_eval_rag_context  0.571775  0.969916  "
      ]
     },
     "execution_count": 3,
     "metadata": {},
     "output_type": "execute_result"
    }
   ],
   "source": [
    "from PK_LLM_endfront.evaluation.eva_funcs import DataLoader\n",
    "import time\n",
    "mt = [f'new_ablat{i}_eval_rag_context' for i in range(3,7)]\n",
    "d_lis = []\n",
    "out_df = pd.DataFrame([],index=mt,columns=d_lis)\n",
    "_p =  \"eval_reasult2\\\\score_tmp.csv\"\n",
    "out_df.to_csv(_p)\n",
    "for i in range(1,7):\n",
    "    out_df = pd.read_csv(_p,index_col=0)\n",
    "    if i <1:\n",
    "        continue\n",
    "    print(out_df.shape)\n",
    "    data = DataLoader.load_json(f\"_data\\\\testqa2\\\\testdata_{i}.json\")\n",
    "    d = process_Di(mt,_i=i,data=data)\n",
    "    for _k in d.keys():\n",
    "        out_df[_k] = d[_k]\n",
    "    out_df.to_csv(_p)\n",
    "    time.sleep(10)\n",
    "out_df"
   ]
  },
  {
   "cell_type": "code",
   "execution_count": 4,
   "metadata": {},
   "outputs": [],
   "source": [
    "\n",
    "new_order = [f'AC{i}' for i in range(1,7)] +[f\"AR{i}\" for i in range(1,7)]\n",
    "out_df= out_df[new_order]\n",
    "out_df.to_csv(\"eval_reasult2\\\\score2.csv\")\n"
   ]
  },
  {
   "cell_type": "code",
   "execution_count": 5,
   "metadata": {},
   "outputs": [
    {
     "data": {
      "text/html": [
       "<div>\n",
       "<style scoped>\n",
       "    .dataframe tbody tr th:only-of-type {\n",
       "        vertical-align: middle;\n",
       "    }\n",
       "\n",
       "    .dataframe tbody tr th {\n",
       "        vertical-align: top;\n",
       "    }\n",
       "\n",
       "    .dataframe thead th {\n",
       "        text-align: right;\n",
       "    }\n",
       "</style>\n",
       "<table border=\"1\" class=\"dataframe\">\n",
       "  <thead>\n",
       "    <tr style=\"text-align: right;\">\n",
       "      <th></th>\n",
       "      <th>AC1</th>\n",
       "      <th>AC2</th>\n",
       "      <th>AC3</th>\n",
       "      <th>AC4</th>\n",
       "      <th>AC5</th>\n",
       "      <th>AC6</th>\n",
       "      <th>AR1</th>\n",
       "      <th>AR2</th>\n",
       "      <th>AR3</th>\n",
       "      <th>AR4</th>\n",
       "      <th>AR5</th>\n",
       "      <th>AR6</th>\n",
       "    </tr>\n",
       "  </thead>\n",
       "  <tbody>\n",
       "    <tr>\n",
       "      <th>ablat1_eval_rag_context</th>\n",
       "      <td>0.775</td>\n",
       "      <td>0.611</td>\n",
       "      <td>0.657</td>\n",
       "      <td>0.671</td>\n",
       "      <td>0.627</td>\n",
       "      <td>0.596</td>\n",
       "      <td>0.974</td>\n",
       "      <td>0.962</td>\n",
       "      <td>0.945</td>\n",
       "      <td>0.950</td>\n",
       "      <td>0.964</td>\n",
       "      <td>0.954</td>\n",
       "    </tr>\n",
       "    <tr>\n",
       "      <th>ablat2_eval_rag_context</th>\n",
       "      <td>0.677</td>\n",
       "      <td>0.564</td>\n",
       "      <td>0.604</td>\n",
       "      <td>0.563</td>\n",
       "      <td>0.578</td>\n",
       "      <td>0.533</td>\n",
       "      <td>0.951</td>\n",
       "      <td>0.963</td>\n",
       "      <td>0.951</td>\n",
       "      <td>0.932</td>\n",
       "      <td>0.946</td>\n",
       "      <td>0.950</td>\n",
       "    </tr>\n",
       "    <tr>\n",
       "      <th>ablat3_eval_rag_context</th>\n",
       "      <td>0.623</td>\n",
       "      <td>0.581</td>\n",
       "      <td>0.587</td>\n",
       "      <td>0.567</td>\n",
       "      <td>0.548</td>\n",
       "      <td>0.548</td>\n",
       "      <td>0.950</td>\n",
       "      <td>0.933</td>\n",
       "      <td>0.842</td>\n",
       "      <td>0.880</td>\n",
       "      <td>0.953</td>\n",
       "      <td>0.908</td>\n",
       "    </tr>\n",
       "    <tr>\n",
       "      <th>ablat4_eval_rag_context</th>\n",
       "      <td>0.634</td>\n",
       "      <td>0.497</td>\n",
       "      <td>0.619</td>\n",
       "      <td>0.582</td>\n",
       "      <td>0.568</td>\n",
       "      <td>0.546</td>\n",
       "      <td>0.974</td>\n",
       "      <td>0.941</td>\n",
       "      <td>0.911</td>\n",
       "      <td>0.901</td>\n",
       "      <td>0.953</td>\n",
       "      <td>0.904</td>\n",
       "    </tr>\n",
       "    <tr>\n",
       "      <th>ablat5_eval_rag_context</th>\n",
       "      <td>0.663</td>\n",
       "      <td>0.544</td>\n",
       "      <td>0.631</td>\n",
       "      <td>0.570</td>\n",
       "      <td>0.605</td>\n",
       "      <td>0.599</td>\n",
       "      <td>0.974</td>\n",
       "      <td>0.958</td>\n",
       "      <td>0.955</td>\n",
       "      <td>0.955</td>\n",
       "      <td>0.958</td>\n",
       "      <td>0.964</td>\n",
       "    </tr>\n",
       "  </tbody>\n",
       "</table>\n",
       "</div>"
      ],
      "text/plain": [
       "                           AC1    AC2    AC3    AC4    AC5    AC6    AR1  \\\n",
       "ablat1_eval_rag_context  0.775  0.611  0.657  0.671  0.627  0.596  0.974   \n",
       "ablat2_eval_rag_context  0.677  0.564  0.604  0.563  0.578  0.533  0.951   \n",
       "ablat3_eval_rag_context  0.623  0.581  0.587  0.567  0.548  0.548  0.950   \n",
       "ablat4_eval_rag_context  0.634  0.497  0.619  0.582  0.568  0.546  0.974   \n",
       "ablat5_eval_rag_context  0.663  0.544  0.631  0.570  0.605  0.599  0.974   \n",
       "\n",
       "                           AR2    AR3    AR4    AR5    AR6  \n",
       "ablat1_eval_rag_context  0.962  0.945  0.950  0.964  0.954  \n",
       "ablat2_eval_rag_context  0.963  0.951  0.932  0.946  0.950  \n",
       "ablat3_eval_rag_context  0.933  0.842  0.880  0.953  0.908  \n",
       "ablat4_eval_rag_context  0.941  0.911  0.901  0.953  0.904  \n",
       "ablat5_eval_rag_context  0.958  0.955  0.955  0.958  0.964  "
      ]
     },
     "execution_count": 5,
     "metadata": {},
     "output_type": "execute_result"
    }
   ],
   "source": [
    "df = pd.read_csv('eval_reasult2\\\\ablat_score.csv',index_col=0)\n",
    "df = df.dropna()\n",
    "df"
   ]
  },
  {
   "cell_type": "code",
   "execution_count": 9,
   "metadata": {},
   "outputs": [],
   "source": [
    "df2 = pd.concat([df,out_df])\n",
    "df2.to_csv('eval_reasult2\\\\ablat_score2.csv')"
   ]
  },
  {
   "cell_type": "markdown",
   "metadata": {},
   "source": [
    "# 做消融实验的内容相关性测试\n",
    "\n",
    "* 完整的模型 ==》 ablat1_eval_rag_context\n",
    "* r2和IE，没有辅助模块和r1 ==》ablat4_eval_rag_context\n",
    "* r1，没有辅助模块和r2、IE ==》 ablat5_eval_rag_context"
   ]
  },
  {
   "cell_type": "code",
   "execution_count": 26,
   "metadata": {},
   "outputs": [],
   "source": [
    "import os\n",
    "os.chdir('E:\\学习\\python\\py_codbase\\PK_LLM')\n",
    "\n",
    "import pandas as pd\n",
    "from datasets import Dataset \n",
    "from ragas.metrics import answer_relevancy,answer_correctness,faithfulness,context_relevancy\n",
    "from ragas import evaluate\n",
    "\n",
    "def eval_ar(q_lis:list,a_lis:list,t_lis,contexts_lis:list):\n",
    "    data_samples = {\n",
    "        'question':q_lis,\n",
    "        'answer':a_lis,\n",
    "        'contexts':contexts_lis,\n",
    "        'ground_truth':t_lis\n",
    "    }\n",
    "    dataset = Dataset.from_dict(data_samples)\n",
    "    score = evaluate(dataset,metrics=[faithfulness,context_relevancy])\n",
    "    df = score.to_pandas()\n",
    "    return df['faithfulness'].mean(),df['context_relevancy'].mean()\n",
    "\n",
    "def process_Di(mt,data:list,_i = 1)->dict:\n",
    "    # 返回模型的AC和AR\n",
    "    data_path = \"eval_reasult2\"\n",
    "    path = f\"{data_path}\\\\{_i}\"\n",
    "    \n",
    "    dir ={f\"FAITH{_i}\":[],f'CR{_i}':[]}\n",
    "    t_lis = [a['Answer'] for a in data]\n",
    "    for _m in mt:\n",
    "        m_data = f\"{path}\\{_m}.csv\"\n",
    "        m_df = pd.read_csv(m_data).dropna(subset=['prediction'],axis=0)\n",
    "        c_lis = []\n",
    "        for _ in m_df['context']:\n",
    "            c_lis.append([_])\n",
    "        # _ac = m_df['answer_correctness'].mean()\n",
    "        _F,_CR = eval_ar(a_lis=list(m_df['prediction']),\n",
    "                        q_lis=list(m_df['Question']),\n",
    "                        t_lis=t_lis,\n",
    "                        contexts_lis=c_lis)\n",
    "        print(f\"{_m} 的忠实度为 {_F}\")\n",
    "        dir[f'FAITH{_i}'].append(_F)\n",
    "        print(f\"{_m} 的平均内容相关性为 {_CR}\")\n",
    "        dir[f'CR{_i}'].append(_CR)\n",
    "    return dir\n"
   ]
  },
  {
   "cell_type": "code",
   "execution_count": 27,
   "metadata": {},
   "outputs": [
    {
     "name": "stdout",
     "output_type": "stream",
     "text": [
      "(3, 0)\n"
     ]
    },
    {
     "data": {
      "application/vnd.jupyter.widget-view+json": {
       "model_id": "df19e29c9e2048ae8e0a80152c6e6f1d",
       "version_major": 2,
       "version_minor": 0
      },
      "text/plain": [
       "Evaluating:   0%|          | 0/100 [00:00<?, ?it/s]"
      ]
     },
     "metadata": {},
     "output_type": "display_data"
    },
    {
     "name": "stdout",
     "output_type": "stream",
     "text": [
      "ablat1_eval_rag_context 的忠实度为 0.9383778998778999\n",
      "ablat1_eval_rag_context 的平均内容相关性为 0.12600928729087316\n"
     ]
    },
    {
     "data": {
      "application/vnd.jupyter.widget-view+json": {
       "model_id": "3283f1ab387e410f8ebb718c53489ab5",
       "version_major": 2,
       "version_minor": 0
      },
      "text/plain": [
       "Evaluating:   0%|          | 0/100 [00:00<?, ?it/s]"
      ]
     },
     "metadata": {},
     "output_type": "display_data"
    },
    {
     "name": "stdout",
     "output_type": "stream",
     "text": [
      "ablat4_eval_rag_context 的忠实度为 0.936396103896104\n",
      "ablat4_eval_rag_context 的平均内容相关性为 0.11942419380317418\n"
     ]
    },
    {
     "data": {
      "application/vnd.jupyter.widget-view+json": {
       "model_id": "1c4b8073e1dc4eb5b8e7a68a030e27b0",
       "version_major": 2,
       "version_minor": 0
      },
      "text/plain": [
       "Evaluating:   0%|          | 0/100 [00:00<?, ?it/s]"
      ]
     },
     "metadata": {},
     "output_type": "display_data"
    },
    {
     "name": "stderr",
     "output_type": "stream",
     "text": [
      "Task exception was never retrieved\n",
      "future: <Task finished name='Task-1171' coro=<AsyncClient.aclose() done, defined at c:\\Users\\donkey\\.conda\\envs\\EDT\\Lib\\site-packages\\httpx\\_client.py:1967> exception=RuntimeError('Event loop is closed')>\n",
      "Traceback (most recent call last):\n",
      "  File \"c:\\Users\\donkey\\.conda\\envs\\EDT\\Lib\\site-packages\\httpx\\_client.py\", line 1977, in aclose\n",
      "    await proxy.aclose()\n",
      "  File \"c:\\Users\\donkey\\.conda\\envs\\EDT\\Lib\\site-packages\\httpx\\_transports\\default.py\", line 365, in aclose\n",
      "    await self._pool.aclose()\n",
      "  File \"c:\\Users\\donkey\\.conda\\envs\\EDT\\Lib\\site-packages\\httpcore\\_async\\connection_pool.py\", line 314, in aclose\n",
      "    await connection.aclose()\n",
      "  File \"c:\\Users\\donkey\\.conda\\envs\\EDT\\Lib\\site-packages\\httpcore\\_async\\http_proxy.py\", line 332, in aclose\n",
      "    await self._connection.aclose()\n",
      "  File \"c:\\Users\\donkey\\.conda\\envs\\EDT\\Lib\\site-packages\\httpcore\\_async\\http11.py\", line 241, in aclose\n",
      "    await self._network_stream.aclose()\n",
      "  File \"c:\\Users\\donkey\\.conda\\envs\\EDT\\Lib\\site-packages\\httpcore\\_backends\\anyio.py\", line 54, in aclose\n",
      "    await self._stream.aclose()\n",
      "  File \"c:\\Users\\donkey\\.conda\\envs\\EDT\\Lib\\site-packages\\anyio\\streams\\tls.py\", line 202, in aclose\n",
      "    await self.transport_stream.aclose()\n",
      "  File \"c:\\Users\\donkey\\.conda\\envs\\EDT\\Lib\\site-packages\\anyio\\_backends\\_asyncio.py\", line 1181, in aclose\n",
      "    self._transport.close()\n",
      "  File \"c:\\Users\\donkey\\.conda\\envs\\EDT\\Lib\\asyncio\\selector_events.py\", line 860, in close\n",
      "    self._loop.call_soon(self._call_connection_lost, None)\n",
      "  File \"c:\\Users\\donkey\\.conda\\envs\\EDT\\Lib\\asyncio\\base_events.py\", line 761, in call_soon\n",
      "    self._check_closed()\n",
      "  File \"c:\\Users\\donkey\\.conda\\envs\\EDT\\Lib\\asyncio\\base_events.py\", line 519, in _check_closed\n",
      "    raise RuntimeError('Event loop is closed')\n",
      "RuntimeError: Event loop is closed\n",
      "Task exception was never retrieved\n",
      "future: <Task finished name='Task-1172' coro=<AsyncClient.aclose() done, defined at c:\\Users\\donkey\\.conda\\envs\\EDT\\Lib\\site-packages\\httpx\\_client.py:1967> exception=RuntimeError('Event loop is closed')>\n",
      "Traceback (most recent call last):\n",
      "  File \"c:\\Users\\donkey\\.conda\\envs\\EDT\\Lib\\site-packages\\httpx\\_client.py\", line 1977, in aclose\n",
      "    await proxy.aclose()\n",
      "  File \"c:\\Users\\donkey\\.conda\\envs\\EDT\\Lib\\site-packages\\httpx\\_transports\\default.py\", line 365, in aclose\n",
      "    await self._pool.aclose()\n",
      "  File \"c:\\Users\\donkey\\.conda\\envs\\EDT\\Lib\\site-packages\\httpcore\\_async\\connection_pool.py\", line 314, in aclose\n",
      "    await connection.aclose()\n",
      "  File \"c:\\Users\\donkey\\.conda\\envs\\EDT\\Lib\\site-packages\\httpcore\\_async\\http_proxy.py\", line 332, in aclose\n",
      "    await self._connection.aclose()\n",
      "  File \"c:\\Users\\donkey\\.conda\\envs\\EDT\\Lib\\site-packages\\httpcore\\_async\\http11.py\", line 241, in aclose\n",
      "    await self._network_stream.aclose()\n",
      "  File \"c:\\Users\\donkey\\.conda\\envs\\EDT\\Lib\\site-packages\\httpcore\\_backends\\anyio.py\", line 54, in aclose\n",
      "    await self._stream.aclose()\n",
      "  File \"c:\\Users\\donkey\\.conda\\envs\\EDT\\Lib\\site-packages\\anyio\\streams\\tls.py\", line 202, in aclose\n",
      "    await self.transport_stream.aclose()\n",
      "  File \"c:\\Users\\donkey\\.conda\\envs\\EDT\\Lib\\site-packages\\anyio\\_backends\\_asyncio.py\", line 1181, in aclose\n",
      "    self._transport.close()\n",
      "  File \"c:\\Users\\donkey\\.conda\\envs\\EDT\\Lib\\asyncio\\selector_events.py\", line 860, in close\n",
      "    self._loop.call_soon(self._call_connection_lost, None)\n",
      "  File \"c:\\Users\\donkey\\.conda\\envs\\EDT\\Lib\\asyncio\\base_events.py\", line 761, in call_soon\n",
      "    self._check_closed()\n",
      "  File \"c:\\Users\\donkey\\.conda\\envs\\EDT\\Lib\\asyncio\\base_events.py\", line 519, in _check_closed\n",
      "    raise RuntimeError('Event loop is closed')\n",
      "RuntimeError: Event loop is closed\n",
      "Task exception was never retrieved\n",
      "future: <Task finished name='Task-1173' coro=<AsyncClient.aclose() done, defined at c:\\Users\\donkey\\.conda\\envs\\EDT\\Lib\\site-packages\\httpx\\_client.py:1967> exception=RuntimeError('Event loop is closed')>\n",
      "Traceback (most recent call last):\n",
      "  File \"c:\\Users\\donkey\\.conda\\envs\\EDT\\Lib\\site-packages\\httpx\\_client.py\", line 1977, in aclose\n",
      "    await proxy.aclose()\n",
      "  File \"c:\\Users\\donkey\\.conda\\envs\\EDT\\Lib\\site-packages\\httpx\\_transports\\default.py\", line 365, in aclose\n",
      "    await self._pool.aclose()\n",
      "  File \"c:\\Users\\donkey\\.conda\\envs\\EDT\\Lib\\site-packages\\httpcore\\_async\\connection_pool.py\", line 314, in aclose\n",
      "    await connection.aclose()\n",
      "  File \"c:\\Users\\donkey\\.conda\\envs\\EDT\\Lib\\site-packages\\httpcore\\_async\\http_proxy.py\", line 332, in aclose\n",
      "    await self._connection.aclose()\n",
      "  File \"c:\\Users\\donkey\\.conda\\envs\\EDT\\Lib\\site-packages\\httpcore\\_async\\http11.py\", line 241, in aclose\n",
      "    await self._network_stream.aclose()\n",
      "  File \"c:\\Users\\donkey\\.conda\\envs\\EDT\\Lib\\site-packages\\httpcore\\_backends\\anyio.py\", line 54, in aclose\n",
      "    await self._stream.aclose()\n",
      "  File \"c:\\Users\\donkey\\.conda\\envs\\EDT\\Lib\\site-packages\\anyio\\streams\\tls.py\", line 202, in aclose\n",
      "    await self.transport_stream.aclose()\n",
      "  File \"c:\\Users\\donkey\\.conda\\envs\\EDT\\Lib\\site-packages\\anyio\\_backends\\_asyncio.py\", line 1181, in aclose\n",
      "    self._transport.close()\n",
      "  File \"c:\\Users\\donkey\\.conda\\envs\\EDT\\Lib\\asyncio\\selector_events.py\", line 860, in close\n",
      "    self._loop.call_soon(self._call_connection_lost, None)\n",
      "  File \"c:\\Users\\donkey\\.conda\\envs\\EDT\\Lib\\asyncio\\base_events.py\", line 761, in call_soon\n",
      "    self._check_closed()\n",
      "  File \"c:\\Users\\donkey\\.conda\\envs\\EDT\\Lib\\asyncio\\base_events.py\", line 519, in _check_closed\n",
      "    raise RuntimeError('Event loop is closed')\n",
      "RuntimeError: Event loop is closed\n"
     ]
    },
    {
     "name": "stdout",
     "output_type": "stream",
     "text": [
      "ablat5_eval_rag_context 的忠实度为 0.9836969696969697\n",
      "ablat5_eval_rag_context 的平均内容相关性为 0.5762409653432672\n",
      "(3, 2)\n"
     ]
    },
    {
     "data": {
      "application/vnd.jupyter.widget-view+json": {
       "model_id": "41f4721bf9504339a200d0bc15707788",
       "version_major": 2,
       "version_minor": 0
      },
      "text/plain": [
       "Evaluating:   0%|          | 0/100 [00:00<?, ?it/s]"
      ]
     },
     "metadata": {},
     "output_type": "display_data"
    },
    {
     "name": "stdout",
     "output_type": "stream",
     "text": [
      "ablat1_eval_rag_context 的忠实度为 0.9800079365079365\n",
      "ablat1_eval_rag_context 的平均内容相关性为 0.08916242774536201\n"
     ]
    },
    {
     "data": {
      "application/vnd.jupyter.widget-view+json": {
       "model_id": "09b499b8086d4829a2912f4e7a5370d1",
       "version_major": 2,
       "version_minor": 0
      },
      "text/plain": [
       "Evaluating:   0%|          | 0/100 [00:00<?, ?it/s]"
      ]
     },
     "metadata": {},
     "output_type": "display_data"
    },
    {
     "name": "stdout",
     "output_type": "stream",
     "text": [
      "ablat4_eval_rag_context 的忠实度为 0.9732301587301587\n",
      "ablat4_eval_rag_context 的平均内容相关性为 0.13129155255929578\n"
     ]
    },
    {
     "data": {
      "application/vnd.jupyter.widget-view+json": {
       "model_id": "6b100545635a47bc9899e9538a00e78c",
       "version_major": 2,
       "version_minor": 0
      },
      "text/plain": [
       "Evaluating:   0%|          | 0/100 [00:00<?, ?it/s]"
      ]
     },
     "metadata": {},
     "output_type": "display_data"
    },
    {
     "name": "stderr",
     "output_type": "stream",
     "text": [
      "Task exception was never retrieved\n",
      "future: <Task finished name='Task-2087' coro=<AsyncClient.aclose() done, defined at c:\\Users\\donkey\\.conda\\envs\\EDT\\Lib\\site-packages\\httpx\\_client.py:1967> exception=RuntimeError('Event loop is closed')>\n",
      "Traceback (most recent call last):\n",
      "  File \"c:\\Users\\donkey\\.conda\\envs\\EDT\\Lib\\site-packages\\httpx\\_client.py\", line 1977, in aclose\n",
      "    await proxy.aclose()\n",
      "  File \"c:\\Users\\donkey\\.conda\\envs\\EDT\\Lib\\site-packages\\httpx\\_transports\\default.py\", line 365, in aclose\n",
      "    await self._pool.aclose()\n",
      "  File \"c:\\Users\\donkey\\.conda\\envs\\EDT\\Lib\\site-packages\\httpcore\\_async\\connection_pool.py\", line 314, in aclose\n",
      "    await connection.aclose()\n",
      "  File \"c:\\Users\\donkey\\.conda\\envs\\EDT\\Lib\\site-packages\\httpcore\\_async\\http_proxy.py\", line 332, in aclose\n",
      "    await self._connection.aclose()\n",
      "  File \"c:\\Users\\donkey\\.conda\\envs\\EDT\\Lib\\site-packages\\httpcore\\_async\\http11.py\", line 241, in aclose\n",
      "    await self._network_stream.aclose()\n",
      "  File \"c:\\Users\\donkey\\.conda\\envs\\EDT\\Lib\\site-packages\\httpcore\\_backends\\anyio.py\", line 54, in aclose\n",
      "    await self._stream.aclose()\n",
      "  File \"c:\\Users\\donkey\\.conda\\envs\\EDT\\Lib\\site-packages\\anyio\\streams\\tls.py\", line 202, in aclose\n",
      "    await self.transport_stream.aclose()\n",
      "  File \"c:\\Users\\donkey\\.conda\\envs\\EDT\\Lib\\site-packages\\anyio\\_backends\\_asyncio.py\", line 1181, in aclose\n",
      "    self._transport.close()\n",
      "  File \"c:\\Users\\donkey\\.conda\\envs\\EDT\\Lib\\asyncio\\selector_events.py\", line 860, in close\n",
      "    self._loop.call_soon(self._call_connection_lost, None)\n",
      "  File \"c:\\Users\\donkey\\.conda\\envs\\EDT\\Lib\\asyncio\\base_events.py\", line 761, in call_soon\n",
      "    self._check_closed()\n",
      "  File \"c:\\Users\\donkey\\.conda\\envs\\EDT\\Lib\\asyncio\\base_events.py\", line 519, in _check_closed\n",
      "    raise RuntimeError('Event loop is closed')\n",
      "RuntimeError: Event loop is closed\n",
      "Task exception was never retrieved\n",
      "future: <Task finished name='Task-2088' coro=<AsyncClient.aclose() done, defined at c:\\Users\\donkey\\.conda\\envs\\EDT\\Lib\\site-packages\\httpx\\_client.py:1967> exception=RuntimeError('Event loop is closed')>\n",
      "Traceback (most recent call last):\n",
      "  File \"c:\\Users\\donkey\\.conda\\envs\\EDT\\Lib\\site-packages\\httpx\\_client.py\", line 1977, in aclose\n",
      "    await proxy.aclose()\n",
      "  File \"c:\\Users\\donkey\\.conda\\envs\\EDT\\Lib\\site-packages\\httpx\\_transports\\default.py\", line 365, in aclose\n",
      "    await self._pool.aclose()\n",
      "  File \"c:\\Users\\donkey\\.conda\\envs\\EDT\\Lib\\site-packages\\httpcore\\_async\\connection_pool.py\", line 314, in aclose\n",
      "    await connection.aclose()\n",
      "  File \"c:\\Users\\donkey\\.conda\\envs\\EDT\\Lib\\site-packages\\httpcore\\_async\\http_proxy.py\", line 332, in aclose\n",
      "    await self._connection.aclose()\n",
      "  File \"c:\\Users\\donkey\\.conda\\envs\\EDT\\Lib\\site-packages\\httpcore\\_async\\http11.py\", line 241, in aclose\n",
      "    await self._network_stream.aclose()\n",
      "  File \"c:\\Users\\donkey\\.conda\\envs\\EDT\\Lib\\site-packages\\httpcore\\_backends\\anyio.py\", line 54, in aclose\n",
      "    await self._stream.aclose()\n",
      "  File \"c:\\Users\\donkey\\.conda\\envs\\EDT\\Lib\\site-packages\\anyio\\streams\\tls.py\", line 202, in aclose\n",
      "    await self.transport_stream.aclose()\n",
      "  File \"c:\\Users\\donkey\\.conda\\envs\\EDT\\Lib\\site-packages\\anyio\\_backends\\_asyncio.py\", line 1181, in aclose\n",
      "    self._transport.close()\n",
      "  File \"c:\\Users\\donkey\\.conda\\envs\\EDT\\Lib\\asyncio\\selector_events.py\", line 860, in close\n",
      "    self._loop.call_soon(self._call_connection_lost, None)\n",
      "  File \"c:\\Users\\donkey\\.conda\\envs\\EDT\\Lib\\asyncio\\base_events.py\", line 761, in call_soon\n",
      "    self._check_closed()\n",
      "  File \"c:\\Users\\donkey\\.conda\\envs\\EDT\\Lib\\asyncio\\base_events.py\", line 519, in _check_closed\n",
      "    raise RuntimeError('Event loop is closed')\n",
      "RuntimeError: Event loop is closed\n",
      "Task exception was never retrieved\n",
      "future: <Task finished name='Task-2089' coro=<AsyncClient.aclose() done, defined at c:\\Users\\donkey\\.conda\\envs\\EDT\\Lib\\site-packages\\httpx\\_client.py:1967> exception=RuntimeError('Event loop is closed')>\n",
      "Traceback (most recent call last):\n",
      "  File \"c:\\Users\\donkey\\.conda\\envs\\EDT\\Lib\\site-packages\\httpx\\_client.py\", line 1977, in aclose\n",
      "    await proxy.aclose()\n",
      "  File \"c:\\Users\\donkey\\.conda\\envs\\EDT\\Lib\\site-packages\\httpx\\_transports\\default.py\", line 365, in aclose\n",
      "    await self._pool.aclose()\n",
      "  File \"c:\\Users\\donkey\\.conda\\envs\\EDT\\Lib\\site-packages\\httpcore\\_async\\connection_pool.py\", line 314, in aclose\n",
      "    await connection.aclose()\n",
      "  File \"c:\\Users\\donkey\\.conda\\envs\\EDT\\Lib\\site-packages\\httpcore\\_async\\http_proxy.py\", line 332, in aclose\n",
      "    await self._connection.aclose()\n",
      "  File \"c:\\Users\\donkey\\.conda\\envs\\EDT\\Lib\\site-packages\\httpcore\\_async\\http11.py\", line 241, in aclose\n",
      "    await self._network_stream.aclose()\n",
      "  File \"c:\\Users\\donkey\\.conda\\envs\\EDT\\Lib\\site-packages\\httpcore\\_backends\\anyio.py\", line 54, in aclose\n",
      "    await self._stream.aclose()\n",
      "  File \"c:\\Users\\donkey\\.conda\\envs\\EDT\\Lib\\site-packages\\anyio\\streams\\tls.py\", line 202, in aclose\n",
      "    await self.transport_stream.aclose()\n",
      "  File \"c:\\Users\\donkey\\.conda\\envs\\EDT\\Lib\\site-packages\\anyio\\_backends\\_asyncio.py\", line 1181, in aclose\n",
      "    self._transport.close()\n",
      "  File \"c:\\Users\\donkey\\.conda\\envs\\EDT\\Lib\\asyncio\\selector_events.py\", line 860, in close\n",
      "    self._loop.call_soon(self._call_connection_lost, None)\n",
      "  File \"c:\\Users\\donkey\\.conda\\envs\\EDT\\Lib\\asyncio\\base_events.py\", line 761, in call_soon\n",
      "    self._check_closed()\n",
      "  File \"c:\\Users\\donkey\\.conda\\envs\\EDT\\Lib\\asyncio\\base_events.py\", line 519, in _check_closed\n",
      "    raise RuntimeError('Event loop is closed')\n",
      "RuntimeError: Event loop is closed\n"
     ]
    },
    {
     "name": "stdout",
     "output_type": "stream",
     "text": [
      "ablat5_eval_rag_context 的忠实度为 0.9867393162393162\n",
      "ablat5_eval_rag_context 的平均内容相关性为 0.298500427292678\n",
      "(3, 4)\n"
     ]
    },
    {
     "data": {
      "application/vnd.jupyter.widget-view+json": {
       "model_id": "156f0aa0b2cd477b9c95627e39ead09b",
       "version_major": 2,
       "version_minor": 0
      },
      "text/plain": [
       "Evaluating:   0%|          | 0/100 [00:00<?, ?it/s]"
      ]
     },
     "metadata": {},
     "output_type": "display_data"
    },
    {
     "name": "stdout",
     "output_type": "stream",
     "text": [
      "ablat1_eval_rag_context 的忠实度为 0.9729476911976913\n",
      "ablat1_eval_rag_context 的平均内容相关性为 0.0993226522540222\n"
     ]
    },
    {
     "data": {
      "application/vnd.jupyter.widget-view+json": {
       "model_id": "07d45b7c48214b23a5dcdb4d8bca2337",
       "version_major": 2,
       "version_minor": 0
      },
      "text/plain": [
       "Evaluating:   0%|          | 0/100 [00:00<?, ?it/s]"
      ]
     },
     "metadata": {},
     "output_type": "display_data"
    },
    {
     "name": "stderr",
     "output_type": "stream",
     "text": [
      "No statements were generated from the answer.\n"
     ]
    },
    {
     "name": "stdout",
     "output_type": "stream",
     "text": [
      "ablat4_eval_rag_context 的忠实度为 0.9372772918691287\n",
      "ablat4_eval_rag_context 的平均内容相关性为 0.12411521854392607\n"
     ]
    },
    {
     "data": {
      "application/vnd.jupyter.widget-view+json": {
       "model_id": "78abd082adda43978a105ab064853dab",
       "version_major": 2,
       "version_minor": 0
      },
      "text/plain": [
       "Evaluating:   0%|          | 0/100 [00:00<?, ?it/s]"
      ]
     },
     "metadata": {},
     "output_type": "display_data"
    },
    {
     "name": "stderr",
     "output_type": "stream",
     "text": [
      "Task exception was never retrieved\n",
      "future: <Task finished name='Task-3038' coro=<AsyncClient.aclose() done, defined at c:\\Users\\donkey\\.conda\\envs\\EDT\\Lib\\site-packages\\httpx\\_client.py:1967> exception=RuntimeError('Event loop is closed')>\n",
      "Traceback (most recent call last):\n",
      "  File \"c:\\Users\\donkey\\.conda\\envs\\EDT\\Lib\\site-packages\\httpx\\_client.py\", line 1977, in aclose\n",
      "    await proxy.aclose()\n",
      "  File \"c:\\Users\\donkey\\.conda\\envs\\EDT\\Lib\\site-packages\\httpx\\_transports\\default.py\", line 365, in aclose\n",
      "    await self._pool.aclose()\n",
      "  File \"c:\\Users\\donkey\\.conda\\envs\\EDT\\Lib\\site-packages\\httpcore\\_async\\connection_pool.py\", line 314, in aclose\n",
      "    await connection.aclose()\n",
      "  File \"c:\\Users\\donkey\\.conda\\envs\\EDT\\Lib\\site-packages\\httpcore\\_async\\http_proxy.py\", line 332, in aclose\n",
      "    await self._connection.aclose()\n",
      "  File \"c:\\Users\\donkey\\.conda\\envs\\EDT\\Lib\\site-packages\\httpcore\\_async\\http11.py\", line 241, in aclose\n",
      "    await self._network_stream.aclose()\n",
      "  File \"c:\\Users\\donkey\\.conda\\envs\\EDT\\Lib\\site-packages\\httpcore\\_backends\\anyio.py\", line 54, in aclose\n",
      "    await self._stream.aclose()\n",
      "  File \"c:\\Users\\donkey\\.conda\\envs\\EDT\\Lib\\site-packages\\anyio\\streams\\tls.py\", line 202, in aclose\n",
      "    await self.transport_stream.aclose()\n",
      "  File \"c:\\Users\\donkey\\.conda\\envs\\EDT\\Lib\\site-packages\\anyio\\_backends\\_asyncio.py\", line 1181, in aclose\n",
      "    self._transport.close()\n",
      "  File \"c:\\Users\\donkey\\.conda\\envs\\EDT\\Lib\\asyncio\\selector_events.py\", line 860, in close\n",
      "    self._loop.call_soon(self._call_connection_lost, None)\n",
      "  File \"c:\\Users\\donkey\\.conda\\envs\\EDT\\Lib\\asyncio\\base_events.py\", line 761, in call_soon\n",
      "    self._check_closed()\n",
      "  File \"c:\\Users\\donkey\\.conda\\envs\\EDT\\Lib\\asyncio\\base_events.py\", line 519, in _check_closed\n",
      "    raise RuntimeError('Event loop is closed')\n",
      "RuntimeError: Event loop is closed\n",
      "Task exception was never retrieved\n",
      "future: <Task finished name='Task-3039' coro=<AsyncClient.aclose() done, defined at c:\\Users\\donkey\\.conda\\envs\\EDT\\Lib\\site-packages\\httpx\\_client.py:1967> exception=RuntimeError('Event loop is closed')>\n",
      "Traceback (most recent call last):\n",
      "  File \"c:\\Users\\donkey\\.conda\\envs\\EDT\\Lib\\site-packages\\httpx\\_client.py\", line 1977, in aclose\n",
      "    await proxy.aclose()\n",
      "  File \"c:\\Users\\donkey\\.conda\\envs\\EDT\\Lib\\site-packages\\httpx\\_transports\\default.py\", line 365, in aclose\n",
      "    await self._pool.aclose()\n",
      "  File \"c:\\Users\\donkey\\.conda\\envs\\EDT\\Lib\\site-packages\\httpcore\\_async\\connection_pool.py\", line 314, in aclose\n",
      "    await connection.aclose()\n",
      "  File \"c:\\Users\\donkey\\.conda\\envs\\EDT\\Lib\\site-packages\\httpcore\\_async\\http_proxy.py\", line 332, in aclose\n",
      "    await self._connection.aclose()\n",
      "  File \"c:\\Users\\donkey\\.conda\\envs\\EDT\\Lib\\site-packages\\httpcore\\_async\\http11.py\", line 241, in aclose\n",
      "    await self._network_stream.aclose()\n",
      "  File \"c:\\Users\\donkey\\.conda\\envs\\EDT\\Lib\\site-packages\\httpcore\\_backends\\anyio.py\", line 54, in aclose\n",
      "    await self._stream.aclose()\n",
      "  File \"c:\\Users\\donkey\\.conda\\envs\\EDT\\Lib\\site-packages\\anyio\\streams\\tls.py\", line 202, in aclose\n",
      "    await self.transport_stream.aclose()\n",
      "  File \"c:\\Users\\donkey\\.conda\\envs\\EDT\\Lib\\site-packages\\anyio\\_backends\\_asyncio.py\", line 1181, in aclose\n",
      "    self._transport.close()\n",
      "  File \"c:\\Users\\donkey\\.conda\\envs\\EDT\\Lib\\asyncio\\selector_events.py\", line 860, in close\n",
      "    self._loop.call_soon(self._call_connection_lost, None)\n",
      "  File \"c:\\Users\\donkey\\.conda\\envs\\EDT\\Lib\\asyncio\\base_events.py\", line 761, in call_soon\n",
      "    self._check_closed()\n",
      "  File \"c:\\Users\\donkey\\.conda\\envs\\EDT\\Lib\\asyncio\\base_events.py\", line 519, in _check_closed\n",
      "    raise RuntimeError('Event loop is closed')\n",
      "RuntimeError: Event loop is closed\n",
      "Task exception was never retrieved\n",
      "future: <Task finished name='Task-3040' coro=<AsyncClient.aclose() done, defined at c:\\Users\\donkey\\.conda\\envs\\EDT\\Lib\\site-packages\\httpx\\_client.py:1967> exception=RuntimeError('Event loop is closed')>\n",
      "Traceback (most recent call last):\n",
      "  File \"c:\\Users\\donkey\\.conda\\envs\\EDT\\Lib\\site-packages\\httpx\\_client.py\", line 1977, in aclose\n",
      "    await proxy.aclose()\n",
      "  File \"c:\\Users\\donkey\\.conda\\envs\\EDT\\Lib\\site-packages\\httpx\\_transports\\default.py\", line 365, in aclose\n",
      "    await self._pool.aclose()\n",
      "  File \"c:\\Users\\donkey\\.conda\\envs\\EDT\\Lib\\site-packages\\httpcore\\_async\\connection_pool.py\", line 314, in aclose\n",
      "    await connection.aclose()\n",
      "  File \"c:\\Users\\donkey\\.conda\\envs\\EDT\\Lib\\site-packages\\httpcore\\_async\\http_proxy.py\", line 332, in aclose\n",
      "    await self._connection.aclose()\n",
      "  File \"c:\\Users\\donkey\\.conda\\envs\\EDT\\Lib\\site-packages\\httpcore\\_async\\http11.py\", line 241, in aclose\n",
      "    await self._network_stream.aclose()\n",
      "  File \"c:\\Users\\donkey\\.conda\\envs\\EDT\\Lib\\site-packages\\httpcore\\_backends\\anyio.py\", line 54, in aclose\n",
      "    await self._stream.aclose()\n",
      "  File \"c:\\Users\\donkey\\.conda\\envs\\EDT\\Lib\\site-packages\\anyio\\streams\\tls.py\", line 202, in aclose\n",
      "    await self.transport_stream.aclose()\n",
      "  File \"c:\\Users\\donkey\\.conda\\envs\\EDT\\Lib\\site-packages\\anyio\\_backends\\_asyncio.py\", line 1181, in aclose\n",
      "    self._transport.close()\n",
      "  File \"c:\\Users\\donkey\\.conda\\envs\\EDT\\Lib\\asyncio\\selector_events.py\", line 860, in close\n",
      "    self._loop.call_soon(self._call_connection_lost, None)\n",
      "  File \"c:\\Users\\donkey\\.conda\\envs\\EDT\\Lib\\asyncio\\base_events.py\", line 761, in call_soon\n",
      "    self._check_closed()\n",
      "  File \"c:\\Users\\donkey\\.conda\\envs\\EDT\\Lib\\asyncio\\base_events.py\", line 519, in _check_closed\n",
      "    raise RuntimeError('Event loop is closed')\n",
      "RuntimeError: Event loop is closed\n",
      "No statements were generated from the answer.\n"
     ]
    },
    {
     "name": "stdout",
     "output_type": "stream",
     "text": [
      "ablat5_eval_rag_context 的忠实度为 0.9937384044526902\n",
      "ablat5_eval_rag_context 的平均内容相关性为 0.39404865040147585\n",
      "(3, 6)\n"
     ]
    },
    {
     "data": {
      "application/vnd.jupyter.widget-view+json": {
       "model_id": "1619291d14bc4f68878fdbb98fd2fc38",
       "version_major": 2,
       "version_minor": 0
      },
      "text/plain": [
       "Evaluating:   0%|          | 0/100 [00:00<?, ?it/s]"
      ]
     },
     "metadata": {},
     "output_type": "display_data"
    },
    {
     "name": "stdout",
     "output_type": "stream",
     "text": [
      "ablat1_eval_rag_context 的忠实度为 0.9794285714285715\n",
      "ablat1_eval_rag_context 的平均内容相关性为 0.08540999640584648\n"
     ]
    },
    {
     "data": {
      "application/vnd.jupyter.widget-view+json": {
       "model_id": "2221c9576802450a8640cde7b8de01e6",
       "version_major": 2,
       "version_minor": 0
      },
      "text/plain": [
       "Evaluating:   0%|          | 0/100 [00:00<?, ?it/s]"
      ]
     },
     "metadata": {},
     "output_type": "display_data"
    },
    {
     "name": "stderr",
     "output_type": "stream",
     "text": [
      "Failed to parse output. Returning None.\n"
     ]
    },
    {
     "name": "stdout",
     "output_type": "stream",
     "text": [
      "ablat4_eval_rag_context 的忠实度为 0.9588589981447124\n",
      "ablat4_eval_rag_context 的平均内容相关性为 0.1172304657514459\n"
     ]
    },
    {
     "data": {
      "application/vnd.jupyter.widget-view+json": {
       "model_id": "964b4a28e20045ae942764879fe6ecd4",
       "version_major": 2,
       "version_minor": 0
      },
      "text/plain": [
       "Evaluating:   0%|          | 0/100 [00:00<?, ?it/s]"
      ]
     },
     "metadata": {},
     "output_type": "display_data"
    },
    {
     "name": "stderr",
     "output_type": "stream",
     "text": [
      "Task exception was never retrieved\n",
      "future: <Task finished name='Task-3965' coro=<AsyncClient.aclose() done, defined at c:\\Users\\donkey\\.conda\\envs\\EDT\\Lib\\site-packages\\httpx\\_client.py:1967> exception=RuntimeError('Event loop is closed')>\n",
      "Traceback (most recent call last):\n",
      "  File \"c:\\Users\\donkey\\.conda\\envs\\EDT\\Lib\\site-packages\\httpx\\_client.py\", line 1977, in aclose\n",
      "    await proxy.aclose()\n",
      "  File \"c:\\Users\\donkey\\.conda\\envs\\EDT\\Lib\\site-packages\\httpx\\_transports\\default.py\", line 365, in aclose\n",
      "    await self._pool.aclose()\n",
      "  File \"c:\\Users\\donkey\\.conda\\envs\\EDT\\Lib\\site-packages\\httpcore\\_async\\connection_pool.py\", line 314, in aclose\n",
      "    await connection.aclose()\n",
      "  File \"c:\\Users\\donkey\\.conda\\envs\\EDT\\Lib\\site-packages\\httpcore\\_async\\http_proxy.py\", line 332, in aclose\n",
      "    await self._connection.aclose()\n",
      "  File \"c:\\Users\\donkey\\.conda\\envs\\EDT\\Lib\\site-packages\\httpcore\\_async\\http11.py\", line 241, in aclose\n",
      "    await self._network_stream.aclose()\n",
      "  File \"c:\\Users\\donkey\\.conda\\envs\\EDT\\Lib\\site-packages\\httpcore\\_backends\\anyio.py\", line 54, in aclose\n",
      "    await self._stream.aclose()\n",
      "  File \"c:\\Users\\donkey\\.conda\\envs\\EDT\\Lib\\site-packages\\anyio\\streams\\tls.py\", line 202, in aclose\n",
      "    await self.transport_stream.aclose()\n",
      "  File \"c:\\Users\\donkey\\.conda\\envs\\EDT\\Lib\\site-packages\\anyio\\_backends\\_asyncio.py\", line 1181, in aclose\n",
      "    self._transport.close()\n",
      "  File \"c:\\Users\\donkey\\.conda\\envs\\EDT\\Lib\\asyncio\\selector_events.py\", line 860, in close\n",
      "    self._loop.call_soon(self._call_connection_lost, None)\n",
      "  File \"c:\\Users\\donkey\\.conda\\envs\\EDT\\Lib\\asyncio\\base_events.py\", line 761, in call_soon\n",
      "    self._check_closed()\n",
      "  File \"c:\\Users\\donkey\\.conda\\envs\\EDT\\Lib\\asyncio\\base_events.py\", line 519, in _check_closed\n",
      "    raise RuntimeError('Event loop is closed')\n",
      "RuntimeError: Event loop is closed\n",
      "Task exception was never retrieved\n",
      "future: <Task finished name='Task-3966' coro=<AsyncClient.aclose() done, defined at c:\\Users\\donkey\\.conda\\envs\\EDT\\Lib\\site-packages\\httpx\\_client.py:1967> exception=RuntimeError('Event loop is closed')>\n",
      "Traceback (most recent call last):\n",
      "  File \"c:\\Users\\donkey\\.conda\\envs\\EDT\\Lib\\site-packages\\httpx\\_client.py\", line 1977, in aclose\n",
      "    await proxy.aclose()\n",
      "  File \"c:\\Users\\donkey\\.conda\\envs\\EDT\\Lib\\site-packages\\httpx\\_transports\\default.py\", line 365, in aclose\n",
      "    await self._pool.aclose()\n",
      "  File \"c:\\Users\\donkey\\.conda\\envs\\EDT\\Lib\\site-packages\\httpcore\\_async\\connection_pool.py\", line 314, in aclose\n",
      "    await connection.aclose()\n",
      "  File \"c:\\Users\\donkey\\.conda\\envs\\EDT\\Lib\\site-packages\\httpcore\\_async\\http_proxy.py\", line 332, in aclose\n",
      "    await self._connection.aclose()\n",
      "  File \"c:\\Users\\donkey\\.conda\\envs\\EDT\\Lib\\site-packages\\httpcore\\_async\\http11.py\", line 241, in aclose\n",
      "    await self._network_stream.aclose()\n",
      "  File \"c:\\Users\\donkey\\.conda\\envs\\EDT\\Lib\\site-packages\\httpcore\\_backends\\anyio.py\", line 54, in aclose\n",
      "    await self._stream.aclose()\n",
      "  File \"c:\\Users\\donkey\\.conda\\envs\\EDT\\Lib\\site-packages\\anyio\\streams\\tls.py\", line 202, in aclose\n",
      "    await self.transport_stream.aclose()\n",
      "  File \"c:\\Users\\donkey\\.conda\\envs\\EDT\\Lib\\site-packages\\anyio\\_backends\\_asyncio.py\", line 1181, in aclose\n",
      "    self._transport.close()\n",
      "  File \"c:\\Users\\donkey\\.conda\\envs\\EDT\\Lib\\asyncio\\selector_events.py\", line 860, in close\n",
      "    self._loop.call_soon(self._call_connection_lost, None)\n",
      "  File \"c:\\Users\\donkey\\.conda\\envs\\EDT\\Lib\\asyncio\\base_events.py\", line 761, in call_soon\n",
      "    self._check_closed()\n",
      "  File \"c:\\Users\\donkey\\.conda\\envs\\EDT\\Lib\\asyncio\\base_events.py\", line 519, in _check_closed\n",
      "    raise RuntimeError('Event loop is closed')\n",
      "RuntimeError: Event loop is closed\n",
      "Task exception was never retrieved\n",
      "future: <Task finished name='Task-3967' coro=<AsyncClient.aclose() done, defined at c:\\Users\\donkey\\.conda\\envs\\EDT\\Lib\\site-packages\\httpx\\_client.py:1967> exception=RuntimeError('Event loop is closed')>\n",
      "Traceback (most recent call last):\n",
      "  File \"c:\\Users\\donkey\\.conda\\envs\\EDT\\Lib\\site-packages\\httpx\\_client.py\", line 1977, in aclose\n",
      "    await proxy.aclose()\n",
      "  File \"c:\\Users\\donkey\\.conda\\envs\\EDT\\Lib\\site-packages\\httpx\\_transports\\default.py\", line 365, in aclose\n",
      "    await self._pool.aclose()\n",
      "  File \"c:\\Users\\donkey\\.conda\\envs\\EDT\\Lib\\site-packages\\httpcore\\_async\\connection_pool.py\", line 314, in aclose\n",
      "    await connection.aclose()\n",
      "  File \"c:\\Users\\donkey\\.conda\\envs\\EDT\\Lib\\site-packages\\httpcore\\_async\\http_proxy.py\", line 332, in aclose\n",
      "    await self._connection.aclose()\n",
      "  File \"c:\\Users\\donkey\\.conda\\envs\\EDT\\Lib\\site-packages\\httpcore\\_async\\http11.py\", line 241, in aclose\n",
      "    await self._network_stream.aclose()\n",
      "  File \"c:\\Users\\donkey\\.conda\\envs\\EDT\\Lib\\site-packages\\httpcore\\_backends\\anyio.py\", line 54, in aclose\n",
      "    await self._stream.aclose()\n",
      "  File \"c:\\Users\\donkey\\.conda\\envs\\EDT\\Lib\\site-packages\\anyio\\streams\\tls.py\", line 202, in aclose\n",
      "    await self.transport_stream.aclose()\n",
      "  File \"c:\\Users\\donkey\\.conda\\envs\\EDT\\Lib\\site-packages\\anyio\\_backends\\_asyncio.py\", line 1181, in aclose\n",
      "    self._transport.close()\n",
      "  File \"c:\\Users\\donkey\\.conda\\envs\\EDT\\Lib\\asyncio\\selector_events.py\", line 860, in close\n",
      "    self._loop.call_soon(self._call_connection_lost, None)\n",
      "  File \"c:\\Users\\donkey\\.conda\\envs\\EDT\\Lib\\asyncio\\base_events.py\", line 761, in call_soon\n",
      "    self._check_closed()\n",
      "  File \"c:\\Users\\donkey\\.conda\\envs\\EDT\\Lib\\asyncio\\base_events.py\", line 519, in _check_closed\n",
      "    raise RuntimeError('Event loop is closed')\n",
      "RuntimeError: Event loop is closed\n"
     ]
    },
    {
     "name": "stdout",
     "output_type": "stream",
     "text": [
      "ablat5_eval_rag_context 的忠实度为 0.9862525252525254\n",
      "ablat5_eval_rag_context 的平均内容相关性为 0.33720254306020614\n",
      "(3, 8)\n"
     ]
    },
    {
     "data": {
      "application/vnd.jupyter.widget-view+json": {
       "model_id": "4cb523cf253241d0a1fe6eaa9d2e9757",
       "version_major": 2,
       "version_minor": 0
      },
      "text/plain": [
       "Evaluating:   0%|          | 0/100 [00:00<?, ?it/s]"
      ]
     },
     "metadata": {},
     "output_type": "display_data"
    },
    {
     "name": "stdout",
     "output_type": "stream",
     "text": [
      "ablat1_eval_rag_context 的忠实度为 0.9525634920634921\n",
      "ablat1_eval_rag_context 的平均内容相关性为 0.06965232985089975\n"
     ]
    },
    {
     "data": {
      "application/vnd.jupyter.widget-view+json": {
       "model_id": "27da2c36be8b4366a5840612622b6f27",
       "version_major": 2,
       "version_minor": 0
      },
      "text/plain": [
       "Evaluating:   0%|          | 0/100 [00:00<?, ?it/s]"
      ]
     },
     "metadata": {},
     "output_type": "display_data"
    },
    {
     "name": "stdout",
     "output_type": "stream",
     "text": [
      "ablat4_eval_rag_context 的忠实度为 0.915037518037518\n",
      "ablat4_eval_rag_context 的平均内容相关性为 0.09620888221649819\n"
     ]
    },
    {
     "data": {
      "application/vnd.jupyter.widget-view+json": {
       "model_id": "653d889d6aaf4cbda5187ec9f77df91d",
       "version_major": 2,
       "version_minor": 0
      },
      "text/plain": [
       "Evaluating:   0%|          | 0/100 [00:00<?, ?it/s]"
      ]
     },
     "metadata": {},
     "output_type": "display_data"
    },
    {
     "name": "stderr",
     "output_type": "stream",
     "text": [
      "Task exception was never retrieved\n",
      "future: <Task finished name='Task-4867' coro=<AsyncClient.aclose() done, defined at c:\\Users\\donkey\\.conda\\envs\\EDT\\Lib\\site-packages\\httpx\\_client.py:1967> exception=RuntimeError('Event loop is closed')>\n",
      "Traceback (most recent call last):\n",
      "  File \"c:\\Users\\donkey\\.conda\\envs\\EDT\\Lib\\site-packages\\httpx\\_client.py\", line 1977, in aclose\n",
      "    await proxy.aclose()\n",
      "  File \"c:\\Users\\donkey\\.conda\\envs\\EDT\\Lib\\site-packages\\httpx\\_transports\\default.py\", line 365, in aclose\n",
      "    await self._pool.aclose()\n",
      "  File \"c:\\Users\\donkey\\.conda\\envs\\EDT\\Lib\\site-packages\\httpcore\\_async\\connection_pool.py\", line 314, in aclose\n",
      "    await connection.aclose()\n",
      "  File \"c:\\Users\\donkey\\.conda\\envs\\EDT\\Lib\\site-packages\\httpcore\\_async\\http_proxy.py\", line 332, in aclose\n",
      "    await self._connection.aclose()\n",
      "  File \"c:\\Users\\donkey\\.conda\\envs\\EDT\\Lib\\site-packages\\httpcore\\_async\\http11.py\", line 241, in aclose\n",
      "    await self._network_stream.aclose()\n",
      "  File \"c:\\Users\\donkey\\.conda\\envs\\EDT\\Lib\\site-packages\\httpcore\\_backends\\anyio.py\", line 54, in aclose\n",
      "    await self._stream.aclose()\n",
      "  File \"c:\\Users\\donkey\\.conda\\envs\\EDT\\Lib\\site-packages\\anyio\\streams\\tls.py\", line 202, in aclose\n",
      "    await self.transport_stream.aclose()\n",
      "  File \"c:\\Users\\donkey\\.conda\\envs\\EDT\\Lib\\site-packages\\anyio\\_backends\\_asyncio.py\", line 1181, in aclose\n",
      "    self._transport.close()\n",
      "  File \"c:\\Users\\donkey\\.conda\\envs\\EDT\\Lib\\asyncio\\selector_events.py\", line 860, in close\n",
      "    self._loop.call_soon(self._call_connection_lost, None)\n",
      "  File \"c:\\Users\\donkey\\.conda\\envs\\EDT\\Lib\\asyncio\\base_events.py\", line 761, in call_soon\n",
      "    self._check_closed()\n",
      "  File \"c:\\Users\\donkey\\.conda\\envs\\EDT\\Lib\\asyncio\\base_events.py\", line 519, in _check_closed\n",
      "    raise RuntimeError('Event loop is closed')\n",
      "RuntimeError: Event loop is closed\n",
      "Task exception was never retrieved\n",
      "future: <Task finished name='Task-4868' coro=<AsyncClient.aclose() done, defined at c:\\Users\\donkey\\.conda\\envs\\EDT\\Lib\\site-packages\\httpx\\_client.py:1967> exception=RuntimeError('Event loop is closed')>\n",
      "Traceback (most recent call last):\n",
      "  File \"c:\\Users\\donkey\\.conda\\envs\\EDT\\Lib\\site-packages\\httpx\\_client.py\", line 1977, in aclose\n",
      "    await proxy.aclose()\n",
      "  File \"c:\\Users\\donkey\\.conda\\envs\\EDT\\Lib\\site-packages\\httpx\\_transports\\default.py\", line 365, in aclose\n",
      "    await self._pool.aclose()\n",
      "  File \"c:\\Users\\donkey\\.conda\\envs\\EDT\\Lib\\site-packages\\httpcore\\_async\\connection_pool.py\", line 314, in aclose\n",
      "    await connection.aclose()\n",
      "  File \"c:\\Users\\donkey\\.conda\\envs\\EDT\\Lib\\site-packages\\httpcore\\_async\\http_proxy.py\", line 332, in aclose\n",
      "    await self._connection.aclose()\n",
      "  File \"c:\\Users\\donkey\\.conda\\envs\\EDT\\Lib\\site-packages\\httpcore\\_async\\http11.py\", line 241, in aclose\n",
      "    await self._network_stream.aclose()\n",
      "  File \"c:\\Users\\donkey\\.conda\\envs\\EDT\\Lib\\site-packages\\httpcore\\_backends\\anyio.py\", line 54, in aclose\n",
      "    await self._stream.aclose()\n",
      "  File \"c:\\Users\\donkey\\.conda\\envs\\EDT\\Lib\\site-packages\\anyio\\streams\\tls.py\", line 202, in aclose\n",
      "    await self.transport_stream.aclose()\n",
      "  File \"c:\\Users\\donkey\\.conda\\envs\\EDT\\Lib\\site-packages\\anyio\\_backends\\_asyncio.py\", line 1181, in aclose\n",
      "    self._transport.close()\n",
      "  File \"c:\\Users\\donkey\\.conda\\envs\\EDT\\Lib\\asyncio\\selector_events.py\", line 860, in close\n",
      "    self._loop.call_soon(self._call_connection_lost, None)\n",
      "  File \"c:\\Users\\donkey\\.conda\\envs\\EDT\\Lib\\asyncio\\base_events.py\", line 761, in call_soon\n",
      "    self._check_closed()\n",
      "  File \"c:\\Users\\donkey\\.conda\\envs\\EDT\\Lib\\asyncio\\base_events.py\", line 519, in _check_closed\n",
      "    raise RuntimeError('Event loop is closed')\n",
      "RuntimeError: Event loop is closed\n",
      "Task exception was never retrieved\n",
      "future: <Task finished name='Task-4869' coro=<AsyncClient.aclose() done, defined at c:\\Users\\donkey\\.conda\\envs\\EDT\\Lib\\site-packages\\httpx\\_client.py:1967> exception=RuntimeError('Event loop is closed')>\n",
      "Traceback (most recent call last):\n",
      "  File \"c:\\Users\\donkey\\.conda\\envs\\EDT\\Lib\\site-packages\\httpx\\_client.py\", line 1977, in aclose\n",
      "    await proxy.aclose()\n",
      "  File \"c:\\Users\\donkey\\.conda\\envs\\EDT\\Lib\\site-packages\\httpx\\_transports\\default.py\", line 365, in aclose\n",
      "    await self._pool.aclose()\n",
      "  File \"c:\\Users\\donkey\\.conda\\envs\\EDT\\Lib\\site-packages\\httpcore\\_async\\connection_pool.py\", line 314, in aclose\n",
      "    await connection.aclose()\n",
      "  File \"c:\\Users\\donkey\\.conda\\envs\\EDT\\Lib\\site-packages\\httpcore\\_async\\http_proxy.py\", line 332, in aclose\n",
      "    await self._connection.aclose()\n",
      "  File \"c:\\Users\\donkey\\.conda\\envs\\EDT\\Lib\\site-packages\\httpcore\\_async\\http11.py\", line 241, in aclose\n",
      "    await self._network_stream.aclose()\n",
      "  File \"c:\\Users\\donkey\\.conda\\envs\\EDT\\Lib\\site-packages\\httpcore\\_backends\\anyio.py\", line 54, in aclose\n",
      "    await self._stream.aclose()\n",
      "  File \"c:\\Users\\donkey\\.conda\\envs\\EDT\\Lib\\site-packages\\anyio\\streams\\tls.py\", line 202, in aclose\n",
      "    await self.transport_stream.aclose()\n",
      "  File \"c:\\Users\\donkey\\.conda\\envs\\EDT\\Lib\\site-packages\\anyio\\_backends\\_asyncio.py\", line 1181, in aclose\n",
      "    self._transport.close()\n",
      "  File \"c:\\Users\\donkey\\.conda\\envs\\EDT\\Lib\\asyncio\\selector_events.py\", line 860, in close\n",
      "    self._loop.call_soon(self._call_connection_lost, None)\n",
      "  File \"c:\\Users\\donkey\\.conda\\envs\\EDT\\Lib\\asyncio\\base_events.py\", line 761, in call_soon\n",
      "    self._check_closed()\n",
      "  File \"c:\\Users\\donkey\\.conda\\envs\\EDT\\Lib\\asyncio\\base_events.py\", line 519, in _check_closed\n",
      "    raise RuntimeError('Event loop is closed')\n",
      "RuntimeError: Event loop is closed\n"
     ]
    },
    {
     "name": "stdout",
     "output_type": "stream",
     "text": [
      "ablat5_eval_rag_context 的忠实度为 0.9679747474747475\n",
      "ablat5_eval_rag_context 的平均内容相关性为 0.561115390032961\n",
      "(3, 10)\n"
     ]
    },
    {
     "data": {
      "application/vnd.jupyter.widget-view+json": {
       "model_id": "f4282c32ec1d448bbc27306ea1cd41e4",
       "version_major": 2,
       "version_minor": 0
      },
      "text/plain": [
       "Evaluating:   0%|          | 0/100 [00:00<?, ?it/s]"
      ]
     },
     "metadata": {},
     "output_type": "display_data"
    },
    {
     "name": "stderr",
     "output_type": "stream",
     "text": [
      "Task exception was never retrieved\n",
      "future: <Task finished name='Task-5151' coro=<AsyncClient.aclose() done, defined at c:\\Users\\donkey\\.conda\\envs\\EDT\\Lib\\site-packages\\httpx\\_client.py:1967> exception=RuntimeError('Event loop is closed')>\n",
      "Traceback (most recent call last):\n",
      "  File \"c:\\Users\\donkey\\.conda\\envs\\EDT\\Lib\\site-packages\\httpx\\_client.py\", line 1977, in aclose\n",
      "    await proxy.aclose()\n",
      "  File \"c:\\Users\\donkey\\.conda\\envs\\EDT\\Lib\\site-packages\\httpx\\_transports\\default.py\", line 365, in aclose\n",
      "    await self._pool.aclose()\n",
      "  File \"c:\\Users\\donkey\\.conda\\envs\\EDT\\Lib\\site-packages\\httpcore\\_async\\connection_pool.py\", line 314, in aclose\n",
      "    await connection.aclose()\n",
      "  File \"c:\\Users\\donkey\\.conda\\envs\\EDT\\Lib\\site-packages\\httpcore\\_async\\http_proxy.py\", line 332, in aclose\n",
      "    await self._connection.aclose()\n",
      "  File \"c:\\Users\\donkey\\.conda\\envs\\EDT\\Lib\\site-packages\\httpcore\\_async\\http11.py\", line 241, in aclose\n",
      "    await self._network_stream.aclose()\n",
      "  File \"c:\\Users\\donkey\\.conda\\envs\\EDT\\Lib\\site-packages\\httpcore\\_backends\\anyio.py\", line 54, in aclose\n",
      "    await self._stream.aclose()\n",
      "  File \"c:\\Users\\donkey\\.conda\\envs\\EDT\\Lib\\site-packages\\anyio\\streams\\tls.py\", line 202, in aclose\n",
      "    await self.transport_stream.aclose()\n",
      "  File \"c:\\Users\\donkey\\.conda\\envs\\EDT\\Lib\\site-packages\\anyio\\_backends\\_asyncio.py\", line 1181, in aclose\n",
      "    self._transport.close()\n",
      "  File \"c:\\Users\\donkey\\.conda\\envs\\EDT\\Lib\\asyncio\\selector_events.py\", line 860, in close\n",
      "    self._loop.call_soon(self._call_connection_lost, None)\n",
      "  File \"c:\\Users\\donkey\\.conda\\envs\\EDT\\Lib\\asyncio\\base_events.py\", line 761, in call_soon\n",
      "    self._check_closed()\n",
      "  File \"c:\\Users\\donkey\\.conda\\envs\\EDT\\Lib\\asyncio\\base_events.py\", line 519, in _check_closed\n",
      "    raise RuntimeError('Event loop is closed')\n",
      "RuntimeError: Event loop is closed\n",
      "No statements were generated from the answer.\n"
     ]
    },
    {
     "name": "stdout",
     "output_type": "stream",
     "text": [
      "ablat1_eval_rag_context 的忠实度为 0.9728833524751892\n",
      "ablat1_eval_rag_context 的平均内容相关性为 0.13395319305733325\n"
     ]
    },
    {
     "data": {
      "application/vnd.jupyter.widget-view+json": {
       "model_id": "fd66b08aad8d4498b4f5e480fd1bb7a0",
       "version_major": 2,
       "version_minor": 0
      },
      "text/plain": [
       "Evaluating:   0%|          | 0/100 [00:00<?, ?it/s]"
      ]
     },
     "metadata": {},
     "output_type": "display_data"
    },
    {
     "name": "stderr",
     "output_type": "stream",
     "text": [
      "No statements were generated from the answer.\n",
      "No statements were generated from the answer.\n"
     ]
    },
    {
     "name": "stdout",
     "output_type": "stream",
     "text": [
      "ablat4_eval_rag_context 的忠实度为 0.9650132275132276\n",
      "ablat4_eval_rag_context 的平均内容相关性为 0.16724350852731085\n"
     ]
    },
    {
     "data": {
      "application/vnd.jupyter.widget-view+json": {
       "model_id": "c9cab7a1f3564811aa9d8891d40afbae",
       "version_major": 2,
       "version_minor": 0
      },
      "text/plain": [
       "Evaluating:   0%|          | 0/100 [00:00<?, ?it/s]"
      ]
     },
     "metadata": {},
     "output_type": "display_data"
    },
    {
     "name": "stderr",
     "output_type": "stream",
     "text": [
      "Task exception was never retrieved\n",
      "future: <Task finished name='Task-5910' coro=<AsyncClient.aclose() done, defined at c:\\Users\\donkey\\.conda\\envs\\EDT\\Lib\\site-packages\\httpx\\_client.py:1967> exception=RuntimeError('Event loop is closed')>\n",
      "Traceback (most recent call last):\n",
      "  File \"c:\\Users\\donkey\\.conda\\envs\\EDT\\Lib\\site-packages\\httpx\\_client.py\", line 1977, in aclose\n",
      "    await proxy.aclose()\n",
      "  File \"c:\\Users\\donkey\\.conda\\envs\\EDT\\Lib\\site-packages\\httpx\\_transports\\default.py\", line 365, in aclose\n",
      "    await self._pool.aclose()\n",
      "  File \"c:\\Users\\donkey\\.conda\\envs\\EDT\\Lib\\site-packages\\httpcore\\_async\\connection_pool.py\", line 314, in aclose\n",
      "    await connection.aclose()\n",
      "  File \"c:\\Users\\donkey\\.conda\\envs\\EDT\\Lib\\site-packages\\httpcore\\_async\\http_proxy.py\", line 332, in aclose\n",
      "    await self._connection.aclose()\n",
      "  File \"c:\\Users\\donkey\\.conda\\envs\\EDT\\Lib\\site-packages\\httpcore\\_async\\http11.py\", line 241, in aclose\n",
      "    await self._network_stream.aclose()\n",
      "  File \"c:\\Users\\donkey\\.conda\\envs\\EDT\\Lib\\site-packages\\httpcore\\_backends\\anyio.py\", line 54, in aclose\n",
      "    await self._stream.aclose()\n",
      "  File \"c:\\Users\\donkey\\.conda\\envs\\EDT\\Lib\\site-packages\\anyio\\streams\\tls.py\", line 202, in aclose\n",
      "    await self.transport_stream.aclose()\n",
      "  File \"c:\\Users\\donkey\\.conda\\envs\\EDT\\Lib\\site-packages\\anyio\\_backends\\_asyncio.py\", line 1181, in aclose\n",
      "    self._transport.close()\n",
      "  File \"c:\\Users\\donkey\\.conda\\envs\\EDT\\Lib\\asyncio\\selector_events.py\", line 860, in close\n",
      "    self._loop.call_soon(self._call_connection_lost, None)\n",
      "  File \"c:\\Users\\donkey\\.conda\\envs\\EDT\\Lib\\asyncio\\base_events.py\", line 761, in call_soon\n",
      "    self._check_closed()\n",
      "  File \"c:\\Users\\donkey\\.conda\\envs\\EDT\\Lib\\asyncio\\base_events.py\", line 519, in _check_closed\n",
      "    raise RuntimeError('Event loop is closed')\n",
      "RuntimeError: Event loop is closed\n",
      "Task exception was never retrieved\n",
      "future: <Task finished name='Task-5911' coro=<AsyncClient.aclose() done, defined at c:\\Users\\donkey\\.conda\\envs\\EDT\\Lib\\site-packages\\httpx\\_client.py:1967> exception=RuntimeError('Event loop is closed')>\n",
      "Traceback (most recent call last):\n",
      "  File \"c:\\Users\\donkey\\.conda\\envs\\EDT\\Lib\\site-packages\\httpx\\_client.py\", line 1977, in aclose\n",
      "    await proxy.aclose()\n",
      "  File \"c:\\Users\\donkey\\.conda\\envs\\EDT\\Lib\\site-packages\\httpx\\_transports\\default.py\", line 365, in aclose\n",
      "    await self._pool.aclose()\n",
      "  File \"c:\\Users\\donkey\\.conda\\envs\\EDT\\Lib\\site-packages\\httpcore\\_async\\connection_pool.py\", line 314, in aclose\n",
      "    await connection.aclose()\n",
      "  File \"c:\\Users\\donkey\\.conda\\envs\\EDT\\Lib\\site-packages\\httpcore\\_async\\http_proxy.py\", line 332, in aclose\n",
      "    await self._connection.aclose()\n",
      "  File \"c:\\Users\\donkey\\.conda\\envs\\EDT\\Lib\\site-packages\\httpcore\\_async\\http11.py\", line 241, in aclose\n",
      "    await self._network_stream.aclose()\n",
      "  File \"c:\\Users\\donkey\\.conda\\envs\\EDT\\Lib\\site-packages\\httpcore\\_backends\\anyio.py\", line 54, in aclose\n",
      "    await self._stream.aclose()\n",
      "  File \"c:\\Users\\donkey\\.conda\\envs\\EDT\\Lib\\site-packages\\anyio\\streams\\tls.py\", line 202, in aclose\n",
      "    await self.transport_stream.aclose()\n",
      "  File \"c:\\Users\\donkey\\.conda\\envs\\EDT\\Lib\\site-packages\\anyio\\_backends\\_asyncio.py\", line 1181, in aclose\n",
      "    self._transport.close()\n",
      "  File \"c:\\Users\\donkey\\.conda\\envs\\EDT\\Lib\\asyncio\\selector_events.py\", line 860, in close\n",
      "    self._loop.call_soon(self._call_connection_lost, None)\n",
      "  File \"c:\\Users\\donkey\\.conda\\envs\\EDT\\Lib\\asyncio\\base_events.py\", line 761, in call_soon\n",
      "    self._check_closed()\n",
      "  File \"c:\\Users\\donkey\\.conda\\envs\\EDT\\Lib\\asyncio\\base_events.py\", line 519, in _check_closed\n",
      "    raise RuntimeError('Event loop is closed')\n",
      "RuntimeError: Event loop is closed\n"
     ]
    },
    {
     "name": "stdout",
     "output_type": "stream",
     "text": [
      "ablat5_eval_rag_context 的忠实度为 0.9900488400488399\n",
      "ablat5_eval_rag_context 的平均内容相关性为 0.6558809560392075\n"
     ]
    },
    {
     "data": {
      "text/html": [
       "<div>\n",
       "<style scoped>\n",
       "    .dataframe tbody tr th:only-of-type {\n",
       "        vertical-align: middle;\n",
       "    }\n",
       "\n",
       "    .dataframe tbody tr th {\n",
       "        vertical-align: top;\n",
       "    }\n",
       "\n",
       "    .dataframe thead th {\n",
       "        text-align: right;\n",
       "    }\n",
       "</style>\n",
       "<table border=\"1\" class=\"dataframe\">\n",
       "  <thead>\n",
       "    <tr style=\"text-align: right;\">\n",
       "      <th></th>\n",
       "      <th>FAITH1</th>\n",
       "      <th>CR1</th>\n",
       "      <th>FAITH2</th>\n",
       "      <th>CR2</th>\n",
       "      <th>FAITH3</th>\n",
       "      <th>CR3</th>\n",
       "      <th>FAITH4</th>\n",
       "      <th>CR4</th>\n",
       "      <th>FAITH5</th>\n",
       "      <th>CR5</th>\n",
       "      <th>FAITH6</th>\n",
       "      <th>CR6</th>\n",
       "    </tr>\n",
       "  </thead>\n",
       "  <tbody>\n",
       "    <tr>\n",
       "      <th>ablat1_eval_rag_context</th>\n",
       "      <td>0.938378</td>\n",
       "      <td>0.126009</td>\n",
       "      <td>0.980008</td>\n",
       "      <td>0.089162</td>\n",
       "      <td>0.972948</td>\n",
       "      <td>0.099323</td>\n",
       "      <td>0.979429</td>\n",
       "      <td>0.085410</td>\n",
       "      <td>0.952563</td>\n",
       "      <td>0.069652</td>\n",
       "      <td>0.972883</td>\n",
       "      <td>0.133953</td>\n",
       "    </tr>\n",
       "    <tr>\n",
       "      <th>ablat4_eval_rag_context</th>\n",
       "      <td>0.936396</td>\n",
       "      <td>0.119424</td>\n",
       "      <td>0.973230</td>\n",
       "      <td>0.131292</td>\n",
       "      <td>0.937277</td>\n",
       "      <td>0.124115</td>\n",
       "      <td>0.958859</td>\n",
       "      <td>0.117230</td>\n",
       "      <td>0.915038</td>\n",
       "      <td>0.096209</td>\n",
       "      <td>0.965013</td>\n",
       "      <td>0.167244</td>\n",
       "    </tr>\n",
       "    <tr>\n",
       "      <th>ablat5_eval_rag_context</th>\n",
       "      <td>0.983697</td>\n",
       "      <td>0.576241</td>\n",
       "      <td>0.986739</td>\n",
       "      <td>0.298500</td>\n",
       "      <td>0.993738</td>\n",
       "      <td>0.394049</td>\n",
       "      <td>0.986253</td>\n",
       "      <td>0.337203</td>\n",
       "      <td>0.967975</td>\n",
       "      <td>0.561115</td>\n",
       "      <td>0.990049</td>\n",
       "      <td>0.655881</td>\n",
       "    </tr>\n",
       "  </tbody>\n",
       "</table>\n",
       "</div>"
      ],
      "text/plain": [
       "                           FAITH1       CR1  ...    FAITH6       CR6\n",
       "ablat1_eval_rag_context  0.938378  0.126009  ...  0.972883  0.133953\n",
       "ablat4_eval_rag_context  0.936396  0.119424  ...  0.965013  0.167244\n",
       "ablat5_eval_rag_context  0.983697  0.576241  ...  0.990049  0.655881\n",
       "\n",
       "[3 rows x 12 columns]"
      ]
     },
     "execution_count": 27,
     "metadata": {},
     "output_type": "execute_result"
    }
   ],
   "source": [
    "from PK_LLM_endfront.evaluation.eva_funcs import DataLoader\n",
    "import time\n",
    "mt = [f'ablat{i}_eval_rag_context' for i in [1,4,5]]\n",
    "d_lis = []\n",
    "out_df = pd.DataFrame([],index=mt,columns=d_lis)\n",
    "_p =  \"eval_reasult2\\\\score_tmp.csv\"\n",
    "out_df.to_csv(_p)\n",
    "for i in range(1,7):\n",
    "    out_df = pd.read_csv(_p,index_col=0)\n",
    "    if i <1:\n",
    "        continue\n",
    "    print(out_df.shape)\n",
    "    data = DataLoader.load_json(f\"_data\\\\testqa2\\\\testdata_{i}.json\")\n",
    "    d = process_Di(mt,_i=i,data=data)\n",
    "    for _k in d.keys():\n",
    "        out_df[_k] = d[_k]\n",
    "    out_df.to_csv(_p)\n",
    "    time.sleep(10)\n",
    "out_df"
   ]
  },
  {
   "cell_type": "code",
   "execution_count": 29,
   "metadata": {},
   "outputs": [],
   "source": [
    "order  = [f'FAITH{i}' for i in range(1,7)] +[f'CR{i}' for i in range(1,7)]\n",
    "out_df = out_df[order]\n",
    "out_df.to_csv(\"eval_reasult2\\\\CR_score.csv\")"
   ]
  },
  {
   "cell_type": "code",
   "execution_count": null,
   "metadata": {},
   "outputs": [],
   "source": []
  }
 ],
 "metadata": {
  "kernelspec": {
   "display_name": "EDT",
   "language": "python",
   "name": "python3"
  },
  "language_info": {
   "codemirror_mode": {
    "name": "ipython",
    "version": 3
   },
   "file_extension": ".py",
   "mimetype": "text/x-python",
   "name": "python",
   "nbconvert_exporter": "python",
   "pygments_lexer": "ipython3",
   "version": "3.11.7"
  }
 },
 "nbformat": 4,
 "nbformat_minor": 2
}
