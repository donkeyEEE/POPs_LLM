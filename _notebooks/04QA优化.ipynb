{
 "cells": [
  {
   "cell_type": "code",
   "execution_count": 4,
   "metadata": {},
   "outputs": [],
   "source": [
    "import os\n",
    "os.chdir('E:\\学习\\python\\py_codbase\\PK_LLM')\n",
    "OPENAI_API_KEY = os.getenv('OPENAI_API_KEY')\n",
    "os.environ[\"OPENAI_API_KEY\"] = OPENAI_API_KEY\n",
    "\n",
    "import pandas as pd\n",
    "from PK_LLM_endfront.evaluation.eva_funcs import Evaluator,Record,DataLoader\n",
    "from PK_LLM_endfront.evaluation.llms import PredictorFactory\n",
    "from ragas.metrics import answer_correctness"
   ]
  },
  {
   "cell_type": "code",
   "execution_count": 5,
   "metadata": {},
   "outputs": [],
   "source": [
    "from langchain_core.prompts import PromptTemplate\n",
    "from langchain_core.output_parsers import StrOutputParser\n",
    "from langchain_openai import ChatOpenAI\n",
    "prompt = PromptTemplate(\n",
    "    input_variables=['ans','re_ans'],\n",
    "    template=\"\"\"\n",
    "    \n",
    "Original Answer:\n",
    "{ans}\n",
    "\n",
    "Reference Material:\n",
    "{re_ans}\n",
    "\n",
    "Steps to Improve the Original Answer Using Reference Material:\n",
    "\n",
    "Add Details: Supplement the answer with details from the reference material to make it more comprehensive and in-depth.\n",
    "Adjust Expression: Enhance the clarity and logic of the language used in the answer, avoid modal words like \"might\" or \"perhaps\" to ensure assertiveness.\n",
    "Highlight Key Points: Emphasize the most important points or information in the answer to ensure they are adequately presented.\n",
    "Check Coherence: Ensure that the information in the answer is logically coherent and flows naturally.\n",
    "Output Requirements:\n",
    "\n",
    "Answer Content Only: Ensure the output includes only the answer.\n",
    "No Modal Words: Avoid using words that could weaken the certainty of the answer.\n",
    "\n",
    "\"\"\"\n",
    ")\n",
    "chain = prompt | ChatOpenAI(temperature=0) | StrOutputParser()"
   ]
  },
  {
   "cell_type": "code",
   "execution_count": 8,
   "metadata": {},
   "outputs": [
    {
     "name": "stderr",
     "output_type": "stream",
     "text": [
      "0it [00:00, ?it/s]"
     ]
    },
    {
     "name": "stderr",
     "output_type": "stream",
     "text": [
      "50it [04:44,  5.69s/it]\n",
      "50it [04:30,  5.40s/it]\n",
      "50it [04:11,  5.04s/it]\n",
      "50it [03:58,  4.78s/it]\n"
     ]
    }
   ],
   "source": [
    "import pandas as pd\n",
    "import json\n",
    "from tqdm import tqdm\n",
    "for i in range(1,7):\n",
    "    if i <3:\n",
    "        continue\n",
    "    data = DataLoader.load_json(f\"_data\\\\testqa\\\\testdata_{1}.json\")\n",
    "    df = pd.read_csv(f\"eval_reasult2\\\\{i}\\\\ablat1_eval_rag_context.csv\")\n",
    "    output_file = f\"_data\\\\testqa2\\\\testdata_{i}.json\"\n",
    "    lis = []\n",
    "    for _i,qa in tqdm(enumerate(data)):\n",
    "        answer = qa['Answer']\n",
    "        _answer = chain.invoke({'ans':answer,'re_ans':df['prediction'].loc[_i]})\n",
    "        qa['Answer'] = _answer\n",
    "        lis.append(qa)\n",
    "    with open(output_file, 'w', encoding='utf-8') as file:\n",
    "                    json.dump(lis, file, indent=4)\n"
   ]
  },
  {
   "cell_type": "code",
   "execution_count": 5,
   "metadata": {},
   "outputs": [
    {
     "name": "stdout",
     "output_type": "stream",
     "text": [
      "What are the benefits and challenges of using synergistic sample preparation and multiple analytical techniques in untargeted metabolomics?\n"
     ]
    },
    {
     "data": {
      "application/vnd.jupyter.widget-view+json": {
       "model_id": "d8f3e51237ba4bafabf7d16f6ff29d73",
       "version_major": 2,
       "version_minor": 0
      },
      "text/plain": [
       "Evaluating:   0%|          | 0/2 [00:00<?, ?it/s]"
      ]
     },
     "metadata": {},
     "output_type": "display_data"
    },
    {
     "name": "stdout",
     "output_type": "stream",
     "text": [
      "0.675747415221084\n",
      "0.9529896608843359\n"
     ]
    }
   ],
   "source": [
    "d = DataLoader(f\"_data\\\\testqa\\\\testdata_{1}.json\")\n",
    "r = next(d.get_data()) # record demo\n",
    "e = Evaluator()\n",
    "print(r.data['Question'])\n",
    "e.record_lis = []\n",
    "p1 = PredictorFactory().get_predictor(model_type='gpt-3.5-turbo')\n",
    "r.add_prediction(p1)\n",
    "r.data['Answer'] = chain.invoke({'ans':r.data['Answer'],'re_ans':df['prediction'].loc[0]})\n",
    "e.add_Record(r)\n",
    "e.evaluate()\n",
    "print(r.evaluation['answer_correctness'])\n",
    "print(r.evaluation['answer_similarity'])\n",
    "\n",
    "\n"
   ]
  },
  {
   "cell_type": "code",
   "execution_count": 4,
   "metadata": {},
   "outputs": [
    {
     "name": "stdout",
     "output_type": "stream",
     "text": [
      "What are the benefits and challenges of using synergistic sample preparation and multiple analytical techniques in untargeted metabolomics?\n"
     ]
    },
    {
     "data": {
      "application/vnd.jupyter.widget-view+json": {
       "model_id": "75a1f856be4d4132bf49c605f04ea670",
       "version_major": 2,
       "version_minor": 0
      },
      "text/plain": [
       "Evaluating:   0%|          | 0/2 [00:00<?, ?it/s]"
      ]
     },
     "metadata": {},
     "output_type": "display_data"
    },
    {
     "name": "stdout",
     "output_type": "stream",
     "text": [
      "0.7431619883252342\n",
      "0.9726479533009366\n"
     ]
    }
   ],
   "source": [
    "d = DataLoader(f\"_data\\\\testqa\\\\testdata_{1}.json\")\n",
    "r = next(d.get_data()) # record demo\n",
    "import pandas as pd\n",
    "df = pd.read_csv(\"eval_reasult\\\\1\\\\new_eval_rag.csv\")\n",
    "e = Evaluator()\n",
    "print(r.data['Question'])\n",
    "e.record_lis = []\n",
    "r.prediction = df['prediction'].loc[0]\n",
    "r.data['Answer'] = chain.invoke({'ans':r.data['Answer'],'re_ans':df['prediction'].loc[0]})\n",
    "e.add_Record(r)\n",
    "e.evaluate()\n",
    "print(r.evaluation['answer_correctness'])\n",
    "print(r.evaluation['answer_similarity'])"
   ]
  },
  {
   "cell_type": "code",
   "execution_count": 11,
   "metadata": {},
   "outputs": [
    {
     "data": {
      "text/plain": [
       "'Using synergistic sample preparation and multiple analytical techniques in untargeted metabolomics offers several benefits. Firstly, it can significantly reduce sample preparation time, with some methods bringing it down to as low as 30 minutes. The incorporation of multidimensional chromatography with At-column dilution can also streamline the process from sample acquisition to analysis, enhancing efficiency. Moreover, this approach enables the sensitive detection of analyte concentrations at sub ng/mL levels, leading to more precise and comprehensive results.\\n\\nHowever, the text did not explicitly mention any challenges associated with using synergistic sample preparation and multiple analytical techniques in untargeted metabolomics. This indicates that while there are numerous benefits to this approach, potential challenges were not highlighted in the provided context.\\n\\nOverall, the combination of synergistic sample preparation and multiple analytical techniques in untargeted metabolomics can enhance the depth and accuracy of metabolite identification, leading to a more thorough understanding of metabolic pathways, diseases, phenotypes, and exposures.'"
      ]
     },
     "execution_count": 11,
     "metadata": {},
     "output_type": "execute_result"
    }
   ],
   "source": [
    "r.data['Answer']"
   ]
  },
  {
   "cell_type": "code",
   "execution_count": 12,
   "metadata": {},
   "outputs": [
    {
     "data": {
      "text/plain": [
       "'The benefits of using synergistic sample preparation and multiple analytical techniques in untargeted metabolomics include improved number of metabolites reliably detected and correctly assigned, better annotation decisions, and addressing the issues of reproducibility found in single platform methods. Additionally, this approach can significantly reduce sample preparation time, with some methods bringing it down to as low as 30 minutes. The incorporation of multidimensional chromatography with At-column dilution can also streamline the process from sample acquisition to analysis, enhancing efficiency. Moreover, this method enables the sensitive detection of analyte concentrations at sub ng/mL levels, leading to more precise and comprehensive results.\\n\\nHowever, challenges associated with this approach include the analysis of large data sets from disparate analytical techniques, which presents unique challenges. While the general data processing workflow is similar across multiple platforms, many software packages are only fully capable of processing data types from a single analytical instrument. Traditional statistical methods such as principal component analysis were not designed to handle multiple, distinct data sets. Instead, multivariate analysis requires multiblock or other model types for understanding the contribution from multiple instruments.'"
      ]
     },
     "execution_count": 12,
     "metadata": {},
     "output_type": "execute_result"
    }
   ],
   "source": [
    "r.prediction"
   ]
  },
  {
   "cell_type": "code",
   "execution_count": 26,
   "metadata": {},
   "outputs": [
    {
     "name": "stdout",
     "output_type": "stream",
     "text": [
      "What are the benefits and challenges of using synergistic sample preparation and multiple analytical techniques in untargeted metabolomics?\n"
     ]
    },
    {
     "data": {
      "application/vnd.jupyter.widget-view+json": {
       "model_id": "db3cfc9d13a140ffab8f17a28e5dd3df",
       "version_major": 2,
       "version_minor": 0
      },
      "text/plain": [
       "Evaluating:   0%|          | 0/2 [00:00<?, ?it/s]"
      ]
     },
     "metadata": {},
     "output_type": "display_data"
    },
    {
     "name": "stdout",
     "output_type": "stream",
     "text": [
      "tp =  3\n",
      "fp =  9\n",
      "fn =  2\n",
      "0.5068236708190633\n",
      "0.9684711538644886\n"
     ]
    }
   ],
   "source": [
    "d = DataLoader(f\"_data\\\\testqa\\\\testdata_{1}.json\")\n",
    "r = next(d.get_data()) # record demo\n",
    "print(r.data['Question'])\n",
    "e = Evaluator()\n",
    "e.record_lis = []\n",
    "p1 = PredictorFactory().get_predictor(model_type='rag')\n",
    "r.add_prediction(p1)\n",
    "# r.data['Answer'] = r.prediction\n",
    "e.add_Record(r)\n",
    "e.evaluate()\n",
    "print(r.evaluation['answer_correctness'])\n",
    "print(r.evaluation['answer_similarity'])"
   ]
  },
  {
   "cell_type": "code",
   "execution_count": 33,
   "metadata": {},
   "outputs": [],
   "source": [
    "from langchain_openai import ChatOpenAI\n",
    "from langchain_core.prompts import PromptTemplate\n",
    "from langchain_core.output_parsers import StrOutputParser\n",
    "t = \"\"\"\n",
    "请你参考reference answer中的内容和格式,提高Original Answe的质量，最后只需要输出修改后的答案即可\n",
    "***\n",
    "\n",
    "Original Answer:{ori_a}\n",
    "***\n",
    "Reference Answer:{re_a}\n",
    "\"\"\"\n",
    "pr = PromptTemplate(\n",
    "    input_variables=['ori_a','re_a','q'],\n",
    "    template=t\n",
    ")\n",
    "llm = ChatOpenAI()\n",
    "chain = pr |llm |StrOutputParser()"
   ]
  },
  {
   "cell_type": "code",
   "execution_count": 34,
   "metadata": {},
   "outputs": [],
   "source": [
    "rewrite_a = chain.invoke({'ori_a':r.data['Answer'],'q':r.data['Question'],'re_a':r.prediction})"
   ]
  },
  {
   "cell_type": "code",
   "execution_count": 35,
   "metadata": {},
   "outputs": [
    {
     "name": "stdout",
     "output_type": "stream",
     "text": [
      "Based on the content provided, the benefits of using synergistic sample preparation and multiple analytical techniques in untargeted metabolomics include improved metabolite coverage, enhanced process for peak detection and metabolite identification, addressing reproducibility issues, enhancing data quality, and advancements in analytical techniques. However, challenges such as handling large data sets, software limitations, statistical analysis complexity, and uncertainty in metabolite identification need to be carefully addressed to ensure reliable and accurate results in metabolomics research. \n",
      "\n",
      "Improved Metabolite Coverage: Individual techniques can only characterize a few hundred metabolites, but a multiplatform approach using multiple analytical techniques enhances the number of reliably detected and correctly assigned metabolites. \n",
      "\n",
      "Enhanced Process: Synergistic sample preparation, along with the use of both non-destructive and destructive techniques, improves peak detection and metabolite identification strategies, leading to better annotation decisions. \n",
      "\n",
      "Addressing Reproducibility Issues: Utilizing multiple analytical techniques helps in addressing reproducibility issues found in single platform methods. \n",
      "\n",
      "Data Quality Enhancement: Liquid chromatography coupled with high resolution mass spectrometry enhances data quality in non-targeted metabolic profiling, particularly in clinical sample analysis. \n",
      "\n",
      "Advancements in Analytical Techniques: Recent approaches focus on improving analytical techniques through the combination of different LC columns, isotope coded derivatization methods, pseudo-targeted LC-MS method, new data analysis algorithms, and structural identification of key metabolites. \n",
      "\n",
      "Challenges: \n",
      "\n",
      "Handling Large Data Sets: Challenges include handling large data sets from different analytical techniques, as software packages are often limited to processing data from a single instrument. \n",
      "\n",
      "Software Limitations: Software limitations may arise in processing data from multiple instruments, requiring careful consideration of data processing methods. \n",
      "\n",
      "Statistical Analysis Complexity: Traditional statistical methods like principal component analysis may not be ideal for multiple, distinct data sets, necessitating multivariate analysis with multiblock or other models for understanding contributions from various instruments. \n",
      "\n",
      "Uncertainty in Metabolite Identification: Uncertainty in metabolite identification is common in untargeted metabolomics, posing a challenge in accurately characterizing metabolites. \n",
      "\n",
      "In conclusion, while using synergistic sample preparation and multiple analytical techniques in untargeted metabolomics offers significant benefits in improving metabolite coverage, enhancing data quality, and addressing reproducibility issues, challenges such as handling large data sets, software limitations, statistical analysis complexity, and uncertainty in metabolite identification need to be carefully addressed to ensure reliable and accurate results in metabolomics research.\n"
     ]
    }
   ],
   "source": [
    "print(rewrite_a)"
   ]
  },
  {
   "cell_type": "code",
   "execution_count": 36,
   "metadata": {},
   "outputs": [
    {
     "name": "stdout",
     "output_type": "stream",
     "text": [
      "Based on the provided document content, the benefits and challenges of using synergistic sample preparation and multiple analytical techniques in untargeted metabolomics can be summarized as follows:\n",
      "\n",
      "**Benefits:**\n",
      "1. **Improved Metabolite Coverage:** Individual techniques can only characterize a few hundred metabolites, but a multiplatform approach using multiple analytical techniques enhances the number of reliably detected and correctly assigned metabolites.\n",
      "2. **Enhanced Process:** Synergistic sample preparation, along with the use of both non-destructive and destructive techniques, improves peak detection and metabolite identification strategies, leading to better annotation decisions.\n",
      "3. **Addressing Reproducibility Issues:** Utilizing multiple analytical techniques helps in addressing reproducibility issues found in single platform methods.\n",
      "4. **Data Quality Enhancement:** Liquid chromatography coupled with high resolution mass spectrometry enhances data quality in non-targeted metabolic profiling, particularly in clinical sample analysis.\n",
      "5. **Advancements in Analytical Techniques:** Recent approaches focus on improving analytical techniques through the combination of different LC columns, isotope coded derivatization methods, pseudo-targeted LC-MS method, new data analysis algorithms, and structural identification of key metabolites.\n",
      "\n",
      "**Challenges:**\n",
      "1. **Handling Large Data Sets:** Challenges include handling large data sets from different analytical techniques, as software packages are often limited to processing data from a single instrument.\n",
      "2. **Software Limitations:** Software limitations may arise in processing data from multiple instruments, requiring careful consideration of data processing methods.\n",
      "3. **Statistical Analysis Complexity:** Traditional statistical methods like principal component analysis may not be ideal for multiple, distinct data sets, necessitating multivariate analysis with multiblock or other models for understanding contributions from various instruments.\n",
      "4. **Uncertainty in Metabolite Identification:** Uncertainty in metabolite identification is common in untargeted metabolomics, posing a challenge in accurately characterizing metabolites.\n",
      "\n",
      "In conclusion, while using synergistic sample preparation and multiple analytical techniques in untargeted metabolomics offers significant benefits in improving metabolite coverage, enhancing data quality, and addressing reproducibility issues, challenges such as handling large data sets, software limitations, statistical analysis complexity, and uncertainty in metabolite identification need to be carefully addressed to ensure reliable and accurate results in metabolomics research.\n"
     ]
    }
   ],
   "source": [
    "print(r.prediction)"
   ]
  },
  {
   "cell_type": "code",
   "execution_count": 37,
   "metadata": {},
   "outputs": [
    {
     "data": {
      "application/vnd.jupyter.widget-view+json": {
       "model_id": "aa549aa7286d44b5bb25dc22bdac5698",
       "version_major": 2,
       "version_minor": 0
      },
      "text/plain": [
       "Evaluating:   0%|          | 0/2 [00:00<?, ?it/s]"
      ]
     },
     "metadata": {},
     "output_type": "display_data"
    },
    {
     "name": "stdout",
     "output_type": "stream",
     "text": [
      "tp =  2\n",
      "fp =  0\n",
      "fn =  9\n"
     ]
    }
   ],
   "source": [
    "e.record_lis[0].data['Answer'] = rewrite_a\n",
    "e.evaluate()"
   ]
  },
  {
   "cell_type": "code",
   "execution_count": 38,
   "metadata": {},
   "outputs": [
    {
     "name": "stdout",
     "output_type": "stream",
     "text": [
      "0.478421734099564\n",
      "0.9906100133213329\n"
     ]
    }
   ],
   "source": [
    "print(r.evaluation['answer_correctness'])\n",
    "print(r.evaluation['answer_similarity'])"
   ]
  }
 ],
 "metadata": {
  "kernelspec": {
   "display_name": "EDT",
   "language": "python",
   "name": "python3"
  },
  "language_info": {
   "codemirror_mode": {
    "name": "ipython",
    "version": 3
   },
   "file_extension": ".py",
   "mimetype": "text/x-python",
   "name": "python",
   "nbconvert_exporter": "python",
   "pygments_lexer": "ipython3",
   "version": "3.11.7"
  }
 },
 "nbformat": 4,
 "nbformat_minor": 2
}
