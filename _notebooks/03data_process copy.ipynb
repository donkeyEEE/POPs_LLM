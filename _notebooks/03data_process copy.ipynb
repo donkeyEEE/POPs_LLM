{
 "cells": [
  {
   "cell_type": "markdown",
   "metadata": {},
   "source": [
    "对测试数据进行记录"
   ]
  },
  {
   "cell_type": "markdown",
   "metadata": {},
   "source": [
    "### 1. Base-model在六个领域上的基线\n",
    "\n"
   ]
  },
  {
   "cell_type": "code",
   "execution_count": 1,
   "metadata": {},
   "outputs": [],
   "source": [
    "import os\n",
    "os.chdir('E:\\学习\\python\\py_codbase\\PK_LLM')\n",
    "\n",
    "import pandas as pd"
   ]
  },
  {
   "cell_type": "code",
   "execution_count": 16,
   "metadata": {},
   "outputs": [],
   "source": [
    "\n",
    "from datasets import Dataset \n",
    "from ragas.metrics import answer_relevancy,answer_correctness,answer_correctness\n",
    "from ragas import evaluate\n",
    "data_path = \"eval_reasult2\"\n",
    "# gpt-4 ; gpt-3.5-turbo ; glm-3-turbo ; glm-4 ; rag\n",
    "mt = ['gpt-4','gpt-3.5-turbo','glm-3-turbo','glm-4','rag']\n",
    "\n",
    "\n",
    "def eval_ar(q_lis:list,a_lis:list):\n",
    "    data_samples = {\n",
    "        'question':q_lis,\n",
    "        'answer':a_lis,\n",
    "        'contexts':[[\"\"] for i in range(len(q_lis))]\n",
    "    }\n",
    "    dataset = Dataset.from_dict(data_samples)\n",
    "    score = evaluate(dataset,metrics=[answer_relevancy,answer_correctness])\n",
    "    df = score.to_pandas()\n",
    "    return df['answer_relevancy'].mean(),df['answer_correctness'].mean()\n",
    "\n",
    "def process_Di(mt,_i = 1)->dict:\n",
    "    # 返回模型的AC和AR，但是AR需要重新计算\n",
    "    dir ={f\"AC{_i}\":[],f'AR{_i}':[]}\n",
    "    path = f\"{data_path}\\{_i}\"\n",
    "    for _m in mt:\n",
    "        m_data = f\"{path}\\eval_{_m}.csv\"\n",
    "        m_df = pd.read_csv(m_data).dropna(subset=['prediction'],axis=0)\n",
    "        _ac = m_df['answer_correctness'].mean()\n",
    "        dir[f'AC{_i}'].append(_ac)\n",
    "        print(f\"{_m} 的平均正确率为 {_ac}\")\n",
    "        _ar,_ac = eval_ar(a_lis=list(m_df['prediction']),q_lis=list(m_df['Question']))\n",
    "        print(f\"{_m} 的平均相关性为 {_ar}\")\n",
    "        dir[f'AR{_i}'].append(_ar)\n",
    "    return dir\n"
   ]
  },
  {
   "cell_type": "code",
   "execution_count": 6,
   "metadata": {},
   "outputs": [
    {
     "name": "stdout",
     "output_type": "stream",
     "text": [
      "gpt-4 的平均正确率为 0.7373739765337929\n"
     ]
    },
    {
     "data": {
      "application/vnd.jupyter.widget-view+json": {
       "model_id": "f51edab9682c4a92896eb9cd83f88ee7",
       "version_major": 2,
       "version_minor": 0
      },
      "text/plain": [
       "Evaluating:   0%|          | 0/50 [00:00<?, ?it/s]"
      ]
     },
     "metadata": {},
     "output_type": "display_data"
    },
    {
     "name": "stderr",
     "output_type": "stream",
     "text": [
      "Failed to parse output. Returning None.\n"
     ]
    },
    {
     "name": "stdout",
     "output_type": "stream",
     "text": [
      "gpt-4 的平均相关性为 0.9624217942475175\n",
      "gpt-3.5-turbo 的平均正确率为 0.7137660567262465\n"
     ]
    },
    {
     "data": {
      "application/vnd.jupyter.widget-view+json": {
       "model_id": "4f4f53862d384e418860cc232534884d",
       "version_major": 2,
       "version_minor": 0
      },
      "text/plain": [
       "Evaluating:   0%|          | 0/150 [00:00<?, ?it/s]"
      ]
     },
     "metadata": {},
     "output_type": "display_data"
    },
    {
     "name": "stdout",
     "output_type": "stream",
     "text": [
      "gpt-3.5-turbo 的平均相关性为 0.9534573643613293\n",
      "glm-3-turbo 的平均正确率为 0.669638676483342\n"
     ]
    },
    {
     "data": {
      "application/vnd.jupyter.widget-view+json": {
       "model_id": "08c4da44c187426a95e7f73691f3d143",
       "version_major": 2,
       "version_minor": 0
      },
      "text/plain": [
       "Evaluating:   0%|          | 0/301 [00:00<?, ?it/s]"
      ]
     },
     "metadata": {},
     "output_type": "display_data"
    },
    {
     "name": "stdout",
     "output_type": "stream",
     "text": [
      "glm-3-turbo 的平均相关性为 0.8705792999150059\n",
      "glm-4 的平均正确率为 0.6750869506710844\n"
     ]
    },
    {
     "data": {
      "application/vnd.jupyter.widget-view+json": {
       "model_id": "f3415cb11dfd41dfbb8630108fe72918",
       "version_major": 2,
       "version_minor": 0
      },
      "text/plain": [
       "Evaluating:   0%|          | 0/150 [00:00<?, ?it/s]"
      ]
     },
     "metadata": {},
     "output_type": "display_data"
    },
    {
     "name": "stdout",
     "output_type": "stream",
     "text": [
      "glm-4 的平均相关性为 0.9236573727352085\n",
      "gpt-4 的平均正确率为 0.7233910040046031\n"
     ]
    },
    {
     "data": {
      "application/vnd.jupyter.widget-view+json": {
       "model_id": "dcfe612e1f7f45baaf0b6322ffece5e5",
       "version_major": 2,
       "version_minor": 0
      },
      "text/plain": [
       "Evaluating:   0%|          | 0/100 [00:00<?, ?it/s]"
      ]
     },
     "metadata": {},
     "output_type": "display_data"
    },
    {
     "name": "stdout",
     "output_type": "stream",
     "text": [
      "gpt-4 的平均相关性为 0.9374183964924646\n",
      "gpt-3.5-turbo 的平均正确率为 0.7172538414634997\n"
     ]
    },
    {
     "data": {
      "application/vnd.jupyter.widget-view+json": {
       "model_id": "2f5605eff30f41bf97a78a74f83ba243",
       "version_major": 2,
       "version_minor": 0
      },
      "text/plain": [
       "Evaluating:   0%|          | 0/200 [00:00<?, ?it/s]"
      ]
     },
     "metadata": {},
     "output_type": "display_data"
    },
    {
     "name": "stdout",
     "output_type": "stream",
     "text": [
      "gpt-3.5-turbo 的平均相关性为 0.9487732275425365\n",
      "glm-3-turbo 的平均正确率为 0.7243878576676505\n"
     ]
    },
    {
     "data": {
      "application/vnd.jupyter.widget-view+json": {
       "model_id": "f9386dee86ee45dd88ab492d5a724b93",
       "version_major": 2,
       "version_minor": 0
      },
      "text/plain": [
       "Evaluating:   0%|          | 0/50 [00:00<?, ?it/s]"
      ]
     },
     "metadata": {},
     "output_type": "display_data"
    },
    {
     "name": "stdout",
     "output_type": "stream",
     "text": [
      "glm-3-turbo 的平均相关性为 0.8716821760360207\n",
      "glm-4 的平均正确率为 0.6665392894158921\n"
     ]
    },
    {
     "data": {
      "application/vnd.jupyter.widget-view+json": {
       "model_id": "ff9454070a0d4f4a807092f4ee7f0901",
       "version_major": 2,
       "version_minor": 0
      },
      "text/plain": [
       "Evaluating:   0%|          | 0/200 [00:00<?, ?it/s]"
      ]
     },
     "metadata": {},
     "output_type": "display_data"
    },
    {
     "name": "stdout",
     "output_type": "stream",
     "text": [
      "glm-4 的平均相关性为 0.8971390527840762\n",
      "gpt-4 的平均正确率为 0.7031153479086864\n"
     ]
    },
    {
     "data": {
      "application/vnd.jupyter.widget-view+json": {
       "model_id": "3dc1924d4489470ebf7aa41441649df3",
       "version_major": 2,
       "version_minor": 0
      },
      "text/plain": [
       "Evaluating:   0%|          | 0/150 [00:00<?, ?it/s]"
      ]
     },
     "metadata": {},
     "output_type": "display_data"
    },
    {
     "name": "stdout",
     "output_type": "stream",
     "text": [
      "gpt-4 的平均相关性为 0.912826745866102\n",
      "gpt-3.5-turbo 的平均正确率为 0.7172538414634998\n"
     ]
    },
    {
     "data": {
      "application/vnd.jupyter.widget-view+json": {
       "model_id": "9b1278457ff44176be4b7f6c38efd898",
       "version_major": 2,
       "version_minor": 0
      },
      "text/plain": [
       "Evaluating:   0%|          | 0/250 [00:00<?, ?it/s]"
      ]
     },
     "metadata": {},
     "output_type": "display_data"
    },
    {
     "name": "stdout",
     "output_type": "stream",
     "text": [
      "gpt-3.5-turbo 的平均相关性为 0.932520561319497\n",
      "glm-3-turbo 的平均正确率为 0.6622760695278005\n"
     ]
    },
    {
     "data": {
      "application/vnd.jupyter.widget-view+json": {
       "model_id": "1e297952b0054228b3d5aaec0a6fdcb0",
       "version_major": 2,
       "version_minor": 0
      },
      "text/plain": [
       "Evaluating:   0%|          | 0/100 [00:00<?, ?it/s]"
      ]
     },
     "metadata": {},
     "output_type": "display_data"
    },
    {
     "name": "stdout",
     "output_type": "stream",
     "text": [
      "glm-3-turbo 的平均相关性为 0.7726624479321589\n",
      "glm-4 的平均正确率为 0.66261851562736\n"
     ]
    },
    {
     "data": {
      "application/vnd.jupyter.widget-view+json": {
       "model_id": "4fc1323f7c9145bab74f9fa63a10601e",
       "version_major": 2,
       "version_minor": 0
      },
      "text/plain": [
       "Evaluating:   0%|          | 0/250 [00:00<?, ?it/s]"
      ]
     },
     "metadata": {},
     "output_type": "display_data"
    },
    {
     "name": "stdout",
     "output_type": "stream",
     "text": [
      "glm-4 的平均相关性为 0.8626950991994082\n",
      "gpt-4 的平均正确率为 0.7114945272738997\n"
     ]
    },
    {
     "data": {
      "application/vnd.jupyter.widget-view+json": {
       "model_id": "970ade1fbc384ceaa7680d419e88f62f",
       "version_major": 2,
       "version_minor": 0
      },
      "text/plain": [
       "Evaluating:   0%|          | 0/200 [00:00<?, ?it/s]"
      ]
     },
     "metadata": {},
     "output_type": "display_data"
    },
    {
     "name": "stdout",
     "output_type": "stream",
     "text": [
      "gpt-4 的平均相关性为 0.9248019296764315\n",
      "gpt-3.5-turbo 的平均正确率为 0.7598282588171185\n"
     ]
    },
    {
     "data": {
      "application/vnd.jupyter.widget-view+json": {
       "model_id": "2e803358ba444f34a6305099cccca785",
       "version_major": 2,
       "version_minor": 0
      },
      "text/plain": [
       "Evaluating:   0%|          | 0/50 [00:00<?, ?it/s]"
      ]
     },
     "metadata": {},
     "output_type": "display_data"
    },
    {
     "name": "stdout",
     "output_type": "stream",
     "text": [
      "gpt-3.5-turbo 的平均相关性为 0.9333726520814707\n",
      "glm-3-turbo 的平均正确率为 0.6852659988392007\n"
     ]
    },
    {
     "data": {
      "application/vnd.jupyter.widget-view+json": {
       "model_id": "1de268aefa554659b0a43d62506ec28a",
       "version_major": 2,
       "version_minor": 0
      },
      "text/plain": [
       "Evaluating:   0%|          | 0/150 [00:00<?, ?it/s]"
      ]
     },
     "metadata": {},
     "output_type": "display_data"
    },
    {
     "name": "stdout",
     "output_type": "stream",
     "text": [
      "glm-3-turbo 的平均相关性为 0.8105778282656065\n",
      "glm-4 的平均正确率为 0.7171895811646075\n"
     ]
    },
    {
     "data": {
      "application/vnd.jupyter.widget-view+json": {
       "model_id": "889711cfe9e6482cb01623fb32eea0db",
       "version_major": 2,
       "version_minor": 0
      },
      "text/plain": [
       "Evaluating:   0%|          | 0/46 [00:00<?, ?it/s]"
      ]
     },
     "metadata": {},
     "output_type": "display_data"
    },
    {
     "name": "stdout",
     "output_type": "stream",
     "text": [
      "glm-4 的平均相关性为 0.905300067264343\n"
     ]
    },
    {
     "data": {
      "text/html": [
       "<div>\n",
       "<style scoped>\n",
       "    .dataframe tbody tr th:only-of-type {\n",
       "        vertical-align: middle;\n",
       "    }\n",
       "\n",
       "    .dataframe tbody tr th {\n",
       "        vertical-align: top;\n",
       "    }\n",
       "\n",
       "    .dataframe thead th {\n",
       "        text-align: right;\n",
       "    }\n",
       "</style>\n",
       "<table border=\"1\" class=\"dataframe\">\n",
       "  <thead>\n",
       "    <tr style=\"text-align: right;\">\n",
       "      <th></th>\n",
       "      <th>AC1</th>\n",
       "      <th>AR1</th>\n",
       "      <th>AC2</th>\n",
       "      <th>AR2</th>\n",
       "      <th>AC3</th>\n",
       "      <th>AR3</th>\n",
       "      <th>AC4</th>\n",
       "      <th>AR4</th>\n",
       "      <th>AC5</th>\n",
       "      <th>AR5</th>\n",
       "      <th>AC6</th>\n",
       "      <th>AR6</th>\n",
       "    </tr>\n",
       "  </thead>\n",
       "  <tbody>\n",
       "    <tr>\n",
       "      <th>gpt-4</th>\n",
       "      <td>0.682579</td>\n",
       "      <td>0.965483</td>\n",
       "      <td>0.688086</td>\n",
       "      <td>0.962433</td>\n",
       "      <td>0.737374</td>\n",
       "      <td>0.962422</td>\n",
       "      <td>0.723391</td>\n",
       "      <td>0.937418</td>\n",
       "      <td>0.703115</td>\n",
       "      <td>0.912827</td>\n",
       "      <td>0.711495</td>\n",
       "      <td>0.924802</td>\n",
       "    </tr>\n",
       "    <tr>\n",
       "      <th>gpt-3.5-turbo</th>\n",
       "      <td>0.684071</td>\n",
       "      <td>0.960586</td>\n",
       "      <td>0.705708</td>\n",
       "      <td>0.962394</td>\n",
       "      <td>0.713766</td>\n",
       "      <td>0.953457</td>\n",
       "      <td>0.717254</td>\n",
       "      <td>0.948773</td>\n",
       "      <td>0.717254</td>\n",
       "      <td>0.932521</td>\n",
       "      <td>0.759828</td>\n",
       "      <td>0.933373</td>\n",
       "    </tr>\n",
       "    <tr>\n",
       "      <th>glm-3-turbo</th>\n",
       "      <td>0.675937</td>\n",
       "      <td>0.835894</td>\n",
       "      <td>0.670889</td>\n",
       "      <td>0.851314</td>\n",
       "      <td>0.669639</td>\n",
       "      <td>0.870579</td>\n",
       "      <td>0.724388</td>\n",
       "      <td>0.871682</td>\n",
       "      <td>0.662276</td>\n",
       "      <td>0.772662</td>\n",
       "      <td>0.685266</td>\n",
       "      <td>0.810578</td>\n",
       "    </tr>\n",
       "    <tr>\n",
       "      <th>glm-4</th>\n",
       "      <td>0.701851</td>\n",
       "      <td>0.952517</td>\n",
       "      <td>0.713632</td>\n",
       "      <td>0.920511</td>\n",
       "      <td>0.675087</td>\n",
       "      <td>0.923657</td>\n",
       "      <td>0.666539</td>\n",
       "      <td>0.897139</td>\n",
       "      <td>0.662619</td>\n",
       "      <td>0.862695</td>\n",
       "      <td>0.717190</td>\n",
       "      <td>0.905300</td>\n",
       "    </tr>\n",
       "  </tbody>\n",
       "</table>\n",
       "</div>"
      ],
      "text/plain": [
       "                    AC1       AR1       AC2       AR2       AC3       AR3  \\\n",
       "gpt-4          0.682579  0.965483  0.688086  0.962433  0.737374  0.962422   \n",
       "gpt-3.5-turbo  0.684071  0.960586  0.705708  0.962394  0.713766  0.953457   \n",
       "glm-3-turbo    0.675937  0.835894  0.670889  0.851314  0.669639  0.870579   \n",
       "glm-4          0.701851  0.952517  0.713632  0.920511  0.675087  0.923657   \n",
       "\n",
       "                    AC4       AR4       AC5       AR5       AC6       AR6  \n",
       "gpt-4          0.723391  0.937418  0.703115  0.912827  0.711495  0.924802  \n",
       "gpt-3.5-turbo  0.717254  0.948773  0.717254  0.932521  0.759828  0.933373  \n",
       "glm-3-turbo    0.724388  0.871682  0.662276  0.772662  0.685266  0.810578  \n",
       "glm-4          0.666539  0.897139  0.662619  0.862695  0.717190  0.905300  "
      ]
     },
     "execution_count": 6,
     "metadata": {},
     "output_type": "execute_result"
    }
   ],
   "source": [
    "\"\"\"\n",
    "d_lis = []\n",
    "out_df = pd.DataFrame([],index=mt,columns=d_lis)\n",
    "for i in range(1,7):\n",
    "    if i <3:\n",
    "        continue\n",
    "    d = process_Di(mt,i)\n",
    "    for _k in d.keys():\n",
    "        out_df[_k] = d[_k]\n",
    "out_df\n",
    "\n",
    "\"\"\""
   ]
  },
  {
   "cell_type": "code",
   "execution_count": 17,
   "metadata": {},
   "outputs": [
    {
     "name": "stdout",
     "output_type": "stream",
     "text": [
      "glm-4 的第6次数据存在缺失 \n"
     ]
    }
   ],
   "source": [
    "# 检查评测数据中是否存在因为网络问题产生的缺失\n",
    "for i in range(1,7):\n",
    "    for _ in mt:\n",
    "        _p = f\"eval_reasult\\\\{i}/eval_{_}.csv\"\n",
    "        df = pd.read_csv(_p)\n",
    "        has_missing_values = df['prediction'].isnull().any()\n",
    "        if has_missing_values:\n",
    "            print(f\"{_} 的第{i}次数据存在缺失 \")"
   ]
  },
  {
   "cell_type": "code",
   "execution_count": 19,
   "metadata": {},
   "outputs": [
    {
     "data": {
      "text/html": [
       "<div>\n",
       "<style scoped>\n",
       "    .dataframe tbody tr th:only-of-type {\n",
       "        vertical-align: middle;\n",
       "    }\n",
       "\n",
       "    .dataframe tbody tr th {\n",
       "        vertical-align: top;\n",
       "    }\n",
       "\n",
       "    .dataframe thead th {\n",
       "        text-align: right;\n",
       "    }\n",
       "</style>\n",
       "<table border=\"1\" class=\"dataframe\">\n",
       "  <thead>\n",
       "    <tr style=\"text-align: right;\">\n",
       "      <th></th>\n",
       "      <th>AC1</th>\n",
       "      <th>AC2</th>\n",
       "      <th>AC3</th>\n",
       "      <th>AC4</th>\n",
       "      <th>AC5</th>\n",
       "      <th>AC6</th>\n",
       "      <th>AR1</th>\n",
       "      <th>AR2</th>\n",
       "      <th>AR3</th>\n",
       "      <th>AR4</th>\n",
       "      <th>AR5</th>\n",
       "      <th>AR6</th>\n",
       "    </tr>\n",
       "  </thead>\n",
       "  <tbody>\n",
       "    <tr>\n",
       "      <th>gpt-4</th>\n",
       "      <td>0.683</td>\n",
       "      <td>0.688</td>\n",
       "      <td>0.737</td>\n",
       "      <td>0.723</td>\n",
       "      <td>0.703</td>\n",
       "      <td>0.711</td>\n",
       "      <td>0.965</td>\n",
       "      <td>0.962</td>\n",
       "      <td>0.962</td>\n",
       "      <td>0.937</td>\n",
       "      <td>0.913</td>\n",
       "      <td>0.925</td>\n",
       "    </tr>\n",
       "    <tr>\n",
       "      <th>gpt-3.5-turbo</th>\n",
       "      <td>0.684</td>\n",
       "      <td>0.706</td>\n",
       "      <td>0.714</td>\n",
       "      <td>0.717</td>\n",
       "      <td>0.717</td>\n",
       "      <td>0.760</td>\n",
       "      <td>0.961</td>\n",
       "      <td>0.962</td>\n",
       "      <td>0.953</td>\n",
       "      <td>0.949</td>\n",
       "      <td>0.933</td>\n",
       "      <td>0.933</td>\n",
       "    </tr>\n",
       "    <tr>\n",
       "      <th>glm-3-turbo</th>\n",
       "      <td>0.676</td>\n",
       "      <td>0.671</td>\n",
       "      <td>0.670</td>\n",
       "      <td>0.724</td>\n",
       "      <td>0.662</td>\n",
       "      <td>0.685</td>\n",
       "      <td>0.836</td>\n",
       "      <td>0.851</td>\n",
       "      <td>0.871</td>\n",
       "      <td>0.872</td>\n",
       "      <td>0.773</td>\n",
       "      <td>0.811</td>\n",
       "    </tr>\n",
       "    <tr>\n",
       "      <th>glm-4</th>\n",
       "      <td>0.702</td>\n",
       "      <td>0.714</td>\n",
       "      <td>0.675</td>\n",
       "      <td>0.667</td>\n",
       "      <td>0.663</td>\n",
       "      <td>0.717</td>\n",
       "      <td>0.953</td>\n",
       "      <td>0.921</td>\n",
       "      <td>0.924</td>\n",
       "      <td>0.897</td>\n",
       "      <td>0.863</td>\n",
       "      <td>0.905</td>\n",
       "    </tr>\n",
       "  </tbody>\n",
       "</table>\n",
       "</div>"
      ],
      "text/plain": [
       "                 AC1    AC2    AC3    AC4    AC5    AC6    AR1    AR2    AR3  \\\n",
       "gpt-4          0.683  0.688  0.737  0.723  0.703  0.711  0.965  0.962  0.962   \n",
       "gpt-3.5-turbo  0.684  0.706  0.714  0.717  0.717  0.760  0.961  0.962  0.953   \n",
       "glm-3-turbo    0.676  0.671  0.670  0.724  0.662  0.685  0.836  0.851  0.871   \n",
       "glm-4          0.702  0.714  0.675  0.667  0.663  0.717  0.953  0.921  0.924   \n",
       "\n",
       "                 AR4    AR5    AR6  \n",
       "gpt-4          0.937  0.913  0.925  \n",
       "gpt-3.5-turbo  0.949  0.933  0.933  \n",
       "glm-3-turbo    0.872  0.773  0.811  \n",
       "glm-4          0.897  0.863  0.905  "
      ]
     },
     "execution_count": 19,
     "metadata": {},
     "output_type": "execute_result"
    }
   ],
   "source": [
    "df = pd.read_csv(\"eval_reasult\\\\basellm_score.csv\",index_col=0)\n",
    "df"
   ]
  },
  {
   "cell_type": "code",
   "execution_count": 21,
   "metadata": {},
   "outputs": [
    {
     "name": "stdout",
     "output_type": "stream",
     "text": [
      "rag 的平均正确率为 0.6334727763571913\n"
     ]
    },
    {
     "data": {
      "application/vnd.jupyter.widget-view+json": {
       "model_id": "d522ec447ea948cda2f70cdbdefb735b",
       "version_major": 2,
       "version_minor": 0
      },
      "text/plain": [
       "Evaluating:   0%|          | 0/50 [00:00<?, ?it/s]"
      ]
     },
     "metadata": {},
     "output_type": "display_data"
    },
    {
     "name": "stdout",
     "output_type": "stream",
     "text": [
      "rag 的平均相关性为 0.981276611393622\n",
      "rag 的平均正确率为 0.5390943336555015\n"
     ]
    },
    {
     "data": {
      "application/vnd.jupyter.widget-view+json": {
       "model_id": "29dec0d2c2804be1b9b3161de85454ef",
       "version_major": 2,
       "version_minor": 0
      },
      "text/plain": [
       "Evaluating:   0%|          | 0/100 [00:00<?, ?it/s]"
      ]
     },
     "metadata": {},
     "output_type": "display_data"
    },
    {
     "name": "stdout",
     "output_type": "stream",
     "text": [
      "rag 的平均相关性为 0.7398016257310778\n",
      "rag 的平均正确率为 0.47858869667478093\n"
     ]
    },
    {
     "data": {
      "application/vnd.jupyter.widget-view+json": {
       "model_id": "481edd28673d4586b5378f01a76358f6",
       "version_major": 2,
       "version_minor": 0
      },
      "text/plain": [
       "Evaluating:   0%|          | 0/150 [00:00<?, ?it/s]"
      ]
     },
     "metadata": {},
     "output_type": "display_data"
    },
    {
     "name": "stdout",
     "output_type": "stream",
     "text": [
      "rag 的平均相关性为 0.6076840356253885\n",
      "rag 的平均正确率为 0.45921177574420613\n"
     ]
    },
    {
     "data": {
      "application/vnd.jupyter.widget-view+json": {
       "model_id": "d204de7ababc462182ce797042c2248d",
       "version_major": 2,
       "version_minor": 0
      },
      "text/plain": [
       "Evaluating:   0%|          | 0/200 [00:00<?, ?it/s]"
      ]
     },
     "metadata": {},
     "output_type": "display_data"
    },
    {
     "name": "stdout",
     "output_type": "stream",
     "text": [
      "rag 的平均相关性为 0.5890690008951945\n",
      "rag 的平均正确率为 0.42573479674141423\n"
     ]
    },
    {
     "data": {
      "application/vnd.jupyter.widget-view+json": {
       "model_id": "18def1c79c6c4adb91122a26abc72a6d",
       "version_major": 2,
       "version_minor": 0
      },
      "text/plain": [
       "Evaluating:   0%|          | 0/250 [00:00<?, ?it/s]"
      ]
     },
     "metadata": {},
     "output_type": "display_data"
    },
    {
     "name": "stdout",
     "output_type": "stream",
     "text": [
      "rag 的平均相关性为 0.5009171375999143\n",
      "rag 的平均正确率为 0.427610061819362\n"
     ]
    },
    {
     "data": {
      "application/vnd.jupyter.widget-view+json": {
       "model_id": "7c6661f2a7e54e6ea307308217e445e7",
       "version_major": 2,
       "version_minor": 0
      },
      "text/plain": [
       "Evaluating:   0%|          | 0/300 [00:00<?, ?it/s]"
      ]
     },
     "metadata": {},
     "output_type": "display_data"
    },
    {
     "name": "stdout",
     "output_type": "stream",
     "text": [
      "rag 的平均相关性为 0.512975632121791\n"
     ]
    }
   ],
   "source": [
    "\n",
    "for i in range(1,7):\n",
    "    d = process_Di(['rag'],i)\n"
   ]
  }
 ],
 "metadata": {
  "kernelspec": {
   "display_name": "EDT",
   "language": "python",
   "name": "python3"
  },
  "language_info": {
   "codemirror_mode": {
    "name": "ipython",
    "version": 3
   },
   "file_extension": ".py",
   "mimetype": "text/x-python",
   "name": "python",
   "nbconvert_exporter": "python",
   "pygments_lexer": "ipython3",
   "version": "3.11.7"
  }
 },
 "nbformat": 4,
 "nbformat_minor": 2
}
